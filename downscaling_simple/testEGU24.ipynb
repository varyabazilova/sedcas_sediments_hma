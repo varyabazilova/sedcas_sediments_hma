{
 "cells": [
  {
   "cell_type": "code",
   "execution_count": 1,
   "id": "4dfced60-a806-4255-b74f-0bbd12852e3b",
   "metadata": {},
   "outputs": [],
   "source": [
    "import os\n",
    "import pandas as pd\n",
    "import matplotlib.pyplot as plt\n",
    "\n",
    "\n",
    "# modelling part\n",
    "from run import run\n"
   ]
  },
  {
   "cell_type": "markdown",
   "id": "790c86eb-9c82-4e0d-964d-b696b7ed5cc5",
   "metadata": {},
   "source": [
    "# test egu24\n"
   ]
  },
  {
   "cell_type": "code",
   "execution_count": 4,
   "id": "466eb3a9-08aa-4702-aa9a-6e0a29d54cd4",
   "metadata": {},
   "outputs": [
    {
     "ename": "FileNotFoundError",
     "evalue": "[Errno 2] No such file or directory: '/Users/varyabazilova/Desktop/paper2/downscaling_simple/supply_limited/climatepath'",
     "output_type": "error",
     "traceback": [
      "\u001b[0;31m---------------------------------------------------------------------------\u001b[0m",
      "\u001b[0;31mFileNotFoundError\u001b[0m                         Traceback (most recent call last)",
      "\u001b[0;32m/var/folders/31/xdyntby945q7564txk4rqyh40000gp/T/ipykernel_33064/1557071224.py\u001b[0m in \u001b[0;36m<module>\u001b[0;34m\u001b[0m\n\u001b[1;32m      6\u001b[0m \u001b[0;31m# get all folders togetehr\u001b[0m\u001b[0;34m\u001b[0m\u001b[0;34m\u001b[0m\u001b[0m\n\u001b[1;32m      7\u001b[0m \u001b[0;31m# ls_ = os.listdir('./langtang')\u001b[0m\u001b[0;34m\u001b[0m\u001b[0;34m\u001b[0m\u001b[0m\n\u001b[0;32m----> 8\u001b[0;31m \u001b[0mls_\u001b[0m \u001b[0;34m=\u001b[0m \u001b[0mos\u001b[0m\u001b[0;34m.\u001b[0m\u001b[0mlistdir\u001b[0m\u001b[0;34m(\u001b[0m\u001b[0mclimatepath\u001b[0m\u001b[0;34m)\u001b[0m\u001b[0;34m\u001b[0m\u001b[0;34m\u001b[0m\u001b[0m\n\u001b[0m\u001b[1;32m      9\u001b[0m \u001b[0mls\u001b[0m \u001b[0;34m=\u001b[0m \u001b[0;34m[\u001b[0m\u001b[0md\u001b[0m \u001b[0;32mfor\u001b[0m \u001b[0md\u001b[0m \u001b[0;32min\u001b[0m \u001b[0mls_\u001b[0m \u001b[0;32mif\u001b[0m \u001b[0;32mnot\u001b[0m \u001b[0md\u001b[0m\u001b[0;34m.\u001b[0m\u001b[0mstartswith\u001b[0m\u001b[0;34m(\u001b[0m\u001b[0;34m'.'\u001b[0m\u001b[0;34m)\u001b[0m\u001b[0;34m]\u001b[0m\u001b[0;34m\u001b[0m\u001b[0;34m\u001b[0m\u001b[0m\n\u001b[1;32m     10\u001b[0m \u001b[0mdir0\u001b[0m \u001b[0;34m=\u001b[0m \u001b[0mos\u001b[0m\u001b[0;34m.\u001b[0m\u001b[0mgetcwd\u001b[0m\u001b[0;34m(\u001b[0m\u001b[0;34m)\u001b[0m\u001b[0;34m\u001b[0m\u001b[0;34m\u001b[0m\u001b[0m\n",
      "\u001b[0;31mFileNotFoundError\u001b[0m: [Errno 2] No such file or directory: '/Users/varyabazilova/Desktop/paper2/downscaling_simple/supply_limited/climatepath'"
     ]
    }
   ],
   "source": [
    "\n",
    "import os\n",
    "from run import run\n",
    "\n",
    "climatepath = '/Users/varyabazilova/Desktop/paper2/downscaling_simple/supply_limited/climatepath'\n",
    "\n",
    "# get all folders togetehr \n",
    "# ls_ = os.listdir('./langtang')\n",
    "ls_ = os.listdir(climatepath)\n",
    "ls = [d for d in ls_ if not d.startswith('.')]\n",
    "dir0 = os.getcwd()\n",
    "\n",
    "# run the model for each\n",
    "for d in ls:\n",
    "    path = os.path.join(dir0, 'langtang_annual_mean', d)\n",
    "    print(path)\n",
    "    os.chdir(path)\n",
    "    run()\n",
    "    os.chdir(dir0)\n"
   ]
  },
  {
   "cell_type": "code",
   "execution_count": null,
   "id": "832ae8ed-85e8-466a-98ef-08fbe8325923",
   "metadata": {},
   "outputs": [],
   "source": []
  },
  {
   "cell_type": "code",
   "execution_count": null,
   "id": "d107f5dc-575c-4805-a497-b7f32e0a13b0",
   "metadata": {},
   "outputs": [],
   "source": []
  }
 ],
 "metadata": {
  "kernelspec": {
   "display_name": "Python [conda env:sedcas] *",
   "language": "python",
   "name": "conda-env-sedcas-py"
  },
  "language_info": {
   "codemirror_mode": {
    "name": "ipython",
    "version": 3
   },
   "file_extension": ".py",
   "mimetype": "text/x-python",
   "name": "python",
   "nbconvert_exporter": "python",
   "pygments_lexer": "ipython3",
   "version": "3.9.7"
  }
 },
 "nbformat": 4,
 "nbformat_minor": 5
}
