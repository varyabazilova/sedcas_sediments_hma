import xarray as xr
import pandas as pd
import matplotlib.pyplot as plt





path = '/Users/varyabazilova/Desktop/paper2/downscaling_simple/transport_limited/langtang/'
df = pd.read_csv(path + 'langtang_tl_percentiles_with_coors.csv')
# len(df.columns)
df.columns


ds = df.set_index(['Latitude', 'Longitude']).to_xarray()



ds.annual_50percent_Qstl_m3_day.plot()



import matplotlib.pyplot as plt
import math

# Assuming ds is a Dataset object from xarray
num_vars = len(ds.data_vars)
cols = 3  # Number of columns for subplots
rows = math.ceil(num_vars / cols)  # Calculate number of rows

fig, axs = plt.subplots(rows, cols, figsize=(15, 5*rows))  # Adjust figsize as needed

# Flatten the axs array to iterate over subplots properly
axs = axs.flatten()

for i, (var_name, var_data) in enumerate(ds.items()):
    # Plotting on the ith axis
    var_data.plot(ax=axs[i])
    axs[i].set_title(var_name)

# Hide empty subplots
for i in range(num_vars, len(axs)):
    axs[i].axis('off')

plt.tight_layout()
plt.show()



fig = plt.figure(figsize=(15, 10))
mosaic = fig.subplot_mosaic('''
                            ab
                            cd
                            ''')

ds.annual_50percent_Qstl_m3_day.plot(ax=mosaic['a'])
ds.annual_25percent_Qstl_m3_day.plot(ax=mosaic['b'])
ds.annual_50percent_Qstl_m3_day.plot(ax=mosaic['c'])
ds.annual_75percent_Qstl_m3_day.plot(ax=mosaic['d'])

plt.tight_layout()






path = '/Users/varyabazilova/Desktop/paper2/downscaling_simple/'

Sed_tl = pd.read_csv(path + 'transport_limited/langtang/cellnr21/Sediment.out')

Sed_mean      = pd.read_csv(path + 'supply_limited/langtang_annual_mean/cellnr21/Sediment.out')
Sed_percent25 = pd.read_csv(path + 'supply_limited/langtang_annuall_mean25percent/cellnr21/Sediment.out')
Sed_percent50 = pd.read_csv(path + 'supply_limited/langtang_annuall_mean50percent/cellnr21/Sediment.out')
Sed_percent75 = pd.read_csv(path + 'supply_limited/langtang_annuall_mean75percent/cellnr21/Sediment.out')



# Sed_percent50.head()





plt.figure(figsize = (25, 5))

Sed_tl.Qstl.plot(label = 'Qstl')

Sed_percent25.Q100.plot(label = '25%')
Sed_percent50.Q100.plot(label = '50%')
Sed_percent75.Q100.plot(label = '75%')

plt.legend()





def annual_sum_mean(df):
    df['D'] = pd.to_datetime(df['D'])
    df['Year'] = df['D'].dt.year
    annual_sum = df.groupby('Year').sum()
    # annual_mean = annual_sum.Qstl.mean()
    return annual_sum


def annual_sum_mean_percent(df):
    df['D'] = pd.to_datetime(df['D'])
    df['Year'] = df['D'].dt.year
    annual_sum = df.groupby('Year').sum()
    # annual_mean = annual_sum.Q100.mean()
    return annual_sum


Sed_mean_mean_annual      = annual_sum_mean(Sed_mean)
Sed_percent25_mean_annual = annual_sum_mean_percent(Sed_percent25)
Sed_percent50_mean_annual = annual_sum_mean_percent(Sed_percent50)
Sed_percent75_mean_annual = annual_sum_mean_percent(Sed_percent75)


# Sed_mean_mean_annual



plt.figure(figsize=(25,5))

# transport limited
plt.bar(height = Sed_mean_mean_annual.Qstl, x = Sed_mean_mean_annual.index, color = 'magenta', label = 'Qstl')

# sediment limited
plt.bar(height = Sed_percent25_mean_annual.Q100, x = Sed_percent25_mean_annual.index, color = 'yellow', alpha = 0.5, label = '25% Q100')
plt.bar(height = Sed_percent50_mean_annual.Q100, x = Sed_percent50_mean_annual.index, color = 'lime', alpha = 0.5, label = '50% Q100')
plt.bar(height = Sed_percent75_mean_annual.Q100, x = Sed_percent75_mean_annual.index, color = 'green', alpha = 0.5, label = '75% Q100')

plt.legend()






def monthly_sum_mean(df):
    df['D'] = pd.to_datetime(df['D'])
    df['Month'] = df['D'].dt.month
    monthly_sum = df.groupby('Month').sum()
    monthly_mean = monthly_sum.Qstl.mean()
    return monthly_mean

def monthly_sum_mean_percent(df):
    df['D'] = pd.to_datetime(df['D'])
    df['Month'] = df['D'].dt.month
    monthly_sum = df.groupby('Month').sum()
    monthly_mean = monthly_sum.Q100.mean()
    return monthly_mean


Sed_mean_mean_monthly      = monthly_sum_mean(Sed_mean)
Sed_percent25_mean_monthly = monthly_sum_mean_percent(Sed_percent25)
Sed_percent50_mean_monthly = monthly_sum_mean_percent(Sed_percent50)
Sed_percent75_mean_monthly = monthly_sum_mean_percent(Sed_percent75)




Sed_percent75_mean_monthly



