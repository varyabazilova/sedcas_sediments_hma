import pandas as pd
import numpy as np
import matplotlib.pyplot as plt


path = '/Users/varyabazilova/Desktop/paper2/downscaling_simple/'

Sed_tl = pd.read_csv(path + 'transport_limited/langtang/cellnr21/Sediment.out')

Sed_mean      = pd.read_csv(path + 'supply_limited/langtang_annual_mean/cellnr22/Sediment.out')
Sed_percent25 = pd.read_csv(path + 'supply_limited/langtang_annuall_mean25percent/cellnr21/Sediment.out')
Sed_percent50 = pd.read_csv(path + 'supply_limited/langtang_annuall_mean50percent/cellnr21/Sediment.out')
Sed_percent75 = pd.read_csv(path + 'supply_limited/langtang_annuall_mean75percent/cellnr21/Sediment.out')



Sed_mean


hourly_data = Sed_mean
# Convert the 'datetime' column to datetime format if it's not already in that format
hourly_data['D'] = pd.to_datetime(hourly_data['D'])

# Set 'datetime' column as the index
hourly_data.set_index('D', inplace=True)

# Resample to monthly sums within each year
monthly_sums = hourly_data.resample('M').sum()

# Calculate the mean monthly sum across all the years for each month
mean_monthly_sum = monthly_sums.groupby(monthly_sums.index.month).mean()
mean_monthly_sum


plt.figure(figsize=(25,5))

# transport limited
plt.bar(height = mean_monthly_sum.Qstl, x = mean_monthly_sum.index, color = 'magenta', label = 'Qs transport limited')
plt.bar(height = mean_monthly_sum.Qstl, x = mean_monthly_sum.index, color = 'magenta', label = 'Qs transport limited')




