{
 "cells": [
  {
   "cell_type": "markdown",
   "id": "ca29bfe7-b220-4ac4-a66b-26047682274b",
   "metadata": {},
   "source": [
    "- iterate over the cells\n",
    "- save hydrology and sediments\n",
    "- make sure to save the ls, sc\n",
    "\n",
    "1. Experiment 1: GLACIERS\n",
    "   \n",
    "   surface types shares: forest/bedrock/glaciers [0.4, 0.5, 0.1]\n",
    "\n",
    "   \n",
    "-- to make changes in the model go to run.py, SedCas_glacier_sed.py (model) or modules.py (modules)"
   ]
  },
  {
   "cell_type": "code",
   "execution_count": 1,
   "id": "85489874-8726-469e-b73c-65dd7648752a",
   "metadata": {},
   "outputs": [],
   "source": [
    "import os\n",
    "import pandas as pd\n",
    "import matplotlib.pyplot as plt\n",
    "\n",
    "\n",
    "# modelling part\n",
    "from run import run\n"
   ]
  },
  {
   "cell_type": "markdown",
   "id": "3d4941b0-4c17-46bb-9e22-7b67ed03562e",
   "metadata": {},
   "source": [
    "# transport limited case (=sediment unlimited): calculate how much sediment there MAY be"
   ]
  },
  {
   "cell_type": "code",
   "execution_count": 2,
   "id": "a562fc43-371d-4c30-b31f-70649863cc63",
   "metadata": {},
   "outputs": [
    {
     "name": "stdout",
     "output_type": "stream",
     "text": [
      "/Users/varyabazilova/Desktop/paper2/downscaling_simple/transport_limited_glaciers/langtang/cellnr29\n",
      "running sediment module...\n"
     ]
    },
    {
     "name": "stderr",
     "output_type": "stream",
     "text": [
      "100%|█████████████████████████████████████████████| 1/1 [00:01<00:00,  1.63s/it]\n"
     ]
    },
    {
     "name": "stdout",
     "output_type": "stream",
     "text": [
      "saving output...\n",
      "/Users/varyabazilova/Desktop/paper2/downscaling_simple/transport_limited_glaciers/langtang/cellnr20\n",
      "running sediment module...\n"
     ]
    },
    {
     "name": "stderr",
     "output_type": "stream",
     "text": [
      "100%|█████████████████████████████████████████████| 1/1 [00:01<00:00,  1.58s/it]\n"
     ]
    },
    {
     "name": "stdout",
     "output_type": "stream",
     "text": [
      "saving output...\n",
      "/Users/varyabazilova/Desktop/paper2/downscaling_simple/transport_limited_glaciers/langtang/cellnr19\n",
      "running sediment module...\n"
     ]
    },
    {
     "name": "stderr",
     "output_type": "stream",
     "text": [
      "100%|█████████████████████████████████████████████| 1/1 [00:01<00:00,  1.71s/it]\n"
     ]
    },
    {
     "name": "stdout",
     "output_type": "stream",
     "text": [
      "saving output...\n",
      "/Users/varyabazilova/Desktop/paper2/downscaling_simple/transport_limited_glaciers/langtang/cellnr21\n",
      "running sediment module...\n"
     ]
    },
    {
     "name": "stderr",
     "output_type": "stream",
     "text": [
      "100%|█████████████████████████████████████████████| 1/1 [00:01<00:00,  1.58s/it]\n"
     ]
    },
    {
     "name": "stdout",
     "output_type": "stream",
     "text": [
      "saving output...\n",
      "/Users/varyabazilova/Desktop/paper2/downscaling_simple/transport_limited_glaciers/langtang/cellnr28\n",
      "running sediment module...\n"
     ]
    },
    {
     "name": "stderr",
     "output_type": "stream",
     "text": [
      "100%|█████████████████████████████████████████████| 1/1 [00:01<00:00,  1.61s/it]\n"
     ]
    },
    {
     "name": "stdout",
     "output_type": "stream",
     "text": [
      "saving output...\n",
      "/Users/varyabazilova/Desktop/paper2/downscaling_simple/transport_limited_glaciers/langtang/cellnr12\n",
      "running sediment module...\n"
     ]
    },
    {
     "name": "stderr",
     "output_type": "stream",
     "text": [
      "100%|█████████████████████████████████████████████| 1/1 [00:01<00:00,  1.61s/it]\n"
     ]
    },
    {
     "name": "stdout",
     "output_type": "stream",
     "text": [
      "saving output...\n",
      "/Users/varyabazilova/Desktop/paper2/downscaling_simple/transport_limited_glaciers/langtang/cellnr23\n",
      "running sediment module...\n"
     ]
    },
    {
     "name": "stderr",
     "output_type": "stream",
     "text": [
      "100%|█████████████████████████████████████████████| 1/1 [00:01<00:00,  1.54s/it]\n"
     ]
    },
    {
     "name": "stdout",
     "output_type": "stream",
     "text": [
      "saving output...\n",
      "/Users/varyabazilova/Desktop/paper2/downscaling_simple/transport_limited_glaciers/langtang/cellnr22\n",
      "running sediment module...\n"
     ]
    },
    {
     "name": "stderr",
     "output_type": "stream",
     "text": [
      "100%|█████████████████████████████████████████████| 1/1 [00:01<00:00,  1.54s/it]\n"
     ]
    },
    {
     "name": "stdout",
     "output_type": "stream",
     "text": [
      "saving output...\n",
      "/Users/varyabazilova/Desktop/paper2/downscaling_simple/transport_limited_glaciers/langtang/cellnr13\n",
      "running sediment module...\n"
     ]
    },
    {
     "name": "stderr",
     "output_type": "stream",
     "text": [
      "100%|█████████████████████████████████████████████| 1/1 [00:01<00:00,  1.63s/it]\n"
     ]
    },
    {
     "name": "stdout",
     "output_type": "stream",
     "text": [
      "saving output...\n",
      "/Users/varyabazilova/Desktop/paper2/downscaling_simple/transport_limited_glaciers/langtang/cellnr14\n",
      "running sediment module...\n"
     ]
    },
    {
     "name": "stderr",
     "output_type": "stream",
     "text": [
      "100%|█████████████████████████████████████████████| 1/1 [00:01<00:00,  1.63s/it]\n"
     ]
    },
    {
     "name": "stdout",
     "output_type": "stream",
     "text": [
      "saving output...\n",
      "/Users/varyabazilova/Desktop/paper2/downscaling_simple/transport_limited_glaciers/langtang/cellnr31\n",
      "running sediment module...\n"
     ]
    },
    {
     "name": "stderr",
     "output_type": "stream",
     "text": [
      "100%|█████████████████████████████████████████████| 1/1 [00:01<00:00,  1.53s/it]\n"
     ]
    },
    {
     "name": "stdout",
     "output_type": "stream",
     "text": [
      "saving output...\n",
      "/Users/varyabazilova/Desktop/paper2/downscaling_simple/transport_limited_glaciers/langtang/cellnr38\n",
      "running sediment module...\n"
     ]
    },
    {
     "name": "stderr",
     "output_type": "stream",
     "text": [
      "100%|█████████████████████████████████████████████| 1/1 [00:01<00:00,  1.53s/it]\n"
     ]
    },
    {
     "name": "stdout",
     "output_type": "stream",
     "text": [
      "saving output...\n",
      "/Users/varyabazilova/Desktop/paper2/downscaling_simple/transport_limited_glaciers/langtang/cellnr30\n",
      "running sediment module...\n"
     ]
    },
    {
     "name": "stderr",
     "output_type": "stream",
     "text": [
      "100%|█████████████████████████████████████████████| 1/1 [00:01<00:00,  1.56s/it]\n"
     ]
    },
    {
     "name": "stdout",
     "output_type": "stream",
     "text": [
      "saving output...\n"
     ]
    },
    {
     "data": {
      "image/png": "[encoded data removed]",
      "text/plain": [
       "<Figure size 432x288 with 1 Axes>"
      ]
     },
     "metadata": {
      "needs_background": "light"
     },
     "output_type": "display_data"
    },
    {
     "data": {
      "image/png": "[encoded data removed]",
      "text/plain": [
       "<Figure size 432x288 with 1 Axes>"
      ]
     },
     "metadata": {
      "needs_background": "light"
     },
     "output_type": "display_data"
    },
    {
     "data": {
      "image/png": "[encoded data removed]",
      "text/plain": [
       "<Figure size 432x288 with 1 Axes>"
      ]
     },
     "metadata": {
      "needs_background": "light"
     },
     "output_type": "display_data"
    },
    {
     "data": {
      "image/png": "[encoded data removed]",
      "text/plain": [
       "<Figure size 432x288 with 1 Axes>"
      ]
     },
     "metadata": {
      "needs_background": "light"
     },
     "output_type": "display_data"
    },
    {
     "data": {
      "image/png": "[encoded data removed]",
      "text/plain": [
       "<Figure size 432x288 with 1 Axes>"
      ]
     },
     "metadata": {
      "needs_background": "light"
     },
     "output_type": "display_data"
    },
    {
     "data": {
      "image/png": "[encoded data removed]",
      "text/plain": [
       "<Figure size 432x288 with 1 Axes>"
      ]
     },
     "metadata": {
      "needs_background": "light"
     },
     "output_type": "display_data"
    },
    {
     "data": {
      "image/png": "[encoded data removed]",
      "text/plain": [
       "<Figure size 432x288 with 1 Axes>"
      ]
     },
     "metadata": {
      "needs_background": "light"
     },
     "output_type": "display_data"
    },
    {
     "data": {
      "image/png": "[encoded data removed]",
      "text/plain": [
       "<Figure size 432x288 with 1 Axes>"
      ]
     },
     "metadata": {
      "needs_background": "light"
     },
     "output_type": "display_data"
    },
    {
     "data": {
      "image/png": "[encoded data removed]",
      "text/plain": [
       "<Figure size 432x288 with 1 Axes>"
      ]
     },
     "metadata": {
      "needs_background": "light"
     },
     "output_type": "display_data"
    },
    {
     "data": {
      "image/png": "[encoded data removed]",
      "text/plain": [
       "<Figure size 432x288 with 1 Axes>"
      ]
     },
     "metadata": {
      "needs_background": "light"
     },
     "output_type": "display_data"
    },
    {
     "data": {
      "image/png": "[encoded data removed]",
      "text/plain": [
       "<Figure size 432x288 with 1 Axes>"
      ]
     },
     "metadata": {
      "needs_background": "light"
     },
     "output_type": "display_data"
    },
    {
     "data": {
      "image/png": "[encoded data removed]",
      "text/plain": [
       "<Figure size 432x288 with 1 Axes>"
      ]
     },
     "metadata": {
      "needs_background": "light"
     },
     "output_type": "display_data"
    },
    {
     "data": {
      "image/png": "[encoded data removed]",
      "text/plain": [
       "<Figure size 432x288 with 1 Axes>"
      ]
     },
     "metadata": {
      "needs_background": "light"
     },
     "output_type": "display_data"
    }
   ],
   "source": [
    "\n",
    "import os\n",
    "from run import run\n",
    "\n",
    "climatepath = '/Users/varyabazilova/Desktop/paper2/downscaling_simple/transport_limited_glaciers/langtang'\n",
    "\n",
    "# get all folders togetehr \n",
    "# ls_ = os.listdir('./langtang')\n",
    "ls_ = os.listdir(climatepath)\n",
    "ls = [d for d in ls_ if not d.startswith('.')]\n",
    "dir0 = os.getcwd()\n",
    "\n",
    "# run the model for each\n",
    "for d in ls:\n",
    "    path = os.path.join(dir0, 'langtang', d)\n",
    "    print(path)\n",
    "    os.chdir(path)\n",
    "    run()\n",
    "    os.chdir(dir0)\n"
   ]
  },
  {
   "cell_type": "markdown",
   "id": "877b626a-996c-401f-abad-ad2f098725bb",
   "metadata": {},
   "source": [
    "# how much sediment is exported per year in the transport limited case (= unlimited amount of sedoments) ?"
   ]
  },
  {
   "cell_type": "code",
   "execution_count": null,
   "id": "add6405c-c3d9-48f4-aa57-7fe1879a94df",
   "metadata": {},
   "outputs": [],
   "source": [
    "# for each output sediment folder calculate the total annual \n",
    "# go over each folder \n",
    "# take Sediment out file \n",
    "# calculate annual mean\n",
    "# save into the table, where the table has: cellnr, mean annual sed yeald"
   ]
  },
  {
   "cell_type": "code",
   "execution_count": 3,
   "id": "6cc98c4f-7b6e-4932-9b4f-09bb8ff9d644",
   "metadata": {},
   "outputs": [],
   "source": [
    "\n",
    "# Define your custom function\n",
    "def annual_sum_mean(df):\n",
    "    df['D'] = pd.to_datetime(df['D'])\n",
    "    df['Year'] = df['D'].dt.year\n",
    "    annual_sum = df.groupby('Year').sum()\n",
    "    annual_mean_Qstl = annual_sum.Qstl.mean()\n",
    "    return annual_mean_Qstl\n",
    "\n",
    "def annual_sum_percentile(df, percentile):\n",
    "    df['D'] = pd.to_datetime(df['D'])\n",
    "    df['Year'] = df['D'].dt.year\n",
    "    annual_sum = df.groupby('Year').sum()\n",
    "    annual_percentile_Qstl = annual_sum.Qstl.quantile(percentile / 100)\n",
    "    return annual_percentile_Qstl\n"
   ]
  },
  {
   "cell_type": "code",
   "execution_count": 4,
   "id": "bffc0df4-5a2f-4bf2-a7d2-b10813ff31cd",
   "metadata": {},
   "outputs": [],
   "source": [
    "\n",
    "# Path to the directory containing your folders\n",
    "directory_path = '/Users/varyabazilova/Desktop/paper2/downscaling_simple/transport_limited_glaciers/langtang'\n",
    "\n",
    "# an empty table to store results\n",
    "mean_annual_sum = []\n",
    "mean_annual_25 = []\n",
    "mean_annual_50 = []\n",
    "mean_annual_75 = []\n",
    "\n",
    "# Iterate over each folder\n",
    "for folder_name in os.listdir(directory_path):\n",
    "    folder_path = os.path.join(directory_path, folder_name)\n",
    "    \n",
    "    # Check if it's a directory and its name starts with 'cellnr'\n",
    "    if os.path.isdir(folder_path) and folder_name.startswith('cellnr'):\n",
    "        # Locate the 'sediment.out' file within the folder\n",
    "        sediment_out_path = os.path.join(folder_path, 'Sediment.out')\n",
    "        \n",
    "        # Read the contents of the file into a pandas DataFrame\n",
    "        df = pd.read_csv(sediment_out_path, delimiter=',')  # Adjust delimiter if needed\n",
    "        # mean:\n",
    "        mean_annual_sum_value = annual_sum_mean(df)\n",
    "        # percentiles:\n",
    "        mean_annual_25_value = annual_sum_percentile(df, 25)\n",
    "        mean_annual_50_value = annual_sum_percentile(df, 50)\n",
    "        mean_annual_75_value = annual_sum_percentile(df, 75)\n",
    "\n",
    "        \n",
    "        # Save the DataFrame into the results table\n",
    "        mean_annual_sum.append((int(folder_name.replace('cellnr', '')), mean_annual_sum_value))\n",
    "        mean_annual_25.append((int(folder_name.replace('cellnr', '')), mean_annual_25_value))\n",
    "        mean_annual_50.append((int(folder_name.replace('cellnr', '')), mean_annual_50_value))\n",
    "        mean_annual_75.append((int(folder_name.replace('cellnr', '')), mean_annual_75_value))\n",
    "\n",
    "# make table\n",
    "mean_annual_sum_df = pd.DataFrame(mean_annual_sum, columns=['cellnr', 'annual_mean_Qstl_mm']).set_index('cellnr')\n",
    "mean_annual_25_df = pd.DataFrame(mean_annual_25, columns=['cellnr', 'annual_25percent_Qstl_mm']).set_index('cellnr')#, inplace=True)\n",
    "mean_annual_50_df = pd.DataFrame(mean_annual_50, columns=['cellnr', 'annual_50percent_Qstl_mm']).set_index('cellnr')#, inplace=True)\n",
    "mean_annual_75_df = pd.DataFrame(mean_annual_75, columns=['cellnr', 'annual_75percent_Qstl_mm']).set_index('cellnr')#, inplace=True)\n",
    "\n",
    "# merge together\n",
    "merged_df = pd.concat([mean_annual_sum_df, mean_annual_25_df, mean_annual_50_df, mean_annual_75_df], axis=1)\n"
   ]
  },
  {
   "cell_type": "code",
   "execution_count": 5,
   "id": "2aec7184-f6e8-4903-b0ef-a9b28b94b6e1",
   "metadata": {},
   "outputs": [],
   "source": [
    "# mean_annual_sum_df['annual_mean_Qstl_m'] = mean_annual_sum_df.annual_mean_Qstl_mm/1000     # [sediments mm to m] \n",
    "# mean_annual_sum_df['annual_mean_Qstl_m3'] = mean_annual_sum_df.annual_mean_Qstl_m * 4.83*(10**6)   # [sediments [m] * area [m2]\n"
   ]
  },
  {
   "cell_type": "code",
   "execution_count": 6,
   "id": "9afe1cb7-d587-4554-90e4-17d1d537fb3f",
   "metadata": {},
   "outputs": [],
   "source": [
    "for column in merged_df.columns:\n",
    "    # for the columns with _mm in it\n",
    "    if '_mm' in column:\n",
    "        # Replace '_mm' with '_m3' and create a new column\n",
    "        new_column_name = column.replace('_mm', '_m3')\n",
    "        # convert to m3: 1) [sediments mm to m] 2) [sediments [m] * area [m2]\n",
    "        merged_df[new_column_name] = (merged_df[column] / 1000) * 4.83 * (10 ** 6)\n",
    "                "
   ]
  },
  {
   "cell_type": "code",
   "execution_count": null,
   "id": "ebe64023-50af-48c4-b7ea-2e4b153c6009",
   "metadata": {},
   "outputs": [],
   "source": []
  },
  {
   "cell_type": "code",
   "execution_count": 7,
   "id": "16ce2c12-ab3b-41ad-9610-bf5cdd7349d5",
   "metadata": {},
   "outputs": [
    {
     "data": {
      "text/html": [
       "<div>\n",
       "<style scoped>\n",
       "    .dataframe tbody tr th:only-of-type {\n",
       "        vertical-align: middle;\n",
       "    }\n",
       "\n",
       "    .dataframe tbody tr th {\n",
       "        vertical-align: top;\n",
       "    }\n",
       "\n",
       "    .dataframe thead th {\n",
       "        text-align: right;\n",
       "    }\n",
       "</style>\n",
       "<table border=\"1\" class=\"dataframe\">\n",
       "  <thead>\n",
       "    <tr style=\"text-align: right;\">\n",
       "      <th></th>\n",
       "      <th>annual_mean_Qstl_mm</th>\n",
       "      <th>annual_25percent_Qstl_mm</th>\n",
       "      <th>annual_50percent_Qstl_mm</th>\n",
       "      <th>annual_75percent_Qstl_mm</th>\n",
       "      <th>annual_mean_Qstl_m3</th>\n",
       "      <th>annual_25percent_Qstl_m3</th>\n",
       "      <th>annual_50percent_Qstl_m3</th>\n",
       "      <th>annual_75percent_Qstl_m3</th>\n",
       "    </tr>\n",
       "    <tr>\n",
       "      <th>cellnr</th>\n",
       "      <th></th>\n",
       "      <th></th>\n",
       "      <th></th>\n",
       "      <th></th>\n",
       "      <th></th>\n",
       "      <th></th>\n",
       "      <th></th>\n",
       "      <th></th>\n",
       "    </tr>\n",
       "  </thead>\n",
       "  <tbody>\n",
       "    <tr>\n",
       "      <th>29</th>\n",
       "      <td>0.000600</td>\n",
       "      <td>0.000000</td>\n",
       "      <td>0.000000</td>\n",
       "      <td>0.000000</td>\n",
       "      <td>2.898119</td>\n",
       "      <td>0.000000</td>\n",
       "      <td>0.000000</td>\n",
       "      <td>0.000000</td>\n",
       "    </tr>\n",
       "    <tr>\n",
       "      <th>20</th>\n",
       "      <td>40.363147</td>\n",
       "      <td>10.657493</td>\n",
       "      <td>29.169358</td>\n",
       "      <td>53.311292</td>\n",
       "      <td>194953.999109</td>\n",
       "      <td>51475.691430</td>\n",
       "      <td>140887.997945</td>\n",
       "      <td>257493.539068</td>\n",
       "    </tr>\n",
       "    <tr>\n",
       "      <th>19</th>\n",
       "      <td>96.917112</td>\n",
       "      <td>46.876654</td>\n",
       "      <td>77.123271</td>\n",
       "      <td>115.597934</td>\n",
       "      <td>468109.650762</td>\n",
       "      <td>226414.237571</td>\n",
       "      <td>372505.401251</td>\n",
       "      <td>558338.019852</td>\n",
       "    </tr>\n",
       "    <tr>\n",
       "      <th>21</th>\n",
       "      <td>36.600320</td>\n",
       "      <td>10.207798</td>\n",
       "      <td>26.388491</td>\n",
       "      <td>47.609355</td>\n",
       "      <td>176779.546569</td>\n",
       "      <td>49303.665560</td>\n",
       "      <td>127456.411629</td>\n",
       "      <td>229953.183048</td>\n",
       "    </tr>\n",
       "    <tr>\n",
       "      <th>28</th>\n",
       "      <td>36.636451</td>\n",
       "      <td>12.874247</td>\n",
       "      <td>30.803177</td>\n",
       "      <td>46.234860</td>\n",
       "      <td>176954.060695</td>\n",
       "      <td>62182.614299</td>\n",
       "      <td>148779.344653</td>\n",
       "      <td>223314.372085</td>\n",
       "    </tr>\n",
       "    <tr>\n",
       "      <th>12</th>\n",
       "      <td>104.952380</td>\n",
       "      <td>36.780859</td>\n",
       "      <td>74.311308</td>\n",
       "      <td>126.801460</td>\n",
       "      <td>506919.993963</td>\n",
       "      <td>177651.549488</td>\n",
       "      <td>358923.617395</td>\n",
       "      <td>612451.051832</td>\n",
       "    </tr>\n",
       "    <tr>\n",
       "      <th>23</th>\n",
       "      <td>0.000000</td>\n",
       "      <td>0.000000</td>\n",
       "      <td>0.000000</td>\n",
       "      <td>0.000000</td>\n",
       "      <td>0.000000</td>\n",
       "      <td>0.000000</td>\n",
       "      <td>0.000000</td>\n",
       "      <td>0.000000</td>\n",
       "    </tr>\n",
       "    <tr>\n",
       "      <th>22</th>\n",
       "      <td>0.000699</td>\n",
       "      <td>0.000000</td>\n",
       "      <td>0.000000</td>\n",
       "      <td>0.000000</td>\n",
       "      <td>3.373845</td>\n",
       "      <td>0.000000</td>\n",
       "      <td>0.000000</td>\n",
       "      <td>0.000000</td>\n",
       "    </tr>\n",
       "    <tr>\n",
       "      <th>13</th>\n",
       "      <td>123.849746</td>\n",
       "      <td>61.704303</td>\n",
       "      <td>102.144786</td>\n",
       "      <td>162.124506</td>\n",
       "      <td>598194.272532</td>\n",
       "      <td>298031.781970</td>\n",
       "      <td>493359.318057</td>\n",
       "      <td>783061.361929</td>\n",
       "    </tr>\n",
       "    <tr>\n",
       "      <th>14</th>\n",
       "      <td>98.016411</td>\n",
       "      <td>48.311862</td>\n",
       "      <td>80.061861</td>\n",
       "      <td>122.071879</td>\n",
       "      <td>473419.266020</td>\n",
       "      <td>233346.292170</td>\n",
       "      <td>386698.788924</td>\n",
       "      <td>589607.176162</td>\n",
       "    </tr>\n",
       "    <tr>\n",
       "      <th>31</th>\n",
       "      <td>0.000000</td>\n",
       "      <td>0.000000</td>\n",
       "      <td>0.000000</td>\n",
       "      <td>0.000000</td>\n",
       "      <td>0.000000</td>\n",
       "      <td>0.000000</td>\n",
       "      <td>0.000000</td>\n",
       "      <td>0.000000</td>\n",
       "    </tr>\n",
       "    <tr>\n",
       "      <th>38</th>\n",
       "      <td>0.000000</td>\n",
       "      <td>0.000000</td>\n",
       "      <td>0.000000</td>\n",
       "      <td>0.000000</td>\n",
       "      <td>0.000000</td>\n",
       "      <td>0.000000</td>\n",
       "      <td>0.000000</td>\n",
       "      <td>0.000000</td>\n",
       "    </tr>\n",
       "    <tr>\n",
       "      <th>30</th>\n",
       "      <td>0.000068</td>\n",
       "      <td>0.000000</td>\n",
       "      <td>0.000000</td>\n",
       "      <td>0.000000</td>\n",
       "      <td>0.327275</td>\n",
       "      <td>0.000000</td>\n",
       "      <td>0.000000</td>\n",
       "      <td>0.000000</td>\n",
       "    </tr>\n",
       "  </tbody>\n",
       "</table>\n",
       "</div>"
      ],
      "text/plain": [
       "        annual_mean_Qstl_mm  annual_25percent_Qstl_mm  \\\n",
       "cellnr                                                  \n",
       "29                 0.000600                  0.000000   \n",
       "20                40.363147                 10.657493   \n",
       "19                96.917112                 46.876654   \n",
       "21                36.600320                 10.207798   \n",
       "28                36.636451                 12.874247   \n",
       "12               104.952380                 36.780859   \n",
       "23                 0.000000                  0.000000   \n",
       "22                 0.000699                  0.000000   \n",
       "13               123.849746                 61.704303   \n",
       "14                98.016411                 48.311862   \n",
       "31                 0.000000                  0.000000   \n",
       "38                 0.000000                  0.000000   \n",
       "30                 0.000068                  0.000000   \n",
       "\n",
       "        annual_50percent_Qstl_mm  annual_75percent_Qstl_mm  \\\n",
       "cellnr                                                       \n",
       "29                      0.000000                  0.000000   \n",
       "20                     29.169358                 53.311292   \n",
       "19                     77.123271                115.597934   \n",
       "21                     26.388491                 47.609355   \n",
       "28                     30.803177                 46.234860   \n",
       "12                     74.311308                126.801460   \n",
       "23                      0.000000                  0.000000   \n",
       "22                      0.000000                  0.000000   \n",
       "13                    102.144786                162.124506   \n",
       "14                     80.061861                122.071879   \n",
       "31                      0.000000                  0.000000   \n",
       "38                      0.000000                  0.000000   \n",
       "30                      0.000000                  0.000000   \n",
       "\n",
       "        annual_mean_Qstl_m3  annual_25percent_Qstl_m3  \\\n",
       "cellnr                                                  \n",
       "29                 2.898119                  0.000000   \n",
       "20            194953.999109              51475.691430   \n",
       "19            468109.650762             226414.237571   \n",
       "21            176779.546569              49303.665560   \n",
       "28            176954.060695              62182.614299   \n",
       "12            506919.993963             177651.549488   \n",
       "23                 0.000000                  0.000000   \n",
       "22                 3.373845                  0.000000   \n",
       "13            598194.272532             298031.781970   \n",
       "14            473419.266020             233346.292170   \n",
       "31                 0.000000                  0.000000   \n",
       "38                 0.000000                  0.000000   \n",
       "30                 0.327275                  0.000000   \n",
       "\n",
       "        annual_50percent_Qstl_m3  annual_75percent_Qstl_m3  \n",
       "cellnr                                                      \n",
       "29                      0.000000                  0.000000  \n",
       "20                 140887.997945             257493.539068  \n",
       "19                 372505.401251             558338.019852  \n",
       "21                 127456.411629             229953.183048  \n",
       "28                 148779.344653             223314.372085  \n",
       "12                 358923.617395             612451.051832  \n",
       "23                      0.000000                  0.000000  \n",
       "22                      0.000000                  0.000000  \n",
       "13                 493359.318057             783061.361929  \n",
       "14                 386698.788924             589607.176162  \n",
       "31                      0.000000                  0.000000  \n",
       "38                      0.000000                  0.000000  \n",
       "30                      0.000000                  0.000000  "
      ]
     },
     "execution_count": 7,
     "metadata": {},
     "output_type": "execute_result"
    }
   ],
   "source": [
    "merged_df"
   ]
  },
  {
   "cell_type": "markdown",
   "id": "ec8a5b67-5894-4d9d-b1ec-a633772a5791",
   "metadata": {},
   "source": [
    "## m3/day"
   ]
  },
  {
   "cell_type": "code",
   "execution_count": 8,
   "id": "2ae0054a-43b9-4035-8245-d698f0eecb33",
   "metadata": {},
   "outputs": [],
   "source": [
    "# Iterate over each column in the DataFrame\n",
    "for column in merged_df.columns:\n",
    "    if '_m3' in column:\n",
    "        merged_df[column + '_day'] = merged_df[column] /365\n"
   ]
  },
  {
   "cell_type": "markdown",
   "id": "e7d57f0f-2df3-44f0-8843-1a872a9be6b0",
   "metadata": {},
   "source": [
    "# add coordinates and save the output "
   ]
  },
  {
   "cell_type": "code",
   "execution_count": 9,
   "id": "fcaae9c8-04e6-4032-976d-11e1d3851acb",
   "metadata": {},
   "outputs": [],
   "source": [
    "# csv with coordinates and geopotential (z) \n",
    "langtang_elevation = pd.read_csv('/Users/varyabazilova/Desktop/paper2/Thesisfiles_Varya/climate/elevation/geopotential_langtang.csv').set_index('cellnr')\n",
    "with_coords = pd.concat([merged_df, langtang_elevation],  axis=1).reset_index()\n",
    "\n",
    "\n"
   ]
  },
  {
   "cell_type": "code",
   "execution_count": 10,
   "id": "75cd2c1a-fa02-4580-accf-7f1ec1a2012c",
   "metadata": {},
   "outputs": [
    {
     "data": {
      "text/html": [
       "<div>\n",
       "<style scoped>\n",
       "    .dataframe tbody tr th:only-of-type {\n",
       "        vertical-align: middle;\n",
       "    }\n",
       "\n",
       "    .dataframe tbody tr th {\n",
       "        vertical-align: top;\n",
       "    }\n",
       "\n",
       "    .dataframe thead th {\n",
       "        text-align: right;\n",
       "    }\n",
       "</style>\n",
       "<table border=\"1\" class=\"dataframe\">\n",
       "  <thead>\n",
       "    <tr style=\"text-align: right;\">\n",
       "      <th></th>\n",
       "      <th>cellnr</th>\n",
       "      <th>annual_mean_Qstl_mm</th>\n",
       "      <th>annual_25percent_Qstl_mm</th>\n",
       "      <th>annual_50percent_Qstl_mm</th>\n",
       "      <th>annual_75percent_Qstl_mm</th>\n",
       "      <th>annual_mean_Qstl_m3</th>\n",
       "      <th>annual_25percent_Qstl_m3</th>\n",
       "      <th>annual_50percent_Qstl_m3</th>\n",
       "      <th>annual_75percent_Qstl_m3</th>\n",
       "      <th>annual_mean_Qstl_m3_day</th>\n",
       "      <th>annual_25percent_Qstl_m3_day</th>\n",
       "      <th>annual_50percent_Qstl_m3_day</th>\n",
       "      <th>annual_75percent_Qstl_m3_day</th>\n",
       "      <th>Latitude</th>\n",
       "      <th>Longitude</th>\n",
       "      <th>z</th>\n",
       "    </tr>\n",
       "  </thead>\n",
       "  <tbody>\n",
       "    <tr>\n",
       "      <th>0</th>\n",
       "      <td>12</td>\n",
       "      <td>104.952380</td>\n",
       "      <td>36.780859</td>\n",
       "      <td>74.311308</td>\n",
       "      <td>126.801460</td>\n",
       "      <td>506919.993963</td>\n",
       "      <td>177651.549488</td>\n",
       "      <td>358923.617395</td>\n",
       "      <td>612451.051832</td>\n",
       "      <td>1388.821901</td>\n",
       "      <td>486.716574</td>\n",
       "      <td>983.352376</td>\n",
       "      <td>1677.948087</td>\n",
       "      <td>28.100000</td>\n",
       "      <td>85.500000</td>\n",
       "      <td>4006.004075</td>\n",
       "    </tr>\n",
       "    <tr>\n",
       "      <th>1</th>\n",
       "      <td>13</td>\n",
       "      <td>123.849746</td>\n",
       "      <td>61.704303</td>\n",
       "      <td>102.144786</td>\n",
       "      <td>162.124506</td>\n",
       "      <td>598194.272532</td>\n",
       "      <td>298031.781970</td>\n",
       "      <td>493359.318057</td>\n",
       "      <td>783061.361929</td>\n",
       "      <td>1638.888418</td>\n",
       "      <td>816.525430</td>\n",
       "      <td>1351.669365</td>\n",
       "      <td>2145.373594</td>\n",
       "      <td>28.100000</td>\n",
       "      <td>85.599998</td>\n",
       "      <td>4116.321887</td>\n",
       "    </tr>\n",
       "    <tr>\n",
       "      <th>2</th>\n",
       "      <td>14</td>\n",
       "      <td>98.016411</td>\n",
       "      <td>48.311862</td>\n",
       "      <td>80.061861</td>\n",
       "      <td>122.071879</td>\n",
       "      <td>473419.266020</td>\n",
       "      <td>233346.292170</td>\n",
       "      <td>386698.788924</td>\n",
       "      <td>589607.176162</td>\n",
       "      <td>1297.039085</td>\n",
       "      <td>639.304910</td>\n",
       "      <td>1059.448737</td>\n",
       "      <td>1615.362126</td>\n",
       "      <td>28.100000</td>\n",
       "      <td>85.699997</td>\n",
       "      <td>4106.181252</td>\n",
       "    </tr>\n",
       "    <tr>\n",
       "      <th>3</th>\n",
       "      <td>19</td>\n",
       "      <td>96.917112</td>\n",
       "      <td>46.876654</td>\n",
       "      <td>77.123271</td>\n",
       "      <td>115.597934</td>\n",
       "      <td>468109.650762</td>\n",
       "      <td>226414.237571</td>\n",
       "      <td>372505.401251</td>\n",
       "      <td>558338.019852</td>\n",
       "      <td>1282.492194</td>\n",
       "      <td>620.312980</td>\n",
       "      <td>1020.562743</td>\n",
       "      <td>1529.693205</td>\n",
       "      <td>28.200001</td>\n",
       "      <td>85.400002</td>\n",
       "      <td>3513.107780</td>\n",
       "    </tr>\n",
       "    <tr>\n",
       "      <th>4</th>\n",
       "      <td>20</td>\n",
       "      <td>40.363147</td>\n",
       "      <td>10.657493</td>\n",
       "      <td>29.169358</td>\n",
       "      <td>53.311292</td>\n",
       "      <td>194953.999109</td>\n",
       "      <td>51475.691430</td>\n",
       "      <td>140887.997945</td>\n",
       "      <td>257493.539068</td>\n",
       "      <td>534.120546</td>\n",
       "      <td>141.029292</td>\n",
       "      <td>385.994515</td>\n",
       "      <td>705.461751</td>\n",
       "      <td>28.200001</td>\n",
       "      <td>85.500000</td>\n",
       "      <td>4432.013155</td>\n",
       "    </tr>\n",
       "    <tr>\n",
       "      <th>5</th>\n",
       "      <td>21</td>\n",
       "      <td>36.600320</td>\n",
       "      <td>10.207798</td>\n",
       "      <td>26.388491</td>\n",
       "      <td>47.609355</td>\n",
       "      <td>176779.546569</td>\n",
       "      <td>49303.665560</td>\n",
       "      <td>127456.411629</td>\n",
       "      <td>229953.183048</td>\n",
       "      <td>484.327525</td>\n",
       "      <td>135.078536</td>\n",
       "      <td>349.195648</td>\n",
       "      <td>630.008721</td>\n",
       "      <td>28.200001</td>\n",
       "      <td>85.599998</td>\n",
       "      <td>5007.775847</td>\n",
       "    </tr>\n",
       "    <tr>\n",
       "      <th>6</th>\n",
       "      <td>22</td>\n",
       "      <td>0.000699</td>\n",
       "      <td>0.000000</td>\n",
       "      <td>0.000000</td>\n",
       "      <td>0.000000</td>\n",
       "      <td>3.373845</td>\n",
       "      <td>0.000000</td>\n",
       "      <td>0.000000</td>\n",
       "      <td>0.000000</td>\n",
       "      <td>0.009243</td>\n",
       "      <td>0.000000</td>\n",
       "      <td>0.000000</td>\n",
       "      <td>0.000000</td>\n",
       "      <td>28.200001</td>\n",
       "      <td>85.699997</td>\n",
       "      <td>5149.130146</td>\n",
       "    </tr>\n",
       "    <tr>\n",
       "      <th>7</th>\n",
       "      <td>23</td>\n",
       "      <td>0.000000</td>\n",
       "      <td>0.000000</td>\n",
       "      <td>0.000000</td>\n",
       "      <td>0.000000</td>\n",
       "      <td>0.000000</td>\n",
       "      <td>0.000000</td>\n",
       "      <td>0.000000</td>\n",
       "      <td>0.000000</td>\n",
       "      <td>0.000000</td>\n",
       "      <td>0.000000</td>\n",
       "      <td>0.000000</td>\n",
       "      <td>0.000000</td>\n",
       "      <td>28.200001</td>\n",
       "      <td>85.800003</td>\n",
       "      <td>5078.555427</td>\n",
       "    </tr>\n",
       "    <tr>\n",
       "      <th>8</th>\n",
       "      <td>28</td>\n",
       "      <td>36.636451</td>\n",
       "      <td>12.874247</td>\n",
       "      <td>30.803177</td>\n",
       "      <td>46.234860</td>\n",
       "      <td>176954.060695</td>\n",
       "      <td>62182.614299</td>\n",
       "      <td>148779.344653</td>\n",
       "      <td>223314.372085</td>\n",
       "      <td>484.805646</td>\n",
       "      <td>170.363327</td>\n",
       "      <td>407.614643</td>\n",
       "      <td>611.820197</td>\n",
       "      <td>28.299999</td>\n",
       "      <td>85.500000</td>\n",
       "      <td>4167.127490</td>\n",
       "    </tr>\n",
       "    <tr>\n",
       "      <th>9</th>\n",
       "      <td>29</td>\n",
       "      <td>0.000600</td>\n",
       "      <td>0.000000</td>\n",
       "      <td>0.000000</td>\n",
       "      <td>0.000000</td>\n",
       "      <td>2.898119</td>\n",
       "      <td>0.000000</td>\n",
       "      <td>0.000000</td>\n",
       "      <td>0.000000</td>\n",
       "      <td>0.007940</td>\n",
       "      <td>0.000000</td>\n",
       "      <td>0.000000</td>\n",
       "      <td>0.000000</td>\n",
       "      <td>28.299999</td>\n",
       "      <td>85.599998</td>\n",
       "      <td>5154.558970</td>\n",
       "    </tr>\n",
       "    <tr>\n",
       "      <th>10</th>\n",
       "      <td>30</td>\n",
       "      <td>0.000068</td>\n",
       "      <td>0.000000</td>\n",
       "      <td>0.000000</td>\n",
       "      <td>0.000000</td>\n",
       "      <td>0.327275</td>\n",
       "      <td>0.000000</td>\n",
       "      <td>0.000000</td>\n",
       "      <td>0.000000</td>\n",
       "      <td>0.000897</td>\n",
       "      <td>0.000000</td>\n",
       "      <td>0.000000</td>\n",
       "      <td>0.000000</td>\n",
       "      <td>28.299999</td>\n",
       "      <td>85.699997</td>\n",
       "      <td>5603.102794</td>\n",
       "    </tr>\n",
       "    <tr>\n",
       "      <th>11</th>\n",
       "      <td>31</td>\n",
       "      <td>0.000000</td>\n",
       "      <td>0.000000</td>\n",
       "      <td>0.000000</td>\n",
       "      <td>0.000000</td>\n",
       "      <td>0.000000</td>\n",
       "      <td>0.000000</td>\n",
       "      <td>0.000000</td>\n",
       "      <td>0.000000</td>\n",
       "      <td>0.000000</td>\n",
       "      <td>0.000000</td>\n",
       "      <td>0.000000</td>\n",
       "      <td>0.000000</td>\n",
       "      <td>28.299999</td>\n",
       "      <td>85.800003</td>\n",
       "      <td>5558.647891</td>\n",
       "    </tr>\n",
       "    <tr>\n",
       "      <th>12</th>\n",
       "      <td>38</td>\n",
       "      <td>0.000000</td>\n",
       "      <td>0.000000</td>\n",
       "      <td>0.000000</td>\n",
       "      <td>0.000000</td>\n",
       "      <td>0.000000</td>\n",
       "      <td>0.000000</td>\n",
       "      <td>0.000000</td>\n",
       "      <td>0.000000</td>\n",
       "      <td>0.000000</td>\n",
       "      <td>0.000000</td>\n",
       "      <td>0.000000</td>\n",
       "      <td>0.000000</td>\n",
       "      <td>28.400000</td>\n",
       "      <td>85.699997</td>\n",
       "      <td>5809.090834</td>\n",
       "    </tr>\n",
       "  </tbody>\n",
       "</table>\n",
       "</div>"
      ],
      "text/plain": [
       "    cellnr  annual_mean_Qstl_mm  annual_25percent_Qstl_mm  \\\n",
       "0       12           104.952380                 36.780859   \n",
       "1       13           123.849746                 61.704303   \n",
       "2       14            98.016411                 48.311862   \n",
       "3       19            96.917112                 46.876654   \n",
       "4       20            40.363147                 10.657493   \n",
       "5       21            36.600320                 10.207798   \n",
       "6       22             0.000699                  0.000000   \n",
       "7       23             0.000000                  0.000000   \n",
       "8       28            36.636451                 12.874247   \n",
       "9       29             0.000600                  0.000000   \n",
       "10      30             0.000068                  0.000000   \n",
       "11      31             0.000000                  0.000000   \n",
       "12      38             0.000000                  0.000000   \n",
       "\n",
       "    annual_50percent_Qstl_mm  annual_75percent_Qstl_mm  annual_mean_Qstl_m3  \\\n",
       "0                  74.311308                126.801460        506919.993963   \n",
       "1                 102.144786                162.124506        598194.272532   \n",
       "2                  80.061861                122.071879        473419.266020   \n",
       "3                  77.123271                115.597934        468109.650762   \n",
       "4                  29.169358                 53.311292        194953.999109   \n",
       "5                  26.388491                 47.609355        176779.546569   \n",
       "6                   0.000000                  0.000000             3.373845   \n",
       "7                   0.000000                  0.000000             0.000000   \n",
       "8                  30.803177                 46.234860        176954.060695   \n",
       "9                   0.000000                  0.000000             2.898119   \n",
       "10                  0.000000                  0.000000             0.327275   \n",
       "11                  0.000000                  0.000000             0.000000   \n",
       "12                  0.000000                  0.000000             0.000000   \n",
       "\n",
       "    annual_25percent_Qstl_m3  annual_50percent_Qstl_m3  \\\n",
       "0              177651.549488             358923.617395   \n",
       "1              298031.781970             493359.318057   \n",
       "2              233346.292170             386698.788924   \n",
       "3              226414.237571             372505.401251   \n",
       "4               51475.691430             140887.997945   \n",
       "5               49303.665560             127456.411629   \n",
       "6                   0.000000                  0.000000   \n",
       "7                   0.000000                  0.000000   \n",
       "8               62182.614299             148779.344653   \n",
       "9                   0.000000                  0.000000   \n",
       "10                  0.000000                  0.000000   \n",
       "11                  0.000000                  0.000000   \n",
       "12                  0.000000                  0.000000   \n",
       "\n",
       "    annual_75percent_Qstl_m3  annual_mean_Qstl_m3_day  \\\n",
       "0              612451.051832              1388.821901   \n",
       "1              783061.361929              1638.888418   \n",
       "2              589607.176162              1297.039085   \n",
       "3              558338.019852              1282.492194   \n",
       "4              257493.539068               534.120546   \n",
       "5              229953.183048               484.327525   \n",
       "6                   0.000000                 0.009243   \n",
       "7                   0.000000                 0.000000   \n",
       "8              223314.372085               484.805646   \n",
       "9                   0.000000                 0.007940   \n",
       "10                  0.000000                 0.000897   \n",
       "11                  0.000000                 0.000000   \n",
       "12                  0.000000                 0.000000   \n",
       "\n",
       "    annual_25percent_Qstl_m3_day  annual_50percent_Qstl_m3_day  \\\n",
       "0                     486.716574                    983.352376   \n",
       "1                     816.525430                   1351.669365   \n",
       "2                     639.304910                   1059.448737   \n",
       "3                     620.312980                   1020.562743   \n",
       "4                     141.029292                    385.994515   \n",
       "5                     135.078536                    349.195648   \n",
       "6                       0.000000                      0.000000   \n",
       "7                       0.000000                      0.000000   \n",
       "8                     170.363327                    407.614643   \n",
       "9                       0.000000                      0.000000   \n",
       "10                      0.000000                      0.000000   \n",
       "11                      0.000000                      0.000000   \n",
       "12                      0.000000                      0.000000   \n",
       "\n",
       "    annual_75percent_Qstl_m3_day   Latitude  Longitude            z  \n",
       "0                    1677.948087  28.100000  85.500000  4006.004075  \n",
       "1                    2145.373594  28.100000  85.599998  4116.321887  \n",
       "2                    1615.362126  28.100000  85.699997  4106.181252  \n",
       "3                    1529.693205  28.200001  85.400002  3513.107780  \n",
       "4                     705.461751  28.200001  85.500000  4432.013155  \n",
       "5                     630.008721  28.200001  85.599998  5007.775847  \n",
       "6                       0.000000  28.200001  85.699997  5149.130146  \n",
       "7                       0.000000  28.200001  85.800003  5078.555427  \n",
       "8                     611.820197  28.299999  85.500000  4167.127490  \n",
       "9                       0.000000  28.299999  85.599998  5154.558970  \n",
       "10                      0.000000  28.299999  85.699997  5603.102794  \n",
       "11                      0.000000  28.299999  85.800003  5558.647891  \n",
       "12                      0.000000  28.400000  85.699997  5809.090834  "
      ]
     },
     "execution_count": 10,
     "metadata": {},
     "output_type": "execute_result"
    }
   ],
   "source": [
    "with_coords"
   ]
  },
  {
   "cell_type": "code",
   "execution_count": 11,
   "id": "2c5b6692-4a48-4d16-a609-5ca56bdd5851",
   "metadata": {},
   "outputs": [],
   "source": [
    "#save alltogether \n",
    "output_path = '/Users/varyabazilova/Desktop/paper2/downscaling_simple/transport_limited_glaciers/langtang/'\n",
    "with_coords.to_csv(output_path + 'langtang_glaciers_tl_percentiles_with_coords.csv', index = False)"
   ]
  },
  {
   "cell_type": "code",
   "execution_count": 12,
   "id": "0530481a-3b19-4e6f-8d21-d3424feb2b66",
   "metadata": {},
   "outputs": [
    {
     "data": {
      "text/plain": [
       "Index(['cellnr', 'annual_mean_Qstl_mm', 'annual_25percent_Qstl_mm',\n",
       "       'annual_50percent_Qstl_mm', 'annual_75percent_Qstl_mm',\n",
       "       'annual_mean_Qstl_m3', 'annual_25percent_Qstl_m3',\n",
       "       'annual_50percent_Qstl_m3', 'annual_75percent_Qstl_m3',\n",
       "       'annual_mean_Qstl_m3_day', 'annual_25percent_Qstl_m3_day',\n",
       "       'annual_50percent_Qstl_m3_day', 'annual_75percent_Qstl_m3_day',\n",
       "       'Latitude', 'Longitude', 'z'],\n",
       "      dtype='object')"
      ]
     },
     "execution_count": 12,
     "metadata": {},
     "output_type": "execute_result"
    }
   ],
   "source": [
    "with_coords.columns"
   ]
  },
  {
   "cell_type": "code",
   "execution_count": 13,
   "id": "5c07dd82-547f-4724-8d01-01a6a64a4c90",
   "metadata": {},
   "outputs": [],
   "source": [
    "columns_to_copy = ['cellnr', 'annual_mean_Qstl_m3_day', 'annual_25percent_Qstl_m3_day',\n",
    "                   'annual_50percent_Qstl_m3_day', 'annual_75percent_Qstl_m3_day',\n",
    "                   'Latitude', 'Longitude']\n",
    "\n",
    "selected_columns= with_coords[columns_to_copy].copy()\n",
    "                              "
   ]
  },
  {
   "cell_type": "code",
   "execution_count": 14,
   "id": "19f12fad-d4bb-48c7-a9c1-cef3aa723e7c",
   "metadata": {},
   "outputs": [],
   "source": [
    "\n",
    "selected_columns.to_csv(output_path + 'langtang__glaciers_tl_percentiles_with_coords_m3_day.csv', index = False)"
   ]
  },
  {
   "cell_type": "code",
   "execution_count": null,
   "id": "3a16df4d-cd0c-4684-aa01-5d92a4f2632d",
   "metadata": {},
   "outputs": [],
   "source": []
  },
  {
   "cell_type": "code",
   "execution_count": null,
   "id": "6c326682-411c-47f0-b187-3a9a0f94df81",
   "metadata": {},
   "outputs": [],
   "source": []
  },
  {
   "cell_type": "code",
   "execution_count": null,
   "id": "4b9f45a6-5e33-41c2-bff9-3a1283a7bfbd",
   "metadata": {},
   "outputs": [],
   "source": []
  },
  {
   "cell_type": "code",
   "execution_count": null,
   "id": "5d7ec6e1-59c0-47fb-b671-8d9b213c18a6",
   "metadata": {},
   "outputs": [],
   "source": []
  },
  {
   "cell_type": "code",
   "execution_count": null,
   "id": "cec54979-72b6-40d7-9c45-822b74e1c7c9",
   "metadata": {},
   "outputs": [],
   "source": []
  },
  {
   "cell_type": "code",
   "execution_count": null,
   "id": "1b3ef581-5c6e-4f4d-bc99-d68f8617d2d7",
   "metadata": {},
   "outputs": [],
   "source": []
  },
  {
   "cell_type": "code",
   "execution_count": null,
   "id": "d0a11a84-493d-4259-8d38-26fb53051591",
   "metadata": {},
   "outputs": [],
   "source": []
  },
  {
   "cell_type": "code",
   "execution_count": null,
   "id": "f1f19495-7314-4193-8819-b979d6c5f460",
   "metadata": {},
   "outputs": [],
   "source": []
  },
  {
   "cell_type": "markdown",
   "id": "a3d6f083-0271-44a2-9b06-9ff89862e74f",
   "metadata": {},
   "source": [
    "# test for 1 file"
   ]
  },
  {
   "cell_type": "code",
   "execution_count": null,
   "id": "09d9e5dc-7252-4460-8e01-8b888d8d8328",
   "metadata": {},
   "outputs": [],
   "source": [
    "testsed = pd.read_csv('/Users/varyabazilova/Desktop/paper2/downscaling_simple/transport_limited/langtang/cellnr28/Sediment.out')\n",
    "testsed\n",
    "\n",
    "df = annual_sum_percentile(testsed, 25)\n",
    "\n",
    "\n",
    "\n"
   ]
  },
  {
   "cell_type": "code",
   "execution_count": null,
   "id": "a97a5540-251c-4a86-bd9b-3d8f8dc971c6",
   "metadata": {},
   "outputs": [],
   "source": [
    "\n"
   ]
  },
  {
   "cell_type": "code",
   "execution_count": null,
   "id": "60b01264-6f5b-42c9-b51c-c3a17990e0b6",
   "metadata": {},
   "outputs": [],
   "source": [
    "\n",
    "df = testsed\n",
    "\n",
    "df['D'] = pd.to_datetime(df['D'])\n",
    "df['Year'] = df['D'].dt.year\n",
    "annual_sum = df.groupby('Year').sum()\n"
   ]
  },
  {
   "cell_type": "code",
   "execution_count": null,
   "id": "692fe4e2-a7ff-464d-a6c2-aeb1e0a747bf",
   "metadata": {},
   "outputs": [],
   "source": [
    "plt.figure(figsize=(20,7))\n",
    "plt.bar(height = annual_sum.Qstl, x = annual_sum.index, label = 'Qstl')\n",
    "plt.bar(height = annual_sum.Qdftl, x = annual_sum.index, color = 'lime', alpha = 0.5, label = 'Qdstl')\n",
    "\n",
    "# plt.bar(height = annual_sum.Q100, x = annual_sum.index, color = 'magenta', alpha = 0.5, label = 'Q100')\n",
    "plt.legend()"
   ]
  },
  {
   "cell_type": "code",
   "execution_count": null,
   "id": "c5358b15-5df7-4a8d-b852-e0b219f87aff",
   "metadata": {},
   "outputs": [],
   "source": [
    "plt.figure(figsize=(20,7))\n",
    "# plt.bar(height = annual_sum.Qstl, x = annual_sum.index, label = 'Qstl')\n",
    "# plt.bar(height = annual_sum.Qdftl, x = annual_sum.index, color = 'lime', alpha = 0.5, label = 'Qdstl')\n",
    "\n",
    "plt.bar(height = annual_sum.Q100, x = annual_sum.index, color = 'magenta', alpha = 0.5, label = 'Q100')\n",
    "plt.legend()"
   ]
  },
  {
   "cell_type": "code",
   "execution_count": null,
   "id": "9f3c461f-1477-46ed-8b79-0d52af1776cc",
   "metadata": {},
   "outputs": [],
   "source": [
    "annual_sum.describe()"
   ]
  },
  {
   "cell_type": "code",
   "execution_count": null,
   "id": "5999b750-3e05-4853-b040-a6e979e38e95",
   "metadata": {},
   "outputs": [],
   "source": []
  },
  {
   "cell_type": "code",
   "execution_count": null,
   "id": "4621beb5-9ecb-4a82-8222-91210fab82b1",
   "metadata": {},
   "outputs": [],
   "source": [
    "# test climate input\n",
    "import pandas as pd\n",
    "testclimate = pd.read_csv('/Users/varyabazilova/Desktop/paper2/downscaling_simple/langtang/cellnr12/climatecell.12.met')"
   ]
  },
  {
   "cell_type": "code",
   "execution_count": null,
   "id": "ce1c8ef4-ee43-4325-9f43-729b0d0679d1",
   "metadata": {},
   "outputs": [],
   "source": [
    "testsed = pd.read_csv('/Users/varyabazilova/Desktop/paper2/downscaling_simple/langtang/cellnr28/Sediment.out')\n",
    "testsed\n",
    "\n",
    "df = testsed\n",
    "\n",
    "\n",
    "df['D'] = pd.to_datetime(df['D'])\n",
    "df['Year'] = df['D'].dt.year\n",
    "annual_sum = df.groupby('Year').sum()\n",
    "annual_mean_Qstl = annual_sum.Qstl.mean()"
   ]
  },
  {
   "cell_type": "code",
   "execution_count": null,
   "id": "24911957-ba88-4425-9233-8af912d935d4",
   "metadata": {},
   "outputs": [],
   "source": [
    "annual_sum.Qstl.mean()"
   ]
  },
  {
   "cell_type": "markdown",
   "id": "f2fba5bf-8712-4e0f-8912-c7a5e1c856f3",
   "metadata": {},
   "source": [
    "## "
   ]
  }
 ],
 "metadata": {
  "kernelspec": {
   "display_name": "Python [conda env:sedcas] *",
   "language": "python",
   "name": "conda-env-sedcas-py"
  },
  "language_info": {
   "codemirror_mode": {
    "name": "ipython",
    "version": 3
   },
   "file_extension": ".py",
   "mimetype": "text/x-python",
   "name": "python",
   "nbconvert_exporter": "python",
   "pygments_lexer": "ipython3",
   "version": "3.9.7"
  }
 },
 "nbformat": 4,
 "nbformat_minor": 5
}
