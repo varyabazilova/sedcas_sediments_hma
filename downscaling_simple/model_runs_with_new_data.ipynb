{
 "cells": [
  {
   "cell_type": "markdown",
   "id": "ca29bfe7-b220-4ac4-a66b-26047682274b",
   "metadata": {},
   "source": [
    "- iterate over the cells\n",
    "- save hydrology and sediments\n",
    "- make sure to save the ls, sc\n",
    "\n",
    "1. Experiment 1: NO GLACIERS\n",
    "2. Experiment 2: transport limited case (!!! HERE: calculate what is the mean annual sedimant yeild) \n",
    "3. Experiment 3: linear increase in sediment storage: (HOW BIG LANDSLIDE SHOULD BE?)\n",
    "\n",
    "-- to make changes in the model go to run.py, SedCas_glacier_sed.py (model) or modules.py (modules)"
   ]
  },
  {
   "cell_type": "code",
   "execution_count": 1,
   "id": "85489874-8726-469e-b73c-65dd7648752a",
   "metadata": {},
   "outputs": [],
   "source": [
    "import os\n",
    "import pandas as pd\n",
    "import matplotlib.pyplot as plt\n",
    "\n",
    "\n",
    "# modelling part\n",
    "from run import run\n"
   ]
  },
  {
   "cell_type": "markdown",
   "id": "3d4941b0-4c17-46bb-9e22-7b67ed03562e",
   "metadata": {},
   "source": [
    "# transport limited case (=sediment unlimited): calculate how much sediment there MAY be"
   ]
  },
  {
   "cell_type": "code",
   "execution_count": 2,
   "id": "a562fc43-371d-4c30-b31f-70649863cc63",
   "metadata": {},
   "outputs": [
    {
     "name": "stdout",
     "output_type": "stream",
     "text": [
      "/Users/varyabazilova/Desktop/paper2/downscaling_simple/langtang/run.py\n"
     ]
    },
    {
     "ename": "FileNotFoundError",
     "evalue": "[Errno 2] No such file or directory: '/Users/varyabazilova/Desktop/paper2/downscaling_simple/langtang/run.py'",
     "output_type": "error",
     "traceback": [
      "\u001b[0;31m---------------------------------------------------------------------------\u001b[0m",
      "\u001b[0;31mFileNotFoundError\u001b[0m                         Traceback (most recent call last)",
      "\u001b[0;32m/var/folders/31/xdyntby945q7564txk4rqyh40000gp/T/ipykernel_87126/2647417215.py\u001b[0m in \u001b[0;36m<module>\u001b[0;34m\u001b[0m\n\u001b[1;32m     14\u001b[0m     \u001b[0mpath\u001b[0m \u001b[0;34m=\u001b[0m \u001b[0mos\u001b[0m\u001b[0;34m.\u001b[0m\u001b[0mpath\u001b[0m\u001b[0;34m.\u001b[0m\u001b[0mjoin\u001b[0m\u001b[0;34m(\u001b[0m\u001b[0mdir0\u001b[0m\u001b[0;34m,\u001b[0m \u001b[0;34m'langtang'\u001b[0m\u001b[0;34m,\u001b[0m \u001b[0md\u001b[0m\u001b[0;34m)\u001b[0m\u001b[0;34m\u001b[0m\u001b[0;34m\u001b[0m\u001b[0m\n\u001b[1;32m     15\u001b[0m     \u001b[0mprint\u001b[0m\u001b[0;34m(\u001b[0m\u001b[0mpath\u001b[0m\u001b[0;34m)\u001b[0m\u001b[0;34m\u001b[0m\u001b[0;34m\u001b[0m\u001b[0m\n\u001b[0;32m---> 16\u001b[0;31m     \u001b[0mos\u001b[0m\u001b[0;34m.\u001b[0m\u001b[0mchdir\u001b[0m\u001b[0;34m(\u001b[0m\u001b[0mpath\u001b[0m\u001b[0;34m)\u001b[0m\u001b[0;34m\u001b[0m\u001b[0;34m\u001b[0m\u001b[0m\n\u001b[0m\u001b[1;32m     17\u001b[0m     \u001b[0mrun\u001b[0m\u001b[0;34m(\u001b[0m\u001b[0;34m)\u001b[0m\u001b[0;34m\u001b[0m\u001b[0;34m\u001b[0m\u001b[0m\n\u001b[1;32m     18\u001b[0m     \u001b[0mos\u001b[0m\u001b[0;34m.\u001b[0m\u001b[0mchdir\u001b[0m\u001b[0;34m(\u001b[0m\u001b[0mdir0\u001b[0m\u001b[0;34m)\u001b[0m\u001b[0;34m\u001b[0m\u001b[0;34m\u001b[0m\u001b[0m\n",
      "\u001b[0;31mFileNotFoundError\u001b[0m: [Errno 2] No such file or directory: '/Users/varyabazilova/Desktop/paper2/downscaling_simple/langtang/run.py'"
     ]
    }
   ],
   "source": [
    "\n",
    "import os\n",
    "from run import run\n",
    "\n",
    "climatepath = '/Users/varyabazilova/Desktop/paper2/downscaling_simple/transport_limited/'\n",
    "\n",
    "# get all folders togetehr \n",
    "# ls_ = os.listdir('./langtang')\n",
    "ls_ = os.listdir(climatepath)\n",
    "ls = [d for d in ls_ if not d.startswith('.')]\n",
    "dir0 = os.getcwd()\n",
    "\n",
    "# run the model for each\n",
    "for d in ls:\n",
    "    path = os.path.join(dir0, 'langtang', d)\n",
    "    print(path)\n",
    "    os.chdir(path)\n",
    "    run()\n",
    "    os.chdir(dir0)\n"
   ]
  },
  {
   "cell_type": "markdown",
   "id": "877b626a-996c-401f-abad-ad2f098725bb",
   "metadata": {},
   "source": [
    "# how much sediment is exported per year in the transport limited case (= unlimited amount of sedoments) ?"
   ]
  },
  {
   "cell_type": "code",
   "execution_count": null,
   "id": "add6405c-c3d9-48f4-aa57-7fe1879a94df",
   "metadata": {},
   "outputs": [],
   "source": [
    "# for each output sediment folder calculate the total annual \n",
    "# go over each folder \n",
    "# take Sediment out file \n",
    "# calculate annual mean\n",
    "# save into the table, where the table has: cellnr, mean annual sed yeald"
   ]
  },
  {
   "cell_type": "code",
   "execution_count": null,
   "id": "6cc98c4f-7b6e-4932-9b4f-09bb8ff9d644",
   "metadata": {},
   "outputs": [],
   "source": [
    "\n",
    "# Define your custom function\n",
    "def annual_sum_mean(df):\n",
    "    df['D'] = pd.to_datetime(df['D'])\n",
    "    df['Year'] = df['D'].dt.year\n",
    "    annual_sum = df.groupby('Year').sum()\n",
    "    annual_mean_Qstl = annual_sum.Qstl.mean()\n",
    "    return annual_mean_Qstl\n",
    "\n",
    "def annual_sum_50percent(df):\n",
    "    df['D'] = pd.to_datetime(df['D'])\n",
    "    df['Year'] = df['D'].dt.year\n",
    "    annual_sum = df.groupby('Year').sum()\n",
    "    annual_50_Qstl = annual_sum.Qstl.quantile(0.5)\n",
    "    return annual_50_Qstl\n"
   ]
  },
  {
   "cell_type": "code",
   "execution_count": null,
   "id": "bffc0df4-5a2f-4bf2-a7d2-b10813ff31cd",
   "metadata": {},
   "outputs": [],
   "source": [
    "\n",
    "# Path to the directory containing your folders\n",
    "directory_path = '/Users/varyabazilova/Desktop/paper2/downscaling_simple/langtang'\n",
    "# Initialize an empty table to store results\n",
    "mean_annual_sum = []\n",
    "mean_annual_50 = []\n",
    "\n",
    "# Iterate over each folder\n",
    "for folder_name in os.listdir(directory_path):\n",
    "    folder_path = os.path.join(directory_path, folder_name)\n",
    "    \n",
    "    # Check if it's a directory and its name starts with 'cellnr'\n",
    "    if os.path.isdir(folder_path) and folder_name.startswith('cellnr'):\n",
    "        # Locate the 'sediment.out' file within the folder\n",
    "        sediment_out_path = os.path.join(folder_path, 'Sediment.out')\n",
    "        \n",
    "        # Read the contents of the file into a pandas DataFrame\n",
    "        df = pd.read_csv(sediment_out_path, delimiter=',')  # Adjust delimiter if needed\n",
    "        \n",
    "        # Apply your custom function to the DataFrame\n",
    "        df1 = annual_sum_mean(df)\n",
    "        df2 = annual_sum_50percent(df)\n",
    "        \n",
    "        # Save the DataFrame into the results table\n",
    "        mean_annual_sum.append((int(folder_name.replace('cellnr', '')), df1))\n",
    "        mean_annual_50.append((int(folder_name.replace('cellnr', '')), df2))\n",
    "\n",
    "# make table\n",
    "mean_annual_sum = pd.DataFrame(mean_annual_sum, columns=['cellnr', 'annual_mean_Qstl_mm'])\n",
    "mean_annual_50 = pd.DataFrame(mean_annual_50, columns=['cellnr', 'annual_50percent_Qstl_mm'])\n"
   ]
  },
  {
   "cell_type": "code",
   "execution_count": null,
   "id": "4c374772-2950-4191-a828-80b84afba7a9",
   "metadata": {},
   "outputs": [],
   "source": [
    "mean_annual_sum"
   ]
  },
  {
   "cell_type": "code",
   "execution_count": null,
   "id": "5262efaa-1f04-49a0-832c-53eece524a57",
   "metadata": {},
   "outputs": [],
   "source": [
    "# convert to m3 \n",
    "mean_annual_sum['m3'] = mean_annual_sum.annual_mean_Qstl_mm * 4.83 * 10. ** -3"
   ]
  },
  {
   "cell_type": "code",
   "execution_count": null,
   "id": "e728f1a6-666e-45dc-a313-6e4a4915c73e",
   "metadata": {},
   "outputs": [],
   "source": []
  },
  {
   "cell_type": "code",
   "execution_count": null,
   "id": "553b266b-ab91-4652-a753-9a0452b47b9a",
   "metadata": {},
   "outputs": [],
   "source": [
    "mean_annual_sum"
   ]
  },
  {
   "cell_type": "code",
   "execution_count": null,
   "id": "597cc70e-6551-4f58-8cc3-cd3b360bea83",
   "metadata": {},
   "outputs": [],
   "source": [
    "mean_annual_sum['m3_day'] = mean_annual_sum.m3/365"
   ]
  },
  {
   "cell_type": "code",
   "execution_count": null,
   "id": "d5d78a5f-9e35-4ed4-8f83-24837a669edc",
   "metadata": {},
   "outputs": [],
   "source": [
    "mean_annual_sum"
   ]
  },
  {
   "cell_type": "code",
   "execution_count": null,
   "id": "4cb1c3bd-b483-4df5-b485-ca5a61567d69",
   "metadata": {},
   "outputs": [],
   "source": []
  },
  {
   "cell_type": "code",
   "execution_count": null,
   "id": "2be13309-1aeb-4feb-a2e4-f7a823ad4456",
   "metadata": {},
   "outputs": [],
   "source": []
  },
  {
   "cell_type": "code",
   "execution_count": null,
   "id": "fcaae9c8-04e6-4032-976d-11e1d3851acb",
   "metadata": {},
   "outputs": [],
   "source": []
  },
  {
   "cell_type": "code",
   "execution_count": null,
   "id": "2c5b6692-4a48-4d16-a609-5ca56bdd5851",
   "metadata": {},
   "outputs": [],
   "source": []
  },
  {
   "cell_type": "code",
   "execution_count": null,
   "id": "0530481a-3b19-4e6f-8d21-d3424feb2b66",
   "metadata": {},
   "outputs": [],
   "source": []
  },
  {
   "cell_type": "code",
   "execution_count": null,
   "id": "5c07dd82-547f-4724-8d01-01a6a64a4c90",
   "metadata": {},
   "outputs": [],
   "source": []
  },
  {
   "cell_type": "code",
   "execution_count": null,
   "id": "5d7ec6e1-59c0-47fb-b671-8d9b213c18a6",
   "metadata": {},
   "outputs": [],
   "source": []
  },
  {
   "cell_type": "code",
   "execution_count": null,
   "id": "cec54979-72b6-40d7-9c45-822b74e1c7c9",
   "metadata": {},
   "outputs": [],
   "source": []
  },
  {
   "cell_type": "code",
   "execution_count": null,
   "id": "1b3ef581-5c6e-4f4d-bc99-d68f8617d2d7",
   "metadata": {},
   "outputs": [],
   "source": []
  },
  {
   "cell_type": "code",
   "execution_count": null,
   "id": "d0a11a84-493d-4259-8d38-26fb53051591",
   "metadata": {},
   "outputs": [],
   "source": []
  },
  {
   "cell_type": "code",
   "execution_count": null,
   "id": "f1f19495-7314-4193-8819-b979d6c5f460",
   "metadata": {},
   "outputs": [],
   "source": []
  },
  {
   "cell_type": "code",
   "execution_count": null,
   "id": "b399613e-5599-4ffe-8065-260cd96f7b84",
   "metadata": {},
   "outputs": [],
   "source": []
  },
  {
   "cell_type": "code",
   "execution_count": null,
   "id": "09d9e5dc-7252-4460-8e01-8b888d8d8328",
   "metadata": {},
   "outputs": [],
   "source": [
    "testsed = pd.read_csv('/Users/varyabazilova/Desktop/paper2/downscaling_simple/langtang/cellnr28/Sediment.out')\n",
    "testsed\n",
    "\n",
    "df = compute_annual_sum(testsed)"
   ]
  },
  {
   "cell_type": "code",
   "execution_count": null,
   "id": "a97a5540-251c-4a86-bd9b-3d8f8dc971c6",
   "metadata": {},
   "outputs": [],
   "source": [
    "\n"
   ]
  },
  {
   "cell_type": "code",
   "execution_count": null,
   "id": "60b01264-6f5b-42c9-b51c-c3a17990e0b6",
   "metadata": {},
   "outputs": [],
   "source": [
    "\n",
    "df = testsed\n",
    "\n",
    "\n",
    "df['D'] = pd.to_datetime(df['D'])\n",
    "df['Year'] = df['D'].dt.year\n",
    "annual_sum = df.groupby('Year').sum()\n"
   ]
  },
  {
   "cell_type": "code",
   "execution_count": null,
   "id": "692fe4e2-a7ff-464d-a6c2-aeb1e0a747bf",
   "metadata": {},
   "outputs": [],
   "source": [
    "plt.figure(figsize=(20,7))\n",
    "plt.bar(height = annual_sum.Qstl, x = annual_sum.index, label = 'Qstl')\n",
    "plt.bar(height = annual_sum.Qdftl, x = annual_sum.index, color = 'lime', alpha = 0.5, label = 'Qdstl')\n",
    "\n",
    "# plt.bar(height = annual_sum.Q100, x = annual_sum.index, color = 'magenta', alpha = 0.5, label = 'Q100')\n",
    "plt.legend()"
   ]
  },
  {
   "cell_type": "code",
   "execution_count": null,
   "id": "c5358b15-5df7-4a8d-b852-e0b219f87aff",
   "metadata": {},
   "outputs": [],
   "source": [
    "plt.figure(figsize=(20,7))\n",
    "# plt.bar(height = annual_sum.Qstl, x = annual_sum.index, label = 'Qstl')\n",
    "# plt.bar(height = annual_sum.Qdftl, x = annual_sum.index, color = 'lime', alpha = 0.5, label = 'Qdstl')\n",
    "\n",
    "plt.bar(height = annual_sum.Q100, x = annual_sum.index, color = 'magenta', alpha = 0.5, label = 'Q100')\n",
    "plt.legend()"
   ]
  },
  {
   "cell_type": "code",
   "execution_count": null,
   "id": "9f3c461f-1477-46ed-8b79-0d52af1776cc",
   "metadata": {},
   "outputs": [],
   "source": [
    "annual_sum.describe()"
   ]
  },
  {
   "cell_type": "code",
   "execution_count": null,
   "id": "5999b750-3e05-4853-b040-a6e979e38e95",
   "metadata": {},
   "outputs": [],
   "source": []
  },
  {
   "cell_type": "code",
   "execution_count": null,
   "id": "4621beb5-9ecb-4a82-8222-91210fab82b1",
   "metadata": {},
   "outputs": [],
   "source": [
    "# test climate input\n",
    "import pandas as pd\n",
    "testclimate = pd.read_csv('/Users/varyabazilova/Desktop/paper2/downscaling_simple/langtang/cellnr12/climatecell.12.met')"
   ]
  },
  {
   "cell_type": "code",
   "execution_count": null,
   "id": "ce1c8ef4-ee43-4325-9f43-729b0d0679d1",
   "metadata": {},
   "outputs": [],
   "source": [
    "testsed = pd.read_csv('/Users/varyabazilova/Desktop/paper2/downscaling_simple/langtang/cellnr28/Sediment.out')\n",
    "testsed\n",
    "\n",
    "df = testsed\n",
    "\n",
    "\n",
    "df['D'] = pd.to_datetime(df['D'])\n",
    "df['Year'] = df['D'].dt.year\n",
    "annual_sum = df.groupby('Year').sum()\n",
    "annual_mean_Qstl = annual_sum.Qstl.mean()"
   ]
  },
  {
   "cell_type": "code",
   "execution_count": null,
   "id": "24911957-ba88-4425-9233-8af912d935d4",
   "metadata": {},
   "outputs": [],
   "source": [
    "annual_sum.Qstl.mean()"
   ]
  },
  {
   "cell_type": "markdown",
   "id": "f2fba5bf-8712-4e0f-8912-c7a5e1c856f3",
   "metadata": {},
   "source": [
    "## "
   ]
  }
 ],
 "metadata": {
  "kernelspec": {
   "display_name": "Python [conda env:sedcas] *",
   "language": "python",
   "name": "conda-env-sedcas-py"
  },
  "language_info": {
   "codemirror_mode": {
    "name": "ipython",
    "version": 3
   },
   "file_extension": ".py",
   "mimetype": "text/x-python",
   "name": "python",
   "nbconvert_exporter": "python",
   "pygments_lexer": "ipython3",
   "version": "3.9.7"
  }
 },
 "nbformat": 4,
 "nbformat_minor": 5
}
