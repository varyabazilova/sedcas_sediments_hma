import os
import pandas as pd
import matplotlib.pyplot as plt


# modelling part
from run import run


%%time
climatepath = '/Users/varyabazilova/Desktop/paper2/downscaling_simple/supply_limited/langtang_annual_mean_TEST'

# get all folders togetehr 
# ls_ = os.listdir('./langtang')
ls_ = os.listdir(climatepath)
ls = [d for d in ls_ if not d.startswith('.')]
dir0 = os.getcwd()

# run the model for each
for d in ls:
    path = os.path.join(dir0, 'langtang_annual_mean_TEST', d)
    print(path)
    os.chdir(path)
    run()
    os.chdir(dir0)



sediment_out = pd.read_csv('/Users/varyabazilova/Desktop/paper2/downscaling_simple/supply_limited/langtang_annual_mean_TEST/cellnr12/Sediment.out')


hydro = pd.read_csv('/Users/varyabazilova/Desktop/paper2/downscaling_simple/supply_limited/langtang_annual_mean_TEST/cellnr12/Hydro.out')

                       


plt.subplots(figsize = (20, 10))

sediment_out.plot(subplots = True)


hydro.Q.plot()



# sediment_out.sc.plot()
sediment_out.Qdftl.plot()


sediment_out.sc.plot()



