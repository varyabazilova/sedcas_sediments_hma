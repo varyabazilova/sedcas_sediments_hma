


import os
import pandas as pd
import matplotlib.pyplot as plt


# modelling part
from run import run





%%time
climatepath = '/Users/varyabazilova/Desktop/paper2/downscaling_simple/supply_limited/langtang_annual_mean'

# get all folders togetehr 
# ls_ = os.listdir('./langtang')
ls_ = os.listdir(climatepath)
ls = [d for d in ls_ if not d.startswith('.')]
dir0 = os.getcwd()

# run the model for each
for d in ls:
    path = os.path.join(dir0, 'langtang_annual_mean', d)
    print(path)
    os.chdir(path)
    run()
    os.chdir(dir0)






%%time
climatepath = '/Users/varyabazilova/Desktop/paper2/downscaling_simple/supply_limited/langtang_annuall_mean25percent'

# get all folders togetehr 
# ls_ = os.listdir('./langtang')
ls_ = os.listdir(climatepath)
ls = [d for d in ls_ if not d.startswith('.')]
dir0 = os.getcwd()

# run the model for each
for d in ls:
    path = os.path.join(dir0, 'langtang_annuall_mean25percent', d)
    print(path)
    os.chdir(path)
    run()
    os.chdir(dir0)






%%time


climatepath = '/Users/varyabazilova/Desktop/paper2/downscaling_simple/supply_limited/langtang_annuall_mean50percent'

# get all folders togetehr 
# ls_ = os.listdir('./langtang')
ls_ = os.listdir(climatepath)
ls = [d for d in ls_ if not d.startswith('.')]
dir0 = os.getcwd()

# run the model for each
for d in ls:
    path = os.path.join(dir0, 'langtang_annuall_mean50percent', d)
    print(path)
    os.chdir(path)
    run()
    os.chdir(dir0)






%%time

climatepath = '/Users/varyabazilova/Desktop/paper2/downscaling_simple/supply_limited/langtang_annuall_mean75percent'

# get all folders togetehr 
# ls_ = os.listdir('./langtang')
ls_ = os.listdir(climatepath)
ls = [d for d in ls_ if not d.startswith('.')]
dir0 = os.getcwd()

# run the model for each
for d in ls:
    path = os.path.join(dir0, 'langtang_annuall_mean75percent', d)
    print(path)
    os.chdir(path)
    run()
    os.chdir(dir0)





%%time
climatepath = '/Users/varyabazilova/Desktop/paper2/downscaling_simple/supply_limited/langtang100m3'

# get all folders togetehr 
# ls_ = os.listdir('./langtang')
ls_ = os.listdir(climatepath)
ls = [d for d in ls_ if not d.startswith('.')]
dir0 = os.getcwd()

# run the model for each
for d in ls:
    path = os.path.join(dir0, 'langtang100m3', d)
    print(path)
    os.chdir(path)
    run()
    os.chdir(dir0)






%%time
climatepath = '/Users/varyabazilova/Desktop/paper2/downscaling_simple/supply_limited/langtang_GL_annual_mean'
output_folder = 'langtang_GL_annual_mean'

# get all folders togetehr 
# ls_ = os.listdir('./langtang')
ls_ = os.listdir(climatepath)
ls = [d for d in ls_ if not d.startswith('.')]
dir0 = os.getcwd()

# run the model for each
for d in ls:
    path = os.path.join(dir0, output_folder, d)
    print(path)
    os.chdir(path)
    run()
    os.chdir(dir0)






%%time
climatepath = '/Users/varyabazilova/Desktop/paper2/downscaling_simple/supply_limited/langtang_GL_mean25percent'
output_folder = 'langtang_GL_mean25percent'

# get all folders togetehr 
# ls_ = os.listdir('./langtang')
ls_ = os.listdir(climatepath)
ls = [d for d in ls_ if not d.startswith('.')]
dir0 = os.getcwd()

# run the model for each
for d in ls:
    path = os.path.join(dir0, output_folder, d)
    print(path)
    os.chdir(path)
    run()
    os.chdir(dir0)






%%time
climatepath = '/Users/varyabazilova/Desktop/paper2/downscaling_simple/supply_limited/langtang_GL_mean50percent'
output_folder = 'langtang_GL_mean50percent'

# get all folders togetehr 
# ls_ = os.listdir('./langtang')
ls_ = os.listdir(climatepath)
ls = [d for d in ls_ if not d.startswith('.')]
dir0 = os.getcwd()

# run the model for each
for d in ls:
    path = os.path.join(dir0, output_folder, d)
    print(path)
    os.chdir(path)
    run()
    os.chdir(dir0)






%%time
climatepath = '/Users/varyabazilova/Desktop/paper2/downscaling_simple/supply_limited/langtang_GL_mean75percent'
output_folder = 'langtang_GL_mean75percent'

# get all folders togetehr 
# ls_ = os.listdir('./langtang')
ls_ = os.listdir(climatepath)
ls = [d for d in ls_ if not d.startswith('.')]
dir0 = os.getcwd()

# run the model for each
for d in ls:
    path = os.path.join(dir0, output_folder, d)
    print(path)
    os.chdir(path)
    run()
    os.chdir(dir0)




