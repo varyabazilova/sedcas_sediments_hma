import os
import pandas as pd
import matplotlib.pyplot as plt


# modelling part
from run import run




# test run

# landcover 1 -Langtang


# ----------- LANGTANG ------------

# climatepath = '/Users/varyabazilova/Desktop/paper2/202406_modelruns/30years/test/langtang_climate_cut/'
climatepath = '/Users/varyabazilova/Desktop/paper2/202406_modelruns/model_runs_notebooks2/for_jacob/langtang_climate_cut/'
# get all folders togetehr 

ls_ = os.listdir(climatepath)
ls = [d for d in ls_ if not d.startswith('.')]
dir0 = os.getcwd()
# print(dir0)
# run the model for each
for d in ls:
    path = os.path.join(climatepath, d)
    if path.endswith('.csv'):
        continue
    # print(path)
    os.chdir(path)
    run()
    os.chdir(dir0)



testfile = pd.read_csv(climatepath + '/12a/Hydro.out')


testfile['snowmelt'] = testfile['snowacc'].where(testfile['snowacc'] < 0) * -1
testfile['snowacc2'] = testfile['snowacc'].where(testfile['snowacc'] > 0)







AET_monthly = testfile.AET.resample('m').sum()
AET_monthly_mean = AET_monthly.groupby(by=AET_monthly.index.month).mean()
AET_yearly_mean = AET_monthly_mean.sum()




