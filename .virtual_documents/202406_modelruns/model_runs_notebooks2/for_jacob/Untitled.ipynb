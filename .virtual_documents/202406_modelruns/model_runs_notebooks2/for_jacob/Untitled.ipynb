import xarray as xr
import pandas as pd
import matplotlib.pyplot as plt




test = xr.open_dataset('/Users/varyabazilova/Desktop/uu/0_teaching/Msc_students/Leon/Thesisfiles_Varya/climate/Era5/bagrot/swr/1973.nc')

test['ssrd_wm2'] = test.ssrd / (60*60)



test['ssrd_wm2'].mean(dim = 'time').plot()


test['ssrd'].mean(dim = 'time').plot()


aws = pd.read_csv('/Users/varyabazilova/Desktop/paper2/202406_modelruns/model_runs_notebooks2/for_jacob/icimod_data/Kyangjin_ICIMOD.csv')

aws


aws['datetime'] = pd.to_datetime(aws['DATE'] + ' ' + aws['TIME'])
aws = aws.set_index('datetime')


monthly = aws.resample('M').mean()
monthly_mean = monthly.groupby(by=monthly.index.month).mean()
yearly_mean = monthly_mean.sum()



yearly_mean


climatepath = '/Users/varyabazilova/Desktop/paper2/202406_modelruns/model_runs_notebooks2/for_jacob/langtang_climate_cut'
testfile = pd.read_csv(climatepath + '/12a/climatefile.12a.met')
testfile['D'] = pd.to_datetime(testfile['D'])
testfile = testfile.set_index('D')


monthly2 = testfile.resample('M').mean()
monthly_mean2 = monthly2.groupby(by=monthly2.index.month).mean()
# yearly_mean2 = monthly_mean2.sum()



monthly_mean2







monthly_mean.KINC.plot(label = 'aws kyanjin')

monthly_mean2.Rsw.plot(label = 'era5 land')
plt.ylabel('W/m2 (mean monthly)')
plt.ylabel('month')

plt.legend()


monthly_mean2['Rsw2'] = monthly_mean2.Rsw / 60
# monthly_mean2.Rsw2.plot(label = 'era5 land / 3600')


monthly_mean.KINC.plot(label = 'aws')
plt.ylabel('W/m2')

plt.legend()


aws.KINC.plot()



