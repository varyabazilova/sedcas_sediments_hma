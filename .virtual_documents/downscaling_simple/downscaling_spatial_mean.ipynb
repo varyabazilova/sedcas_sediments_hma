


import xarray as xr
import pandas as pd
import matplotlib.pyplot as plt
import os




# test era5 land file
era5land = xr.open_dataset('/Users/varyabazilova/Desktop/paper2/Thesisfiles_Varya/climate/Era5/langtang/temp/2022.nc')
# csv with coordinates and geopotential (z) 
langtang_elevation = pd.read_csv('/Users/varyabazilova/Desktop/paper2/Thesisfiles_Varya/climate/elevation/geopotential_langtang.csv')

# plot together to see how points look
era5land.t2m.isel(time = 1).plot(alpha = 0.5)
plt.scatter(x = langtang_elevation.Longitude, y = langtang_elevation.Latitude)


# dem 30m
# langtang dem - alluvial fans dem part 9
dempath = '/Users/varyabazilova/Desktop/alluvial_fans/dem_all/new_points_catchmetns/all_points/1_dem/'

dem_hma = xr.open_dataset(dempath + 'dem_clip.tif')
# clip using the langtang-ish bbox

# lon = x 
min_lon = era5land.longitude.values.min() - 0.05
max_lon = era5land.longitude.values.max() + 0.05

# lat = y
min_lat = era5land.latitude.values.min() - 0.05
max_lat = era5land.latitude.values.max() + 0.05

dem = dem_hma.rio.clip_box(minx=min_lon, miny=min_lat, maxx=max_lon, maxy=max_lat)



# plot dem together with points 


dem.band_data.plot()
era5land.t2m.isel(time = 1).plot(alpha = 0.4)
plt.scatter(x = langtang_elevation.Longitude, y = langtang_elevation.Latitude, color = 'orange')






# resample the dem file to a lower resolution 
# for xarray coarsen you need a length of coordinates/grid for a new file
# dem


lat_len = len(era5land.latitude.values) # y
lon_len = len(era5land.longitude.values) # x 

y_len = len(dem.y.values)
x_len = len(dem.x.values)

coarsened_dem = dem.coarsen(x=int(x_len/lon_len), y=int(y_len/lat_len), boundary='trim').median()


# plot all together to see of the grid matches

plt.figure(figsize = (13, 8))
dem.band_data.plot()
# era5land.t2m.isel(time = 1).plot()
coarsened_dem.band_data.plot(cmap = 'magma', alpha = 0.5)






# langtang elevation - csv with z value for the geopotential 
longitudes = langtang_elevation.Longitude
latitudes = langtang_elevation.Latitude

selected = coarsened_dem.sel(x = longitudes, y = latitudes, method = 'nearest')


df = selected.to_dataframe()
df = df.reset_index()
df = df.drop_duplicates()
df = df.rename(columns = {'x':'Longitude', 'y':'Latitude'})

# round so that coordinates match
langtang_elevation = langtang_elevation.round(3)
df = df.round(3)


# df





# merge together
merged = langtang_elevation.merge(df, on = ['Longitude', 'Latitude'])

# z - geopotential 
# band_data = dem data 
# delts H = difference between geopotential and DEM info
merged['delta_H'] = merged.z - merged.band_data 
merged['delta_t'] = merged.delta_H * 6.5/1000


merged


# final table with cell number and delta temperature 

df = merged[['cellnr', 'delta_t']]
df






# Specify the path to the folder containing climate files
climate_folder = '/Users/varyabazilova/Desktop/paper2/downscaling_simple/langtang_climate'

# Step 1: Read the table data into a DataFrame
table_df = df
# Step 2: Iterate over each row in the DataFrame
for index, row in table_df.iterrows():
    cellnr = int(row['cellnr'])
    delta_t = row['delta_t']


    
    # Step 3: Read and update the corresponding file
    file_path = os.path.join(climate_folder, f'climatecell.{cellnr}.met')
    if os.path.exists(file_path):
        # Read the file into a DataFrame
        file_df = pd.read_csv(file_path)
        
        # Update Ta values
        file_df['Ta'] = file_df['Ta'] + delta_t
        
        # Save the updated DataFrame back to the file
        file_df.to_csv(file_path, index=False)
        print(f'Ta values updated for {file_path}')
    else:
        print(f'File {file_path} not found.')

print('All updates complete.')




