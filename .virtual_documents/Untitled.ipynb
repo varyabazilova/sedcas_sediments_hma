import pandas as pd


df = pd.DataFrame({'snow': [2.81, 3.21, 3.62, 2.32, 2.71, 3.27, 2.97, 3.21, 3.32],
                   'ice': [4.17, 4.22, 5.27, 5.57, 4.69, 4.22, 4.79, 4.58, 3.61]})





df['difference'] = (df.ice * 100) / df.snow


df['percent'] = df.difference - 100


df



