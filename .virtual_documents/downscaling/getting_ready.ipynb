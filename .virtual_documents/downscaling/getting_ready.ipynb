import xarray as xr
import rioxarray 


# read the data from leon to get the coords for the bbox

path = '/Users/varyabazilova/Desktop/uu/0_teaching/Msc_students/Leon/Thesisfiles_Varya/climate/Era5/langtang/temp/'
ds = xr.open_dataset(path + '2021.nc')


ds.longitude.values


ds.latitude.values


ds.t2m.mean(dim = 'time').plot()


# langtang dem - alluvial fans dem part 9

dempath = '/Users/varyabazilova/Desktop/alluvial_fans/dem_all/new_points_catchmetns/all_points/1_dem/'

dem_hma = xr.open_dataset(dempath + 'dem_clip.tif')



# clip using the langtang-ish bbox


min_lon = ds.longitude.values.min()
min_lat = ds.latitude.values.min()
max_lon = ds.longitude.values.max()
max_lat = ds.latitude.values.max()

dem = dem_hma.rio.clip_box(minx=85, miny=28, maxx=86, maxy=29)



ds.longitude.values.max()














dem.band_data.plot()
# dem


print('max elevation of the this dem tile:', dem.band_data.values.max())
print('min elevation of the this dem tile:', dem.band_data.values.min())



dem.isel(band=0).rio.to_raster("langtangish_dem.tif")



print('lonE', min_lon)
print('latS', min_lat)
print('lonN', max_lon)
print('latW', max_lat)



{'latN': 29, 'latS': 28, 'lonW': 85, 'lonE': 86}
Project lat/lon extent:

lonE 85.2
latS 28.0
lonN 85.9
latW 28.4

