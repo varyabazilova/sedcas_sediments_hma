{
 "cells": [
  {
   "cell_type": "markdown",
   "id": "d8205675-af07-49e6-9118-498bb2cb0201",
   "metadata": {},
   "source": [
    "### Write sediment_input parameter to the parameter file, depending on the location (index = cellnr)"
   ]
  },
  {
   "cell_type": "code",
   "execution_count": 32,
   "id": "a9b9bceb-4ace-462f-bef6-1ae48aab85cd",
   "metadata": {},
   "outputs": [],
   "source": [
    "import pandas as pd\n",
    "import os\n"
   ]
  },
  {
   "cell_type": "code",
   "execution_count": 33,
   "id": "613c3b47-2e3e-427a-97ef-d3da118a962e",
   "metadata": {},
   "outputs": [],
   "source": [
    "# path\n",
    "\n",
    "# default land cover \n",
    "# path ='/Volumes/Extreme SSD/2024May_sedcas_modelruns/2mustangTL/default_land_cover/'\n",
    "path = '/Users/varyabazilova/Desktop/paper2/202405_modelruns/3mustangTL/default_land_cover/'\n",
    "sediment = pd.read_csv(path + 'default_land_cover_mustang_tl_percentiles_with_coords.csv')[['index', 'annual_25percent_Qstl_m3_day']].set_index('index')\n",
    "\n",
    "\n",
    "\n",
    "\n",
    "\n"
   ]
  },
  {
   "cell_type": "code",
   "execution_count": 34,
   "id": "85ce5344-aa13-4359-8a5e-407d0e2e8216",
   "metadata": {},
   "outputs": [
    {
     "data": {
      "text/html": [
       "<div>\n",
       "<style scoped>\n",
       "    .dataframe tbody tr th:only-of-type {\n",
       "        vertical-align: middle;\n",
       "    }\n",
       "\n",
       "    .dataframe tbody tr th {\n",
       "        vertical-align: top;\n",
       "    }\n",
       "\n",
       "    .dataframe thead th {\n",
       "        text-align: right;\n",
       "    }\n",
       "</style>\n",
       "<table border=\"1\" class=\"dataframe\">\n",
       "  <thead>\n",
       "    <tr style=\"text-align: right;\">\n",
       "      <th></th>\n",
       "      <th>annual_25percent_Qstl_m3_day</th>\n",
       "    </tr>\n",
       "    <tr>\n",
       "      <th>index</th>\n",
       "      <th></th>\n",
       "    </tr>\n",
       "  </thead>\n",
       "  <tbody>\n",
       "    <tr>\n",
       "      <th>36b</th>\n",
       "      <td>0.0</td>\n",
       "    </tr>\n",
       "    <tr>\n",
       "      <th>53d</th>\n",
       "      <td>0.0</td>\n",
       "    </tr>\n",
       "    <tr>\n",
       "      <th>53c</th>\n",
       "      <td>0.0</td>\n",
       "    </tr>\n",
       "    <tr>\n",
       "      <th>35c</th>\n",
       "      <td>0.0</td>\n",
       "    </tr>\n",
       "    <tr>\n",
       "      <th>35d</th>\n",
       "      <td>0.0</td>\n",
       "    </tr>\n",
       "    <tr>\n",
       "      <th>...</th>\n",
       "      <td>...</td>\n",
       "    </tr>\n",
       "    <tr>\n",
       "      <th>54a</th>\n",
       "      <td>0.0</td>\n",
       "    </tr>\n",
       "    <tr>\n",
       "      <th>58c</th>\n",
       "      <td>0.0</td>\n",
       "    </tr>\n",
       "    <tr>\n",
       "      <th>32a</th>\n",
       "      <td>0.0</td>\n",
       "    </tr>\n",
       "    <tr>\n",
       "      <th>74b</th>\n",
       "      <td>0.0</td>\n",
       "    </tr>\n",
       "    <tr>\n",
       "      <th>58d</th>\n",
       "      <td>0.0</td>\n",
       "    </tr>\n",
       "  </tbody>\n",
       "</table>\n",
       "<p>188 rows × 1 columns</p>\n",
       "</div>"
      ],
      "text/plain": [
       "       annual_25percent_Qstl_m3_day\n",
       "index                              \n",
       "36b                             0.0\n",
       "53d                             0.0\n",
       "53c                             0.0\n",
       "35c                             0.0\n",
       "35d                             0.0\n",
       "...                             ...\n",
       "54a                             0.0\n",
       "58c                             0.0\n",
       "32a                             0.0\n",
       "74b                             0.0\n",
       "58d                             0.0\n",
       "\n",
       "[188 rows x 1 columns]"
      ]
     },
     "execution_count": 34,
     "metadata": {},
     "output_type": "execute_result"
    }
   ],
   "source": [
    "sediment"
   ]
  },
  {
   "cell_type": "code",
   "execution_count": 35,
   "id": "85c739b4-5853-4e84-87ab-b6df468f009f",
   "metadata": {},
   "outputs": [
    {
     "data": {
      "text/plain": [
       "'annual_25percent_Qstl_m3_day'"
      ]
     },
     "execution_count": 35,
     "metadata": {},
     "output_type": "execute_result"
    }
   ],
   "source": [
    "name = sediment.columns[0]\n",
    "name"
   ]
  },
  {
   "cell_type": "code",
   "execution_count": 36,
   "id": "50b8f31e-338b-43a7-bdb4-8695c6abd30c",
   "metadata": {},
   "outputs": [],
   "source": [
    "\n",
    "def update_parameter_file(folder, index, paramfile, sediment_value):\n",
    "    folder_name = [folder_name for folder_name in os.listdir(folder) if folder_name.endswith(index)][0]  # Extract folder name\n",
    "    folder_path = os.path.join(folder, folder_name)\n",
    "    paramfile_path = os.path.join(folder_path, paramfile)\n",
    "    with open(paramfile_path, 'r') as file:\n",
    "        lines = file.readlines()\n",
    "\n",
    "    for i, line in enumerate(lines):\n",
    "        if line.startswith(\"sediment_input:\"):\n",
    "            # Update the value for \"sediment_input\"\n",
    "            lines[i] = f\"sediment_input:{sediment_value}\\n\"\n",
    "            break\n",
    "\n",
    "    # Write the updated lines back to the parameter file\n",
    "    with open(paramfile_path, 'w') as file:\n",
    "        file.writelines(lines)\n",
    "\n",
    "\n",
    "folder = '/Volumes/Extreme SSD/2024May_sedcas_modelruns/3mustangSL/default_land_cover_25percent'\n",
    "\n",
    "# ---- default land cover \n",
    "# folder = '/Users/varyabazilova/Desktop/paper2/202405_modelruns/1langtangSL/default_land_cover/1default_land_cover_mean_annual'\n",
    "# folder = '/Users/varyabazilova/Desktop/paper2/202405_modelruns/1langtangSL/default_land_cover/2default_land_cover_25percent'\n",
    "# folder = '/Users/varyabazilova/Desktop/paper2/202405_modelruns/1langtangSL/default_land_cover/3default_land_cover_50percent'\n",
    "# folder = '/Users/varyabazilova/Desktop/paper2/202405_modelruns/1langtangSL/default_land_cover/4default_land_cover_75percent'\n",
    "# folder = '/Users/varyabazilova/Desktop/paper2/202405_modelruns/1langtangSL/default_land_cover/100percent_test'\n",
    "\n",
    "# ----- 10percent glacier cover\n",
    "# folder = '/Users/varyabazilova/Desktop/paper2/202405_modelruns/1langtangSL/10percent_glacier/110percent_glacier_mean_annual'\n",
    "# folder = '/Users/varyabazilova/Desktop/paper2/202405_modelruns/1langtangSL/10percent_glacier/210percent_glacier_25percent'\n",
    "# folder = '/Users/varyabazilova/Desktop/paper2/202405_modelruns/1langtangSL/10percent_glacier/310percent_glacier_50percent'\n",
    "# folder = '/Users/varyabazilova/Desktop/paper2/202405_modelruns/1langtangSL/10percent_glacier/410percent_glacier_75percent'\n",
    "\n",
    "\n",
    "\n",
    "paramfile = 'parameters.par'  # Parameter file name\n",
    "# df1 = pd.DataFrame({\"value\": [10, 20, 30]}, index=[\"12b\", \"14a\", \"16c\"])\n",
    "df1 = sediment\n",
    "\n",
    "\n",
    "for index in df1.index:    \n",
    "    # sediment_value = df1.loc[index, \"annual_mean_Qstl_m3_day\"]\n",
    "    # sediment_value = df1.loc[index, \"annual_25percent_Qstl_m3\"]\n",
    "    # sediment_value = df1.loc[index, \"annual_50percent_Qstl_m3\"]\n",
    "    sediment_value = df1.loc[index, name]\n",
    "    update_parameter_file(folder, index, paramfile, sediment_value)\n"
   ]
  },
  {
   "cell_type": "code",
   "execution_count": null,
   "id": "2454941e-d717-4620-bf9e-ad3adf03c7cd",
   "metadata": {},
   "outputs": [],
   "source": []
  },
  {
   "cell_type": "code",
   "execution_count": null,
   "id": "c0a991e0-457d-4217-b415-986659c8790b",
   "metadata": {},
   "outputs": [],
   "source": []
  }
 ],
 "metadata": {
  "kernelspec": {
   "display_name": "Python [conda env:project1]",
   "language": "python",
   "name": "conda-env-project1-py"
  },
  "language_info": {
   "codemirror_mode": {
    "name": "ipython",
    "version": 3
   },
   "file_extension": ".py",
   "mimetype": "text/x-python",
   "name": "python",
   "nbconvert_exporter": "python",
   "pygments_lexer": "ipython3",
   "version": "3.7.11"
  }
 },
 "nbformat": 4,
 "nbformat_minor": 5
}
