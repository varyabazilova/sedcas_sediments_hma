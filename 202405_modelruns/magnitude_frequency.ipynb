{
 "cells": [
  {
   "cell_type": "code",
   "execution_count": 1,
   "id": "fdb6a515-1499-41a6-a9da-c06b727a3752",
   "metadata": {},
   "outputs": [],
   "source": [
    "import pandas as pd\n",
    "import matplotlib.pyplot as plt\n",
    "import matplotlib.dates as mdates\n",
    "from matplotlib.ticker import MaxNLocator\n",
    "import numpy as np\n",
    "import seaborn as sns\n",
    "import os\n",
    "\n",
    "import functions"
   ]
  },
  {
   "cell_type": "markdown",
   "id": "ebeb5553-387c-4336-899a-0c71f4217f4b",
   "metadata": {},
   "source": [
    "## read data - langtang "
   ]
  },
  {
   "cell_type": "code",
   "execution_count": null,
   "id": "a7f48d92-0502-4bb4-8ab4-bb15d8b9aa24",
   "metadata": {},
   "outputs": [],
   "source": [
    "# read things and convert units \n",
    "pathTL = '/Users/varyabazilova/Desktop/paper2/202405_modelruns/1langtangTL/'\n",
    "pathSL = '/Users/varyabazilova/Desktop/paper2/202405_modelruns/1langtangSL/'\n",
    "\n",
    "\n",
    "# transport limited \n",
    "Sed_tl = functions.convert_units_to_volume(pd.read_csv(pathTL + 'default_land_cover/cellnr12a/Sediment.out'))\n",
    "Sed_tl_gl = functions.convert_units_to_volume(pd.read_csv(pathTL + '10percent_glacier/cellnr12a/Sediment.out'))\n",
    "\n",
    "\n",
    "# supply limited - default \n",
    "Sed_mean      = functions.convert_units_to_volume(pd.read_csv(pathSL + 'default_land_cover/1default_land_cover_mean_annual/cellnr12a/Sediment.out'))\n",
    "Sed_percent25 = functions.convert_units_to_volume(pd.read_csv(pathSL + 'default_land_cover/2default_land_cover_25percent/cellnr12a/Sediment.out'))\n",
    "Sed_percent50 = functions.convert_units_to_volume(pd.read_csv(pathSL + 'default_land_cover/3default_land_cover_50percent/cellnr12a/Sediment.out'))\n",
    "Sed_percent75 = functions.convert_units_to_volume(pd.read_csv(pathSL + 'default_land_cover/4default_land_cover_75percent/cellnr12a/Sediment.out'))\n",
    "\n",
    "\n",
    "# supply limited - 10% glacier \n",
    "Sed_mean_gl      = functions.convert_units_to_volume(pd.read_csv(pathSL + '10percent_glacier/110percent_glacier_mean_annual/cellnr12a/Sediment.out'))\n",
    "Sed_percent25_gl = functions.convert_units_to_volume(pd.read_csv(pathSL + '10percent_glacier/210percent_glacier_25percent/cellnr12a/Sediment.out'))\n",
    "Sed_percent50_gl = functions.convert_units_to_volume(pd.read_csv(pathSL + '10percent_glacier/310percent_glacier_50percent/cellnr12a/Sediment.out'))\n",
    "Sed_percent75_gl = functions.convert_units_to_volume(pd.read_csv(pathSL + '10percent_glacier/410percent_glacier_75percent/cellnr12a/Sediment.out'))\n",
    "\n"
   ]
  },
  {
   "cell_type": "code",
   "execution_count": null,
   "id": "10984677-f247-4daa-8589-c8ba4625650e",
   "metadata": {},
   "outputs": [],
   "source": [
    "\n",
    "# magnitude_frequency\n",
    "# transport limited: for the DF: \n",
    "Sed_tl_MF = functions.magnitude_frequency(Sed_tl, 'Qdftl')\n",
    "Sed_tl_gl_MF = functions.magnitude_frequency(Sed_tl_gl, 'Qdftl')\n",
    "\n",
    "# transport limited: for the SED YEILD: \n",
    "Sed_tl_sed_MF = functions.magnitude_frequency(Sed_tl, 'Qstl')\n",
    "Sed_tl_gl_sed_MF = functions.magnitude_frequency(Sed_tl_gl, 'Qstl')\n",
    "\n",
    "\n",
    "# supply limited: for the Q100\n",
    "Sed_percent25_MF = functions.magnitude_frequency(Sed_percent25, 'Q100')\n",
    "Sed_percent50_MF = functions.magnitude_frequency(Sed_percent50, 'Q100')\n",
    "Sed_percent75_MF = functions.magnitude_frequency(Sed_percent75, 'Q100')\n",
    "\n",
    "# supply limited with glacier \n",
    "Sed_percent25_gl_MF = functions.magnitude_frequency(Sed_percent25_gl, 'Q100')\n",
    "Sed_percent50_gl_MF = functions.magnitude_frequency(Sed_percent50_gl, 'Q100')\n",
    "Sed_percent75_gl_MF = functions.magnitude_frequency(Sed_percent75_gl, 'Q100')"
   ]
  },
  {
   "cell_type": "code",
   "execution_count": null,
   "id": "cfa29c5b-c315-43f8-9777-7ded66e52235",
   "metadata": {},
   "outputs": [],
   "source": [
    "# 1. TL glaciers vs no glaciers\n",
    "\n",
    "fontsize = 20\n",
    "\n",
    "fig, ax = plt.subplots(figsize=(10, 8))\n",
    "\n",
    "# # transport limited - df\n",
    "ax.scatter(x=Sed_tl_MF.Qdftl.values, y=Sed_tl_MF.prob.values,facecolors='none', edgecolor = 'darkorange',label = 'TL Qdf no glacier')\n",
    "ax.scatter(x=Sed_tl_gl_MF.Qdftl.values, y=Sed_tl_gl_MF.prob.values, marker = 'v', label = 'TL Qdf glacier (10%)')\n",
    "\n",
    "# # # transport limited - Qs\n",
    "# ax.scatter(x=Sed_tl_sed_MF.Qdftl.values, y=Sed_tl_sed_MF.prob.values, label = 'Qs no glacier')\n",
    "# ax.scatter(x=Sed_tl_gl_sed_MF.Qdftl.values, y=Sed_tl_gl_sed_MF.prob.values, label = 'Qs glacier')\n",
    "\n",
    "\n",
    "# # supply limited no glacier\n",
    "# # ax.scatter(x=Sed_percent25_MF.Qdftl.values, y=Sed_percent25_MF.prob.values, label = 'Sed_percent25_MF')\n",
    "# ax.scatter(x=Sed_percent50_MF.Qdftl.values, y=Sed_percent50_MF.prob.values,facecolors='none', edgecolor ='forestgreen', label = '50 %, w/o glacier')\n",
    "# ax.scatter(x=Sed_percent75_MF.Qdftl.values, y=Sed_percent75_MF.prob.values, facecolors='none', edgecolor ='darkred',label = '75 %, w/o glacier')\n",
    "\n",
    "# # # # supply limited with glacier \n",
    "# # # ax.scatter(x=Sed_percent25_gl_MF.Qdftl.values, y=Sed_percent25_gl_MF.prob.values, label = 'Sed_percent25_gl_MF')\n",
    "# ax.scatter(x=Sed_percent50_gl_MF.Qdftl.values, y=Sed_percent50_gl_MF.prob.values, marker = 'v', label = '50 %, w/ glacier')\n",
    "# ax.scatter(x=Sed_percent75_gl_MF.Qdftl.values, y=Sed_percent75_gl_MF.prob.values, marker = 'v', label = '75 %, w/ glacier')\n",
    "\n",
    "\n",
    "plt.legend(fontsize=fontsize)\n",
    "\n",
    "ax.set_xscale('log')\n",
    "ax.set_yscale('log')\n",
    "\n",
    "plt.xlabel('Q sediment (debris flow)', fontsize=fontsize)  # Setting label and fontsize for x-axis\n",
    "plt.ylabel('probability', fontsize=fontsize)  # Setting label and fontsize for y-axis\n",
    "plt.tick_params(axis='both', which='major', labelsize=fontsize)  # Set size of major ticks on both axes\n",
    "\n",
    "# plt.savefig('MF1.png', dpi = 300)"
   ]
  },
  {
   "cell_type": "code",
   "execution_count": null,
   "id": "1c4ffb7b-bdb7-4b95-ba29-c539b0075144",
   "metadata": {},
   "outputs": [],
   "source": [
    "# 2. SL no glaciers \n",
    "\n",
    "# 2. SL no glaciers \n",
    "\n",
    "fontsize = 20\n",
    "\n",
    "fig, ax = plt.subplots(figsize=(10, 8))\n",
    "\n",
    "# TL\n",
    "# ax.scatter(x=Sed_tl_MF.Qdftl.values, y=Sed_tl_MF.prob.values,facecolors='none', edgecolor = 'darkorange',label = 'TL Qdf no glacier')\n",
    "# ax.scatter(x=Sed_tl_gl_MF.Qdftl.values, y=Sed_tl_gl_MF.prob.values, marker = 'v', label = 'TL Qdf glacier (10%)')\n",
    "\n",
    "\n",
    "\n",
    "# # supply limited no glacier\n",
    "ax.scatter(x=Sed_percent25_MF.Q100.values, y=Sed_percent25_MF.prob.values, facecolors='none', edgecolor ='lime', label = '25 %, w/o glacier')\n",
    "ax.scatter(x=Sed_percent50_MF.Q100.values, y=Sed_percent50_MF.prob.values, marker= 'x', color ='forestgreen', label = '50 %, w/o glacier')\n",
    "ax.scatter(x=Sed_percent75_MF.Q100.values, y=Sed_percent75_MF.prob.values, facecolors='none', edgecolor ='darkred',label = '75 %, w/o glacier')\n",
    "\n",
    "# # # # supply limited with glacier \n",
    "# ax.scatter(x=Sed_percent25_gl_MF.Q100.values, y=Sed_percent25_gl_MF.prob.values, marker = 'v', label = 'Sed_percent25_gl_MF')\n",
    "# ax.scatter(x=Sed_percent50_gl_MF.Q100.values, y=Sed_percent50_gl_MF.prob.values, marker = 'v', label = '50 %, w/ glacier')\n",
    "# ax.scatter(x=Sed_percent75_gl_MF.Q100.values, y=Sed_percent75_gl_MF.prob.values, marker = 'v', label = '75 %, w/ glacier')\n",
    "\n",
    "\n",
    "plt.legend(fontsize=fontsize)\n",
    "\n",
    "ax.set_xscale('log')\n",
    "ax.set_yscale('log')\n",
    "\n",
    "plt.xlabel('Q sediment (debris flow)', fontsize=fontsize)  # Setting label and fontsize for x-axis\n",
    "plt.ylabel('probability', fontsize=fontsize)  # Setting label and fontsize for y-axis\n",
    "plt.tick_params(axis='both', which='major', labelsize=fontsize)  # Set size of major ticks on both axes\n",
    "\n",
    "# plt.savefig('MF1.png', dpi = 300)\n",
    "\n",
    "\n",
    "\n",
    "\n",
    "\n",
    "\n"
   ]
  },
  {
   "cell_type": "code",
   "execution_count": null,
   "id": "86b90759-7c04-4e08-b900-ba4672f0eada",
   "metadata": {},
   "outputs": [],
   "source": [
    "# 2. SL no glaciers \n",
    "\n",
    "fontsize = 20\n",
    "\n",
    "fig, ax = plt.subplots(figsize=(10, 8))\n",
    "\n",
    "# # TL\n",
    "# ax.scatter(x=Sed_tl_MF.Qdftl.values, y=Sed_tl_MF.prob.values,facecolors='none', edgecolor = 'darkorange',label = 'TL Qdf no glacier')\n",
    "# ax.scatter(x=Sed_tl_gl_MF.Qdftl.values, y=Sed_tl_gl_MF.prob.values, marker = 'v', label = 'TL Qdf glacier (10%)')\n",
    "\n",
    "\n",
    "\n",
    "# # supply limited no glacier\n",
    "ax.scatter(x=Sed_percent25_MF.Q100.values, y=Sed_percent25_MF.prob.values, facecolors='none', edgecolor ='lime', label = '25 %, no glacier')\n",
    "ax.scatter(x=Sed_percent50_MF.Q100.values, y=Sed_percent50_MF.prob.values,facecolors='none', edgecolor ='forestgreen', label = '50 %, no glacier')\n",
    "ax.scatter(x=Sed_percent75_MF.Q100.values, y=Sed_percent75_MF.prob.values, facecolors='none', edgecolor ='darkred',label = '75 %, no glacier')\n",
    "\n",
    "# # # supply limited with glacier \n",
    "ax.scatter(x=Sed_percent25_gl_MF.Q100.values, y=Sed_percent25_gl_MF.prob.values, marker = 'v', label = '25 %, 10% glacier')\n",
    "ax.scatter(x=Sed_percent50_gl_MF.Q100.values, y=Sed_percent50_gl_MF.prob.values, marker = 'v', label = '50 %, 10% glacier')\n",
    "ax.scatter(x=Sed_percent75_gl_MF.Q100.values, y=Sed_percent75_gl_MF.prob.values, marker = 'v', label = '75 %, 10% glacier')\n",
    "\n",
    "\n",
    "plt.legend(fontsize=fontsize)\n",
    "\n",
    "# ax.set_xscale('log')\n",
    "# ax.set_yscale('log')\n",
    "\n",
    "plt.xlabel('Q sediment (debris flow)', fontsize=fontsize)  # Setting label and fontsize for x-axis\n",
    "plt.ylabel('probability', fontsize=fontsize)  # Setting label and fontsize for y-axis\n",
    "plt.tick_params(axis='both', which='major', labelsize=fontsize)  # Set size of major ticks on both axes\n",
    "\n",
    "# plt.savefig('MF1.png', dpi = 300)\n",
    "\n",
    "\n",
    "\n"
   ]
  },
  {
   "cell_type": "markdown",
   "id": "5374c329-bc7f-4c18-ae0f-6b59a86a660a",
   "metadata": {},
   "source": [
    "# time series plots "
   ]
  },
  {
   "cell_type": "code",
   "execution_count": null,
   "id": "24076a96-9870-4e7a-a386-c6eba1bf83da",
   "metadata": {},
   "outputs": [],
   "source": [
    "# path = '/Users/varyabazilova/Desktop/paper2/downscaling_simple/'\n",
    "\n",
    "columns = ['D', 'Q100', 'sc', 'Qstl', 'Qdftl']\n",
    "ts1 = 420960\n",
    "ts2 = 467520\n",
    "\n",
    "\n",
    "\n",
    "# transport limited \n",
    "Sed_tl = pd.read_csv(pathTL + 'default_land_cover/cellnr12a/Sediment.out')[columns].set_index('D')\n",
    "Sed_tl_gl = pd.read_csv(pathTL + '10percent_glacier/cellnr12a/Sediment.out')[columns].set_index('D')\n",
    "\n",
    "\n",
    "# supply limited - default \n",
    "Sed_mean      = pd.read_csv(pathSL + 'default_land_cover/1default_land_cover_mean_annual/cellnr14b/Sediment.out')[columns].set_index('D')\n",
    "Sed_percent25 = pd.read_csv(pathSL + 'default_land_cover/2default_land_cover_25percent/cellnr14b/Sediment.out')[columns].set_index('D')\n",
    "Sed_percent50 = pd.read_csv(pathSL + 'default_land_cover/3default_land_cover_50percent/cellnr14b/Sediment.out')[columns].set_index('D')\n",
    "Sed_percent75 = pd.read_csv(pathSL + 'default_land_cover/4default_land_cover_75percent/cellnr14b/Sediment.out')[columns].set_index('D')\n",
    "\n",
    "\n",
    "# supply limited - 10% glacier \n",
    "Sed_mean_gl      = pd.read_csv(pathSL + '10percent_glacier/110percent_glacier_mean_annual/cellnr14b/Sediment.out')[columns].set_index('D')\n",
    "Sed_percent25_gl = pd.read_csv(pathSL + '10percent_glacier/210percent_glacier_25percent/cellnr14b/Sediment.out')[columns].set_index('D')\n",
    "Sed_percent50_gl = pd.read_csv(pathSL + '10percent_glacier/310percent_glacier_50percent/cellnr14b/Sediment.out')[columns].set_index('D')\n",
    "Sed_percent75_gl = pd.read_csv(pathSL + '10percent_glacier/410percent_glacier_75percent/cellnr14b/Sediment.out')[columns].set_index('D')\n",
    "\n",
    "\n"
   ]
  },
  {
   "cell_type": "code",
   "execution_count": null,
   "id": "3c416ffb-8bb1-4212-98fb-54eccc99d3d6",
   "metadata": {},
   "outputs": [],
   "source": [
    "Sed_percent50.Q100.plot()\n",
    "\n"
   ]
  },
  {
   "cell_type": "code",
   "execution_count": null,
   "id": "73482d1f-0734-4398-91b4-723588810e68",
   "metadata": {},
   "outputs": [],
   "source": []
  },
  {
   "cell_type": "code",
   "execution_count": null,
   "id": "ad7e4801-0c82-4a60-b847-3de2e3fc88a0",
   "metadata": {},
   "outputs": [],
   "source": [
    "\n",
    "\n",
    "fig, ax = plt.subplots(figsize=(15, 7))\n",
    "\n",
    "# Sed_mean.Q100.plot(label = 'mean annual', color = 'orange')\n",
    "Sed_percent75.Q100.plot(label = 'Q75% sediment discharge', color = 'darkred')\n",
    "Sed_percent50.Q100.plot(label = 'Q50% sediment discharge', color = 'forestgreen')\n",
    "Sed_percent25.Q100.plot(label = 'Q25% sediment discharge', color = 'magenta')\n",
    "\n",
    "plt.legend()\n",
    "# ax.set_ylim((4,6))"
   ]
  },
  {
   "cell_type": "code",
   "execution_count": null,
   "id": "53d3dce4-a2e5-4c6a-80bc-915879ac3e7f",
   "metadata": {},
   "outputs": [],
   "source": [
    "fig, ax = plt.subplots(figsize=(15, 7))\n",
    "\n",
    "\n",
    "# Sed_mean.sc.plot(label = 'mean annual', color = 'orange')\n",
    "# Sed_mean_gl.sc.plot(label = 'mean annual gl')\n",
    "\n",
    "Sed_percent25.sc.plot(label = 'Q25% sc', color = 'magenta')\n",
    "Sed_percent25_gl.sc.plot(label = 'Q25% sc gl', color = 'pink')\n",
    "\n",
    "Sed_percent50.sc.plot(label = 'Q50% sc', color = 'forestgreen')\n",
    "Sed_percent50_gl.sc.plot(label = 'Q50% sc gl', color = 'lime')\n",
    "\n",
    "Sed_percent75.sc.plot(label = 'Q75% sc', color = 'darkred')\n",
    "Sed_percent75_gl.sc.plot(label = 'Q75% sc gl', color = 'red')\n",
    "\n",
    "\n",
    "\n",
    "plt.legend()\n",
    "plt.title('sediment storage (different values as daily sediment input')\n",
    "# ax.set_ylim((4,6))"
   ]
  },
  {
   "cell_type": "code",
   "execution_count": null,
   "id": "c91806ce-310b-4497-af4a-0070af789653",
   "metadata": {},
   "outputs": [],
   "source": [
    "fig, ax = plt.subplots(figsize=(15, 7))\n",
    "# mean annual \n",
    "# Sed_mean.sc.plot(label = 'mean annual', color = 'orange')\n",
    "# Sed_mean_gl.sc.plot(label = 'mean annual gl')\n",
    "\n",
    "# 25% \n",
    "# Sed_percent25.sc.plot(label = 'Q25% sc', color = 'magenta')\n",
    "# Sed_percent25_gl.sc.plot(label = 'Q25% sc gl')\n",
    "\n",
    "# 50%\n",
    "# Sed_percent50.sc.plot(label = 'Q50% sc', color = 'forestgreen')\n",
    "# Sed_percent50_gl.sc.plot(label = 'Q50% sc gl')\n",
    "\n",
    "# 75%\n",
    "Sed_percent75.sc.plot(label = 'Q75% sc', color = 'darkred')\n",
    "Sed_percent75_gl.sc.plot(label = 'Q75% sc gl')\n",
    "\n",
    "\n",
    "plt.legend()\n"
   ]
  },
  {
   "cell_type": "code",
   "execution_count": null,
   "id": "3c96bbbc-46c5-4585-a49a-f53837d2742b",
   "metadata": {},
   "outputs": [],
   "source": []
  },
  {
   "cell_type": "markdown",
   "id": "8957ac45-9e03-4147-9692-3351ccf86415",
   "metadata": {},
   "source": [
    "# time series plots"
   ]
  },
  {
   "cell_type": "code",
   "execution_count": null,
   "id": "f61b4f0d-6ff6-4e05-ba08-8dfc243003a5",
   "metadata": {},
   "outputs": [],
   "source": [
    "fig = plt.figure(figsize=(20, 10))\n",
    "mosaic = fig.subplot_mosaic('''\n",
    "                            fff\n",
    "                            aaa\n",
    "                            bbb\n",
    "                            ccc\n",
    "                            ddd\n",
    "                            ''')\n",
    "\n",
    "Sed_tl.Q100.plot(ax=mosaic['f'], label = 'TL', color = 'blue')\n",
    "Sed_tl_gl.Q100.plot(ax=mosaic['f'], label = 'TL 10%gl', color = 'orange')\n",
    "    \n",
    "Sed_mean_gl.Q100.plot(ax=mosaic['a'], label = 'mean annual gl', color = 'blue')\n",
    "Sed_mean.Q100.plot(ax=mosaic['a'], label = 'mean annual 10%gl', color = 'orange')\n",
    "\n",
    "Sed_percent75.Q100.plot(ax=mosaic['b'], label = 'Q75% sediment discharge', color = 'blue')\n",
    "Sed_percent75_gl.Q100.plot(ax=mosaic['b'], label = 'Q75% sediment discharge 10%gl', color = 'orange')\n",
    "\n",
    "Sed_percent50.Q100.plot(ax=mosaic['c'], label = 'Q50% sediment discharge', color = 'blue')\n",
    "Sed_percent50_gl.Q100.plot(ax=mosaic['c'], label = 'Q50% sediment discharge 10% gl', color = 'orange')\n",
    "\n",
    "Sed_percent25.Q100.plot(ax=mosaic['d'], label = 'Q25% sediment discharge', color = 'blue')\n",
    "Sed_percent25_gl.Q100.plot(ax=mosaic['d'], label = 'Q25% sediment discharge 10%gl', color = 'orange')\n",
    "\n",
    "\n",
    "plt.legend()"
   ]
  },
  {
   "cell_type": "markdown",
   "id": "dd00348d-2d39-424c-ae5a-ee2ddf52d148",
   "metadata": {},
   "source": [
    "# mean monthly sediments plots "
   ]
  },
  {
   "cell_type": "code",
   "execution_count": null,
   "id": "e4719140-72a1-4c6c-9a52-601b0eee7a0d",
   "metadata": {},
   "outputs": [],
   "source": [
    "# plot boxplots for monthly sediment yeild (units???) \n",
    "# - calculate the mean monthly for each timeseries \n",
    "# - have a table with (1) elevation, (2) cell id, (3-14) 12 mean monthly values \n",
    "\n",
    "# how to make a plot \n",
    "# https://www.geeksforgeeks.org/how-to-make-boxplots-with-data-points-using-seaborn-in-python/"
   ]
  },
  {
   "cell_type": "code",
   "execution_count": null,
   "id": "a09dd53f-79ec-46d4-a870-b6bee9f341ba",
   "metadata": {},
   "outputs": [],
   "source": [
    "# 1. calculate monthly for all the time-series "
   ]
  },
  {
   "cell_type": "code",
   "execution_count": null,
   "id": "9d84841a-2486-4a05-85a2-c83063d91062",
   "metadata": {},
   "outputs": [],
   "source": [
    "%%time\n",
    "\n",
    "# columns = ['D', 'Q100', 'sc', 'Qstl', 'Qdftl']\n",
    "\n",
    "column = 'Q100'\n",
    "print(column)\n",
    "result_df = pd.DataFrame()\n",
    "\n",
    "# Define the path to your folders\n",
    "folder_path = '/Users/varyabazilova/Desktop/paper2/202405_modelruns/1langtangTL/10percent_glacier'\n",
    "# folder_path = '/Users/varyabazilova/Desktop/paper2/202405_modelruns/1langtangTL/default_land_cover'\n",
    "\n",
    "# Iterate over the files in the folders\n",
    "for folder_name in os.listdir(folder_path):\n",
    "    # skip dsstore thing\n",
    "    if folder_name == '.DS_Store':\n",
    "        continue\n",
    "    # skip all csvs\n",
    "    if folder_name.endswith('.csv'):\n",
    "        continue\n",
    "    file_path = os.path.join(folder_path, folder_name, 'Sediment.out')\n",
    "    if os.path.isfile(file_path):\n",
    "        \n",
    "        # calculate mean monthly value for given column \n",
    "        output_df = functions.calculate_monthly_sediment_yield(pd.read_csv(file_path))\n",
    "        # take the column \n",
    "        name_column = output_df[column]\n",
    "        # rename the columns \n",
    "        column_name = f'{column}_{folder_name}'\n",
    "        result_df[column_name] = name_column\n",
    "        result_df.columns = [col[-3:] for col in result_df.columns]\n",
    "\n",
    "# result_df2 = result_df.transpose()\n",
    "\n",
    "# result_df.to_csv(folder_path + '/mean_monthly_Q1010.csv', index = False)"
   ]
  },
  {
   "cell_type": "code",
   "execution_count": null,
   "id": "66c31aef-e182-4935-922d-8805cb2e5ccf",
   "metadata": {},
   "outputs": [],
   "source": [
    "# result_df"
   ]
  },
  {
   "cell_type": "markdown",
   "id": "76f23a2d-1fa1-4393-8bfe-db82799da86c",
   "metadata": {},
   "source": [
    "## read in "
   ]
  },
  {
   "cell_type": "code",
   "execution_count": 2,
   "id": "012b9937-174c-4a10-b727-f1e7052be464",
   "metadata": {},
   "outputs": [],
   "source": [
    "# read elevation \n",
    "df = pd.read_csv('/Users/varyabazilova/Desktop/paper2/202405_modelruns/1langtangTL/10percent_glacier/mean_monthly_Q100.csv', index_col= 0)\n"
   ]
  },
  {
   "cell_type": "markdown",
   "id": "4f0b2ced-0a3f-42b5-9c98-967f277d1499",
   "metadata": {},
   "source": [
    "## add elevation "
   ]
  },
  {
   "cell_type": "code",
   "execution_count": 3,
   "id": "38447b0d-1f40-4379-a593-8db6b5d06092",
   "metadata": {},
   "outputs": [],
   "source": [
    "elevation = pd.read_csv('/Users/varyabazilova/Desktop/paper2/downscaling_simple/coordinates_and_elevation_with_labels_langtang.csv')[['cellnr2','band_data']] \n"
   ]
  },
  {
   "cell_type": "code",
   "execution_count": 4,
   "id": "baa27139-3556-4b43-92b8-d0fb2b4f6f04",
   "metadata": {},
   "outputs": [],
   "source": [
    "df = functions.add_elevation(elevation, df)\n",
    "\n"
   ]
  },
  {
   "cell_type": "code",
   "execution_count": 27,
   "id": "373ed2b9-add6-4a95-8b83-7bb8acf22824",
   "metadata": {},
   "outputs": [],
   "source": [
    "df1 = functions.data_for_boxplots_sorted(df, 'Qdftl', 'band_data')"
   ]
  },
  {
   "cell_type": "code",
   "execution_count": 28,
   "id": "21468bc6-650d-4ef6-85b9-e988b42723a6",
   "metadata": {},
   "outputs": [
    {
     "data": {
      "text/plain": [
       "Text(0.5, 1.0, 'elevation is sorted from low to high')"
      ]
     },
     "execution_count": 28,
     "metadata": {},
     "output_type": "execute_result"
    },
    {
     "data": {
      "image/png": "[encoded data removed]",
      "text/plain": [
       "<Figure size 1512x432 with 1 Axes>"
      ]
     },
     "metadata": {
      "needs_background": "light"
     },
     "output_type": "display_data"
    }
   ],
   "source": [
    "\n",
    "plt.figure(figsize=(21, 6))  # Optional: Set the figure size\n",
    "boxplots = sns.boxplot(x='cellnr2', y='Qdftl',  data=df1, palette = 'magma_r')#, legend=False)\n",
    "\n",
    "plt.legend([], [], frameon=False)\n",
    "\n",
    "# sns.stripplot(x='Q100', y='Q100', data=melted_df, color = 'grey', alpha = 0.7) \n",
    "\n",
    "plt.title('elevation is sorted from low to high')\n"
   ]
  },
  {
   "cell_type": "code",
   "execution_count": 29,
   "id": "d15a0055-12c1-4fcf-bb03-06deb3cea0bc",
   "metadata": {},
   "outputs": [
    {
     "data": {
      "text/plain": [
       "Text(0.5, 1.0, 'elevation is sorted from low to high')"
      ]
     },
     "execution_count": 29,
     "metadata": {},
     "output_type": "execute_result"
    },
    {
     "data": {
      "image/png": "[encoded data removed]",
      "text/plain": [
       "<Figure size 1512x432 with 1 Axes>"
      ]
     },
     "metadata": {
      "needs_background": "light"
     },
     "output_type": "display_data"
    }
   ],
   "source": [
    "df1 = functions.data_for_boxplots_sorted(df, 'Q100', 'band_data')\n",
    "\n",
    "\n",
    "plt.figure(figsize=(21, 6))  # Optional: Set the figure size\n",
    "boxplots = sns.boxplot(x='cellnr2', y='Q100',  data=df1, palette = 'magma_r')#, legend=False)\n",
    "\n",
    "plt.legend([], [], frameon=False)\n",
    "\n",
    "# sns.stripplot(x='Q100', y='Q100', data=melted_df, color = 'grey', alpha = 0.7) \n",
    "\n",
    "plt.title('elevation is sorted from low to high')\n"
   ]
  },
  {
   "cell_type": "code",
   "execution_count": 26,
   "id": "d4f0fd1d-d9ea-4e7b-a7f2-7ad2a7c9174c",
   "metadata": {},
   "outputs": [
    {
     "data": {
      "text/plain": [
       "Text(0.5, 1.0, 'mean monthly Q100, sed; 10% glacier cover')"
      ]
     },
     "execution_count": 26,
     "metadata": {},
     "output_type": "execute_result"
    },
    {
     "data": {
      "image/png": "[encoded data removed]",
      "text/plain": [
       "<Figure size 1080x432 with 1 Axes>"
      ]
     },
     "metadata": {
      "needs_background": "light"
     },
     "output_type": "display_data"
    }
   ],
   "source": [
    "\n",
    "plt.figure(figsize=(15, 6))  # Optional: Set the figure size\n",
    "boxplots = sns.boxplot(x='month', y='Q100',  data=df1, color = 'lightgrey')#, palette = 'magma_r')#, legend=False)\n",
    "\n",
    "palette = plt.cm.magma_r\n",
    "\n",
    "scatter = sns.scatterplot(data=df_nozero, x='month', y='Q100', hue='band_data', palette=palette)#, marker='o')#, markersize = 10)\n",
    "\n",
    "plt.title('mean monthly Q100, sed; 10% glacier cover')"
   ]
  },
  {
   "cell_type": "code",
   "execution_count": 17,
   "id": "3f1dbfe3-4c9e-4d68-b58c-4f3851b310a9",
   "metadata": {},
   "outputs": [],
   "source": []
  },
  {
   "cell_type": "code",
   "execution_count": 23,
   "id": "4f704308-76ba-4d14-bd34-09cc9e9d0892",
   "metadata": {},
   "outputs": [
    {
     "data": {
      "text/plain": [
       "Text(0.5, 1.0, 'mean monthly Q100 (no zeros), sed; 10% glacier cover')"
      ]
     },
     "execution_count": 23,
     "metadata": {},
     "output_type": "execute_result"
    },
    {
     "data": {
      "image/png": "[encoded data removed]",
      "text/plain": [
       "<Figure size 1080x432 with 1 Axes>"
      ]
     },
     "metadata": {
      "needs_background": "light"
     },
     "output_type": "display_data"
    }
   ],
   "source": [
    "df_nozero = df1.replace(0,  np.nan)\n",
    "\n",
    "\n",
    "palette = plt.cm.magma_r\n",
    "\n",
    "plt.figure(figsize=(15, 6))  # Optional: Set the figure size\n",
    "boxplots = sns.boxplot(x='month', y='Q100',  data=df_nozero, color='lightgrey')#, legend=False)\n",
    "\n",
    "scatter = sns.scatterplot(data=df_nozero, x='month', y='Q100', hue='band_data', palette=palette)#, marker='o')#, markersize = 10)\n",
    "\n",
    "plt.title('mean monthly Q100 (no zeros), sed; 10% glacier cover')"
   ]
  },
  {
   "cell_type": "markdown",
   "id": "617d7ce1-620e-4b99-8cfa-5ca4769d7388",
   "metadata": {},
   "source": [
    "# together - Q100 "
   ]
  },
  {
   "cell_type": "code",
   "execution_count": null,
   "id": "fdc84cee-0e7b-44c8-850d-63c124f3c851",
   "metadata": {},
   "outputs": [],
   "source": []
  },
  {
   "cell_type": "code",
   "execution_count": null,
   "id": "a9da8a46-ddfc-4322-b2ed-361ee4a0f122",
   "metadata": {},
   "outputs": [],
   "source": []
  },
  {
   "cell_type": "code",
   "execution_count": null,
   "id": "64d27dcd-9c06-4558-b3f9-f9ea831a6f78",
   "metadata": {},
   "outputs": [],
   "source": []
  },
  {
   "cell_type": "code",
   "execution_count": null,
   "id": "d34a7b85-4229-4de3-ac3d-904c0073b8b6",
   "metadata": {},
   "outputs": [],
   "source": []
  },
  {
   "cell_type": "code",
   "execution_count": null,
   "id": "9ad82789-f16c-4b6e-9002-30509a5bb55e",
   "metadata": {},
   "outputs": [],
   "source": []
  },
  {
   "cell_type": "code",
   "execution_count": null,
   "id": "403e1a8c-53c3-46df-83e9-31492406450b",
   "metadata": {},
   "outputs": [],
   "source": []
  },
  {
   "cell_type": "markdown",
   "id": "50568fa6-2487-43e4-a8e0-bd8160cfae41",
   "metadata": {},
   "source": [
    "# add elevation "
   ]
  },
  {
   "cell_type": "code",
   "execution_count": null,
   "id": "921fbe22-d8fd-494a-9590-ef63284d16a0",
   "metadata": {},
   "outputs": [],
   "source": [
    "transposed = transposed.reset_index()"
   ]
  },
  {
   "cell_type": "code",
   "execution_count": null,
   "id": "ae3c110d-5b99-464b-a5d4-6edec66a855f",
   "metadata": {},
   "outputs": [],
   "source": [
    "transposed = transposed.rename(columns ={'index':'cellnr2'})"
   ]
  },
  {
   "cell_type": "code",
   "execution_count": null,
   "id": "d7032537-905b-46b7-abd1-c7ea60573c32",
   "metadata": {},
   "outputs": [],
   "source": [
    "# transposed"
   ]
  },
  {
   "cell_type": "code",
   "execution_count": null,
   "id": "d432ebb5-a2d5-45ad-a113-f1d57079b7ef",
   "metadata": {},
   "outputs": [],
   "source": [
    "# read elevation info\n",
    "\n",
    "elevation = pd.read_csv('/Users/varyabazilova/Desktop/paper2/downscaling_simple/coordinates_and_elevation_with_labels_langtang.csv')[['cellnr2','band_data']] \n",
    "\n",
    "# merge together \n",
    "\n",
    "merged = transposed.merge(elevation, on = 'cellnr2')\n"
   ]
  },
  {
   "cell_type": "code",
   "execution_count": null,
   "id": "b9b67874-76e1-4bb5-8718-73050abe45c7",
   "metadata": {},
   "outputs": [],
   "source": [
    "# merged = merged.set_index(['cellnr2', 'band_data'])"
   ]
  },
  {
   "cell_type": "code",
   "execution_count": null,
   "id": "632e3454-b62a-402d-a0d3-ee37e95abc36",
   "metadata": {},
   "outputs": [],
   "source": [
    "merged.head()"
   ]
  },
  {
   "cell_type": "code",
   "execution_count": null,
   "id": "ee07c697-578b-4019-ab37-2eaf374f692a",
   "metadata": {},
   "outputs": [],
   "source": [
    "melted_df = pd.melt(merged, id_vars=['cellnr2', 'band_data'], var_name='month', value_name='Q100')\n"
   ]
  },
  {
   "cell_type": "code",
   "execution_count": null,
   "id": "ce10da21-b012-4fdc-ac00-8dbb48cbb641",
   "metadata": {},
   "outputs": [],
   "source": [
    "melted_df['Q100'] = melted_df['Q100'].replace(0,  np.nan)\n"
   ]
  },
  {
   "cell_type": "code",
   "execution_count": null,
   "id": "d0475165-cc83-415e-8e6d-4e7c6d57b0f4",
   "metadata": {},
   "outputs": [],
   "source": []
  },
  {
   "cell_type": "code",
   "execution_count": null,
   "id": "696d1298-a170-4476-bfe0-3b5d5f020fed",
   "metadata": {},
   "outputs": [],
   "source": []
  },
  {
   "cell_type": "code",
   "execution_count": null,
   "id": "13ec1420-4acd-48b8-8df8-c1828cd7a61d",
   "metadata": {},
   "outputs": [],
   "source": []
  },
  {
   "cell_type": "code",
   "execution_count": null,
   "id": "eac7f62e-0bf8-4221-ac3c-9b1282d80d74",
   "metadata": {},
   "outputs": [],
   "source": [
    "\n",
    "\n",
    "\n"
   ]
  },
  {
   "cell_type": "code",
   "execution_count": null,
   "id": "2d597933-ecbc-4863-8d16-fb22f59f6ada",
   "metadata": {},
   "outputs": [],
   "source": [
    "import seaborn as sns\n",
    "import matplotlib.pyplot as plt\n",
    "\n",
    "\n",
    "plt.figure(figsize=(10, 6))\n",
    "\n",
    "# Box plot\n",
    "sns.boxplot(data=melted_df, x='month', y='Q100')#, hue='band_data')\n",
    "\n",
    "# Swarm plot\n",
    "# sns.swarmplot(data=melted_df, x='month', y='Q100', hue='band_data', dodge=True, alpha=0.7)\n",
    "# sns.swarmplot(data=melted_df, x='month', y='Q100', hue='band_data', dodge=True, alpha=0.7)\n",
    "\n",
    "plt.title('mean monthly Q100, no zeros')"
   ]
  },
  {
   "cell_type": "code",
   "execution_count": null,
   "id": "e4621f85-e2f5-4ade-bae3-106f3f89261f",
   "metadata": {},
   "outputs": [],
   "source": [
    "plt.figure(figsize=(10, 6))\n",
    "sns.boxplot(data=melted_df, x='month', y='Q100',hue = 'band_data', color='lightgrey')#, boxprops=dict(edgecolor='black'))\n",
    "\n",
    "palette = plt.cm.magma_r\n",
    "\n",
    "scatter = sns.scatterplot(data=melted_df, x='month', y='Q100', hue='band_data', palette=palette)#, marker='o')#, markersize = 10)\n",
    "\n",
    "# # colorbar\n",
    "# colorbar = scatter.get_children()[1]\n",
    "# colorbar.set_label('Elevation')\n",
    "# colorbar.set_ticks(melted_df['band_data'].unique())\n",
    "\n",
    "\n",
    "\n",
    "\n"
   ]
  },
  {
   "cell_type": "code",
   "execution_count": null,
   "id": "6070fd72-c23f-4001-af06-2c00be34e403",
   "metadata": {},
   "outputs": [],
   "source": []
  },
  {
   "cell_type": "code",
   "execution_count": null,
   "id": "beb0064e-9a9a-456a-9ac4-0e0bb8c661d8",
   "metadata": {},
   "outputs": [],
   "source": []
  },
  {
   "cell_type": "code",
   "execution_count": null,
   "id": "4d5387ca-b78e-4a0e-a581-ca94803db227",
   "metadata": {},
   "outputs": [],
   "source": []
  },
  {
   "cell_type": "code",
   "execution_count": null,
   "id": "fe8ae771-fc81-4e8f-bfb6-064ee53ebb3a",
   "metadata": {},
   "outputs": [],
   "source": []
  },
  {
   "cell_type": "code",
   "execution_count": null,
   "id": "5eee33e4-cdaf-4059-9d68-225c95f3f96d",
   "metadata": {},
   "outputs": [],
   "source": []
  }
 ],
 "metadata": {
  "kernelspec": {
   "display_name": "Python [conda env:project1]",
   "language": "python",
   "name": "conda-env-project1-py"
  },
  "language_info": {
   "codemirror_mode": {
    "name": "ipython",
    "version": 3
   },
   "file_extension": ".py",
   "mimetype": "text/x-python",
   "name": "python",
   "nbconvert_exporter": "python",
   "pygments_lexer": "ipython3",
   "version": "3.7.11"
  }
 },
 "nbformat": 4,
 "nbformat_minor": 5
}
