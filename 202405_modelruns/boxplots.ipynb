{
 "cells": [
  {
   "cell_type": "code",
   "execution_count": 1,
   "id": "2682fa9b-ffb9-49fe-9eaa-67fcf5d85f21",
   "metadata": {},
   "outputs": [],
   "source": [
    "import os \n",
    "import pandas as pd\n",
    "import numpy as np\n",
    "import seaborn as sns\n",
    "import matplotlib.pyplot as plt\n",
    "\n",
    "import functions"
   ]
  },
  {
   "cell_type": "markdown",
   "id": "f12d1457-bac3-4a22-8beb-e8aa4fdb6913",
   "metadata": {},
   "source": [
    "# mean monthly values\n",
    "\n",
    "- TL\n",
    "  - default land cover + \n",
    "  - 10% glaciers land cover+ \n",
    "- SL\n",
    "  - mean annual default +\n",
    "  - 25% default + \n",
    "  - 50% default + \n",
    "  - 75% default + "
   ]
  },
  {
   "cell_type": "code",
   "execution_count": 6,
   "id": "3731c5df-e3f3-4d25-92f5-a49a0fcd6f21",
   "metadata": {},
   "outputs": [
    {
     "name": "stdout",
     "output_type": "stream",
     "text": [
      "Q100\n",
      "CPU times: user 32.2 s, sys: 1.16 s, total: 33.4 s\n",
      "Wall time: 34.6 s\n"
     ]
    }
   ],
   "source": [
    "%%time\n",
    "\n",
    "column = 'Q100'\n",
    "print(column)\n",
    "result_df = pd.DataFrame()\n",
    "\n",
    "# Define the path to your folders\n",
    "# folder_path = '/Users/varyabazilova/Desktop/paper2/202405_modelruns/1langtangTL/10percent_glacier'\n",
    "# folder_path = '/Users/varyabazilova/Desktop/paper2/202405_modelruns/1langtangTL/default_land_cover'\n",
    "# folder_path = '/Users/varyabazilova/Desktop/paper2/202405_modelruns/1langtangSL/default_land_cover/1default_land_cover_mean_annual'\n",
    "# folder_path = '/Users/varyabazilova/Desktop/paper2/202405_modelruns/1langtangSL/default_land_cover/2default_land_cover_25percent'\n",
    "# folder_path = '/Users/varyabazilova/Desktop/paper2/202405_modelruns/1langtangSL/default_land_cover/3default_land_cover_50percent'\n",
    "folder_path = '/Users/varyabazilova/Desktop/paper2/202405_modelruns/1langtangSL/default_land_cover/4default_land_cover_75percent'\n",
    "\n",
    "# Iterate over the files in the folders\n",
    "for folder_name in os.listdir(folder_path):\n",
    "    # skip dsstore thing\n",
    "    if folder_name == '.DS_Store':\n",
    "        continue\n",
    "    # skip all csvs\n",
    "    if folder_name.endswith('.csv'):\n",
    "        continue\n",
    "    file_path = os.path.join(folder_path, folder_name, 'Sediment.out')\n",
    "    if os.path.isfile(file_path):\n",
    "        \n",
    "        # calculate mean monthly value for given column \n",
    "        output_df = functions.calculate_monthly_sediment_yield(pd.read_csv(file_path))\n",
    "        # take the column \n",
    "        name_column = output_df[column]\n",
    "        # rename the columns \n",
    "        column_name = f'{column}_{folder_name}'\n",
    "        result_df[column_name] = name_column\n",
    "        result_df.columns = [col[-3:] for col in result_df.columns]\n",
    "\n",
    "# result_df2 = result_df.transpose()\n",
    "\n",
    "# result_df.to_csv(folder_path + '/long_term_mean_monthly_Qstl_10percent_glacier.csv', index = False)\n",
    "result_df.to_csv(folder_path + '/long_term_mean_monthly_Q100_default_landcover.csv', index = False)"
   ]
  },
  {
   "cell_type": "markdown",
   "id": "edc245c7-c1bc-4856-9f1a-4d69300427fb",
   "metadata": {},
   "source": [
    "# sum of Qs per for every month in the time-series\n",
    "\n",
    "\n",
    "- TL\n",
    "  - default land cover + \n",
    "  - 10% glaciers land cover +\n",
    "\n",
    "- SL\n",
    "  - mean annual\n",
    "  - 25%\n",
    "  - 50%\n",
    "  - 75%"
   ]
  },
  {
   "cell_type": "code",
   "execution_count": 10,
   "id": "8bf4dd47-e173-4534-9036-d3fbf8a13a90",
   "metadata": {},
   "outputs": [
    {
     "name": "stdout",
     "output_type": "stream",
     "text": [
      "Qstl\n",
      "CPU times: user 29.8 s, sys: 757 ms, total: 30.5 s\n",
      "Wall time: 30.8 s\n"
     ]
    }
   ],
   "source": [
    "%%time\n",
    "\n",
    "# columns = ['D', 'Q100', 'sc', 'Qstl', 'Qdftl']\n",
    "\n",
    "column = 'Qstl'\n",
    "print(column)\n",
    "result_df = pd.DataFrame()\n",
    "\n",
    "# Define the path to your folders\n",
    "# folder_path = '/Users/varyabazilova/Desktop/paper2/202405_modelruns/1langtangTL/10percent_glacier'\n",
    "# folder_path = '/Users/varyabazilova/Desktop/paper2/202405_modelruns/1langtangTL/default_land_cover'\n",
    "\n",
    "# folder_path = '/Users/varyabazilova/Desktop/paper2/202405_modelruns/1langtangSL/default_land_cover/1default_land_cover_mean_annual'\n",
    "# folder_path = '/Users/varyabazilova/Desktop/paper2/202405_modelruns/1langtangSL/default_land_cover/2default_land_cover_25percent'\n",
    "# folder_path = '/Users/varyabazilova/Desktop/paper2/202405_modelruns/1langtangSL/default_land_cover/3default_land_cover_50percent'\n",
    "folder_path = '/Users/varyabazilova/Desktop/paper2/202405_modelruns/1langtangSL/default_land_cover/4default_land_cover_75percent'\n",
    "\n",
    "\n",
    "\n",
    "# Iterate over the files in the folders\n",
    "for folder_name in os.listdir(folder_path):\n",
    "    # skip dsstore thing\n",
    "    if folder_name == '.DS_Store':\n",
    "        continue\n",
    "    # skip all csvs\n",
    "    if folder_name.endswith('.csv'):\n",
    "        continue\n",
    "    file_path = os.path.join(folder_path, folder_name, 'Sediment.out')\n",
    "    if os.path.isfile(file_path):\n",
    "        sediments = pd.read_csv(file_path)\n",
    "        # calculate mean monthly value for given column \n",
    "        output_df = functions.calculate_monthly_sediment_yield_all(sediments, column)\n",
    "        # take the column \n",
    "        name_column = output_df[column]\n",
    "        # rename the columns \n",
    "        column_name = f'{column}_{folder_name}'\n",
    "        result_df[column_name] = name_column\n",
    "        result_df.columns = [col[-3:] for col in result_df.columns]\n",
    "\n",
    "# result_df2 = result_df.transpose()\n",
    "\n",
    "# result_df.to_csv(folder_path + '/monthly_sum_Qstl_10percent_glacier.csv', index = False)\n",
    "result_df.to_csv(folder_path + '/monthly_sum_Q100_default_landcover.csv', index = False)\n",
    "\n",
    "# create a dataframe with timestep and attach it to the monthly data dataframe\n",
    "\n",
    "\n",
    "\n"
   ]
  },
  {
   "cell_type": "code",
   "execution_count": null,
   "id": "5bc82e63-68d5-4507-ad19-b1739078c775",
   "metadata": {},
   "outputs": [],
   "source": [
    "\n",
    "# read one file to get the time-step\n",
    "# df = functions.calculate_monthly_sediment_yield_all(pd.read_csv(folder_path + '/cellnr12a/Sediment.out'), column)\n",
    "# df = df[['month', 'year']]\n"
   ]
  },
  {
   "cell_type": "code",
   "execution_count": null,
   "id": "a4a0df12-3ede-42b4-9d0d-4d277af86b44",
   "metadata": {},
   "outputs": [],
   "source": [
    "#read data \n",
    "folder_path = '/Users/varyabazilova/Desktop/paper2/202405_modelruns/1langtangTL/default_land_cover'\n",
    "\n",
    "monthly_data = pd.read_csv(folder_path + '/monthly_sum_Qstl_default_landcover.csv')\n",
    "monthly_mean = pd.read_csv(folder_path + '/long_term_mean_monthly_Qstl_default_landcover.csv')\n",
    "\n",
    "folder_path = '/Users/varyabazilova/Desktop/paper2/202405_modelruns/1langtangTL/10percent_glacier'\n",
    "\n",
    "gl_monthly_data = pd.read_csv(folder_path + '/monthly_sum_Qstl_10percent_glacier.csv')\n",
    "gl_monthly_mean = pd.read_csv(folder_path + '/long_term_mean_monthly_Qstl_10percent_glacier.csv')\n",
    "\n",
    "\n",
    "# sediment-limited "
   ]
  },
  {
   "cell_type": "code",
   "execution_count": null,
   "id": "d5c47aeb-95f1-43ce-9770-1ae30440445f",
   "metadata": {},
   "outputs": [],
   "source": []
  },
  {
   "cell_type": "markdown",
   "id": "7ea891c9-1e3e-40f7-8cd8-60e022a026b0",
   "metadata": {},
   "source": [
    "# prepare data for plotting"
   ]
  },
  {
   "cell_type": "code",
   "execution_count": null,
   "id": "347efc4e-7d3c-427e-840e-14a3a0d33970",
   "metadata": {},
   "outputs": [],
   "source": [
    "# add elevation\n",
    "\n",
    "elevation = pd.read_csv('/Users/varyabazilova/Desktop/paper2/downscaling_simple/coordinates_and_elevation_with_labels_langtang.csv')[['cellnr2','band_data']] \n",
    "elevation = elevation.transpose()\n",
    "\n",
    "elevation_list = elevation.loc['cellnr2'].tolist()\n",
    "\n",
    "# --- 1) MONTHLY DATA\n",
    "# reorder column in the monthly data so that they match the elevation file \n",
    "\n",
    "monthly_data = monthly_data[elevation_list]\n",
    "gl_monthly_data = gl_monthly_data[elevation_list]\n",
    "\n",
    "# check\n",
    "\n",
    "if elevation_list == monthly_data.columns.tolist():\n",
    "    print(\"default land cover. monthly data: same\")\n",
    "else:\n",
    "    print(\"not the same\")\n",
    "    \n",
    "if elevation_list == gl_monthly_data.columns.tolist():\n",
    "    print(\"10% gl. monthly data: same\")\n",
    "else:\n",
    "    print(\"not the same\")\n",
    "\n",
    "# --- 2) MONTHLY MEAN \n",
    "monthly_mean = monthly_mean[elevation_list]\n",
    "gl_monthly_mean = gl_monthly_mean[elevation_list]\n",
    "\n",
    "# check\n",
    "if elevation_list == monthly_mean.columns.tolist():\n",
    "    print(\"default land cover. monthly mean: same\")\n",
    "else:\n",
    "    print(\"not the same\")\n",
    "\n",
    "if elevation_list == gl_monthly_mean.columns.tolist():\n",
    "    print(\"10% glacier, monthly mean: same\")\n",
    "else:\n",
    "    print(\"not the same\")\n",
    "\n",
    "\n"
   ]
  },
  {
   "cell_type": "code",
   "execution_count": null,
   "id": "a2d6861a-c1ba-4de4-8267-aeb542335d26",
   "metadata": {},
   "outputs": [],
   "source": [
    "# change the column names to elevation values \n",
    "\n",
    "# 1) --- MONTHLY DATA\n",
    "\n",
    "# rename columns according the the elevation and merge with timestep \n",
    "monthly_data.columns = elevation.loc['band_data']\n",
    "monthly_data = pd.concat([df, monthly_data],axis=1)\n",
    "monthly_data['land_cover'] = 'default'\n",
    "# - 10% glacier\n",
    "gl_monthly_data.columns = elevation.loc['band_data']\n",
    "gl_monthly_data = pd.concat([df, gl_monthly_data],axis=1)\n",
    "gl_monthly_data['land_cover'] ='10%glacier'\n",
    "\n",
    "\n",
    "\n",
    "\n",
    "# 2) --- MONTHLY MEAN\n",
    "monthly_mean.columns = elevation.loc['band_data']\n",
    "# add month column\n",
    "monthly_mean['month'] = monthly_mean.index.values + 1\n",
    "monthly_mean['land_cover'] ='default'\n",
    "\n",
    "gl_monthly_mean.columns = elevation.loc['band_data']\n",
    "# add month column\n",
    "gl_monthly_mean['month'] = gl_monthly_mean.index.values + 1\n",
    "gl_monthly_mean['land_cover'] ='10%glacier'\n"
   ]
  },
  {
   "cell_type": "code",
   "execution_count": null,
   "id": "5cecd4eb-52e5-47ea-abad-43628a3189d0",
   "metadata": {},
   "outputs": [],
   "source": [
    "# melt for plotting\n",
    "\n",
    "# --- 1) monthly data \n",
    "melted_monthly = pd.melt(monthly_data, id_vars=['year', 'month','land_cover'], var_name='elevation', value_name='Qstl')\n",
    "gl_melted_monthly = pd.melt(gl_monthly_data, id_vars=['year', 'month', 'land_cover'], var_name='elevation', value_name='Qstl')\n",
    "\n",
    "# --- 2) \n",
    "melted_monthly_mean = pd.melt(monthly_mean, id_vars=['month','land_cover'], var_name='elevation', value_name='Qstl')\n",
    "gl_melted_monthly_mean = pd.melt(gl_monthly_mean, id_vars=['month', 'land_cover'], var_name='elevation', value_name='Qstl')\n"
   ]
  },
  {
   "cell_type": "markdown",
   "id": "98e24d18-c19f-4244-a1f7-c2c91d47e49e",
   "metadata": {},
   "source": [
    "# plotting"
   ]
  },
  {
   "cell_type": "code",
   "execution_count": null,
   "id": "6fcbfe0c-3291-4489-a238-391940795790",
   "metadata": {},
   "outputs": [],
   "source": [
    "plt.figure(figsize=(25, 8))\n",
    "# averaged over time mean monthly \n",
    "boxplots = sns.boxplot(x='elevation', y='Qstl', data=melted_monthly, color = 'lightgrey')\n",
    "plt.title('monthly data')\n",
    "\n",
    "plt.xticks(rotation=45)\n",
    "plt.show()"
   ]
  },
  {
   "cell_type": "code",
   "execution_count": null,
   "id": "b2b6b7f4-9d9c-4b42-95f1-ba60446b4a02",
   "metadata": {},
   "outputs": [],
   "source": [
    "plt.figure(figsize=(25, 8))\n",
    "# averaged over time mean monthly \n",
    "boxplots = sns.boxplot(x='elevation', y='Qstl', data=melted_monthly_mean, color = 'lightgrey')\n",
    "plt.title('monthly mean')\n",
    "plt.xticks(rotation=45)\n",
    "plt.show()"
   ]
  },
  {
   "cell_type": "markdown",
   "id": "33dce725-a7f0-473e-b17a-0fe2033121cb",
   "metadata": {},
   "source": [
    "# what if we remove zeros and then plot"
   ]
  },
  {
   "cell_type": "code",
   "execution_count": null,
   "id": "c5f2bec8-d750-432a-97b0-3fd373746f33",
   "metadata": {},
   "outputs": [],
   "source": [
    "melted_monthly_nozero = melted_monthly.replace(0,  np.nan)\n",
    "melted_monthly_mean_nozero = melted_monthly_mean.replace(0,  np.nan)\n"
   ]
  },
  {
   "cell_type": "code",
   "execution_count": null,
   "id": "6d5a3bdd-01e5-4cbe-9a69-0f3094581aa8",
   "metadata": {},
   "outputs": [],
   "source": [
    "melted_monthly_nozero_cut = melted_monthly_nozero[melted_monthly_nozero.elevation < 5300]"
   ]
  },
  {
   "cell_type": "code",
   "execution_count": null,
   "id": "aa914617-0621-45b2-a8c6-aa638bcb8e59",
   "metadata": {},
   "outputs": [],
   "source": [
    "plt.figure(figsize=(25, 8))\n",
    "# averaged over time mean monthly \n",
    "boxplots = sns.boxplot(x='elevation', y='Qstl', data=melted_monthly_nozero, color = 'lightgrey')\n",
    "swarm = sns.swarmplot(x = 'elevation', y = 'Qstl', hue = 'month', data = melted_monthly_nozero_cut, palette='Paired', s = 5)\n",
    "\n",
    "plt.title('monthly mean, no zeros')\n",
    "plt.xticks(rotation=45)\n",
    "plt.show()"
   ]
  },
  {
   "cell_type": "code",
   "execution_count": null,
   "id": "a0c8e4e1-ea74-47c5-bec7-3950516d1b99",
   "metadata": {},
   "outputs": [],
   "source": [
    "plt.figure(figsize=(25, 8))\n",
    "# averaged over time mean monthly \n",
    "boxplots = sns.boxplot(x='elevation', y='Qstl', data=melted_monthly_mean_nozero, color = 'lightgrey')\n",
    "swarm = sns.swarmplot(x = 'elevation', y = 'Qstl', hue = 'month', data = melted_monthly_mean_nozero, palette='Paired', s = 7)\n",
    "plt.title('monthly mean, no zeros')\n",
    "plt.xticks(rotation=45)\n",
    "plt.show()"
   ]
  },
  {
   "cell_type": "code",
   "execution_count": null,
   "id": "6684f84e-5a1d-4e3f-ab31-6c9c8362d836",
   "metadata": {},
   "outputs": [],
   "source": [
    "plt.figure(figsize=(25, 8))\n",
    "# averaged over time mean monthly \n",
    "boxplots = sns.boxplot(x='elevation', y='Q100', data=melted_monthly_mean_nozero, color = 'lightgrey')\n",
    "swarm = sns.swarmplot(x = 'elevation', y = 'Q100', hue = 'month', data = melted_monthly_mean_nozero, palette='Paired', s = 7)\n",
    "# plt.title('monthly mean, no zeros')\n",
    "plt.xticks(rotation=45)\n",
    "plt.show()"
   ]
  },
  {
   "cell_type": "markdown",
   "id": "fcf308c3-6b02-4612-ba81-c0d94f52c517",
   "metadata": {},
   "source": [
    "# bin elevation"
   ]
  },
  {
   "cell_type": "code",
   "execution_count": null,
   "id": "56c91189-0141-4b11-9076-9e594c1f4b3d",
   "metadata": {},
   "outputs": [],
   "source": [
    "# melted_monthly\n",
    "\n",
    "# import pandas as pd\n",
    "\n",
    "def bin_elevation(row):\n",
    "    if row['elevation'] <2500:\n",
    "        return '<2500'\n",
    "    elif 2500 <= row['elevation'] < 3000:\n",
    "        return '2500 - 3000'\n",
    "    elif 3000 <= row['elevation'] < 3500:\n",
    "        return '3000 - 3500'\n",
    "    elif 3500 <= row['elevation'] < 4000:\n",
    "        return '3500 - 4000'\n",
    "    elif 4000 <= row['elevation'] < 4500:\n",
    "        return '4000 - 4500'\n",
    "    elif 4500 <= row['elevation'] < 5000:\n",
    "        return '4500 - 5000'\n",
    "    elif 5000 <= row['elevation'] < 5500:\n",
    "        return '5000 - 5500'\n",
    "    elif 5500 <= row['elevation'] < 6000:\n",
    "        return '5500 - 6000'\n",
    "    elif 6000 <= row['elevation'] :\n",
    "        return '>6000'\n",
    "\n",
    "\n",
    "\n",
    "# # Assuming melted_monthly_nozero is your DataFrame\n",
    "# melted_monthly['elevation_bin'] = melted_monthly.apply(bin_elevation, axis=1)\n",
    "# melted_monthly_nozero = melted_monthly.replace(0, np.nan)"
   ]
  },
  {
   "cell_type": "code",
   "execution_count": null,
   "id": "9d6605b8-2aff-47c9-90cb-39d7232634e9",
   "metadata": {},
   "outputs": [],
   "source": []
  },
  {
   "cell_type": "markdown",
   "id": "b4ac7d0d-ebca-4102-9e2a-6189890e79d0",
   "metadata": {},
   "source": [
    "# plot together 2 types of land cover "
   ]
  },
  {
   "cell_type": "code",
   "execution_count": null,
   "id": "94988192-8040-4beb-8d3d-2ad9b8fcbe76",
   "metadata": {},
   "outputs": [],
   "source": [
    "# all months together \n",
    "melted_monthly_together = melted_monthly.append(gl_melted_monthly, ignore_index = True)\n",
    "melted_monthly_together = melted_monthly_together.replace(0, np.nan)\n",
    "\n",
    "\n",
    "# long term average\n",
    "melted_monthly_mean_together = melted_monthly_mean.append(gl_melted_monthly_mean, ignore_index = True)\n",
    "melted_monthly_mean_together = melted_monthly_mean_together.replace(0, np.nan)\n",
    "\n",
    "\n",
    "# binn elevation\n",
    "# melted_monthly['elevation_bin'] = melted_monthly.apply(bin_elevation, axis=1)\n",
    "melted_monthly_together['elevation_bin'] = melted_monthly_together.apply(bin_elevation, axis = 1)\n",
    "melted_monthly_mean_together['elevation_bin'] = melted_monthly_mean_together.apply(bin_elevation, axis = 1)\n",
    "\n"
   ]
  },
  {
   "cell_type": "code",
   "execution_count": null,
   "id": "3a1e14df-5b3b-444c-8d19-d81b71897d68",
   "metadata": {},
   "outputs": [],
   "source": [
    "plt.figure(figsize=(25, 8))\n",
    "# averaged over time mean monthly \n",
    "boxplots = sns.boxplot(x='elevation_bin', y='Qstl', hue = 'land_cover', data=melted_monthly_mean_together)#, color = 'grey')#, fill = False)#, gap = .1)\n",
    "# swarm = sns.swarmplot(x = 'elevation', y = 'Qstl', hue = 'month', data = melted_monthly_mean_together, palette='Paired', s = 7)\n",
    "plt.title('monthly mean, no zeros')\n",
    "plt.xticks(rotation=45)\n",
    "plt.show()"
   ]
  },
  {
   "cell_type": "code",
   "execution_count": null,
   "id": "233e0999-856c-4123-bd62-d967e9f1a964",
   "metadata": {},
   "outputs": [],
   "source": [
    "plt.figure(figsize=(25, 8))\n",
    "# averaged over time mean monthly \n",
    "boxplots = sns.boxplot(x='elevation_bin', y='Qstl', hue = 'land_cover', data=melted_monthly_together)#, color = 'grey')#, fill = False)#, gap = .1)\n",
    "# swarm = sns.swarmplot(x = 'elevation', y = 'Qstl', hue = 'month', data = melted_monthly_mean_together, palette='Paired', s = 7)\n",
    "plt.title('monthly data, no zeros')\n",
    "plt.xticks(rotation=45)\n",
    "plt.show()"
   ]
  },
  {
   "cell_type": "code",
   "execution_count": null,
   "id": "58ca6c92-a9ac-473b-bd29-1435831c4e7a",
   "metadata": {},
   "outputs": [],
   "source": []
  },
  {
   "cell_type": "code",
   "execution_count": null,
   "id": "90dc79b0-9bff-4354-8f93-dd7f758e3225",
   "metadata": {},
   "outputs": [],
   "source": []
  }
 ],
 "metadata": {
  "kernelspec": {
   "display_name": "Python [conda env:project1]",
   "language": "python",
   "name": "conda-env-project1-py"
  },
  "language_info": {
   "codemirror_mode": {
    "name": "ipython",
    "version": 3
   },
   "file_extension": ".py",
   "mimetype": "text/x-python",
   "name": "python",
   "nbconvert_exporter": "python",
   "pygments_lexer": "ipython3",
   "version": "3.7.11"
  }
 },
 "nbformat": 4,
 "nbformat_minor": 5
}
