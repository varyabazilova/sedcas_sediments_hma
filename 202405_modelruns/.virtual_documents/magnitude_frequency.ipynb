import pandas as pd
import matplotlib.pyplot as plt
import matplotlib.dates as mdates
from matplotlib.ticker import MaxNLocator
import numpy as np
import seaborn as sns
import os



import functions






# read things and convert units 
pathTL = '/Users/varyabazilova/Desktop/paper2/202405_modelruns/1langtangTL/'
pathSL = '/Users/varyabazilova/Desktop/paper2/202405_modelruns/1langtangSL/'


# transport limited 
Sed_tl = functions.convert_units_to_volume(pd.read_csv(pathTL + 'default_land_cover/cellnr28c/Sediment.out'))
Sed_tl_gl = functions.convert_units_to_volume(pd.read_csv(pathTL + '10percent_glacier/cellnr28c/Sediment.out'))


# supply limited - default 
Sed_mean      = functions.convert_units_to_volume(pd.read_csv(pathSL + 'default_land_cover/1default_land_cover_mean_annual/cellnr28c/Sediment.out'))
Sed_percent25 = functions.convert_units_to_volume(pd.read_csv(pathSL + 'default_land_cover/2default_land_cover_25percent/cellnr28c/Sediment.out'))
Sed_percent50 = functions.convert_units_to_volume(pd.read_csv(pathSL + 'default_land_cover/3default_land_cover_50percent/cellnr28c/Sediment.out'))
Sed_percent75 = functions.convert_units_to_volume(pd.read_csv(pathSL + 'default_land_cover/4default_land_cover_75percent/cellnr28c/Sediment.out'))


# supply limited - 10% glacier 
Sed_mean_gl      = functions.convert_units_to_volume(pd.read_csv(pathSL + '10percent_glacier/110percent_glacier_mean_annual/cellnr28c/Sediment.out'))
Sed_percent25_gl = functions.convert_units_to_volume(pd.read_csv(pathSL + '10percent_glacier/210percent_glacier_25percent/cellnr28c/Sediment.out'))
Sed_percent50_gl = functions.convert_units_to_volume(pd.read_csv(pathSL + '10percent_glacier/310percent_glacier_50percent/cellnr28c/Sediment.out'))
Sed_percent75_gl = functions.convert_units_to_volume(pd.read_csv(pathSL + '10percent_glacier/410percent_glacier_75percent/cellnr28c/Sediment.out'))








# magnitude_frequency
# transport limited: for the DF: 
Sed_tl_MF = functions.magnitude_frequency(Sed_tl, 'Qdftl')
Sed_tl_gl_MF = functions.magnitude_frequency(Sed_tl_gl, 'Qdftl')

# transport limited: for the SED YEILD: 
Sed_tl_sed_MF = functions.magnitude_frequency(Sed_tl, 'Qstl')
Sed_tl_gl_sed_MF = functions.magnitude_frequency(Sed_tl_gl, 'Qstl')


# supply limited: for the Q100
Sed_percent25_MF = functions.magnitude_frequency(Sed_percent25, 'Q100')
Sed_percent50_MF = functions.magnitude_frequency(Sed_percent50, 'Q100')
Sed_percent75_MF = functions.magnitude_frequency(Sed_percent75, 'Q100')

# supply limited with glacier 
Sed_percent25_gl_MF = functions.magnitude_frequency(Sed_percent25_gl, 'Q100')
Sed_percent50_gl_MF = functions.magnitude_frequency(Sed_percent50_gl, 'Q100')
Sed_percent75_gl_MF = functions.magnitude_frequency(Sed_percent75_gl, 'Q100')


# 1. TL glaciers vs no glaciers

fontsize = 20

fig, ax = plt.subplots(figsize=(10, 8))

# # transport limited - df
ax.scatter(x=Sed_tl_MF.Qdftl.values, y=Sed_tl_MF.prob.values,facecolors='none', edgecolor = 'darkorange',label = 'TL Qdf no glacier')
ax.scatter(x=Sed_tl_gl_MF.Qdftl.values, y=Sed_tl_gl_MF.prob.values, marker = 'v', label = 'TL Qdf glacier (10%)')

# # # transport limited - Qs
# ax.scatter(x=Sed_tl_sed_MF.Qdftl.values, y=Sed_tl_sed_MF.prob.values, label = 'Qs no glacier')
# ax.scatter(x=Sed_tl_gl_sed_MF.Qdftl.values, y=Sed_tl_gl_sed_MF.prob.values, label = 'Qs glacier')


# # supply limited no glacier
# # ax.scatter(x=Sed_percent25_MF.Qdftl.values, y=Sed_percent25_MF.prob.values, label = 'Sed_percent25_MF')
# ax.scatter(x=Sed_percent50_MF.Qdftl.values, y=Sed_percent50_MF.prob.values,facecolors='none', edgecolor ='forestgreen', label = '50 %, w/o glacier')
# ax.scatter(x=Sed_percent75_MF.Qdftl.values, y=Sed_percent75_MF.prob.values, facecolors='none', edgecolor ='darkred',label = '75 %, w/o glacier')

# # # # supply limited with glacier 
# # # ax.scatter(x=Sed_percent25_gl_MF.Qdftl.values, y=Sed_percent25_gl_MF.prob.values, label = 'Sed_percent25_gl_MF')
# ax.scatter(x=Sed_percent50_gl_MF.Qdftl.values, y=Sed_percent50_gl_MF.prob.values, marker = 'v', label = '50 %, w/ glacier')
# ax.scatter(x=Sed_percent75_gl_MF.Qdftl.values, y=Sed_percent75_gl_MF.prob.values, marker = 'v', label = '75 %, w/ glacier')


plt.legend(fontsize=fontsize)

ax.set_xscale('log')
ax.set_yscale('log')

plt.xlabel('Q sediment (debris flow)', fontsize=fontsize)  # Setting label and fontsize for x-axis
plt.ylabel('probability', fontsize=fontsize)  # Setting label and fontsize for y-axis
plt.tick_params(axis='both', which='major', labelsize=fontsize)  # Set size of major ticks on both axes

# plt.savefig('MF1.png', dpi = 300)


# 2. SL no glaciers 

# 2. SL no glaciers 

fontsize = 20

fig, ax = plt.subplots(figsize=(10, 8))

# TL
# ax.scatter(x=Sed_tl_MF.Qdftl.values, y=Sed_tl_MF.prob.values,facecolors='none', edgecolor = 'darkorange',label = 'TL Qdf no glacier')
# ax.scatter(x=Sed_tl_gl_MF.Qdftl.values, y=Sed_tl_gl_MF.prob.values, marker = 'v', label = 'TL Qdf glacier (10%)')



# # supply limited no glacier
ax.scatter(x=Sed_percent25_MF.Q100.values, y=Sed_percent25_MF.prob.values, facecolors='none', edgecolor ='lime', label = '25 %, w/o glacier')
ax.scatter(x=Sed_percent50_MF.Q100.values, y=Sed_percent50_MF.prob.values, marker= 'x', color ='forestgreen', label = '50 %, w/o glacier')
ax.scatter(x=Sed_percent75_MF.Q100.values, y=Sed_percent75_MF.prob.values, facecolors='none', edgecolor ='darkred',label = '75 %, w/o glacier')

# # # # supply limited with glacier 
# ax.scatter(x=Sed_percent25_gl_MF.Q100.values, y=Sed_percent25_gl_MF.prob.values, marker = 'v', label = 'Sed_percent25_gl_MF')
# ax.scatter(x=Sed_percent50_gl_MF.Q100.values, y=Sed_percent50_gl_MF.prob.values, marker = 'v', label = '50 %, w/ glacier')
# ax.scatter(x=Sed_percent75_gl_MF.Q100.values, y=Sed_percent75_gl_MF.prob.values, marker = 'v', label = '75 %, w/ glacier')


plt.legend(fontsize=fontsize)

ax.set_xscale('log')
ax.set_yscale('log')

plt.xlabel('Q sediment (debris flow)', fontsize=fontsize)  # Setting label and fontsize for x-axis
plt.ylabel('probability', fontsize=fontsize)  # Setting label and fontsize for y-axis
plt.tick_params(axis='both', which='major', labelsize=fontsize)  # Set size of major ticks on both axes

# plt.savefig('MF1.png', dpi = 300)









# 2. SL no glaciers 

fontsize = 20

fig, ax = plt.subplots(figsize=(10, 8))

# # TL
ax.scatter(x=Sed_tl_MF.Qdftl.values, y=Sed_tl_MF.prob.values,facecolors='none', edgecolor = 'darkorange',label = 'TL Qdf no glacier')
ax.scatter(x=Sed_tl_gl_MF.Qdftl.values, y=Sed_tl_gl_MF.prob.values, marker = 'v', label = 'TL Qdf glacier (10%)')



# # supply limited no glacier
ax.scatter(x=Sed_percent25_MF.Q100.values, y=Sed_percent25_MF.prob.values, facecolors='none', edgecolor ='lime', label = '25 %, no glacier')
ax.scatter(x=Sed_percent50_MF.Q100.values, y=Sed_percent50_MF.prob.values,facecolors='none', edgecolor ='forestgreen', label = '50 %, no glacier')
ax.scatter(x=Sed_percent75_MF.Q100.values, y=Sed_percent75_MF.prob.values, facecolors='none', edgecolor ='darkred',label = '75 %, no glacier')

# # # supply limited with glacier 
ax.scatter(x=Sed_percent25_gl_MF.Q100.values, y=Sed_percent25_gl_MF.prob.values, marker = 'v', label = '25 %, 10% glacier')
ax.scatter(x=Sed_percent50_gl_MF.Q100.values, y=Sed_percent50_gl_MF.prob.values, marker = 'v', label = '50 %, 10% glacier')
ax.scatter(x=Sed_percent75_gl_MF.Q100.values, y=Sed_percent75_gl_MF.prob.values, marker = 'v', label = '75 %, 10% glacier')


plt.legend(fontsize=fontsize)

# ax.set_xscale('log')
# ax.set_yscale('log')

plt.xlabel('Q sediment (debris flow)', fontsize=fontsize)  # Setting label and fontsize for x-axis
plt.ylabel('probability', fontsize=fontsize)  # Setting label and fontsize for y-axis
plt.tick_params(axis='both', which='major', labelsize=fontsize)  # Set size of major ticks on both axes

# plt.savefig('MF1.png', dpi = 300)









# path = '/Users/varyabazilova/Desktop/paper2/downscaling_simple/'

columns = ['D', 'Q100', 'sc', 'Qstl', 'Qdftl']
ts1 = 420960
ts2 = 467520



# transport limited 
Sed_tl = pd.read_csv(pathTL + 'default_land_cover/cellnr21b/Sediment.out')[columns].set_index('D')
Sed_tl_gl = pd.read_csv(pathTL + '10percent_glacier/cellnr21b/Sediment.out')[columns].set_index('D')


# supply limited - default 
Sed_mean      = pd.read_csv(pathSL + 'default_land_cover/1default_land_cover_mean_annual/cellnr21b/Sediment.out')[columns].set_index('D')
Sed_percent25 = pd.read_csv(pathSL + 'default_land_cover/2default_land_cover_25percent/cellnr21b/Sediment.out')[columns].set_index('D')
Sed_percent50 = pd.read_csv(pathSL + 'default_land_cover/3default_land_cover_50percent/cellnr21b/Sediment.out')[columns].set_index('D')
Sed_percent75 = pd.read_csv(pathSL + 'default_land_cover/4default_land_cover_75percent/cellnr21b/Sediment.out')[columns].set_index('D')


# supply limited - 10% glacier 
Sed_mean_gl      = pd.read_csv(pathSL + '10percent_glacier/110percent_glacier_mean_annual/cellnr21b/Sediment.out')[columns].set_index('D')
Sed_percent25_gl = pd.read_csv(pathSL + '10percent_glacier/210percent_glacier_25percent/cellnr21b/Sediment.out')[columns].set_index('D')
Sed_percent50_gl = pd.read_csv(pathSL + '10percent_glacier/310percent_glacier_50percent/cellnr21b/Sediment.out')[columns].set_index('D')
Sed_percent75_gl = pd.read_csv(pathSL + '10percent_glacier/410percent_glacier_75percent/cellnr21b/Sediment.out')[columns].set_index('D')





Sed_percent50.Q100.plot()









fig, ax = plt.subplots(figsize=(15, 7))

# Sed_mean.Q100.plot(label = 'mean annual', color = 'orange')
Sed_percent75.Q100.plot(label = 'Q75% sediment discharge', color = 'darkred')
Sed_percent50.Q100.plot(label = 'Q50% sediment discharge', color = 'forestgreen')
Sed_percent25.Q100.plot(label = 'Q25% sediment discharge', color = 'magenta')

plt.legend()
# ax.set_ylim((4,6))


fig, ax = plt.subplots(figsize=(15, 7))


# Sed_mean.sc.plot(label = 'mean annual', color = 'orange')
# Sed_mean_gl.sc.plot(label = 'mean annual gl')

Sed_percent25.sc.plot(label = 'Q25% sc', color = 'magenta')
Sed_percent25_gl.sc.plot(label = 'Q25% sc gl', color = 'pink')

Sed_percent50.sc.plot(label = 'Q50% sc', color = 'forestgreen')
Sed_percent50_gl.sc.plot(label = 'Q50% sc gl', color = 'lime')

Sed_percent75.sc.plot(label = 'Q75% sc', color = 'darkred')
Sed_percent75_gl.sc.plot(label = 'Q75% sc gl', color = 'red')



plt.legend()
plt.title('sediment storage (different values as daily sediment input)')
# ax.set_ylim((4,6))


fig, ax = plt.subplots(figsize=(15, 7))
# mean annual 
# Sed_mean.sc.plot(label = 'mean annual', color = 'orange')
# Sed_mean_gl.sc.plot(label = 'mean annual gl')

# 25% 
# Sed_percent25.sc.plot(label = 'Q25% sc', color = 'magenta')
# Sed_percent25_gl.sc.plot(label = 'Q25% sc gl')

# 50%
# Sed_percent50.sc.plot(label = 'Q50% sc', color = 'forestgreen')
# Sed_percent50_gl.sc.plot(label = 'Q50% sc gl')

# 75%
Sed_percent75.sc.plot(label = 'Q75% sc', color = 'darkred')
Sed_percent75_gl.sc.plot(label = 'Q75% sc gl')


plt.legend()









fig = plt.figure(figsize=(20, 14))
mosaic = fig.subplot_mosaic('''
                            fff
                            aaa
                            bbb
                            ccc
                            ddd
                            ''')

Sed_tl.Q100.plot(ax=mosaic['f'], label = 'TL', color = 'blue')
Sed_tl_gl.Q100.plot(ax=mosaic['f'], label = 'TL 10%gl', color = 'orange')
mosaic['f'].title.set_text('TL')

Sed_mean_gl.Q100.plot(ax=mosaic['a'], label = 'mean annual gl', color = 'blue')
Sed_mean.Q100.plot(ax=mosaic['a'], label = 'mean annual 10%gl', color = 'orange')
mosaic['a'].title.set_text('SL mean annual')


Sed_percent75.Q100.plot(ax=mosaic['b'], label = 'Q75% sediment discharge', color = 'blue')
Sed_percent75_gl.Q100.plot(ax=mosaic['b'], label = 'Q75% sediment discharge 10%gl', color = 'orange')
mosaic['b'].title.set_text('SL 75%')


Sed_percent50.Q100.plot(ax=mosaic['c'], label = 'Q50% sediment discharge', color = 'blue')
Sed_percent50_gl.Q100.plot(ax=mosaic['c'], label = 'Q50% sediment discharge 10% gl', color = 'orange')
mosaic['c'].title.set_text('SL 50%')

Sed_percent25.Q100.plot(ax=mosaic['d'], label = 'Q25% sediment discharge', color = 'blue')
Sed_percent25_gl.Q100.plot(ax=mosaic['d'], label = 'Q25% sediment discharge 10%gl', color = 'orange')
mosaic['d'].title.set_text('SL 25%')


plt.legend()
plt.tight_layout()





# plot boxplots for monthly sediment yeild (units???) 
# - calculate the mean monthly for each timeseries 
# - have a table with (1) elevation, (2) cell id, (3-14) 12 mean monthly values 

# how to make a plot 
# https://www.geeksforgeeks.org/how-to-make-boxplots-with-data-points-using-seaborn-in-python/


# 1. calculate monthly for all the time-series 


%%time

# columns = ['D', 'Q100', 'sc', 'Qstl', 'Qdftl']

column = 'Q100'
print(column)
result_df = pd.DataFrame()

# Define the path to your folders
folder_path = '/Users/varyabazilova/Desktop/paper2/202405_modelruns/1langtangTL/10percent_glacier'
# folder_path = '/Users/varyabazilova/Desktop/paper2/202405_modelruns/1langtangTL/default_land_cover'

# Iterate over the files in the folders
for folder_name in os.listdir(folder_path):
    # skip dsstore thing
    if folder_name == '.DS_Store':
        continue
    # skip all csvs
    if folder_name.endswith('.csv'):
        continue
    file_path = os.path.join(folder_path, folder_name, 'Sediment.out')
    if os.path.isfile(file_path):
        
        # calculate mean monthly value for given column 
        output_df = functions.calculate_monthly_sediment_yield(pd.read_csv(file_path))
        # take the column 
        name_column = output_df[column]
        # rename the columns 
        column_name = f'{column}_{folder_name}'
        result_df[column_name] = name_column
        result_df.columns = [col[-3:] for col in result_df.columns]

# result_df2 = result_df.transpose()

# result_df.to_csv(folder_path + '/mean_monthly_Q1010.csv', index = False)


# result_df





# read elevation 
df = pd.read_csv('/Users/varyabazilova/Desktop/paper2/202405_modelruns/1langtangTL/10percent_glacier/mean_monthly_Q100.csv', index_col= 0)
# df









elevation = pd.read_csv('/Users/varyabazilova/Desktop/paper2/downscaling_simple/coordinates_and_elevation_with_labels_langtang.csv')[['cellnr2','band_data']] 



df = functions.add_elevation(elevation, df)

# d


df1 = functions.data_for_boxplots_sorted(df, 'Qdftl', 'band_data')





plt.figure(figsize=(21, 6))  # Optional: Set the figure size
boxplots = sns.boxplot(x='band_data', y='Qdftl',  data=df1, palette = 'magma_r')#, legend=False)

plt.legend([], [], frameon=False)

# sns.stripplot(x='Q100', y='Q100', data=melted_df, color = 'grey', alpha = 0.7) 

plt.title('Qftl: mean monthly values (averaged over time)')
plt.xticks(rotation = 45)

plt.show()


# df1


df2 = functions.data_for_boxplots_sorted(df, 'Q100', 'band_data')


plt.figure(figsize=(21, 7))  # Optional: Set the figure size
boxplots = sns.boxplot(x='band_data', y='Q100',  data=df2)#, palette = 'magma_r')#, legend=False)
# 
# scatter = sns.scatterplot(data=df1, x='band_data', y='Q100', hue='month', palette='viridis')#, marker='o')#, markersize = 10)

plt.legend()

plt.xticks(rotation = 45)
plt.title('lngtang: Q100 mean monthly sediment yeild per location, averaged over time')
plt.xlabel('elevation')
plt.xlabel('Q sediments')





plt.figure(figsize=(35, 7))  # Optional: Set the figure size

boxplots = sns.boxplot(x='band_data', y='Qdftl', data=df1, color='lightgrey')
scatter = sns.swarmplot(data=df1, x='band_data', y='Qdftl', hue='month', palette='magma')#, marker='x')#, markersize = 10)


plt.xticks(rotation=45)
plt.show()



plt.figure(figsize=(15, 6))  # Optional: Set the figure size
boxplots = sns.boxplot(x='month', y='Qdftl',  data=df1, color = 'lightgrey')#, palette = 'magma_r')#, legend=False)

palette = plt.cm.magma_r

scatter = sns.scatterplot(data=df1, x='month', y='Qdftl', hue='band_data', palette=palette)#, marker='o')#, markersize = 10)

plt.title('mean monthly Q100, sed; 10% glacier cover')







df_nozero = df1.replace(0,  np.nan)


palette = plt.cm.magma_r

plt.figure(figsize=(15, 6))  # Optional: Set the figure size
boxplots = sns.boxplot(x='month', y='Qdftl',  data=df_nozero, color='lightgrey')#, legend=False)

scatter = sns.swarmplot(data=df_nozero, x='month', y='Qdftl', hue='band_data', palette='viridis', s = 5)#, marker='x')#, markersize = 10)



sns.move_legend(scatter, "upper left", bbox_to_anchor=(1, 1))


plt.title('mean monthly Q100 (no zeros), sed; 10% glacier cover')


plt.figure(figsize=(27, 7))  # Optional: Set the figure size

boxplots = sns.boxplot(x='band_data', y='Qdftl', data=df_nozero, color='lightgrey')
scatter = sns.swarmplot(data=df_nozero, x='band_data', y='Qdftl', hue='month', palette='Set1_r', s = 7)#, marker='x')#, markersize = 10)


plt.xticks(rotation=45)
plt.show()

















%%time

# columns = ['D', 'Q100', 'sc', 'Qstl', 'Qdftl']

column = 'Q100'
print(column)
result_df = pd.DataFrame()

# Define the path to your folders
folder_path = '/Users/varyabazilova/Desktop/paper2/202405_modelruns/1langtangTL/10percent_glacier'

# read one file to get the time-step
df = functions.calculate_monthly_sediment_yield_all(pd.read_csv(folder_path + '/cellnr12a/Sediment.out'))
df = df[['D', 'month', 'year']]



# Iterate over the files in the folders
for folder_name in os.listdir(folder_path):
    # skip dsstore thing
    if folder_name == '.DS_Store':
        continue
    # skip all csvs
    if folder_name.endswith('.csv'):
        continue
    file_path = os.path.join(folder_path, folder_name, 'Sediment.out')
    if os.path.isfile(file_path):
        
        # calculate mean monthly value for given column 
        output_df = functions.calculate_monthly_sediment_yield_all(pd.read_csv(file_path))
        # print(output_df)
        # take the column 
        name_column = output_df[column]
        # rename the columns 
        column_name = f'{column}_{folder_name}'
        result_df[column_name] = name_column
        result_df.columns = [col[-3:] for col in result_df.columns]


# merged = pd.concat([df, result_df],axis=1)








elevation1 = elevation.set_index('cellnr2').transpose()


result_df2 = result_df
result_df2.columns = elevation1.loc['band_data']
merged = pd.concat([df, result_df2],axis=1)
merged = merged.drop(['D'], axis = 1)


merged





# melted_df = pd.melt(merged, id_vars=['elevation'], var_name='month', value_name= 'Q00')
# melted_df = pd.melt(result, id_vars=['location_id'], var_name='month', value_name='value')
melted_df = pd.melt(merged, id_vars=['year', 'month'], var_name='elevation', value_name='Q100')
melted_df = melted_df.sort_values('elevation')


# melted_df





melted_df_nozeros =  melted_df.replace(0,  np.nan)





plt.figure(figsize=(25, 8))
boxplots = sns.boxplot(x='elevation', y='Q100', data=melted_df_nozeros, color = 'lightgrey')
# scatter = sns.swarmplot(data=melted_df_nozeros, x='elevation', y='Q100', hue='month', palette='Set1_r', s = 3)


plt.xticks(rotation=45)
plt.show()


plt.figure(figsize=(25, 8))
boxplots = sns.boxplot(x='elevation', y='Q100', data=melted_df_nozeros, color = 'lightgrey')
scatter = sns.swarmplot(data=melted_df_nozeros, x='elevation', y='Q100', hue='month', palette='Set1_r', s = 3)


plt.xticks(rotation=45)
plt.show()


plt.figure(figsize=(15, 6))  # Optional: Set the figure size
boxplots = sns.boxplot(x='month', y='Q100',  data=melted_df_nozeros, color = 'lightgrey')#, palette = 'magma_r')#, legend=False)

scatter = sns.scatterplot(data=melted_df_nozeros, x='month', y='Q100', hue='elevation', palette='magma')











plt.figure(figsize=(25, 8))
# averaged over time mean monthly 
boxplots = sns.boxplot(x='band_data', y='Qdftl', data=df_nozero, color = 'lightgrey')
boxplots2 = sns.boxplot(x='elevation', y='Q100', data=melted_df_nozeros, color = 'lightblue')

# df_nozero

# melted_df_nozeros

plt.xticks(rotation=45)
plt.show()



# Create a figure and axis for subplots
fig, axes = plt.subplots(2, 1, figsize=(25, 15))

# Plot the first boxplot
sns.boxplot(ax=axes[0], x='band_data', y='Qdftl', data=df_nozero, color='lightgrey')
sns.swarmplot(ax=axes[0], data=df_nozero, x='band_data', y='Qdftl', hue='month', palette='Set1_r', s = 5)


axes[0].set_title('mean monthly Qs sum, averaged over time')
axes[0].set_xlabel(' ')
# axes[0].set_ylabel('Qdftl')
plt.xticks(rotation=45)

# Plot the second boxplot
sns.boxplot(ax=axes[1], x='elevation', y='Q100', data=melted_df_nozeros, color='lightblue')
sns.swarmplot(ax=axes[1], data=melted_df_nozeros, x='elevation', y='Q100', hue='month', palette='Set1_r', s = 5)

axes[1].set_title('monthly Qs sum, for all the months')
axes[1].set_xlabel('Elevation')
axes[1].set_ylabel('Q100')


axes[0].tick_params(axis='x', rotation=45)
axes[1].tick_params(axis='x', rotation=45)

# Adjust subplot layout
plt.tight_layout()

# Show the plot
plt.show()
# plt.save_fig(



































transposed = transposed.reset_index()


transposed = transposed.rename(columns ={'index':'cellnr2'})


# transposed


# read elevation info

elevation = pd.read_csv('/Users/varyabazilova/Desktop/paper2/downscaling_simple/coordinates_and_elevation_with_labels_langtang.csv')[['cellnr2','band_data']] 

# merge together 

merged = transposed.merge(elevation, on = 'cellnr2')



# merged = merged.set_index(['cellnr2', 'band_data'])


merged.head()


melted_df = pd.melt(merged, id_vars=['cellnr2', 'band_data'], var_name='month', value_name='Q100')



melted_df['Q100'] = melted_df['Q100'].replace(0,  np.nan)













# Define the path to your folders
# folder_path = '/Users/varyabazilova/Desktop/paper2/202405_modelruns/1langtangSL/10percent_glacier/210percent_glacier_25percent/'
folder_path = '/Users/varyabazilova/Desktop/paper2/202405_modelruns/1langtangSL/default_land_cover/1default_land_cover_mean_annual'
# folder_path = '/Users/varyabazilova/Desktop/paper2/202405_modelruns/1langtangSL/default_land_cover/4default_land_cover_75percent'

# read one file to get the time-step
df = pd.read_csv(folder_path + '/cellnr14a/Sediment.out')





df.Qdftl.plot(label = 'df tl')
df.dfs.plot(label = 'dfs')

plt.legend()



# sediment budget

input_sed = df.ls.sum()
output_sed = df.Q100.sum()

dsc = df.sc.iloc[0] - df.sc.iloc[-1]


output_sed - input_sed


dsc


df.ls.plot()


tlsum = df.Qstl.sum()
slsum = df.Q100.sum()

tlsum - slsum


tlsum


slsum





















# Define the path to your folders
folder_path = '/Users/varyabazilova/Desktop/paper2/202405_modelruns/1langtangSL/default_land_cover/100percent_test'

# read one file to get the time-step
df100 = pd.read_csv(folder_path + '/cellnr12a/Sediment.out')





plt.figure(figsize = (20, 7))
df100.Qdftl.plot(label = 'df tl')
df100.dfs.plot(label = 'dfs')

# df100.Qstl.plot(label = 'Qstl')
# df100.Q100.plot(label = 'Q100')

plt.legend()



plt.figure(figsize = (20, 7))

df100.Qstl.plot(label = 'Qstl')
df100.Q100.plot(label = 'Q100')
plt.legend()



plt.figure(figsize = (20, 7))

df100.sc.plot(label = 'sc')

plt.legend()



tlsum = df100.Qstl.sum()
slsum = df100.Q100.sum()

tlsum - slsum


tlsumdf = df100.Qdftl.sum()
slsumdf = df100.dfs.sum()

tlsum - slsum






