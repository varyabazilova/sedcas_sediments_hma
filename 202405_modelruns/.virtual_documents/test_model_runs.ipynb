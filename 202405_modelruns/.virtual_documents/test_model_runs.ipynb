import os
import pandas as pd
import matplotlib.pyplot as plt


# modelling part
from run import run



%%time
# climatepath = '/Users/varyabazilova/Desktop/paper2/202405_modelruns/1langtangTL/default_land_cover'
# climatepath = '/Users/varyabazilova/Desktop/paper2/202405_modelruns/2bagrotTL/default_land_cover'
climatepath = '/Users/varyabazilova/Desktop/paper2/202405_modelruns/test_runs_langtang/default_land_cover/'

# get all folders togetehr 
# ls_ = os.listdir('./langtang')
ls_ = os.listdir(climatepath)
ls = [d for d in ls_ if not d.startswith('.')]
dir0 = os.getcwd()
# print(dir0)
# run the model for each
for d in ls:
    path = os.path.join(dir0, 'test_runs_langtang/default_land_cover', d)
    if path.endswith('.csv'):
        continue
    # print(path)
    os.chdir(path)
    run()
    os.chdir(dir0)





climatepath = '/Users/varyabazilova/Desktop/paper2/202405_modelruns/test_runs_langtang/default_land_cover/cellnr12a/'
testdf = pd.read_csv(climatepath + 'Sediment.out').set_index('D')





plt.figure(figsize=(20, 7))

testdf.Qdftl.plot(label = 'TL df')
testdf.dfs.plot(label = 'SL df')

testdf.sc.plot(label = 'sc')

plt.legend()


plt.figure(figsize=(20, 7))

testdf.ls.plot(label = 'ls')

testdf.sc.plot(label = 'sc')



