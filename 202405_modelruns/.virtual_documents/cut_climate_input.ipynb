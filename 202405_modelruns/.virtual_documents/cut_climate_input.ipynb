import pandas as pd
import os 



# langtang 

path_langtang = '/Volumes/Extreme SSD/paper2/downscaling_simple/langtang_climate_cut'
path_bagrot = '/Volumes/Extreme SSD/paper2/downscaling_simple/bagrot_climate_cut'
path_mustang = '/Volumes/Extreme SSD/paper2/downscaling_simple/mustang_climate_cut'





def update_climate_files(folder_path):
    # List all folders in the specified directory
    folders = [f for f in os.listdir(folder_path) if os.path.isdir(os.path.join(folder_path, f))]
    
    for folder in folders:
        folder_full_path = os.path.join(folder_path, folder)
        
        # List all .met files in the current folder
        met_files = [f for f in os.listdir(folder_full_path) if f.endswith('.met')]
        
        for met_file in met_files:
            file_path = os.path.join(folder_full_path, met_file)
            
            if os.path.exists(file_path):
                try:
                    # Read the .met file into a DataFrame
                    df = pd.read_csv(file_path)
                    
                    # Check if the 'Date' column exists
                    if 'D' not in df.columns:
                        print(f"Date column not found in {file_path}")
                        continue
                    
                    # Convert the date column to datetime format
                    df['D'] = pd.to_datetime(df['D'], errors='coerce')
                    
                    # Filter the data to include only dates after 1990
                    df_filtered = df[df['D'] > '1989-11-01']
                    
                    # Save the filtered DataFrame back to the file
                    df_filtered.to_csv(file_path, index=False)
                    print(f"Updated {file_path}")
                except Exception as e:
                    print(f"An error occurred while processing {file_path}: {e}")
            else:
                print(f"{file_path} does not exist")

# Replace 'your_directory_path' with the path to your directory containing the folders



update_climate_files(path_langtang)



update_climate_files(path_bagrot)



update_climate_files(path_mustang)




