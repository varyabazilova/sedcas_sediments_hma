import pandas as pd
import math
import xarray as xr
import matplotlib.pyplot as plt


columns = ['Longitude_new', 'Latitude_new', 'index', 'annual_mean_Qstl_mm', 'annual_25percent_Qstl_mm', 'annual_50percent_Qstl_mm', 'annual_75percent_Qstl_mm']

langtang = pd.read_csv('/Users/varyabazilova/Desktop/paper2/202405_modelruns/1langtangTL/default_land_cover/default_land_coverlangtang_tl_percentiles_with_coords.csv')[columns]
langtang_gl = pd.read_csv('/Users/varyabazilova/Desktop/paper2/202405_modelruns/1langtangTL/10percent_glacier/langtang_tl_10percent_glacier_percentiles_with_coords.csv')[columns]


ds_nogl = langtang.set_index(['Latitude_new', 'Longitude_new']).to_xarray()

ds = langtang_gl.set_index(['Latitude_new', 'Longitude_new']).to_xarray()






langtang_gl.dtypes



# ds['index'] = ds.index

# Now you can drop the 'index' coordinate
# ds = ds.drop_dims('index')


ds.annual_mean_Qstl_mm.plot()


fig = plt.figure(figsize=(15, 10))
mosaic = fig.subplot_mosaic('''
                            ab
                            cd
                            ''')

ds.annual_mean_Qstl_mm.plot(ax=mosaic['a'])
ds.annual_25percent_Qstl_mm.plot(ax=mosaic['b'])
ds.annual_50percent_Qstl_mm.plot(ax=mosaic['c'])
ds.annual_75percent_Qstl_mm.plot(ax=mosaic['d'])

plt.tight_layout()


# plt.savefig('annual_sed_glacier.png')


fig = plt.figure(figsize=(15, 10))
mosaic = fig.subplot_mosaic('''
                            ab
                            cd
                            ''')

ds_nogl.annual_mean_Qstl_mm.plot(ax=mosaic['a'])
ds_nogl.annual_25percent_Qstl_mm.plot(ax=mosaic['b'])
ds_nogl.annual_50percent_Qstl_mm.plot(ax=mosaic['c'])
ds_nogl.annual_75percent_Qstl_mm.plot(ax=mosaic['d'])

plt.tight_layout()
# plt.savefig('annual_sed.png')














ds





ax, fig = plt.subplots(figsize=(15, 10))

palette = plt.cm.Greys

ds.annual_mean_Qstl_mm.plot(cmap ='tab20c_r')
ds.annual_25percent_Qstl_mm.plot(cmap = 'tab20c', alpha = 0.5)



