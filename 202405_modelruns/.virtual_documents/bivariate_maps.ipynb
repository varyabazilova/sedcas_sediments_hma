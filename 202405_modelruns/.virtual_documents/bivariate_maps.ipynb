import os
import configparser

import numpy as np
import pandas as pd
import geopandas as gpd

import matplotlib.pyplot as plt
from matplotlib.patches import Rectangle, Patch
from matplotlib.collections import PatchCollection
from matplotlib.colors import rgb2hex
from generativepy.color import Color
from PIL import ImageColor

from matplotlib import font_manager

import xarray as xr








columns = ['Longitude_new', 'Latitude_new', 'index', 'annual_mean_Qstl_mm', 'annual_25percent_Qstl_mm', 'annual_50percent_Qstl_mm', 'annual_75percent_Qstl_mm']

langtang = pd.read_csv('/Users/varyabazilova/Desktop/paper2/202405_modelruns/1langtangTL/default_land_cover/default_land_coverlangtang_tl_percentiles_with_coords.csv')[columns]
langtang_gl = pd.read_csv('/Users/varyabazilova/Desktop/paper2/202405_modelruns/1langtangTL/10percent_glacier/langtang_tl_10percent_glacier_percentiles_with_coords.csv')[columns]


ds_nogl = langtang.set_index(['Latitude_new', 'Longitude_new']).to_xarray()

ds = langtang_gl.set_index(['Latitude_new', 'Longitude_new']).to_xarray()














