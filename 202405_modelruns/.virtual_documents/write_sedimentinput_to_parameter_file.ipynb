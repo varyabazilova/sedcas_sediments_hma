


import pandas as pd
import os



# path

# default land cover 
path ='/Volumes/Extreme SSD/2024May_sedcas_modelruns/2bagrotTL/default_land_cover/'
# path = '/Users/varyabazilova/Desktop/paper2/202405_modelruns/2langtangTL/default_land_cover/'
sediment = pd.read_csv(path + 'default_land_cover_bagrot_tl_percentiles_with_coords.csv')#[['index', 'annual_50percent_Qstl_m3_day']].set_index('index')











name = sediment.columns[0]



def update_parameter_file(folder, index, paramfile, sediment_value):
    folder_name = [folder_name for folder_name in os.listdir(folder) if folder_name.endswith(index)][0]  # Extract folder name
    folder_path = os.path.join(folder, folder_name)
    paramfile_path = os.path.join(folder_path, paramfile)
    with open(paramfile_path, 'r') as file:
        lines = file.readlines()

    for i, line in enumerate(lines):
        if line.startswith("sediment_input:"):
            # Update the value for "sediment_input"
            lines[i] = f"sediment_input:{sediment_value}\n"
            break

    # Write the updated lines back to the parameter file
    with open(paramfile_path, 'w') as file:
        file.writelines(lines)


# ---- default land cover 
# folder = '/Users/varyabazilova/Desktop/paper2/202405_modelruns/1langtangSL/default_land_cover/1default_land_cover_mean_annual'
# folder = '/Users/varyabazilova/Desktop/paper2/202405_modelruns/1langtangSL/default_land_cover/2default_land_cover_25percent'
# folder = '/Users/varyabazilova/Desktop/paper2/202405_modelruns/1langtangSL/default_land_cover/3default_land_cover_50percent'
# folder = '/Users/varyabazilova/Desktop/paper2/202405_modelruns/1langtangSL/default_land_cover/4default_land_cover_75percent'
folder = '/Users/varyabazilova/Desktop/paper2/202405_modelruns/1langtangSL/default_land_cover/100percent_test'

# ----- 10percent glacier cover
# folder = '/Users/varyabazilova/Desktop/paper2/202405_modelruns/1langtangSL/10percent_glacier/110percent_glacier_mean_annual'
# folder = '/Users/varyabazilova/Desktop/paper2/202405_modelruns/1langtangSL/10percent_glacier/210percent_glacier_25percent'
# folder = '/Users/varyabazilova/Desktop/paper2/202405_modelruns/1langtangSL/10percent_glacier/310percent_glacier_50percent'
# folder = '/Users/varyabazilova/Desktop/paper2/202405_modelruns/1langtangSL/10percent_glacier/410percent_glacier_75percent'



paramfile = 'parameters.par'  # Parameter file name
# df1 = pd.DataFrame({"value": [10, 20, 30]}, index=["12b", "14a", "16c"])
df1 = sediment


for index in df1.index:    
    # sediment_value = df1.loc[index, "annual_mean_Qstl_m3_day"]
    # sediment_value = df1.loc[index, "annual_25percent_Qstl_m3"]
    # sediment_value = df1.loc[index, "annual_50percent_Qstl_m3"]
    sediment_value = df1.loc[index, name]
    update_parameter_file(folder, index, paramfile, sediment_value)




# default land cover 
# path = '/Users/varyabazilova/Desktop/paper2/202405_modelruns/1langtangTL/default_land_cover/'
path = '/Users/varyabazilova/Desktop/paper2/202405_modelruns/2langtangTL/default_land_cover/'
# sediment = pd.read_csv(path + 'default_land_coverlangtang_tl_percentiles_with_coords.csv')[['index', 'annual_mean_Qstl_m3_day']].set_index('index')


# sediment = pd.read_csv(path + 'default_land_coverlangtang_tl_percentiles_with_coords.csv')[['index', 'annual_mean_Qstl_m3_day']].set_index('index')
sediment = pd.read_csv(path + 'default_land_coverlangtang_tl_percentiles_with_coords.csv')[['index', 'annual_25percent_Qstl_m3_day']].set_index('index')
# sediment = pd.read_csv(path + 'default_land_coverlangtang_tl_percentiles_with_coords.csv')[['index', 'annual_50percent_Qstl_m3_day']].set_index('index')
# sediment = pd.read_csv(path + 'default_land_coverlangtang_tl_percentiles_with_coords.csv')[['index', 'annual_75percent_Qstl_m3_day']].set_index('index')
# sediment = pd.read_csv(path + 'default_land_coverlangtang_tl_percentiles_with_coords.csv')[['index', 'annual_100percent_Qstl_m3_day']].set_index('index')




