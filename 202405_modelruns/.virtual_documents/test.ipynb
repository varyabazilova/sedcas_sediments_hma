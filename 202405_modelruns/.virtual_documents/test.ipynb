import pandas as pd
import seaborn as sns 

import functions


# elevation 
elevation = pd.read_csv('/Users/varyabazilova/Desktop/paper2/downscaling_simple/coordinates_and_elevation_with_labels_langtang.csv')[['cellnr2','band_data']] 

# paramater of interest 
column = 'Q100'
# df timestep for monthly 
folder_path = '/Users/varyabazilova/Desktop/paper2/202405_modelruns/1langtangTL/default_land_cover'
df = functions.calculate_monthly_sediment_yield_all(pd.read_csv(folder_path + '/cellnr12a/Sediment.out'), column)
df = df[['month', 'year']]

# monthly data
monthly_data = pd.read_csv(folder_path + '/monthly_sum_Qstl_default_landcover.csv')

test = functions.melted_df_for_boxplots_monthly(elevation, monthly_data, df, 'default', 'Q100')



#read data 
folder_path = '/Users/varyabazilova/Desktop/paper2/202405_modelruns/1langtangTL/default_land_cover'
monthly_mean = pd.read_csv(folder_path + '/long_term_mean_monthly_Qstl_default_landcover.csv')


# elevation = elevation.transpose()
# elevation_list = elevation.loc['cellnr2'].tolist()
# monthly_mean = monthly_mean[elevation_list]

# monthly_mean.columns = elevation.loc['band_data']

# monthly_mean['month'] = monthly_mean.index.values + 1
# monthly_mean['land_cover'] = land_cover
# melted = pd.melt(monthly_mean, id_vars=[ 'month'], var_name='elevation', value_name='Q100')

test = functions.melted_df_for_boxplots_monthly_mean(elevation, monthly_mean, 'default', 'Q100')


# test


monthly_mean


# elevation_list
elevation.transpose



