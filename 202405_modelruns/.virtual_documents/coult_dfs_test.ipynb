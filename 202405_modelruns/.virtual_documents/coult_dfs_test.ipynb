import pandas as pd
import functions 
import os

import matplotlib.pyplot as plt



%%time

column = 'Qdftl'
print(column)

result_df = pd.DataFrame()

# langtang
# folder_path = '/Volumes/Extreme SSD/2024May_sedcas_modelruns/3mustangTL/default_land_cover'
folder_path = '/Volumes/Extreme SSD/2024May_sedcas_modelruns/3mustangTL/test'

# Iterate over the files in the folders
for folder_name in os.listdir(folder_path):
    # skip dsstore thing
    if folder_name == '.DS_Store':
        continue
    # skip all csvs
    if folder_name.endswith('.csv'):
        continue
    file_path = os.path.join(folder_path, folder_name, 'Sediment.out')
    if os.path.isfile(file_path):
        
        # calculate mean monthly value for given column 
        output_df = pd.read_csv(file_path)
        output_df = functions.count_dfs_per_month(output_df, column)
        # take the column 
        name_column = output_df[column]
        # rename the columns 
        column_name = f'{column}_{folder_name}'
        result_df[column_name] = name_column
        result_df.columns = [col[-3:] for col in result_df.columns]


output_path = '/Users/varyabazilova/Desktop/paper2/202405_modelruns/TL_default_landcover_output/'
# result_df.to_csv(output_path + '3mustang_mean_monthly_TL_dfcount_50percent_default_landcover.csv', index = False)


result_df.to_csv(output_path + '3mustang_mean_monthly_TL_dfcount_default_landcover.csv', index = False)


# result_df.to_csv(folder_path + '/long_term_mean_monthly_Q100_default_landcover.csv', index = False)



result_df




# result_df.max()


# still calculate count for SL bagrot anf TL and SL for mustang 











folder_path = '/Volumes/Extreme SSD/2024May_sedcas_modelruns/3mustangTL/test'
testTL = pd.read_csv(folder_path + '/14b/Sediment.out')

folder_path = '/Volumes/Extreme SSD/2024May_sedcas_modelruns/3mustangSL/default_land_cover_25percent'
testSL = pd.read_csv(folder_path + '/14b/Sediment.out')

folder_path = '/Volumes/Extreme SSD/2024May_sedcas_modelruns/3mustangSL/default_land_cover_50percent'
testSL50 = pd.read_csv(folder_path + '/14b/Sediment.out')


# testdf = functions.count_dfs_per_month(test, 'Qdftl')


plt.figure(figsize = (10, 10))

plt.scatter(x = testTL.dfs, y = testTL.Qdftl, color = 'blue', label = 'TL')
plt.scatter(x = testSL50.dfs, y = testSL50.Qdftl, color = 'orange', label = 'SL 50%')

plt.scatter(x = testSL.dfs, y = testSL.Qdftl, color = 'red', label = 'SL 25%')


plt.legend()



