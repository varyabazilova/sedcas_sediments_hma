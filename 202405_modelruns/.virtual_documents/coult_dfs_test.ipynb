import pandas as pd
import functions 
import os



%%time

column = 'Qdftl'
print(column)

result_df = pd.DataFrame()

# langtang
folder_path = '/Volumes/Extreme SSD/2024May_sedcas_modelruns/3mustangTL/default_land_cover'

# Iterate over the files in the folders
for folder_name in os.listdir(folder_path):
    # skip dsstore thing
    if folder_name == '.DS_Store':
        continue
    # skip all csvs
    if folder_name.endswith('.csv'):
        continue
    file_path = os.path.join(folder_path, folder_name, 'Sediment.out')
    if os.path.isfile(file_path):
        
        # calculate mean monthly value for given column 
        output_df = pd.read_csv(file_path)
        output_df = functions.count_dfs_per_month(output_df, column)
        # take the column 
        name_column = output_df[column]
        # rename the columns 
        column_name = f'{column}_{folder_name}'
        result_df[column_name] = name_column
        result_df.columns = [col[-3:] for col in result_df.columns]


output_path = '/Users/varyabazilova/Desktop/paper2/202405_modelruns/TL_default_landcover_output/'
# result_df.to_csv(output_path + '3mustang_mean_monthly_TL_dfcount_default_landcover.csv', index = False)

# result_df.to_csv(folder_path + '/long_term_mean_monthly_Q100_default_landcover.csv', index = False)



result_df

















