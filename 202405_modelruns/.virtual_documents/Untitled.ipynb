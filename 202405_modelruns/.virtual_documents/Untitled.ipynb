import os 
import pandas as pd
import numpy as np
import seaborn as sns
import matplotlib.pyplot as plt

import functions





%%time

column = 'Qdftl'
print(column)

result_df = pd.DataFrame()

# langtang
folder_path = '/Users/varyabazilova/Desktop/paper2/202405_modelruns/3mustangTL/default_land_cover'


# Iterate over the files in the folders
for folder_name in os.listdir(folder_path):
    # skip dsstore thing
    if folder_name == '.DS_Store':
        continue
    # skip all csvs
    if folder_name.endswith('.csv'):
        continue
    file_path = os.path.join(folder_path, folder_name, 'Sediment.out')
    if os.path.isfile(file_path):
        
        # calculate mean monthly value for given column 
        output_df = functions.calculate_monthly_sediment_yield(pd.read_csv(file_path))
        # take the column 
        name_column = output_df[column]
        # rename the columns 
        column_name = f'{column}_{folder_name}'
        result_df[column_name] = name_column
        result_df.columns = [col[-3:] for col in result_df.columns]


output_path = '/Users/varyabazilova/Desktop/paper2/202405_modelruns/TL_default_landcover_output/'
result_df.to_csv(output_path + '3mustang_long_term_mean_monthly_Qdftl_default_landcover.csv', index = False)

# result_df.to_csv(folder_path + '/long_term_mean_monthly_Q100_default_landcover.csv', index = False)











#read data 

langtang_monthlymean = pd.read_csv(output_path + '1langtang_long_term_mean_monthly_Qdftl_default_landcover.csv')
bagrot_monthlymean = pd.read_csv(output_path + '2bagrot_long_term_mean_monthly_Qdftl_default_landcover.csv')
mustang_monthlymean =  pd.read_csv(output_path + '3mustang_long_term_mean_monthly_Qdftl_default_landcover.csv')

# read_elevation
langtang_elevation = pd.read_csv('/Users/varyabazilova/Desktop/paper2/downscaling_simple/coordinates_and_elevation_with_labels_langtang.csv')[['cellnr2','band_data']] 
bagrot_elevation = pd.read_csv('/Users/varyabazilova/Desktop/paper2/downscaling_simple/coordinates_and_elevation_with_labels_bagrot.csv')[['cellnr2','band_data']] 
mustang_elevation = pd.read_csv('/Users/varyabazilova/Desktop/paper2/downscaling_simple/coordinates_and_elevation_with_labels_mustang.csv')[['cellnr2','band_data']] 
# 

# add elevation to the monthlymean data 

def add_elevation(elevation, df):
    # elevation = elevation.sort_values('band_data')
    elevation = elevation.transpose()
    elvlist = elevation.loc['cellnr2'].tolist()
    # order columns 
    df_ordered = df[elvlist]
    
    if elvlist == df_ordered.columns.tolist():
        print("columns: same")
    else:
        print("columns: not the same")
        
    # rename columns according to elevation
    df_ordered.columns = elevation.loc['band_data']
    
    return df_ordered

# add elevation as column names
langtang_monthlymean_df = add_elevation(langtang_elevation, langtang_monthlymean).reset_index()
bagrot_monthlymean_df = add_elevation(bagrot_elevation, bagrot_monthlymean).reset_index()
mustang_monthlymean_df = add_elevation(mustang_elevation, mustang_monthlymean).reset_index()





def prepare_for_monthly_boxplots(df):
    df['month'] = df.index+1
    df = df.drop('index', axis =1)
    melted = pd.melt(df, id_vars=['month'], var_name='elevation', value_name='Qdftl')
    return melted


langtang_melted = prepare_for_monthly_boxplots(langtang_monthlymean_df)
bagrot_melted = prepare_for_monthly_boxplots(bagrot_monthlymean_df)
mustang_melted = prepare_for_monthly_boxplots(mustang_monthlymean_df)


  





plt.figure(figsize=(25, 8))
sns.boxplot(x='elevation', y='Qdftl', data=langtang_melted)

plt.xticks(rotation=45)
plt.show()


plt.figure(figsize=(25, 8))
sns.boxplot(x='elevation', y='Qdftl', data=bagrot_melted)

plt.xticks(rotation=45)
plt.show()


plt.figure(figsize=(45, 10))
sns.boxplot(x='elevation', y='Qdftl', data=mustang_melted)

plt.xticks(rotation=45)
plt.show()


plt.figure(figsize=(25, 8))
sns.boxplot(x='month', y='Qdftl', data=langtang_melted)

plt.xticks(rotation=45)
plt.show()


plt.figure(figsize=(25, 8))
sns.boxplot(x='month', y='Qdftl', data=bagrot_melted)

plt.xticks(rotation=45)
plt.show()


plt.figure(figsize=(25, 8))
sns.boxplot(x='month', y='Qdftl', data=mustang_melted)

plt.xticks(rotation=45)
plt.show()


#elevation bins 
# melted_monthly

# import pandas as pd

def bin_elevation(row):
    if row['elevation'] < 1500:
        return '<1500'
    elif 1500 <= row['elevation'] < 2000:
        return '1500 - 2000'
    elif 2000 <= row['elevation'] < 2500:
        return '2000 - 2500'    
    elif 2500 <= row['elevation'] < 3000:
        return '2500 - 3000'
    elif 3000 <= row['elevation'] < 3500:
        return '3000 - 3500'
    elif 3500 <= row['elevation'] < 4000:
        return '3500 - 4000'
    elif 4000 <= row['elevation'] < 4500:
        return '4000 - 4500'
    elif 4500 <= row['elevation'] < 5000:
        return '4500 - 5000'
    elif 5000 <= row['elevation'] < 5500:
        return '5000 - 5500'
    elif 5500 <= row['elevation'] < 6000:
        return '5500 - 6000'
    elif 6000 <= row['elevation'] :
        return '>6000'

langtang_melted['elevation_bin'] = langtang_melted.apply(bin_elevation, axis=1)
bagrot_melted['elevation_bin'] = bagrot_melted.apply(bin_elevation, axis=1)
mustang_melted['elevation_bin'] = mustang_melted.apply(bin_elevation, axis=1)


langtang_melted = langtang_melted.sort_values('elevation_bin')
bagrot_melted = bagrot_melted.sort_values('elevation_bin')
mustang_melted = mustang_melted.sort_values('elevation_bin')

langtang_melted = langtang_melted[langtang_melted['Qdftl'] != 0]
bagrot_melted = bagrot_melted[bagrot_melted['Qdftl'] != 0]
mustang_melted = mustang_melted[mustang_melted['Qdftl'] != 0]


plt.figure(figsize=(25, 8))
sns.boxplot(x='elevation_bin', y='Qdftl', data=langtang_melted)

plt.xticks(rotation=45)
plt.show()


plt.figure(figsize=(25, 8))
sns.boxplot(x='elevation_bin', y='Qdftl', data=bagrot_melted)

plt.xticks(rotation=45)
plt.show()


plt.figure(figsize=(25, 8))
sns.boxplot(x='elevation_bin', y='Qdftl', data=mustang_melted)

plt.xticks(rotation=45)
plt.show()





langtang_melted['region'] = 'langtang'
bagrot_melted['region'] = 'bagrot'
mustang_melted['region'] = 'mustang'


combined = langtang_melted.append(bagrot_melted, ignore_index = True)
combined = combined.append(mustang_melted, ignore_index = True)


plt.figure(figsize=(25, 8))
sns.boxplot(x='month', y='Qdftl', hue = 'region', data=combined, palette = 'magma')

plt.xticks(rotation=45)
plt.show()


plt.figure(figsize=(25, 8))
sns.boxplot(x='month', y='Qdftl', hue = 'elevation_bin', data=langtang_melted, palette = 'magma')

plt.xticks(rotation=45)
plt.show()
































# result_df



