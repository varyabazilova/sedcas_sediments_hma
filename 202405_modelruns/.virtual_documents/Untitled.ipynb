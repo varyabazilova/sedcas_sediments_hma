import os
import pandas as pd
import matplotlib.pyplot as plt


# modelling part
from run import run



%%time

climatepath = '/Users/varyabazilova/Desktop/paper2/202405_modelruns/1langtangSL/default_land_cover/100percent_test'




# get all folders togetehr 
# ls_ = os.listdir('./langtang')
ls_ = os.listdir(climatepath)
ls = [d for d in ls_ if not d.startswith('.')]
dir0 = os.getcwd()

# run the model for each
for d in ls:
    path = os.path.join(dir0, '1langtangSL/default_land_cover/100percent_test', d)
    print(path)
    os.chdir(path)
    run()
    os.chdir(dir0)




