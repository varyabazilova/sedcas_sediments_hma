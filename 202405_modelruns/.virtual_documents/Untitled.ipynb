import pandas as pd
import seaborn as sns 

import functions


# elevation 
elevation = pd.read_csv('/Users/varyabazilova/Desktop/paper2/downscaling_simple/coordinates_and_elevation_with_labels_langtang.csv')[['cellnr2','band_data']] 
elevation = elevation.transpose()
elevation_list = elevation.loc['cellnr2'].tolist()

# df timestep 
folder_path = '/Users/varyabazilova/Desktop/paper2/202405_modelruns/1langtangTL/default_land_cover'
df = functions.calculate_monthly_sediment_yield_all(pd.read_csv(folder_path + '/cellnr12a/Sediment.out'), column)
df = df[['month', 'year']]

# monthly data
monthly_data = pd.read_csv(folder_path + '/monthly_sum_Qstl_default_landcover.csv')

test = functions.melted_df_for_boxplots_monthly(monthly_data, elevation_list, timestep_df, 'default', 'Q100'):




