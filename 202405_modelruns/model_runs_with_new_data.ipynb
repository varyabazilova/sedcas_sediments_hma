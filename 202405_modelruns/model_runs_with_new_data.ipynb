{
 "cells": [
  {
   "cell_type": "markdown",
   "id": "ca29bfe7-b220-4ac4-a66b-26047682274b",
   "metadata": {},
   "source": [
    "- iterate over the cells\n",
    "- save hydrology and sediments\n",
    "- make sure to save the ls, sc\n",
    "\n",
    "1. Experiment 1: NO GLACIERS\n",
    "2. Experiment 2: transport limited case (!!! HERE: calculate what is the mean annual sedimant yeild) \n",
    "3. Experiment 3: linear increase in sediment storage: (HOW BIG LANDSLIDE SHOULD BE?)\n",
    "\n",
    "-- to make changes in the model go to run.py, SedCas_glacier_sed.py (model) or modules.py (modules)"
   ]
  },
  {
   "cell_type": "code",
   "execution_count": 1,
   "id": "85489874-8726-469e-b73c-65dd7648752a",
   "metadata": {},
   "outputs": [],
   "source": [
    "import os\n",
    "import pandas as pd\n",
    "import matplotlib.pyplot as plt\n",
    "\n",
    "\n",
    "# modelling part\n",
    "from run import run\n",
    "\n",
    "\n",
    "# all data is stored on the external ssd \n",
    "# example path:\n",
    "# /Volumes/Extreme SSD/2024May_sedcas_modelruns/3mustangSL/default_land_cover_50percent\n",
    "\n",
    "\n"
   ]
  },
  {
   "cell_type": "markdown",
   "id": "3d4941b0-4c17-46bb-9e22-7b67ed03562e",
   "metadata": {},
   "source": [
    "###  transport limited case (=sediment unlimited): calculate how much sediment there MAY be"
   ]
  },
  {
   "cell_type": "code",
   "execution_count": null,
   "id": "a562fc43-371d-4c30-b31f-70649863cc63",
   "metadata": {},
   "outputs": [],
   "source": [
    "%%time\n",
    "# climatepath = '/Users/varyabazilova/Desktop/paper2/202405_modelruns/1langtangTL/default_land_cover'\n",
    "# climatepath = '/Users/varyabazilova/Desktop/paper2/202405_modelruns/2bagrotTL/default_land_cover'\n",
    "climatepath = '/Users/varyabazilova/Desktop/paper2/202405_modelruns/3mustangTL/default_land_cover/'\n",
    "\n",
    "\n",
    "# get all folders togetehr \n",
    "# ls_ = os.listdir('./langtang')\n",
    "ls_ = os.listdir(climatepath)\n",
    "ls = [d for d in ls_ if not d.startswith('.')]\n",
    "dir0 = os.getcwd()\n",
    "# print(dir0)\n",
    "# run the model for each\n",
    "for d in ls:\n",
    "    # path = os.path.join(dir0, '1langtangTL/default_land_cover', d)\n",
    "    # path = os.path.join(dir0, '2bagrotTL/default_land_cover', d)\n",
    "    path = os.path.join(dir0, '3mustangTL/default_land_cover', d)\n",
    "    if path.endswith('.csv'):\n",
    "        continue\n",
    "    # print(path)\n",
    "    os.chdir(path)\n",
    "    run()\n",
    "    os.chdir(dir0)\n"
   ]
  },
  {
   "cell_type": "code",
   "execution_count": null,
   "id": "d6165c5c-f53d-42b1-94b7-749254d26669",
   "metadata": {},
   "outputs": [],
   "source": [
    "# check if all folders have parameter files \n",
    "\n",
    "# climatepath = '/Users/varyabazilova/Desktop/paper2/202405_modelruns/1langtangTL/default_land_cover'\n",
    "# climatepath = '/Users/varyabazilova/Desktop/paper2/202405_modelruns/2bagrotTL/default_land_cover'\n",
    "climatepath = '/Users/varyabazilova/Desktop/paper2/202405_modelruns/3mustangTL/default_land_cover'\n",
    "\n",
    "# get all folders togetehr \n",
    "# ls_ = os.listdir('./langtang')\n",
    "ls_ = os.listdir(climatepath)\n",
    "ls = [d for d in ls_ if not d.startswith('.')]\n",
    "dir0 = os.getcwd()\n",
    "\n",
    "\n",
    "# Assuming ls contains the list of folders\n",
    "for d in ls:\n",
    "    path = os.path.join(dir0, '3mustangTL/default_land_cover', d)\n",
    "    if path.endswith('.csv'):\n",
    "        continue\n",
    "    \n",
    "    parameter_file_exists = False  # Flag to track if parameter file exists\n",
    "    \n",
    "    for file in os.listdir(path):\n",
    "        if file.endswith('.out') and 'Sediment.out' in file:\n",
    "            parameter_file_exists = True\n",
    "            break\n",
    "    \n",
    "    if not parameter_file_exists:\n",
    "        print(\"sediment file not found in:\", path[-3:])\n",
    "        # You can add further actions here to flag the folder\n",
    "        \n",
    "    os.chdir(dir0)"
   ]
  },
  {
   "cell_type": "code",
   "execution_count": null,
   "id": "5f9b2510-9324-426e-a312-59e29a3e3023",
   "metadata": {},
   "outputs": [],
   "source": [
    "%%time\n",
    "\n",
    "# only run for folders that do not already have sediment out file\n",
    "climatepath = '/Users/varyabazilova/Desktop/paper2/202405_modelruns/3mustangTL/default_land_cover/'\n",
    "\n",
    "# Get all folders together\n",
    "ls_ = os.listdir(climatepath)\n",
    "ls = [d for d in ls_ if not d.startswith('.')]\n",
    "dir0 = os.getcwd()\n",
    "\n",
    "# Iterate through each folder in ls\n",
    "for d in ls:\n",
    "    path = os.path.join(climatepath, d)  # Construct full path to the folder\n",
    "    if os.path.isdir(path):  # Check if the path is a directory\n",
    "        sediment_out_exists = os.path.exists(os.path.join(path, 'Sediment.out'))\n",
    "        \n",
    "        if not sediment_out_exists:\n",
    "            # Add code to perform operations only if Sediment.out file doesn't exist\n",
    "            if path.endswith('.csv'):\n",
    "                continue\n",
    "            os.chdir(path)\n",
    "            run()\n",
    "            os.chdir(dir0)\n",
    "        else:\n",
    "            print(\"already done:\", path)\n"
   ]
  },
  {
   "cell_type": "code",
   "execution_count": null,
   "id": "cafed19a-b130-4737-a5ce-537a0633cb22",
   "metadata": {},
   "outputs": [],
   "source": []
  },
  {
   "cell_type": "code",
   "execution_count": null,
   "id": "90ada698-7b06-44ef-8be2-137fa95f4f62",
   "metadata": {},
   "outputs": [],
   "source": []
  },
  {
   "cell_type": "code",
   "execution_count": null,
   "id": "1f06ddd2-0702-4528-980d-9a27ae6284ef",
   "metadata": {},
   "outputs": [],
   "source": []
  },
  {
   "cell_type": "code",
   "execution_count": null,
   "id": "fae2579e-f0af-445e-b227-05f62b1d457a",
   "metadata": {},
   "outputs": [],
   "source": []
  },
  {
   "cell_type": "code",
   "execution_count": null,
   "id": "bfe57b80-eefb-4289-a3bf-75725777366d",
   "metadata": {},
   "outputs": [],
   "source": []
  },
  {
   "cell_type": "code",
   "execution_count": null,
   "id": "36cbf424-dc00-4f2a-bace-95090ac59513",
   "metadata": {},
   "outputs": [],
   "source": []
  },
  {
   "cell_type": "code",
   "execution_count": null,
   "id": "25fef4d6-715e-41e8-b772-e4329b19c6e9",
   "metadata": {},
   "outputs": [],
   "source": []
  },
  {
   "cell_type": "code",
   "execution_count": null,
   "id": "30dc7671-b32d-44f9-bf78-00de9326710a",
   "metadata": {},
   "outputs": [],
   "source": []
  },
  {
   "cell_type": "code",
   "execution_count": null,
   "id": "b5cc20a0-70dc-4398-92aa-c27fcfab0d7a",
   "metadata": {},
   "outputs": [],
   "source": []
  },
  {
   "cell_type": "code",
   "execution_count": null,
   "id": "2a5ddbff-a769-4917-ae01-59dfccca00ee",
   "metadata": {},
   "outputs": [],
   "source": []
  },
  {
   "cell_type": "code",
   "execution_count": null,
   "id": "e0f3acd6-0397-4edc-8a0b-c80520fa6990",
   "metadata": {},
   "outputs": [],
   "source": []
  },
  {
   "cell_type": "code",
   "execution_count": null,
   "id": "acfc5c17-2d2b-4315-86f8-65f59e4a1a6d",
   "metadata": {},
   "outputs": [],
   "source": []
  },
  {
   "cell_type": "markdown",
   "id": "877b626a-996c-401f-abad-ad2f098725bb",
   "metadata": {},
   "source": [
    "# how much sediment is exported per year in the transport limited case (= unlimited amount of sedoments) ?"
   ]
  },
  {
   "cell_type": "code",
   "execution_count": null,
   "id": "add6405c-c3d9-48f4-aa57-7fe1879a94df",
   "metadata": {},
   "outputs": [],
   "source": [
    "# for each output sediment folder calculate the total annual \n",
    "# go over each folder \n",
    "# take Sediment out file \n",
    "# calculate annual mean\n",
    "# save into the table, where the table has: cellnr, mean annual sed yeald"
   ]
  },
  {
   "cell_type": "code",
   "execution_count": null,
   "id": "6cc98c4f-7b6e-4932-9b4f-09bb8ff9d644",
   "metadata": {},
   "outputs": [],
   "source": [
    "\n",
    "# Define your custom function\n",
    "def annual_sum_mean(df):\n",
    "    df['D'] = pd.to_datetime(df['D'])\n",
    "    df['Year'] = df['D'].dt.year\n",
    "    annual_sum = df.groupby('Year').sum()\n",
    "    annual_mean_Qstl = annual_sum.Qstl.mean()\n",
    "    return annual_mean_Qstl\n",
    "\n",
    "def annual_sum_percentile(df, percentile):\n",
    "    df['D'] = pd.to_datetime(df['D'])\n",
    "    df['Year'] = df['D'].dt.year\n",
    "    annual_sum = df.groupby('Year').sum()\n",
    "    annual_percentile_Qstl = annual_sum.Qstl.quantile(percentile / 100)\n",
    "    return annual_percentile_Qstl\n"
   ]
  },
  {
   "cell_type": "code",
   "execution_count": null,
   "id": "bffc0df4-5a2f-4bf2-a7d2-b10813ff31cd",
   "metadata": {},
   "outputs": [],
   "source": [
    "%%time\n",
    "# 1- langtang\n",
    "# 2 - bagrot\n",
    "# 3 - mustang\n",
    "\n",
    "# Path to the directory containing your folders\n",
    "# directory_path = '/Users/varyabazilova/Desktop/paper2/202405_modelruns/1langtangTL/default_land_cover'\n",
    "directory_path = '/Users/varyabazilova/Desktop/paper2/202405_modelruns/2bagrotTL/default_land_cover'\n",
    "directory_path = '/Users/varyabazilova/Desktop/paper2/202405_modelruns/3mustangTL/default_land_cover'\n",
    "\n",
    "mean_annual_sum =[]\n",
    "\n",
    "mean_annual_10 = []\n",
    "mean_annual_20 = []\n",
    "mean_annual_25 = []\n",
    "mean_annual_30 = []\n",
    "mean_annual_40 = []\n",
    "mean_annual_50 = []\n",
    "mean_annual_60 = []\n",
    "mean_annual_70 = []\n",
    "mean_annual_75 = []\n",
    "mean_annual_80 = []\n",
    "mean_annual_90 = []\n",
    "mean_annual_100 = []\n",
    "\n",
    "\n",
    "# Iterate over each folder\n",
    "for folder_name in os.listdir(directory_path):\n",
    "    folder_path = os.path.join(directory_path, folder_name)\n",
    "    \n",
    "    # Check if it's a directory and its name starts with 'cellnr'\n",
    "    if os.path.isdir(folder_path): #and folder_name.startswith('cellnr'):\n",
    "        # Locate the 'sediment.out' file within the folder\n",
    "        sediment_out_path = os.path.join(folder_path, 'Sediment.out')\n",
    "        \n",
    "        # Read the contents of the file into a pandas DataFrame\n",
    "        df = pd.read_csv(sediment_out_path, delimiter=',')  # Adjust delimiter if needed\n",
    "        # mean:\n",
    "        mean_annual_sum_value = annual_sum_mean(df)\n",
    "        # percentiles:\n",
    "        mean_annual_10_value = annual_sum_percentile(df, 10)\n",
    "        mean_annual_20_value = annual_sum_percentile(df, 20)\n",
    "        mean_annual_25_value = annual_sum_percentile(df, 25)\n",
    "        mean_annual_30_value = annual_sum_percentile(df, 30)\n",
    "        mean_annual_40_value = annual_sum_percentile(df, 40)\n",
    "        mean_annual_50_value = annual_sum_percentile(df, 50)\n",
    "        mean_annual_60_value = annual_sum_percentile(df, 60)\n",
    "        mean_annual_70_value = annual_sum_percentile(df, 70)\n",
    "        mean_annual_75_value = annual_sum_percentile(df, 75)\n",
    "        mean_annual_80_value = annual_sum_percentile(df, 80)\n",
    "        mean_annual_90_value = annual_sum_percentile(df, 90)\n",
    "        mean_annual_100_value =  annual_sum_percentile(df, 100)\n",
    "\n",
    "       # # Save the DataFrame into the results table\n",
    "        mean_annual_sum.append((folder_name.replace('cellnr', ''), mean_annual_sum_value))\n",
    "\n",
    "        mean_annual_10.append((folder_name.replace('cellnr', ''), mean_annual_10_value ))\n",
    "        mean_annual_20.append((folder_name.replace('cellnr', ''), mean_annual_20_value ))\n",
    "        mean_annual_25.append((folder_name.replace('cellnr', ''), mean_annual_25_value ))\n",
    "        mean_annual_30.append((folder_name.replace('cellnr', ''), mean_annual_30_value ))\n",
    "        mean_annual_40.append((folder_name.replace('cellnr', ''), mean_annual_40_value ))\n",
    "        mean_annual_50.append((folder_name.replace('cellnr', ''), mean_annual_50_value ))\n",
    "        mean_annual_60.append((folder_name.replace('cellnr', ''), mean_annual_60_value ))\n",
    "        mean_annual_70.append((folder_name.replace('cellnr', ''), mean_annual_70_value ))\n",
    "        mean_annual_75.append((folder_name.replace('cellnr', ''), mean_annual_75_value ))\n",
    "        mean_annual_80.append((folder_name.replace('cellnr', ''), mean_annual_80_value ))\n",
    "        mean_annual_90.append((folder_name.replace('cellnr', ''), mean_annual_90_value ))\n",
    "        mean_annual_100.append((folder_name.replace('cellnr', ''),mean_annual_100_value))\n",
    "\n",
    "\n",
    "\n",
    "# make table \n",
    "mean_annual_sum_df = pd.DataFrame(mean_annual_sum, columns=['cellnr', 'annual_mean_Qstl_mm']).set_index('cellnr')\n",
    "mean_annual_10_df  = pd.DataFrame(mean_annual_10, columns=['cellnr', 'annual_10percent_Qstl_mm']).set_index('cellnr')\n",
    "mean_annual_20_df  = pd.DataFrame(mean_annual_20, columns=['cellnr', 'annual_20percent_Qstl_mm']).set_index('cellnr')\n",
    "mean_annual_25_df  = pd.DataFrame(mean_annual_25, columns=['cellnr', 'annual_25percent_Qstl_mm']).set_index('cellnr')\n",
    "mean_annual_30_df  = pd.DataFrame(mean_annual_30, columns=['cellnr', 'annual_30percent_Qstl_mm']).set_index('cellnr')\n",
    "mean_annual_40_df  = pd.DataFrame(mean_annual_40, columns=['cellnr', 'annual_40percent_Qstl_mm']).set_index('cellnr')\n",
    "mean_annual_50_df  = pd.DataFrame(mean_annual_50, columns=['cellnr', 'annual_50percent_Qstl_mm']).set_index('cellnr')\n",
    "mean_annual_60_df  = pd.DataFrame(mean_annual_60, columns=['cellnr', 'annual_60percent_Qstl_mm']).set_index('cellnr')\n",
    "mean_annual_70_df  = pd.DataFrame(mean_annual_70, columns=['cellnr', 'annual_70percent_Qstl_mm']).set_index('cellnr')\n",
    "mean_annual_75_df  = pd.DataFrame(mean_annual_75, columns=['cellnr', 'annual_75percent_Qstl_mm']).set_index('cellnr')\n",
    "mean_annual_80_df  = pd.DataFrame(mean_annual_80, columns=['cellnr', 'annual_80percent_Qstl_mm']).set_index('cellnr')\n",
    "mean_annual_90_df  = pd.DataFrame(mean_annual_90, columns=['cellnr', 'annual_90percent_Qstl_mm']).set_index('cellnr') \n",
    "mean_annual_100_df = pd.DataFrame(mean_annual_100, columns=['cellnr', 'annual_100percent_Qstl_mm']).set_index('cellnr')\n",
    "\n",
    "\n",
    "# merge together\n",
    "merged_df = pd.concat([mean_annual_sum_df, mean_annual_10_df, mean_annual_20_df,\n",
    "                       mean_annual_25_df, mean_annual_30_df, mean_annual_40_df, mean_annual_50_df,\n",
    "                       mean_annual_60_df, mean_annual_70_df, mean_annual_75_df, mean_annual_80_df, \n",
    "                       mean_annual_90_df, mean_annual_100_df], axis = 1)\n",
    "\n",
    "\n"
   ]
  },
  {
   "cell_type": "code",
   "execution_count": null,
   "id": "42da682e-2e97-428e-8b56-bf54379148b0",
   "metadata": {},
   "outputs": [],
   "source": [
    "# len(merged_df.columns)\n",
    "# len(merged_df)"
   ]
  },
  {
   "cell_type": "code",
   "execution_count": null,
   "id": "2aec7184-f6e8-4903-b0ef-a9b28b94b6e1",
   "metadata": {},
   "outputs": [],
   "source": [
    "# mean_annual_sum_df['annual_mean_Qstl_m'] = mean_annual_sum_df.annual_mean_Qstl_mm/1000     # [sediments mm to m] \n",
    "# mean_annual_sum_df['annual_mean_Qstl_m3'] = mean_annual_sum_df.annual_mean_Qstl_m * 4.83*(10**6)   # [sediments [m] * area [m2]\n",
    "# merged_df.sort_values(merged_df.index)\n",
    "\n",
    "\n"
   ]
  },
  {
   "cell_type": "code",
   "execution_count": null,
   "id": "9afe1cb7-d587-4554-90e4-17d1d537fb3f",
   "metadata": {},
   "outputs": [],
   "source": [
    "for column in merged_df.columns:\n",
    "    # for the columns with _mm in it\n",
    "    if '_mm' in column:\n",
    "        # Replace '_mm' with '_m3' and create a new column\n",
    "        new_column_name = column.replace('_mm', '_m3')\n",
    "        # convert to m3: 1) [sediments mm to m] 2) [sediments [m] * area [m2]\n",
    "        merged_df[new_column_name] = (merged_df[column] / 1000) * 4.83 * (10 ** 6)\n",
    "\n"
   ]
  },
  {
   "cell_type": "code",
   "execution_count": null,
   "id": "ebe64023-50af-48c4-b7ea-2e4b153c6009",
   "metadata": {},
   "outputs": [],
   "source": []
  },
  {
   "cell_type": "code",
   "execution_count": null,
   "id": "16ce2c12-ab3b-41ad-9610-bf5cdd7349d5",
   "metadata": {},
   "outputs": [],
   "source": [
    "# merged_df"
   ]
  },
  {
   "cell_type": "markdown",
   "id": "ec8a5b67-5894-4d9d-b1ec-a633772a5791",
   "metadata": {},
   "source": [
    "## m3/day"
   ]
  },
  {
   "cell_type": "code",
   "execution_count": null,
   "id": "2ae0054a-43b9-4035-8245-d698f0eecb33",
   "metadata": {},
   "outputs": [],
   "source": [
    "# Iterate over each column in the DataFrame\n",
    "for column in merged_df.columns:\n",
    "    if '_m3' in column:\n",
    "        merged_df[column + '_day'] = merged_df[column] /365\n"
   ]
  },
  {
   "cell_type": "code",
   "execution_count": null,
   "id": "9c0094f4-02b2-445d-a268-03f33d1b101b",
   "metadata": {},
   "outputs": [],
   "source": [
    "merged_df.head()\n",
    "\n"
   ]
  },
  {
   "cell_type": "code",
   "execution_count": null,
   "id": "66d88205-4e51-405e-a3fb-888a15e33d54",
   "metadata": {},
   "outputs": [],
   "source": []
  },
  {
   "cell_type": "markdown",
   "id": "e7d57f0f-2df3-44f0-8843-1a872a9be6b0",
   "metadata": {},
   "source": [
    "# add coordinates and save the output "
   ]
  },
  {
   "cell_type": "code",
   "execution_count": null,
   "id": "fcaae9c8-04e6-4032-976d-11e1d3851acb",
   "metadata": {},
   "outputs": [],
   "source": [
    "# csv with coordinates and geopotential (z) \n",
    "\n",
    "# coordinates = pd.read_csv('/Users/varyabazilova/Desktop/paper2/downscaling_simple/coordinates_with_labels_langtang.csv').set_index('cellnr2')\n",
    "# coordinates = pd.read_csv('/Users/varyabazilova/Desktop/paper2/downscaling_simple/coordinates_with_labels_bagrot.csv').set_index('cellnr2')\n",
    "coordinates = pd.read_csv('/Users/varyabazilova/Desktop/paper2/downscaling_simple/coordinates_with_labels_mustang.csv').set_index('cellnr2')\n",
    "with_coords = pd.concat([merged_df, coordinates],  axis=1).reset_index()\n",
    "# coordinates\n",
    "\n"
   ]
  },
  {
   "cell_type": "code",
   "execution_count": null,
   "id": "75cd2c1a-fa02-4580-accf-7f1ec1a2012c",
   "metadata": {},
   "outputs": [],
   "source": [
    "# with_coords"
   ]
  },
  {
   "cell_type": "code",
   "execution_count": null,
   "id": "2c5b6692-4a48-4d16-a609-5ca56bdd5851",
   "metadata": {},
   "outputs": [],
   "source": [
    "#save alltogether \n",
    "# output_path = '/Users/varyabazilova/Desktop/paper2/202405_modelruns/1langtangTL/default_land_cover/'\n",
    "# output_path = '/Users/varyabazilova/Desktop/paper2/202405_modelruns/2bagrotTL/default_land_cover/'\n",
    "output_path = '/Users/varyabazilova/Desktop/paper2/202405_modelruns/3mustangTL/default_land_cover/'\n",
    "with_coords.to_csv(output_path + 'default_land_cover_mustang_tl_percentiles_with_coords.csv', index = False)\n",
    "\n"
   ]
  },
  {
   "cell_type": "code",
   "execution_count": null,
   "id": "0530481a-3b19-4e6f-8d21-d3424feb2b66",
   "metadata": {},
   "outputs": [],
   "source": [
    "with_coords.columns"
   ]
  },
  {
   "cell_type": "code",
   "execution_count": null,
   "id": "5c07dd82-547f-4724-8d01-01a6a64a4c90",
   "metadata": {},
   "outputs": [],
   "source": [
    "columns_to_copy = ['cellnr', 'annual_10percent_Qstl_m3_day',\n",
    "                   'annual_20percent_Qstl_m3_day', 'annual_25percent_Qstl_m3_day',\n",
    "                   'annual_30percent_Qstl_m3_day', 'annual_40percent_Qstl_m3_day',\n",
    "                   'annual_50percent_Qstl_m3_day', 'annual_60percent_Qstl_m3_day',\n",
    "                   'annual_70percent_Qstl_m3_day', 'annual_75percent_Qstl_m3_day',\n",
    "                   'annual_80percent_Qstl_m3_day', 'annual_90percent_Qstl_m3_day',\n",
    "                   'annual_100percent_Qstl_m3_day', 'Longitude', 'Latitude',\n",
    "                   'Longitude_new', 'Latitude_new', 'cellnr', 'z']\n",
    "\n",
    "selected_columns= with_coords[columns_to_copy].copy()\n",
    "                              "
   ]
  },
  {
   "cell_type": "code",
   "execution_count": null,
   "id": "19f12fad-d4bb-48c7-a9c1-cef3aa723e7c",
   "metadata": {},
   "outputs": [],
   "source": [
    "\n",
    "selected_columns.to_csv(output_path + 'default_land_cover_mustang_tl_percentiles_with_coords_m3_day.csv', index = False)"
   ]
  },
  {
   "cell_type": "code",
   "execution_count": null,
   "id": "3a16df4d-cd0c-4684-aa01-5d92a4f2632d",
   "metadata": {},
   "outputs": [],
   "source": []
  },
  {
   "cell_type": "code",
   "execution_count": null,
   "id": "6c326682-411c-47f0-b187-3a9a0f94df81",
   "metadata": {},
   "outputs": [],
   "source": []
  },
  {
   "cell_type": "markdown",
   "id": "d0268866-c01f-423e-abe5-bcbe01a543f6",
   "metadata": {},
   "source": [
    "## supply limited case runs\n"
   ]
  },
  {
   "cell_type": "code",
   "execution_count": null,
   "id": "5d7ec6e1-59c0-47fb-b671-8d9b213c18a6",
   "metadata": {},
   "outputs": [
    {
     "name": "stdout",
     "output_type": "stream",
     "text": [
      "/Users/varyabazilova/Desktop/paper2/202405_modelruns/3mustangSL/default_land_cover_25percent/36b\n",
      "running sediment module...\n"
     ]
    },
    {
     "name": "stderr",
     "output_type": "stream",
     "text": [
      "100%|█████████████████████████████████████████████| 1/1 [00:01<00:00,  1.35s/it]\n"
     ]
    },
    {
     "name": "stdout",
     "output_type": "stream",
     "text": [
      "saving output...\n",
      "/Users/varyabazilova/Desktop/paper2/202405_modelruns/3mustangSL/default_land_cover_25percent/53d\n",
      "running sediment module...\n"
     ]
    },
    {
     "name": "stderr",
     "output_type": "stream",
     "text": [
      "100%|█████████████████████████████████████████████| 1/1 [00:01<00:00,  1.33s/it]\n"
     ]
    },
    {
     "name": "stdout",
     "output_type": "stream",
     "text": [
      "saving output...\n",
      "/Users/varyabazilova/Desktop/paper2/202405_modelruns/3mustangSL/default_land_cover_25percent/53c\n",
      "running sediment module...\n"
     ]
    },
    {
     "name": "stderr",
     "output_type": "stream",
     "text": [
      "100%|█████████████████████████████████████████████| 1/1 [00:01<00:00,  1.43s/it]\n"
     ]
    },
    {
     "name": "stdout",
     "output_type": "stream",
     "text": [
      "saving output...\n",
      "/Users/varyabazilova/Desktop/paper2/202405_modelruns/3mustangSL/default_land_cover_25percent/35c\n",
      "running sediment module...\n"
     ]
    },
    {
     "name": "stderr",
     "output_type": "stream",
     "text": [
      "100%|█████████████████████████████████████████████| 1/1 [00:01<00:00,  1.52s/it]\n"
     ]
    },
    {
     "name": "stdout",
     "output_type": "stream",
     "text": [
      "saving output...\n",
      "/Users/varyabazilova/Desktop/paper2/202405_modelruns/3mustangSL/default_land_cover_25percent/35d\n",
      "running sediment module...\n"
     ]
    },
    {
     "name": "stderr",
     "output_type": "stream",
     "text": [
      "100%|█████████████████████████████████████████████| 1/1 [00:01<00:00,  1.49s/it]\n"
     ]
    },
    {
     "name": "stdout",
     "output_type": "stream",
     "text": [
      "saving output...\n",
      "/Users/varyabazilova/Desktop/paper2/202405_modelruns/3mustangSL/default_land_cover_25percent/76d\n",
      "running sediment module...\n"
     ]
    },
    {
     "name": "stderr",
     "output_type": "stream",
     "text": [
      "100%|█████████████████████████████████████████████| 1/1 [00:01<00:00,  1.52s/it]\n"
     ]
    },
    {
     "name": "stdout",
     "output_type": "stream",
     "text": [
      "saving output...\n",
      "/Users/varyabazilova/Desktop/paper2/202405_modelruns/3mustangSL/default_land_cover_25percent/13b\n",
      "running sediment module...\n"
     ]
    },
    {
     "name": "stderr",
     "output_type": "stream",
     "text": [
      "100%|█████████████████████████████████████████████| 1/1 [00:01<00:00,  1.64s/it]\n"
     ]
    },
    {
     "name": "stdout",
     "output_type": "stream",
     "text": [
      "saving output...\n",
      "/Users/varyabazilova/Desktop/paper2/202405_modelruns/3mustangSL/default_land_cover_25percent/55a\n",
      "running sediment module...\n"
     ]
    },
    {
     "name": "stderr",
     "output_type": "stream",
     "text": [
      "100%|█████████████████████████████████████████████| 1/1 [00:01<00:00,  1.38s/it]\n"
     ]
    },
    {
     "name": "stdout",
     "output_type": "stream",
     "text": [
      "saving output...\n",
      "/Users/varyabazilova/Desktop/paper2/202405_modelruns/3mustangSL/default_land_cover_25percent/76c\n",
      "running sediment module...\n"
     ]
    },
    {
     "name": "stderr",
     "output_type": "stream",
     "text": [
      "100%|█████████████████████████████████████████████| 1/1 [00:01<00:00,  1.43s/it]\n"
     ]
    },
    {
     "name": "stdout",
     "output_type": "stream",
     "text": [
      "saving output...\n",
      "/Users/varyabazilova/Desktop/paper2/202405_modelruns/3mustangSL/default_land_cover_25percent/33a\n",
      "running sediment module...\n"
     ]
    },
    {
     "name": "stderr",
     "output_type": "stream",
     "text": [
      "100%|█████████████████████████████████████████████| 1/1 [00:01<00:00,  1.40s/it]\n"
     ]
    },
    {
     "name": "stdout",
     "output_type": "stream",
     "text": [
      "saving output...\n",
      "/Users/varyabazilova/Desktop/paper2/202405_modelruns/3mustangSL/default_land_cover_25percent/59c\n",
      "running sediment module...\n"
     ]
    },
    {
     "name": "stderr",
     "output_type": "stream",
     "text": [
      "100%|█████████████████████████████████████████████| 1/1 [00:01<00:00,  1.37s/it]\n"
     ]
    },
    {
     "name": "stdout",
     "output_type": "stream",
     "text": [
      "saving output...\n",
      "/Users/varyabazilova/Desktop/paper2/202405_modelruns/3mustangSL/default_land_cover_25percent/59d\n",
      "running sediment module...\n"
     ]
    },
    {
     "name": "stderr",
     "output_type": "stream",
     "text": [
      "100%|█████████████████████████████████████████████| 1/1 [00:01<00:00,  1.39s/it]\n"
     ]
    },
    {
     "name": "stdout",
     "output_type": "stream",
     "text": [
      "saving output...\n",
      "/Users/varyabazilova/Desktop/paper2/202405_modelruns/3mustangSL/default_land_cover_25percent/75b\n",
      "running sediment module...\n"
     ]
    },
    {
     "name": "stderr",
     "output_type": "stream",
     "text": [
      "100%|█████████████████████████████████████████████| 1/1 [00:01<00:00,  1.42s/it]\n"
     ]
    },
    {
     "name": "stdout",
     "output_type": "stream",
     "text": [
      "saving output...\n",
      "/Users/varyabazilova/Desktop/paper2/202405_modelruns/3mustangSL/default_land_cover_25percent/35b\n",
      "running sediment module...\n"
     ]
    },
    {
     "name": "stderr",
     "output_type": "stream",
     "text": [
      "100%|█████████████████████████████████████████████| 1/1 [00:01<00:00,  1.51s/it]\n"
     ]
    },
    {
     "name": "stdout",
     "output_type": "stream",
     "text": [
      "saving output...\n",
      "/Users/varyabazilova/Desktop/paper2/202405_modelruns/3mustangSL/default_land_cover_25percent/53b\n",
      "running sediment module...\n"
     ]
    },
    {
     "name": "stderr",
     "output_type": "stream",
     "text": [
      "100%|█████████████████████████████████████████████| 1/1 [00:01<00:00,  1.38s/it]\n"
     ]
    },
    {
     "name": "stdout",
     "output_type": "stream",
     "text": [
      "saving output...\n",
      "/Users/varyabazilova/Desktop/paper2/202405_modelruns/3mustangSL/default_land_cover_25percent/36d\n",
      "running sediment module...\n"
     ]
    },
    {
     "name": "stderr",
     "output_type": "stream",
     "text": [
      "100%|█████████████████████████████████████████████| 1/1 [00:01<00:00,  1.47s/it]\n"
     ]
    },
    {
     "name": "stdout",
     "output_type": "stream",
     "text": [
      "saving output...\n",
      "/Users/varyabazilova/Desktop/paper2/202405_modelruns/3mustangSL/default_land_cover_25percent/36c\n",
      "running sediment module...\n"
     ]
    },
    {
     "name": "stderr",
     "output_type": "stream",
     "text": [
      "100%|█████████████████████████████████████████████| 1/1 [00:01<00:00,  1.49s/it]\n"
     ]
    },
    {
     "name": "stdout",
     "output_type": "stream",
     "text": [
      "saving output...\n",
      "/Users/varyabazilova/Desktop/paper2/202405_modelruns/3mustangSL/default_land_cover_25percent/56a\n",
      "running sediment module...\n"
     ]
    },
    {
     "name": "stderr",
     "output_type": "stream",
     "text": [
      "100%|█████████████████████████████████████████████| 1/1 [00:01<00:00,  1.54s/it]\n"
     ]
    },
    {
     "name": "stdout",
     "output_type": "stream",
     "text": [
      "saving output...\n",
      "/Users/varyabazilova/Desktop/paper2/202405_modelruns/3mustangSL/default_land_cover_25percent/75c\n",
      "running sediment module...\n"
     ]
    },
    {
     "name": "stderr",
     "output_type": "stream",
     "text": [
      "100%|█████████████████████████████████████████████| 1/1 [00:01<00:00,  1.40s/it]\n"
     ]
    },
    {
     "name": "stdout",
     "output_type": "stream",
     "text": [
      "saving output...\n",
      "/Users/varyabazilova/Desktop/paper2/202405_modelruns/3mustangSL/default_land_cover_25percent/59b\n",
      "running sediment module...\n"
     ]
    },
    {
     "name": "stderr",
     "output_type": "stream",
     "text": [
      "100%|█████████████████████████████████████████████| 1/1 [00:01<00:00,  1.39s/it]\n"
     ]
    },
    {
     "name": "stdout",
     "output_type": "stream",
     "text": [
      "saving output...\n",
      "/Users/varyabazilova/Desktop/paper2/202405_modelruns/3mustangSL/default_land_cover_25percent/75d\n",
      "running sediment module...\n"
     ]
    },
    {
     "name": "stderr",
     "output_type": "stream",
     "text": [
      "100%|█████████████████████████████████████████████| 1/1 [00:01<00:00,  1.46s/it]\n"
     ]
    },
    {
     "name": "stdout",
     "output_type": "stream",
     "text": [
      "saving output...\n"
     ]
    },
    {
     "name": "stderr",
     "output_type": "stream",
     "text": [
      "/Users/varyabazilova/Desktop/paper2/202405_modelruns/SedCas_glacier_sed.py:221: RuntimeWarning: More than 20 figures have been opened. Figures created through the pyplot interface (`matplotlib.pyplot.figure`) are retained until explicitly closed and may consume too much memory. (To control this warning, see the rcParam `figure.max_open_warning`).\n",
      "  fig, ax = plt.subplots()\n"
     ]
    },
    {
     "name": "stdout",
     "output_type": "stream",
     "text": [
      "/Users/varyabazilova/Desktop/paper2/202405_modelruns/3mustangSL/default_land_cover_25percent/13d\n",
      "running sediment module...\n"
     ]
    },
    {
     "name": "stderr",
     "output_type": "stream",
     "text": [
      "100%|█████████████████████████████████████████████| 1/1 [00:01<00:00,  1.66s/it]\n"
     ]
    },
    {
     "name": "stdout",
     "output_type": "stream",
     "text": [
      "saving output...\n",
      "/Users/varyabazilova/Desktop/paper2/202405_modelruns/3mustangSL/default_land_cover_25percent/76b\n",
      "running sediment module...\n"
     ]
    },
    {
     "name": "stderr",
     "output_type": "stream",
     "text": [
      "100%|█████████████████████████████████████████████| 1/1 [00:01<00:00,  1.58s/it]\n"
     ]
    },
    {
     "name": "stdout",
     "output_type": "stream",
     "text": [
      "saving output...\n",
      "/Users/varyabazilova/Desktop/paper2/202405_modelruns/3mustangSL/default_land_cover_25percent/13c\n",
      "running sediment module...\n"
     ]
    },
    {
     "name": "stderr",
     "output_type": "stream",
     "text": [
      "100%|█████████████████████████████████████████████| 1/1 [00:01<00:00,  1.52s/it]\n"
     ]
    },
    {
     "name": "stdout",
     "output_type": "stream",
     "text": [
      "saving output...\n",
      "/Users/varyabazilova/Desktop/paper2/202405_modelruns/3mustangSL/default_land_cover_25percent/79a\n",
      "running sediment module...\n"
     ]
    },
    {
     "name": "stderr",
     "output_type": "stream",
     "text": [
      "100%|█████████████████████████████████████████████| 1/1 [00:01<00:00,  1.42s/it]\n"
     ]
    },
    {
     "name": "stdout",
     "output_type": "stream",
     "text": [
      "saving output...\n",
      "/Users/varyabazilova/Desktop/paper2/202405_modelruns/3mustangSL/default_land_cover_25percent/42b\n",
      "running sediment module...\n"
     ]
    },
    {
     "name": "stderr",
     "output_type": "stream",
     "text": [
      "100%|█████████████████████████████████████████████| 1/1 [00:01<00:00,  1.41s/it]\n"
     ]
    },
    {
     "name": "stdout",
     "output_type": "stream",
     "text": [
      "saving output...\n",
      "/Users/varyabazilova/Desktop/paper2/202405_modelruns/3mustangSL/default_land_cover_25percent/24b\n",
      "running sediment module...\n"
     ]
    },
    {
     "name": "stderr",
     "output_type": "stream",
     "text": [
      "100%|█████████████████████████████████████████████| 1/1 [00:01<00:00,  1.41s/it]\n"
     ]
    },
    {
     "name": "stdout",
     "output_type": "stream",
     "text": [
      "saving output...\n",
      "/Users/varyabazilova/Desktop/paper2/202405_modelruns/3mustangSL/default_land_cover_25percent/87c\n",
      "running sediment module...\n"
     ]
    },
    {
     "name": "stderr",
     "output_type": "stream",
     "text": [
      "100%|█████████████████████████████████████████████| 1/1 [00:01<00:00,  1.57s/it]\n"
     ]
    },
    {
     "name": "stdout",
     "output_type": "stream",
     "text": [
      "saving output...\n",
      "/Users/varyabazilova/Desktop/paper2/202405_modelruns/3mustangSL/default_land_cover_25percent/87d\n",
      "running sediment module...\n"
     ]
    },
    {
     "name": "stderr",
     "output_type": "stream",
     "text": [
      "100%|█████████████████████████████████████████████| 1/1 [00:01<00:00,  1.59s/it]\n"
     ]
    },
    {
     "name": "stdout",
     "output_type": "stream",
     "text": [
      "saving output...\n",
      "/Users/varyabazilova/Desktop/paper2/202405_modelruns/3mustangSL/default_land_cover_25percent/68a\n",
      "running sediment module...\n"
     ]
    },
    {
     "name": "stderr",
     "output_type": "stream",
     "text": [
      "100%|█████████████████████████████████████████████| 1/1 [00:01<00:00,  1.51s/it]\n"
     ]
    },
    {
     "name": "stdout",
     "output_type": "stream",
     "text": [
      "saving output...\n",
      "/Users/varyabazilova/Desktop/paper2/202405_modelruns/3mustangSL/default_land_cover_25percent/67b\n",
      "running sediment module...\n"
     ]
    },
    {
     "name": "stderr",
     "output_type": "stream",
     "text": [
      "100%|█████████████████████████████████████████████| 1/1 [00:01<00:00,  1.58s/it]\n"
     ]
    },
    {
     "name": "stdout",
     "output_type": "stream",
     "text": [
      "saving output...\n",
      "/Users/varyabazilova/Desktop/paper2/202405_modelruns/3mustangSL/default_land_cover_25percent/64d\n"
     ]
    }
   ],
   "source": [
    "%%time\n",
    "\n",
    "# NEXT - MUSTANG 25% - write params first. the data is stored on the local ssd. \n",
    "# climatepath = '/Users/varyabazilova/Desktop/paper2/202405_modelruns/2bagrotSL/default_land_cover_50percent'\n",
    "\n",
    "climatepath = '/Users/varyabazilova/Desktop/paper2/202405_modelruns/3mustangSL/default_land_cover_25percent'\n",
    "\n",
    "# get all folders togetehr \n",
    "# ls_ = os.listdir('./langtang')\n",
    "ls_ = os.listdir(climatepath)\n",
    "ls = [d for d in ls_ if not d.startswith('.')]\n",
    "dir0 = os.getcwd()\n",
    "\n",
    "# run the model for each\n",
    "for d in ls:\n",
    "    path = os.path.join(dir0, '3mustangSL/default_land_cover_25percent', d)\n",
    "\n",
    "    print(path)\n",
    "    os.chdir(path)\n",
    "    run()\n",
    "    os.chdir(dir0)"
   ]
  },
  {
   "cell_type": "code",
   "execution_count": null,
   "id": "1b3ef581-5c6e-4f4d-bc99-d68f8617d2d7",
   "metadata": {},
   "outputs": [],
   "source": [
    "%%time\n",
    "# ----- this code is for the situations, when some folders have been finished, but some not \n",
    "# -- only run for folders that do not already have sediment out file\n",
    "\n",
    "# !! CHANGE PATH\n",
    "climatepath = '/Users/varyabazilova/Desktop/paper2/202405_modelruns/3mustangTL/default_land_cover/'\n",
    "\n",
    "# Get all folders together\n",
    "ls_ = os.listdir(climatepath)\n",
    "ls = [d for d in ls_ if not d.startswith('.')]\n",
    "dir0 = os.getcwd()\n",
    "\n",
    "# Iterate through each folder in ls\n",
    "for d in ls:\n",
    "    path = os.path.join(climatepath, d)  # Construct full path to the folder\n",
    "    if os.path.isdir(path):  # Check if the path is a directory\n",
    "        sediment_out_exists = os.path.exists(os.path.join(path, 'Sediment.out'))\n",
    "        \n",
    "        if not sediment_out_exists:\n",
    "            # Add code to perform operations only if Sediment.out file doesn't exist\n",
    "            if path.endswith('.csv'):\n",
    "                continue\n",
    "            os.chdir(path)\n",
    "            run()\n",
    "            os.chdir(dir0)\n",
    "        else:\n",
    "            print(\"already done:\", path)\n"
   ]
  },
  {
   "cell_type": "code",
   "execution_count": null,
   "id": "d0a11a84-493d-4259-8d38-26fb53051591",
   "metadata": {},
   "outputs": [],
   "source": []
  },
  {
   "cell_type": "markdown",
   "id": "f2fba5bf-8712-4e0f-8912-c7a5e1c856f3",
   "metadata": {},
   "source": [
    "## "
   ]
  }
 ],
 "metadata": {
  "kernelspec": {
   "display_name": "Python [conda env:sedcas] *",
   "language": "python",
   "name": "conda-env-sedcas-py"
  },
  "language_info": {
   "codemirror_mode": {
    "name": "ipython",
    "version": 3
   },
   "file_extension": ".py",
   "mimetype": "text/x-python",
   "name": "python",
   "nbconvert_exporter": "python",
   "pygments_lexer": "ipython3",
   "version": "3.9.7"
  }
 },
 "nbformat": 4,
 "nbformat_minor": 5
}
