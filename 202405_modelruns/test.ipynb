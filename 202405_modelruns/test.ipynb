{
 "cells": [
  {
   "cell_type": "code",
   "execution_count": 1,
   "id": "4358851c-a45e-4e04-8685-3168edd95962",
   "metadata": {},
   "outputs": [],
   "source": [
    "import pandas as pd\n",
    "import seaborn as sns \n",
    "\n",
    "import functions"
   ]
  },
  {
   "cell_type": "markdown",
   "id": "bc78a1b9-0ab4-4928-8475-6e0584d4f59b",
   "metadata": {},
   "source": [
    "# read things "
   ]
  },
  {
   "cell_type": "code",
   "execution_count": 3,
   "id": "e9616c29-7aea-457c-9485-360dea3316ff",
   "metadata": {},
   "outputs": [],
   "source": [
    "# elevation \n",
    "elevation = pd.read_csv('/Users/varyabazilova/Desktop/paper2/downscaling_simple/coordinates_and_elevation_with_labels_langtang.csv')[['cellnr2','band_data']] \n",
    "\n",
    "# paramater of interest \n",
    "column = 'Q100'\n",
    "# df timestep for monthly \n",
    "folder_path = '/Users/varyabazilova/Desktop/paper2/202405_modelruns/1langtangTL/default_land_cover'\n",
    "df = functions.calculate_monthly_sediment_yield_all(pd.read_csv(folder_path + '/cellnr12a/Sediment.out'), column)\n",
    "df = df[['month', 'year']]\n",
    "\n",
    "# monthly data\n",
    "# monthly_data = pd.read_csv(folder_path + '/monthly_sum_Qstl_default_landcover.csv')\n",
    "\n",
    "# test = functions.melted_df_for_boxplots_monthly(elevation, monthly_data, df, 'default', 'Q100')\n"
   ]
  },
  {
   "cell_type": "markdown",
   "id": "6d320706-0960-4c96-84ce-58f4730c7146",
   "metadata": {},
   "source": [
    "# read data "
   ]
  },
  {
   "cell_type": "code",
   "execution_count": 7,
   "id": "936b6017-3f5c-4e42-a9f8-684dbf500028",
   "metadata": {},
   "outputs": [
    {
     "name": "stderr",
     "output_type": "stream",
     "text": [
      "/Users/varyabazilova/Desktop/paper2/202405_modelruns/functions.py:161: SettingWithCopyWarning: \n",
      "A value is trying to be set on a copy of a slice from a DataFrame.\n",
      "Try using .loc[row_indexer,col_indexer] = value instead\n",
      "\n",
      "See the caveats in the documentation: https://pandas.pydata.org/pandas-docs/stable/user_guide/indexing.html#returning-a-view-versus-a-copy\n",
      "  monthly_mean['month'] = monthly_mean.index.values + 1\n",
      "/Users/varyabazilova/Desktop/paper2/202405_modelruns/functions.py:162: SettingWithCopyWarning: \n",
      "A value is trying to be set on a copy of a slice from a DataFrame.\n",
      "Try using .loc[row_indexer,col_indexer] = value instead\n",
      "\n",
      "See the caveats in the documentation: https://pandas.pydata.org/pandas-docs/stable/user_guide/indexing.html#returning-a-view-versus-a-copy\n",
      "  monthly_mean['land_cover'] = land_cover\n"
     ]
    }
   ],
   "source": [
    "#read data \n",
    "folder_path = '/Users/varyabazilova/Desktop/paper2/202405_modelruns/1langtangTL/default_land_cover'\n",
    "monthly_mean = pd.read_csv(folder_path + '/long_term_mean_monthly_Qstl_default_landcover.csv')\n",
    "\n",
    "test = functions.melted_df_for_boxplots_monthly_mean(elevation, monthly_mean, 'default', 'Q100')"
   ]
  },
  {
   "cell_type": "markdown",
   "id": "71567bd9-501f-4f67-8c92-c72b4857015e",
   "metadata": {},
   "source": [
    "# make data ready for boxplots"
   ]
  },
  {
   "cell_type": "code",
   "execution_count": null,
   "id": "467728d8-cc94-4b5b-9e1c-4f85c77b6b90",
   "metadata": {},
   "outputs": [],
   "source": []
  },
  {
   "cell_type": "code",
   "execution_count": null,
   "id": "adf2119d-8961-4f1f-8ed2-d32ea5e6bace",
   "metadata": {},
   "outputs": [],
   "source": []
  },
  {
   "cell_type": "code",
   "execution_count": null,
   "id": "f606d65f-0fa6-4e99-815a-49946db8df56",
   "metadata": {},
   "outputs": [],
   "source": []
  },
  {
   "cell_type": "markdown",
   "id": "0359f0d0-dc09-467a-a308-0296883c242e",
   "metadata": {},
   "source": [
    "# plot boxplots"
   ]
  },
  {
   "cell_type": "code",
   "execution_count": null,
   "id": "7cafc149-d9ad-4c81-97de-0d1638b818ed",
   "metadata": {},
   "outputs": [],
   "source": []
  }
 ],
 "metadata": {
  "kernelspec": {
   "display_name": "Python [conda env:project1]",
   "language": "python",
   "name": "conda-env-project1-py"
  },
  "language_info": {
   "codemirror_mode": {
    "name": "ipython",
    "version": 3
   },
   "file_extension": ".py",
   "mimetype": "text/x-python",
   "name": "python",
   "nbconvert_exporter": "python",
   "pygments_lexer": "ipython3",
   "version": "3.7.11"
  }
 },
 "nbformat": 4,
 "nbformat_minor": 5
}
