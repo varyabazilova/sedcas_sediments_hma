{
 "cells": [
  {
   "cell_type": "code",
   "execution_count": 1,
   "id": "fd6fa88e-30ea-46e6-ba9b-c9c55013a2e6",
   "metadata": {},
   "outputs": [],
   "source": [
    "import pandas as pd"
   ]
  },
  {
   "cell_type": "code",
   "execution_count": 11,
   "id": "87c8cbf7-f654-45fd-a4df-dba641550cc6",
   "metadata": {},
   "outputs": [],
   "source": [
    "df = pd.DataFrame({'snow': [2.81, 3.21, 3.62, 2.32, 2.71, 3.27, 2.97, 3.21, 3.32],\n",
    "                   'ice': [4.17, 4.22, 5.27, 5.57, 4.69, 4.22, 4.79, 4.58, 3.61]})\n",
    "\n",
    "\n",
    "df['difference'] = (df.ice * 100) / df.snow\n",
    "df['percent'] = df.difference - 100"
   ]
  },
  {
   "cell_type": "code",
   "execution_count": 12,
   "id": "0c0a6d9c-e43c-4b30-8e65-6660d31da37b",
   "metadata": {},
   "outputs": [
    {
     "data": {
      "text/html": [
       "<div>\n",
       "<style scoped>\n",
       "    .dataframe tbody tr th:only-of-type {\n",
       "        vertical-align: middle;\n",
       "    }\n",
       "\n",
       "    .dataframe tbody tr th {\n",
       "        vertical-align: top;\n",
       "    }\n",
       "\n",
       "    .dataframe thead th {\n",
       "        text-align: right;\n",
       "    }\n",
       "</style>\n",
       "<table border=\"1\" class=\"dataframe\">\n",
       "  <thead>\n",
       "    <tr style=\"text-align: right;\">\n",
       "      <th></th>\n",
       "      <th>snow</th>\n",
       "      <th>ice</th>\n",
       "      <th>difference</th>\n",
       "      <th>percent</th>\n",
       "    </tr>\n",
       "  </thead>\n",
       "  <tbody>\n",
       "    <tr>\n",
       "      <th>0</th>\n",
       "      <td>2.81</td>\n",
       "      <td>4.17</td>\n",
       "      <td>148.398577</td>\n",
       "      <td>48.398577</td>\n",
       "    </tr>\n",
       "    <tr>\n",
       "      <th>1</th>\n",
       "      <td>3.21</td>\n",
       "      <td>4.22</td>\n",
       "      <td>131.464174</td>\n",
       "      <td>31.464174</td>\n",
       "    </tr>\n",
       "    <tr>\n",
       "      <th>2</th>\n",
       "      <td>3.62</td>\n",
       "      <td>5.27</td>\n",
       "      <td>145.580110</td>\n",
       "      <td>45.580110</td>\n",
       "    </tr>\n",
       "    <tr>\n",
       "      <th>3</th>\n",
       "      <td>2.32</td>\n",
       "      <td>5.57</td>\n",
       "      <td>240.086207</td>\n",
       "      <td>140.086207</td>\n",
       "    </tr>\n",
       "    <tr>\n",
       "      <th>4</th>\n",
       "      <td>2.71</td>\n",
       "      <td>4.69</td>\n",
       "      <td>173.062731</td>\n",
       "      <td>73.062731</td>\n",
       "    </tr>\n",
       "    <tr>\n",
       "      <th>5</th>\n",
       "      <td>3.27</td>\n",
       "      <td>4.22</td>\n",
       "      <td>129.051988</td>\n",
       "      <td>29.051988</td>\n",
       "    </tr>\n",
       "    <tr>\n",
       "      <th>6</th>\n",
       "      <td>2.97</td>\n",
       "      <td>4.79</td>\n",
       "      <td>161.279461</td>\n",
       "      <td>61.279461</td>\n",
       "    </tr>\n",
       "    <tr>\n",
       "      <th>7</th>\n",
       "      <td>3.21</td>\n",
       "      <td>4.58</td>\n",
       "      <td>142.679128</td>\n",
       "      <td>42.679128</td>\n",
       "    </tr>\n",
       "    <tr>\n",
       "      <th>8</th>\n",
       "      <td>3.32</td>\n",
       "      <td>3.61</td>\n",
       "      <td>108.734940</td>\n",
       "      <td>8.734940</td>\n",
       "    </tr>\n",
       "  </tbody>\n",
       "</table>\n",
       "</div>"
      ],
      "text/plain": [
       "   snow   ice  difference     percent\n",
       "0  2.81  4.17  148.398577   48.398577\n",
       "1  3.21  4.22  131.464174   31.464174\n",
       "2  3.62  5.27  145.580110   45.580110\n",
       "3  2.32  5.57  240.086207  140.086207\n",
       "4  2.71  4.69  173.062731   73.062731\n",
       "5  3.27  4.22  129.051988   29.051988\n",
       "6  2.97  4.79  161.279461   61.279461\n",
       "7  3.21  4.58  142.679128   42.679128\n",
       "8  3.32  3.61  108.734940    8.734940"
      ]
     },
     "execution_count": 12,
     "metadata": {},
     "output_type": "execute_result"
    }
   ],
   "source": []
  },
  {
   "cell_type": "code",
   "execution_count": 7,
   "id": "c18dff10-a13c-4db8-8191-dd0e352b3161",
   "metadata": {},
   "outputs": [],
   "source": []
  },
  {
   "cell_type": "code",
   "execution_count": null,
   "id": "da81c6ed-7b3e-4062-8e6a-d5c856701c51",
   "metadata": {},
   "outputs": [],
   "source": []
  },
  {
   "cell_type": "code",
   "execution_count": null,
   "id": "675ff9f1-727d-41b0-aab6-06d20899148e",
   "metadata": {},
   "outputs": [],
   "source": []
  }
 ],
 "metadata": {
  "kernelspec": {
   "display_name": "Python [conda env:sedcas] *",
   "language": "python",
   "name": "conda-env-sedcas-py"
  },
  "language_info": {
   "codemirror_mode": {
    "name": "ipython",
    "version": 3
   },
   "file_extension": ".py",
   "mimetype": "text/x-python",
   "name": "python",
   "nbconvert_exporter": "python",
   "pygments_lexer": "ipython3",
   "version": "3.9.7"
  }
 },
 "nbformat": 4,
 "nbformat_minor": 5
}
