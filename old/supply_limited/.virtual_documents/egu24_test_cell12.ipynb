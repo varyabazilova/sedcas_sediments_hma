import os
import pandas as pd
import matplotlib.pyplot as plt


# modelling part
from run import run


%%time
climatepath = '/Users/varyabazilova/Desktop/paper2/downscaling_simple/supply_limited/langtang_annual_mean_TEST'

# get all folders togetehr 
# ls_ = os.listdir('./langtang')
ls_ = os.listdir(climatepath)
ls = [d for d in ls_ if not d.startswith('.')]
dir0 = os.getcwd()

# run the model for each
for d in ls:
    path = os.path.join(dir0, 'langtang_annual_mean_TEST', d)
    print(path)
    os.chdir(path)
    run()
    os.chdir(dir0)






sediment_out = pd.read_csv('/Users/varyabazilova/Desktop/paper2/downscaling_simple/supply_limited/langtang_annual_mean_TEST/cellnr12/Sediment.out')


hydro = pd.read_csv('/Users/varyabazilova/Desktop/paper2/downscaling_simple/supply_limited/langtang_annual_mean_TEST/cellnr12/Hydro.out')

                       


# plt.subplots(figsize = (20, 10))

# sediment_out.plot(subplots = True)


hydro.Q.plot()




sediment_out.Qdftl[800:850].plot(label = 'Qdftl')
sediment_out.Qstl[800:850].plot(label = 'Qdf')

plt.legend()
# plt.ylim([0,0.5])


sediment_out.sc.plot()


sediment_out.Q10[1000:].plot()


sediment_out.dfs.plot()


len(sediment_out)/24


sediment_out.Qdftl.sum()



sediment_out.dfs.sum() 




0.17780967786048357 * 4.83*1000 


plt.plot(sediment_out.ls[0:72])


800/4.83/1000/24



