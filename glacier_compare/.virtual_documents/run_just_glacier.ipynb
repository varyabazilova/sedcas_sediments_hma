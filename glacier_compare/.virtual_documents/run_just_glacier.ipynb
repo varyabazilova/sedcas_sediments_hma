import pandas as pd
import matplotlib.pyplot as plt
from SedCas_glacier import SedCas
import inspect


model = SedCas()
model.load_climate()
model.load_params()
model.run_hydro()
model.run_sediment()
model.save_output()
model.plot_sedyield_monthly()






hydro_out = pd.read_csv('/Users/varyabazilova/Desktop/paper2/sediment_scenarios/Hydro.out')
sed_out = pd.read_csv('/Users/varyabazilova/Desktop/paper2/sediment_scenarios/Sediment.out')




sed_out1 = sed_out

plt.figure(figsize = (30, 5))
sed_out1.sc.plot(color = 'cyan', label = 'channel sed storage')

sed_out1.Q100.plot(label = 'Q100')
plt.title('Sediment.out : landslides are constant')
plt.legend()


sed_out1 = hydro_out

plt.figure(figsize = (30, 5))
sed_out.sc.plot(color = 'magenta', label = 'channel sed storage')

sed_out1.Q.plot(color = 'cyan', label = 'Q')
sed_out.Q100.plot(label = 'Q100')

plt.legend()


hydro_out2 = pd.read_csv('/Users/varyabazilova/Desktop/paper2/glacier_compare/Hydro.out')
sed_out2 = pd.read_csv('/Users/varyabazilova/Desktop/paper2/glacier_compare/Sediment.out')




sed_out1 = sed_out2

plt.figure(figsize = (30, 5))
sed_out1.sc.plot(color = 'cyan', label = 'channel sed storage')

sed_out1.Q100.plot(label = 'Q100')
hydro_out2.Q.plot(label = 'Q')

plt.title('Sediment.out : landslides climate dependent')
plt.legend()








plt.figure(figsize = (30, 5))
sed_out2.sc.plot(color = 'cyan', label = 'channel sed storage')

sed_out2.Q100.plot(label = 'Q100')
# plt.title('Sediment.out : large landslides')
plt.legend()



