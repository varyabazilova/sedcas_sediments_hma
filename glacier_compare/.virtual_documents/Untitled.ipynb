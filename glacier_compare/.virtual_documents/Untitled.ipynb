import pandas as pd
import matplotlib.pyplot as plt
from SedCas_glacier import SedCas
import inspect


model = SedCas()
model.load_climate()
model.load_params()
model.run_hydro()
model.run_sediment()
model.save_output()
model.plot_sedyield_monthly()



hydro_out = pd.read_csv('/Users/varyabazilova/Desktop/paper2/sediment_scenarios/Hydro.out')
sed_out = pd.read_csv('/Users/varyabazilova/Desktop/paper2/sediment_scenarios/Sediment.out')




sed_out1 = sed_out


plt.figure(figsize = (30, 5))
sed_out1.sc.plot(color = 'cyan', label = 'channel sed storage')

# plt.ylim(0, 0.1)
# sed_out1.Qstl.plot(color = 'orange', label = 'Qstl') # [mm/h]
sed_out1.Q100.plot(label = 'Q100')
# plt.title('Sediment.out : large landslides')
plt.legend()



