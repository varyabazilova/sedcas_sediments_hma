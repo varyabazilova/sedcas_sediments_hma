{
 "cells": [
  {
   "cell_type": "code",
   "execution_count": 1,
   "id": "697b5203-bcab-4a96-a530-6fd6532a6c7e",
   "metadata": {},
   "outputs": [],
   "source": [
    "import pandas as pd\n",
    "import matplotlib.pyplot as plt\n",
    "import os \n",
    "import numpy as np\n",
    "\n",
    "%matplotlib inline"
   ]
  },
  {
   "cell_type": "code",
   "execution_count": 2,
   "id": "92941848-faf4-4a33-a7ca-5c0f76103591",
   "metadata": {},
   "outputs": [],
   "source": [
    "# Vwcap for 'glacier' HRU - stops breaking when bigger or eq. then 0.25\n",
    "# snowacc - total snow and ice accumulation \n",
    "# - varya "
   ]
  },
  {
   "cell_type": "code",
   "execution_count": null,
   "id": "94e18809-5438-4dcc-8f9e-867c35b6248f",
   "metadata": {},
   "outputs": [],
   "source": [
    "\n",
    "from SedCas_glacier import SedCas\n",
    "# from SedCas import SedCas\n",
    "\n",
    "# \n",
    "model = SedCas()\n",
    "model.load_climate()\n",
    "model.load_params()\n",
    "model.run_hydro()\n",
    "model.run_sediment()\n",
    "model.save_output()\n",
    "model.plot_sedyield_monthly()"
   ]
  },
  {
   "cell_type": "code",
   "execution_count": null,
   "id": "b2055c10-65fa-4527-8c5e-5a6dec8cbf8a",
   "metadata": {},
   "outputs": [],
   "source": []
  },
  {
   "cell_type": "code",
   "execution_count": null,
   "id": "4496f1c8-8627-4316-b9d9-208c3b914f56",
   "metadata": {},
   "outputs": [],
   "source": []
  },
  {
   "cell_type": "code",
   "execution_count": null,
   "id": "811c6687-9578-43d4-89f4-357cde8b68cf",
   "metadata": {},
   "outputs": [],
   "source": []
  },
  {
   "cell_type": "code",
   "execution_count": null,
   "id": "eecb67c1-e3e3-481d-acbf-676c3cc4cc1c",
   "metadata": {},
   "outputs": [],
   "source": []
  },
  {
   "cell_type": "code",
   "execution_count": 20,
   "id": "b3706a75-b1ba-4e54-968c-a8bca58badc4",
   "metadata": {},
   "outputs": [
    {
     "data": {
      "text/html": [
       "<div>\n",
       "<style scoped>\n",
       "    .dataframe tbody tr th:only-of-type {\n",
       "        vertical-align: middle;\n",
       "    }\n",
       "\n",
       "    .dataframe tbody tr th {\n",
       "        vertical-align: top;\n",
       "    }\n",
       "\n",
       "    .dataframe thead th {\n",
       "        text-align: right;\n",
       "    }\n",
       "</style>\n",
       "<table border=\"1\" class=\"dataframe\">\n",
       "  <thead>\n",
       "    <tr style=\"text-align: right;\">\n",
       "      <th></th>\n",
       "      <th>D</th>\n",
       "      <th>Q</th>\n",
       "      <th>Qs</th>\n",
       "      <th>Qss</th>\n",
       "      <th>Vw</th>\n",
       "      <th>snow</th>\n",
       "      <th>snowacc</th>\n",
       "      <th>PET</th>\n",
       "      <th>AET</th>\n",
       "      <th>Pr</th>\n",
       "      <th>Ta</th>\n",
       "      <th>glacier_melt</th>\n",
       "    </tr>\n",
       "  </thead>\n",
       "  <tbody>\n",
       "    <tr>\n",
       "      <th>0</th>\n",
       "      <td>1999-10-01 00:00:00</td>\n",
       "      <td>0.000000</td>\n",
       "      <td>0.0</td>\n",
       "      <td>0.000000</td>\n",
       "      <td>0.000000</td>\n",
       "      <td>0.0</td>\n",
       "      <td>0.0</td>\n",
       "      <td>0.0</td>\n",
       "      <td>0.0</td>\n",
       "      <td>0.0</td>\n",
       "      <td>5.6</td>\n",
       "      <td>0.0408</td>\n",
       "    </tr>\n",
       "    <tr>\n",
       "      <th>1</th>\n",
       "      <td>1999-10-01 01:00:00</td>\n",
       "      <td>0.040000</td>\n",
       "      <td>0.0</td>\n",
       "      <td>0.040000</td>\n",
       "      <td>0.000000</td>\n",
       "      <td>0.0</td>\n",
       "      <td>0.0</td>\n",
       "      <td>0.0</td>\n",
       "      <td>0.0</td>\n",
       "      <td>0.0</td>\n",
       "      <td>5.5</td>\n",
       "      <td>0.0400</td>\n",
       "    </tr>\n",
       "    <tr>\n",
       "      <th>2</th>\n",
       "      <td>1999-10-01 02:00:00</td>\n",
       "      <td>0.041600</td>\n",
       "      <td>0.0</td>\n",
       "      <td>0.041600</td>\n",
       "      <td>0.000000</td>\n",
       "      <td>0.0</td>\n",
       "      <td>0.0</td>\n",
       "      <td>0.0</td>\n",
       "      <td>0.0</td>\n",
       "      <td>0.0</td>\n",
       "      <td>5.7</td>\n",
       "      <td>0.0416</td>\n",
       "    </tr>\n",
       "    <tr>\n",
       "      <th>3</th>\n",
       "      <td>1999-10-01 03:00:00</td>\n",
       "      <td>0.090303</td>\n",
       "      <td>0.0</td>\n",
       "      <td>0.090303</td>\n",
       "      <td>0.351297</td>\n",
       "      <td>0.0</td>\n",
       "      <td>0.0</td>\n",
       "      <td>0.0</td>\n",
       "      <td>0.0</td>\n",
       "      <td>0.4</td>\n",
       "      <td>5.7</td>\n",
       "      <td>0.0416</td>\n",
       "    </tr>\n",
       "    <tr>\n",
       "      <th>4</th>\n",
       "      <td>1999-10-01 04:00:00</td>\n",
       "      <td>0.062108</td>\n",
       "      <td>0.0</td>\n",
       "      <td>0.062108</td>\n",
       "      <td>0.430789</td>\n",
       "      <td>0.0</td>\n",
       "      <td>0.0</td>\n",
       "      <td>0.0</td>\n",
       "      <td>0.0</td>\n",
       "      <td>0.1</td>\n",
       "      <td>5.7</td>\n",
       "      <td>0.0416</td>\n",
       "    </tr>\n",
       "    <tr>\n",
       "      <th>...</th>\n",
       "      <td>...</td>\n",
       "      <td>...</td>\n",
       "      <td>...</td>\n",
       "      <td>...</td>\n",
       "      <td>...</td>\n",
       "      <td>...</td>\n",
       "      <td>...</td>\n",
       "      <td>...</td>\n",
       "      <td>...</td>\n",
       "      <td>...</td>\n",
       "      <td>...</td>\n",
       "      <td>...</td>\n",
       "    </tr>\n",
       "    <tr>\n",
       "      <th>158539</th>\n",
       "      <td>2017-10-31 19:00:00</td>\n",
       "      <td>0.009626</td>\n",
       "      <td>0.0</td>\n",
       "      <td>0.009626</td>\n",
       "      <td>0.599051</td>\n",
       "      <td>0.0</td>\n",
       "      <td>0.0</td>\n",
       "      <td>0.0</td>\n",
       "      <td>0.0</td>\n",
       "      <td>0.0</td>\n",
       "      <td>1.4</td>\n",
       "      <td>0.0072</td>\n",
       "    </tr>\n",
       "    <tr>\n",
       "      <th>158540</th>\n",
       "      <td>2017-10-31 20:00:00</td>\n",
       "      <td>0.009617</td>\n",
       "      <td>0.0</td>\n",
       "      <td>0.009617</td>\n",
       "      <td>0.596634</td>\n",
       "      <td>0.0</td>\n",
       "      <td>0.0</td>\n",
       "      <td>0.0</td>\n",
       "      <td>0.0</td>\n",
       "      <td>0.0</td>\n",
       "      <td>1.4</td>\n",
       "      <td>0.0072</td>\n",
       "    </tr>\n",
       "    <tr>\n",
       "      <th>158541</th>\n",
       "      <td>2017-10-31 21:00:00</td>\n",
       "      <td>0.009608</td>\n",
       "      <td>0.0</td>\n",
       "      <td>0.009608</td>\n",
       "      <td>0.594226</td>\n",
       "      <td>0.0</td>\n",
       "      <td>0.0</td>\n",
       "      <td>0.0</td>\n",
       "      <td>0.0</td>\n",
       "      <td>0.0</td>\n",
       "      <td>1.4</td>\n",
       "      <td>0.0072</td>\n",
       "    </tr>\n",
       "    <tr>\n",
       "      <th>158542</th>\n",
       "      <td>2017-10-31 22:00:00</td>\n",
       "      <td>0.009599</td>\n",
       "      <td>0.0</td>\n",
       "      <td>0.009599</td>\n",
       "      <td>0.591827</td>\n",
       "      <td>0.0</td>\n",
       "      <td>0.0</td>\n",
       "      <td>0.0</td>\n",
       "      <td>0.0</td>\n",
       "      <td>0.0</td>\n",
       "      <td>1.4</td>\n",
       "      <td>0.0072</td>\n",
       "    </tr>\n",
       "    <tr>\n",
       "      <th>158543</th>\n",
       "      <td>2017-10-31 23:00:00</td>\n",
       "      <td>0.011990</td>\n",
       "      <td>0.0</td>\n",
       "      <td>0.011990</td>\n",
       "      <td>0.589436</td>\n",
       "      <td>0.0</td>\n",
       "      <td>0.0</td>\n",
       "      <td>0.0</td>\n",
       "      <td>0.0</td>\n",
       "      <td>0.0</td>\n",
       "      <td>1.7</td>\n",
       "      <td>0.0096</td>\n",
       "    </tr>\n",
       "  </tbody>\n",
       "</table>\n",
       "<p>158544 rows × 12 columns</p>\n",
       "</div>"
      ],
      "text/plain": [
       "                          D         Q   Qs       Qss        Vw  snow  snowacc  \\\n",
       "0       1999-10-01 00:00:00  0.000000  0.0  0.000000  0.000000   0.0      0.0   \n",
       "1       1999-10-01 01:00:00  0.040000  0.0  0.040000  0.000000   0.0      0.0   \n",
       "2       1999-10-01 02:00:00  0.041600  0.0  0.041600  0.000000   0.0      0.0   \n",
       "3       1999-10-01 03:00:00  0.090303  0.0  0.090303  0.351297   0.0      0.0   \n",
       "4       1999-10-01 04:00:00  0.062108  0.0  0.062108  0.430789   0.0      0.0   \n",
       "...                     ...       ...  ...       ...       ...   ...      ...   \n",
       "158539  2017-10-31 19:00:00  0.009626  0.0  0.009626  0.599051   0.0      0.0   \n",
       "158540  2017-10-31 20:00:00  0.009617  0.0  0.009617  0.596634   0.0      0.0   \n",
       "158541  2017-10-31 21:00:00  0.009608  0.0  0.009608  0.594226   0.0      0.0   \n",
       "158542  2017-10-31 22:00:00  0.009599  0.0  0.009599  0.591827   0.0      0.0   \n",
       "158543  2017-10-31 23:00:00  0.011990  0.0  0.011990  0.589436   0.0      0.0   \n",
       "\n",
       "        PET  AET   Pr   Ta  glacier_melt  \n",
       "0       0.0  0.0  0.0  5.6        0.0408  \n",
       "1       0.0  0.0  0.0  5.5        0.0400  \n",
       "2       0.0  0.0  0.0  5.7        0.0416  \n",
       "3       0.0  0.0  0.4  5.7        0.0416  \n",
       "4       0.0  0.0  0.1  5.7        0.0416  \n",
       "...     ...  ...  ...  ...           ...  \n",
       "158539  0.0  0.0  0.0  1.4        0.0072  \n",
       "158540  0.0  0.0  0.0  1.4        0.0072  \n",
       "158541  0.0  0.0  0.0  1.4        0.0072  \n",
       "158542  0.0  0.0  0.0  1.4        0.0072  \n",
       "158543  0.0  0.0  0.0  1.7        0.0096  \n",
       "\n",
       "[158544 rows x 12 columns]"
      ]
     },
     "execution_count": 20,
     "metadata": {},
     "output_type": "execute_result"
    }
   ],
   "source": [
    "hydro_out = pd.read_csv('Hydro.out')#.set_index('D')\n",
    "hydro_out"
   ]
  },
  {
   "cell_type": "code",
   "execution_count": 22,
   "id": "9701d813-61cf-4e8b-bce9-f35719bb7377",
   "metadata": {},
   "outputs": [],
   "source": [
    "hydro_out['melt'] = np.where(hydro_out['snowacc'] > 0, 0, -1 * hydro_out['snowacc'])\n"
   ]
  },
  {
   "cell_type": "code",
   "execution_count": 23,
   "id": "7ae37b8e-3285-4e69-85f1-eb45bb6e6dd1",
   "metadata": {},
   "outputs": [
    {
     "data": {
      "text/plain": [
       "<matplotlib.legend.Legend at 0x7fe1d00e7220>"
      ]
     },
     "execution_count": 23,
     "metadata": {},
     "output_type": "execute_result"
    },
    {
     "data": {
      "image/png": "[encoded data removed]",
      "text/plain": [
       "<Figure size 1440x432 with 1 Axes>"
      ]
     },
     "metadata": {
      "needs_background": "light"
     },
     "output_type": "display_data"
    }
   ],
   "source": [
    "fig, ax = plt.subplots(figsize = (20, 6))\n",
    "\n",
    "hydro_out2 = hydro_out[:500]\n",
    "\n",
    "hydro_out2.snowacc.plot(label='snowacc')\n",
    "hydro_out2.glacier_melt.plot(label='glacier melt')\n",
    "hydro_out2['melt'].plot(label='melt')\n",
    "hydro_out2.snow.plot(label = 'snow')\n",
    "\n",
    "\n",
    "plt.legend()\n",
    "plt.legend(fontsize = 20)\n"
   ]
  },
  {
   "cell_type": "code",
   "execution_count": null,
   "id": "19087026-3fab-4e5f-b91a-b661c3840a13",
   "metadata": {},
   "outputs": [],
   "source": []
  },
  {
   "cell_type": "code",
   "execution_count": null,
   "id": "1993ff7b-f6bc-4e94-b7ab-c2d4a1bd3469",
   "metadata": {},
   "outputs": [],
   "source": []
  },
  {
   "cell_type": "code",
   "execution_count": null,
   "id": "e1242a98-5c52-4afc-9391-28084390dde8",
   "metadata": {},
   "outputs": [],
   "source": [
    "ds = hydro_out.Vw.values[-1] - hydro_out.Vw.values[0] + hydro_out.snow.values[-1] - hydro_out.snow.values[0]\n",
    "b = hydro_out.Pr.sum() + hydro_out.glacier_melt.sum() - hydro_out.AET.sum() - hydro_out.Q.sum() - ds\n"
   ]
  },
  {
   "cell_type": "code",
   "execution_count": null,
   "id": "995f2963-4f9a-4d1c-a436-fcba5bcdfbe2",
   "metadata": {},
   "outputs": [],
   "source": [
    "b"
   ]
  },
  {
   "cell_type": "code",
   "execution_count": null,
   "id": "51c96121-b9c9-4ede-b262-c68f6ed3e52b",
   "metadata": {},
   "outputs": [],
   "source": []
  },
  {
   "cell_type": "code",
   "execution_count": null,
   "id": "5f5e68a7-1319-41c1-affe-3d213fc333a2",
   "metadata": {},
   "outputs": [],
   "source": [
    "hydro_out.Q.sum()"
   ]
  },
  {
   "cell_type": "code",
   "execution_count": null,
   "id": "1d126a30-cf94-48fd-a8e8-3d05f84b9719",
   "metadata": {},
   "outputs": [],
   "source": []
  },
  {
   "cell_type": "code",
   "execution_count": null,
   "id": "eba5d0a1-f3c0-4abb-b7ef-ceaec9c0dc1a",
   "metadata": {},
   "outputs": [],
   "source": []
  },
  {
   "cell_type": "code",
   "execution_count": null,
   "id": "79015c66-0d8e-4df8-9297-4e3260130886",
   "metadata": {},
   "outputs": [],
   "source": [
    "hydro_out = pd.read_csv('Hydro.out')#.set_index('D')\n"
   ]
  },
  {
   "cell_type": "code",
   "execution_count": null,
   "id": "fa7608ad-98a4-404f-b9af-1affc41daf90",
   "metadata": {},
   "outputs": [],
   "source": [
    "hydro_out"
   ]
  },
  {
   "cell_type": "code",
   "execution_count": null,
   "id": "229a5871-470c-48c1-8720-add9a390968e",
   "metadata": {},
   "outputs": [],
   "source": []
  },
  {
   "cell_type": "code",
   "execution_count": null,
   "id": "c7dc5d5b-3258-4b52-a7ff-b9a8604a1462",
   "metadata": {},
   "outputs": [],
   "source": []
  },
  {
   "cell_type": "code",
   "execution_count": null,
   "id": "15be6482-4a99-4b52-a158-23773e8f6acc",
   "metadata": {},
   "outputs": [],
   "source": []
  },
  {
   "cell_type": "code",
   "execution_count": null,
   "id": "0477e099-7de7-464a-b1b8-da0a0f7dd2aa",
   "metadata": {},
   "outputs": [],
   "source": []
  },
  {
   "cell_type": "code",
   "execution_count": null,
   "id": "c2547e81-50f2-4c65-8480-7245e83cde73",
   "metadata": {},
   "outputs": [],
   "source": []
  },
  {
   "cell_type": "code",
   "execution_count": null,
   "id": "c8391b39-cbb5-4f7e-ac5f-be6a32c97609",
   "metadata": {},
   "outputs": [],
   "source": []
  },
  {
   "cell_type": "code",
   "execution_count": null,
   "id": "be942075-90bb-4739-87d5-5ba03c3c82a8",
   "metadata": {},
   "outputs": [],
   "source": [
    "fig, ax = plt.subplots(figsize = (20, 6))\n",
    "\n",
    "snowacc1 = hydro_out.snowacc * -1\n",
    "melt = hydro_out.glacier_melt + hydro_out2.snow_melt\n",
    "\n",
    "melt.plot(label = 'melt')\n",
    "snowacc1.plot(label = 'snowacc')\n",
    "hydro_out2.glacier_melt.plot(label = 'gl melt')\n",
    "hydro_out2.snow_melt.plot(label = 'snow melt')\n",
    "\n",
    "plt.legend()"
   ]
  },
  {
   "cell_type": "code",
   "execution_count": null,
   "id": "152de60a-615d-49c8-bc28-7e0c2c648af8",
   "metadata": {},
   "outputs": [],
   "source": []
  },
  {
   "cell_type": "code",
   "execution_count": null,
   "id": "f68296f9-55ef-419a-91be-785f233b4cb6",
   "metadata": {},
   "outputs": [],
   "source": [
    "hydro_out2['allmelt'] = hydro_out2.snow_melt + hydro_out2.glacier_melt\n",
    "hydro_out2['snowacc_melt']  = np.where(hydro_out2['snowacc'] < 0, -hydro_out2['snowacc'], 0)\n"
   ]
  },
  {
   "cell_type": "code",
   "execution_count": null,
   "id": "e31b2260-708d-421a-a905-8eb3f5cb81c2",
   "metadata": {},
   "outputs": [],
   "source": [
    "fig, ax = plt.subplots(figsize = (20, 6))\n",
    "\n",
    "hydro_out2.allmelt.plot(label = 'allmelt')\n",
    "# hydro_out2.snow_melt.plot(label = 'snow melt')\n",
    "# hydro_out2.glacier_melt.plot(label = 'glacier_melt')\n",
    "# hydro_out2.snowacc.plot(label = 'snowacc')\n",
    "hydro_out2.snowacc_melt.plot(label = 'snowacc_melt')\n",
    "snowacc1 = hydro_out2.snowacc * -1\n",
    "# snowacc1.plot(label = 'snowacc1')\n",
    "plt.legend()\n",
    "\n",
    "\n"
   ]
  },
  {
   "cell_type": "code",
   "execution_count": null,
   "id": "ee85dc24-f418-4eea-ab54-25e2d60097f1",
   "metadata": {},
   "outputs": [],
   "source": [
    "hydro_out2"
   ]
  },
  {
   "cell_type": "code",
   "execution_count": null,
   "id": "b5572918-36a6-484b-a9b3-2003797a2f6f",
   "metadata": {},
   "outputs": [],
   "source": []
  },
  {
   "cell_type": "code",
   "execution_count": null,
   "id": "dc71fc26-31c8-4a2d-9133-e273de0c0036",
   "metadata": {},
   "outputs": [],
   "source": []
  },
  {
   "cell_type": "code",
   "execution_count": null,
   "id": "ca292005-92ab-4fe7-8022-79896ce5e4f1",
   "metadata": {},
   "outputs": [],
   "source": []
  },
  {
   "cell_type": "code",
   "execution_count": null,
   "id": "c678ce5e-e27c-44ba-bae3-63d984bbe1f1",
   "metadata": {},
   "outputs": [],
   "source": []
  },
  {
   "cell_type": "code",
   "execution_count": null,
   "id": "d7133907-5123-433d-82e5-e740302da8c5",
   "metadata": {},
   "outputs": [],
   "source": []
  },
  {
   "cell_type": "code",
   "execution_count": null,
   "id": "e8d5c960-e7ac-49e8-b63f-2d52a5065f15",
   "metadata": {},
   "outputs": [],
   "source": []
  },
  {
   "cell_type": "code",
   "execution_count": null,
   "id": "7bdd27e6-ebc6-4d1e-ad40-c3092c265290",
   "metadata": {},
   "outputs": [],
   "source": []
  },
  {
   "cell_type": "code",
   "execution_count": null,
   "id": "dee213b3-3b52-457e-a701-50003c455103",
   "metadata": {},
   "outputs": [],
   "source": []
  },
  {
   "cell_type": "code",
   "execution_count": null,
   "id": "39da5527-914d-41ba-ad96-2f954947e6cd",
   "metadata": {},
   "outputs": [],
   "source": []
  },
  {
   "cell_type": "code",
   "execution_count": null,
   "id": "3058e101-32eb-4c19-b326-f44b785bd4fd",
   "metadata": {},
   "outputs": [],
   "source": []
  },
  {
   "cell_type": "code",
   "execution_count": null,
   "id": "c472ef10-480b-4681-810e-afd2cf561e8c",
   "metadata": {},
   "outputs": [],
   "source": [
    "fig, ax = plt.subplots(figsize = (20, 6))\n",
    "\n",
    "hydro_out2 = hydro_out2[:2000]\n",
    "gl = hydro_out2.glacier_melt * -1\n",
    "\n",
    "hydro_out2.snow_melt.plot(label='snow melt')\n",
    "hydro_out2.glacier_melt.plot(label='glacier melt')\n",
    "\n",
    "hydro_out2.snowacc.plot(label='snowacc')\n",
    "\n",
    "\n",
    "plt.legend()\n",
    "plt.legend(fontsize = 20)\n"
   ]
  },
  {
   "cell_type": "code",
   "execution_count": null,
   "id": "f620d58d-c49f-4cae-9f25-f6f300bb2ed5",
   "metadata": {},
   "outputs": [],
   "source": [
    "# "
   ]
  },
  {
   "cell_type": "code",
   "execution_count": null,
   "id": "9aa3990d-260a-4ba3-bf5c-61d154767b09",
   "metadata": {
    "scrolled": true,
    "tags": []
   },
   "outputs": [],
   "source": [
    "df = hydro_out2\n",
    "# df['snow_melt'] = np.where(df['sacc'] < 0, df['sacc']* -1, 0)\n",
    "df = df.set_index('D')\n"
   ]
  },
  {
   "cell_type": "code",
   "execution_count": null,
   "id": "683cdcec-78e0-41b3-b2ec-6f9dcdf88aaa",
   "metadata": {},
   "outputs": [],
   "source": [
    "fig, ax = plt.subplots(figsize=(20, 6))\n",
    "\n",
    "df2 = df[:5000]\n",
    "\n",
    "df2.snow_melt.plot(label = 'snow melt', alpha = 0.7)\n",
    "df2.glacier_melt.plot(label = 'glacier melt', alpha = 0.7)\n",
    "df2.snowacc.plot(label = 'snowacc', alpha = 0.7)\n",
    "\n",
    "plt.legend(fontsize = 20)\n",
    "# plt.savefig('melt_subset_first10kvalues.png')"
   ]
  },
  {
   "cell_type": "code",
   "execution_count": null,
   "id": "ba6feb4d-ec69-482e-a557-4dee7ca5a027",
   "metadata": {},
   "outputs": [],
   "source": [
    "\n",
    "\n",
    "from SedCas_glacier import SedCas\n",
    "# from SedCas import SedCas\n",
    "\n",
    "# \n",
    "model = SedCas()\n",
    "model.load_climate()\n",
    "model.load_params()\n",
    "model.run_hydro()\n",
    "model.run_sediment()\n",
    "model.save_output()\n",
    "model.plot_sedyield_monthly()\n",
    "\n",
    "\n"
   ]
  },
  {
   "cell_type": "code",
   "execution_count": null,
   "id": "d7094d62-4635-4972-b417-3c42391c659e",
   "metadata": {},
   "outputs": [],
   "source": [
    "hydro_out = pd.read_csv('Hydro.out')#.set_index('D')\n"
   ]
  },
  {
   "cell_type": "code",
   "execution_count": null,
   "id": "dfd85354-d991-4c52-a423-1b072b9b4782",
   "metadata": {},
   "outputs": [],
   "source": [
    "hydro_out['Qgl'] = hydro_out.Q + hydro_out.glacier_melt\n",
    "# b2 = hydro_out2.Pr.sum() + hydro_out2.glacier_melt.sum() - hydro_out2.AET.sum() - hydro_out2.Q.sum() - ds2\n",
    "ds = hydro_out.Vw.values[-1] - hydro_out.Vw.values[0] + hydro_out.snow.values[-1] - hydro_out.snow.values[0]\n",
    "\n",
    "\n",
    "hydro_out.Pr.sum() - hydro_out.AET.sum() - hydro_out.Qgl.sum() - ds\n"
   ]
  },
  {
   "cell_type": "code",
   "execution_count": null,
   "id": "188e4980-4f88-4647-aeea-e1053a757c28",
   "metadata": {},
   "outputs": [],
   "source": [
    "hydro_out.Pr.sum() + hydro_out.glacier_melt.sum() - hydro_out.AET.sum() - hydro_out.Q.sum() - ds\n"
   ]
  },
  {
   "cell_type": "code",
   "execution_count": null,
   "id": "50f0558f-6535-4cdc-86f2-6b9ac3e31d10",
   "metadata": {},
   "outputs": [],
   "source": [
    "ds"
   ]
  },
  {
   "cell_type": "code",
   "execution_count": null,
   "id": "7cb7535d-542a-41ba-b255-3e88aba3c5de",
   "metadata": {},
   "outputs": [],
   "source": []
  }
 ],
 "metadata": {
  "kernelspec": {
   "display_name": "Python [conda env:sedcas] *",
   "language": "python",
   "name": "conda-env-sedcas-py"
  },
  "language_info": {
   "codemirror_mode": {
    "name": "ipython",
    "version": 3
   },
   "file_extension": ".py",
   "mimetype": "text/x-python",
   "name": "python",
   "nbconvert_exporter": "python",
   "pygments_lexer": "ipython3",
   "version": "3.9.7"
  }
 },
 "nbformat": 4,
 "nbformat_minor": 5
}
