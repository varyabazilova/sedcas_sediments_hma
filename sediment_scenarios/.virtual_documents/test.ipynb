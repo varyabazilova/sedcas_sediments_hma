import pandas as pd
import matplotlib.pyplot as plt
from SedCas_glacier_sed import SedCas
import inspect
# %matplotlib widget
# from SedCas_glacier import SedCas



# testing different sediment scenarious for sediment input for the system 



#load class
model = SedCas()


inspect.getmembers(model, predicate=inspect.ismethod)



# print parameters
model.load_params()
model.load_climate()



# model.load_params()
model.run_hydro()
model.run_sediment()
model.save_output()
model.plot_sedyield_monthly()











hydro_out = pd.read_csv('/Users/varyabazilova/Desktop/paper2/sediment_scenarios/Hydro.out')
sed_out = pd.read_csv('/Users/varyabazilova/Desktop/paper2/sediment_scenarios/Sediment.out')




# hydro_out
hydro_out.head()





# sed_out = sed_out.set_index('D')#[200:20000]
sed_out['sc_diff'] = sed_out['sc'].diff()



sed_out2= sed_out[sed_out.Q100 > 0.2]

# filtered_df = df[df['X'] > 10]



# sed_out


sed_out1 = sed_out


plt.figure(figsize = (30, 5))
sed_out1.sc.plot(color = 'cyan', label = 'channel sed storage')

# plt.ylim(0, 0.1)
# sed_out1.Qstl.plot(color = 'orange', label = 'Qstl') # [mm/h]
sed_out1.Q100.plot(label = 'Q100')
# plt.title('Sediment.out : large landslides')
plt.legend()



plt.figure(figsize = (30, 5))
sed_out.ls.plot(color = 'cyan', label = 'landslides') 

# mm 
#  50 m3 






sed_out['ls_diff'] = sed_out.ls.diff()




plt.figure(figsize = (30, 5))
sed_out.sc.plot(color = 'cyan', label = 'channel sed storage')
sed_out.Q100.plot(label = 'Q100')

plt.legend()



sed_out.ls_diff.mean()









sed_out = sed_out[sed_out.Q100 > -1]

plt.figure(figsize = (10,8))

plt.scatter(y = sed_out.sc, x = sed_out.Q100, c = sed_out.index)
plt.colorbar()






plt.figure(figsize = (25, 5))
sed_out.Qdftl.plot(color = 'blue', label = 'Qdftl')
hydro_out.Q.plot(color = 'green', label = 'Q', alpha = 0.7)
sed_out.Q100.plot(color = 'orange', label = 'Q100')

plt.legend()


# plt.figure(figsize = (25, 5))
# sed_out1.Q100.plot()


hydro_out_new = pd.read_csv('/Users/varyabazilova/Desktop/paper2/sediment_scenarios/Hydro.out')
sed_out_new = pd.read_csv('/Users/varyabazilova/Desktop/paper2/sediment_scenarios/Sediment.out')




plt.figure(figsize = (30, 5))
sed_out.sc.plot(color = 'cyan', label = 'channel sed storage')
sed_out_new.sc.plot(color = 'magenta', label = 'small ls zeros')
# plt.ylim(0, 0.6)
# sed_out1.Qdftl.plot(color = 'orange', label = 'Qdftl') # [mm/h]
# sed_out1.Q100.plot(label = 'Q100')
plt.legend()









