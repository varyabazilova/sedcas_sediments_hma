{
 "cells": [
  {
   "cell_type": "code",
   "execution_count": null,
   "id": "2bf70767-bbb3-4afc-be1d-ecff6ac85211",
   "metadata": {},
   "outputs": [],
   "source": [
    "# MARCH 2025 - calculate floodd and potential DFs for mustang to make a bubble plot "
   ]
  },
  {
   "cell_type": "code",
   "execution_count": 1,
   "id": "4ad7d50d-c621-47d7-a12f-05e5741d67ad",
   "metadata": {},
   "outputs": [],
   "source": [
    "# Filter the DataFrame for the specified date range\n",
    "\n",
    "\n",
    "start_date = \"1990-08-31\"\n",
    "end_date = \"2021-06-30\"\n",
    "\n",
    "\n",
    "def filter_by_date(df, start_date = start_date, end_date = end_date, date_column='D'):\n",
    "    \"\"\"\n",
    "    Filters a DataFrame to include only rows where the date_column is within the given range.\n",
    "\n",
    "    Parameters:\n",
    "        df (pd.DataFrame): The input DataFrame.\n",
    "        start_date (str or pd.Timestamp): The start date (inclusive).\n",
    "        end_date (str or pd.Timestamp): The end date (inclusive).\n",
    "        date_column (str): The column containing date values (default is 'D').\n",
    "\n",
    "    Returns:\n",
    "        pd.DataFrame: The filtered DataFrame.\n",
    "    \"\"\"\n",
    "    df[date_column] = pd.to_datetime(df[date_column])  # Convert to datetime\n",
    "    return df[(df[date_column] >= start_date) & (df[date_column] <= end_date)]\n",
    "\n",
    "\n",
    "\n",
    "'''\n",
    "\n",
    "def prepare_dfcount(dfcount):\n",
    "    dfcount['D'] = pd.to_datetime(dfcount['D'])\n",
    "    \n",
    "    dfcount = dfcount.drop('D', axis=1)\n",
    "    dfcount = dfcount.rename(columns={'D_year': 'year', 'D_month': 'month'})\n",
    "    \n",
    "    # Melt the dataframe\n",
    "    melted = pd.melt(dfcount, id_vars=['year', 'month'], var_name='elevation', value_name='dfs_count')\n",
    "    \n",
    "    # Process elevation column\n",
    "    melted['elevation'] = melted['elevation'].str.split('.').str[0].astype(float)\n",
    "\n",
    "df[['base', 'suffix']] = df['elevation'].astype(str).str.extract(r'(\\d+)(?:\\.\\d+)?(?:\\.(\\d+))?')\n",
    "df['base'] = df['base'].astype(int)\n",
    "df['suffix'] = df['suffix'].fillna(0).astype(int)\n",
    "df['elevation'] = df['base'] + df['suffix']\n",
    "\n",
    "    \n",
    "    melted['elevation_bin'] = melted.apply(functions.bin_elevation500, axis=1)\n",
    "    \n",
    "    # Create unique id for elevation and month for merging\n",
    "    melted['elevation'] = melted['elevation'].astype(int)\n",
    "    melted['id'] = melted.index.astype(str) + \"_\" + melted['elevation'].astype(str) + \"_\" + melted['year'].astype(str) + \"_\" + melted['month'].astype(str)\n",
    "    # melted['id'] = melted['elevation'].astype(str) + \"_\" + melted['year'].astype(str) + \"_\" + melted['month'].astype(str)\n",
    "    \n",
    "    return melted\n",
    "'''\n",
    "\n",
    "def prepare_dfcount(dfcount):\n",
    "    dfcount['D'] = pd.to_datetime(dfcount['D'])\n",
    "    \n",
    "    dfcount = dfcount.drop('D', axis=1)\n",
    "    dfcount = dfcount.rename(columns={'D_year': 'year', 'D_month': 'month'})\n",
    "    \n",
    "    # Melt the dataframe\n",
    "    melted = pd.melt(dfcount, id_vars=['year', 'month'], var_name='elevation', value_name='dfs_count')\n",
    "    \n",
    "    # Process elevation column\n",
    "    melted[['base', 'suffix']] = melted['elevation'].astype(str).str.extract(r'(\\d+)(?:\\.\\d+)?(?:\\.(\\d+))?')\n",
    "    melted['base'] = melted['base'].astype(int)\n",
    "    melted['suffix'] = melted['suffix'].fillna(0).astype(int)\n",
    "    melted['elevation'] = melted['base'] + melted['suffix']*10\n",
    "    melted['elevation'] = melted['elevation'].astype(float)\n",
    "\n",
    "\n",
    "    \n",
    "    melted['elevation_bin'] = melted.apply(functions.bin_elevation500, axis=1)\n",
    "    \n",
    "    # Create unique id for elevation and month for merging\n",
    "    melted['elevation'] = melted['elevation'].astype(int)\n",
    "    # melted['id'] = melted.index.astype(str) + \"_\" + melted['elevation'].astype(str) + \"_\" + melted['year'].astype(str) + \"_\" + melted['month'].astype(str)\n",
    "    melted['id'] = melted['elevation'].astype(str) + \"_\" + melted['year'].astype(str) + \"_\" + melted['month'].astype(str)\n",
    "    \n",
    "    return melted\n",
    "\n",
    "\n",
    "\n",
    "\n",
    "\n",
    "\n",
    "\n",
    "def calculate_floods(df):\n",
    "    # df percent \n",
    "    df[f'dfs_count_60_percent'] = (df[f'dfs_count_60percent'] *100) / df.dfspot_count\n",
    "    df[f'dfs_count_50_percent'] = (df[f'dfs_count_50percent'] *100) / df.dfspot_count\n",
    "    df[f'dfs_count_40_percent'] = (df[f'dfs_count_40percent'] *100) / df.dfspot_count\n",
    "    df[f'dfs_count_30_percent'] = (df[f'dfs_count_30percent'] *100) / df.dfspot_count\n",
    "    df[f'dfs_count_20_percent'] = (df[f'dfs_count_20percent'] *100) / df.dfspot_count\n",
    "    # ff count \n",
    "    df[f'ffs_count_60'] = df.dfspot_count - df[f'dfs_count_60percent']\n",
    "    df[f'ffs_count_50'] = df.dfspot_count - df[f'dfs_count_50percent']\n",
    "    df[f'ffs_count_40'] = df.dfspot_count - df[f'dfs_count_40percent']\n",
    "    df[f'ffs_count_30'] = df.dfspot_count - df[f'dfs_count_30percent']\n",
    "    df[f'ffs_count_20'] = df.dfspot_count - df[f'dfs_count_20percent']\n",
    "    # ff percent\n",
    "    df[f'ffs_count_60_percent'] = (df[f'ffs_count_60'] *100) / df.dfspot_count\n",
    "    df[f'ffs_count_50_percent'] = (df[f'ffs_count_50'] *100) / df.dfspot_count\n",
    "    df[f'ffs_count_40_percent'] = (df[f'ffs_count_40'] *100) / df.dfspot_count\n",
    "    df[f'ffs_count_30_percent'] = (df[f'ffs_count_30'] *100) / df.dfspot_count\n",
    "    df[f'ffs_count_20_percent'] = (df[f'ffs_count_20'] *100) / df.dfspot_count\n",
    "    return df\n",
    "\n",
    "\n",
    "\n",
    "def merge_landcover_dfs(dfs, dfspot, merge_on, dfspot_column):\n",
    "    \"\"\"\n",
    "    Merges a list of dataframes on specified columns and adds a column from a 'dfspot' dataframe.\n",
    "    \n",
    "    Parameters:\n",
    "        dfs (list of pd.DataFrame): List of dataframes to merge sequentially.\n",
    "        dfspot (pd.DataFrame): A dataframe containing a column to add after the merges.\n",
    "        merge_on (list of str): Columns to use as the merge keys.\n",
    "        dfspot_column (str): The name of the column in `dfspot` to add after merging.\n",
    "        \n",
    "    Returns:\n",
    "        pd.DataFrame: The merged dataframe with the additional column from `dfspot`.\n",
    "    \"\"\"\n",
    "    \n",
    "    # Start with the first dataframe in `dfs` and automatically get the count column\n",
    "    count_column = [col for col in dfs[0].columns if col.startswith('dfs_count')][0]\n",
    "    merged_df = dfs[0][merge_on + [count_column]]\n",
    "    \n",
    "    # Iterate over remaining dataframes and merge each sequentially\n",
    "    for df in dfs[1:]:\n",
    "        count_column = [col for col in df.columns if col.startswith('dfs_count')][0]\n",
    "        merged_df = pd.merge(merged_df, df[merge_on + [count_column]], on=merge_on)\n",
    "    \n",
    "    # Add the `dfspot_column` from `dfspot` dataframe to the merged dataframe\n",
    "    merged_df['dfspot_count'] = dfspot[dfspot_column]\n",
    "    \n",
    "    return merged_df\n"
   ]
  },
  {
   "cell_type": "code",
   "execution_count": 8,
   "id": "f4c5c273-de6f-487c-9690-0050a0703f1f",
   "metadata": {},
   "outputs": [],
   "source": [
    "import pandas as pd\n",
    "import numpy as np\n",
    "import matplotlib.pyplot as plt\n",
    "import seaborn as sns\n",
    "import os\n",
    "import glob\n",
    "\n",
    "import functions"
   ]
  },
  {
   "cell_type": "code",
   "execution_count": 9,
   "id": "d64a0bb9-2093-402b-96d2-6a69fcf52590",
   "metadata": {},
   "outputs": [],
   "source": [
    "# 1 dfspot\n",
    "location = 'langtang'\n",
    "\n",
    "path = '/Users/varyabazilova/Desktop/paper2/202406_modelruns/30years/2025May_output/dfspot/'\n",
    "# path = f'/Users/varyabazilova/Desktop/paper2/202406_modelruns/30years/2025Jan_output/TL/dfspot_count/{location}/'\n",
    "\n",
    "dfspot1_df = pd.read_csv(path + f'{location}_monthly_dfspot_count_landcover1.csv', index_col = 0).fillna(0)\n",
    "dfspot2_df = pd.read_csv(path + f'{location}_monthly_dfspot_count_landcover2.csv', index_col = 0).fillna(0)\n",
    "dfspot3_df = pd.read_csv(path + f'{location}_monthly_dfspot_count_landcover3.csv', index_col = 0).fillna(0)\n",
    "dfspot4_df = pd.read_csv(path + f'{location}_monthly_dfspot_count_landcover4.csv', index_col = 0).fillna(0)\n",
    "dfspot5_df = pd.read_csv(path + f'{location}_monthly_dfspot_count_landcover5.csv', index_col = 0).fillna(0)\n",
    "\n",
    "\n",
    "# dfspot1_df = filter_by_date(dfspot1_df)\n",
    "# dfspot2_df = filter_by_date(dfspot2_df)\n",
    "# dfspot3_df = filter_by_date(dfspot3_df)\n",
    "# dfspot4_df = filter_by_date(dfspot4_df)\n",
    "# dfspot5_df = filter_by_date(dfspot5_df)\n",
    "\n",
    "dfspot1 = prepare_dfcount(dfspot1_df).fillna(0)\n",
    "dfspot2 = prepare_dfcount(dfspot2_df).fillna(0)\n",
    "dfspot3 = prepare_dfcount(dfspot3_df).fillna(0)\n",
    "dfspot4 = prepare_dfcount(dfspot4_df).fillna(0)\n",
    "dfspot5 = prepare_dfcount(dfspot5_df).fillna(0)\n",
    "\n",
    "\n",
    "# dfspot1['landcover'] = 'langcover 1'\n",
    "# dfspot2['landcover'] = 'langcover 2'\n",
    "# dfspot3['landcover'] = 'langcover 3'\n",
    "# dfspot4['landcover'] = 'langcover 4'\n",
    "# dfspot5['landcover'] = 'langcover 5'"
   ]
  },
  {
   "cell_type": "code",
   "execution_count": 11,
   "id": "135dcc79-8fb0-4858-9eea-330ab2ba54a7",
   "metadata": {},
   "outputs": [
    {
     "data": {
      "text/plain": [
       "<AxesSubplot:>"
      ]
     },
     "execution_count": 11,
     "metadata": {},
     "output_type": "execute_result"
    },
    {
     "data": {
      "image/png": "[encoded data removed]",
      "text/plain": [
       "<Figure size 432x288 with 1 Axes>"
      ]
     },
     "metadata": {
      "needs_background": "light"
     },
     "output_type": "display_data"
    }
   ],
   "source": [
    "dfspot1_df.drop(['D', 'D_year', 'D_month'], axis = 1).plot(legend = False)"
   ]
  },
  {
   "cell_type": "code",
   "execution_count": 12,
   "id": "e28a693a-09b6-4311-96da-ffdc87e22deb",
   "metadata": {},
   "outputs": [
    {
     "name": "stdout",
     "output_type": "stream",
     "text": [
      "langtang\n"
     ]
    }
   ],
   "source": [
    "\n",
    "# # Base directory where all output_Xpercent folders are located\n",
    "# base_directory = \"/Users/varyabazilova/Desktop/paper2/202406_modelruns/30years/2025Jan_output/SL_daily/\"\n",
    "\n",
    "# # Use glob to find all relevant files in output_XXpercent folders\n",
    "# file_pattern = f\"{base_directory}/output_*/mustang_monthly_dfs_count_*_landcover{landcover_idx}.csv\"\n",
    "# files = glob.glob(file_pattern)\n",
    "# print(files)\n",
    "\n",
    "print(location)"
   ]
  },
  {
   "cell_type": "code",
   "execution_count": 24,
   "id": "a6f08d4e-52c6-458d-8317-b6b8e41c5fae",
   "metadata": {},
   "outputs": [
    {
     "name": "stdout",
     "output_type": "stream",
     "text": [
      "5\n",
      "/Users/varyabazilova/Desktop/paper2/202406_modelruns/30years/2025May_output/SL_once/output_30percent/langtang_monthly_dfs_count_30percent_landcover5.csv\n",
      "5\n",
      "/Users/varyabazilova/Desktop/paper2/202406_modelruns/30years/2025May_output/SL_once/output_20percent/langtang_monthly_dfs_count_20percent_landcover5.csv\n",
      "5\n",
      "/Users/varyabazilova/Desktop/paper2/202406_modelruns/30years/2025May_output/SL_once/output_60percent/langtang_monthly_dfs_count_60percent_landcover5.csv\n",
      "5\n",
      "/Users/varyabazilova/Desktop/paper2/202406_modelruns/30years/2025May_output/SL_once/output_40percent/langtang_monthly_dfs_count_40percent_landcover5.csv\n",
      "5\n",
      "/Users/varyabazilova/Desktop/paper2/202406_modelruns/30years/2025May_output/SL_once/output_50percent/langtang_monthly_dfs_count_50percent_landcover5.csv\n"
     ]
    }
   ],
   "source": [
    "import glob\n",
    "import pandas as pd\n",
    "import re\n",
    "\n",
    "landcover_idx = 5\n",
    "method = 'once'\n",
    "\n",
    "\n",
    "\n",
    "# Base directory where all output_Xpercent folders are located\n",
    "base_directory = f\"/Users/varyabazilova/Desktop/paper2/202406_modelruns/30years/2025May_output/SL_{method}/\"\n",
    "\n",
    "# Use glob to find all relevant files in output_XXpercent folders\n",
    "file_pattern = f\"{base_directory}/output_*/{location}_monthly_dfs_count_*_landcover{landcover_idx}.csv\"\n",
    "files = glob.glob(file_pattern)\n",
    "\n",
    "dfs = []\n",
    "\n",
    "# Loop through the files and process them\n",
    "for file in files:\n",
    "    # Extract the percentile from the folder name\n",
    "    percentile = re.search(r'output_(\\d+percent)', file).group(1)\n",
    "    \n",
    "    # Extract the landcover number from the file name\n",
    "    landcover_number = re.search(r'landcover(\\d+)', file).group(1)\n",
    "    print(landcover_number)\n",
    "    print(file)\n",
    "    # Read the file into a DataFrame\n",
    "    df = pd.read_csv(file, index_col=0).fillna(0)\n",
    "\n",
    "\n",
    "    # df = filter_by_date(df)\n",
    "\n",
    "    # Apply your processing function\n",
    "    processed_df = prepare_dfcount(df)\n",
    "    \n",
    "    # Rename the 'dfs_count' column to include percentile and landcover number\n",
    "    processed_df = processed_df.rename(columns={'dfs_count': f'dfs_count_{percentile}'})\n",
    "    # Append to the list\n",
    "    dfs.append(processed_df)\n",
    "\n",
    "merge_on = ['year', 'month', 'elevation', 'elevation_bin', 'id']\n",
    "# merge_on = ['id']\n",
    "dfspot_column = 'dfs_count'\n",
    "\n",
    "if landcover_idx == 1:\n",
    "    dfspot = dfspot1\n",
    "if landcover_idx == 2:\n",
    "    dfspot = dfspot2\n",
    "if landcover_idx == 3:\n",
    "    dfspot = dfspot3\n",
    "if landcover_idx == 4:\n",
    "    dfspot = dfspot4\n",
    "if landcover_idx == 5:\n",
    "    dfspot = dfspot5\n",
    "\n",
    "\n",
    "dfmerged = merge_landcover_dfs(dfs, dfspot, merge_on, dfspot_column)\n",
    "dffloods = calculate_floods(dfmerged)\n",
    "\n",
    "\n",
    "outpath = '/Users/varyabazilova/Desktop/paper2/202406_modelruns/30years/2025May_output/df_vs_floods/'\n",
    "dffloods.to_csv(outpath + f'{location}_df_vs_floods_{method}_landcover{landcover_idx}.csv')\n"
   ]
  },
  {
   "cell_type": "code",
   "execution_count": null,
   "id": "a9c41cdd-7f5d-4cc9-b9f7-d2917f678769",
   "metadata": {},
   "outputs": [],
   "source": []
  },
  {
   "cell_type": "code",
   "execution_count": null,
   "id": "e84beb4a-55f3-40cd-8cda-8a76dac748c9",
   "metadata": {},
   "outputs": [],
   "source": []
  },
  {
   "cell_type": "code",
   "execution_count": null,
   "id": "c788d058-c4e6-46c8-9fc5-cf0d5642d471",
   "metadata": {},
   "outputs": [],
   "source": []
  },
  {
   "cell_type": "code",
   "execution_count": null,
   "id": "e2fbc63b-d085-4a62-9df6-eeed6710fb0d",
   "metadata": {},
   "outputs": [],
   "source": []
  },
  {
   "cell_type": "code",
   "execution_count": 14,
   "id": "1da74d72-cd6b-4ed2-9159-8d8bae84234e",
   "metadata": {},
   "outputs": [],
   "source": [
    "# test\n",
    "\n",
    "df = pd.read_csv(outpath + f'{location}_df_vs_floods_{method}_landcover{landcover_idx}.csv')\n"
   ]
  },
  {
   "cell_type": "code",
   "execution_count": 15,
   "id": "beb948b6-d3d4-4459-843a-86bbc111258b",
   "metadata": {},
   "outputs": [
    {
     "data": {
      "text/plain": [
       "<AxesSubplot:>"
      ]
     },
     "execution_count": 15,
     "metadata": {},
     "output_type": "execute_result"
    },
    {
     "data": {
      "image/png": "[encoded data removed]",
      "text/plain": [
       "<Figure size 432x288 with 1 Axes>"
      ]
     },
     "metadata": {
      "needs_background": "light"
     },
     "output_type": "display_data"
    }
   ],
   "source": [
    "df.ffs_count_50_percent.plot()"
   ]
  },
  {
   "cell_type": "code",
   "execution_count": null,
   "id": "d5ee54ef-b657-44d7-b2a7-696942f4dfe3",
   "metadata": {},
   "outputs": [],
   "source": []
  },
  {
   "cell_type": "code",
   "execution_count": null,
   "id": "1c030636-cff9-4444-a3af-39e578ba836c",
   "metadata": {},
   "outputs": [],
   "source": []
  },
  {
   "cell_type": "code",
   "execution_count": null,
   "id": "5c09644b-985c-4ab2-b838-e2f3c7552912",
   "metadata": {},
   "outputs": [],
   "source": []
  },
  {
   "cell_type": "code",
   "execution_count": null,
   "id": "34f303ab-f2c1-476b-81a7-65e70f35b0a5",
   "metadata": {},
   "outputs": [],
   "source": []
  },
  {
   "cell_type": "code",
   "execution_count": null,
   "id": "41217c30-ae14-4927-9e07-fd9c09133471",
   "metadata": {},
   "outputs": [],
   "source": []
  }
 ],
 "metadata": {
  "kernelspec": {
   "display_name": "Python [conda env:sedcas] *",
   "language": "python",
   "name": "conda-env-sedcas-py"
  },
  "language_info": {
   "codemirror_mode": {
    "name": "ipython",
    "version": 3
   },
   "file_extension": ".py",
   "mimetype": "text/x-python",
   "name": "python",
   "nbconvert_exporter": "python",
   "pygments_lexer": "ipython3",
   "version": "3.9.7"
  }
 },
 "nbformat": 4,
 "nbformat_minor": 5
}
