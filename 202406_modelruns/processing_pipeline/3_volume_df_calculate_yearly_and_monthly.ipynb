{
 "cells": [
  {
   "cell_type": "code",
   "execution_count": 1,
   "id": "15f55ee2-aed5-46f2-8a80-3e87beb10242",
   "metadata": {},
   "outputs": [],
   "source": [
    "import functions \n",
    "import pandas as pd\n",
    "import matplotlib.pyplot as plt \n",
    "import numpy as np\n",
    "\n",
    "import os \n",
    "import glob\n",
    "\n",
    "import seaborn as sns "
   ]
  },
  {
   "cell_type": "markdown",
   "id": "069dd6bb-4d57-4dd1-8bf1-99ad5f5c2122",
   "metadata": {},
   "source": [
    "# for all the month, calculate Q100 and dfs in mm "
   ]
  },
  {
   "cell_type": "code",
   "execution_count": 2,
   "id": "84a25c45-b519-4209-a838-6116a3764a95",
   "metadata": {},
   "outputs": [],
   "source": [
    "# calculate volume in mm - should be the same function as for hydrology "
   ]
  },
  {
   "cell_type": "code",
   "execution_count": 3,
   "id": "53604b30-0bef-4b66-baa5-82ab1505f89d",
   "metadata": {},
   "outputs": [],
   "source": [
    "def sediment_volume_in_mm(sed, column, area=4830.0):\n",
    "    \"\"\"\n",
    "    \"\"\"\n",
    "    # Ensure `D` column is in datetime format\n",
    "    sed['D'] = pd.to_datetime(sed['D'])\n",
    "\n",
    "    sed[column] = hydro[[sed]]\n",
    "    \n",
    "    # Set 'D' as the index\n",
    "    sed = sed.set_index('D')\n",
    "    \n",
    "    # Resample to monthly data and calculate the sum for each month for the specified column\n",
    "    sed_month = sed[column].resample('M').sum().reset_index()\n",
    "    \n",
    "    # Extract year and month for grouping or further analysis\n",
    "    sed_month['year'] = sed_month['D'].dt.year\n",
    "    sed_month['month'] = sed_month['D'].dt.month\n",
    "    \n",
    "    return sed_month\n",
    "\n",
    "\n",
    "\n",
    "\n",
    "def water_balance_components_in_mm(hydro, column, area=4830.0):\n",
    "    \"\"\"\n",
    "    Calculate the sum of water or sediment volume per month for a specific column, \n",
    "    and return the mean volumes across years.\n",
    "    \n",
    "    Parameters:\n",
    "    hydro (pd.DataFrame): Input DataFrame with columns `D` (date) and the specified numeric column.\n",
    "    column (str): The name of the column to calculate the volume for.\n",
    "    area (float): Area in square meters used to scale the volumes. Default is 4830.0.\n",
    "    \n",
    "    Returns:\n",
    "    pd.DataFrame: DataFrame with the calculated monthly volumes.\n",
    "    \"\"\"\n",
    "    # Ensure `D` column is in datetime format\n",
    "    hydro['D'] = pd.to_datetime(hydro['D'])\n",
    "\n",
    "    if column == 'snowmelt':\n",
    "        hydro['snowmelt'] = hydro['snowacc'].where(hydro['snowacc'] < 0).fillna(0)\n",
    "    if column == 'snowacc2':\n",
    "        hydro['snowacc2'] = hydro['snowacc'].where(hydro['snowacc'] > 0).fillna(0)\n",
    "    if column == 'rainfall':\n",
    "        hydro['rainfall'] = hydro['Pr'] - hydro['snowacc']\n",
    "        hydro['rainfall'] = hydro['rainfall'].fillna(0)\n",
    "        \n",
    "    \n",
    "    # Scale the specified column by the area\n",
    "    hydro[column] = hydro[[column]]\n",
    "    \n",
    "    # Set 'D' as the index\n",
    "    hydro = hydro.set_index('D')\n",
    "    \n",
    "    # Resample to monthly data and calculate the sum for each month for the specified column\n",
    "    hydro_month = hydro[column].resample('M').sum().reset_index()\n",
    "    \n",
    "    # Extract year and month for grouping or further analysis\n",
    "    hydro_month['year'] = hydro_month['D'].dt.year\n",
    "    hydro_month['month'] = hydro_month['D'].dt.month\n",
    "    \n",
    "    return hydro_month"
   ]
  },
  {
   "cell_type": "markdown",
   "id": "5d61d1b9-33a6-4d54-8d4f-2d05df80dbd6",
   "metadata": {},
   "source": [
    "# "
   ]
  },
  {
   "cell_type": "code",
   "execution_count": 61,
   "id": "04be6c5f-f492-4988-8a9d-68063545a8e3",
   "metadata": {},
   "outputs": [
    {
     "name": "stdout",
     "output_type": "stream",
     "text": [
      "CPU times: user 10.8 ms, sys: 3.3 ms, total: 14.1 ms\n",
      "Wall time: 15.3 ms\n"
     ]
    }
   ],
   "source": [
    "%%time\n",
    "\n",
    "\n",
    "percentile = '60percent'\n",
    "method = 'once'\n",
    "\n",
    "location = 'mustang'\n",
    "\n",
    "\n",
    "if location == 'langtang':\n",
    "    folder_loc = '12a'\n",
    "if location == 'mustang': \n",
    "    folder_loc = '13a'\n",
    "\n",
    "\n",
    "\n",
    "output_path = f'/Users/varyabazilova/Desktop/paper2/202406_modelruns/30years/2025May_output/SL_{method}/output_{percentile}'\n",
    "\n",
    "# Define the list of folder paths\n",
    "\n",
    "# '/Volumes/T7 Shield/202409_paper2_modelruns/30years/SL_daily/1landcover_20percent'\n",
    "\n",
    "folder_paths = [f'/Volumes/T7 Shield/202409_paper2_modelruns/May2025_30years/SL_{method}/1landcover_{percentile}/{location}_climate_cut',\n",
    "                f'/Volumes/T7 Shield/202409_paper2_modelruns/May2025_30years/SL_{method}/2landcover_{percentile}/{location}_climate_cut',\n",
    "                f'/Volumes/T7 Shield/202409_paper2_modelruns/May2025_30years/SL_{method}/3landcover_{percentile}/{location}_climate_cut',\n",
    "                f'/Volumes/T7 Shield/202409_paper2_modelruns/May2025_30years/SL_{method}/4landcover_{percentile}/{location}_climate_cut',\n",
    "                f'/Volumes/T7 Shield/202409_paper2_modelruns/May2025_30years/SL_{method}/5landcover_{percentile}/{location}_climate_cut']\n",
    "\n",
    "\n",
    "# Load elevation data and define the output path\n",
    "elevation = pd.read_csv(f'/Users/varyabazilova/Desktop/paper2/downscaling_simple/coordinates_and_elevation_with_labels_{location}.csv')[['cellnr2', 'band_data']]\n",
    "elevation = elevation.transpose()\n",
    "elevation_list = elevation.loc['cellnr2'].tolist() "
   ]
  },
  {
   "cell_type": "code",
   "execution_count": 62,
   "id": "fe1434e1-81f2-4e4d-beaf-377cef2bc0a6",
   "metadata": {},
   "outputs": [],
   "source": [
    "columns = ['dfs'] \n"
   ]
  },
  {
   "cell_type": "code",
   "execution_count": null,
   "id": "31f3957f-a9b8-472e-97f2-8abc7ef3f6d6",
   "metadata": {},
   "outputs": [],
   "source": []
  },
  {
   "cell_type": "code",
   "execution_count": null,
   "id": "f810426a-1f7a-4bd5-8859-461e63dfa9bc",
   "metadata": {},
   "outputs": [],
   "source": []
  },
  {
   "cell_type": "code",
   "execution_count": 63,
   "id": "62592df5-2d05-4e12-a1c8-0ef2b34acc90",
   "metadata": {},
   "outputs": [
    {
     "name": "stdout",
     "output_type": "stream",
     "text": [
      "['dfs']\n",
      "Processing column: dfs\n",
      "Processing folder: /Volumes/T7 Shield/202409_paper2_modelruns/May2025_30years/SL_once/1landcover_60percent/mustang_climate_cut\n",
      "Checking Sediment.out path: /Volumes/T7 Shield/202409_paper2_modelruns/May2025_30years/SL_once/1landcover_60percent/mustang_climate_cut/13a/Sediment.out\n"
     ]
    },
    {
     "name": "stderr",
     "output_type": "stream",
     "text": [
      "<timed exec>:58: PerformanceWarning: DataFrame is highly fragmented.  This is usually the result of calling `frame.insert` many times, which has poor performance.  Consider joining all columns at once using pd.concat(axis=1) instead.  To get a de-fragmented frame, use `newframe = frame.copy()`\n"
     ]
    },
    {
     "name": "stdout",
     "output_type": "stream",
     "text": [
      "Default land cover. Monthly data: same\n",
      "output filename: mustang_monthly_sum_elevation_dfs_60percent_1landcover_mm.csv\n",
      "Saved mustang_monthly_sum_elevation_dfs_60percent_1landcover_mm.csv\n",
      "Processing folder: /Volumes/T7 Shield/202409_paper2_modelruns/May2025_30years/SL_once/2landcover_60percent/mustang_climate_cut\n",
      "Checking Sediment.out path: /Volumes/T7 Shield/202409_paper2_modelruns/May2025_30years/SL_once/2landcover_60percent/mustang_climate_cut/13a/Sediment.out\n",
      "Default land cover. Monthly data: same\n",
      "output filename: mustang_monthly_sum_elevation_dfs_60percent_2landcover_mm.csv\n",
      "Saved mustang_monthly_sum_elevation_dfs_60percent_2landcover_mm.csv\n",
      "Processing folder: /Volumes/T7 Shield/202409_paper2_modelruns/May2025_30years/SL_once/3landcover_60percent/mustang_climate_cut\n",
      "Checking Sediment.out path: /Volumes/T7 Shield/202409_paper2_modelruns/May2025_30years/SL_once/3landcover_60percent/mustang_climate_cut/13a/Sediment.out\n",
      "Default land cover. Monthly data: same\n",
      "output filename: mustang_monthly_sum_elevation_dfs_60percent_3landcover_mm.csv\n",
      "Saved mustang_monthly_sum_elevation_dfs_60percent_3landcover_mm.csv\n",
      "Processing folder: /Volumes/T7 Shield/202409_paper2_modelruns/May2025_30years/SL_once/4landcover_60percent/mustang_climate_cut\n",
      "Checking Sediment.out path: /Volumes/T7 Shield/202409_paper2_modelruns/May2025_30years/SL_once/4landcover_60percent/mustang_climate_cut/13a/Sediment.out\n",
      "Default land cover. Monthly data: same\n",
      "output filename: mustang_monthly_sum_elevation_dfs_60percent_4landcover_mm.csv\n",
      "Saved mustang_monthly_sum_elevation_dfs_60percent_4landcover_mm.csv\n",
      "Processing folder: /Volumes/T7 Shield/202409_paper2_modelruns/May2025_30years/SL_once/5landcover_60percent/mustang_climate_cut\n",
      "Checking Sediment.out path: /Volumes/T7 Shield/202409_paper2_modelruns/May2025_30years/SL_once/5landcover_60percent/mustang_climate_cut/13a/Sediment.out\n",
      "Default land cover. Monthly data: same\n",
      "output filename: mustang_monthly_sum_elevation_dfs_60percent_5landcover_mm.csv\n",
      "Saved mustang_monthly_sum_elevation_dfs_60percent_5landcover_mm.csv\n",
      "CPU times: user 4min 42s, sys: 13.5 s, total: 4min 55s\n",
      "Wall time: 5min 3s\n"
     ]
    }
   ],
   "source": [
    "\n",
    "%%time\n",
    "print(columns)  # Ensure `columns` is defined as a list of column names\n",
    "\n",
    "# Iterate over columns\n",
    "for column in columns:\n",
    "    print(f\"Processing column: {column}\")\n",
    "\n",
    "    # Iterate over folder paths\n",
    "    for folder_path in folder_paths:\n",
    "        print(f\"Processing folder: {folder_path}\")\n",
    "\n",
    "        output_folder = output_path\n",
    "\n",
    "        # Extract \"1landcover\" from the folder path\n",
    "        landcover_part = os.path.basename(os.path.dirname(folder_path))\n",
    "        landcover_base = landcover_part.split('_')[0]  # This gives \"1landcover\"\n",
    "\n",
    "        # Load timestep DataFrame (assuming Hydro.out exists in the `/12a/` subfolder for all folders)\n",
    "        hydro_path = os.path.join(folder_path, folder_loc, 'Sediment.out')\n",
    "        print(f\"Checking Sediment.out path: {hydro_path}\")\n",
    "\n",
    "        if not os.path.isfile(hydro_path):\n",
    "            print(f\"Sediment.out not found in {hydro_path}\")\n",
    "            continue  # Skip this folder_path if the main Hydro.out is missing\n",
    "\n",
    "        # Load the Hydro.out file for timestep calculation\n",
    "        try:\n",
    "            dfts = pd.read_csv(hydro_path)\n",
    "            df = water_balance_components_in_mm(dfts, column, area=4830.0)\n",
    "            # df = sediment_volume_in_mm(dfts, column, area=4830.0)\n",
    "            df = df[['month', 'year']]\n",
    "        except Exception as e:\n",
    "            print(f\"Error loading timestep file: {e}\")\n",
    "            continue\n",
    "\n",
    "        # Initialize the result DataFrame for this folder_path\n",
    "        result_df = pd.DataFrame()\n",
    "\n",
    "        # Iterate over subfolders in the folder path\n",
    "        for folder_name in os.listdir(folder_path):\n",
    "            subfolder_path = os.path.join(folder_path, folder_name)\n",
    "            \n",
    "            # Skip files and hidden folders\n",
    "            if not os.path.isdir(subfolder_path) or folder_name.startswith('.'):\n",
    "                continue\n",
    "\n",
    "            file_path = os.path.join(subfolder_path, 'Sediment.out')\n",
    "            # print(f\"Checking subfolder Hydro.out: {file_path}\")\n",
    "\n",
    "            # Ensure the Hydro.out file exists in the subfolder\n",
    "            if os.path.isfile(file_path):\n",
    "                try:\n",
    "                    hydro = pd.read_csv(file_path)\n",
    "                    output_df = water_balance_components_in_mm(hydro, column)\n",
    "\n",
    "                    # Extract and rename the target column\n",
    "                    name_column = output_df[column]\n",
    "                    column_name = f'{column}_{folder_name}'\n",
    "                    result_df[column_name] = name_column\n",
    "                except Exception as e:\n",
    "                    print(f\"Error processing file {file_path}: {e}\")\n",
    "                    continue\n",
    "\n",
    "        # Ensure result_df has data before proceeding\n",
    "        if result_df.empty:\n",
    "            print(f\"No valid data found in subfolders of {folder_path}\")\n",
    "            continue\n",
    "\n",
    "        # Rename columns for clarity and filter by elevation list\n",
    "        result_df.columns = [col[-3:] for col in result_df.columns]  # Adjust column names if necessary\n",
    "        result_df = result_df[elevation_list]\n",
    "\n",
    "        # Check for consistency with the elevation list\n",
    "        if elevation_list == result_df.columns.tolist():\n",
    "            print(\"Default land cover. Monthly data: same\")\n",
    "\n",
    "            # Rename columns, merge with timestep, and add folder info\n",
    "            result_df.columns = elevation.loc['band_data']\n",
    "            result_df = pd.concat([df, result_df], axis=1)\n",
    "            result_df['folder'] = os.path.basename(folder_path)\n",
    "\n",
    "            # print(result_df)\n",
    "\n",
    "            # Define the output file name and save the DataFrame to a CSV file\n",
    "            output_filename = f'{location}_monthly_sum_elevation_{column}_{percentile}_{landcover_base}_mm.csv'\n",
    "            print('output filename:', output_filename)\n",
    "            result_df.to_csv(os.path.join(output_folder, output_filename), index=False)\n",
    "\n",
    "            print(f\"Saved {output_filename}\")\n",
    "        else:\n",
    "            print(f\"The data does not match the elevation list for {folder_path}!\")\n",
    "\n"
   ]
  },
  {
   "cell_type": "code",
   "execution_count": null,
   "id": "20c26922-03b2-487c-a09b-429b0b067024",
   "metadata": {},
   "outputs": [],
   "source": []
  },
  {
   "cell_type": "code",
   "execution_count": null,
   "id": "ff26819a-08f3-42ad-a424-df752e62ae46",
   "metadata": {},
   "outputs": [],
   "source": []
  },
  {
   "cell_type": "code",
   "execution_count": null,
   "id": "39623e5b-f967-411b-a2ee-c39967c293cd",
   "metadata": {},
   "outputs": [],
   "source": []
  },
  {
   "cell_type": "code",
   "execution_count": null,
   "id": "4a86b1a7-6fd5-4a8e-9995-c9635d455a96",
   "metadata": {},
   "outputs": [],
   "source": []
  },
  {
   "cell_type": "code",
   "execution_count": null,
   "id": "2eef01d8-3b1f-427e-a7f7-c215679f43f7",
   "metadata": {},
   "outputs": [],
   "source": []
  },
  {
   "cell_type": "code",
   "execution_count": null,
   "id": "a47ddfbb-082e-4d40-a108-26911dd7bd1c",
   "metadata": {},
   "outputs": [],
   "source": []
  },
  {
   "cell_type": "code",
   "execution_count": null,
   "id": "7b9361f6-9431-4a1f-ba0b-5221aa2a2206",
   "metadata": {},
   "outputs": [],
   "source": []
  },
  {
   "cell_type": "code",
   "execution_count": null,
   "id": "129832e3-7058-4ea6-9ffa-9ac278fa60d6",
   "metadata": {},
   "outputs": [],
   "source": []
  },
  {
   "cell_type": "code",
   "execution_count": null,
   "id": "021362cb-2aa8-489d-b8ba-affafaf30995",
   "metadata": {},
   "outputs": [],
   "source": []
  },
  {
   "cell_type": "code",
   "execution_count": null,
   "id": "dd42d8e8-f0af-418b-88b7-b3cd7974eff1",
   "metadata": {},
   "outputs": [],
   "source": []
  }
 ],
 "metadata": {
  "kernelspec": {
   "display_name": "Python [conda env:sedcas] *",
   "language": "python",
   "name": "conda-env-sedcas-py"
  },
  "language_info": {
   "codemirror_mode": {
    "name": "ipython",
    "version": 3
   },
   "file_extension": ".py",
   "mimetype": "text/x-python",
   "name": "python",
   "nbconvert_exporter": "python",
   "pygments_lexer": "ipython3",
   "version": "3.9.7"
  }
 },
 "nbformat": 4,
 "nbformat_minor": 5
}
