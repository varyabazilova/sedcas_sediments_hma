{
 "cells": [
  {
   "cell_type": "code",
   "execution_count": 5,
   "id": "f8e80df3-1d87-4106-8b02-b416ceb0f6e7",
   "metadata": {},
   "outputs": [],
   "source": [
    "import os\n",
    "import pandas as pd \n",
    "import matplotlib.pyplot as plt\n",
    "import numpy as np\n",
    "\n",
    "\n",
    "\n"
   ]
  },
  {
   "cell_type": "code",
   "execution_count": 7,
   "id": "ee7fa50b-18e9-46ba-872c-fb796448414d",
   "metadata": {},
   "outputs": [],
   "source": [
    "# calculate the mean annual value \n",
    "# plot histogram and CDF \n",
    "\n",
    "\n",
    "\n",
    "# plot vertical lines corresponding to certain percentiles \n",
    "\n",
    "\n",
    "test1 = pd.read_csv('/Volumes/T7 Shield/202409_paper2_modelruns/May2025_30years/TL_data/1landcover/langtang_climate_cut/12a/Sediment.out')\n",
    "\n"
   ]
  },
  {
   "cell_type": "code",
   "execution_count": 9,
   "id": "20f21a97-7e8c-46a1-8ebe-e4aa0e8c63a9",
   "metadata": {},
   "outputs": [],
   "source": [
    "# test1 = pd.read_csv('/Volumes/6382452/!Feb2024/paper2/model_runs/TL_data/2landcover/langtang_climate_cut/12b/Sediment.out')\n",
    "\n",
    "\n",
    "test1['D'] = pd.to_datetime(test1.D)\n",
    "test1 = test1.set_index('D')\n",
    "test1 = test1.resample('Y').sum()\n",
    "test1 = test1.sort_values('Qstl')\n",
    "test1 = test1[['Qstl']]"
   ]
  },
  {
   "cell_type": "code",
   "execution_count": 11,
   "id": "136da436-50b5-4619-8b8c-06893dc6b197",
   "metadata": {},
   "outputs": [],
   "source": [
    "test1 = test1.resample('Y').sum()\n",
    "test1 = test1.sort_values('Qstl')\n",
    "test1 = test1[['Qstl']]"
   ]
  },
  {
   "cell_type": "code",
   "execution_count": 12,
   "id": "eabd08c8-1bfa-4eee-a502-e0c5c4625451",
   "metadata": {},
   "outputs": [],
   "source": [
    "# test1\n",
    "\n"
   ]
  },
  {
   "cell_type": "code",
   "execution_count": null,
   "id": "99e505e6-3e43-420a-a59f-a4344321a33c",
   "metadata": {},
   "outputs": [],
   "source": []
  },
  {
   "cell_type": "code",
   "execution_count": null,
   "id": "95bffe72-2df0-4ae1-b88c-62ae21ae1a9a",
   "metadata": {},
   "outputs": [],
   "source": []
  },
  {
   "cell_type": "code",
   "execution_count": null,
   "id": "b955ee39-cb4f-4645-9e8c-4f495b48a9d2",
   "metadata": {},
   "outputs": [],
   "source": []
  },
  {
   "cell_type": "code",
   "execution_count": 32,
   "id": "7aefc2dc-c1f2-409d-aae4-ec266dd3a3b7",
   "metadata": {},
   "outputs": [
    {
     "data": {
      "text/plain": [
       "<matplotlib.legend.Legend at 0x7fde106d4370>"
      ]
     },
     "execution_count": 32,
     "metadata": {},
     "output_type": "execute_result"
    },
    {
     "data": {
      "image/png": "[encoded data removed]",
      "text/plain": [
       "<Figure size 432x288 with 1 Axes>"
      ]
     },
     "metadata": {
      "needs_background": "light"
     },
     "output_type": "display_data"
    }
   ],
   "source": [
    "import numpy as np\n",
    "import matplotlib.pyplot as plt\n",
    "\n",
    "# Generate sample data (normally distributed)\n",
    "data = test1\n",
    "\n",
    "# Define percentiles to highlight\n",
    "percentiles = [60, 50, 40, 30, 20]\n",
    "percentile_values = np.percentile(data, percentiles)\n",
    "\n",
    "# Plot cumulative histogram\n",
    "plt.hist(data, bins=len(data), cumulative=True, density=False, color = 'lightgrey', orientation='vertical')#, histtype=\"step\", label=\"CDF\")\n",
    "\n",
    "\n",
    "# Annotate percentiles with different colors\n",
    "# Generate a gradient from light to dark red\n",
    "num_percentiles = 5  # Adjust the number of shades as needed\n",
    "percentile_colors = [plt.cm.hsv(i) for i in np.linspace(0.1, 1, num_percentiles)]  # Avoiding very light colors\n",
    "\n",
    "for p, val, color in zip(percentiles, percentile_values, percentile_colors):\n",
    "    plt.axvline(x=val, linestyle=\"--\", color=color, alpha=0.6, label=f\"{p}th percentile\")\n",
    "    plt.text(val, 50, f\"{p}th percentile\", verticalalignment=\"bottom\", horizontalalignment=\"right\", fontsize=10, color=color)\n",
    "\n",
    "\n",
    "# Labels and title\n",
    "plt.xlabel(\"Cumulative sediment yeild/year [mm]\")\n",
    "plt.ylabel(\"year\")\n",
    "# plt.title(\"Cumulative Histogram with percentiles cell12b, langtang example\")\n",
    "\n",
    "\n",
    "\n",
    "# # Show legend\n",
    "plt.legend(loc=\"lower right\")\n",
    "# # Grid\n",
    "# plt.grid()\n",
    "# # Show plot\n",
    "# plt.show()\n",
    "\n",
    "# plt.savefig('/Users/varyabazilova/Desktop/paper2/202406_modelruns/30years/output/testplots/percentile_example.pdf', bbox_inches = 'tight', dpi = 300)\n"
   ]
  },
  {
   "cell_type": "code",
   "execution_count": null,
   "id": "69a18a30-dce3-4446-a175-aa0836d257ce",
   "metadata": {},
   "outputs": [],
   "source": []
  }
 ],
 "metadata": {
  "kernelspec": {
   "display_name": "Python [conda env:sedcas] *",
   "language": "python",
   "name": "conda-env-sedcas-py"
  },
  "language_info": {
   "codemirror_mode": {
    "name": "ipython",
    "version": 3
   },
   "file_extension": ".py",
   "mimetype": "text/x-python",
   "name": "python",
   "nbconvert_exporter": "python",
   "pygments_lexer": "ipython3",
   "version": "3.9.7"
  }
 },
 "nbformat": 4,
 "nbformat_minor": 5
}
