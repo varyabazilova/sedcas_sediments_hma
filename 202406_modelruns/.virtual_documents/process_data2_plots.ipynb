import pandas as pd
import seaborn as sns
import matplotlib.pyplot as plt

import functions


method = 'once'
percentile = '20percent'

folder_path = f'/Users/varyabazilova/Desktop/paper2/202406_modelruns/30years/SL_{method}/output_{percentile}/'

langtang1 = pd.read_csv(folder_path + 'Sediment.out')
langtang2 = pd.read_csv(folder_path + 'Sediment.out')
langtang3 = pd.read_csv(folder_path + 'Sediment.out')
langtang4 = pd.read_csv(folder_path + 'Sediment.out') 



def prepare_for_boxplots(df, value_name):
    # value name - column in the output dataframe
    melted = pd.melt(df, id_vars=['month','land_cover'], var_name='elevation', value_name=value_name)
    melted['elevation'] = melted['elevation'].str.split('.').str[0].astype(float)
    melted['elevation_bin'] = melted.apply(functions.bin_elevation200, axis=1)
    melted = melted.sort_values('elevation_bin')
    return melted
