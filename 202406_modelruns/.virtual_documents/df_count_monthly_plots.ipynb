import pandas as pd
import seaborn as sns
import matplotlib.pyplot as plt
import os 
import functions





'''%%time
landcover_n = 4
landcover = f'landcover{landcover_n}'
location = 'mustang'

# folder_path = f'/Users/varyabazilova/Desktop/paper2/202406_modelruns/30years/SL_once/{landcover_n}landcover_mean/{location}_climate_cut'

folder_path = f'/Volumes/Extreme SSD/202409_paper2_modelruns/30years/SL_daily/{landcover_n}landcover_25percent/{location}_climate_cut'
elevation = pd.read_csv(f'/Users/varyabazilova/Desktop/paper2/downscaling_simple/coordinates_and_elevation_with_labels_{location}.csv')[['cellnr2','band_data']] 

column = 'dfs'
freq = 'month'

result_df = pd.DataFrame()


# Iterate over the files in the folders
for folder_name in os.listdir(folder_path):
    # skip all csvs and . files
    if folder_name.endswith('.csv'):
        continue
    if folder_name.startswith('.'):
        continue 
    
    file_path = os.path.join(folder_path, folder_name, 'Sediment.out') #create a path to file 
    
    if os.path.isfile(file_path): #check if its there 
        # read file 
        output_df = pd.read_csv(file_path)
        # count dfs per given time 
        output_df = functions.count_dfs_per_time(output_df, column, freq)
        
        # take the COUNT column 
        name_column = output_df['count']
        # rename the columns 
        column_name = f'{column}_{folder_name}'
        result_df[column_name] = name_column
        result_df.columns = [col[-3:] for col in result_df.columns]


annaul_df_count = functions.add_elevation_to_df_count(result_df, elevation, freq)


# output = '/Users/varyabazilova/Desktop/paper2/202406_modelruns/30years/SL_once/output_mean_annual/'
output = '/Users/varyabazilova/Desktop/paper2/202406_modelruns/30years/SL_daily/output_25percent/'
# annaul_df_count.to_csv(output + f'{location}_monthly_df_count_25percent_{landcover}.csv')

'''








'''%%time
landcover_n = 4
landcover = f'landcover{landcover_n}'
location = 'mustang'

folder_path = f'/Users/varyabazilova/Desktop/paper2/202406_modelruns/30years/SL_once/{landcover_n}landcover_mean/{location}_climate_cut'
elevation = pd.read_csv(f'/Users/varyabazilova/Desktop/paper2/downscaling_simple/coordinates_and_elevation_with_labels_{location}.csv')[['cellnr2','band_data']] 

column = 'dfs'
freq = 'month'

result_df = pd.DataFrame()


# Iterate over the files in the folders
for folder_name in os.listdir(folder_path):
    # skip all csvs and . files
    if folder_name.endswith('.csv'):
        continue
    if folder_name.startswith('.'):
        continue 
    
    file_path = os.path.join(folder_path, folder_name, 'Sediment.out') #create a path to file 
    
    if os.path.isfile(file_path): #check if its there 
        # read file 
        output_df = pd.read_csv(file_path)
        # count dfs per given time 
        output_df = functions.count_dfs_per_time(output_df, column, freq)
        
        # take the COUNT column 
        name_column = output_df['count']
        # rename the columns 
        column_name = f'{column}_{folder_name}'
        result_df[column_name] = name_column
        result_df.columns = [col[-3:] for col in result_df.columns]


annaul_df_count = functions.add_elevation_to_df_count(result_df, elevation, freq)


output = '/Users/varyabazilova/Desktop/paper2/202406_modelruns/30years/SL_once/output_mean_annual/'
# annaul_df_count.to_csv(output + f'{location}_monthly_df_count_annualmean_{landcover}.csv')
'''










# annaul_df_count


def prepare_dfcount_for_plot(dfcount):
    melted = pd.melt(dfcount, id_vars=['D', 'D_year', 'D_month'], var_name='elevation', value_name='dfs_count')
    melted['elevation'] = melted['elevation'].str.split('.').str[0].astype(float)
    melted['elevation_bin'] = melted.apply(functions.bin_elevation500, axis=1)
    melted = melted.sort_values('elevation_bin')
    # melted = melted.dropna(subset=['dfs_count'])
    return melted 






path = '/Users/varyabazilova/Desktop/paper2/202406_modelruns/30years/SL_daily/output_mean/'

langtang1 = pd.read_csv(path + 'langtang_monthly_df_count_annualmean_landcover1.csv', index_col = 0)
langtang2 = pd.read_csv(path + 'langtang_monthly_df_count_annualmean_landcover2.csv', index_col = 0)
langtang3 = pd.read_csv(path + 'langtang_monthly_df_count_annualmean_landcover3.csv', index_col = 0)
langtang4 = pd.read_csv(path + 'langtang_monthly_df_count_annualmean_landcover4.csv', index_col = 0)

langtang1_melt_daily = prepare_dfcount_for_plot(langtang1)
langtang2_melt_daily = prepare_dfcount_for_plot(langtang2)
langtang3_melt_daily = prepare_dfcount_for_plot(langtang3)
langtang4_melt_daily = prepare_dfcount_for_plot(langtang4)




fig = plt.figure(figsize=(20, 15))#, layout = 'tight')
mosaic = fig.subplot_mosaic('''
                            aaa
                            bbb
                            ccc
                            ddd
                            ''')


# sns.boxplot(ax = mosaic['a'], x='elevation_bin', y='dfs_count', data=langtang1_melt)#, palette = 'magma_r') 
# sns.boxplot(ax = mosaic['b'], x='elevation_bin', y='dfs_count', data=langtang2_melt)#, palette = 'magma_r') 
# sns.boxplot(ax = mosaic['c'], x='elevation_bin', y='dfs_count', data=langtang3_melt)#, palette = 'magma_r') 
# sns.boxplot(ax = mosaic['d'], x='elevation_bin', y='dfs_count', data=langtang4_melt)#, palette = 'magma_r') 

sns.barplot(ax = mosaic['a'], x='D_month', y='dfs_count', hue = 'elevation_bin', data=langtang1_melt_daily, palette = 'magma_r')#, legend = True) 
sns.barplot(ax = mosaic['b'], x='D_month', y='dfs_count', hue = 'elevation_bin', data=langtang2_melt_daily, palette = 'magma_r')#, legend = False)
sns.barplot(ax = mosaic['c'], x='D_month', y='dfs_count', hue = 'elevation_bin', data=langtang3_melt_daily, palette = 'magma_r')#, legend = False)
sns.barplot(ax = mosaic['d'], x='D_month', y='dfs_count', hue = 'elevation_bin', data=langtang4_melt_daily, palette = 'magma_r')#, legend = False)

# Adding text to the top-left corner of each subplot
mosaic['a'].text(0.62, 0.95, 'veg 40%, bedrock 40%, ice 20%', transform=mosaic['a'].transAxes, fontsize=25, verticalalignment='top')
mosaic['b'].text(0.62, 0.95, 'veg 40%, bedrock 50%, ice 10%', transform=mosaic['b'].transAxes, fontsize=25, verticalalignment='top')
mosaic['c'].text(0.62, 0.95, 'veg 50%, bedrock 40%, ice 10%', transform=mosaic['c'].transAxes, fontsize=25, verticalalignment='top')
mosaic['d'].text(0.62, 0.95, 'veg 40%, bedrock 60%, ice 0%',  transform=mosaic['d'].transAxes, fontsize=25, verticalalignment='top')

# Removing the x-axis label from all subplots
# mosaic['a'].set(xlabel=None)
# mosaic['b'].set(xlabel=None)
# mosaic['c'].set(xlabel=None)
# mosaic['d'].set(xlabel=None)

# Hide x-ticks for all subplots except 'd'
mosaic['a'].tick_params(axis='x', which='both', bottom=False, top=False, labelbottom=False)
mosaic['b'].tick_params(axis='x', which='both', bottom=False, top=False, labelbottom=False)
mosaic['c'].tick_params(axis='x', which='both', bottom=False, top=False, labelbottom=False)

plt.setp(mosaic['d'].get_xticklabels(), rotation=45, ha="right")
# sns.move_legend(mosaic['a'], "upper left", bbox_to_anchor=(1, 1))
sns.move_legend(mosaic['a'], "upper left", bbox_to_anchor=(1, 1))
# Remove legends from all but the first subplot
mosaic['b'].get_legend().remove()
mosaic['c'].get_legend().remove()
mosaic['d'].get_legend().remove()

fig.suptitle('Langtang; df count \n sediment input: daily, annual mean sediment yeild ', fontsize=30)


# plt.savefig('count_test_plot.png', dpi = 300, bbox_inches = 'tight')


path = '/Users/varyabazilova/Desktop/paper2/202406_modelruns/30years/SL_daily/output_20percent/'

langtang1 = pd.read_csv(path + 'langtang_monthly_df_count_20percent_landcover1.csv', index_col = 0)
langtang2 = pd.read_csv(path + 'langtang_monthly_df_count_20percent_landcover2.csv', index_col = 0)
langtang3 = pd.read_csv(path + 'langtang_monthly_df_count_20percent_landcover3.csv', index_col = 0)
langtang4 = pd.read_csv(path + 'langtang_monthly_df_count_20percent_landcover4.csv', index_col = 0)

langtang1_melt_daily_20percent = prepare_dfcount_for_plot(langtang1)
langtang2_melt_daily_20percent = prepare_dfcount_for_plot(langtang2)
langtang3_melt_daily_20percent = prepare_dfcount_for_plot(langtang3)
langtang4_melt_daily_20percent = prepare_dfcount_for_plot(langtang4)




fig = plt.figure(figsize=(20, 15))#, layout = 'tight')
mosaic = fig.subplot_mosaic('''
                            aaa
                            bbb
                            ccc
                            ddd
                            ''')


# sns.boxplot(ax = mosaic['a'], x='elevation_bin', y='dfs_count', data=langtang1_melt)#, palette = 'magma_r') 
# sns.boxplot(ax = mosaic['b'], x='elevation_bin', y='dfs_count', data=langtang2_melt)#, palette = 'magma_r') 
# sns.boxplot(ax = mosaic['c'], x='elevation_bin', y='dfs_count', data=langtang3_melt)#, palette = 'magma_r') 
# sns.boxplot(ax = mosaic['d'], x='elevation_bin', y='dfs_count', data=langtang4_melt)#, palette = 'magma_r') 

sns.barplot(ax = mosaic['a'], x='D_month', y='dfs_count', hue = 'elevation_bin', data=langtang1_melt_daily_20percent, palette = 'magma_r')#, legend = True) 
sns.barplot(ax = mosaic['b'], x='D_month', y='dfs_count', hue = 'elevation_bin', data=langtang2_melt_daily_20percent, palette = 'magma_r')#, legend = False)
sns.barplot(ax = mosaic['c'], x='D_month', y='dfs_count', hue = 'elevation_bin', data=langtang3_melt_daily_20percent, palette = 'magma_r')#, legend = False)
sns.barplot(ax = mosaic['d'], x='D_month', y='dfs_count', hue = 'elevation_bin', data=langtang4_melt_daily_20percent, palette = 'magma_r')#, legend = False)

# Adding text to the top-left corner of each subplot
mosaic['a'].text(0.62, 0.95, 'veg 40%, bedrock 40%, ice 20%', transform=mosaic['a'].transAxes, fontsize=25, verticalalignment='top')
mosaic['b'].text(0.62, 0.95, 'veg 40%, bedrock 50%, ice 10%', transform=mosaic['b'].transAxes, fontsize=25, verticalalignment='top')
mosaic['c'].text(0.62, 0.95, 'veg 50%, bedrock 40%, ice 10%', transform=mosaic['c'].transAxes, fontsize=25, verticalalignment='top')
mosaic['d'].text(0.62, 0.95, 'veg 40%, bedrock 60%, ice 0%',  transform=mosaic['d'].transAxes, fontsize=25, verticalalignment='top')

# Removing the x-axis label from all subplots
mosaic['a'].set(xlabel=None)
mosaic['b'].set(xlabel=None)
mosaic['c'].set(xlabel=None)
mosaic['d'].set(xlabel=None)

# Hide x-ticks for all subplots except 'd'
mosaic['a'].tick_params(axis='x', which='both', bottom=False, top=False, labelbottom=False)
mosaic['b'].tick_params(axis='x', which='both', bottom=False, top=False, labelbottom=False)
mosaic['c'].tick_params(axis='x', which='both', bottom=False, top=False, labelbottom=False)

plt.setp(mosaic['d'].get_xticklabels(), rotation=45, ha="right")


# Remove legends from all but the first subplot
mosaic['b'].get_legend().remove()
mosaic['c'].get_legend().remove()
mosaic['d'].get_legend().remove()

sns.move_legend(mosaic['a'], "upper left", bbox_to_anchor=(1, 1))

fig.suptitle('Langtang; df count \n sediment input: daily, 20percent sediment yeild ', fontsize=30)

plt.show()













































path = '/Users/varyabazilova/Desktop/paper2/202406_modelruns/30years/SL_once/output_mean/'

langtang1 = pd.read_csv(path + 'langtang_monthly_df_count_annualmean_landcover1.csv', index_col = 0)
langtang2 = pd.read_csv(path + 'langtang_monthly_df_count_annualmean_landcover2.csv', index_col = 0)
langtang3 = pd.read_csv(path + 'langtang_monthly_df_count_annualmean_landcover3.csv', index_col = 0)
langtang4 = pd.read_csv(path + 'langtang_monthly_df_count_annualmean_landcover4.csv', index_col = 0)

langtang1_melt_once = prepare_dfcount_for_plot(langtang1)
langtang2_melt_once = prepare_dfcount_for_plot(langtang2)
langtang3_melt_once = prepare_dfcount_for_plot(langtang3)
langtang4_melt_once = prepare_dfcount_for_plot(langtang4)














fig = plt.figure(figsize=(20, 15))#, layout = 'tight')
mosaic = fig.subplot_mosaic('''
                            aaa
                            bbb
                            ccc
                            ddd
                            ''')


# sns.boxplot(ax = mosaic['a'], x='elevation_bin', y='dfs_count', data=langtang1_melt)#, palette = 'magma_r') 
# sns.boxplot(ax = mosaic['b'], x='elevation_bin', y='dfs_count', data=langtang2_melt)#, palette = 'magma_r') 
# sns.boxplot(ax = mosaic['c'], x='elevation_bin', y='dfs_count', data=langtang3_melt)#, palette = 'magma_r') 
# sns.boxplot(ax = mosaic['d'], x='elevation_bin', y='dfs_count', data=langtang4_melt)#, palette = 'magma_r') 

sns.barplot(ax = mosaic['a'], x='D_month', y='dfs_count', hue = 'elevation_bin', data=langtang1_melt_once, palette = 'magma_r', legend = True) 
sns.barplot(ax = mosaic['b'], x='D_month', y='dfs_count', hue = 'elevation_bin', data=langtang2_melt_once, palette = 'magma_r', legend = False)
sns.barplot(ax = mosaic['c'], x='D_month', y='dfs_count', hue = 'elevation_bin', data=langtang3_melt_once, palette = 'magma_r', legend = False)
sns.barplot(ax = mosaic['d'], x='D_month', y='dfs_count', hue = 'elevation_bin', data=langtang4_melt_once, palette = 'magma_r', legend = False)

# Adding text to the top-left corner of each subplot
mosaic['a'].text(0.62, 0.95, 'veg 40%, bedrock 40%, ice 20%', transform=mosaic['a'].transAxes, fontsize=25, verticalalignment='top')
mosaic['b'].text(0.62, 0.95, 'veg 40%, bedrock 50%, ice 10%', transform=mosaic['b'].transAxes, fontsize=25, verticalalignment='top')
mosaic['c'].text(0.62, 0.95, 'veg 50%, bedrock 40%, ice 10%', transform=mosaic['c'].transAxes, fontsize=25, verticalalignment='top')
mosaic['d'].text(0.62, 0.95, 'veg 40%, bedrock 60%, ice 0%',  transform=mosaic['d'].transAxes, fontsize=25, verticalalignment='top')

# Removing the x-axis label from all subplots
# mosaic['a'].set(xlabel=None)
# mosaic['b'].set(xlabel=None)
# mosaic['c'].set(xlabel=None)
# mosaic['d'].set(xlabel=None)

# Hide x-ticks for all subplots except 'd'
mosaic['a'].tick_params(axis='x', which='both', bottom=False, top=False, labelbottom=False)
mosaic['b'].tick_params(axis='x', which='both', bottom=False, top=False, labelbottom=False)
mosaic['c'].tick_params(axis='x', which='both', bottom=False, top=False, labelbottom=False)

plt.setp(mosaic['d'].get_xticklabels(), rotation=45, ha="right")
sns.move_legend(mosaic['a'], "upper left", bbox_to_anchor=(1, 1))

fig.suptitle('Langtang; df count \n sediment input: once per year, annual mean sediment yeild ', fontsize=30)

plt.show()




path = '/Users/varyabazilova/Desktop/paper2/202406_modelruns/30years/SL_once/output_20percent/'

langtang1 = pd.read_csv(path + 'langtang_monthly_df_count_20percent_landcover1.csv', index_col = 0)
langtang2 = pd.read_csv(path + 'langtang_monthly_df_count_20percent_landcover2.csv', index_col = 0)
langtang3 = pd.read_csv(path + 'langtang_monthly_df_count_20percent_landcover3.csv', index_col = 0)
langtang4 = pd.read_csv(path + 'langtang_monthly_df_count_20percent_landcover4.csv', index_col = 0)

langtang1_melt_once_25percent = prepare_dfcount_for_plot(langtang1)
langtang2_melt_once_25percent = prepare_dfcount_for_plot(langtang2)
langtang3_melt_once_25percent = prepare_dfcount_for_plot(langtang3)
langtang4_melt_once_25percent = prepare_dfcount_for_plot(langtang4)






fig = plt.figure(figsize=(20, 15))#, layout = 'tight')
mosaic = fig.subplot_mosaic('''
                            aaa
                            bbb
                            ccc
                            ddd
                            ''')

sns.barplot(ax = mosaic['a'], x='D_month', y='dfs_count', hue = 'elevation_bin', data=langtang1_melt_daily_20percent, palette = 'magma_r', legend = True) 
sns.barplot(ax = mosaic['b'], x='D_month', y='dfs_count', hue = 'elevation_bin', data=langtang2_melt_daily_20percent, palette = 'magma_r', legend = False)
sns.barplot(ax = mosaic['c'], x='D_month', y='dfs_count', hue = 'elevation_bin', data=langtang3_melt_daily_20percent, palette = 'magma_r', legend = False)
sns.barplot(ax = mosaic['d'], x='D_month', y='dfs_count', hue = 'elevation_bin', data=langtang4_melt_daily_20percent, palette = 'magma_r', legend = False)

# Adding text to the top-left corner of each subplot
mosaic['a'].text(0.62, 0.95, 'veg 40%, bedrock 40%, ice 20%', transform=mosaic['a'].transAxes, fontsize=25, verticalalignment='top')
mosaic['b'].text(0.62, 0.95, 'veg 40%, bedrock 50%, ice 10%', transform=mosaic['b'].transAxes, fontsize=25, verticalalignment='top')
mosaic['c'].text(0.62, 0.95, 'veg 50%, bedrock 40%, ice 10%', transform=mosaic['c'].transAxes, fontsize=25, verticalalignment='top')
mosaic['d'].text(0.62, 0.95, 'veg 40%, bedrock 60%, ice 0%',  transform=mosaic['d'].transAxes, fontsize=25, verticalalignment='top')

# Removing the x-axis label from all subplots
mosaic['a'].set(xlabel=None)
mosaic['b'].set(xlabel=None)
mosaic['c'].set(xlabel=None)
mosaic['d'].set(xlabel=None)

# Hide x-ticks for all subplots except 'd'
mosaic['a'].tick_params(axis='x', which='both', bottom=False, top=False, labelbottom=False)
mosaic['b'].tick_params(axis='x', which='both', bottom=False, top=False, labelbottom=False)
mosaic['c'].tick_params(axis='x', which='both', bottom=False, top=False, labelbottom=False)

plt.setp(mosaic['d'].get_xticklabels(), rotation=45, ha="right")
sns.move_legend(mosaic['a'], "upper left", bbox_to_anchor=(1, 1))

fig.suptitle('Langtang; df count \n sediment input: once per year, 25percent sediment yeild ', fontsize=30)

plt.show()









def prepare_for_heatmap(melted_df, landcover_idx):
    melted_df = melted_df[['D_month', 'dfs_count']]
    renamed = melted_df.rename(columns={'dfs_count': f'dfs_count_lc{landcover_idx}'})
    return renamed
    


percentile = '20percent'
path = f'/Users/varyabazilova/Desktop/paper2/202406_modelruns/30years/SL_once/output_{percentile}/'

langtang1_20 = pd.read_csv(path + f'langtang_monthly_df_count_{percentile}_landcover1.csv', index_col = 0)
langtang2_20 = pd.read_csv(path + f'langtang_monthly_df_count_{percentile}_landcover2.csv', index_col = 0)
langtang3_20 = pd.read_csv(path + f'langtang_monthly_df_count_{percentile}_landcover3.csv', index_col = 0)
langtang4_20 = pd.read_csv(path + f'langtang_monthly_df_count_{percentile}_landcover4.csv', index_col = 0)

langtang1_melt_once_20percent = prepare_dfcount_for_plot(langtang1_20)
langtang2_melt_once_20percent = prepare_dfcount_for_plot(langtang2_20)
langtang3_melt_once_20percent = prepare_dfcount_for_plot(langtang3_20)
langtang4_melt_once_20percent = prepare_dfcount_for_plot(langtang4_20)

langtang1_melt_once_20percent = prepare_for_heatmap(langtang1_melt_once_20percent, 1)
langtang2_melt_once_20percent = prepare_for_heatmap(langtang2_melt_once_20percent, 2)
langtang3_melt_once_20percent = prepare_for_heatmap(langtang3_melt_once_20percent, 3)
langtang4_melt_once_20percent = prepare_for_heatmap(langtang4_melt_once_20percent, 4)


# -------

percentile = '30percent'
path = f'/Users/varyabazilova/Desktop/paper2/202406_modelruns/30years/SL_once/output_{percentile}/'

langtang1_30 = pd.read_csv(path + f'langtang_monthly_df_count_{percentile}_landcover1.csv', index_col = 0)
langtang2_30 = pd.read_csv(path + f'langtang_monthly_df_count_{percentile}_landcover2.csv', index_col = 0)
langtang3_30 = pd.read_csv(path + f'langtang_monthly_df_count_{percentile}_landcover3.csv', index_col = 0)
langtang4_30 = pd.read_csv(path + f'langtang_monthly_df_count_{percentile}_landcover4.csv', index_col = 0)

langtang1_melt_once_30percent = prepare_dfcount_for_plot(langtang1_30)
langtang2_melt_once_30percent = prepare_dfcount_for_plot(langtang2_30)
langtang3_melt_once_30percent = prepare_dfcount_for_plot(langtang3_30)
langtang4_melt_once_30percent = prepare_dfcount_for_plot(langtang4_30)

langtang1_melt_once_30percent = prepare_for_heatmap(langtang1_melt_once_30percent, 1)
langtang2_melt_once_30percent = prepare_for_heatmap(langtang2_melt_once_30percent, 2)
langtang3_melt_once_30percent = prepare_for_heatmap(langtang3_melt_once_30percent, 3)
langtang4_melt_once_30percent = prepare_for_heatmap(langtang4_melt_once_30percent, 4)


# ---------

percentile = '40percent'
path = f'/Users/varyabazilova/Desktop/paper2/202406_modelruns/30years/SL_once/output_{percentile}/'

langtang1_40 = pd.read_csv(path + f'langtang_monthly_df_count_{percentile}_landcover1.csv', index_col = 0)
langtang2_40 = pd.read_csv(path + f'langtang_monthly_df_count_{percentile}_landcover2.csv', index_col = 0)
langtang3_40 = pd.read_csv(path + f'langtang_monthly_df_count_{percentile}_landcover3.csv', index_col = 0)
langtang4_40 = pd.read_csv(path + f'langtang_monthly_df_count_{percentile}_landcover4.csv', index_col = 0)

langtang1_melt_once_40percent = prepare_dfcount_for_plot(langtang1_40)
langtang2_melt_once_40percent = prepare_dfcount_for_plot(langtang2_40)
langtang3_melt_once_40percent = prepare_dfcount_for_plot(langtang3_40)
langtang4_melt_once_40percent = prepare_dfcount_for_plot(langtang4_40)

langtang1_melt_once_40percent = prepare_for_heatmap(langtang1_melt_once_40percent, 1)
langtang2_melt_once_40percent = prepare_for_heatmap(langtang2_melt_once_40percent, 2)
langtang3_melt_once_40percent = prepare_for_heatmap(langtang3_melt_once_40percent, 3)
langtang4_melt_once_40percent = prepare_for_heatmap(langtang4_melt_once_40percent, 4)


# ---------

percentile = 'annualmean'
path = f'/Users/varyabazilova/Desktop/paper2/202406_modelruns/30years/SL_once/output_mean/'

langtang1_mean = pd.read_csv(path + f'langtang_monthly_df_count_{percentile}_landcover1.csv', index_col = 0)
langtang2_mean = pd.read_csv(path + f'langtang_monthly_df_count_{percentile}_landcover2.csv', index_col = 0)
langtang3_mean = pd.read_csv(path + f'langtang_monthly_df_count_{percentile}_landcover3.csv', index_col = 0)
langtang4_mean = pd.read_csv(path + f'langtang_monthly_df_count_{percentile}_landcover4.csv', index_col = 0)

langtang1_melt_once_mean = prepare_dfcount_for_plot(langtang1_mean)
langtang2_melt_once_mean = prepare_dfcount_for_plot(langtang2_mean)
langtang3_melt_once_mean = prepare_dfcount_for_plot(langtang3_mean)
langtang4_melt_once_mean = prepare_dfcount_for_plot(langtang4_mean)

langtang1_melt_once_mean = prepare_for_heatmap(langtang1_melt_once_mean, 1)
langtang2_melt_once_mean = prepare_for_heatmap(langtang2_melt_once_mean, 2)
langtang3_melt_once_mean = prepare_for_heatmap(langtang3_melt_once_mean, 3)
langtang4_melt_once_mean = prepare_for_heatmap(langtang4_melt_once_mean, 4)




langtang20 = pd.concat([langtang1_melt_once_20percent, langtang2_melt_once_20percent, langtang3_melt_once_20percent, langtang4_melt_once_20percent])
langtang30 = pd.concat([langtang1_melt_once_30percent, langtang2_melt_once_30percent, langtang3_melt_once_30percent, langtang4_melt_once_30percent])
langtang40 = pd.concat([langtang1_melt_once_40percent, langtang2_melt_once_40percent, langtang3_melt_once_40percent, langtang4_melt_once_40percent])
langtangmean = pd.concat([langtang1_melt_once_mean, langtang2_melt_once_mean, langtang3_melt_once_mean, langtang4_melt_once_mean])


langtang20 = langtang20.groupby('D_month').mean().T
langtang30 = langtang30.groupby('D_month').mean().T
langtang40 = langtang40.groupby('D_month').mean().T
langtangmean = langtangmean.groupby('D_month').mean().T



fig = plt.figure(figsize=(20, 8), layout = 'tight')

mosaic = fig.subplot_mosaic('''
                            ab
                            cd
                            ''')

sns.heatmap(langtang20,   ax = mosaic['a'], annot=True, cmap = 'coolwarm')
sns.heatmap(langtang30,   ax = mosaic['b'], annot=True, cmap = 'coolwarm')
sns.heatmap(langtang40,   ax = mosaic['c'], annot=True, cmap = 'coolwarm')
sns.heatmap(langtangmean, ax = mosaic['d'], annot=True, cmap = 'coolwarm')

fig.suptitle('max count of debris flow events per month', fontsize=30)









percentile = '40percent'
path = f'/Users/varyabazilova/Desktop/paper2/202406_modelruns/30years/SL_once/output_{percentile}/'


langtang1_40 = pd.read_csv(path + f'langtang_monthly_df_count_{percentile}_landcover1.csv', index_col = 0)
langtang2_40 = pd.read_csv(path + f'langtang_monthly_df_count_{percentile}_landcover2.csv', index_col = 0)
langtang3_40 = pd.read_csv(path + f'langtang_monthly_df_count_{percentile}_landcover3.csv', index_col = 0)
langtang4_40 = pd.read_csv(path + f'langtang_monthly_df_count_{percentile}_landcover4.csv', index_col = 0)

langtang1_melt_once_40percent = prepare_dfcount_for_plot(langtang1_40)
langtang2_melt_once_40percent = prepare_dfcount_for_plot(langtang2_40)
langtang3_melt_once_40percent = prepare_dfcount_for_plot(langtang3_40)
langtang4_melt_once_40percent = prepare_dfcount_for_plot(langtang4_40)



test = langtang1_melt_once_40percent.groupby('elevation_bin').mean()


langtang1_melt_once_40percent 















