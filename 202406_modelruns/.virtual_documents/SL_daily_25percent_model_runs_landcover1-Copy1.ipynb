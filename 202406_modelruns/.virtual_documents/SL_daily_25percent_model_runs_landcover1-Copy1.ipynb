import os
import pandas as pd
import matplotlib.pyplot as plt


# modelling part
from run import run







%%time

# ----------- LANGTANG ------------

climatepath = '/Users/varyabazilova/Desktop/paper2/202406_modelruns/30years/test/langtang_climate_cut'

# get all folders togetehr 

ls_ = os.listdir(climatepath)
ls = [d for d in ls_ if not d.startswith('.')]
# dir0 = os.getcwd()
# print(dir0)
# run the model for each
for d in ls:
    path = os.path.join(climatepath, d)
    if path.endswith('.csv'):
        continue
    if path.startswith('.'):
        continue
    # print(path)
    os.chdir(path)
    run()
    os.chdir(dir0)










