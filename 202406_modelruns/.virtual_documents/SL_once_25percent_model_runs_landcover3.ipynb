import os
import pandas as pd
import matplotlib.pyplot as plt


# modelling part
from run import run







%%time

# ----------- LANGTANG ------------

# climatepath = '/Users/varyabazilova/Desktop/paper2/202406_modelruns/30years/SL_once/3landcover_mean/langtang_climate_cut'
climatepath = '/Users/varyabazilova/Desktop/paper2/202406_modelruns/30years/SL_once/3landcover_25percent/langtang_climate_cut'

# get all folders togetehr 

ls_ = os.listdir(climatepath)
ls = [d for d in ls_ if not d.startswith('.')]
dir0 = os.getcwd()
# print(dir0)
# run the model for each
for d in ls:
    path = os.path.join(climatepath, d)
    if path.endswith('.csv'):
        continue
    if path.startswith('.'):
        continue
    # print(path)
    os.chdir(path)
    run()
    os.chdir(dir0)






'''
%%time
# ----------- BAGROT ------------ NO CALCULATIONS MADE FOR BAGROT

climatepath = '/Users/varyabazilova/Desktop/paper2/202406_modelruns/30years/1landcover/bagrot_climate_cut'

# get all folders togetehr 
# ls_ = os.listdir('./langtang')
ls_ = os.listdir(climatepath)
ls = [d for d in ls_ if not d.startswith('.')]
dir0 = os.getcwd()
# print(dir0)
# run the model for each
for d in ls:
    path = os.path.join(dir0, '30years/1landcover/bagrot_climate_cut', d)
    if path.endswith('.csv'):
        continue
    # print(path)
    os.chdir(path)
    run()
    os.chdir(dir0)
'''


%%time
# ----------- MUSTANG ------------

climatepath = '/Users/varyabazilova/Desktop/paper2/202406_modelruns/30years/SL_once/3landcover_mean/mustang_climate_cut'

# get all folders togetehr 
# ls_ = os.listdir('./langtang')
ls_ = os.listdir(climatepath)
ls = [d for d in ls_ if not d.startswith('.')]
dir0 = os.getcwd()
# print(dir0)
# run the model for each
for d in ls:
    path = os.path.join(climatepath, d)
    if path.endswith('.csv'):
        continue
    if path.startswith('.'):
        continue

    os.chdir(path)
    run()
    os.chdir(dir0)
















# Define your custom function
def calculate_annual_sum_mean(df):
    df['D'] = pd.to_datetime(df['D'])
    df['Year'] = df['D'].dt.year
    annual_sum = df.groupby('Year').sum()
    annual_sum_mean = annual_sum.Qstl.mean()
    return annual_sum_mean



def calculate_annual_sum_sum(df):
    df['D'] = pd.to_datetime(df['D'])
    df['Year'] = df['D'].dt.year
    annual_sum = df.groupby('Year').sum()
    annual_sum_sum = annual_sum.Qstl.sum()
    return annual_sum_sum




directory_path = '/Users/varyabazilova/Desktop/paper2/202406_modelruns/30years/4landcover/langtang_climate_cut'

annual_sum_mean =[]
annual_sum_sum = []

# Iterate over each folder
for folder_name in os.listdir(directory_path):
    folder_path = os.path.join(directory_path, folder_name)
    if os.path.isdir(folder_path): 
        # Locate the 'sediment.out' file within the folder
        sediment_out_path = os.path.join(folder_path, 'Sediment.out')
#         # Read the contents of the file into a pandas DataFrame
        df = pd.read_csv(sediment_out_path, delimiter=',')  # Adjust delimiter if needed
#         # mean:
        annual_sum_mean_value = calculate_annual_sum_mean(df)
        annual_sum_sum_value = calculate_annual_sum_sum(df)
  
#        # # Save the DataFrame into the results table
        annual_sum_mean.append((folder_name.replace('cellnr', ''), annual_sum_mean_value))
        annual_sum_sum.append((folder_name.replace('cellnr', ''), annual_sum_sum_value))

# # make table 
annual_sum_mean_df = pd.DataFrame(annual_sum_mean, columns=['cellnr', 'annual_mean_Qdftl_mm']).set_index('cellnr')
annual_sum_sum_df =  pd.DataFrame(annual_sum_sum, columns=['cellnr', 'annual_mean_Qdftl_mm']).set_index('cellnr')




















# Define your custom function
def calculate_annual_sum_mean(df):
    df['D'] = pd.to_datetime(df['D'])
    df['Year'] = df['D'].dt.year
    annual_sum = df.groupby('Year').sum()
    annual_sum_mean = annual_sum.Qstl.mean()

