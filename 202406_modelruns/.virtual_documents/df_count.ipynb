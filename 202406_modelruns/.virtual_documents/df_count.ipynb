import pandas as pd
import seaborn as sns
import matplotlib.pyplot as plt
import os 
import functions








%%time


# langtang
folder_path = '/Users/varyabazilova/Desktop/paper2/202406_modelruns/30years/SL_daily/4landcover_25percent/mustang_climate_cut'
elevation = pd.read_csv('/Users/varyabazilova/Desktop/paper2/downscaling_simple/coordinates_and_elevation_with_labels_mustang.csv')[['cellnr2','band_data']] 
landcover = 'landcover4'
location = 'mustang'

column = 'dfs'
result_df = pd.DataFrame()


# Iterate over the files in the folders
for folder_name in os.listdir(folder_path):
    # skip all csvs and . files
    if folder_name.endswith('.csv'):
        continue
    if folder_name.startswith('.'):
        continue 
    
    file_path = os.path.join(folder_path, folder_name, 'Sediment.out') #create a path to file 
    
    if os.path.isfile(file_path): #check if its there 
        # read file 
        output_df = pd.read_csv(file_path)
        # count dfs per given time 
        output_df = functions.count_dfs_per_time(output_df, column, 'year')
        
        # take the COUNT column 
        name_column = output_df['count']
        # rename the columns 
        column_name = f'{column}_{folder_name}'
        result_df[column_name] = name_column
        result_df.columns = [col[-3:] for col in result_df.columns]


annaul_df_count = functions.add_elevation_to_df_count(result_df, elevation)


output = '/Users/varyabazilova/Desktop/paper2/202406_modelruns/30years/SL_daily/output_25percent/'
# annaul_df_count.to_csv(output + f'{location}_annual_df_count_annualmean_{landcover}.csv')


# annaul_df_count





def prepare_dfcount_for_plot(dfcount):
    melted = pd.melt(dfcount, id_vars=['D'], var_name='elevation', value_name='dfs_count')
    melted['elevation'] = melted['elevation'].str.split('.').str[0].astype(float)
    melted['elevation_bin'] = melted.apply(functions.bin_elevation200, axis=1)
    melted = melted.sort_values('elevation_bin')
    # melted = melted.dropna(subset=['dfs_count'])
    return melted 



path = '/Users/varyabazilova/Desktop/paper2/202406_modelruns/30years/SL_daily/output_mean_annual/'

langtang1 = pd.read_csv(path + 'langtang_annual_df_count_annualmean_landcover1.csv', index_col = 0)
langtang2 = pd.read_csv(path + 'langtang_annual_df_count_annualmean_landcover2.csv', index_col = 0)
langtang3 = pd.read_csv(path + 'langtang_annual_df_count_annualmean_landcover3.csv', index_col = 0)
langtang4 = pd.read_csv(path + 'langtang_annual_df_count_annualmean_landcover4.csv', index_col = 0)

langtang1_melt = prepare_dfcount_for_plot(langtang1)
langtang2_melt = prepare_dfcount_for_plot(langtang2)
langtang3_melt = prepare_dfcount_for_plot(langtang3)
langtang4_melt = prepare_dfcount_for_plot(langtang4)






fig = plt.figure(figsize=(10, 7), layout = 'tight')

plt.scatter(x = langtang1_melt.D, y=langtang1_melt.dfs_count, c = langtang1_melt.elevation)
plt.scatter(x = langtang2_melt.D, y=langtang2_melt.dfs_count, c = langtang2_melt.elevation)
plt.scatter(x = langtang3_melt.D, y=langtang3_melt.dfs_count, c = langtang3_melt.elevation)
plt.scatter(x = langtang4_melt.D, y=langtang4_melt.dfs_count, c = langtang4_melt.elevation)
plt.ylabel('df count')
plt.colorbar()






fig = plt.figure(figsize=(20, 7), layout = 'tight')

mosaic = fig.subplot_mosaic('''
                            ab
                            ''')

sns.boxplot(ax=mosaic['a'], x='elevation_bin', y='dfs_count', data=langtang1_melt)
sns.barplot(ax=mosaic['b'], x='elevation_bin', y='dfs_count', data=langtang1_melt, errorbar=(ci, 100)

mosaic['a'].set_ylim(-0.5, 10)
mosaic['b'].set_ylim(-0.5, 10)

plt.setp(mosaic['a'].get_xticklabels(), rotation=45, ha="right")
plt.setp(mosaic['b'].get_xticklabels(), rotation=45, ha="right")

plt.show()





























fig = plt.figure(figsize=(20, 15), layout = 'tight')
mosaic = fig.subplot_mosaic('''
                            aaa
                            bbb
                            ccc
                            ddd
                            ''')


sns.boxplot(ax = mosaic['a'], x='elevation_bin', y='dfs_count', data=langtang1_melt)#, palette = 'magma_r') 
sns.boxplot(ax = mosaic['b'], x='elevation_bin', y='dfs_count', data=langtang2_melt)#, palette = 'magma_r') 
sns.boxplot(ax = mosaic['c'], x='elevation_bin', y='dfs_count', data=langtang3_melt)#, palette = 'magma_r') 
sns.boxplot(ax = mosaic['d'], x='elevation_bin', y='dfs_count', data=langtang4_melt)#, palette = 'magma_r') 

# Adding text to the top-left corner of each subplot
mosaic['a'].text(0.62, 0.95, 'veg 40%, bedrock 40%, ice 20%', transform=mosaic['a'].transAxes, fontsize=25, verticalalignment='top')
mosaic['b'].text(0.62, 0.95, 'veg 40%, bedrock 50%, ice 10%', transform=mosaic['b'].transAxes, fontsize=25, verticalalignment='top')
mosaic['c'].text(0.62, 0.95, 'veg 50%, bedrock 40%, ice 10%', transform=mosaic['c'].transAxes, fontsize=25, verticalalignment='top')
mosaic['d'].text(0.62, 0.95, 'veg 40%, bedrock 60%, ice 0%',  transform=mosaic['d'].transAxes, fontsize=25, verticalalignment='top')

# Removing the x-axis label from all subplots
mosaic['a'].set(xlabel=None)
mosaic['b'].set(xlabel=None)
mosaic['c'].set(xlabel=None)
mosaic['d'].set(xlabel=None)

# Hide x-ticks for all subplots except 'd'
mosaic['a'].tick_params(axis='x', which='both', bottom=False, top=False, labelbottom=False)
mosaic['b'].tick_params(axis='x', which='both', bottom=False, top=False, labelbottom=False)
mosaic['c'].tick_params(axis='x', which='both', bottom=False, top=False, labelbottom=False)

plt.setp(mosaic['d'].get_xticklabels(), rotation=45, ha="right")


fig.suptitle('Langtang; df count \n sediment input: daily, annual mean sediment yeild ', fontsize=30)

plt.show()








path = '/Users/varyabazilova/Desktop/paper2/202406_modelruns/30years/SL_daily/output_mean_annual/'

mustang1 = pd.read_csv(path + 'mustang_annual_df_count_annualmean_landcover1.csv', index_col = 0)
mustang2 = pd.read_csv(path + 'mustang_annual_df_count_annualmean_landcover2.csv', index_col = 0)
mustang3 = pd.read_csv(path + 'mustang_annual_df_count_annualmean_landcover3.csv', index_col = 0)
mustang4 = pd.read_csv(path + 'mustang_annual_df_count_annualmean_landcover4.csv', index_col = 0)

mustang1_melt = prepare_dfcount_for_plot(mustang1)
mustang2_melt = prepare_dfcount_for_plot(mustang2)
mustang3_melt = prepare_dfcount_for_plot(mustang3)
mustang4_melt = prepare_dfcount_for_plot(mustang4)



fig = plt.figure(figsize=(20, 15), layout = 'tight')
mosaic = fig.subplot_mosaic('''
                            aaa
                            bbb
                            ccc
                            ddd
                            ''')


sns.boxplot(ax = mosaic['a'], x='elevation_bin', y='dfs_count', data=mustang1_melt) 
sns.boxplot(ax = mosaic['b'], x='elevation_bin', y='dfs_count', data=mustang2_melt) 
sns.boxplot(ax = mosaic['c'], x='elevation_bin', y='dfs_count', data=mustang3_melt) 
sns.boxplot(ax = mosaic['d'], x='elevation_bin', y='dfs_count', data=mustang4_melt) 

# Adding text to the top-left corner of each subplot
mosaic['a'].text(0.62, 0.95, 'veg 40%, bedrock 40%, ice 20%', transform=mosaic['a'].transAxes, fontsize=25, verticalalignment='top')
mosaic['b'].text(0.62, 0.95, 'veg 40%, bedrock 50%, ice 10%', transform=mosaic['b'].transAxes, fontsize=25, verticalalignment='top')
mosaic['c'].text(0.62, 0.95, 'veg 50%, bedrock 40%, ice 10%', transform=mosaic['c'].transAxes, fontsize=25, verticalalignment='top')
mosaic['d'].text(0.62, 0.95, 'veg 40%, bedrock 60%, ice 0%',  transform=mosaic['d'].transAxes, fontsize=25, verticalalignment='top')

# Removing the x-axis label from all subplots
mosaic['a'].set(xlabel=None)
mosaic['b'].set(xlabel=None)
mosaic['c'].set(xlabel=None)
mosaic['d'].set(xlabel=None)

# Hide x-ticks for all subplots except 'd'
mosaic['a'].tick_params(axis='x', which='both', bottom=False, top=False, labelbottom=False)
mosaic['b'].tick_params(axis='x', which='both', bottom=False, top=False, labelbottom=False)
mosaic['c'].tick_params(axis='x', which='both', bottom=False, top=False, labelbottom=False)

plt.setp(mosaic['d'].get_xticklabels(), rotation=45, ha="right")


fig.suptitle('Mustang; df count \n sediment input: daily, annual mean sediment yeild ', fontsize=30)



plt.show()









