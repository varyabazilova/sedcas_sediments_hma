import pandas as pd
import os



def update_parameter_file(folder, paramfile, value):
    # Iterate over all folders in the given directory
    for folder_name in os.listdir(folder):
        folder_path = os.path.join(folder, folder_name)

        # Check if it's a directory
        if os.path.isdir(folder_path):
            paramfile_path = os.path.join(folder_path, paramfile)

            # Check if the parameter file exists in the folder
            if os.path.exists(paramfile_path):
                with open(paramfile_path, 'r') as file:
                    lines = file.readlines()

                # Update the specific line with the new value
                for i, line in enumerate(lines):
                    if line.startswith("shares:"):
                        lines[i] = f"shares:{value}\n"
                        break

                # Write the updated lines back to the parameter file
                with open(paramfile_path, 'w') as file:
                    file.writelines(lines)
                print(f"Updated {paramfile_path}")
            else:
                print(f"{paramfile} not found in {folder_name}")


folder = '/Users/varyabazilova/Desktop/paper2/202406_modelruns/30years/3landcover/mustang_climate_cut/'

paramfile = 'parameters.par'

# shares - values of the fraction of the land cover 
# forest, bedrock, glacier

value_landcover1 = [0.4, 0.4, 0.2]
value_landcover2 = [0.4, 0.5, 0.1]  
value_landcover3 = [0.5, 0.4, 0.1] 
value_landcover4 = [0.4, 0.6, 0.0] # reference

update_parameter_file(folder, paramfile, value_landcover4)




