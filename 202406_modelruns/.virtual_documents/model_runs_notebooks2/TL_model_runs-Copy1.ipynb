import os
import pandas as pd
import matplotlib.pyplot as plt


# modelling part
from run import run




# test run

# landcover 1 -Langtang


# ----------- LANGTANG ------------

climatepath = '/Users/varyabazilova/Desktop/paper2/202406_modelruns/30years/test/langtang_climate_cut/'

# get all folders togetehr 

ls_ = os.listdir(climatepath)
ls = [d for d in ls_ if not d.startswith('.')]
dir0 = os.getcwd()
# print(dir0)
# run the model for each
for d in ls:
    path = os.path.join(climatepath, d)
    if path.endswith('.csv'):
        continue
    # print(path)
    os.chdir(path)
    run()
    os.chdir(dir0)



testfile = pd.read_csv('/Users/varyabazilova/Desktop/paper2/202406_modelruns/30years/test/langtang_climate_cut/12a/Hydro.out')


testfile['snowmelt'] = testfile['snowacc'].where(testfile['snowacc'] < 0) * -1
testfile['snowacc2'] = testfile['snowacc'].where(testfile['snowacc'] > 0)



fig = plt.figure(figsize=(20, 7), layout = 'tight')
mosaic = fig.subplot_mosaic('''
                            ab''')

testfile.Pr.plot(label = 'Pr', ax = mosaic['a'], legend = True)

# testfile.snowacc.plot(label = 'snowacc', ax = mosaic['a'], legend = True)
testfile.Q.plot(label = 'Q', ax = mosaic['a'], legend = True)
testfile.snowmelt.plot(label = 'snow_melt', ax = mosaic['b'], legend = True)
testfile.glacier_melt.plot(label = 'glacier_melt', ax = mosaic['b'], legend = True)

# plt.savefig('test_plot_langtang', bbox_inches = 'tight', dpi = 300)


testfile['D'] = pd.to_datetime(testfile['D'])
testfile2001 = testfile[testfile['D'].dt.year == 2000]
testfile2001 = testfile2001.set_index('D')


fig = plt.figure(figsize=(20, 12), layout = 'tight')
mosaic = fig.subplot_mosaic('''
                            ab
                            cd''')
testfile2001.snowacc.plot(label = 'snowacc', ax = mosaic['b'], legend = True)

testfile2001.Pr.plot(label = 'Pr', ax = mosaic['a'], legend = True)
testfile2001.Ta.plot(label = 'Ta', ax = mosaic['c'], legend = True)

testfile2001.snowacc.plot(label = 'snowacc', ax = mosaic['a'], legend = True)
# testfile2001.snowacc2.plot(label = 'snowacc', ax = mosaic['b'], legend = True)

testfile2001.Q.plot(label = 'Q', ax = mosaic['c'], legend = True)
testfile2001.snowmelt.plot(label = 'snow_melt', ax = mosaic['b'], legend = True)
testfile2001.glacier_melt.plot(label = 'glacier_melt', ax = mosaic['b'], legend = True)



testfile2001.Ta.plot(label = 'Ta', ax = mosaic['d'], legend = True)
testfile2001.Pr.plot(label = 'Pr', ax = mosaic['d'], legend = True)



mosaic['c'].axhline(0, color='k', linestyle='--', linewidth=1)  # Horizontal line at y=0
mosaic['d'].axhline(0, color='k', linestyle='--', linewidth=1)  # Horizontal line at y=0


# plt.savefig('test_plot_langtang2_1', bbox_inches = 'tight', dpi = 300)





fig = plt.figure(figsize=(20, 7), layout = 'tight')
mosaic = fig.subplot_mosaic('''
                            ab''')

testfile2001.Pr.plot(label = 'Pr', ax = mosaic['a'], legend = True)

testfile2001.snowacc2.plot(label = 'snowacc', ax = mosaic['a'], legend = True)
testfile2001.snowacc2.plot(label = 'snowacc', ax = mosaic['b'], legend = True)

testfile2001.Q.plot(label = 'Q', ax = mosaic['a'], legend = True)
testfile2001.snowmelt.plot(label = 'snow_melt', ax = mosaic['b'], legend = True)
testfile2001.glacier_melt.plot(label = 'glacier_melt', ax = mosaic['b'], legend = True)

# plt.savefig('test_plot_langtang', bbox_inches = 'tight', dpi = 300)









































%%time
# landcover 1 -Langtang


# ----------- LANGTANG ------------

climatepath = '/Users/varyabazilova/Desktop/paper2/202406_modelruns/30years/TL_data/1landcover/langtang_climate_cut'

# get all folders togetehr 

ls_ = os.listdir(climatepath)
ls = [d for d in ls_ if not d.startswith('.')]
dir0 = os.getcwd()
# print(dir0)
# run the model for each
for d in ls:
    path = os.path.join(climatepath, d)
    if path.endswith('.csv'):
        continue
    # print(path)
    os.chdir(path)
    run()
    os.chdir(dir0)



%%time
# ----------- MUSTANG ------------
climatepath = '/Users/varyabazilova/Desktop/paper2/202406_modelruns/30years/TL_data/1landcover/mustang_climate_cut'

# get all folders togetehr 

ls_ = os.listdir(climatepath)
ls = [d for d in ls_ if not d.startswith('.')]
dir0 = os.getcwd()
# print(dir0)
# run the model for each
for d in ls:
    path = os.path.join(climatepath, d)
    if path.endswith('.csv'):
        continue
    # print(path)
    os.chdir(path)
    run()
    os.chdir(dir0)





%%time
# landcover 1 -Langtang


# ----------- LANGTANG ------------

climatepath = '/Users/varyabazilova/Desktop/paper2/202406_modelruns/30years/TL_data/2landcover/langtang_climate_cut'

# get all folders togetehr 

ls_ = os.listdir(climatepath)
ls = [d for d in ls_ if not d.startswith('.')]
dir0 = os.getcwd()
# print(dir0)
# run the model for each
for d in ls:
    path = os.path.join(climatepath, d)
    if path.endswith('.csv'):
        continue
    # print(path)
    os.chdir(path)
    run()
    os.chdir(dir0)


%%time
# ----------- MUSTANG ------------

climatepath = '/Users/varyabazilova/Desktop/paper2/202406_modelruns/30years/TL_data/2landcover/mustang_climate_cut'

# get all folders togetehr 

ls_ = os.listdir(climatepath)
ls = [d for d in ls_ if not d.startswith('.')]
dir0 = os.getcwd()
# print(dir0)
# run the model for each
for d in ls:
    path = os.path.join(climatepath, d)
    if path.endswith('.csv'):
        continue
    # print(path)
    os.chdir(path)
    run()
    os.chdir(dir0)





%%time

landcover_idx = 3
# ----------- Langtang ------------

climatepath = f'/Users/varyabazilova/Desktop/paper2/202406_modelruns/30years/TL_data/{landcover_idx}landcover/langtang_climate_cut'

# get all folders togetehr 

ls_ = os.listdir(climatepath)
ls = [d for d in ls_ if not d.startswith('.')]
dir0 = os.getcwd()
# print(dir0)
# run the model for each
for d in ls:
    path = os.path.join(climatepath, d)
    if path.endswith('.csv'):
        continue
    # print(path)
    os.chdir(path)
    run()
    os.chdir(dir0)


%%time
# ----------- mustang ------------
landcover_idx = 3
climatepath = f'/Users/varyabazilova/Desktop/paper2/202406_modelruns/30years/TL_data/{landcover_idx}landcover/mustang_climate_cut'

# get all folders togetehr 

ls_ = os.listdir(climatepath)
ls = [d for d in ls_ if not d.startswith('.')]
dir0 = os.getcwd()
# print(dir0)
# run the model for each
for d in ls:
    path = os.path.join(climatepath, d)
    if path.endswith('.csv'):
        continue
    # print(path)
    os.chdir(path)
    run()
    os.chdir(dir0)





%%time

landcover_idx = 4
# ----------- Langtang ------------

climatepath = f'/Users/varyabazilova/Desktop/paper2/202406_modelruns/30years/TL_data/{landcover_idx}landcover/langtang_climate_cut'

# get all folders togetehr 

ls_ = os.listdir(climatepath)
ls = [d for d in ls_ if not d.startswith('.')]
dir0 = os.getcwd()
# print(dir0)
# run the model for each
for d in ls:
    path = os.path.join(climatepath, d)
    if path.endswith('.csv'):
        continue
    # print(path)
    os.chdir(path)
    run()
    os.chdir(dir0)


%%time
# ----------- mustang ------------
landcover_idx = 4
climatepath = f'/Users/varyabazilova/Desktop/paper2/202406_modelruns/30years/TL_data/{landcover_idx}landcover/mustang_climate_cut'

# get all folders togetehr 

ls_ = os.listdir(climatepath)
ls = [d for d in ls_ if not d.startswith('.')]
dir0 = os.getcwd()
# print(dir0)
# run the model for each
for d in ls:
    path = os.path.join(climatepath, d)
    if path.endswith('.csv'):
        continue
    # print(path)
    os.chdir(path)
    run()
    os.chdir(dir0)





%%time

landcover_idx = 5
# ----------- Langtang ------------

climatepath = f'/Users/varyabazilova/Desktop/paper2/202406_modelruns/30years/TL_data/{landcover_idx}landcover/langtang_climate_cut'

# get all folders togetehr 

ls_ = os.listdir(climatepath)
ls = [d for d in ls_ if not d.startswith('.')]
dir0 = os.getcwd()
# print(dir0)
# run the model for each
for d in ls:
    path = os.path.join(climatepath, d)
    if path.endswith('.csv'):
        continue
    # print(path)
    os.chdir(path)
    run()
    os.chdir(dir0)


%%time
# ----------- mustang ------------
landcover_idx = 5
climatepath = f'/Users/varyabazilova/Desktop/paper2/202406_modelruns/30years/TL_data/{landcover_idx}landcover/mustang_climate_cut'

# get all folders togetehr 

ls_ = os.listdir(climatepath)
ls = [d for d in ls_ if not d.startswith('.')]
dir0 = os.getcwd()
# print(dir0)
# run the model for each
for d in ls:
    path = os.path.join(climatepath, d)
    if path.endswith('.csv'):
        continue
    # print(path)
    os.chdir(path)
    run()
    os.chdir(dir0)



