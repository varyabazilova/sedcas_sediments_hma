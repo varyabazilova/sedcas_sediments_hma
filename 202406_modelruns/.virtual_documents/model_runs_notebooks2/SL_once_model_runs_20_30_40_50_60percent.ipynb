import os
import pandas as pd
import matplotlib.pyplot as plt


# modelling part
from run import run





%%time
# List of landcover indices
landcover_indices = [1, 2, 3, 4, 5]

location = 'langtang'
percentile = '20percent'

# Store the original working directory
dir0 = os.getcwd()

# Loop over each landcover index
for landcover_idx in landcover_indices:
    climatepath = f'/Users/varyabazilova/Desktop/paper2/202406_modelruns/30years/SL_data_once/{landcover_idx}landcover_{percentile}/{location}_climate_cut'

    # Get all folders together
    ls_ = os.listdir(climatepath)
    ls = [d for d in ls_ if not d.startswith('.')]
    
    # Run the model for each folder
    for d in ls:
        path = os.path.join(climatepath, d)
        if path.endswith('.csv'):
            continue
        # Change to the folder path and run the model
        os.chdir(path)
        run()
        # Return to the original directory
        os.chdir(dir0)

    print(f"Processed landcover index {landcover_idx}")



%%time
# List of landcover indices
landcover_indices = [1, 2, 3, 4, 5]

location = 'langtang'
percentile = '30percent'

# Store the original working directory
dir0 = os.getcwd()

# Loop over each landcover index
for landcover_idx in landcover_indices:
    climatepath = f'/Users/varyabazilova/Desktop/paper2/202406_modelruns/30years/SL_data_once/{landcover_idx}landcover_{percentile}/{location}_climate_cut'

    # Get all folders together
    ls_ = os.listdir(climatepath)
    ls = [d for d in ls_ if not d.startswith('.')]
    
    # Run the model for each folder
    for d in ls:
        path = os.path.join(climatepath, d)
        if path.endswith('.csv'):
            continue
        # Change to the folder path and run the model
        os.chdir(path)
        run()
        # Return to the original directory
        os.chdir(dir0)

    print(f"Processed landcover index {landcover_idx}")



%%time
# List of landcover indices
landcover_indices = [1, 2, 3, 4, 5]

location = 'langtang'
percentile = '40percent'

# Store the original working directory
dir0 = os.getcwd()

# Loop over each landcover index
for landcover_idx in landcover_indices:
    climatepath = f'/Users/varyabazilova/Desktop/paper2/202406_modelruns/30years/SL_data_once/{landcover_idx}landcover_{percentile}/{location}_climate_cut'

    # Get all folders together
    ls_ = os.listdir(climatepath)
    ls = [d for d in ls_ if not d.startswith('.')]
    
    # Run the model for each folder
    for d in ls:
        path = os.path.join(climatepath, d)
        if path.endswith('.csv'):
            continue
        # Change to the folder path and run the model
        os.chdir(path)
        run()
        # Return to the original directory
        os.chdir(dir0)

    print(f"Processed landcover index {landcover_idx}")



%%time
# List of landcover indices
landcover_indices = [1, 2, 3, 4, 5]

location = 'langtang'
percentile = '50percent'

# Store the original working directory
dir0 = os.getcwd()

# Loop over each landcover index
for landcover_idx in landcover_indices:
    climatepath = f'/Users/varyabazilova/Desktop/paper2/202406_modelruns/30years/SL_data_once/{landcover_idx}landcover_{percentile}/{location}_climate_cut'

    # Get all folders together
    ls_ = os.listdir(climatepath)
    ls = [d for d in ls_ if not d.startswith('.')]
    
    # Run the model for each folder
    for d in ls:
        path = os.path.join(climatepath, d)
        if path.endswith('.csv'):
            continue
        # Change to the folder path and run the model
        os.chdir(path)
        run()
        # Return to the original directory
        os.chdir(dir0)

    print(f"Processed landcover index {landcover_idx}")















%%time
# List of landcover indices
landcover_indices = [1, 2, 3, 4, 5]

location = 'langtang'
percentile = '60percent'

# Store the original working directory
dir0 = os.getcwd()

# Loop over each landcover index
for landcover_idx in landcover_indices:
    climatepath = f'/Users/varyabazilova/Desktop/paper2/202406_modelruns/30years/SL_data_once/{landcover_idx}landcover_{percentile}/{location}_climate_cut'

    # Get all folders together
    ls_ = os.listdir(climatepath)
    ls = [d for d in ls_ if not d.startswith('.')]
    
    # Run the model for each folder
    for d in ls:
        path = os.path.join(climatepath, d)
        if path.endswith('.csv'):
            continue
        # Change to the folder path and run the model
        os.chdir(path)
        run()
        # Return to the original directory
        os.chdir(dir0)

    print(f"Processed landcover index {landcover_idx}")
























%%time
# List of landcover indices
landcover_indices = [1, 2, 3, 4, 5]

location = 'mustang'
percentile = '20percent'

# Store the original working directory
dir0 = os.getcwd()

# Loop over each landcover index
for landcover_idx in landcover_indices:
    climatepath = f'/Users/varyabazilova/Desktop/paper2/202406_modelruns/30years/SL_data_once/{landcover_idx}landcover_{percentile}/{location}_climate_cut'

    # Get all folders together
    ls_ = os.listdir(climatepath)
    ls = [d for d in ls_ if not d.startswith('.')]
    
    # Run the model for each folder
    for d in ls:
        path = os.path.join(climatepath, d)
        if path.endswith('.csv'):
            continue
        # Change to the folder path and run the model
        os.chdir(path)
        run()
        # Return to the original directory
        os.chdir(dir0)

    print(f"Processed landcover index {landcover_idx}")



%%time
# List of landcover indices
landcover_indices = [1, 2, 3, 4, 5]

location = 'mustang'
percentile = '30percent'

# Store the original working directory
dir0 = os.getcwd()

# Loop over each landcover index
for landcover_idx in landcover_indices:
    climatepath = f'/Users/varyabazilova/Desktop/paper2/202406_modelruns/30years/SL_data_once/{landcover_idx}landcover_{percentile}/{location}_climate_cut'

    # Get all folders together
    ls_ = os.listdir(climatepath)
    ls = [d for d in ls_ if not d.startswith('.')]
    
    # Run the model for each folder
    for d in ls:
        path = os.path.join(climatepath, d)
        if path.endswith('.csv'):
            continue
        # Change to the folder path and run the model
        os.chdir(path)
        run()
        # Return to the original directory
        os.chdir(dir0)

    print(f"Processed landcover index {landcover_idx}")
























%%time
# List of landcover indices
landcover_indices = [1, 2, 3, 4, 5]

location = 'mustang'
percentile = '40percent'

# Store the original working directory
dir0 = os.getcwd()

# Loop over each landcover index
for landcover_idx in landcover_indices:
    climatepath = f'/Users/varyabazilova/Desktop/paper2/202406_modelruns/30years/SL_data_once/{landcover_idx}landcover_{percentile}/{location}_climate_cut'

    # Get all folders together
    ls_ = os.listdir(climatepath)
    ls = [d for d in ls_ if not d.startswith('.')]
    
    # Run the model for each folder
    for d in ls:
        path = os.path.join(climatepath, d)
        if path.endswith('.csv'):
            continue
        # Change to the folder path and run the model
        os.chdir(path)
        run()
        # Return to the original directory
        os.chdir(dir0)

    print(f"Processed landcover index {landcover_idx}")



%%time
# List of landcover indices
landcover_indices = [1, 2, 3, 4, 5]

location = 'mustang'
percentile = '50percent'

# Store the original working directory
dir0 = os.getcwd()

# Loop over each landcover index
for landcover_idx in landcover_indices:
    climatepath = f'/Users/varyabazilova/Desktop/paper2/202406_modelruns/30years/SL_data_once/{landcover_idx}landcover_{percentile}/{location}_climate_cut'

    # Get all folders together
    ls_ = os.listdir(climatepath)
    ls = [d for d in ls_ if not d.startswith('.')]
    
    # Run the model for each folder
    for d in ls:
        path = os.path.join(climatepath, d)
        if path.endswith('.csv'):
            continue
        # Change to the folder path and run the model
        os.chdir(path)
        run()
        # Return to the original directory
        os.chdir(dir0)

    print(f"Processed landcover index {landcover_idx}")












%%time
# List of landcover indices
landcover_indices = [1, 2, 3, 4, 5]

location = 'mustang'
percentile = '60percent'

# Store the original working directory
dir0 = os.getcwd()

# Loop over each landcover index
for landcover_idx in landcover_indices:
    climatepath = f'/Users/varyabazilova/Desktop/paper2/202406_modelruns/30years/SL_data_once/{landcover_idx}landcover_{percentile}/{location}_climate_cut'

    # Get all folders together
    ls_ = os.listdir(climatepath)
    ls = [d for d in ls_ if not d.startswith('.')]
    
    # Run the model for each folder
    for d in ls:
        path = os.path.join(climatepath, d)
        if path.endswith('.csv'):
            continue
        # Change to the folder path and run the model
        os.chdir(path)
        run()
        # Return to the original directory
        os.chdir(dir0)

    print(f"Processed landcover index {landcover_idx}")































