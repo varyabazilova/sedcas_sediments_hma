import os
import pandas as pd
import matplotlib.pyplot as plt


# modelling part
from run import run







%%time

# ----------- LANGTANG ------------

# climatepath = '/Users/varyabazilova/Desktop/paper2/202406_modelruns/30years/SL_daily/1landcover_mean/langtang_climate_cut'
# climatepath = '/Users/varyabazilova/Desktop/paper2/202406_modelruns/30years/SL_daily/1landcover_mean/langtang_climate_cut'

climatepath = '/Volumes/Extreme SSD/202409_paper2_modelruns/30years/SL_once/4landcover_mean/mustang_climate_cut'
# get all folders togetehr 

ls_ = os.listdir(climatepath)
ls = [d for d in ls_ if not d.startswith('.')]
dir0 = os.getcwd()
# print(dir0)
# run the model for each
for d in ls:
    # path = os.path.join(dir0, '30years/SL_daily/1landcover_mean/langtang_climate_cut', d)
    path = os.path.join(climatepath, d)
    if path.endswith('.csv'):
        continue
    if path.startswith('.'):
        continue
    # print(path)
    os.chdir(path)
    run()
    os.chdir(dir0)



'''
%%time
# ----------- BAGROT ------------ NO CALCULATIONS MADE FOR BAGROT

climatepath = '/Users/varyabazilova/Desktop/paper2/202406_modelruns/30years/1landcover/bagrot_climate_cut'

# get all folders togetehr 
# ls_ = os.listdir('./langtang')
ls_ = os.listdir(climatepath)
ls = [d for d in ls_ if not d.startswith('.')]
dir0 = os.getcwd()
# print(dir0)
# run the model for each
for d in ls:
    path = os.path.join(dir0, '30years/1landcover/bagrot_climate_cut', d)
    if path.endswith('.csv'):
        continue
    # print(path)
    os.chdir(path)
    run()
    os.chdir(dir0)
'''


%%time
# ----------- MUSTANG ------------
# climatepath = '/Users/varyabazilova/Desktop/paper2/202406_modelruns/30years/1landcover/mustang_climate_cut'
climatepath = '/Users/varyabazilova/Desktop/paper2/202406_modelruns/30years/SL_daily/1landcover_mean/mustang_climate_cut'

# get all folders togetehr 
# ls_ = os.listdir('./langtang')
ls_ = os.listdir(climatepath)
ls = [d for d in ls_ if not d.startswith('.')]
dir0 = os.getcwd()
# print(dir0)
# run the model for each
for d in ls:
    path = os.path.join(dir0, '30years/SL_daily/1landcover_mean/mustang_climate_cut', d)
    if path.endswith('.csv'):
        continue
    # print(path)
    os.chdir(path)
    run()
    os.chdir(dir0)







