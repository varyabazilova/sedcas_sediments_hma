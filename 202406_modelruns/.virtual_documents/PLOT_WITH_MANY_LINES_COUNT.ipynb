# code to plot the df count for different scenarious (aug2025)


import pandas as pd
import seaborn as sns
import matplotlib.pyplot as plt

import functions








# SL 
columns =['year', 'month', 'elevation', 'elevation_bin', 'id','dfs_count_20percent', 'dfs_count_30percent', 'dfs_count_40percent', 'dfs_count_50percent', 'dfs_count_60percent', 'dfspot_count']

sl_path = '/Users/varyabazilova/Desktop/paper2/202406_modelruns/30years/2025May_output/df_vs_floods/'

SL1 = pd.read_csv(sl_path + 'langtang_df_vs_floods_daily_landcover1.csv', index_col = 0)[columns]
SL2 = pd.read_csv(sl_path + 'langtang_df_vs_floods_daily_landcover2.csv', index_col = 0)[columns]
SL3 = pd.read_csv(sl_path + 'langtang_df_vs_floods_daily_landcover3.csv', index_col = 0)[columns]
SL4 = pd.read_csv(sl_path + 'langtang_df_vs_floods_daily_landcover4.csv', index_col = 0)[columns]
SL5 = pd.read_csv(sl_path + 'langtang_df_vs_floods_daily_landcover5.csv', index_col = 0)[columns]

SL1_mean_month = SL1.groupby(['elevation_bin', 'month']).mean().reset_index()
SL2_mean_month = SL2.groupby(['elevation_bin', 'month']).mean().reset_index()
SL3_mean_month = SL3.groupby(['elevation_bin', 'month']).mean().reset_index()
SL4_mean_month = SL4.groupby(['elevation_bin', 'month']).mean().reset_index()
SL5_mean_month = SL5.groupby(['elevation_bin', 'month']).mean().reset_index()












import pandas as pd
import seaborn as sns
import matplotlib.pyplot as plt

import functions


# SL 
columns =['year', 'month', 'elevation', 'elevation_bin', 'id','dfs_count_20percent', 'dfs_count_30percent', 'dfs_count_40percent', 'dfs_count_50percent', 'dfs_count_60percent', 'dfspot_count']

sl_path = '/Users/varyabazilova/Desktop/paper2/202406_modelruns/30years/2025May_output/df_vs_floods/'

SL1 = pd.read_csv(sl_path + 'langtang_df_vs_floods_daily_landcover1.csv', index_col = 0)[columns]
SL2 = pd.read_csv(sl_path + 'langtang_df_vs_floods_daily_landcover2.csv', index_col = 0)[columns]
SL3 = pd.read_csv(sl_path + 'langtang_df_vs_floods_daily_landcover3.csv', index_col = 0)[columns]
SL4 = pd.read_csv(sl_path + 'langtang_df_vs_floods_daily_landcover4.csv', index_col = 0)[columns]
SL5 = pd.read_csv(sl_path + 'langtang_df_vs_floods_daily_landcover5.csv', index_col = 0)[columns]

SL1_mean_month = SL1.groupby(['elevation_bin', 'month']).mean().reset_index()
SL2_mean_month = SL2.groupby(['elevation_bin', 'month']).mean().reset_index()
SL3_mean_month = SL3.groupby(['elevation_bin', 'month']).mean().reset_index()
SL4_mean_month = SL4.groupby(['elevation_bin', 'month']).mean().reset_index()
SL5_mean_month = SL5.groupby(['elevation_bin', 'month']).mean().reset_index()

# Create figure with 5 subplots (one for each landcover)
fig, axes = plt.subplots(1, 5, figsize=(20, 4), sharey=True)
fig.suptitle('Debris Flow Count by Landcover and Sediment Input Percentage', fontsize=16, y=1.02)

# Landcover data and labels
landcover_data = [SL1_mean_month, SL2_mean_month, SL3_mean_month, SL4_mean_month, SL5_mean_month]
landcover_labels = ['Landcover 1', 'Landcover 2', 'Landcover 3', 'Landcover 4', 'Landcover 5']

# Percentage columns and colors
percentages = ['20percent', '30percent', '40percent', '50percent', '60percent']
colors = ['#1f77b4', '#ff7f0e', '#2ca02c', '#d62728', '#9467bd']  # Different colors for each percentage

# Create plots for each landcover

for i, (data, label) in enumerate(zip(landcover_data, landcover_labels)):
    ax = axes[i]
    
    # Group by month only (average across elevation bins)
    monthly_means = data.groupby('month').mean()
    
    # Plot each percentage as a line
    for j, (pct, color) in enumerate(zip(percentages, colors)):
        col_name = f'dfs_count_{pct}'
        if col_name in monthly_means.columns:
            ax.plot(monthly_means.index, monthly_means[col_name], 
                   color=color, marker='o', linewidth=2, markersize=4,
                   label=f'{pct.replace("percent", "%")}')
    
    # Plot dfspot_count as a dashed line
    if 'dfspot_count' in monthly_means.columns:
        ax.plot(monthly_means.index, monthly_means['dfspot_count'], 
               color='black', marker='s', linewidth=2, markersize=4,
               linestyle='--', label='DFspot', alpha=0.8)
    
    # Customize subplot
    ax.set_title(label, fontsize=12)
    ax.set_xlabel('Month', fontsize=10)
    ax.set_xticks(range(1, 13))
    ax.set_xticklabels(['J', 'F', 'M', 'A', 'M', 'J', 'J', 'A', 'S', 'O', 'N', 'D'])
    ax.grid(True, alpha=0.3)
    
    # Add legend only to first subplot
    if i == 0:
        ax.set_ylabel('Mean Monthly DF Count', fontsize=10)
        ax.legend(bbox_to_anchor=(0, 1), loc='upper left', fontsize=9)

# Adjust layout
plt.tight_layout()
plt.show()


import pandas as pd
import seaborn as sns
import matplotlib.pyplot as plt

import functions


# SL - Langtang
columns =['year', 'month', 'elevation', 'elevation_bin', 'id','dfs_count_20percent', 'dfs_count_30percent', 'dfs_count_40percent', 'dfs_count_50percent', 'dfs_count_60percent', 'dfspot_count']

sl_path = '/Users/varyabazilova/Desktop/paper2/202406_modelruns/30years/2025May_output/df_vs_floods/'

# Langtang data
SL1_LT = pd.read_csv(sl_path + 'langtang_df_vs_floods_daily_landcover1.csv', index_col = 0)[columns]
SL2_LT = pd.read_csv(sl_path + 'langtang_df_vs_floods_daily_landcover2.csv', index_col = 0)[columns]
SL3_LT = pd.read_csv(sl_path + 'langtang_df_vs_floods_daily_landcover3.csv', index_col = 0)[columns]
SL4_LT = pd.read_csv(sl_path + 'langtang_df_vs_floods_daily_landcover4.csv', index_col = 0)[columns]
SL5_LT = pd.read_csv(sl_path + 'langtang_df_vs_floods_daily_landcover5.csv', index_col = 0)[columns]

# Mustang data
SL1_MT = pd.read_csv(sl_path + 'mustang_df_vs_floods_daily_landcover1.csv', index_col = 0)[columns]
SL2_MT = pd.read_csv(sl_path + 'mustang_df_vs_floods_daily_landcover2.csv', index_col = 0)[columns]
SL3_MT = pd.read_csv(sl_path + 'mustang_df_vs_floods_daily_landcover3.csv', index_col = 0)[columns]
SL4_MT = pd.read_csv(sl_path + 'mustang_df_vs_floods_daily_landcover4.csv', index_col = 0)[columns]
SL5_MT = pd.read_csv(sl_path + 'mustang_df_vs_floods_daily_landcover5.csv', index_col = 0)[columns]

# Langtang monthly means
SL1_LT_mean_month = SL1_LT.groupby(['elevation_bin', 'month']).mean().reset_index()
SL2_LT_mean_month = SL2_LT.groupby(['elevation_bin', 'month']).mean().reset_index()
SL3_LT_mean_month = SL3_LT.groupby(['elevation_bin', 'month']).mean().reset_index()
SL4_LT_mean_month = SL4_LT.groupby(['elevation_bin', 'month']).mean().reset_index()
SL5_LT_mean_month = SL5_LT.groupby(['elevation_bin', 'month']).mean().reset_index()

# Mustang monthly means
SL1_MT_mean_month = SL1_MT.groupby(['elevation_bin', 'month']).mean().reset_index()
SL2_MT_mean_month = SL2_MT.groupby(['elevation_bin', 'month']).mean().reset_index()
SL3_MT_mean_month = SL3_MT.groupby(['elevation_bin', 'month']).mean().reset_index()
SL4_MT_mean_month = SL4_MT.groupby(['elevation_bin', 'month']).mean().reset_index()
SL5_MT_mean_month = SL5_MT.groupby(['elevation_bin', 'month']).mean().reset_index()

# Create figure with 2 rows x 5 columns (Langtang top, Mustang bottom)
fig, axes = plt.subplots(2, 5, figsize=(20, 8), sharey=False)
fig.suptitle('Debris Flow Count by Location, Landcover and Sediment Input Percentage', fontsize=16, y=0.98)

# Data and labels for both locations
langtang_data = [SL1_LT_mean_month, SL2_LT_mean_month, SL3_LT_mean_month, SL4_LT_mean_month, SL5_LT_mean_month]
mustang_data = [SL1_MT_mean_month, SL2_MT_mean_month, SL3_MT_mean_month, SL4_MT_mean_month, SL5_MT_mean_month]
landcover_labels = ['Landcover 1', 'Landcover 2', 'Landcover 3', 'Landcover 4', 'Landcover 5']
location_labels = ['Langtang', 'Mustang']

# Percentage columns and colors
percentages = ['20percent', '30percent', '40percent', '50percent', '60percent']
colors = ['#1f77b4', '#ff7f0e', '#2ca02c', '#d62728', '#9467bd']  # Different colors for each percentage

# Create plots for both locations and all landcovers
for row, (location_data, location_label) in enumerate(zip([langtang_data, mustang_data], location_labels)):
    for col, (data, landcover_label) in enumerate(zip(location_data, landcover_labels)):
        ax = axes[row, col]
        
        # Group by month only (average across elevation bins)
        monthly_means = data.groupby('month').mean()
        
        # Plot each percentage as a line
        for j, (pct, color) in enumerate(zip(percentages, colors)):
            col_name = f'dfs_count_{pct}'
            if col_name in monthly_means.columns:
                ax.plot(monthly_means.index, monthly_means[col_name], 
                       color=color, marker='o', linewidth=2, markersize=4,
                       label=f'{pct.replace("percent", "%")}')
        
        # Plot dfspot_count as a dashed line
        if 'dfspot_count' in monthly_means.columns:
            ax.plot(monthly_means.index, monthly_means['dfspot_count'], 
                   color='black', marker='s', linewidth=2, markersize=4,
                   linestyle='--', label='DFspot', alpha=0.8)
        
        # Customize subplot
        if row == 0:  # Top row - add landcover labels
            ax.set_title(landcover_label, fontsize=12)
        if col == 0:  # Left column - add location labels and y-axis
            ax.set_ylabel(f'{location_label}\nMean Monthly DF Count', fontsize=10)
        if row == 1:  # Bottom row - add x-axis labels
            ax.set_xlabel('Month', fontsize=10)
        
        ax.set_xticks(range(1, 13))
        # ax.set_xticklabels(['J', 'F', 'M', 'A', 'M', 'J', 'J', 'A', 'S', 'O', 'N', 'D'])
        ax.grid(True, alpha=0.3)
        
        # Add legend only to top-left subplot
        if row == 0 and col == 0:
            ax.legend(bbox_to_anchor=(0, 1), loc='upper left', fontsize=9)
        
        # Set different y-axis limits for Mustang (bottom row)
        if row == 1:  # Mustang row
            ax.set_ylim(0, 1.5)

# Adjust layout
plt.tight_layout()
plt.show()


import pandas as pd
import seaborn as sns
import matplotlib.pyplot as plt

import functions


# SL - Langtang
columns =['year', 'month', 'elevation', 'elevation_bin', 'id','dfs_count_20percent', 'dfs_count_30percent', 'dfs_count_40percent', 'dfs_count_50percent', 'dfs_count_60percent', 'dfspot_count']

sl_path = '/Users/varyabazilova/Desktop/paper2/202406_modelruns/30years/2025May_output/df_vs_floods/'

# Langtang data
SL1_LT = pd.read_csv(sl_path + 'langtang_df_vs_floods_daily_landcover1.csv', index_col = 0)[columns]
SL2_LT = pd.read_csv(sl_path + 'langtang_df_vs_floods_daily_landcover2.csv', index_col = 0)[columns]
SL3_LT = pd.read_csv(sl_path + 'langtang_df_vs_floods_daily_landcover3.csv', index_col = 0)[columns]
SL4_LT = pd.read_csv(sl_path + 'langtang_df_vs_floods_daily_landcover4.csv', index_col = 0)[columns]
SL5_LT = pd.read_csv(sl_path + 'langtang_df_vs_floods_daily_landcover5.csv', index_col = 0)[columns]

# Mustang data
SL1_MT = pd.read_csv(sl_path + 'mustang_df_vs_floods_daily_landcover1.csv', index_col = 0)[columns]
SL2_MT = pd.read_csv(sl_path + 'mustang_df_vs_floods_daily_landcover2.csv', index_col = 0)[columns]
SL3_MT = pd.read_csv(sl_path + 'mustang_df_vs_floods_daily_landcover3.csv', index_col = 0)[columns]
SL4_MT = pd.read_csv(sl_path + 'mustang_df_vs_floods_daily_landcover4.csv', index_col = 0)[columns]
SL5_MT = pd.read_csv(sl_path + 'mustang_df_vs_floods_daily_landcover5.csv', index_col = 0)[columns]

# Langtang monthly means
SL1_LT_mean_month = SL1_LT.groupby(['elevation_bin', 'month']).mean().reset_index()
SL2_LT_mean_month = SL2_LT.groupby(['elevation_bin', 'month']).mean().reset_index()
SL3_LT_mean_month = SL3_LT.groupby(['elevation_bin', 'month']).mean().reset_index()
SL4_LT_mean_month = SL4_LT.groupby(['elevation_bin', 'month']).mean().reset_index()
SL5_LT_mean_month = SL5_LT.groupby(['elevation_bin', 'month']).mean().reset_index()

# Mustang monthly means
SL1_MT_mean_month = SL1_MT.groupby(['elevation_bin', 'month']).mean().reset_index()
SL2_MT_mean_month = SL2_MT.groupby(['elevation_bin', 'month']).mean().reset_index()
SL3_MT_mean_month = SL3_MT.groupby(['elevation_bin', 'month']).mean().reset_index()
SL4_MT_mean_month = SL4_MT.groupby(['elevation_bin', 'month']).mean().reset_index()
SL5_MT_mean_month = SL5_MT.groupby(['elevation_bin', 'month']).mean().reset_index()

# Create figure with 2 rows x 5 columns (Langtang top, Mustang bottom)
fig, axes = plt.subplots(2, 5, figsize=(20, 8), sharey=False)
fig.suptitle('Debris Flow Count by Location, Landcover and Sediment Input Percentage', fontsize=16, y=0.98)

# Data and labels for both locations
langtang_data = [SL1_LT_mean_month, SL2_LT_mean_month, SL3_LT_mean_month, SL4_LT_mean_month, SL5_LT_mean_month]
mustang_data = [SL1_MT_mean_month, SL2_MT_mean_month, SL3_MT_mean_month, SL4_MT_mean_month, SL5_MT_mean_month]
landcover_labels = ['Landcover 1', 'Landcover 2', 'Landcover 3', 'Landcover 4', 'Landcover 5']
location_labels = ['Langtang', 'Mustang']

# Percentage columns and colors
percentages = ['20percent', '30percent', '40percent', '50percent', '60percent']
colors = ['#1f77b4', '#ff7f0e', '#2ca02c', '#d62728', '#9467bd']  # Different colors for each percentage

# Create plots for both locations and all landcovers
for row, (location_data, location_label) in enumerate(zip([langtang_data, mustang_data], location_labels)):
    for col, (data, landcover_label) in enumerate(zip(location_data, landcover_labels)):
        ax = axes[row, col]
        
        # Group by month only (average across elevation bins)
        monthly_means = data.groupby('month').mean()
        
        # Plot each percentage as a line
        for j, (pct, color) in enumerate(zip(percentages, colors)):
            col_name = f'dfs_count_{pct}'
            if col_name in monthly_means.columns:
                ax.plot(monthly_means.index, monthly_means[col_name], 
                       color=color, marker='o', linewidth=2, markersize=4,
                       label=f'{pct.replace("percent", "%")}')
        
        # Plot dfspot_count as a dashed line
        if 'dfspot_count' in monthly_means.columns:
            ax.plot(monthly_means.index, monthly_means['dfspot_count'], 
                   color='black', marker='s', linewidth=2, markersize=4,
                   linestyle='--', label='DFspot', alpha=0.8)
        
        # Add light grey background for May-September (months 5-9)
        ax.axvspan(5, 9, alpha=0.2, color='lightgrey', zorder=0)
        
        # Customize subplot
        if row == 0:  # Top row - add landcover labels
            ax.set_title(landcover_label, fontsize=12)
        if col == 0:  # Left column - add location labels and y-axis
            ax.set_ylabel(f'{location_label}\nMean Monthly DF Count', fontsize=10)
        if row == 1:  # Bottom row - add x-axis labels
            ax.set_xlabel('Month', fontsize=10)
        
        ax.set_xticks(range(1, 13))
        ax.set_xticklabels(['J', 'F', 'M', 'A', 'M', 'J', 'J', 'A', 'S', 'O', 'N', 'D'])
        ax.grid(True, alpha=0.3)
        
        # Add legend only to top-left subplot
        if row == 0 and col == 0:
            # Get handles and labels, then reverse the order
            handles, labels = ax.get_legend_handles_labels()
            ax.legend(handles[::-1], labels[::-1], bbox_to_anchor=(0, 1), loc='upper left', fontsize=9)
        
        # Set different y-axis limits for Mustang (bottom row)
        if row == 1:  # Mustang row
            ax.set_ylim(0, 1.5)

# Adjust layout
plt.tight_layout()
plt.show()


import pandas as pd
import seaborn as sns
import matplotlib.pyplot as plt

import functions


# SL - Langtang
columns =['year', 'month', 'elevation', 'elevation_bin', 'id','dfs_count_20percent', 'dfs_count_30percent', 'dfs_count_40percent', 'dfs_count_50percent', 'dfs_count_60percent', 'dfspot_count']

sl_path = '/Users/varyabazilova/Desktop/paper2/202406_modelruns/30years/2025May_output/df_vs_floods/'

# Langtang data
SL1_LT = pd.read_csv(sl_path + 'langtang_df_vs_floods_once_landcover1.csv', index_col = 0)[columns]
SL2_LT = pd.read_csv(sl_path + 'langtang_df_vs_floods_once_landcover2.csv', index_col = 0)[columns]
SL3_LT = pd.read_csv(sl_path + 'langtang_df_vs_floods_once_landcover3.csv', index_col = 0)[columns]
SL4_LT = pd.read_csv(sl_path + 'langtang_df_vs_floods_once_landcover4.csv', index_col = 0)[columns]
SL5_LT = pd.read_csv(sl_path + 'langtang_df_vs_floods_once_landcover5.csv', index_col = 0)[columns]

# Mustang data
SL1_MT = pd.read_csv(sl_path + 'mustang_df_vs_floods_once_landcover1.csv', index_col = 0)[columns]
SL2_MT = pd.read_csv(sl_path + 'mustang_df_vs_floods_once_landcover2.csv', index_col = 0)[columns]
SL3_MT = pd.read_csv(sl_path + 'mustang_df_vs_floods_once_landcover3.csv', index_col = 0)[columns]
SL4_MT = pd.read_csv(sl_path + 'mustang_df_vs_floods_once_landcover4.csv', index_col = 0)[columns]
SL5_MT = pd.read_csv(sl_path + 'mustang_df_vs_floods_once_landcover5.csv', index_col = 0)[columns]

# Langtang monthly means
SL1_LT_mean_month = SL1_LT.groupby(['elevation_bin', 'month']).mean().reset_index()
SL2_LT_mean_month = SL2_LT.groupby(['elevation_bin', 'month']).mean().reset_index()
SL3_LT_mean_month = SL3_LT.groupby(['elevation_bin', 'month']).mean().reset_index()
SL4_LT_mean_month = SL4_LT.groupby(['elevation_bin', 'month']).mean().reset_index()
SL5_LT_mean_month = SL5_LT.groupby(['elevation_bin', 'month']).mean().reset_index()

# Mustang monthly means
SL1_MT_mean_month = SL1_MT.groupby(['elevation_bin', 'month']).mean().reset_index()
SL2_MT_mean_month = SL2_MT.groupby(['elevation_bin', 'month']).mean().reset_index()
SL3_MT_mean_month = SL3_MT.groupby(['elevation_bin', 'month']).mean().reset_index()
SL4_MT_mean_month = SL4_MT.groupby(['elevation_bin', 'month']).mean().reset_index()
SL5_MT_mean_month = SL5_MT.groupby(['elevation_bin', 'month']).mean().reset_index()

# Create figure with 2 rows x 5 columns (Langtang top, Mustang bottom)
fig, axes = plt.subplots(2, 5, figsize=(20, 8), sharey=False)
fig.suptitle('Debris Flow Count by Location, Landcover and Sediment Input Percentage', fontsize=16, y=0.98)

# Data and labels for both locations
langtang_data = [SL1_LT_mean_month, SL2_LT_mean_month, SL3_LT_mean_month, SL4_LT_mean_month, SL5_LT_mean_month]
mustang_data = [SL1_MT_mean_month, SL2_MT_mean_month, SL3_MT_mean_month, SL4_MT_mean_month, SL5_MT_mean_month]
landcover_labels = ['Landcover 1', 'Landcover 2', 'Landcover 3', 'Landcover 4', 'Landcover 5']
location_labels = ['Langtang', 'Mustang']

# Percentage columns and colors
percentages = ['20percent', '30percent', '40percent', '50percent', '60percent']
colors = ['#1f77b4', '#ff7f0e', '#2ca02c', '#d62728', '#9467bd']  # Different colors for each percentage

# Create plots for both locations and all landcovers
for row, (location_data, location_label) in enumerate(zip([langtang_data, mustang_data], location_labels)):
    for col, (data, landcover_label) in enumerate(zip(location_data, landcover_labels)):
        ax = axes[row, col]
        
        # Group by month only (average across elevation bins)
        monthly_means = data.groupby('month').mean()
        
        # Plot each percentage as a line
        for j, (pct, color) in enumerate(zip(percentages, colors)):
            col_name = f'dfs_count_{pct}'
            if col_name in monthly_means.columns:
                ax.plot(monthly_means.index, monthly_means[col_name], 
                       color=color, marker='o', linewidth=2, markersize=4,
                       label=f'{pct.replace("percent", "%")}')
        
        # Plot dfspot_count as a dashed line
        if 'dfspot_count' in monthly_means.columns:
            ax.plot(monthly_means.index, monthly_means['dfspot_count'], 
                   color='black', marker='s', linewidth=2, markersize=4,
                   linestyle='--', label='DFspot', alpha=0.8)
        
        # Add light grey background for May-September (months 5-9)
        ax.axvspan(5, 9, alpha=0.2, color='lightgrey', zorder=0)
        
        # Customize subplot
        if row == 0:  # Top row - add landcover labels
            ax.set_title(landcover_label, fontsize=12)
        if col == 0:  # Left column - add location labels and y-axis
            ax.set_ylabel(f'{location_label}\nMean Monthly DF Count', fontsize=10)
        if row == 1:  # Bottom row - add x-axis labels
            ax.set_xlabel('Month', fontsize=10)
        
        ax.set_xticks(range(1, 13))
        ax.set_xticklabels(['J', 'F', 'M', 'A', 'M', 'J', 'J', 'A', 'S', 'O', 'N', 'D'])
        ax.grid(True, alpha=0.3)
        
        # Add legend only to top-left subplot
        if row == 0 and col == 0:
            # Get handles and labels, then reverse the order
            handles, labels = ax.get_legend_handles_labels()
            ax.legend(handles[::-1], labels[::-1], bbox_to_anchor=(0, 1), loc='upper left', fontsize=9)
        
        # Set different y-axis limits for Mustang (bottom row)
        if row == 1:  # Mustang row
            ax.set_ylim(0, 1.5)

# Adjust layout
plt.tight_layout()
plt.show()





# SL 
columns =['year', 'month', 'elevation', 'elevation_bin', 'id','dfs_count_20percent', 'dfs_count_30percent', 'dfs_count_40percent', 'dfs_count_50percent', 'dfs_count_60percent', 'dfspot_count']

sl_path = '/Users/varyabazilova/Desktop/paper2/202406_modelruns/30years/2025May_output/df_vs_floods/'

SL1 = pd.read_csv(sl_path + 'langtang_df_vs_floods_daily_landcover1.csv', index_col = 0)[columns]
# SL2 = pd.read_csv(sl_path + 'langtang_df_vs_floods_daily_landcover2.csv', index_col = 0)[columns]
# SL3 = pd.read_csv(sl_path + 'langtang_df_vs_floods_daily_landcover3.csv', index_col = 0)[columns]
# SL4 = pd.read_csv(sl_path + 'langtang_df_vs_floods_daily_landcover4.csv', index_col = 0)[columns]
# SL5 = pd.read_csv(sl_path + 'langtang_df_vs_floods_daily_landcover5.csv', index_col = 0)[columns]

SL1_mean_month = SL1.groupby(['elevation_bin', 'month']).mean().reset_index()
# SL2_mean_month = SL2.groupby(['elevation_bin', 'month']).mean().reset_index()
# SL3_mean_month = SL3.groupby(['elevation_bin', 'month']).mean().reset_index()
# SL4_mean_month = SL4.groupby(['elevation_bin', 'month']).mean().reset_index()
# SL5_mean_month = SL5.groupby(['elevation_bin', 'month']).mean().reset_index()



SL1_mean_month.elevation_bin.unique()


import pandas as pd
import matplotlib.pyplot as plt

# Load data
columns = ['year', 'month', 'elevation', 'elevation_bin', 'id','dfs_count_20percent', 'dfs_count_30percent', 'dfs_count_40percent', 'dfs_count_50percent', 'dfs_count_60percent', 'dfspot_count']
sl_path = '/Users/varyabazilova/Desktop/paper2/202406_modelruns/30years/2025May_output/df_vs_floods/'

# Load one dataset as example (can be modified to load others)
SL1_LT_daily = pd.read_csv(sl_path + 'langtang_df_vs_floods_daily_landcover2.csv', index_col=0)[columns]

# Group by elevation_bin and month
SL1_mean_month = SL1_LT_daily.groupby(['elevation_bin', 'month']).mean().reset_index()

# Filter data for each elevation bin
elev_2500 = SL1_mean_month[SL1_mean_month['elevation_bin'] == 2500]
elev_3000 = SL1_mean_month[SL1_mean_month['elevation_bin'] == 3000]
elev_3500 = SL1_mean_month[SL1_mean_month['elevation_bin'] == 3500]
elev_4000 = SL1_mean_month[SL1_mean_month['elevation_bin'] == 4000]
elev_4500 = SL1_mean_month[SL1_mean_month['elevation_bin'] == 4500]
elev_5000 = SL1_mean_month[SL1_mean_month['elevation_bin'] == 5000]
elev_5500 = SL1_mean_month[SL1_mean_month['elevation_bin'] == 5500]
elev_6000 = SL1_mean_month[SL1_mean_month['elevation_bin'] == 6000]

# Create figure with 8 subplots
fig, (ax1, ax2, ax3, ax4, ax5, ax6, ax7, ax8) = plt.subplots(8, 1, figsize=(10, 16), sharex=True, sharey=True)
fig.suptitle('Langtang Daily Landcover 1: Debris Flow Count by Elevation and Month', fontsize=14, y=0.98)

# Colors
colors = ['#1f77b4', '#ff7f0e', '#2ca02c', '#d62728', '#9467bd']

# Plot 2500m elevation
ax1.plot(elev_2500['month'], elev_2500['dfs_count_20percent'], color=colors[0], marker='o', linewidth=2, markersize=4, label='20%')
ax1.plot(elev_2500['month'], elev_2500['dfs_count_30percent'], color=colors[1], marker='o', linewidth=2, markersize=4, label='30%')
ax1.plot(elev_2500['month'], elev_2500['dfs_count_40percent'], color=colors[2], marker='o', linewidth=2, markersize=4, label='40%')
ax1.plot(elev_2500['month'], elev_2500['dfs_count_50percent'], color=colors[3], marker='o', linewidth=2, markersize=4, label='50%')
ax1.plot(elev_2500['month'], elev_2500['dfs_count_60percent'], color=colors[4], marker='o', linewidth=2, markersize=4, label='60%')
ax1.plot(elev_2500['month'], elev_2500['dfspot_count'], color='black', marker='s', linewidth=2, markersize=4, linestyle='--', label='DFspot', alpha=0.8)
ax1.axvspan(5, 9, alpha=0.2, color='lightgrey', zorder=0)
ax1.set_ylabel('2500m\nDF Count', fontsize=10)
ax1.grid(True, alpha=0.3)
handles, labels = ax1.get_legend_handles_labels()
ax1.legend(handles[::-1], labels[::-1], bbox_to_anchor=(1.02, 1), loc='upper left', fontsize=9)

# Plot 3000m elevation
ax2.plot(elev_3000['month'], elev_3000['dfs_count_20percent'], color=colors[0], marker='o', linewidth=2, markersize=4)
ax2.plot(elev_3000['month'], elev_3000['dfs_count_30percent'], color=colors[1], marker='o', linewidth=2, markersize=4)
ax2.plot(elev_3000['month'], elev_3000['dfs_count_40percent'], color=colors[2], marker='o', linewidth=2, markersize=4)
ax2.plot(elev_3000['month'], elev_3000['dfs_count_50percent'], color=colors[3], marker='o', linewidth=2, markersize=4)
ax2.plot(elev_3000['month'], elev_3000['dfs_count_60percent'], color=colors[4], marker='o', linewidth=2, markersize=4)
ax2.plot(elev_3000['month'], elev_3000['dfspot_count'], color='black', marker='s', linewidth=2, markersize=4, linestyle='--', alpha=0.8)
ax2.axvspan(5, 9, alpha=0.2, color='lightgrey', zorder=0)
ax2.set_ylabel('3000m\nDF Count', fontsize=10)
ax2.grid(True, alpha=0.3)

# Plot 3500m elevation
ax3.plot(elev_3500['month'], elev_3500['dfs_count_20percent'], color=colors[0], marker='o', linewidth=2, markersize=4)
ax3.plot(elev_3500['month'], elev_3500['dfs_count_30percent'], color=colors[1], marker='o', linewidth=2, markersize=4)
ax3.plot(elev_3500['month'], elev_3500['dfs_count_40percent'], color=colors[2], marker='o', linewidth=2, markersize=4)
ax3.plot(elev_3500['month'], elev_3500['dfs_count_50percent'], color=colors[3], marker='o', linewidth=2, markersize=4)
ax3.plot(elev_3500['month'], elev_3500['dfs_count_60percent'], color=colors[4], marker='o', linewidth=2, markersize=4)
ax3.plot(elev_3500['month'], elev_3500['dfspot_count'], color='black', marker='s', linewidth=2, markersize=4, linestyle='--', alpha=0.8)
ax3.axvspan(5, 9, alpha=0.2, color='lightgrey', zorder=0)
ax3.set_ylabel('3500m\nDF Count', fontsize=10)
ax3.grid(True, alpha=0.3)

# Plot 4000m elevation
ax4.plot(elev_4000['month'], elev_4000['dfs_count_20percent'], color=colors[0], marker='o', linewidth=2, markersize=4)
ax4.plot(elev_4000['month'], elev_4000['dfs_count_30percent'], color=colors[1], marker='o', linewidth=2, markersize=4)
ax4.plot(elev_4000['month'], elev_4000['dfs_count_40percent'], color=colors[2], marker='o', linewidth=2, markersize=4)
ax4.plot(elev_4000['month'], elev_4000['dfs_count_50percent'], color=colors[3], marker='o', linewidth=2, markersize=4)
ax4.plot(elev_4000['month'], elev_4000['dfs_count_60percent'], color=colors[4], marker='o', linewidth=2, markersize=4)
ax4.plot(elev_4000['month'], elev_4000['dfspot_count'], color='black', marker='s', linewidth=2, markersize=4, linestyle='--', alpha=0.8)
ax4.axvspan(5, 9, alpha=0.2, color='lightgrey', zorder=0)
ax4.set_ylabel('4000m\nDF Count', fontsize=10)
ax4.grid(True, alpha=0.3)

# Plot 4500m elevation
ax5.plot(elev_4500['month'], elev_4500['dfs_count_20percent'], color=colors[0], marker='o', linewidth=2, markersize=4)
ax5.plot(elev_4500['month'], elev_4500['dfs_count_30percent'], color=colors[1], marker='o', linewidth=2, markersize=4)
ax5.plot(elev_4500['month'], elev_4500['dfs_count_40percent'], color=colors[2], marker='o', linewidth=2, markersize=4)
ax5.plot(elev_4500['month'], elev_4500['dfs_count_50percent'], color=colors[3], marker='o', linewidth=2, markersize=4)
ax5.plot(elev_4500['month'], elev_4500['dfs_count_60percent'], color=colors[4], marker='o', linewidth=2, markersize=4)
ax5.plot(elev_4500['month'], elev_4500['dfspot_count'], color='black', marker='s', linewidth=2, markersize=4, linestyle='--', alpha=0.8)
ax5.axvspan(5, 9, alpha=0.2, color='lightgrey', zorder=0)
ax5.set_ylabel('4500m\nDF Count', fontsize=10)
ax5.grid(True, alpha=0.3)

# Plot 5000m elevation
ax6.plot(elev_5000['month'], elev_5000['dfs_count_20percent'], color=colors[0], marker='o', linewidth=2, markersize=4)
ax6.plot(elev_5000['month'], elev_5000['dfs_count_30percent'], color=colors[1], marker='o', linewidth=2, markersize=4)
ax6.plot(elev_5000['month'], elev_5000['dfs_count_40percent'], color=colors[2], marker='o', linewidth=2, markersize=4)
ax6.plot(elev_5000['month'], elev_5000['dfs_count_50percent'], color=colors[3], marker='o', linewidth=2, markersize=4)
ax6.plot(elev_5000['month'], elev_5000['dfs_count_60percent'], color=colors[4], marker='o', linewidth=2, markersize=4)
ax6.plot(elev_5000['month'], elev_5000['dfspot_count'], color='black', marker='s', linewidth=2, markersize=4, linestyle='--', alpha=0.8)
ax6.axvspan(5, 9, alpha=0.2, color='lightgrey', zorder=0)
ax6.set_ylabel('5000m\nDF Count', fontsize=10)
ax6.grid(True, alpha=0.3)

# Plot 5500m elevation
ax7.plot(elev_5500['month'], elev_5500['dfs_count_20percent'], color=colors[0], marker='o', linewidth=2, markersize=4)
ax7.plot(elev_5500['month'], elev_5500['dfs_count_30percent'], color=colors[1], marker='o', linewidth=2, markersize=4)
ax7.plot(elev_5500['month'], elev_5500['dfs_count_40percent'], color=colors[2], marker='o', linewidth=2, markersize=4)
ax7.plot(elev_5500['month'], elev_5500['dfs_count_50percent'], color=colors[3], marker='o', linewidth=2, markersize=4)
ax7.plot(elev_5500['month'], elev_5500['dfs_count_60percent'], color=colors[4], marker='o', linewidth=2, markersize=4)
ax7.plot(elev_5500['month'], elev_5500['dfspot_count'], color='black', marker='s', linewidth=2, markersize=4, linestyle='--', alpha=0.8)
ax7.axvspan(5, 9, alpha=0.2, color='lightgrey', zorder=0)
ax7.set_ylabel('5500m\nDF Count', fontsize=10)
ax7.grid(True, alpha=0.3)

# Plot 6000m elevation
ax8.plot(elev_6000['month'], elev_6000['dfs_count_20percent'], color=colors[0], marker='o', linewidth=2, markersize=4)
ax8.plot(elev_6000['month'], elev_6000['dfs_count_30percent'], color=colors[1], marker='o', linewidth=2, markersize=4)
ax8.plot(elev_6000['month'], elev_6000['dfs_count_40percent'], color=colors[2], marker='o', linewidth=2, markersize=4)
ax8.plot(elev_6000['month'], elev_6000['dfs_count_50percent'], color=colors[3], marker='o', linewidth=2, markersize=4)
ax8.plot(elev_6000['month'], elev_6000['dfs_count_60percent'], color=colors[4], marker='o', linewidth=2, markersize=4)
ax8.plot(elev_6000['month'], elev_6000['dfspot_count'], color='black', marker='s', linewidth=2, markersize=4, linestyle='--', alpha=0.8)
ax8.axvspan(5, 9, alpha=0.2, color='lightgrey', zorder=0)
ax8.set_ylabel('6000m\nDF Count', fontsize=10)
ax8.grid(True, alpha=0.3)

# Set x-axis labels only on bottom subplot
ax8.set_xlabel('Month', fontsize=11)
ax8.set_xticks(range(1, 13))
ax8.set_xticklabels(['J', 'F', 'M', 'A', 'M', 'J', 'J', 'A', 'S', 'O', 'N', 'D'])

plt.tight_layout()

# # Save plot
# outpath = '/Users/varyabazilova/Desktop/paper2/202406_modelruns/processing_pipeline/testplots_by_claude/'
# plt.savefig(outpath + 'elevation_lines_SL1_langtang_daily.png', dpi=300, bbox_inches='tight')
# plt.show()


SL1_LT_daily.elevation_bin.unique()



