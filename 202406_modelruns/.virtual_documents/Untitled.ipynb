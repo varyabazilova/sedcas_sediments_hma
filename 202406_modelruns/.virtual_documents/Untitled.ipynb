import functions

import pandas as pd
import os





# define value to update the sediment input parameter
path = '/Users/varyabazilova/Desktop/paper2/202405_modelruns/3mustangTL/default_land_cover/'
sediment = pd.read_csv(path + 'default_land_cover_mustang_tl_percentiles_with_coords.csv')[['index', 'annual_25percent_Qstl_m3_day']].set_index('index')
















