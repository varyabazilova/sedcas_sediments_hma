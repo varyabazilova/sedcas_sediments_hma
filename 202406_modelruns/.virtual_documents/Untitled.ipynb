import matplotlib.pyplot as plt
import matplotlib.patches as patches

# Define colors for each section
colors = {
    "veg": "green",
    "bedrock": "gray",
    "ice": "lightblue"
}

# Titles and labels for each panel
titles = ["1", "2", "3", "4"]
labels = [
    "Veg., Ice & Bedrock",
    "Less Ice, More Bedrock",
    "Less Ice, More Veg.",
    "No Ice\n(Default)"
]

# Configuration for each panel
configs_final = [
    {"veg": 0.4, "bedrock": 0.4, "glacier": 0.2},  # Panel 1
    {"veg": 0.4, "bedrock": 0.5, "glacier": 0.1},  # Panel 2
    {"veg": 0.5, "bedrock": 0.4, "glacier": 0.1},  # Panel 3
    {"veg": 0.4, "bedrock": 0.6, "glacier": 0.0}   # Panel 4
]

# Create the figure and axes
fig, axes = plt.subplots(1, 4, figsize=(16, 4))

# Generate each panel
for ax, config, title, label in zip(axes, configs_final, titles, labels):
    ax.set_xlim(0, 1)
    ax.set_ylim(0, 1)
    ax.axis("off")

    # Draw vegetation rectangle
    ax.add_patch(patches.Rectangle((0, 0), config["veg"], 1, color=colors["veg"]))
    
    # Draw bedrock rectangle next to vegetation
    ax.add_patch(patches.Rectangle((config["veg"], 0), config["bedrock"], 1, color=colors["bedrock"]))
    
    # Draw glacier ellipse if present
    if config["glacier"] > 0:
        ax.add_patch(patches.Ellipse(
            (config["veg"] + config["bedrock"] - config["glacier"]/2, 0.5),
            config["glacier"], 0.5, color=colors["ice"]
        ))
    
    # Add titles and labels
    ax.set_title(f"Panel {title}", fontsize=14)
    ax.text(0.5, -0.1, label, ha='center', fontsize=12)

# Adjust layout and display the plot
plt.tight_layout()
plt.show()












import pandas as pd
import matplotlib.pyplot as plt


testfile = pd.read_csv('/Users/varyabazilova/Desktop/paper2/202406_modelruns/30years/TL_data/5landcover/langtang_climate_cut/12a/Hydro.out')
testfile


testfile.glacier_melt.plot()


landcover1= pd.read_csv('/Volumes/Extreme SSD/202409_paper2_modelruns/30years/SL_daily/1landcover_40percent/langtang_climate_cut/12a/Hydro.out')
landcover2= pd.read_csv('/Volumes/Extreme SSD/202409_paper2_modelruns/30years/SL_daily/2landcover_40percent/langtang_climate_cut/12a/Hydro.out')
landcover3= pd.read_csv('/Volumes/Extreme SSD/202409_paper2_modelruns/30years/SL_daily/3landcover_40percent/langtang_climate_cut/12a/Hydro.out')
landcover4= pd.read_csv('/Volumes/Extreme SSD/202409_paper2_modelruns/30years/SL_daily/4landcover_40percent/langtang_climate_cut/12a/Hydro.out')



landcover1



