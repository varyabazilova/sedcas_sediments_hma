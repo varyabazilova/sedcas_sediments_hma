# code to plot the df count for different scenarious (aug2025)


import pandas as pd
import seaborn as sns
import matplotlib.pyplot as plt

import functions








# SL 
columns =['year', 'month', 'elevation', 'elevation_bin', 'id','dfs_count_20percent', 'dfs_count_30percent', 'dfs_count_40percent', 'dfs_count_50percent', 'dfs_count_60percent', 'dfspot_count']

sl_path = '/Users/varyabazilova/Desktop/paper2/202406_modelruns/30years/2025May_output/df_vs_floods/'

SL1 = pd.read_csv(sl_path + 'langtang_df_vs_floods_daily_landcover1.csv', index_col = 0)[columns]
SL2 = pd.read_csv(sl_path + 'langtang_df_vs_floods_daily_landcover2.csv', index_col = 0)[columns]
SL3 = pd.read_csv(sl_path + 'langtang_df_vs_floods_daily_landcover3.csv', index_col = 0)[columns]
SL4 = pd.read_csv(sl_path + 'langtang_df_vs_floods_daily_landcover4.csv', index_col = 0)[columns]
SL5 = pd.read_csv(sl_path + 'langtang_df_vs_floods_daily_landcover5.csv', index_col = 0)[columns]

SL1_mean_month = SL1.groupby(['elevation_bin', 'month']).mean().reset_index()
SL2_mean_month = SL2.groupby(['elevation_bin', 'month']).mean().reset_index()
SL3_mean_month = SL3.groupby(['elevation_bin', 'month']).mean().reset_index()
SL4_mean_month = SL4.groupby(['elevation_bin', 'month']).mean().reset_index()
SL5_mean_month = SL5.groupby(['elevation_bin', 'month']).mean().reset_index()












import pandas as pd
import seaborn as sns
import matplotlib.pyplot as plt

import functions


# SL 
columns =['year', 'month', 'elevation', 'elevation_bin', 'id','dfs_count_20percent', 'dfs_count_30percent', 'dfs_count_40percent', 'dfs_count_50percent', 'dfs_count_60percent', 'dfspot_count']

sl_path = '/Users/varyabazilova/Desktop/paper2/202406_modelruns/30years/2025May_output/df_vs_floods/'

SL1 = pd.read_csv(sl_path + 'langtang_df_vs_floods_daily_landcover1.csv', index_col = 0)[columns]
SL2 = pd.read_csv(sl_path + 'langtang_df_vs_floods_daily_landcover2.csv', index_col = 0)[columns]
SL3 = pd.read_csv(sl_path + 'langtang_df_vs_floods_daily_landcover3.csv', index_col = 0)[columns]
SL4 = pd.read_csv(sl_path + 'langtang_df_vs_floods_daily_landcover4.csv', index_col = 0)[columns]
SL5 = pd.read_csv(sl_path + 'langtang_df_vs_floods_daily_landcover5.csv', index_col = 0)[columns]

SL1_mean_month = SL1.groupby(['elevation_bin', 'month']).mean().reset_index()
SL2_mean_month = SL2.groupby(['elevation_bin', 'month']).mean().reset_index()
SL3_mean_month = SL3.groupby(['elevation_bin', 'month']).mean().reset_index()
SL4_mean_month = SL4.groupby(['elevation_bin', 'month']).mean().reset_index()
SL5_mean_month = SL5.groupby(['elevation_bin', 'month']).mean().reset_index()

# Create figure with 5 subplots (one for each landcover)
fig, axes = plt.subplots(1, 5, figsize=(20, 4), sharey=True)
fig.suptitle('Debris Flow Count by Landcover and Sediment Input Percentage', fontsize=16, y=1.02)

# Landcover data and labels
landcover_data = [SL1_mean_month, SL2_mean_month, SL3_mean_month, SL4_mean_month, SL5_mean_month]
landcover_labels = ['Landcover 1', 'Landcover 2', 'Landcover 3', 'Landcover 4', 'Landcover 5']

# Percentage columns and colors
percentages = ['20percent', '30percent', '40percent', '50percent', '60percent']
colors = ['#1f77b4', '#ff7f0e', '#2ca02c', '#d62728', '#9467bd']  # Different colors for each percentage

# Create plots for each landcover

for i, (data, label) in enumerate(zip(landcover_data, landcover_labels)):
    ax = axes[i]
    
    # Group by month only (average across elevation bins)
    monthly_means = data.groupby('month').mean()
    
    # Plot each percentage as a line
    for j, (pct, color) in enumerate(zip(percentages, colors)):
        col_name = f'dfs_count_{pct}'
        if col_name in monthly_means.columns:
            ax.plot(monthly_means.index, monthly_means[col_name], 
                   color=color, marker='o', linewidth=2, markersize=4,
                   label=f'{pct.replace("percent", "%")}')
    
    # Plot dfspot_count as a dashed line
    if 'dfspot_count' in monthly_means.columns:
        ax.plot(monthly_means.index, monthly_means['dfspot_count'], 
               color='black', marker='s', linewidth=2, markersize=4,
               linestyle='--', label='DFspot', alpha=0.8)
    
    # Customize subplot
    ax.set_title(label, fontsize=12)
    ax.set_xlabel('Month', fontsize=10)
    ax.set_xticks(range(1, 13))
    ax.set_xticklabels(['J', 'F', 'M', 'A', 'M', 'J', 'J', 'A', 'S', 'O', 'N', 'D'])
    ax.grid(True, alpha=0.3)
    
    # Add legend only to first subplot
    if i == 0:
        ax.set_ylabel('Mean Monthly DF Count', fontsize=10)
        ax.legend(bbox_to_anchor=(0, 1), loc='upper left', fontsize=9)

# Adjust layout
plt.tight_layout()
plt.show()


import pandas as pd
import seaborn as sns
import matplotlib.pyplot as plt

import functions


# SL - Langtang
columns =['year', 'month', 'elevation', 'elevation_bin', 'id','dfs_count_20percent', 'dfs_count_30percent', 'dfs_count_40percent', 'dfs_count_50percent', 'dfs_count_60percent', 'dfspot_count']

sl_path = '/Users/varyabazilova/Desktop/paper2/202406_modelruns/30years/2025May_output/df_vs_floods/'

# Langtang data
SL1_LT = pd.read_csv(sl_path + 'langtang_df_vs_floods_daily_landcover1.csv', index_col = 0)[columns]
SL2_LT = pd.read_csv(sl_path + 'langtang_df_vs_floods_daily_landcover2.csv', index_col = 0)[columns]
SL3_LT = pd.read_csv(sl_path + 'langtang_df_vs_floods_daily_landcover3.csv', index_col = 0)[columns]
SL4_LT = pd.read_csv(sl_path + 'langtang_df_vs_floods_daily_landcover4.csv', index_col = 0)[columns]
SL5_LT = pd.read_csv(sl_path + 'langtang_df_vs_floods_daily_landcover5.csv', index_col = 0)[columns]

# Mustang data
SL1_MT = pd.read_csv(sl_path + 'mustang_df_vs_floods_daily_landcover1.csv', index_col = 0)[columns]
SL2_MT = pd.read_csv(sl_path + 'mustang_df_vs_floods_daily_landcover2.csv', index_col = 0)[columns]
SL3_MT = pd.read_csv(sl_path + 'mustang_df_vs_floods_daily_landcover3.csv', index_col = 0)[columns]
SL4_MT = pd.read_csv(sl_path + 'mustang_df_vs_floods_daily_landcover4.csv', index_col = 0)[columns]
SL5_MT = pd.read_csv(sl_path + 'mustang_df_vs_floods_daily_landcover5.csv', index_col = 0)[columns]

# Langtang monthly means
SL1_LT_mean_month = SL1_LT.groupby(['elevation_bin', 'month']).mean().reset_index()
SL2_LT_mean_month = SL2_LT.groupby(['elevation_bin', 'month']).mean().reset_index()
SL3_LT_mean_month = SL3_LT.groupby(['elevation_bin', 'month']).mean().reset_index()
SL4_LT_mean_month = SL4_LT.groupby(['elevation_bin', 'month']).mean().reset_index()
SL5_LT_mean_month = SL5_LT.groupby(['elevation_bin', 'month']).mean().reset_index()

# Mustang monthly means
SL1_MT_mean_month = SL1_MT.groupby(['elevation_bin', 'month']).mean().reset_index()
SL2_MT_mean_month = SL2_MT.groupby(['elevation_bin', 'month']).mean().reset_index()
SL3_MT_mean_month = SL3_MT.groupby(['elevation_bin', 'month']).mean().reset_index()
SL4_MT_mean_month = SL4_MT.groupby(['elevation_bin', 'month']).mean().reset_index()
SL5_MT_mean_month = SL5_MT.groupby(['elevation_bin', 'month']).mean().reset_index()

# Create figure with 2 rows x 5 columns (Langtang top, Mustang bottom)
fig, axes = plt.subplots(2, 5, figsize=(20, 8), sharey=False)
fig.suptitle('Debris Flow Count by Location, Landcover and Sediment Input Percentage', fontsize=16, y=0.98)

# Data and labels for both locations
langtang_data = [SL1_LT_mean_month, SL2_LT_mean_month, SL3_LT_mean_month, SL4_LT_mean_month, SL5_LT_mean_month]
mustang_data = [SL1_MT_mean_month, SL2_MT_mean_month, SL3_MT_mean_month, SL4_MT_mean_month, SL5_MT_mean_month]
landcover_labels = ['Landcover 1', 'Landcover 2', 'Landcover 3', 'Landcover 4', 'Landcover 5']
location_labels = ['Langtang', 'Mustang']

# Percentage columns and colors
percentages = ['20percent', '30percent', '40percent', '50percent', '60percent']
colors = ['#1f77b4', '#ff7f0e', '#2ca02c', '#d62728', '#9467bd']  # Different colors for each percentage

# Create plots for both locations and all landcovers
for row, (location_data, location_label) in enumerate(zip([langtang_data, mustang_data], location_labels)):
    for col, (data, landcover_label) in enumerate(zip(location_data, landcover_labels)):
        ax = axes[row, col]
        
        # Group by month only (average across elevation bins)
        monthly_means = data.groupby('month').mean()
        
        # Plot each percentage as a line
        for j, (pct, color) in enumerate(zip(percentages, colors)):
            col_name = f'dfs_count_{pct}'
            if col_name in monthly_means.columns:
                ax.plot(monthly_means.index, monthly_means[col_name], 
                       color=color, marker='o', linewidth=2, markersize=4,
                       label=f'{pct.replace("percent", "%")}')
        
        # Plot dfspot_count as a dashed line
        if 'dfspot_count' in monthly_means.columns:
            ax.plot(monthly_means.index, monthly_means['dfspot_count'], 
                   color='black', marker='s', linewidth=2, markersize=4,
                   linestyle='--', label='DFspot', alpha=0.8)
        
        # Customize subplot
        if row == 0:  # Top row - add landcover labels
            ax.set_title(landcover_label, fontsize=12)
        if col == 0:  # Left column - add location labels and y-axis
            ax.set_ylabel(f'{location_label}\nMean Monthly DF Count', fontsize=10)
        if row == 1:  # Bottom row - add x-axis labels
            ax.set_xlabel('Month', fontsize=10)
        
        ax.set_xticks(range(1, 13))
        # ax.set_xticklabels(['J', 'F', 'M', 'A', 'M', 'J', 'J', 'A', 'S', 'O', 'N', 'D'])
        ax.grid(True, alpha=0.3)
        
        # Add legend only to top-left subplot
        if row == 0 and col == 0:
            ax.legend(bbox_to_anchor=(0, 1), loc='upper left', fontsize=9)
        
        # Set different y-axis limits for Mustang (bottom row)
        if row == 1:  # Mustang row
            ax.set_ylim(0, 1.5)

# Adjust layout
plt.tight_layout()
plt.show()


import pandas as pd
import seaborn as sns
import matplotlib.pyplot as plt

import functions


# SL - Langtang
columns =['year', 'month', 'elevation', 'elevation_bin', 'id','dfs_count_20percent', 'dfs_count_30percent', 'dfs_count_40percent', 'dfs_count_50percent', 'dfs_count_60percent', 'dfspot_count']

sl_path = '/Users/varyabazilova/Desktop/paper2/202406_modelruns/30years/2025May_output/df_vs_floods/'

# Langtang data
SL1_LT = pd.read_csv(sl_path + 'langtang_df_vs_floods_daily_landcover1.csv', index_col = 0)[columns]
SL2_LT = pd.read_csv(sl_path + 'langtang_df_vs_floods_daily_landcover2.csv', index_col = 0)[columns]
SL3_LT = pd.read_csv(sl_path + 'langtang_df_vs_floods_daily_landcover3.csv', index_col = 0)[columns]
SL4_LT = pd.read_csv(sl_path + 'langtang_df_vs_floods_daily_landcover4.csv', index_col = 0)[columns]
SL5_LT = pd.read_csv(sl_path + 'langtang_df_vs_floods_daily_landcover5.csv', index_col = 0)[columns]

# Mustang data
SL1_MT = pd.read_csv(sl_path + 'mustang_df_vs_floods_daily_landcover1.csv', index_col = 0)[columns]
SL2_MT = pd.read_csv(sl_path + 'mustang_df_vs_floods_daily_landcover2.csv', index_col = 0)[columns]
SL3_MT = pd.read_csv(sl_path + 'mustang_df_vs_floods_daily_landcover3.csv', index_col = 0)[columns]
SL4_MT = pd.read_csv(sl_path + 'mustang_df_vs_floods_daily_landcover4.csv', index_col = 0)[columns]
SL5_MT = pd.read_csv(sl_path + 'mustang_df_vs_floods_daily_landcover5.csv', index_col = 0)[columns]

# Langtang monthly means
SL1_LT_mean_month = SL1_LT.groupby(['elevation_bin', 'month']).mean().reset_index()
SL2_LT_mean_month = SL2_LT.groupby(['elevation_bin', 'month']).mean().reset_index()
SL3_LT_mean_month = SL3_LT.groupby(['elevation_bin', 'month']).mean().reset_index()
SL4_LT_mean_month = SL4_LT.groupby(['elevation_bin', 'month']).mean().reset_index()
SL5_LT_mean_month = SL5_LT.groupby(['elevation_bin', 'month']).mean().reset_index()

# Mustang monthly means
SL1_MT_mean_month = SL1_MT.groupby(['elevation_bin', 'month']).mean().reset_index()
SL2_MT_mean_month = SL2_MT.groupby(['elevation_bin', 'month']).mean().reset_index()
SL3_MT_mean_month = SL3_MT.groupby(['elevation_bin', 'month']).mean().reset_index()
SL4_MT_mean_month = SL4_MT.groupby(['elevation_bin', 'month']).mean().reset_index()
SL5_MT_mean_month = SL5_MT.groupby(['elevation_bin', 'month']).mean().reset_index()

# Create figure with 2 rows x 5 columns (Langtang top, Mustang bottom)
fig, axes = plt.subplots(2, 5, figsize=(20, 8), sharey=False)
fig.suptitle('Debris Flow Count by Location, Landcover and Sediment Input Percentage', fontsize=16, y=0.98)

# Data and labels for both locations
langtang_data = [SL1_LT_mean_month, SL2_LT_mean_month, SL3_LT_mean_month, SL4_LT_mean_month, SL5_LT_mean_month]
mustang_data = [SL1_MT_mean_month, SL2_MT_mean_month, SL3_MT_mean_month, SL4_MT_mean_month, SL5_MT_mean_month]
landcover_labels = ['Landcover 1', 'Landcover 2', 'Landcover 3', 'Landcover 4', 'Landcover 5']
location_labels = ['Langtang', 'Mustang']

# Percentage columns and colors
percentages = ['20percent', '30percent', '40percent', '50percent', '60percent']
colors = ['#1f77b4', '#ff7f0e', '#2ca02c', '#d62728', '#9467bd']  # Different colors for each percentage

# Create plots for both locations and all landcovers
for row, (location_data, location_label) in enumerate(zip([langtang_data, mustang_data], location_labels)):
    for col, (data, landcover_label) in enumerate(zip(location_data, landcover_labels)):
        ax = axes[row, col]
        
        # Group by month only (average across elevation bins)
        monthly_means = data.groupby('month').mean()
        
        # Plot each percentage as a line
        for j, (pct, color) in enumerate(zip(percentages, colors)):
            col_name = f'dfs_count_{pct}'
            if col_name in monthly_means.columns:
                ax.plot(monthly_means.index, monthly_means[col_name], 
                       color=color, marker='o', linewidth=2, markersize=4,
                       label=f'{pct.replace("percent", "%")}')
        
        # Plot dfspot_count as a dashed line
        if 'dfspot_count' in monthly_means.columns:
            ax.plot(monthly_means.index, monthly_means['dfspot_count'], 
                   color='black', marker='s', linewidth=2, markersize=4,
                   linestyle='--', label='DFspot', alpha=0.8)
        
        # Add light grey background for May-September (months 5-9)
        ax.axvspan(5, 9, alpha=0.2, color='lightgrey', zorder=0)
        
        # Customize subplot
        if row == 0:  # Top row - add landcover labels
            ax.set_title(landcover_label, fontsize=12)
        if col == 0:  # Left column - add location labels and y-axis
            ax.set_ylabel(f'{location_label}\nMean Monthly DF Count', fontsize=10)
        if row == 1:  # Bottom row - add x-axis labels
            ax.set_xlabel('Month', fontsize=10)
        
        ax.set_xticks(range(1, 13))
        ax.set_xticklabels(['J', 'F', 'M', 'A', 'M', 'J', 'J', 'A', 'S', 'O', 'N', 'D'])
        ax.grid(True, alpha=0.3)
        
        # Add legend only to top-left subplot
        if row == 0 and col == 0:
            # Get handles and labels, then reverse the order
            handles, labels = ax.get_legend_handles_labels()
            ax.legend(handles[::-1], labels[::-1], bbox_to_anchor=(0, 1), loc='upper left', fontsize=9)
        
        # Set different y-axis limits for Mustang (bottom row)
        if row == 1:  # Mustang row
            ax.set_ylim(0, 1.5)

# Adjust layout
plt.tight_layout()
plt.show()


import pandas as pd
import seaborn as sns
import matplotlib.pyplot as plt

import functions


# SL - Langtang
columns =['year', 'month', 'elevation', 'elevation_bin', 'id','dfs_count_20percent', 'dfs_count_30percent', 'dfs_count_40percent', 'dfs_count_50percent', 'dfs_count_60percent', 'dfspot_count']

sl_path = '/Users/varyabazilova/Desktop/paper2/202406_modelruns/30years/2025May_output/df_vs_floods/'

# Langtang data
SL1_LT = pd.read_csv(sl_path + 'langtang_df_vs_floods_once_landcover1.csv', index_col = 0)[columns]
SL2_LT = pd.read_csv(sl_path + 'langtang_df_vs_floods_once_landcover2.csv', index_col = 0)[columns]
SL3_LT = pd.read_csv(sl_path + 'langtang_df_vs_floods_once_landcover3.csv', index_col = 0)[columns]
SL4_LT = pd.read_csv(sl_path + 'langtang_df_vs_floods_once_landcover4.csv', index_col = 0)[columns]
SL5_LT = pd.read_csv(sl_path + 'langtang_df_vs_floods_once_landcover5.csv', index_col = 0)[columns]

# Mustang data
SL1_MT = pd.read_csv(sl_path + 'mustang_df_vs_floods_oncey_landcover1.csv', index_col = 0)[columns]
SL2_MT = pd.read_csv(sl_path + 'mustang_df_vs_floods_oncey_landcover2.csv', index_col = 0)[columns]
SL3_MT = pd.read_csv(sl_path + 'mustang_df_vs_floods_oncey_landcover3.csv', index_col = 0)[columns]
SL4_MT = pd.read_csv(sl_path + 'mustang_df_vs_floods_oncey_landcover4.csv', index_col = 0)[columns]
SL5_MT = pd.read_csv(sl_path + 'mustang_df_vs_floods_oncey_landcover5.csv', index_col = 0)[columns]

# Langtang monthly means
SL1_LT_mean_month = SL1_LT.groupby(['elevation_bin', 'month']).mean().reset_index()
SL2_LT_mean_month = SL2_LT.groupby(['elevation_bin', 'month']).mean().reset_index()
SL3_LT_mean_month = SL3_LT.groupby(['elevation_bin', 'month']).mean().reset_index()
SL4_LT_mean_month = SL4_LT.groupby(['elevation_bin', 'month']).mean().reset_index()
SL5_LT_mean_month = SL5_LT.groupby(['elevation_bin', 'month']).mean().reset_index()

# Mustang monthly means
SL1_MT_mean_month = SL1_MT.groupby(['elevation_bin', 'month']).mean().reset_index()
SL2_MT_mean_month = SL2_MT.groupby(['elevation_bin', 'month']).mean().reset_index()
SL3_MT_mean_month = SL3_MT.groupby(['elevation_bin', 'month']).mean().reset_index()
SL4_MT_mean_month = SL4_MT.groupby(['elevation_bin', 'month']).mean().reset_index()
SL5_MT_mean_month = SL5_MT.groupby(['elevation_bin', 'month']).mean().reset_index()

# Create figure with 2 rows x 5 columns (Langtang top, Mustang bottom)
fig, axes = plt.subplots(2, 5, figsize=(20, 8), sharey=False)
fig.suptitle('Debris Flow Count by Location, Landcover and Sediment Input Percentage', fontsize=16, y=0.98)

# Data and labels for both locations
langtang_data = [SL1_LT_mean_month, SL2_LT_mean_month, SL3_LT_mean_month, SL4_LT_mean_month, SL5_LT_mean_month]
mustang_data = [SL1_MT_mean_month, SL2_MT_mean_month, SL3_MT_mean_month, SL4_MT_mean_month, SL5_MT_mean_month]
landcover_labels = ['Landcover 1', 'Landcover 2', 'Landcover 3', 'Landcover 4', 'Landcover 5']
location_labels = ['Langtang', 'Mustang']

# Percentage columns and colors
percentages = ['20percent', '30percent', '40percent', '50percent', '60percent']
colors = ['#1f77b4', '#ff7f0e', '#2ca02c', '#d62728', '#9467bd']  # Different colors for each percentage

# Create plots for both locations and all landcovers
for row, (location_data, location_label) in enumerate(zip([langtang_data, mustang_data], location_labels)):
    for col, (data, landcover_label) in enumerate(zip(location_data, landcover_labels)):
        ax = axes[row, col]
        
        # Group by month only (average across elevation bins)
        monthly_means = data.groupby('month').mean()
        
        # Plot each percentage as a line
        for j, (pct, color) in enumerate(zip(percentages, colors)):
            col_name = f'dfs_count_{pct}'
            if col_name in monthly_means.columns:
                ax.plot(monthly_means.index, monthly_means[col_name], 
                       color=color, marker='o', linewidth=2, markersize=4,
                       label=f'{pct.replace("percent", "%")}')
        
        # Plot dfspot_count as a dashed line
        if 'dfspot_count' in monthly_means.columns:
            ax.plot(monthly_means.index, monthly_means['dfspot_count'], 
                   color='black', marker='s', linewidth=2, markersize=4,
                   linestyle='--', label='DFspot', alpha=0.8)
        
        # Add light grey background for May-September (months 5-9)
        ax.axvspan(5, 9, alpha=0.2, color='lightgrey', zorder=0)
        
        # Customize subplot
        if row == 0:  # Top row - add landcover labels
            ax.set_title(landcover_label, fontsize=12)
        if col == 0:  # Left column - add location labels and y-axis
            ax.set_ylabel(f'{location_label}\nMean Monthly DF Count', fontsize=10)
        if row == 1:  # Bottom row - add x-axis labels
            ax.set_xlabel('Month', fontsize=10)
        
        ax.set_xticks(range(1, 13))
        ax.set_xticklabels(['J', 'F', 'M', 'A', 'M', 'J', 'J', 'A', 'S', 'O', 'N', 'D'])
        ax.grid(True, alpha=0.3)
        
        # Add legend only to top-left subplot
        if row == 0 and col == 0:
            # Get handles and labels, then reverse the order
            handles, labels = ax.get_legend_handles_labels()
            ax.legend(handles[::-1], labels[::-1], bbox_to_anchor=(0, 1), loc='upper left', fontsize=9)
        
        # Set different y-axis limits for Mustang (bottom row)
        if row == 1:  # Mustang row
            ax.set_ylim(0, 1.5)

# Adjust layout
plt.tight_layout()
plt.show()



