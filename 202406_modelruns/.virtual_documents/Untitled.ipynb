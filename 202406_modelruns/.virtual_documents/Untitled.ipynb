import pandas as pd
import seaborn as sns
import matplotlib.pyplot as plt
import os

import functions


















