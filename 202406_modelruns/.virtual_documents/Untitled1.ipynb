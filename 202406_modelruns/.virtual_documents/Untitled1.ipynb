import pandas as pd
import seaborn as sns
import matplotlib.pyplot as plt


import functions



path = '/Users/varyabazilova/Desktop/paper2/202406_modelruns/30years/2025Jan_output/TL/'
dfspot1_df = pd.read_csv(path + 'langtang_monthly_dfspot_count_landcover1.csv', index_col = 0)
dfspot2_df = pd.read_csv(path + 'langtang_monthly_dfspot_count_landcover2.csv', index_col = 0)
dfspot3_df = pd.read_csv(path + 'langtang_monthly_dfspot_count_landcover3.csv', index_col = 0)
dfspot4_df = pd.read_csv(path + 'langtang_monthly_dfspot_count_landcover4.csv', index_col = 0)
dfspot5_df = pd.read_csv(path + 'langtang_monthly_dfspot_count_landcover5.csv', index_col = 0)





# Define a function to categorize seasons
def get_season(month):
    if month in [12, 1, 2]:
        return 'DJF'  # December, January, February (Winter)
    elif month in [3, 4, 5]:
        return 'MAM'  # March, April, May (Spring)
    elif month in [6, 7, 8]:
        return 'JJA'  # June, July, August (Summer)
    else:
        return 'SON'  # September, October, November (Autumn)





def prepare_dfcount_for_plot(dfcount):
    melted = pd.melt(dfcount, id_vars=['D', 'D_year', 'D_month'], var_name='elevation', value_name='dfs_count')
    melted['elevation'] = melted['elevation'].str.split('.').str[0].astype(float)
    melted['elevation_bin'] = melted.apply(functions.bin_elevation500, axis=1)
    melted = melted.sort_values('elevation_bin')
    # melted = melted.dropna(subset=['dfs_count'])
    return melted 

def prepare_dfcount_for_heatmap(dfcount, temporal_col):
    melted = pd.melt(dfcount, id_vars=['D', 'D_year', 'D_month'], var_name='elevation', value_name='dfs_count')
    melted['elevation'] = melted['elevation'].str.split('.').str[0].astype(float)
    melted['elevation_bin'] = melted.apply(functions.bin_elevation500, axis=1)
    melted = melted.sort_values('elevation_bin')
    melted['season'] = melted['D_month'].apply(get_season)
    
    melted = melted.groupby([temporal_col, 'elevation_bin'])['dfs_count'].mean().reset_index()
    toplot = melted.pivot(index="elevation_bin", columns=temporal_col, values="dfs_count")
    return toplot 



dfspot1 = prepare_dfcount_for_heatmap(dfspot1_df, 'season').dropna()
dfspot2 = prepare_dfcount_for_heatmap(dfspot2_df, 'season').dropna()
dfspot3 = prepare_dfcount_for_heatmap(dfspot3_df, 'season').dropna()
dfspot4 = prepare_dfcount_for_heatmap(dfspot4_df, 'season').dropna()
dfspot5 = prepare_dfcount_for_heatmap(dfspot5_df, 'season').dropna()

# Compute global vmin and vmax across all datasets
vmin = min(df.min().min() for df in [dfspot1, dfspot2, dfspot3, dfspot4, dfspot5])
vmax = max(df.max().max() for df in [dfspot1, dfspot2, dfspot3, dfspot4, dfspot5])



fig = plt.figure(figsize=(20, 3), layout = 'tight')

mosaic = fig.subplot_mosaic('''
                            abcde
                            ''')


sns.heatmap(dfspot1, ax = mosaic['a'], cmap ='Reds', vmin=vmin, vmax=vmax, cbar = False)
sns.heatmap(dfspot2, ax = mosaic['b'], cmap ='Reds', vmin=vmin, vmax=vmax, cbar = False)
sns.heatmap(dfspot3, ax = mosaic['c'], cmap ='Reds', vmin=vmin, vmax=vmax, cbar = False)
sns.heatmap(dfspot4, ax = mosaic['d'], cmap ='Reds', vmin=vmin, vmax=vmax, cbar = False)
sns.heatmap(dfspot5, ax = mosaic['e'], cmap ='Reds', vmin=vmin, vmax=vmax, cbar = True)

mosaic['b'].set_ylabel('')
mosaic['b'].set_yticks([])

mosaic['c'].set_ylabel('')
mosaic['c'].set_yticks([])

mosaic['d'].set_ylabel('')
mosaic['d'].set_yticks([])
mosaic['e'].set_ylabel('')
mosaic['e'].set_yticks([])



testplots = '/Users/varyabazilova/Desktop/paper2/202406_modelruns/30years/output/testplots/'
# plt.savefig(testplots + 'dfspot_count_all_landcovers_seasons.png', dpi = 300, bbox_inches = 'tight')


def prepare_dfcount_for_barplot(dfcount, landcover_idx):
    melted = pd.melt(dfcount, id_vars=['D', 'D_year', 'D_month'], var_name='elevation', value_name='dfs_count')
    melted['elevation'] = melted['elevation'].str.split('.').str[0].astype(float)
    melted['elevation_bin'] = melted.apply(functions.bin_elevation500, axis=1)
    melted = melted.sort_values('elevation_bin')
    melted['season'] = melted['D_month'].apply(get_season)
    melted['landcover'] = f'landcover {landcover_idx}'
    return melted 





dfspot1 = prepare_dfcount_for_barplot(dfspot1_df, 1).fillna(0)
dfspot2 = prepare_dfcount_for_barplot(dfspot2_df, 2).fillna(0)
dfspot3 = prepare_dfcount_for_barplot(dfspot3_df, 3).fillna(0)
dfspot4 = prepare_dfcount_for_barplot(dfspot4_df, 4).fillna(0)
dfspot5 = prepare_dfcount_for_barplot(dfspot5_df, 5).fillna(0)



dfspot_all = pd.concat([dfspot1, dfspot2, dfspot3, dfspot4, dfspot5],ignore_index=True)



dfspot_jja = dfspot_all[dfspot_all['season'] == 'JJA']
dfspot_mam = dfspot_all[dfspot_all['season'] == 'MAM']
dfspot_djf = dfspot_all[dfspot_all['season'] == 'DJF']
dfspot_son = dfspot_all[dfspot_all['season'] == 'SON']



dfspot_all.season.unique()


sns.barplot(data = dfspot_jja, x = 'landcover', y ='dfs_count')


vmax = dfspot_all['dfs_count'].max()

fig = plt.figure(figsize=(20, 3), layout='tight')
mosaic = fig.subplot_mosaic('''
                            abcde
                            ''')

# Define the color palette
palette = sns.color_palette('Set1')

# Get unique landcover types
landcover_categories = dfspot_all['landcover'].unique()

# Create a dictionary mapping landcover types to colors
color_mapping = dict(zip(landcover_categories, palette[:len(landcover_categories)]))

# Plot barplots with consistent colors
sns.barplot(dfspot_all, x='landcover', y='dfs_count', ax=mosaic['a'], palette=color_mapping)#, ci = 'ci')
sns.barplot(dfspot_djf, x='landcover', y='dfs_count', ax=mosaic['b'], palette=color_mapping)#, ci = 'ci')
sns.barplot(dfspot_mam, x='landcover', y='dfs_count', ax=mosaic['c'], palette=color_mapping)#, ci = 'ci')
sns.barplot(dfspot_jja, x='landcover', y='dfs_count', ax=mosaic['d'], palette=color_mapping)#, ci = 'ci')
sns.barplot(dfspot_son, x='landcover', y='dfs_count', ax=mosaic['e'], palette=color_mapping)#, ci = 'ci')

# Create a custom legend
handles = [plt.Rectangle((0, 0), 1, 1, color=color_mapping[lc]) for lc in landcover_categories]
fig.legend(handles, landcover_categories, title="Landcover", loc='upper right', bbox_to_anchor=(1.01, 1))

mosaic['a'].set_title('all year')
mosaic['b'].set_title('djf')
mosaic['c'].set_title('mam')
mosaic['d'].set_title('jja')
mosaic['e'].set_title('son')

mosaic['a'].set_xticks([])
mosaic['b'].set_xticks([])
mosaic['c'].set_xticks([])
mosaic['d'].set_xticks([])
mosaic['e'].set_xticks([])



# mosaic['b'].set_ylim([0, 8])
# mosaic['c'].set_ylim([0, 8])
# mosaic['d'].set_ylim([0, 8])
# mosaic['e'].set_ylim([0, 8])

testplots = '/Users/varyabazilova/Desktop/paper2/202406_modelruns/30years/output/testplots/'
# plt.savefig(testplots + 'dfspot_count_all_landcovers_barplots.png', dpi = 300, bbox_inches = 'tight')






















