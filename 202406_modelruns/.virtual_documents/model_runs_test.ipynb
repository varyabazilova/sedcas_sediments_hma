import os
import pandas as pd
import matplotlib.pyplot as plt
import functions
import seaborn as sns


# modelling part
# from run import run







%%time

# ----------- LANGTANG ------------

climatepath = '/Users/varyabazilova/Desktop/paper2/202406_modelruns/30years/test/langtang_climate_cut'

# get all folders togetehr 

ls_ = os.listdir(climatepath)
ls = [d for d in ls_ if not d.startswith('.')]
dir0 = os.getcwd()
# print(dir0)
# run the model for each
for d in ls:
    path = os.path.join(climatepath, d)
    if path.endswith('.csv'):
        continue
    if path.startswith('.'):
        continue
    # print(path)
    os.chdir(path)
    run()
    os.chdir(dir0)



# read data 
pathout = '/Users/varyabazilova/Desktop/paper2/202406_modelruns/30years/test/langtang_climate_cut/12a/Sediment.out'
sedout  = pd.read_csv(pathout)


len(sedout[sedout.dfs>0])



len(sedout[sedout.dfspot>0])



# sedout.conc.plot()
# sedout


plt.figure(figsize = (20, 10))
# sedout.dfspot.plot(label = 'dfspot')
# sedout.dfs.plot(label = 'dfs')
# sedout.sc.plot(label = 'sc')
sedout.ls.plot(label = 'ls')

plt.legend()


sedout.dfs.sum()/33



len(sedout[sedout.ls>0])












plt.figure(figsize = (20, 10))
# sedout.sopot.plot(label = 'sopot')

# sedout.Qstl.plot(label = 'Qstl')
sedout.so.plot(label = 'so')
sedout.conc.plot(label = 'conc')

# sedout.Qdftl.plot(label = 'Qdftl')

plt.legend()


# count flood hours
len(sedout[sedout.so>0])
 
# # count df hours
# sedout.so(sedout.sopot>0).count()


# count df hours - this is TL case 
len(sedout[sedout.sopot>0])


len(sedout[sedout.conc==0])






# iterate over all files 
# to see if df column and dfspot are the same everywhere ir now 

def calculation(df):
    df = df[['dfspot', 'dfs']]
    df['diff_df'] = df.dfspot - df.dfs
    return df


path = '/Volumes/Extreme SSD/202409_paper2_modelruns/30years/SL_once/1landcover_20percent/langtang_climate_cut'

# path = '/Users/varyabazilova/Desktop/paper2/202406_modelruns/30years/test/langtang_climate_cut'



forplot_df = pd.DataFrame()

# Iterate over the files in the folders
for folder_name in os.listdir(path):
        # skip all csvs and . files
    if folder_name.endswith('.csv'):
        continue
    if folder_name.startswith('.'):
        continue 
    
    file_path = os.path.join(path, folder_name, 'Sediment.out') #create a path to file 
    output_df = pd.read_csv(file_path)
    output_df = calculation(output_df)
    forplot_df[folder_name] = output_df['diff_df'].values












plt.figure(figsize = (20, 5))

forplot_df.plot(legend = False)



