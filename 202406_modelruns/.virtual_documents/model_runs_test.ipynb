import os
import pandas as pd
import matplotlib.pyplot as plt

# modelling part
from run import run







%%time

# ----------- LANGTANG ------------

climatepath = '/Users/varyabazilova/Desktop/paper2/202406_modelruns/30years/test/langtang_climate_cut'

# get all folders togetehr 

ls_ = os.listdir(climatepath)
ls = [d for d in ls_ if not d.startswith('.')]
dir0 = os.getcwd()
# print(dir0)
# run the model for each
for d in ls:
    path = os.path.join(climatepath, d)
    if path.endswith('.csv'):
        continue
    if path.startswith('.'):
        continue
    # print(path)
    os.chdir(path)
    run()
    os.chdir(dir0)



# read data 
pathout = '/Users/varyabazilova/Desktop/paper2/202406_modelruns/30years/test/langtang_climate_cut/12a/Sediment.out'
sedout  = pd.read_csv(pathout)


len(sedout[sedout.dfs>0])



len(sedout[sedout.dfspot>0])



plt.figure(figsize = (20, 10))
# sedout.dfspot.plot(label = 'dfspot')
# sedout.dfs.plot(label = 'dfs')
sedout.sc.plot(label = 'sc')
sedout.ls.plot(label = 'ls')

plt.legend()





len(sedout[sedout.ls>0])












plt.figure(figsize = (20, 10))
# sedout.sopot.plot(label = 'sopot')

# sedout.Qstl.plot(label = 'Qstl')
sedout.so.plot(label = 'so')
sedout.conc.plot(label = 'conc')

# sedout.Qdftl.plot(label = 'Qdftl')

plt.legend()


# count flood hours
len(sedout[sedout.so>0])
 
# # count df hours
# sedout.so(sedout.sopot>0).count()


# count df hours - this is TL case 
len(sedout[sedout.sopot>0])


len(sedout[sedout.conc==0])




