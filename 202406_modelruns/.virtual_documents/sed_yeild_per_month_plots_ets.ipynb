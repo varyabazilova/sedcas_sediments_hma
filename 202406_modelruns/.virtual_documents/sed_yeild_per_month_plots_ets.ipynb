import pandas as pd
import numpy as np
import matplotlib.pyplot as plt
import seaborn as sns


import functions



path_tl = '/Users/varyabazilova/Desktop/paper2/202406_modelruns/30years/2024Nov_output/TL/'
location = 'langtang'

lc1 = pd.read_csv(path_tl+f'{location}_monthly_sum_elevation_Qstl_landcover1.csv')
lc2 = pd.read_csv(path_tl+f'{location}_monthly_sum_elevation_Qstl_landcover2.csv')
lc3 = pd.read_csv(path_tl+f'{location}_monthly_sum_elevation_Qstl_landcover3.csv')
lc4 = pd.read_csv(path_tl+f'{location}_monthly_sum_elevation_Qstl_landcover4.csv')


# Define the start and end dates for the filter
start_date = "1990-07-31"
end_date = "2021-06-30"

# Convert column D to datetime if it isn't already


# Filter the DataFrame for the specified date range
def prepare_dfcount_for_plot(dfcount):
    dfcount['D'] = pd.to_datetime(dfcount['D'])
    dfcount = dfcount[(dfcount['D'] >= start_date) & (dfcount['D'] <= end_date)]

    dfcount = dfcount.rename(columns={'D_year': 'year', 'D_month': 'month'})
    dfcount = dfcount.drop('D', axis = 1)
    dfcount['date_id'] = dfcount['year'].astype(str)+ "_" + dfcount['month'].astype(str)
    melted = pd.melt(dfcount, id_vars=['date_id', 'year', 'month'], var_name='elevation', value_name='dfs_count')
    
    # melted = pd.melt(dfcount, id_vars=['date_id'], var_name='elevation', value_name='dfs_count')
    melted['elevation'] = melted['elevation'].str.split('.').str[0].astype(float)
    melted['elevation_bin'] = melted.apply(functions.bin_elevation500, axis=1)
    # create unique id for elevation and month for merging
    melted['elevation'] = melted['elevation'].astype(int)
    melted['id'] = melted.index.astype(str)+ "_" + melted['elevation'].astype(str) + "_" + melted['year'].astype(str)+ "_" + melted['month'].astype(str)
    
    melted = melted.sort_values('elevation_bin')
    # melted = melted.dropna(subset=['dfs_count'])
    return melted 





def prepare_for_boxplots(df, value_name, new_name):
    df['date_id'] = df['year'].astype(str)+ "_" + df['month'].astype(str)
        
    melted = pd.melt(df, id_vars=['date_id', 'month', 'year', 'land_cover'], var_name='elevation', value_name=value_name)
    melted = melted.rename(columns={value_name: new_name})

    
    melted['elevation'] = melted['elevation'].str.split('.').str[0].astype(float)
    melted['elevation_bin'] = melted.apply(functions.bin_elevation500, axis=1)
    melted = melted.sort_values('elevation_bin')
    melted['elevation'] = melted['elevation'].astype(int)
    melted['id'] = melted.index.astype(str)+ "_" + melted['elevation'].astype(str) + "_" + melted['year'].astype(str)+ "_" + melted['month'].astype(str)
    melted = melted.sort_values('elevation_bin')

    return melted



lc1_melted = prepare_for_boxplots(lc1, 'Qstl', 'Qstl1')
lc2_melted = prepare_for_boxplots(lc2, 'Qstl', 'Qstl2')
lc3_melted = prepare_for_boxplots(lc3, 'Qstl', 'Qstl3')
lc4_melted = prepare_for_boxplots(lc4, 'Qstl', 'Qstl4')



fig = plt.figure(figsize=(20, 20), layout = 'tight')
mosaic = fig.subplot_mosaic('''
                            aaa
                            bbb
                            ccc
                            ddd
                            ''')


sns.barplot(ax = mosaic['a'], x='month', y='Qstl1', hue = 'elevation_bin', data=lc1_melted, palette = 'magma_r') 
sns.barplot(ax = mosaic['b'], x='month', y='Qstl2', hue = 'elevation_bin', data=lc2_melted, palette = 'magma_r')
sns.barplot(ax = mosaic['c'], x='month', y='Qstl3', hue = 'elevation_bin', data=lc3_melted, palette = 'magma_r')
sns.barplot(ax = mosaic['d'], x='month', y='Qstl4', hue = 'elevation_bin', data=lc4_melted, palette = 'magma_r')


sns.move_legend(mosaic['a'], "upper left", bbox_to_anchor=(1, 1))
sns.move_legend(mosaic['b'], "upper left", bbox_to_anchor=(1, 1))
sns.move_legend(mosaic['c'], "upper left", bbox_to_anchor=(1, 1))
sns.move_legend(mosaic['d'], "upper left", bbox_to_anchor=(1, 1))

# Adding text to the top-left corner of each subplot
mosaic['a'].text(0.02, 0.95, 'veg 40%, bedrock 40%, ice 20%', transform=mosaic['a'].transAxes, fontsize=25, verticalalignment='top')
mosaic['b'].text(0.02, 0.95, 'veg 40%, bedrock 50%, ice 10%', transform=mosaic['b'].transAxes, fontsize=25, verticalalignment='top')
mosaic['c'].text(0.02, 0.95, 'veg 50%, bedrock 40%, ice 10%', transform=mosaic['c'].transAxes, fontsize=25, verticalalignment='top')
mosaic['d'].text(0.02, 0.95, 'veg 40%, bedrock 60%, ice 0%',  transform=mosaic['d'].transAxes, fontsize=25, verticalalignment='top')

fig.suptitle('TL output', fontsize = 20)





tlQstl = lc1_melted.merge(lc2_melted[['Qstl2', 'id']], on='id') \
                     .merge(lc3_melted[['Qstl3', 'id']], on='id') \
                     .merge(lc4_melted[['Qstl4', 'id']], on='id')

tlQstl['Qstl1'] = tlQstl['Qstl1'].replace(0, np.nan)
tlQstl['Qstl2'] = tlQstl['Qstl2'].replace(0, np.nan)
tlQstl['Qstl3'] = tlQstl['Qstl3'].replace(0, np.nan)
tlQstl['Qstl4'] = tlQstl['Qstl4'].replace(0, np.nan)

for col in ['Qstl1', 'Qstl2', 'Qstl3']:
    tlQstl[f'{col}_percent'] = (tlQstl[col] / tlQstl['Qstl4']) * 100







fig = plt.figure(figsize=(20, 20), layout = 'tight')
mosaic = fig.subplot_mosaic('''
                            aaa
                            bbb
                            ccc
                            ''')


sns.barplot(ax = mosaic['a'], x='month', y='Qstl1_percent', hue = 'elevation_bin', data=tlQstl, palette = 'magma_r') 
sns.barplot(ax = mosaic['b'], x='month', y='Qstl2_percent', hue = 'elevation_bin', data=tlQstl, palette = 'magma_r')
sns.barplot(ax = mosaic['c'], x='month', y='Qstl3_percent', hue = 'elevation_bin', data=tlQstl, palette = 'magma_r')

# Add horizontal lines at y=100
mosaic['a'].axhline(y=100, color='blue', linestyle='--', linewidth=1)
mosaic['b'].axhline(y=100, color='blue', linestyle='--', linewidth=1)
mosaic['c'].axhline(y=100, color='blue', linestyle='--', linewidth=1)


# Adding text to the top-left corner of each subplot
mosaic['a'].text(0.02, 0.95, 'veg 40%, bedrock 40%, ice 20%', transform=mosaic['a'].transAxes, fontsize=25, verticalalignment='top')
mosaic['b'].text(0.02, 0.95, 'veg 40%, bedrock 50%, ice 10%', transform=mosaic['b'].transAxes, fontsize=25, verticalalignment='top')
mosaic['c'].text(0.02, 0.95, 'veg 50%, bedrock 40%, ice 10%', transform=mosaic['c'].transAxes, fontsize=25, verticalalignment='top')



fig = plt.figure(figsize=(30, 20), layout = 'tight')
mosaic = fig.subplot_mosaic('''
                            aaa
                            bbb
                            ccc
                            ''')


sns.boxplot(ax = mosaic['a'],  data=tlQstl, x='elevation', y='Qstl1_percent')#, hue = 'month', palette = 'magma_r') 
sns.boxplot(ax = mosaic['b'],  data=tlQstl, x='elevation', y='Qstl2_percent')#, hue = 'month', palette = 'magma_r')
sns.boxplot(ax = mosaic['c'],  data=tlQstl, x='elevation', y='Qstl3_percent')#, hue = 'month', palette = 'magma_r')

# Add horizontal lines at y=100
mosaic['a'].axhline(y=100, color='blue', linestyle='--', linewidth=1)
mosaic['b'].axhline(y=100, color='blue', linestyle='--', linewidth=1)
mosaic['c'].axhline(y=100, color='blue', linestyle='--', linewidth=1)


# Adding text to the top-left corner of each subplot
mosaic['a'].text(0.02, 0.95, 'veg 40%, bedrock 40%, ice 20%', transform=mosaic['a'].transAxes, fontsize=25, verticalalignment='top')
mosaic['b'].text(0.02, 0.95, 'veg 40%, bedrock 50%, ice 10%', transform=mosaic['b'].transAxes, fontsize=25, verticalalignment='top')
mosaic['c'].text(0.02, 0.95, 'veg 50%, bedrock 40%, ice 10%', transform=mosaic['c'].transAxes, fontsize=25, verticalalignment='top')















path_tl = '/Users/varyabazilova/Desktop/paper2/202406_modelruns/30years/2024Nov_output/'
location = 'langtang'
method = 'once'
percentile = '30percent'

lc1 = pd.read_csv(path_tl+f'SL_{method}/output_{percentile}/{location}_monthly_sum_elevation_Q100_landcover1_{percentile}.csv')
lc2 = pd.read_csv(path_tl+f'SL_{method}/output_{percentile}/{location}_monthly_sum_elevation_Q100_landcover2_{percentile}.csv')
lc3 = pd.read_csv(path_tl+f'SL_{method}/output_{percentile}/{location}_monthly_sum_elevation_Q100_landcover3_{percentile}.csv')
lc4 = pd.read_csv(path_tl+f'SL_{method}/output_{percentile}/{location}_monthly_sum_elevation_Q100_landcover4_{percentile}.csv')


tllc1 = pd.read_csv(path_tl+f'TL/{location}_monthly_sum_elevation_Qstl_landcover1.csv')
tllc2 = pd.read_csv(path_tl+f'TL/{location}_monthly_sum_elevation_Qstl_landcover2.csv')
tllc3 = pd.read_csv(path_tl+f'TL/{location}_monthly_sum_elevation_Qstl_landcover3.csv')
tllc4 = pd.read_csv(path_tl+f'TL/{location}_monthly_sum_elevation_Qstl_landcover4.csv')






# sl calculations 

lc1_melted = prepare_for_boxplots(lc1, 'Q100', 'Q1001')
lc2_melted = prepare_for_boxplots(lc2, 'Q100', 'Q1002')
lc3_melted = prepare_for_boxplots(lc3, 'Q100', 'Q1003')
lc4_melted = prepare_for_boxplots(lc4, 'Q100', 'Q1004')


slQ100 = lc1_melted.merge(lc2_melted[['Q1002', 'id']], on='id') \
                     .merge(lc3_melted[['Q1003', 'id']], on='id') \
                     .merge(lc4_melted[['Q1004', 'id']], on='id')

slQ100['Q1001'] = slQ100['Q1001'].replace(0, np.nan)
slQ100['Q1002'] = slQ100['Q1002'].replace(0, np.nan)
slQ100['Q1003'] = slQ100['Q1003'].replace(0, np.nan)
slQ100['Q1004'] = slQ100['Q1004'].replace(0, np.nan)


for col in ['Q1001', 'Q1002', 'Q1003']:
    slQ100[f'{col}_percent'] = (slQ100[col] / slQ100['Q1004']) * 100



# tl calculations 

tllc1_melted = prepare_for_boxplots(tllc1, 'Qstl', 'Qstl1')
tllc2_melted = prepare_for_boxplots(tllc2, 'Qstl', 'Qstl2')
tllc3_melted = prepare_for_boxplots(tllc3, 'Qstl', 'Qstl3')
tllc4_melted = prepare_for_boxplots(tllc4, 'Qstl', 'Qstl4')

tl = tllc1_melted.merge(tllc2_melted[['Qstl2', 'id']], on='id') \
                     .merge(tllc3_melted[['Qstl3', 'id']], on='id') \
                     .merge(tllc4_melted[['Qstl4', 'id']], on='id')


# for col in ['Q1001', 'Q1002', 'Q1003']:
#     slQ100[f'{col}_percent'] = (slQ100[col] / slQ100['Q1004']) * 100


percent_of_tl = slQ100.copy()

percent_of_tl['lc1_percent_of_tl'] = (slQ100.Q1001/tl.Qstl1) * 100
percent_of_tl['lc2_percent_of_tl'] = (slQ100.Q1002/tl.Qstl2) * 100
percent_of_tl['lc3_percent_of_tl'] = (slQ100.Q1003/tl.Qstl3) * 100
percent_of_tl['lc4_percent_of_tl'] = (slQ100.Q1004/tl.Qstl4) * 100



fig = plt.figure(figsize=(20, 20), layout = 'tight')
mosaic = fig.subplot_mosaic('''
                            aaa
                            bbb
                            ccc
                            ddd
                            ''')


sns.barplot(ax = mosaic['a'], x='month', y='lc1_percent_of_tl', hue = 'elevation_bin', data=percent_of_tl, palette = 'magma_r') 
sns.barplot(ax = mosaic['b'], x='month', y='lc2_percent_of_tl', hue = 'elevation_bin', data=percent_of_tl, palette = 'magma_r')
sns.barplot(ax = mosaic['c'], x='month', y='lc3_percent_of_tl', hue = 'elevation_bin', data=percent_of_tl, palette = 'magma_r')
sns.barplot(ax = mosaic['d'], x='month', y='lc4_percent_of_tl', hue = 'elevation_bin', data=percent_of_tl, palette = 'magma_r')


sns.move_legend(mosaic['a'], "upper left", bbox_to_anchor=(1, 1))
sns.move_legend(mosaic['b'], "upper left", bbox_to_anchor=(1, 1))
sns.move_legend(mosaic['c'], "upper left", bbox_to_anchor=(1, 1))
sns.move_legend(mosaic['d'], "upper left", bbox_to_anchor=(1, 1))

# Add horizontal lines at y=100
mosaic['a'].axhline(y=100, color='blue', linestyle='--', linewidth=1)
mosaic['b'].axhline(y=100, color='blue', linestyle='--', linewidth=1)
mosaic['c'].axhline(y=100, color='blue', linestyle='--', linewidth=1)
mosaic['d'].axhline(y=100, color='blue', linestyle='--', linewidth=1)


# Adding text to the top-left corner of each subplot
mosaic['a'].text(0.02, 0.95, 'veg 40%, bedrock 40%, ice 20%', transform=mosaic['a'].transAxes, fontsize=25, verticalalignment='top')
mosaic['b'].text(0.02, 0.95, 'veg 40%, bedrock 50%, ice 10%', transform=mosaic['b'].transAxes, fontsize=25, verticalalignment='top')
mosaic['c'].text(0.02, 0.95, 'veg 50%, bedrock 40%, ice 10%', transform=mosaic['c'].transAxes, fontsize=25, verticalalignment='top')
mosaic['d'].text(0.02, 0.95, 'veg 40%, bedrock 60%, ice 0%',  transform=mosaic['d'].transAxes, fontsize=25, verticalalignment='top')

fig.suptitle(f'SL output, sediemnt input {method}, {percentile}, expressed as % of TL', fontsize = 20)




















# percent of the reference land cover 

fig = plt.figure(figsize=(30, 20), layout = 'tight')
mosaic = fig.subplot_mosaic('''
                            aaa
                            bbb
                            ccc
                            ''')


sns.barplot(ax = mosaic['a'],  data=slQ100, x='month', y='Q1001_percent', hue = 'elevation_bin', palette = 'magma_r') 
sns.barplot(ax = mosaic['b'],  data=slQ100, x='month', y='Q1002_percent', hue = 'elevation_bin', palette = 'magma_r')
sns.barplot(ax = mosaic['c'],  data=slQ100, x='month', y='Q1003_percent', hue = 'elevation_bin', palette = 'magma_r')

# Add horizontal lines at y=100
mosaic['a'].axhline(y=100, color='blue', linestyle='--', linewidth=1)
mosaic['b'].axhline(y=100, color='blue', linestyle='--', linewidth=1)
mosaic['c'].axhline(y=100, color='blue', linestyle='--', linewidth=1)


# Adding text to the top-left corner of each subplot
mosaic['a'].text(0.02, 0.95, 'veg 40%, bedrock 40%, ice 20%', transform=mosaic['a'].transAxes, fontsize=25, verticalalignment='top')
mosaic['b'].text(0.02, 0.95, 'veg 40%, bedrock 50%, ice 10%', transform=mosaic['b'].transAxes, fontsize=25, verticalalignment='top')
mosaic['c'].text(0.02, 0.95, 'veg 50%, bedrock 40%, ice 10%', transform=mosaic['c'].transAxes, fontsize=25, verticalalignment='top')


plt.suptitle('percent of the reference land cover, SL case', fontsize = 25)





path_tl = '/Users/varyabazilova/Desktop/paper2/202406_modelruns/30years/2024Nov_output/'
location = 'langtang'
method = 'once'
percentile = '60percent'

lc120 = pd.read_csv(path_tl+f'SL_{method}/output_20percent/{location}_monthly_sum_elevation_Q100_landcover1_20percent.csv')
lc130 = pd.read_csv(path_tl+f'SL_{method}/output_30percent/{location}_monthly_sum_elevation_Q100_landcover1_30percent.csv')
lc140 = pd.read_csv(path_tl+f'SL_{method}/output_40percent/{location}_monthly_sum_elevation_Q100_landcover1_40percent.csv')
lc150 = pd.read_csv(path_tl+f'SL_{method}/output_50percent/{location}_monthly_sum_elevation_Q100_landcover1_50percent.csv')
lc160 = pd.read_csv(path_tl+f'SL_{method}/output_60percent/{location}_monthly_sum_elevation_Q100_landcover1_60percent.csv')

lc120_melted = prepare_for_boxplots(lc120, 'Q100', 'Q100')
lc130_melted = prepare_for_boxplots(lc130, 'Q100', 'Q100')
lc140_melted = prepare_for_boxplots(lc140, 'Q100', 'Q100')
lc150_melted = prepare_for_boxplots(lc150, 'Q100', 'Q100')
lc160_melted = prepare_for_boxplots(lc160, 'Q100', 'Q100')




percentiles = slQ100.copy()[['date_id', 'month', 'elevation', 'elevation_bin', 'id']]

percentiles['20percent_of_tl'] = (lc120_melted.Q100/tl.Qstl1) * 100
percentiles['30percent_of_tl'] = (lc130_melted.Q100/tl.Qstl1) * 100
percentiles['40percent_of_tl'] = (lc140_melted.Q100/tl.Qstl1) * 100
percentiles['50percent_of_tl'] = (lc150_melted.Q100/tl.Qstl1) * 100
percentiles['60percent_of_tl'] = (lc160_melted.Q100/tl.Qstl1) * 100




fig = plt.figure(figsize=(30, 20), layout = 'tight')
mosaic = fig.subplot_mosaic('''
                            aaa
                            bbb
                            ccc
                            ddd
                            eee
                            ''')


sns.barplot(ax = mosaic['a'],  data=percentiles, x='month', y='20percent_of_tl', hue = 'elevation_bin', palette = 'magma_r', errorbar = None) 
sns.barplot(ax = mosaic['b'],  data=percentiles, x='month', y='30percent_of_tl', hue = 'elevation_bin', palette = 'magma_r', errorbar = None)
sns.barplot(ax = mosaic['c'],  data=percentiles, x='month', y='40percent_of_tl', hue = 'elevation_bin', palette = 'magma_r', errorbar = None)
sns.barplot(ax = mosaic['d'],  data=percentiles, x='month', y='50percent_of_tl', hue = 'elevation_bin', palette = 'magma_r', errorbar = None)
sns.barplot(ax = mosaic['e'],  data=percentiles, x='month', y='60percent_of_tl', hue = 'elevation_bin', palette = 'magma_r', errorbar = None)

# Add horizontal lines at y=100
mosaic['a'].axhline(y=100, color='blue', linestyle='--', linewidth=1)
mosaic['b'].axhline(y=100, color='blue', linestyle='--', linewidth=1)
mosaic['c'].axhline(y=100, color='blue', linestyle='--', linewidth=1)
mosaic['d'].axhline(y=100, color='blue', linestyle='--', linewidth=1)
mosaic['e'].axhline(y=100, color='blue', linestyle='--', linewidth=1)




