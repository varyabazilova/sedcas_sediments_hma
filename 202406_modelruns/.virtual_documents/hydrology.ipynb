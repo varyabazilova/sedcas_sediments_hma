# check if these degree day factors make sense 

import pandas as pd
import matplotlib.pyplot as plt
import numpy as np


path = '/Users/varyabazilova/Desktop/paper2/202406_modelruns/30years/4landcover/'
hydro = pd.read_csv(path + 'langtang_climate_cut/20a/Hydro.out')#.set_index('D')


hydro


plt.figure(figsize = (20, 5))
# hydro.snow.plot()
hydro.Q.plot()


# count snow days

# hydro = hydro[hydro.snowacc > 0]
hydro['snowday_count'] = hydro['snow'].apply(lambda x: 1 if x > 0 else 0)




# hydro.snowday_count.plot()


# Define your custom function
def count_snow_hours(df):
    df['D'] = pd.to_datetime(df['D'])
    df['Year'] = df['D'].dt.year
    df = df.resample('D').mean()
    annual_sum = df.groupby('Year').sum()
    count = annual_sum.snowday_count.mean()
    return annual_sum


count = count_snow_days(hydro)



count['snowday_count_day'] = count.snowday_count


hydro.snow.plot()


# count.snowday_count_day
count



len(hydro)


np.count_nonzero(hydro.snow)



