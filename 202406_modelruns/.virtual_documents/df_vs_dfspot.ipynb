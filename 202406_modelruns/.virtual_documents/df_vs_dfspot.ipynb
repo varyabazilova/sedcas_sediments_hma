import pandas as pd
import seaborn as sns
import matplotlib.pyplot as plt
import os

import functions


pathout = '/Users/varyabazilova/Desktop/paper2/202406_modelruns/30years/test/langtang_climate_cut/12a/Sediment.out'
sedout  = pd.read_csv(pathout)





# Compare two columns
are_columns_equal = (sedout['Q100'] == sedout['Qstl']).all()

# Print the result
print(are_columns_equal)


def calculate_percent_of_potential(sediments):
    sediments['dfs_percent']  = (sediments.dfs * 100) / sediments.dfspot
    sediments['so_percent']   = (sediments.so * 100) / sediments.sopot
    sediments['conc_percent'] = (sediments.conc * 100) / sediments.concpot
    return sediments 





method = 'daily'

landcover_idx = 1
location = 'mustang'

percentile = '20percent'
landcover = f'landcover{landcover_idx}'


# path to data
folder_path = f'/Volumes/Extreme SSD/202409_paper2_modelruns/30years/SL_{method}/{landcover_idx}landcover_{percentile}/{location}_climate_cut'

# output_path = f'/Users/varyabazilova/Desktop/paper2/202406_modelruns/30years/SL_{method}/output_{percentile}/'

print('folder with data:\n',folder_path) 
print('  ')

print('landcover id:', landcover_idx)


%%time

# folder with data 

# Iterate over the files in the folders
for folder_name in os.listdir(folder_path):
    # skip all csvs and . files
    if folder_name.endswith('.csv'):
        continue
    if folder_name.startswith('.'):
        continue 
    
    file_path = os.path.join(folder_path, folder_name, 'Sediment.out') #create a path to file 
    sediments = pd.read_csv(file_path)
    sediments_upd = calculate_percent_of_potential(sediments)
    
    # Save the updated dataframe back as 'Sediment.out' in the same folder
    output_path = os.path.join(folder_path, folder_name, 'Sediment.out')
    print(output_path)
    sediments_upd.to_csv(output_path, index=False)
    




