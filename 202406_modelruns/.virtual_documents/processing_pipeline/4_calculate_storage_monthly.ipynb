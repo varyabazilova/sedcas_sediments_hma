import pandas as pd
import matplotlib.pyplot as plt
import seaborn

import os
import functions 



def sediment_storage(sediments):
    '''
    sediments - sediment output file
    column - column with sediment storage
    '''
    sediments['D'] = pd.to_datetime(sediments.D)
    sediments = sediments.set_index('D')
    monthly_last = sediments.resample('M').last()
    monthly_last = monthly_last.reset_index()
    monthly_last['year'] = monthly_last.D.dt.year
    monthly_last['month'] = monthly_last.D.dt.month
    return monthly_last














%%time

# Define the list of landcover indices and percentiles
landcover_indices = [1, 2, 3, 4, 5]
percentiles = ['20percent', '30percent', '40percent', '50percent', '60percent']
# percentiles = ['30percent']
location = 'mustang'
method = 'once' 

# Set the column and other parameters
column = 'sc'

# Load elevation data and define the output path
elevation = pd.read_csv(f'/Users/varyabazilova/Desktop/paper2/downscaling_simple/coordinates_and_elevation_with_labels_{location}.csv')[['cellnr2', 'band_data']]
elevation = elevation.transpose()
elevation_list = elevation.loc['cellnr2'].tolist() 


df = pd.DataFrame()  # Assuming `df` is initialized as needed

# Loop over each landcover index
for landcover_idx in landcover_indices:
    # Loop over each percentile
    for percentile in percentiles:
        print(f"Processing landcover index {landcover_idx} and percentile {percentile}")
        
        # Define folder paths
        folder_path = f'/Volumes/T7 Shield/202409_paper2_modelruns/May2025_30years/SL_{method}/{landcover_idx}landcover_{percentile}/{location}_climate_cut'
        output_folder = f'/Users/varyabazilova/Desktop/paper2/202406_modelruns/30years/2025Jan_output/sediment_storage/'
        result_df = pd.DataFrame()

        # Iterate over files in the folder
        for folder_name in os.listdir(folder_path):
            # Skip hidden and .csv files
            if folder_name.endswith('.csv') or folder_name.startswith('.'):
                continue

            file_path = os.path.join(folder_path, folder_name, 'Sediment.out')
            if os.path.isfile(file_path):
                # Read sediment data and calculate monthly sediment yield
                sediments = pd.read_csv(file_path)
                output_df = sediment_storage(sediments)
                
                # Take the specified column and rename it
                name_column = output_df[column]
                column_name = f'{column}_{folder_name}'
                result_df[column_name] = name_column
                result_df.columns = [col[-3:] for col in result_df.columns]

        # Filter and check columns with elevation list
        result_df = result_df[elevation_list]
        if elevation_list == result_df.columns.tolist():
            print("default land cover. monthly data: same")
        else:
            print("not the same")

        # Rename columns according to elevation, merge with timestep, and add land cover info
        result_df.columns = elevation.loc['band_data']
        result_df = pd.concat([df, result_df], axis=1)
        result_df['land_cover'] = f'landcover{landcover_idx}'

        # Save the DataFrame to a CSV file with both landcover and percentile in the filename
        output_filename = f'{location}_sediment_storage_end_of_each_month_{method}_landcover{landcover_idx}_{percentile}.csv'
        result_df.to_csv(os.path.join(output_folder, output_filename), index=False)

        print(f"Saved {output_filename}")











path = '/Volumes/T7 Shield/202409_paper2_modelruns/30years/SL_daily/1landcover_20percent/langtang_climate_cut/13c/Sediment.out'



