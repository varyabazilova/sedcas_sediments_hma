import pandas as pd
import os


snow_mrate = 0.08                  # 100%

# ice should be 30% higher 
ice_mrate = (snow_mrate*130)/100   # 130%


ice_mrate/snow_mrate



def update_parameter_file(folder, paramfile, value):
    # Iterate over all folders in the given directory
    for folder_name in os.listdir(folder):
        folder_path = os.path.join(folder, folder_name)

        # Check if it's a directory
        if os.path.isdir(folder_path):
            paramfile_path = os.path.join(folder_path, paramfile)

            # Check if the parameter file exists in the folder
            if os.path.exists(paramfile_path):
                with open(paramfile_path, 'r') as file:
                    lines = file.readlines()

                # Update the specific line with the new value
                for i, line in enumerate(lines):
                    if line.startswith("mrate_ice:"):
                        lines[i] = f"mrate_ice:{value}\n"
                        break

                # Write the updated lines back to the parameter file
                with open(paramfile_path, 'w') as file:
                    file.writelines(lines)
                print(f"Updated {paramfile_path}")
            else:
                print(f"{paramfile} not found in {folder_name}")

                

# # folder = '/Users/varyabazilova/Desktop/paper2/202406_modelruns/30years/4landcover/mustang_climate_cut/'
# folders = ['/Users/varyabazilova/Desktop/paper2/202406_modelruns/30years/TL_data/3landcover/langtang_climate_cut',
#            '/Users/varyabazilova/Desktop/paper2/202406_modelruns/30years/TL_data/3landcover/mustang_climate_cut']
           
#            '/Users/varyabazilova/Desktop/paper2/202406_modelruns/30years/TL_data/2landcover/langtang_climate_cut',
#            '/Users/varyabazilova/Desktop/paper2/202406_modelruns/30years/TL_data/2landcover/mustang_climate_cut'] 
           
#            '/Volumes/varyabazilova/Desktop/paper2/202406_modelruns/30years/TL_data/3landcover/langtang_climate_cut', 
#            '/Volumes/varyabazilova/Desktop/paper2/202406_modelruns/30years/TL_data/3landcover/mustang_climate_cut', 
           
#            '/Volumes/varyabazilova/Desktop/paper2/202406_modelruns/30years/TL_data/4landcover/langtang_climate_cut', 
#            '/Volumes/varyabazilova/Desktop/paper2/202406_modelruns/30years/TL_data/4landcover/mustang_climate_cut']


percentile = '60percent'

folders = [f'/Volumes/T7 Shield/202409_paper2_modelruns/May2025_30years/SL_once/1landcover_{percentile}/langtang_climate_cut',
           f'/Volumes/T7 Shield/202409_paper2_modelruns/May2025_30years/SL_once/1landcover_{percentile}/mustang_climate_cut',

           f'/Volumes/T7 Shield/202409_paper2_modelruns/May2025_30years/SL_once/2landcover_{percentile}/langtang_climate_cut',
           f'/Volumes/T7 Shield/202409_paper2_modelruns/May2025_30years/SL_once/2landcover_{percentile}/mustang_climate_cut',

           f'/Volumes/T7 Shield/202409_paper2_modelruns/May2025_30years/SL_once/3landcover_{percentile}/langtang_climate_cut',
           f'/Volumes/T7 Shield/202409_paper2_modelruns/May2025_30years/SL_once/3landcover_{percentile}/mustang_climate_cut',

           f'/Volumes/T7 Shield/202409_paper2_modelruns/May2025_30years/SL_once/4landcover_{percentile}/langtang_climate_cut',
           f'/Volumes/T7 Shield/202409_paper2_modelruns/May2025_30years/SL_once/4landcover_{percentile}/mustang_climate_cut',
        
           f'/Volumes/T7 Shield/202409_paper2_modelruns/May2025_30years/SL_once/5landcover_{percentile}/langtang_climate_cut',
           f'/Volumes/T7 Shield/202409_paper2_modelruns/May2025_30years/SL_once/5landcover_{percentile}/mustang_climate_cut']




paramfile = 'parameters.par'

value = ice_mrate

for f in folders:
    update_parameter_file(f, paramfile, value)







