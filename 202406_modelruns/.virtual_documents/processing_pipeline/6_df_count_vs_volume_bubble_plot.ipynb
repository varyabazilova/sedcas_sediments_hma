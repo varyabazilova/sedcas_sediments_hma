import functions 




import pandas as pd
import matplotlib.pyplot as plt
import seaborn as sns 

import matplotlib.patches as mpatches
import matplotlib.lines as mlines
import matplotlib.cm as cm

import matplotlib.colors as mcolors

import numpy as np





# read those files 
location = 'mustang'
outpath = '/Users/varyabazilova/Desktop/paper2/202406_modelruns/30years/2025May_output/df_vs_floods/'

landcover1O = pd.read_csv(outpath + f'{location}_df_vs_floods_once_landcover1.csv', index_col=0)
landcover2O = pd.read_csv(outpath + f'{location}_df_vs_floods_once_landcover2.csv', index_col=0)
landcover3O = pd.read_csv(outpath + f'{location}_df_vs_floods_once_landcover3.csv', index_col=0)
landcover4O = pd.read_csv(outpath + f'{location}_df_vs_floods_once_landcover4.csv', index_col=0)
landcover5O = pd.read_csv(outpath + f'{location}_df_vs_floods_once_landcover5.csv', index_col=0)


landcover1D = pd.read_csv(outpath + f'{location}_df_vs_floods_daily_landcover1.csv', index_col=0)
landcover2D = pd.read_csv(outpath + f'{location}_df_vs_floods_daily_landcover2.csv', index_col=0)
landcover3D = pd.read_csv(outpath + f'{location}_df_vs_floods_daily_landcover3.csv', index_col=0)
landcover4D = pd.read_csv(outpath + f'{location}_df_vs_floods_daily_landcover4.csv', index_col=0)
landcover5D = pd.read_csv(outpath + f'{location}_df_vs_floods_daily_landcover5.csv', index_col=0)



# landcover5D


    
def monthly_mean(df):
    mean = df.groupby(['month']).mean().reset_index() 
    return mean


landcover1monthlyO = monthly_mean(landcover1O)
landcover2monthlyO = monthly_mean(landcover2O)
landcover3monthlyO = monthly_mean(landcover3O)
landcover4monthlyO = monthly_mean(landcover4O)
landcover5monthlyO = monthly_mean(landcover5O)

landcover1monthlyO['landcover']='landcover 1'
landcover2monthlyO['landcover']='landcover 2'
landcover3monthlyO['landcover']='landcover 3'
landcover4monthlyO['landcover']='landcover 4'
landcover5monthlyO['landcover']='landcover 5'

landcover1monthlyD = monthly_mean(landcover1D)
landcover2monthlyD = monthly_mean(landcover2D)
landcover3monthlyD = monthly_mean(landcover3D)
landcover4monthlyD = monthly_mean(landcover4D)
landcover5monthlyD = monthly_mean(landcover5D)


landcover1monthlyD['landcover']='landcover 1'
landcover2monthlyD['landcover']='landcover 2'
landcover3monthlyD['landcover']='landcover 3'
landcover4monthlyD['landcover']='landcover 4'
landcover5monthlyD['landcover']='landcover 5'

landcover_all_month_daily = pd.concat([landcover1monthlyD, landcover2monthlyD, landcover3monthlyD, 
                                       landcover4monthlyD, landcover5monthlyD])

landcover_all_month_once = pd.concat([landcover1monthlyO, landcover2monthlyO, landcover3monthlyO, 
                                      landcover4monthlyO, landcover5monthlyO])


landcover_all_month_daily['id'] = landcover_all_month_daily['landcover'] + '_' + landcover_all_month_daily['year'].astype(int).astype(str) + '_' + landcover_all_month_daily['month'].astype(str)
landcover_all_month_once['id'] = landcover_all_month_once['landcover'] + '_' + landcover_all_month_once['year'].astype(int).astype(str) + '_' + landcover_all_month_once['month'].astype(str)






# read those files 
outpath = '/Users/varyabazilova/Desktop/paper2/202406_modelruns/30years/2025May_output/df_vs_floods/dfs_volume/'

landcover1O = pd.read_csv(outpath + f'{location}_df_volumes_once_landcover1.csv', index_col=0)
landcover2O = pd.read_csv(outpath + f'{location}_df_volumes_once_landcover2.csv', index_col=0)
landcover3O = pd.read_csv(outpath + f'{location}_df_volumes_once_landcover3.csv', index_col=0)
landcover4O = pd.read_csv(outpath + f'{location}_df_volumes_once_landcover4.csv', index_col=0)
landcover5O = pd.read_csv(outpath + f'{location}_df_volumes_once_landcover5.csv', index_col=0)


landcover1D = pd.read_csv(outpath + f'{location}_df_volumes_daily_landcover1.csv', index_col=0)
landcover2D = pd.read_csv(outpath + f'{location}_df_volumes_daily_landcover2.csv', index_col=0)
landcover3D = pd.read_csv(outpath + f'{location}_df_volumes_daily_landcover3.csv', index_col=0)
landcover4D = pd.read_csv(outpath + f'{location}_df_volumes_daily_landcover4.csv', index_col=0)
landcover5D = pd.read_csv(outpath + f'{location}_df_volumes_daily_landcover5.csv', index_col=0)



landcover1monthlyO = monthly_mean(landcover1O)
landcover2monthlyO = monthly_mean(landcover2O)
landcover3monthlyO = monthly_mean(landcover3O)
landcover4monthlyO = monthly_mean(landcover4O)
landcover5monthlyO = monthly_mean(landcover5O)

landcover1monthlyO['landcover']='landcover 1'
landcover2monthlyO['landcover']='landcover 2'
landcover3monthlyO['landcover']='landcover 3'
landcover4monthlyO['landcover']='landcover 4'
landcover5monthlyO['landcover']='landcover 5'

landcover1monthlyD = monthly_mean(landcover1D)
landcover2monthlyD = monthly_mean(landcover2D)
landcover3monthlyD = monthly_mean(landcover3D)
landcover4monthlyD = monthly_mean(landcover4D)
landcover5monthlyD = monthly_mean(landcover5D)

landcover1monthlyD['landcover']='landcover 1'
landcover2monthlyD['landcover']='landcover 2'
landcover3monthlyD['landcover']='landcover 3'
landcover4monthlyD['landcover']='landcover 4'
landcover5monthlyD['landcover']='landcover 5'


landcover_all_month_daily_vol = pd.concat([landcover1monthlyD, landcover2monthlyD, landcover3monthlyD, 
                                       landcover4monthlyD, landcover5monthlyD])

landcover_all_month_once_vol = pd.concat([landcover1monthlyO, landcover2monthlyO, landcover3monthlyO, 
                                      landcover4monthlyO, landcover5monthlyO])


landcover_all_month_daily_vol['id'] = landcover_all_month_daily_vol['landcover'] + '_' + landcover_all_month_daily_vol['year'].astype(int).astype(str) + '_' + landcover_all_month_daily_vol['month'].astype(str)
landcover_all_month_once_vol['id'] = landcover_all_month_once_vol['landcover'] + '_' + landcover_all_month_once_vol['year'].astype(int).astype(str) + '_' + landcover_all_month_once_vol['month'].astype(str)




outpath = '/Users/varyabazilova/Desktop/paper2/202406_modelruns/30years/2025May_output/df_vs_floods/count_and_volume/'

# once_all = landcover_all_month_once_vol.merge(landcover_all_month_once, on =['id', 'month', 'year', 'elevation', 'landcover'])
# once_all.to_csv(outpath + f'{location}_landcover_all_count_and_volumes_once.csv')


# daily_all = landcover_all_month_daily_vol.merge(landcover_all_month_daily, on =['id', 'month', 'year', 'elevation', 'landcover'])
# daily_all.to_csv(outpath + f'{location}_landcover_all_count_and_volumes_daily.csv')









langtang_once =pd.read_csv(outpath + 'langtang_landcover_all_count_and_volumes_once.csv', index_col = 0)
langtang_daily =pd.read_csv(outpath + 'langtang_landcover_all_count_and_volumes_daily.csv', index_col = 0)


mustang_once =pd.read_csv(outpath + 'mustang_landcover_all_count_and_volumes_once.csv', index_col = 0)
mustang_daily =pd.read_csv(outpath + 'mustang_landcover_all_count_and_volumes_daily.csv', index_col = 0)


langtang_once.columns




















testdaily1= mustang_daily[mustang_daily['landcover'].str.strip() == 'landcover 1']
testonce1= mustang_once[mustang_once['landcover'].str.strip() ==    'landcover 1']



fig = plt.figure(figsize=(20, 5), layout='tight')
mosaic = fig.subplot_mosaic('''
                            abcde
                            ABCDE
                            ''')


sns.barplot(data = testdaily1, y = 'dfs_count_20_percent', x='month', ax = mosaic['a'], hue = 'dfs_volume_20percent')
sns.barplot(data = testdaily1, y = 'dfs_count_30_percent', x='month', ax = mosaic['b'], hue = 'dfs_volume_30percent')#, hue = 'elevation_bin',, legend = False)
sns.barplot(data = testdaily1, y = 'dfs_count_40_percent', x='month', ax = mosaic['c'], hue = 'dfs_volume_40percent')#, hue = 'elevation_bin',, legend = False)
sns.barplot(data = testdaily1, y = 'dfs_count_50_percent', x='month', ax = mosaic['d'], hue = 'dfs_volume_50percent')
sns.barplot(data = testdaily1, y = 'dfs_count_60_percent', x='month', ax = mosaic['e'], hue = 'dfs_volume_60percent')

sns.barplot(data = testonce1, y = 'dfs_count_20_percent', x='month', ax = mosaic['A'], hue = 'dfs_volume_20percent')
sns.barplot(data = testonce1, y = 'dfs_count_30_percent', x='month', ax = mosaic['B'], hue = 'dfs_volume_30percent')#, hue = 'elevation_bin',, legend = False)
sns.barplot(data = testonce1, y = 'dfs_count_40_percent', x='month', ax = mosaic['C'], hue = 'dfs_volume_40percent')#, hue = 'elevation_bin',, legend = False)
sns.barplot(data = testonce1, y = 'dfs_count_50_percent', x='month', ax = mosaic['D'], hue = 'dfs_volume_50percent')
sns.barplot(data = testonce1, y = 'dfs_count_60_percent', x='month', ax = mosaic['E'], hue = 'dfs_volume_60percent')






testonce1.columns


'month', 'year', 'elevation', 'dfs_volume_30percent',
'dfs_volume_20percent', 'dfs_volume_60percent', 'dfs_volume_40percent',
'dfs_volume_50percent', 'landcover', 'id', 'dfs_count_30percent',
'dfs_count_20percent', 'dfs_count_60percent', 'dfs_count_40percent',
'dfs_count_50percent', 'dfspot_count', 'dfs_count_60_percent',
'dfs_count_50_percent', 'dfs_count_40_percent', 'dfs_count_30_percent',
'dfs_count_20_percent', 'ffs_count_60', 'ffs_count_50', 'ffs_count_40',
'ffs_count_30', 'ffs_count_20', 'ffs_count_60_percent',
'ffs_count_50_percent', 'ffs_count_40_percent', 'ffs_count_30_percent',
'ffs_count_20_percent'

# langtang_daily





columns20 = ['dfs_count_20_percent','ffs_count_20_percent','dfs_volume_20percent', 'dfspot_count', 'landcover', 'month','year',	'elevation']
columns30 = ['dfs_count_30_percent','ffs_count_30_percent','dfs_volume_30percent', 'dfspot_count', 'landcover', 'month','year',	'elevation']
columns40 = ['dfs_count_40_percent','ffs_count_40_percent','dfs_volume_40percent', 'dfspot_count', 'landcover', 'month','year',	'elevation']
columns50 = ['dfs_count_50_percent','ffs_count_50_percent','dfs_volume_50percent', 'dfspot_count', 'landcover', 'month','year',	'elevation']
columns60 = ['dfs_count_60_percent','ffs_count_60_percent','dfs_volume_60percent', 'dfspot_count', 'landcover', 'month','year',	'elevation']


daily20 = langtang_daily[columns20]
daily30 = langtang_daily[columns30]
daily40 = langtang_daily[columns40]
daily50 = langtang_daily[columns50]
daily60 = langtang_daily[columns60]

once20 = langtang_once[columns20]
once30 = langtang_once[columns30]
once40 = langtang_once[columns40]
once50 = langtang_once[columns50]
once60 = langtang_once[columns60]



import pandas as pd

# Define a function to rename columns
def rename_and_add_column(df, percentile):
    df = df.rename(columns={
        df.columns[0]: 'dfs_count_percent',  # Renaming first column
        df.columns[1]: 'ffs_count_percent',   # Renaming second column
        df.columns[2]: 'dfs_volume',
    })
    df['percentile_input'] = f'{percentile} percent'
    return df

# Rename and add column for each dataframe
daily20 = rename_and_add_column(daily20, 20)
daily30 = rename_and_add_column(daily30, 30)
daily40 = rename_and_add_column(daily40, 40)
daily50 = rename_and_add_column(daily50, 50)
daily60 = rename_and_add_column(daily60, 60)

# Concatenate all dataframes
df_daily = pd.concat([daily20, daily30, daily40, daily50, daily60], ignore_index=True)

df_daily1= df_daily[df_daily.landcover =='landcover 1']
df_daily2= df_daily[df_daily.landcover =='landcover 2']
df_daily3= df_daily[df_daily.landcover =='landcover 3']
df_daily4= df_daily[df_daily.landcover =='landcover 4']
df_daily5= df_daily[df_daily.landcover =='landcover 5']


# Rename and add column for each dataframe
once20 = rename_and_add_column(once20, 20)
once30 = rename_and_add_column(once30, 30)
once40 = rename_and_add_column(once40, 40)
once50 = rename_and_add_column(once50, 50)
once60 = rename_and_add_column(once60, 60)

# Concatenate all dataframes
df_once = pd.concat([once20, once30, once40, once50, once60], ignore_index=True)

df_once1= df_once[df_once.landcover =='landcover 1']
df_once2= df_once[df_once.landcover =='landcover 2']
df_once3= df_once[df_once.landcover =='landcover 3']
df_once4= df_once[df_once.landcover =='landcover 4']
df_once5= df_once[df_once.landcover =='landcover 5']








daily20m = mustang_daily[columns20]
daily30m = mustang_daily[columns30]
daily40m = mustang_daily[columns40]
daily50m = mustang_daily[columns50]
daily60m = mustang_daily[columns60]

once20m = mustang_once[columns20]
once30m = mustang_once[columns30]
once40m = mustang_once[columns40]
once50m = mustang_once[columns50]
once60m = mustang_once[columns60]




# Rename and add column for each dataframe
daily20m = rename_and_add_column(daily20m, 20)
daily30m = rename_and_add_column(daily30m, 30)
daily40m = rename_and_add_column(daily40m, 40)
daily50m = rename_and_add_column(daily50m, 50)
daily60m = rename_and_add_column(daily60m, 60)

# Concatenate all dataframes
df_daily_m = pd.concat([daily20m, daily30m, daily40m, daily50m, daily60m], ignore_index=True)

df_daily1m= df_daily_m[df_daily_m.landcover =='landcover 1']
df_daily2m= df_daily_m[df_daily_m.landcover =='landcover 2']
df_daily3m= df_daily_m[df_daily_m.landcover =='landcover 3']
df_daily4m= df_daily_m[df_daily_m.landcover =='landcover 4']
df_daily5m= df_daily_m[df_daily_m.landcover =='landcover 5']


# Rename and add column for each dataframe
once20m = rename_and_add_column(once20m, 20)
once30m = rename_and_add_column(once30m, 30)
once40m = rename_and_add_column(once40m, 40)
once50m = rename_and_add_column(once50m, 50)
once60m = rename_and_add_column(once60m, 60)

# Concatenate all dataframes
df_once_m = pd.concat([once20m, once30m, once40m, once50m, once60m], ignore_index=True)

df_once1m= df_once_m[df_once_m.landcover =='landcover 1']
df_once2m= df_once_m[df_once_m.landcover =='landcover 2']
df_once3m= df_once_m[df_once_m.landcover =='landcover 3']
df_once4m= df_once_m[df_once_m.landcover =='landcover 4']
df_once5m= df_once_m[df_once_m.landcover =='landcover 5']







# Convert categorical landcover to numeric for plotting
percentile_numeric, percentile_labels = pd.factorize(df_once1m.percentile_input)
numeric_labels = [int(label.replace(" percent", "")) for label in percentile_labels]

# other plot parameters 
vmin = 0
vmax = 100
center = vmax/2

plt.rcParams.update({'font.size': 12})


# Convert categorical landcover to numeric for plotting
percentile_numeric, percentile_labels = pd.factorize(df_once1m.percentile_input)
numeric_labels = [int(label.replace(" percent", "")) for label in percentile_labels]



# # Define normalization with midpoint at 50%
norm = mcolors.TwoSlopeNorm(vmin=vmin, vcenter=center, vmax=vmax)



df_daily1.columns














import matplotlib.pyplot as plt
import numpy as np
from matplotlib.colors import ListedColormap, BoundaryNorm

# 10 discrete colors: perceptually uniform, colorblind-friendly (blue to red)
colors = [
    "#2166ac",  # deep blue (0–10%)
    "#4393c3",  # blue
    "#92c5de",  # light blue
    "#d1e5f0",  # pale blue
    "#ffffcc",  # yellow (middle ~50%)
    "#fddbc7",  # peach
    "#f4a582",  # light red-orange
    "#d6604d",  # medium red
    "#b2182b",  # red
    "#67001f"   # dark red (90–100%)
]


# Create discrete colormap
cmap_discrete = ListedColormap(colors, name='cb_discrete10')

# Optional: define normalization to 10 bins (0–100%)
bounds = np.linspace(0, 100, 11)
norm = BoundaryNorm(bounds, cmap_discrete.N)

# Visualize
fig, ax = plt.subplots(figsize=(6, 1))
cb = plt.colorbar(
    plt.cm.ScalarMappable(cmap=cmap_discrete, norm=norm),
    cax=ax, orientation='horizontal', ticks=bounds
)
cb.set_label('% Value')
plt.title("10-Color Colorblind-Friendly Colormap (0–100%)")
plt.show()



# plt.subplots_adjust(hspace=0, wspace=0)  # Reduce spacing between subplots


fig = plt.figure(figsize=(20, 7.5), layout='constrained')
mosaic = fig.subplot_mosaic('''
                            kkkkkkkkllllllllmmmmmmmmnnnnnnnnoooooooop
                            AAAAAAAABBBBBBBBCCCCCCCCDDDDDDDDEEEEEEEEj
                            AAAAAAAABBBBBBBBCCCCCCCCDDDDDDDDEEEEEEEEj
                            AAAAAAAABBBBBBBBCCCCCCCCDDDDDDDDEEEEEEEEj
                            AAAAAAAABBBBBBBBCCCCCCCCDDDDDDDDEEEEEEEEj
                            AAAAAAAABBBBBBBBCCCCCCCCDDDDDDDDEEEEEEEEj
                            AAAAAAAABBBBBBBBCCCCCCCCDDDDDDDDEEEEEEEEj
                            aaaaaaaabbbbbbbbccccccccddddddddeeeeeeeei
                            aaaaaaaabbbbbbbbccccccccddddddddeeeeeeeei
                            aaaaaaaabbbbbbbbccccccccddddddddeeeeeeeei
                            aaaaaaaabbbbbbbbccccccccddddddddeeeeeeeei
                            aaaaaaaabbbbbbbbccccccccddddddddeeeeeeeei
                            aaaaaaaabbbbbbbbccccccccddddddddeeeeeeeei
                            ''')



# THIS IS GREY MONSOON BACKGROUND PART

# List of subplot keys where the grey background should be applied
target_axes = ['a', 'b', 'c', 'd', 'e','A', 'B', 'C', 'D', 'E']

# Apply axvspan **only to the target axes**
for key in target_axes:
    mosaic[key].axvspan(5 - 0.5, 9 + 0.5, color='grey', alpha=0.1)

# THIS IS CMAP 
#cmap = plt.get_cmap('gnuplot', 10)

# these ones i like
# cmap = plt.get_cmap('turbo', 10)
# cmap = plt.get_cmap('seismic', 10)
cmap = plt.get_cmap('nipy_spectral', 10)
# cmap = cmap_discrete


#THIS IS LANGTANG PART 

s1=mosaic['A'].scatter(x = df_daily1.month, y = percentile_numeric-0.20, c = df_daily1.dfs_count_percent, s = df_daily1.dfs_volume*10, cmap = cmap, norm=norm, edgecolor = 'none')
mosaic['A'].scatter(x = df_once1.month, y = percentile_numeric+0.20, c = df_once1.dfs_count_percent, s = df_once1.dfs_volume*10, cmap = cmap, norm=norm, edgecolor = 'none')

mosaic['B'].scatter(x = df_daily2.month, y = percentile_numeric-0.20, c = df_daily2.dfs_count_percent, s = df_daily2.dfs_volume*10, cmap = cmap, norm=norm,  edgecolor = 'none')
mosaic['B'].scatter(x = df_once2.month,  y = percentile_numeric+0.20,  c = df_once2.dfs_count_percent,  s = df_once2.dfs_volume*10, cmap = cmap, norm=norm)

mosaic['C'].scatter(x = df_daily3.month, y = percentile_numeric-0.20, c = df_daily3.dfs_count_percent, s = df_daily3.dfs_volume*10, cmap = cmap, norm=norm,  edgecolor = 'none')
mosaic['C'].scatter(x = df_once3.month,  y = percentile_numeric+0.20,  c = df_once3.dfs_count_percent,  s = df_once3.dfs_volume*10, cmap = cmap, norm=norm)

mosaic['D'].scatter(x = df_daily4.month, y = percentile_numeric-0.20, c = df_daily4.dfs_count_percent, s = df_daily4.dfs_volume*10, cmap = cmap, norm=norm,  edgecolor = 'none')
mosaic['D'].scatter(x = df_once4.month,  y = percentile_numeric+0.20,  c = df_once4.dfs_count_percent,  s = df_once4.dfs_volume*10, cmap = cmap, norm=norm)


mosaic['E'].scatter(x = df_daily5.month, y = percentile_numeric-0.20, c = df_daily5.dfs_count_percent, s = df_daily5.dfs_volume*10, cmap = cmap, norm=norm,  edgecolor = 'none')
mosaic['E'].scatter(x = df_once5.month,  y = percentile_numeric+0.20,  c = df_once5.dfs_count_percent,  s = df_once5.dfs_volume*10, cmap = cmap, norm=norm)


mosaic['A'].set_yticks(range(len(percentile_labels)))
mosaic['A'].set_yticklabels(percentile_labels)





# # Add labels to panel A to distinguish daily vs once data
# mosaic['A'].text(0.35, 0.87, 'daily', transform=mosaic['A'].transAxes, ha='right', va='center', fontsize=13, style='italic')
# mosaic['A'].text(0.35, 0.97, 'once', transform=mosaic['A'].transAxes, ha='right', va='center', fontsize=13, style='italic')


# Option 3: Simple letters
mosaic['A'].text(0.25, 0.87, 'once ->', transform=mosaic['A'].transAxes, ha='center', va='center', fontsize=12)#, weight='italic')
mosaic['A'].text(0.25, 0.97, 'daily ->', transform=mosaic['A'].transAxes, ha='center', va='center', fontsize=12)#, weight='italic')

# THIS IS MUSTANG PART

s1 = mosaic['a'].scatter(x = df_daily1m.month, y = percentile_numeric-0.20, c = df_daily1m.dfs_count_percent, s = df_daily1m.dfs_volume*10, cmap = cmap, norm=norm, edgecolor = 'none')
mosaic['a'].scatter(x = df_once1m.month, y = percentile_numeric+0.20, c = df_once1m.dfs_count_percent, s = df_once1m.dfs_volume*10, cmap = cmap, norm=norm, edgecolor = 'none')

mosaic['b'].scatter(x = df_daily2m.month, y = percentile_numeric-0.20, c = df_daily2m.dfs_count_percent, s = df_daily2m.dfs_volume*10, cmap = cmap, norm=norm,  edgecolor = 'none')
mosaic['b'].scatter(x =  df_once2m.month, y = percentile_numeric+0.20,  c = df_once2m.dfs_count_percent,  s = df_once2m.dfs_volume*10, cmap = cmap, norm=norm)

mosaic['c'].scatter(x = df_daily3m.month, y = percentile_numeric-0.20, c = df_daily3m.dfs_count_percent, s = df_daily3m.dfs_volume*10, cmap = cmap, norm=norm,  edgecolor = 'none')
mosaic['c'].scatter(x =  df_once3m.month,  y = percentile_numeric+0.20, c = df_once3m.dfs_count_percent,  s = df_once3m.dfs_volume*10, cmap = cmap, norm=norm)

mosaic['d'].scatter(x = df_daily4m.month, y = percentile_numeric-0.20, c = df_daily4m.dfs_count_percent, s = df_daily4m.dfs_volume*10, cmap = cmap, norm=norm,  edgecolor = 'none')
mosaic['d'].scatter(x =  df_once4m.month,  y = percentile_numeric+0.20, c = df_once4m.dfs_count_percent,  s = df_once4m.dfs_volume*10, cmap = cmap, norm=norm)


mosaic['e'].scatter(x = df_daily5m.month, y = percentile_numeric-0.20, c = df_daily5m.dfs_count_percent, s = df_daily5m.dfs_volume*10, cmap = cmap, norm=norm,  edgecolor = 'none')
mosaic['e'].scatter(x = df_once5m.month,  y = percentile_numeric+0.20,  c = df_once5m.dfs_count_percent,  s = df_once5m.dfs_volume*10, cmap = cmap, norm=norm)


mosaic['a'].set_yticks(range(len(percentile_labels)))
mosaic['a'].set_yticklabels(percentile_labels)




# THIS IS AXIS PART 

for key in ['a', 'b', 'c', 'd', 'e']:
    mosaic[key].set_xticks(df_once1.month.unique())  # Set tick positions
    mosaic[key].set_xticklabels(df_once1.month.unique())#, rotation=45)  # Set tick labels, rotate

for key in ['a']:
    mosaic[key].set_yticks(range(len(percentile_labels)))
    # mosaic[key].set_yticklabels(percentile_labels)
    mosaic[key].set_yticklabels(numeric_labels)

for key in ['A']:
    mosaic[key].set_yticks(range(len(percentile_labels)))
    # mosaic[key].set_yticklabels(percentile_labels)
    mosaic[key].set_yticklabels(numeric_labels)

for key in ['b', 'c', 'd', 'e', 'B', 'C', 'D', 'E']:
    mosaic[key].set_yticklabels([])

for key in ['A', 'B', 'C', 'D', 'E']:
    mosaic[key].set_xticklabels([])


fig.text(
    x=-0.015,              # x-position in figure 
    y=0.5,               # y-position (centered vertically)
    s="Sediment limitation [percentile]",   # your label text
    va='center',         # vertical alignment
    rotation='vertical', # rotate to be vertical
    fontsize=14          # or whatever you like
)



mosaic['k'].set_title('Landcover 1')
mosaic['l'].set_title('Landcover 2')
mosaic['m'].set_title('Landcover 3')
mosaic['n'].set_title('Landcover 4')
mosaic['o'].set_title('Landcover 5')



# ---- THIS IS LANDCOVER PART


# color bar for land cover shares 

# Define color proportions for each panel (Green, Yellow, Gray)
shares = [
    (40, 40, 20),  # First bar: 40% green (veg) , 30% grey (bedrock), 30% blue (glacier)
    (40, 50, 10),
    (50, 40, 10),
    (40, 60, 00),
    (60, 40, 00),
]

# Iterate over the bar row and create the proportional bars
for i, key in enumerate("klmno"):
    bar_ax = mosaic[key]  # Select the correct subplot for the bar

    # Remove ticks, labels, and spines
    bar_ax.set_xticks([])
    bar_ax.set_yticks([])
    bar_ax.set_frame_on(False)

    # Extract proportions (must sum to 100%)
    p1, p2, p3 = shares[i]  # Green, Yellow, Gray

    # Convert percentages to width (normalized to 1)
    p1 /= 100
    p2 /= 100
    p3 /= 100

    # Plot the three segments
    bar_ax.barh(0, p1, height=4, color='green', align='center', alpha=0.8)
    bar_ax.barh(0, p2, height=4, color='lightgray', left=p1, align='center', hatch = '//')
    bar_ax.barh(0, p3, height=4, color='lightblue', left=p1 + p2, align='center')
    bar_ax.set_xlim(0, 1)





# Define labels for ABCDE and abcde panels
labels = {
    "A": "L1", "B": "L2", "C": "L3", "D": "L4", "E": "L5",
    "a": "M1", "b": "M2", "c": "M3", "d": "M4", "e": "M5"
}

# Iterate over only the panels that need labels
for key, ax in mosaic.items():
    if key in labels:  # Only label the specified panels
        ax.text(0.02, 0.85, labels[key], transform=ax.transAxes, 
                ha='left', va='top', fontsize=17, color = 'grey')




# LEGEND THINGS 

fig.patch.set_facecolor('xkcd:white')
from mpl_toolkits.axes_grid1.inset_locator import inset_axes

# # Create an inset axis inside panel 'd' with better positioning
cax = inset_axes(mosaic['i'], width="50%", height="100%", loc='center')

# Create the colorbar

cmap = cmap

cbar = fig.colorbar(plt.cm.ScalarMappable(cmap=cmap, norm=norm), 
                     cax=cax, orientation='vertical')

mosaic['i'].set_facecolor('none')  # Make the background transparent

mosaic['i'].spines['top'].set_visible(False)
mosaic['i'].spines['right'].set_visible(False)
mosaic['i'].spines['bottom'].set_visible(False)
mosaic['i'].spines['left'].set_visible(False)
mosaic['i'].set_xticklabels([])
mosaic['i'].set_yticklabels([])
mosaic['i'].set_yticks([])
mosaic['i'].set_xticks([])
mosaic['i'].set_ylabel('% of DF')


mosaic['p'].set_facecolor('none')  # Make the background transparent
mosaic['p'].spines['top'].set_visible(False)
mosaic['p'].spines['right'].set_visible(False)
mosaic['p'].spines['bottom'].set_visible(False)
mosaic['p'].spines['left'].set_visible(False)
mosaic['p'].set_xticklabels([])
mosaic['p'].set_yticklabels([])
mosaic['p'].set_yticks([])
mosaic['p'].set_xticks([])




# LEGEND BUBBLES 
# bubbles = pd.DataFrame({'value':[ 0.02, 0.06, 0.7, 1.4, 2.7]})

bubbles = pd.DataFrame({'value':[ 1.3, 10, 25, 35, 50]})

bubbles['xposition'] = 2
bubles = bubbles.reset_index()

mosaic['j'].scatter(x = bubbles.xposition, y = bubbles.index, s = bubbles.value*10, color = 'none', edgecolor = 'black')
mosaic['j'].set_ylim(-3, 10)

# Add labels to the bubbles
for i, row in bubbles.iterrows():
    mosaic['j'].text(row['xposition'] + 0.1, row.name, str(row['value']), ha='left', va='center')
    # values = [2.7, 2.2, 0.7, 0.06, 0.02, 0.006]

mosaic['j'].text(2, 7.5,  'DF volume \n [monthly mean \n 1990-2022, mm]', ha='center', va='center', fontsize=14, fontstyle = 'italic')


mosaic['j'].spines['top'].set_visible(False)
mosaic['j'].spines['right'].set_visible(False)
mosaic['j'].spines['bottom'].set_visible(False)
mosaic['j'].spines['left'].set_visible(False)
mosaic['j'].set_xticklabels([])
mosaic['j'].set_yticklabels([])
mosaic['j'].set_yticks([])
mosaic['j'].set_xticks([])



# plt.savefig('/Users/varyabazilova/Desktop/paper2/plots_experiments/landcover_df_percent_vs_df_volume_bubbles_all.png', bbox_inches = 'tight', dpi = 300)


plt.scatter(x = df_once1.dfs_volume,  y = df_once5.dfs_volume)
plt.scatter(x = df_once1.dfs_volume,  y = df_once4.dfs_volume)
plt.scatter(x = df_once1.dfs_volume,  y = df_once3.dfs_volume)
plt.scatter(x = df_once1.dfs_volume,  y = df_once2.dfs_volume)


plt.yscale('log')


import matplotlib.pyplot as plt
import numpy as np
from matplotlib.colors import ListedColormap, BoundaryNorm

# 10 discrete colors: perceptually uniform, colorblind-friendly (blue to red)
colors = [
    "#2166ac",  # deep blue (0–10%)
    "#4393c3",  # medium blue
    "#92c5de",  # light blue
    "#d1e5f0",  # very light blue
    "#f7f7f7",  # white (~50%)
    "#fddbc7",  # light peach
    "#f4a582",  # light orange
    "#d6604d",  # medium red-orange
    "#b2182b",  # red
    "#67001f"   # dark red (90–100%)
]

# Create discrete colormap
cmap_discrete = ListedColormap(colors, name='cb_discrete10')

# Optional: define normalization to 10 bins (0–100%)
bounds = np.linspace(0, 100, 11)
norm = BoundaryNorm(bounds, cmap_discrete.N)

# Visualize
fig, ax = plt.subplots(figsize=(6, 1))
cb = plt.colorbar(
    plt.cm.ScalarMappable(cmap=cmap_discrete, norm=norm),
    cax=ax, orientation='horizontal', ticks=bounds
)
cb.set_label('% Value')
plt.title("10-Color Colorblind-Friendly Colormap (0–100%)")
plt.show()



import matplotlib.pyplot as plt
import numpy as np
from matplotlib.colors import ListedColormap, BoundaryNorm

# 10 discrete, colorblind-friendly colors with yellow midpoint
colors = [
    "#2166ac",  # deep blue (0–10%)
    "#4393c3",  # blue
    "#92c5de",  # light blue
    "#d1e5f0",  # pale blue
    "#ffffcc",  # yellow (middle ~50%)
    "#fddbc7",  # peach
    "#f4a582",  # light red-orange
    "#d6604d",  # medium red
    "#b2182b",  # red
    "#67001f"   # dark red (90–100%)
]

# Create colormap
cmap_tri = ListedColormap(colors, name='cb_tri_mid')

# Normalization: 10 bins (0–100%)
bounds = np.linspace(0, 100, 11)
norm = BoundaryNorm(bounds, cmap_tri.N)

# Visualize
fig, ax = plt.subplots(figsize=(6, 1))
cb = plt.colorbar(
    plt.cm.ScalarMappable(cmap=cmap_tri, norm=norm),
    cax=ax, orientation='horizontal', ticks=bounds
)
cb.set_label('% Value')
plt.title("Colorblind-Friendly Colormap with Midpoint Highlight")
plt.show()



























vmin = 0
vmax = 100
center = vmax/2

plt.rcParams.update({'font.size': 12})


# Convert categorical landcover to numeric for plotting
percentile_numeric, percentile_labels = pd.factorize(df_once1m.percentile_input)
numeric_labels = [int(label.replace(" percent", "")) for label in percentile_labels]



# # Define normalization with midpoint at 50%
norm = mcolors.TwoSlopeNorm(vmin=vmin, vcenter=center, vmax=vmax)

plt.subplots_adjust(hspace=0, wspace=0)  # Reduce spacing between subplots


fig = plt.figure(figsize=(20, 7.5), layout='constrained')
mosaic = fig.subplot_mosaic('''
                            kkkkkkkkllllllllmmmmmmmmnnnnnnnnoooooooop
                            AAAAAAAABBBBBBBBCCCCCCCCDDDDDDDDEEEEEEEEj
                            AAAAAAAABBBBBBBBCCCCCCCCDDDDDDDDEEEEEEEEj
                            AAAAAAAABBBBBBBBCCCCCCCCDDDDDDDDEEEEEEEEj
                            AAAAAAAABBBBBBBBCCCCCCCCDDDDDDDDEEEEEEEEj
                            AAAAAAAABBBBBBBBCCCCCCCCDDDDDDDDEEEEEEEEj
                            AAAAAAAABBBBBBBBCCCCCCCCDDDDDDDDEEEEEEEEj
                            aaaaaaaabbbbbbbbccccccccddddddddeeeeeeeei
                            aaaaaaaabbbbbbbbccccccccddddddddeeeeeeeei
                            aaaaaaaabbbbbbbbccccccccddddddddeeeeeeeei
                            aaaaaaaabbbbbbbbccccccccddddddddeeeeeeeei
                            aaaaaaaabbbbbbbbccccccccddddddddeeeeeeeei
                            aaaaaaaabbbbbbbbccccccccddddddddeeeeeeeei
                            ''')



# THIS IS GREY MONSOON BACKGROUND PART

# List of subplot keys where the grey background should be applied
target_axes = ['a', 'b', 'c', 'd', 'e','A', 'B', 'C', 'D', 'E']

# Apply axvspan **only to the target axes**
for key in target_axes:
    mosaic[key].axvspan(5 - 0.5, 9 + 0.5, color='grey', alpha=0.1)



# THIS IS LANGTANG PART # 

s1 = mosaic['A'].scatter(x = df_daily1.month, y = percentile_numeric-0.20, c = df_daily1.dfs_count_percent, s = df_daily1.dfspot_count*200, cmap = 'coolwarm', norm=norm, edgecolor = 'none')
mosaic['A'].scatter(x = df_once1.month, y = percentile_numeric+0.20, c = df_once1.dfs_count_percent, s = df_once1.dfspot_count*200, cmap = 'coolwarm', norm=norm, edgecolor = 'none')

mosaic['B'].scatter(x = df_daily2.month, y = percentile_numeric-0.20, c = df_daily2.dfs_count_percent, s = df_daily2.dfspot_count*200, cmap = 'coolwarm', norm=norm,  edgecolor = 'none')
mosaic['B'].scatter(x = df_once2.month,  y = percentile_numeric+0.20,  c = df_once2.dfs_count_percent,  s = df_once2.dfspot_count*200, cmap = 'coolwarm', norm=norm)

mosaic['C'].scatter(x = df_daily3.month, y = percentile_numeric-0.20, c = df_daily3.dfs_count_percent, s = df_daily3.dfspot_count*200, cmap = 'coolwarm', norm=norm,  edgecolor = 'none')
mosaic['C'].scatter(x = df_once3.month,  y = percentile_numeric+0.20,  c = df_once3.dfs_count_percent,  s = df_once3.dfspot_count*200, cmap = 'coolwarm', norm=norm)

mosaic['D'].scatter(x = df_daily4.month, y = percentile_numeric-0.20, c = df_daily4.dfs_count_percent, s = df_daily4.dfspot_count*200, cmap = 'coolwarm', norm=norm,  edgecolor = 'none')
mosaic['D'].scatter(x = df_once4.month,  y = percentile_numeric+0.20,  c = df_once4.dfs_count_percent,  s = df_once4.dfspot_count*200, cmap = 'coolwarm', norm=norm)


mosaic['E'].scatter(x = df_daily5.month, y = percentile_numeric-0.20, c = df_daily5.dfs_count_percent, s = df_daily5.dfspot_count*200, cmap = 'coolwarm', norm=norm,  edgecolor = 'none')
mosaic['E'].scatter(x = df_once5.month,  y = percentile_numeric+0.20,  c = df_once5.dfs_count_percent,  s = df_once5.dfspot_count*200, cmap = 'coolwarm', norm=norm)


mosaic['A'].set_yticks(range(len(percentile_labels)))
mosaic['A'].set_yticklabels(percentile_labels)


# THIS IS MUSTANG PART

s1 = mosaic['a'].scatter(x = df_daily1m.month, y = percentile_numeric-0.20, c = df_daily1m.dfs_count_percent, s = df_daily1m.dfspot_count*200, cmap = 'coolwarm', norm=norm, edgecolor = 'none')
mosaic['a'].scatter(x = df_once1m.month, y = percentile_numeric+0.20, c = df_once1m.dfs_count_percent, s = df_once1m.dfspot_count*200, cmap = 'coolwarm', norm=norm, edgecolor = 'none')

mosaic['b'].scatter(x = df_daily2m.month, y = percentile_numeric-0.20, c = df_daily2m.dfs_count_percent, s = df_daily2m.dfspot_count*200, cmap = 'coolwarm', norm=norm,  edgecolor = 'none')
mosaic['b'].scatter(x =  df_once2m.month, y = percentile_numeric+0.20,  c = df_once2m.dfs_count_percent,  s = df_once2m.dfspot_count*200, cmap = 'coolwarm', norm=norm)

mosaic['c'].scatter(x = df_daily3m.month, y = percentile_numeric-0.20, c = df_daily3m.dfs_count_percent, s = df_daily3m.dfspot_count*200, cmap = 'coolwarm', norm=norm,  edgecolor = 'none')
mosaic['c'].scatter(x =  df_once3m.month,  y = percentile_numeric+0.20, c = df_once3m.dfs_count_percent,  s = df_once3m.dfspot_count*200, cmap = 'coolwarm', norm=norm)

mosaic['d'].scatter(x = df_daily4m.month, y = percentile_numeric-0.20, c = df_daily4m.dfs_count_percent, s = df_daily4m.dfspot_count*200, cmap = 'coolwarm', norm=norm,  edgecolor = 'none')
mosaic['d'].scatter(x =  df_once4m.month,  y = percentile_numeric+0.20, c = df_once4m.dfs_count_percent,  s = df_once4m.dfspot_count*200, cmap = 'coolwarm', norm=norm)


mosaic['e'].scatter(x = df_daily5m.month, y = percentile_numeric-0.20, c = df_daily5m.dfs_count_percent, s = df_daily5m.dfspot_count*200, cmap = 'coolwarm', norm=norm,  edgecolor = 'none')
mosaic['e'].scatter(x = df_once5m.month,  y = percentile_numeric+0.20,  c = df_once5m.dfs_count_percent,  s = df_once5m.dfspot_count*200, cmap = 'coolwarm', norm=norm)


mosaic['a'].set_yticks(range(len(percentile_labels)))
mosaic['a'].set_yticklabels(percentile_labels)


# THIS IS AXIS PART 

for key in ['a', 'b', 'c', 'd', 'e']:
    mosaic[key].set_xticks(df_once1.month.unique())  # Set tick positions
    mosaic[key].set_xticklabels(df_once1.month.unique())#, rotation=45)  # Set tick labels, rotate

for key in ['a']:
    mosaic[key].set_yticks(range(len(percentile_labels)))
    # mosaic[key].set_yticklabels(percentile_labels)
    mosaic[key].set_yticklabels(numeric_labels)

for key in ['A']:
    mosaic[key].set_yticks(range(len(percentile_labels)))
    # mosaic[key].set_yticklabels(percentile_labels)
    mosaic[key].set_yticklabels(numeric_labels)

for key in ['b', 'c', 'd', 'e', 'B', 'C', 'D', 'E']:
    mosaic[key].set_yticklabels([])

for key in ['A', 'B', 'C', 'D', 'E']:
    mosaic[key].set_xticklabels([])


fig.text(
    x=-0.015,              # x-position in figure 
    y=0.5,               # y-position (centered vertically)
    s="Sediment limitation [percentile]",   # your label text
    va='center',         # vertical alignment
    rotation='vertical', # rotate to be vertical
    fontsize=14          # or whatever you like
)






mosaic['k'].set_title('Landcover 1')
mosaic['l'].set_title('Landcover 2')
mosaic['m'].set_title('Landcover 3')
mosaic['n'].set_title('Landcover 4')
mosaic['o'].set_title('Landcover 5')



# THIS IS LANDCOVER PART


# color bar for land cover shares 

# Define color proportions for each panel (Green, Yellow, Gray)
shares = [
    (40, 40, 20),  # First bar: 40% green (veg) , 30% grey (bedrock), 30% blue (glacier)
    (40, 50, 10),
    (50, 40, 10),
    (40, 60, 00),
    (60, 40, 00),
]

# Iterate over the bar row and create the proportional bars
for i, key in enumerate("klmno"):
    bar_ax = mosaic[key]  # Select the correct subplot for the bar

    # Remove ticks, labels, and spines
    bar_ax.set_xticks([])
    bar_ax.set_yticks([])
    bar_ax.set_frame_on(False)

    # Extract proportions (must sum to 100%)
    p1, p2, p3 = shares[i]  # Green, Yellow, Gray

    # Convert percentages to width (normalized to 1)
    p1 /= 100
    p2 /= 100
    p3 /= 100

    # Plot the three segments
    bar_ax.barh(0, p1, height=4, color='green', align='center', alpha=0.8)
    bar_ax.barh(0, p2, height=4, color='lightgray', left=p1, align='center', hatch = '//')
    bar_ax.barh(0, p3, height=4, color='lightblue', left=p1 + p2, align='center')
    bar_ax.set_xlim(0, 1)





# Define labels for ABCDE and abcde panels
labels = {
    "A": "A1", "B": "A2", "C": "A3", "D": "A4", "E": "A5",
    "a": "B1", "b": "B2", "c": "B3", "d": "B4", "e": "B5"
}

# Iterate over only the panels that need labels
for key, ax in mosaic.items():
    if key in labels:  # Only label the specified panels
        ax.text(0.02, 0.85, labels[key], transform=ax.transAxes, 
                ha='left', va='top', fontsize=17, color = 'grey')






# LEGEND THINGS 

fig.patch.set_facecolor('xkcd:white')
from mpl_toolkits.axes_grid1.inset_locator import inset_axes

# # Create an inset axis inside panel 'd' with better positioning
cax = inset_axes(mosaic['i'], width="50%", height="100%", loc='center')

# Create the colorbar

cmap = plt.cm.coolwarm

cbar = fig.colorbar(plt.cm.ScalarMappable(cmap=cmap, norm=norm), 
                     cax=cax, orientation='vertical')

mosaic['i'].set_facecolor('none')  # Make the background transparent

mosaic['i'].spines['top'].set_visible(False)
mosaic['i'].spines['right'].set_visible(False)
mosaic['i'].spines['bottom'].set_visible(False)
mosaic['i'].spines['left'].set_visible(False)
mosaic['i'].set_xticklabels([])
mosaic['i'].set_yticklabels([])
mosaic['i'].set_yticks([])
mosaic['i'].set_xticks([])
mosaic['i'].set_ylabel('% of DF')


mosaic['p'].set_facecolor('none')  # Make the background transparent
mosaic['p'].spines['top'].set_visible(False)
mosaic['p'].spines['right'].set_visible(False)
mosaic['p'].spines['bottom'].set_visible(False)
mosaic['p'].spines['left'].set_visible(False)
mosaic['p'].set_xticklabels([])
mosaic['p'].set_yticklabels([])
mosaic['p'].set_yticks([])
mosaic['p'].set_xticks([])


# LEGEND BUBBLES 
bubbles = pd.DataFrame({'value':[ 0.02, 0.06, 0.7, 1.4, 2.7]})
bubbles['xposition'] = 2
bubles = bubbles.reset_index()

mosaic['j'].scatter(x = bubbles.xposition, y = bubbles.index, s = bubbles.value*200, color = 'none', edgecolor = 'black')
mosaic['j'].set_ylim(-3, 10)

# Add labels to the bubbles
for i, row in bubbles.iterrows():
    mosaic['j'].text(row['xposition'] + 0.1, row.name, str(row['value']), ha='left', va='center')
    # values = [2.7, 2.2, 0.7, 0.06, 0.02, 0.006]

mosaic['j'].text(2, 7.5,  'TL DF count \n [mean \n 1990-2022]', ha='center', va='center', fontsize=14, fontstyle = 'italic')


mosaic['j'].spines['top'].set_visible(False)
mosaic['j'].spines['right'].set_visible(False)
mosaic['j'].spines['bottom'].set_visible(False)
mosaic['j'].spines['left'].set_visible(False)
mosaic['j'].set_xticklabels([])
mosaic['j'].set_yticklabels([])
mosaic['j'].set_yticks([])
mosaic['j'].set_xticks([])



# plt.savefig('/Users/varyabazilova/Desktop/paper2/plots_experiments/landcover_df_vs_ff_bubbles_all.png', bbox_inches = 'tight', dpi = 300)



