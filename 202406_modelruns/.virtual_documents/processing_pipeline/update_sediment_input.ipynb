import functions

import pandas as pd
import os





# # define value to update the sediment input parameter PER DAY 
# # name = 'annual_mean_Qstl_m3_day'
# # name = 'annual_25percent_Qstl_m3_day'

# # name = 'annual_mean_Qstl_m3'



# landcover_idx = 1
# location = 'mustang'
# percentile = '20percent'

# # for the ONCE per year landslide input use VALUE PER DAY (it gets multiplied on 365 in the function!)
# # name = f'annual_{percentile}_Qstl_m3_day'
# name = f'annual_{percentile}_Qstl_m3_day'


# directory_path = '/Users/varyabazilova/Desktop/paper2/202406_modelruns/30years/TL_output'
# # directory_path =  f'/Users/varyabazilova/Desktop/paper2/202406_modelruns/30years/TL_output/{landcover}landcover/{location}_climate_cut'
# # folder =          f'/Users/varyabazilova/Desktop/paper2/202406_modelruns/30years/SL_daily/{landcover}landcover_{percentile}/{location}_climate_cut'
# # folder =          f'/Users/varyabazilova/Desktop/paper2/202406_modelruns/30years/SL_daily/{landcover_idx}landcover_{percentile}/{location}_climate_cut'
# folder =          f'/Volumes/Extreme SSD/202409_paper2_modelruns/30years/SL_daily/{landcover_idx}landcover_{percentile}/{location}_climate_cut'


# sediment = pd.read_csv(directory_path + f'/{location}_annual_mean_percentiles_for_sediment_input_landcover{landcover_idx}.csv')[['index', name]].set_index('index')



# sediment


def update_parameter_file(folder, index, paramfile, sediment_value):
    folder_name = [folder_name for folder_name in os.listdir(folder) if folder_name.endswith(index)][0]  # Extract folder name
    folder_path = os.path.join(folder, folder_name)
    paramfile_path = os.path.join(folder_path, paramfile)
    with open(paramfile_path, 'r') as file:
        lines = file.readlines()

    for i, line in enumerate(lines):
        if line.startswith("sediment_input:"):
            # Update the value for "sediment_input"
            lines[i] = f"sediment_input:{sediment_value}\n"
            break

    # Write the updated lines back to the parameter file
    with open(paramfile_path, 'w') as file:
        file.writelines(lines)



# List of landcover indices
landcover_indices = [1, 2, 3, 4, 5]
location = 'mustang'
percentile = '60percent'
paramfile = 'parameters.par'  # Parameter file name
method = 'daily'

name = f'annual_{percentile}_Qstl_m3_day'

print(name)
# Iterate over each landcover index
for landcover_idx in landcover_indices:
    # Update folder paths based on the current landcover index
    directory_path = f'/Users/varyabazilova/Desktop/paper2/202406_modelruns/30years/TL_output'

    folder = f'/Volumes/Extreme SSD/202409_paper2_modelruns/30years/SL_{method}/{landcover_idx}landcover_{percentile}/{location}_climate_cut'
    # Read the sediment data for the current landcover index
    sediment = pd.read_csv(
        directory_path + f'/{location}_annual_100percent_Qstl_m3_percentiles_for_sediment_input_landcover{landcover_idx}.csv')[['index', name]].set_index('index')
    # Iterate over each index in the sediment DataFrame and update the parameter file
    for index in sediment.index:
        sediment_value = sediment.loc[index, name]
        update_parameter_file(folder, index, paramfile, sediment_value)
        
    print(f"Processed landcover index {landcover_idx}")

print(percentile)


# sediment



