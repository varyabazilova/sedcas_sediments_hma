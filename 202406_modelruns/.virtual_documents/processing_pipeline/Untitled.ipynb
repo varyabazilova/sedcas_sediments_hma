import pandas as pd
import seaborn as sns
import matplotlib.pyplot as plt 
from matplotlib import cm


import functions





folder = '/Users/varyabazilova/Desktop/paper2/202406_modelruns/30years/output/1july_hydro/'

glmelt1 =pd.read_csv(folder + 'mustang_monthly_sum_elevation_glacier_melt_1landcover_mm.csv')
glmelt2 =pd.read_csv(folder + 'mustang_monthly_sum_elevation_glacier_melt_2landcover_mm.csv')
glmelt3 =pd.read_csv(folder + 'mustang_monthly_sum_elevation_glacier_melt_3landcover_mm.csv')




def prepare_for_plot(df, landcover, variable):
    df = df.drop('folder', axis = 1)
    melted = pd.melt(df, id_vars=['year', 'month'], var_name='elevation', value_name='value')
    
    melted['elevation'] = melted['elevation'].astype(str).str.extract(r'^(\d+)')[0].astype(int)
    melted['elevation_bin'] = melted.apply(functions.bin_elevation500, axis=1)
    melted['date_id'] = melted['year'].astype(str) + "_" + melted['month'].astype(str) + "_" + melted['elevation'].astype(str)
    melted = melted.sort_values('date_id')
    melted['landcover'] = landcover
    melted['variable'] = variable
    return melted 



glmelt1 = prepare_for_plot(glmelt1, 'landcover 1', 'glmelt')
glmelt2 = prepare_for_plot(glmelt2, 'landcover 2', 'glmelt')
glmelt3 = prepare_for_plot(glmelt3, 'landcover 3', 'glmelt')


glmelt3


fig = plt.figure(figsize=(18, 6), layout='tight')
mosaic = fig.subplot_mosaic('''
                            abc
                            ''', sharey = True)


palette = 'coolwarm'


sns.barplot(data=glmelt1,  x="month", y="value", hue="variable", ax=mosaic['a'], palette = palette, dodge=True, width=1.5)
sns.barplot(data=glmelt2, x="month", y="value", hue="variable", ax=mosaic['b'], palette = palette, dodge=True, width=1.5, legend = False)
sns.barplot(data=glmelt3, x="month", y="value", hue="variable", ax=mosaic['c'], palette = palette, dodge=True, width=1.5, legend = False)




def group_data(data):
    grouped = (
        data.groupby(['month', 'elevation_bin', 'variable'])['value']
        .mean()
        .reset_index()
    )
    return grouped

dataframes = [glmelt1, glmelt2, glmelt3]#, combined_df4, combined_df5]

glmelt1 = group_data(glmelt1)
glmelt2 = group_data(glmelt2)
glmelt3 = group_data(glmelt3)






sns.lineplot(data = glmelt1,



