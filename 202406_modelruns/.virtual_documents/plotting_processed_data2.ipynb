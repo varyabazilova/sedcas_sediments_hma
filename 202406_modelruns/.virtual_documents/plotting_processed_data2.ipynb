


import pandas as pd
import seaborn as sns
import matplotlib.pyplot as plt

import functions





# output_path = '/Users/varyabazilova/Desktop/paper2/202406_modelruns/30years/'

location = 'langtang'

output_path = '/Users/varyabazilova/Desktop/paper2/202406_modelruns/30years/TL_output/'


lc1 = pd.read_csv(output_path + '1landcover/langtang_climate_cut/long_term_mean_monthly_Qstl_elevation_landcover1.csv')
lc2 = pd.read_csv(output_path + '2landcover/langtang_climate_cut/long_term_mean_monthly_Qstl_elevation_landcover2.csv')
lc3 = pd.read_csv(output_path + '3landcover/langtang_climate_cut/long_term_mean_monthly_Qstl_elevation_landcover3.csv')
lc4 = pd.read_csv(output_path + '4landcover/langtang_climate_cut/long_term_mean_monthly_Qstl_elevation_landcover4.csv')


langtang_elevation = pd.read_csv('/Users/varyabazilova/Desktop/paper2/downscaling_simple/coordinates_and_elevation_with_labels_langtang.csv')[['cellnr2','band_data']] 




# def prepare_for_boxplots(df, value_name):
#     # value name - column in the output dataframe
#     melted = pd.melt(df, id_vars=['month','land_cover'], var_name='elevation', value_name=value_name)
#     melted['elevation'] = melted['elevation'].astype(float)
#     melted['elevation_bin'] = melted.apply(functions.bin_elevation200, axis=1)
#     melted = melted.sort_values('elevation_bin')
#     return melted



def prepare_for_boxplots(df, value_name):
    # value name - column in the output dataframe
    melted = pd.melt(df, id_vars=['month','land_cover'], var_name='elevation', value_name=value_name)
    melted['elevation'] = melted['elevation'].str.split('.').str[0].astype(float)
    melted['elevation_bin'] = melted.apply(functions.bin_elevation200, axis=1)
    melted = melted.sort_values('elevation_bin')
    return melted


lc1_melted = prepare_for_boxplots(lc1, 'Qstl')
lc2_melted = prepare_for_boxplots(lc2, 'Qstl')
lc3_melted = prepare_for_boxplots(lc3, 'Qstl')
lc4_melted = prepare_for_boxplots(lc4, 'Qstl')






fig = plt.figure(figsize=(20, 20), layout = 'tight')
mosaic = fig.subplot_mosaic('''
                            aaa
                            bbb
                            ccc
                            ddd
                            ''')


sns.barplot(ax = mosaic['a'], x='month', y='Qstl', hue = 'elevation_bin', data=lc1_melted, palette = 'magma_r') 
sns.barplot(ax = mosaic['b'], x='month', y='Qstl', hue = 'elevation_bin', data=lc2_melted, palette = 'magma_r')
sns.barplot(ax = mosaic['c'], x='month', y='Qstl', hue = 'elevation_bin', data=lc3_melted, palette = 'magma_r')
sns.barplot(ax = mosaic['d'], x='month', y='Qstl', hue = 'elevation_bin', data=lc4_melted, palette = 'magma_r')


sns.move_legend(mosaic['a'], "upper left", bbox_to_anchor=(1, 1))
sns.move_legend(mosaic['b'], "upper left", bbox_to_anchor=(1, 1))
sns.move_legend(mosaic['c'], "upper left", bbox_to_anchor=(1, 1))
sns.move_legend(mosaic['d'], "upper left", bbox_to_anchor=(1, 1))

# Adding text to the top-left corner of each subplot
mosaic['a'].text(0.02, 0.95, 'veg 40%, bedrock 40%, ice 20%', transform=mosaic['a'].transAxes, fontsize=25, verticalalignment='top')
mosaic['b'].text(0.02, 0.95, 'veg 40%, bedrock 50%, ice 10%', transform=mosaic['b'].transAxes, fontsize=25, verticalalignment='top')
mosaic['c'].text(0.02, 0.95, 'veg 50%, bedrock 40%, ice 10%', transform=mosaic['c'].transAxes, fontsize=25, verticalalignment='top')
mosaic['d'].text(0.02, 0.95, 'veg 40%, bedrock 60%, ice 0%',  transform=mosaic['d'].transAxes, fontsize=25, verticalalignment='top')

fig.suptitle('TL output', fontsize = 20)














# output_path = '/Users/varyabazilova/Desktop/paper2/202406_modelruns/30years/'


# location = 'mustang'
# output_path = '/Users/varyabazilova/Desktop/paper2/202406_modelruns/30years/TL_output'

# lc1 = pd.read_csv(output_path + f'1landcover/{location}_climate_cut/long_term_mean_monthly_Qstl_elevation_landcover1.csv')
# lc2 = pd.read_csv(output_path + f'2landcover/{location}_climate_cut/long_term_mean_monthly_Qstl_elevation_landcover2.csv')
# lc3 = pd.read_csv(output_path + f'3landcover/{location}_climate_cut/long_term_mean_monthly_Qstl_elevation_landcover3.csv')
# # lc4 = pd.read_csv(output_path + f'4landcover/{location}_climate_cut/long_term_mean_monthly_Qstl_elevation_landcover4.csv')


# lc1_melted = prepare_for_boxplots(lc1, 'Qstl')
# lc2_melted = prepare_for_boxplots(lc2, 'Qstl')
# lc3_melted = prepare_for_boxplots(lc3, 'Qstl')
# lc4_melted = prepare_for_boxplots(lc4, 'Qstl')



''' calculate that for mustang!!! '''



# fig = plt.figure(figsize=(20, 20))
# mosaic = fig.subplot_mosaic('''
#                             aaa
#                             bbb
#                             ccc
#                             ddd
#                             ''')
'''

sns.barplot(ax = mosaic['a'], x='month', y='Qstl', hue = 'elevation_bin', data=lc1_melted, palette = 'magma_r', legend = True) 
sns.barplot(ax = mosaic['b'], x='month', y='Qstl', hue = 'elevation_bin', data=lc2_melted, palette = 'magma_r', legend = False)
sns.barplot(ax = mosaic['c'], x='month', y='Qstl', hue = 'elevation_bin', data=lc3_melted, palette = 'magma_r', legend = False)
sns.barplot(ax = mosaic['d'], x='month', y='Qstl', hue = 'elevation_bin', data=lc4_melted, palette = 'magma_r', legend = False)


sns.move_legend(mosaic['a'], "upper left", bbox_to_anchor=(1, 1))
# sns.move_legend(mosaic['b'], "upper left", bbox_to_anchor=(1, 1))
# sns.move_legend(mosaic['c'], "upper left", bbox_to_anchor=(1, 1))
# sns.move_legend(mosaic['d'], "upper left", bbox_to_anchor=(1, 1))

# Adding text to the top-left corner of each subplot
mosaic['a'].text(0.02, 0.95, 'veg 40%, bedrock 40%, ice 20%', transform=mosaic['a'].transAxes, fontsize=25, verticalalignment='top')
mosaic['b'].text(0.02, 0.95, 'veg 40%, bedrock 50%, ice 10%', transform=mosaic['b'].transAxes, fontsize=25, verticalalignment='top')
mosaic['c'].text(0.02, 0.95, 'veg 50%, bedrock 40%, ice 10%', transform=mosaic['c'].transAxes, fontsize=25, verticalalignment='top')
mosaic['d'].text(0.02, 0.95, 'veg 40%, bedrock 60%, ice 0%',  transform=mosaic['d'].transAxes, fontsize=25, verticalalignment='top')

'''





method = 'daily'
location = 'langtang'
percentile = '40percent'
column = 'Q100'

output_path = f'/Users/varyabazilova/Desktop/paper2/202406_modelruns/30years/SL_{method}'

lc1_annual_mean_daily = pd.read_csv(output_path + f'/output_{percentile}/{location}_long_term_mean_monthly_{column}_elevation_landcover1.csv')
lc2_annual_mean_daily = pd.read_csv(output_path + f'/output_{percentile}/{location}_long_term_mean_monthly_{column}_elevation_landcover2.csv')
lc3_annual_mean_daily = pd.read_csv(output_path + f'/output_{percentile}/{location}_long_term_mean_monthly_{column}_elevation_landcover3.csv')
lc4_annual_mean_daily = pd.read_csv(output_path + f'/output_{percentile}/{location}_long_term_mean_monthly_{column}_elevation_landcover4.csv')


lc1_melted_annual_mean_daily = prepare_for_boxplots(lc1_annual_mean_daily, 'Q100')
lc2_melted_annual_mean_daily = prepare_for_boxplots(lc2_annual_mean_daily, 'Q100')
lc3_melted_annual_mean_daily = prepare_for_boxplots(lc3_annual_mean_daily, 'Q100')
lc4_melted_annual_mean_daily = prepare_for_boxplots(lc4_annual_mean_daily, 'Q100')








fig = plt.figure(figsize=(20, 20), layout = 'tight')
mosaic = fig.subplot_mosaic('''
                            aaa
                            bbb
                            ccc
                            ddd
                            ''')


sns.barplot(ax = mosaic['a'], x='month', y='Q100', hue = 'elevation_bin', data=lc1_melted_annual_mean_daily, palette = 'magma_r', legend = True) 
sns.barplot(ax = mosaic['b'], x='month', y='Q100', hue = 'elevation_bin', data=lc2_melted_annual_mean_daily, palette = 'magma_r', legend = False)
sns.barplot(ax = mosaic['c'], x='month', y='Q100', hue = 'elevation_bin', data=lc3_melted_annual_mean_daily, palette = 'magma_r', legend = False)
sns.barplot(ax = mosaic['d'], x='month', y='Q100', hue = 'elevation_bin', data=lc4_melted_annual_mean_daily, palette = 'magma_r', legend = False)


sns.move_legend(mosaic['a'], "upper left", bbox_to_anchor=(1, 1))
# sns.move_legend(mosaic['b'], "upper left", bbox_to_anchor=(1, 1))
# sns.move_legend(mosaic['c'], "upper left", bbox_to_anchor=(1, 1))
# sns.move_legend(mosaic['d'], "upper left", bbox_to_anchor=(1, 1))

# Adding text to the top-left corner of each subplot
mosaic['a'].text(0.02, 0.95, 'veg 40%, bedrock 40%, ice 20%', transform=mosaic['a'].transAxes, fontsize=25, verticalalignment='top')
mosaic['b'].text(0.02, 0.95, 'veg 40%, bedrock 50%, ice 10%', transform=mosaic['b'].transAxes, fontsize=25, verticalalignment='top')
mosaic['c'].text(0.02, 0.95, 'veg 50%, bedrock 40%, ice 10%', transform=mosaic['c'].transAxes, fontsize=25, verticalalignment='top')
mosaic['d'].text(0.02, 0.95, 'veg 40%, bedrock 60%, ice 0%',  transform=mosaic['d'].transAxes, fontsize=25, verticalalignment='top')

fig.suptitle('SL, daily input, mean annual scenario', fontsize = 25) 






def prepare_for_boxplots_in_percent(df_sl, df_tl):
    #TL
    melted_tl = pd.melt(df_tl, id_vars=['month','land_cover'], var_name='elevation', value_name='Qstl') 
    #SL
    melted_sl = pd.melt(df_sl, id_vars=['month','land_cover'], var_name='elevation', value_name='Q100')   
    # calculate % 
    melted_sl['Q100_percent'] = (melted_sl.Q100 * 100)/melted_tl.Qstl
    
    melted_sl['elevation'] = melted_sl['elevation'].str.split('.').str[0].astype(float)
    melted_sl['elevation_bin'] = melted_sl.apply(functions.bin_elevation200, axis=1)
    melted_sl = melted_sl.sort_values('elevation_bin')
    return melted_sl

# lc1_melted



lc1_melted_annual_mean_daily_percent = prepare_for_boxplots_in_percent(lc1_annual_mean_daily,lc1)
lc2_melted_annual_mean_daily_percent = prepare_for_boxplots_in_percent(lc2_annual_mean_daily,lc2)
lc3_melted_annual_mean_daily_percent = prepare_for_boxplots_in_percent(lc3_annual_mean_daily,lc3)
lc4_melted_annual_mean_daily_percent = prepare_for_boxplots_in_percent(lc4_annual_mean_daily,lc4)




fig = plt.figure(figsize=(20, 20), layout = 'tight')
mosaic = fig.subplot_mosaic('''
                            aaa
                            bbb
                            ccc
                            ddd
                            ''')


sns.barplot(ax = mosaic['a'], x='month', y='Q100_percent', hue = 'elevation_bin', data=lc1_melted_annual_mean_daily_percent, palette = 'magma_r', legend = True) 
sns.barplot(ax = mosaic['b'], x='month', y='Q100_percent', hue = 'elevation_bin', data=lc2_melted_annual_mean_daily_percent, palette = 'magma_r', legend = False)
sns.barplot(ax = mosaic['c'], x='month', y='Q100_percent', hue = 'elevation_bin', data=lc3_melted_annual_mean_daily_percent, palette = 'magma_r', legend = False)
sns.barplot(ax = mosaic['d'], x='month', y='Q100_percent', hue = 'elevation_bin', data=lc4_melted_annual_mean_daily_percent, palette = 'magma_r', legend = False)


sns.move_legend(mosaic['a'], "upper left", bbox_to_anchor=(1, 1))
# sns.move_legend(mosaic['b'], "upper left", bbox_to_anchor=(1, 1))
# sns.move_legend(mosaic['c'], "upper left", bbox_to_anchor=(1, 1))
# sns.move_legend(mosaic['d'], "upper left", bbox_to_anchor=(1, 1))

# Adding text to the top-left corner of each subplot
mosaic['a'].text(0.02, 0.95, 'veg 40%, bedrock 40%, ice 20%', transform=mosaic['a'].transAxes, fontsize=25, verticalalignment='top')
mosaic['b'].text(0.02, 0.95, 'veg 40%, bedrock 50%, ice 10%', transform=mosaic['b'].transAxes, fontsize=25, verticalalignment='top')
mosaic['c'].text(0.02, 0.95, 'veg 50%, bedrock 40%, ice 10%', transform=mosaic['c'].transAxes, fontsize=25, verticalalignment='top')
mosaic['d'].text(0.02, 0.95, 'veg 40%, bedrock 60%, ice 0%',  transform=mosaic['d'].transAxes, fontsize=25, verticalalignment='top')




fig.suptitle('percent plot', fontsize = 25)































































