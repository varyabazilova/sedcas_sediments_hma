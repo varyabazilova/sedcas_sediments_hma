# plan

# - caclulate monthly Q for different land covers 
# - calculate how on average change in lang cover affect the change in runoff -> transport capacity -> TL case 



# plan
# 1 - calculate the monthly water yeild 
# 2 - plot average + spread per month 



import pandas as pd 
import xarray as xr
import matplotlib.pyplot as plt 
import numpy as np
import os
import seaborn as sns


import functions







# hydrology does not depend on the sediment input, so in principle hydro.out is the same all the time and only differs per land cover 
# -> its ok to take it from the (chosen) sediment input
# NB: SO FAR (as of 9/12/2024) the landcover 5 has only been run on the TL scenario and is stored in a different place 
# to compare the land covers 
testfile = pd.read_csv('/Users/varyabazilova/Desktop/paper2/202406_modelruns/30years/TL_data/5landcover/langtang_climate_cut/12a/Hydro.out')
testfile






def calculate_monthly_water_volume_all(hydro, column, area=4830.0):
    """
    Calculate the sum of water or sediment volume per month for a specific column, 
    and return the mean volumes across years.
    
    Parameters:
    hydro (pd.DataFrame): Input DataFrame with columns `D` (date) and the specified numeric column.
    column (str): The name of the column to calculate the volume for.
    area (float): Area in square meters used to scale the volumes. Default is 4830.0.
    
    Returns:
    pd.DataFrame: DataFrame with the calculated monthly volumes.
    """
    # Ensure `D` column is in datetime format
    hydro['D'] = pd.to_datetime(hydro['D'])
    
    # Check if the specified column exists
    if column not in hydro.columns:
        raise ValueError(f"The specified column '{column}' does not exist in the DataFrame.")
    
    # Scale the specified column by the area
    hydro_scaled = hydro.copy()
    hydro_scaled[column] = hydro_scaled[column] * area
    
    # Set 'D' as the index
    hydro_scaled = hydro_scaled.set_index('D')
    
    # Resample to monthly data and calculate the sum for each month for the specified column
    hydro_month = hydro_scaled[column].resample('M').sum().reset_index()
    
    # Extract year and month for grouping or further analysis
    hydro_month['year'] = hydro_month['D'].dt.year
    hydro_month['month'] = hydro_month['D'].dt.month
    
    return hydro_month



%%time

column = 'PET'  # Set the target column
location = 'langtang'

folder_langtang = '/12a/'
folder_mustang = '/13a/'

folder_location = folder_langtang

landcover1_folder = f'/Volumes/Extreme SSD/202409_paper2_modelruns/30years/SL_daily/1landcover_40percent/{location}_climate_cut'
landcover2_folder = f'/Volumes/Extreme SSD/202409_paper2_modelruns/30years/SL_daily/1landcover_40percent/{location}_climate_cut'
landcover3_folder = f'/Volumes/Extreme SSD/202409_paper2_modelruns/30years/SL_daily/1landcover_40percent/{location}_climate_cut'
landcover4_folder = f'/Volumes/Extreme SSD/202409_paper2_modelruns/30years/SL_daily/1landcover_40percent/{location}_climate_cut'
landcover5_folder = f'/Users/varyabazilova/Desktop/paper2/202406_modelruns/30years/TL_data/5landcover/{location}_climate_cut'


output_path = '/Users/varyabazilova/Desktop/paper2/202406_modelruns/30years/hydro'

# Define the list of folder paths
folder_paths = [f'/Volumes/Extreme SSD/202409_paper2_modelruns/30years/SL_daily/1landcover_40percent/{location}_climate_cut',
                f'/Volumes/Extreme SSD/202409_paper2_modelruns/30years/SL_daily/2landcover_40percent/{location}_climate_cut', 
                f'/Volumes/Extreme SSD/202409_paper2_modelruns/30years/SL_daily/3landcover_40percent/{location}_climate_cut', 
                f'/Volumes/Extreme SSD/202409_paper2_modelruns/30years/SL_daily/4landcover_40percent/{location}_climate_cut', 
                f'/Users/varyabazilova/Desktop/paper2/202406_modelruns/30years/TL_data/5landcover/{location}_climate_cut']



# Load elevation data and define the output path
elevation = pd.read_csv(f'/Users/varyabazilova/Desktop/paper2/downscaling_simple/coordinates_and_elevation_with_labels_{location}.csv')[['cellnr2', 'band_data']]
elevation = elevation.transpose()
elevation_list = elevation.loc['cellnr2'].tolist()  # Adjust if you need a specific list format



%%time

# Iterate over folder paths
for folder_path in folder_paths:
    print(f"Processing folder: {folder_path}")

    output_folder = output_path

    # Extract "1landcover" from the folder path
    landcover_part = os.path.basename(os.path.dirname(folder_path))
    landcover_base = landcover_part.split('_')[0]  # This gives "1landcover"

    # Load timestep DataFrame (assuming Hydro.out exists in the `/13a/` subfolder for all folders)
    hydro_path = os.path.join(folder_path, '12a', 'Hydro.out')
    print(f"Checking Hydro.out path: {hydro_path}")

    if not os.path.isfile(hydro_path):
        print(f"Hydro.out not found in {hydro_path}")
        continue  # Skip this folder_path if the main Hydro.out is missing

    # Load the Hydro.out file for timestep calculation
    try:
        dfts = pd.read_csv(hydro_path)
        df = calculate_monthly_water_volume_all(dfts, column, area=4830.0)
        df = df[['month', 'year']]
    except Exception as e:
        print(f"Error loading timestep file: {e}")
        continue

    # Initialize the result DataFrame for this folder_path
    result_df = pd.DataFrame()

    # Iterate over subfolders in the folder path
    for folder_name in os.listdir(folder_path):
        subfolder_path = os.path.join(folder_path, folder_name)
        
        # Skip files and hidden folders
        if not os.path.isdir(subfolder_path) or folder_name.startswith('.'):
            continue

        file_path = os.path.join(subfolder_path, 'Hydro.out')
        print(f"Checking subfolder Hydro.out: {file_path}")

        # Ensure the Hydro.out file exists in the subfolder
        if os.path.isfile(file_path):
            try:
                hydro = pd.read_csv(file_path)
                output_df = calculate_monthly_water_volume_all(hydro, column)

                # Extract and rename the target column
                name_column = output_df[column]
                column_name = f'{column}_{folder_name}'
                result_df[column_name] = name_column
            except Exception as e:
                print(f"Error processing file {file_path}: {e}")
                continue

    # Ensure result_df has data before proceeding
    if result_df.empty:
        print(f"No valid data found in subfolders of {folder_path}")
        continue

    # Rename columns for clarity and filter by elevation list
    result_df.columns = [col[-3:] for col in result_df.columns]  # Adjust column names if necessary
    result_df = result_df[elevation_list]

    # Check for consistency with the elevation list
    if elevation_list == result_df.columns.tolist():
        print("Default land cover. Monthly data: same")

        # Rename columns, merge with timestep, and add folder info
        result_df.columns = elevation.loc['band_data']
        result_df = pd.concat([df, result_df], axis=1)
        result_df['folder'] = os.path.basename(folder_path)

        print(result_df)

        # Define the output file name and save the DataFrame to a CSV file
        output_filename = f'{location}_monthly_sum_elevation_{column}_{landcover_base}.csv'
        print('output filename:', output_filename)
        result_df.to_csv(os.path.join(output_folder, output_filename), index=False)

        print(f"Saved {output_filename}")
    else:
        print(f"The data does not match the elevation list for {folder_path}!")



testfile = pd.read_csv('/Users/varyabazilova/Desktop/paper2/202406_modelruns/30years/TL_data/5landcover/langtang_climate_cut/12a/Hydro.out')
testfile


# testfile.snow.plot()

testfile.Pr.plot()
testfile.snowacc.plot()

testfile['snowmelt'] = testfile['snowacc'].where(testfile['snowacc'] < 0).fillna(0)
testfile['snowacc2'] = testfile['snowacc'].where(testfile['snowacc'] > 0).fillna(0)


testfile.snowacc2.plot()
testfile.snowmelt.plot()




















def water_balance_components_in_mm(hydro, column, area=4830.0):
    """
    Calculate the sum of water or sediment volume per month for a specific column, 
    and return the mean volumes across years.
    
    Parameters:
    hydro (pd.DataFrame): Input DataFrame with columns `D` (date) and the specified numeric column.
    column (str): The name of the column to calculate the volume for.
    area (float): Area in square meters used to scale the volumes. Default is 4830.0.
    
    Returns:
    pd.DataFrame: DataFrame with the calculated monthly volumes.
    """
    # Ensure `D` column is in datetime format
    hydro['D'] = pd.to_datetime(hydro['D'])

    if column == 'snowmelt':
        hydro['snowmelt'] = hydro['snowacc'].where(hydro['snowacc'] < 0).fillna(0)
    if column == 'snowacc2':
        hydro['snowacc2'] = hydro['snowacc'].where(hydro['snowacc'] > 0).fillna(0)
    
    # Scale the specified column by the area
    hydro[column] = hydro[[column]]
    
    # Set 'D' as the index
    hydro = hydro.set_index('D')
    
    # Resample to monthly data and calculate the sum for each month for the specified column
    hydro_month = hydro[column].resample('M').sum().reset_index()
    
    # Extract year and month for grouping or further analysis
    hydro_month['year'] = hydro_month['D'].dt.year
    hydro_month['month'] = hydro_month['D'].dt.month
    
    return hydro_month



# test1 = water_balance_components_in_mm(testfile, 'PET')
# test1


# test1.PET.plot()


%%time

column = 'Pr'  # Set the target column
location = 'mustang'

folder_langtang = '/12a/'
folder_mustang = '/13a/'

folder_location = folder_langtang

landcover1_folder = f'/Volumes/Extreme SSD/202409_paper2_modelruns/30years/SL_daily/1landcover_40percent/{location}_climate_cut'
landcover2_folder = f'/Volumes/Extreme SSD/202409_paper2_modelruns/30years/SL_daily/1landcover_40percent/{location}_climate_cut'
landcover3_folder = f'/Volumes/Extreme SSD/202409_paper2_modelruns/30years/SL_daily/1landcover_40percent/{location}_climate_cut'
landcover4_folder = f'/Volumes/Extreme SSD/202409_paper2_modelruns/30years/SL_daily/1landcover_40percent/{location}_climate_cut'
landcover5_folder = f'/Users/varyabazilova/Desktop/paper2/202406_modelruns/30years/TL_data/5landcover/{location}_climate_cut'


output_path = '/Users/varyabazilova/Desktop/paper2/202406_modelruns/30years/hydro'

# Define the list of folder paths
folder_paths = [f'/Volumes/Extreme SSD/202409_paper2_modelruns/30years/SL_daily/1landcover_40percent/{location}_climate_cut',
                f'/Volumes/Extreme SSD/202409_paper2_modelruns/30years/SL_daily/2landcover_40percent/{location}_climate_cut', 
                f'/Volumes/Extreme SSD/202409_paper2_modelruns/30years/SL_daily/3landcover_40percent/{location}_climate_cut', 
                f'/Volumes/Extreme SSD/202409_paper2_modelruns/30years/SL_daily/4landcover_40percent/{location}_climate_cut', 
                f'/Users/varyabazilova/Desktop/paper2/202406_modelruns/30years/TL_data/5landcover/{location}_climate_cut']



# Load elevation data and define the output path
elevation = pd.read_csv(f'/Users/varyabazilova/Desktop/paper2/downscaling_simple/coordinates_and_elevation_with_labels_{location}.csv')[['cellnr2', 'band_data']]
elevation = elevation.transpose()
elevation_list = elevation.loc['cellnr2'].tolist()  # Adjust if you need a specific list format



%%time

# Iterate over folder paths
for folder_path in folder_paths:
    print(f"Processing folder: {folder_path}")

    output_folder = output_path

    # Extract "1landcover" from the folder path
    landcover_part = os.path.basename(os.path.dirname(folder_path))
    landcover_base = landcover_part.split('_')[0]  # This gives "1landcover"

    # Load timestep DataFrame (assuming Hydro.out exists in the `/13a/` subfolder for all folders)
    hydro_path = os.path.join(folder_path, '13a', 'Hydro.out')
    print(f"Checking Hydro.out path: {hydro_path}")

    if not os.path.isfile(hydro_path):
        print(f"Hydro.out not found in {hydro_path}")
        continue  # Skip this folder_path if the main Hydro.out is missing

    # Load the Hydro.out file for timestep calculation
    try:
        dfts = pd.read_csv(hydro_path)
        df = water_balance_components_in_mm(dfts, column, area=4830.0)
        df = df[['month', 'year']]
    except Exception as e:
        print(f"Error loading timestep file: {e}")
        continue

    # Initialize the result DataFrame for this folder_path
    result_df = pd.DataFrame()

    # Iterate over subfolders in the folder path
    for folder_name in os.listdir(folder_path):
        subfolder_path = os.path.join(folder_path, folder_name)
        
        # Skip files and hidden folders
        if not os.path.isdir(subfolder_path) or folder_name.startswith('.'):
            continue

        file_path = os.path.join(subfolder_path, 'Hydro.out')
        # print(f"Checking subfolder Hydro.out: {file_path}")

        # Ensure the Hydro.out file exists in the subfolder
        if os.path.isfile(file_path):
            try:
                hydro = pd.read_csv(file_path)
                output_df = water_balance_components_in_mm(hydro, column)

                # Extract and rename the target column
                name_column = output_df[column]
                column_name = f'{column}_{folder_name}'
                result_df[column_name] = name_column
            except Exception as e:
                print(f"Error processing file {file_path}: {e}")
                continue

    # Ensure result_df has data before proceeding
    if result_df.empty:
        print(f"No valid data found in subfolders of {folder_path}")
        continue

    # Rename columns for clarity and filter by elevation list
    result_df.columns = [col[-3:] for col in result_df.columns]  # Adjust column names if necessary
    result_df = result_df[elevation_list]

    # Check for consistency with the elevation list
    if elevation_list == result_df.columns.tolist():
        print("Default land cover. Monthly data: same")

        # Rename columns, merge with timestep, and add folder info
        result_df.columns = elevation.loc['band_data']
        result_df = pd.concat([df, result_df], axis=1)
        result_df['folder'] = os.path.basename(folder_path)

        print(result_df)

        # Define the output file name and save the DataFrame to a CSV file
        output_filename = f'{location}_monthly_sum_elevation_{column}_{landcover_base}_mm.csv'
        print('output filename:', output_filename)
        result_df.to_csv(os.path.join(output_folder, output_filename), index=False)

        print(f"Saved {output_filename}")
    else:
        print(f"The data does not match the elevation list for {folder_path}!")






# plot of interest: 
# barplots with + and - components 
# components:
# AET PET Q GLACIER_MELT SNOW_MELT SNOW_ACC 

# + Pr, snow melt, glacier melt
# - AET PET Q 


def prepare_for_boxplots(df, value_name):
    # value name - column in the output dataframe
    melted = pd.melt(df, id_vars=['month','land_cover'], var_name='elevation', value_name=value_name)
    melted['elevation'] = melted['elevation'].str.split('.').str[0].astype(float)
    melted['elevation_bin'] = melted.apply(functions.bin_elevation500, axis=1)
    melted = melted.sort_values('elevation_bin')
    return melted


# test for landcover 1

aet1 = pd.read_csv('/Users/varyabazilova/Desktop/paper2/202406_modelruns/30years/hydro/langtang_monthly_sum_elevation_AET_1landcover.csv')
pet1 = pd.read_csv('/Users/varyabazilova/Desktop/paper2/202406_modelruns/30years/hydro/langtang_monthly_sum_elevation_PET_1landcover.csv')
Q1 = pd.read_csv('/Users/varyabazilova/Desktop/paper2/202406_modelruns/30years/hydro/langtang_monthly_sum_elevation_Q_1landcover_mm.csv')
glmelt1 = pd.read_csv('/Users/varyabazilova/Desktop/paper2/202406_modelruns/30years/hydro/langtang_monthly_sum_elevation_glacier_melt_1landcover.csv')
snowmelt1 = pd.read_csv('/Users/varyabazilova/Desktop/paper2/202406_modelruns/30years/hydro/langtang_monthly_sum_elevation_snowmelt_1landcover.csv')
pr1 = pd.read_csv('/Users/varyabazilova/Desktop/paper2/202406_modelruns/30years/hydro/langtang_monthly_sum_elevation_Pr_1landcover_mm.csv')



aet1_melted = prepare_for_boxplots(aet1, 'AET')


aet1



