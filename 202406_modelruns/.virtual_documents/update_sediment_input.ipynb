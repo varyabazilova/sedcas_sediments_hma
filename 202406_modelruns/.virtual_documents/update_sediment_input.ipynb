import functions

import pandas as pd
import os





# define value to update the sediment input parameter PER DAY 
# name = 'annual_mean_Qstl_m3_day'
# name = 'annual_25percent_Qstl_m3_day'

# name = 'annual_mean_Qstl_m3'



landcover = 1
location = 'langtang'
percentile = '40percent'

# for the ONCE per year landslide input use VALUE PER DAY (it gets multiplied on 365 in the function!)
# name = f'annual_{percentile}_Qstl_m3_day'
name = f'annual_{percentile}_Qstl_m3_day'


directory_path =  f'/Users/varyabazilova/Desktop/paper2/202406_modelruns/30years/TL_output/{landcover}landcover/{location}_climate_cut'
folder =          f'/Users/varyabazilova/Desktop/paper2/202406_modelruns/30years/SL_daily/{landcover}landcover_{percentile}/{location}_climate_cut'



sediment = pd.read_csv(directory_path + '/annual_mean_percentiles_for_sediment_input.csv')[['index', name]].set_index('index')



sediment.columns


def update_parameter_file(folder, index, paramfile, sediment_value):
    folder_name = [folder_name for folder_name in os.listdir(folder) if folder_name.endswith(index)][0]  # Extract folder name
    folder_path = os.path.join(folder, folder_name)
    paramfile_path = os.path.join(folder_path, paramfile)
    with open(paramfile_path, 'r') as file:
        lines = file.readlines()

    for i, line in enumerate(lines):
        if line.startswith("sediment_input:"):
            # Update the value for "sediment_input"
            lines[i] = f"sediment_input:{sediment_value}\n"
            break

    # Write the updated lines back to the parameter file
    with open(paramfile_path, 'w') as file:
        file.writelines(lines)




paramfile = 'parameters.par'  # Parameter file name

# df1 = pd.DataFrame({"value": [10, 20, 30]}, index=["12b", "14a", "16c"])
df = sediment


for index in df.index:
    # sediment_value = df1.loc[index, "annual_mean_Qstl_m3_day"]
    # sediment_value = df1.loc[index, "annual_25percent_Qstl_m3"]
    # sediment_value = df1.loc[index, "annual_50percent_Qstl_m3"]
    sediment_value = df.loc[index, name]
    update_parameter_file(folder, index, paramfile, sediment_value)
















