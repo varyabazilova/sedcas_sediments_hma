


import pandas as pd
import seaborn as sns
import matplotlib.pyplot as plt

import functions









fig = plt.figure(figsize=(20, 20))
mosaic = fig.subplot_mosaic('''
                            aaa
                            bbb
                            ccc
                            ddd
                            ''')


sns.barplot(ax = mosaic['a'], x='month', y='Q100', hue = 'elevation_bin', data=lc1_melted_annual_25percent_daily, palette = 'magma_r', legend = True) 
sns.barplot(ax = mosaic['b'], x='month', y='Q100', hue = 'elevation_bin', data=lc2_melted_annual_25percent_daily, palette = 'magma_r', legend = False)
sns.barplot(ax = mosaic['c'], x='month', y='Q100', hue = 'elevation_bin', data=lc3_melted_annual_25percent_daily, palette = 'magma_r', legend = False)
sns.barplot(ax = mosaic['d'], x='month', y='Q100', hue = 'elevation_bin', data=lc4_melted_annual_25percent_daily, palette = 'magma_r', legend = False)


sns.move_legend(mosaic['a'], "upper left", bbox_to_anchor=(1, 1))
# sns.move_legend(mosaic['b'], "upper left", bbox_to_anchor=(1, 1))
# sns.move_legend(mosaic['c'], "upper left", bbox_to_anchor=(1, 1))
# sns.move_legend(mosaic['d'], "upper left", bbox_to_anchor=(1, 1))

# Adding text to the top-left corner of each subplot
mosaic['a'].text(0.02, 0.95, 'veg 40%, bedrock 40%, ice 20%', transform=mosaic['a'].transAxes, fontsize=25, verticalalignment='top')
mosaic['b'].text(0.02, 0.95, 'veg 40%, bedrock 50%, ice 10%', transform=mosaic['b'].transAxes, fontsize=25, verticalalignment='top')
mosaic['c'].text(0.02, 0.95, 'veg 50%, bedrock 40%, ice 10%', transform=mosaic['c'].transAxes, fontsize=25, verticalalignment='top')
mosaic['d'].text(0.02, 0.95, 'veg 40%, bedrock 60%, ice 0%',  transform=mosaic['d'].transAxes, fontsize=25, verticalalignment='top')








fig = plt.figure(figsize=(20, 20))
mosaic = fig.subplot_mosaic('''
                            aaa
                            bbb
                            ccc
                            ddd
                            ''')


sns.barplot(ax = mosaic['a'], x='month', y='Q100_percent', hue = 'elevation_bin', data=lc1_melted_annual_25percent_daily_percent, palette = 'magma_r', legend = True) 
sns.barplot(ax = mosaic['b'], x='month', y='Q100_percent', hue = 'elevation_bin', data=lc2_melted_annual_25percent_daily_percent, palette = 'magma_r', legend = False)
sns.barplot(ax = mosaic['c'], x='month', y='Q100_percent', hue = 'elevation_bin', data=lc3_melted_annual_25percent_daily_percent, palette = 'magma_r', legend = False)
sns.barplot(ax = mosaic['d'], x='month', y='Q100_percent', hue = 'elevation_bin', data=lc4_melted_annual_25percent_daily_percent, palette = 'magma_r', legend = False)


sns.move_legend(mosaic['a'], "upper left", bbox_to_anchor=(1, 1))

# Adding text to the top-left corner of each subplot
mosaic['a'].text(0.02, 0.95, 'veg 40%, bedrock 40%, ice 20%', transform=mosaic['a'].transAxes, fontsize=25, verticalalignment='top')
mosaic['b'].text(0.02, 0.95, 'veg 40%, bedrock 50%, ice 10%', transform=mosaic['b'].transAxes, fontsize=25, verticalalignment='top')
mosaic['c'].text(0.02, 0.95, 'veg 50%, bedrock 40%, ice 10%', transform=mosaic['c'].transAxes, fontsize=25, verticalalignment='top')
mosaic['d'].text(0.02, 0.95, 'veg 40%, bedrock 60%, ice 0%',  transform=mosaic['d'].transAxes, fontsize=25, verticalalignment='top')





