{
 "cells": [
  {
   "cell_type": "code",
   "execution_count": 3,
   "id": "1b87e9f6-18b2-4c6b-ac7d-be7cfa533e2e",
   "metadata": {},
   "outputs": [],
   "source": [
    "import pandas as pd\n",
    "import seaborn as sns\n",
    "import matplotlib.pyplot as plt\n",
    "import os \n",
    "\n",
    "import functions"
   ]
  },
  {
   "cell_type": "code",
   "execution_count": 4,
   "id": "16c40fa2-38d5-4693-950d-de03fa2c1967",
   "metadata": {},
   "outputs": [],
   "source": [
    "method = 'once'\n",
    "landcover_idx = 1\n",
    "landcover = f'landcover{landcover_idx}'\n",
    "location = 'langtang'\n",
    "percentile = '20percent'\n",
    "\n",
    "\n",
    "folder_path = f'/Volumes/Extreme SSD/202409_paper2_modelruns/30years/SL_{method}/{landcover_idx}landcover_{percentile}/{location}_climate_cut'\n"
   ]
  },
  {
   "cell_type": "code",
   "execution_count": null,
   "id": "a8b39133-e1ab-435a-8034-f6b21312ecaf",
   "metadata": {},
   "outputs": [],
   "source": []
  },
  {
   "cell_type": "code",
   "execution_count": null,
   "id": "410f91f7-b7b4-4f7f-a159-cfca3675f7d4",
   "metadata": {},
   "outputs": [],
   "source": []
  },
  {
   "cell_type": "code",
   "execution_count": null,
   "id": "e59412b0-9af4-4b60-b0ce-1c1f8239f746",
   "metadata": {},
   "outputs": [],
   "source": []
  },
  {
   "cell_type": "code",
   "execution_count": null,
   "id": "ae964ecf-0f56-4cef-ac98-e7ad28f2a6c9",
   "metadata": {},
   "outputs": [],
   "source": []
  },
  {
   "cell_type": "code",
   "execution_count": null,
   "id": "e8559ab0-b77c-499b-950f-98c682a0069b",
   "metadata": {},
   "outputs": [],
   "source": []
  }
 ],
 "metadata": {
  "kernelspec": {
   "display_name": "Python [conda env:sedcas] *",
   "language": "python",
   "name": "conda-env-sedcas-py"
  },
  "language_info": {
   "codemirror_mode": {
    "name": "ipython",
    "version": 3
   },
   "file_extension": ".py",
   "mimetype": "text/x-python",
   "name": "python",
   "nbconvert_exporter": "python",
   "pygments_lexer": "ipython3",
   "version": "3.9.7"
  }
 },
 "nbformat": 4,
 "nbformat_minor": 5
}
