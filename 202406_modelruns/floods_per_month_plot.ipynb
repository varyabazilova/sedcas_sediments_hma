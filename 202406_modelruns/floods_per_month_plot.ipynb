{
 "cells": [
  {
   "cell_type": "code",
   "execution_count": 41,
   "id": "9a205723-2b45-48ff-ad15-c1c0859736bb",
   "metadata": {},
   "outputs": [],
   "source": [
    "import pandas as pd\n",
    "import seaborn as sns\n",
    "import matplotlib.pyplot as plt\n",
    "import os\n",
    "import numpy as np\n",
    "import functions\n",
    "\n"
   ]
  },
  {
   "cell_type": "code",
   "execution_count": 87,
   "id": "2cd9c6d9-67c0-4f66-985c-971c30205723",
   "metadata": {},
   "outputs": [],
   "source": [
    "# calculate the % of the dfs and dfspot for each scenario \n",
    "\n",
    "def cut_dates(df):\n",
    "    df['D'] = pd.to_datetime(df['D'])\n",
    "    filtered_df = df[df['D'] > '1990-08-30']\n",
    "    filtered_df = filtered_df[filtered_df['D'] > '1990-07-31']\n",
    "    return filtered_df\n",
    "\n",
    "# def create_unique_id_column(df):\n",
    "#     df['elevation'] = df['elevation'].astype(int)\n",
    "#     df['id'] = df['elevation'].astype(str) + \"_\" + df['D_month'].astype(str)\n",
    "#     return df\n",
    "\n",
    "def prepare_dfcount_for_plot(dfcount):\n",
    "    melted = pd.melt(dfcount, id_vars=['D', 'D_year', 'D_month'], var_name='elevation', value_name='dfs_count')\n",
    "    melted['elevation'] = melted['elevation'].str.split('.').str[0].astype(float)\n",
    "    melted['elevation_bin'] = melted.apply(functions.bin_elevation500, axis=1)\n",
    "    # create unique id for elevation and month for merging\n",
    "    melted['elevation'] = melted['elevation'].astype(int)\n",
    "    melted['id'] = melted['elevation'].astype(str) + \"_\" + melted['D_month'].astype(str)\n",
    "    \n",
    "    # melted = melted.sort_values('elevation_bin')\n",
    "    # melted = melted.dropna(subset=['dfs_count'])\n",
    "    return melted \n",
    "\n",
    "\n",
    "def calculate_floods(df, method):\n",
    "    # df percent \n",
    "    df[f'dfs_count_{method}40_percent'] = (df[f'dfs_count_{method}40'] *100) / df.dfspot_count\n",
    "    df[f'dfs_count_{method}30_percent'] = (df[f'dfs_count_{method}30'] *100) / df.dfspot_count\n",
    "    df[f'dfs_count_{method}20_percent'] = (df[f'dfs_count_{method}20'] *100) / df.dfspot_count\n",
    "    # ff count \n",
    "    df[f'ffs_count_{method}40'] = df.dfspot_count - df[f'dfs_count_{method}40']\n",
    "    df[f'ffs_count_{method}30'] = df.dfspot_count - df[f'dfs_count_{method}30']\n",
    "    df[f'ffs_count_{method}20'] = df.dfspot_count - df[f'dfs_count_{method}20']\n",
    "    # ff percent\n",
    "    df[f'ffs_count_{method}40_percent'] = (df[f'ffs_count_{method}40'] *100) / df.dfspot_count\n",
    "    df[f'ffs_count_{method}30_percent'] = (df[f'ffs_count_{method}30'] *100) / df.dfspot_count\n",
    "    df[f'ffs_count_{method}20_percent'] = (df[f'ffs_count_{method}20'] *100) / df.dfspot_count\n",
    "    return df"
   ]
  },
  {
   "cell_type": "code",
   "execution_count": 58,
   "id": "882f8784-6ab6-4f67-8a6a-0fbfe958d357",
   "metadata": {},
   "outputs": [],
   "source": [
    "# TL case, so potential df (dsfspot)\n",
    "\n",
    "freq = 'monthly'\n",
    "column = 'Qdftl'\n",
    "location = 'langtang'\n",
    "\n",
    "\n",
    "flood_folder =  f'/Users/varyabazilova/Desktop/paper2/202406_modelruns/30years/dfspot_count/{location}/'\n",
    "\n",
    "dfspot1 = cut_dates(pd.read_csv(flood_folder + f'{location}_{freq}_{column}_count_landcover1.csv', index_col = 0).fillna(0))\n",
    "dfspot2 = cut_dates(pd.read_csv(flood_folder + f'{location}_{freq}_{column}_count_landcover2.csv', index_col = 0).fillna(0))\n",
    "dfspot3 = cut_dates(pd.read_csv(flood_folder + f'{location}_{freq}_{column}_count_landcover3.csv', index_col = 0).fillna(0))\n",
    "dfspot4 = cut_dates(pd.read_csv(flood_folder + f'{location}_{freq}_{column}_count_landcover4.csv', index_col = 0).fillna(0))\n"
   ]
  },
  {
   "cell_type": "code",
   "execution_count": null,
   "id": "afea20eb-3d88-4da9-bca5-9d2a38319145",
   "metadata": {},
   "outputs": [],
   "source": []
  },
  {
   "cell_type": "code",
   "execution_count": 59,
   "id": "6da601fe-1db8-4e55-bb26-d3c1b1dc9a69",
   "metadata": {},
   "outputs": [],
   "source": [
    "dfspot1_melted = prepare_dfcount_for_plot(dfspot1)\n",
    "dfspot2_melted = prepare_dfcount_for_plot(dfspot2)\n",
    "dfspot3_melted = prepare_dfcount_for_plot(dfspot3)\n",
    "dfspot4_melted = prepare_dfcount_for_plot(dfspot4)\n"
   ]
  },
  {
   "cell_type": "markdown",
   "id": "999f1bf9-5c49-46aa-ac4f-f1ac7935e7a0",
   "metadata": {},
   "source": [
    "# daily"
   ]
  },
  {
   "cell_type": "code",
   "execution_count": null,
   "id": "8ac4e23e-4f20-4b57-ad2e-1750d5789d90",
   "metadata": {},
   "outputs": [],
   "source": []
  },
  {
   "cell_type": "code",
   "execution_count": 64,
   "id": "74123027-3395-47b9-b672-30d0dd495e34",
   "metadata": {},
   "outputs": [],
   "source": [
    " \n",
    "daily20_lc1 = cut_dates(pd.read_csv(f'/Users/varyabazilova/Desktop/paper2/202406_modelruns/30years/SL_daily/output_20percent/{location}_{freq}_df_count_20percent_landcover1.csv', index_col = 0).fillna(0))#[:372]\n",
    "daily20_lc2 = cut_dates(pd.read_csv(f'/Users/varyabazilova/Desktop/paper2/202406_modelruns/30years/SL_daily/output_20percent/{location}_{freq}_df_count_20percent_landcover2.csv', index_col = 0).fillna(0))#[:372]\n",
    "daily20_lc3 = cut_dates(pd.read_csv(f'/Users/varyabazilova/Desktop/paper2/202406_modelruns/30years/SL_daily/output_20percent/{location}_{freq}_df_count_20percent_landcover3.csv', index_col = 0).fillna(0))#[:-1]#[:372]\n",
    "daily20_lc4 = cut_dates(pd.read_csv(f'/Users/varyabazilova/Desktop/paper2/202406_modelruns/30years/SL_daily/output_20percent/{location}_{freq}_df_count_20percent_landcover4.csv', index_col = 0).fillna(0))#[:372]\n",
    "\n",
    "daily30_lc1 = cut_dates(pd.read_csv(f'/Users/varyabazilova/Desktop/paper2/202406_modelruns/30years/SL_daily/output_30percent/{location}_{freq}_df_count_30percent_landcover1.csv', index_col = 0).fillna(0))#[:372]\n",
    "daily30_lc2 = cut_dates(pd.read_csv(f'/Users/varyabazilova/Desktop/paper2/202406_modelruns/30years/SL_daily/output_30percent/{location}_{freq}_df_count_30percent_landcover2.csv', index_col = 0).fillna(0))#[:372]\n",
    "daily30_lc3 = cut_dates(pd.read_csv(f'/Users/varyabazilova/Desktop/paper2/202406_modelruns/30years/SL_daily/output_30percent/{location}_{freq}_df_count_30percent_landcover3.csv', index_col = 0).fillna(0))#[:372]\n",
    "daily30_lc4 = cut_dates(pd.read_csv(f'/Users/varyabazilova/Desktop/paper2/202406_modelruns/30years/SL_daily/output_30percent/{location}_{freq}_df_count_30percent_landcover4.csv', index_col = 0).fillna(0))#[:372]\n",
    "\n",
    "daily40_lc1 = cut_dates(pd.read_csv(f'/Users/varyabazilova/Desktop/paper2/202406_modelruns/30years/SL_daily/output_40percent/{location}_{freq}_df_count_40percent_landcover1.csv', index_col = 0).fillna(0))#[:372]\n",
    "daily40_lc2 = cut_dates(pd.read_csv(f'/Users/varyabazilova/Desktop/paper2/202406_modelruns/30years/SL_daily/output_40percent/{location}_{freq}_df_count_40percent_landcover2.csv', index_col = 0).fillna(0))#[:372]\n",
    "daily40_lc3 = cut_dates(pd.read_csv(f'/Users/varyabazilova/Desktop/paper2/202406_modelruns/30years/SL_daily/output_40percent/{location}_{freq}_df_count_40percent_landcover3.csv', index_col = 0).fillna(0))#[:372]\n",
    "daily40_lc4 = cut_dates(pd.read_csv(f'/Users/varyabazilova/Desktop/paper2/202406_modelruns/30years/SL_daily/output_40percent/{location}_{freq}_df_count_40percent_landcover4.csv', index_col = 0).fillna(0))#[:372]\n",
    "\n",
    "\n",
    "daily20_lc1_melted = prepare_dfcount_for_plot(daily20_lc1).rename(columns={'dfs_count': 'dfs_count_daily20'})\n",
    "daily20_lc2_melted = prepare_dfcount_for_plot(daily20_lc2).rename(columns={'dfs_count': 'dfs_count_daily20'})\n",
    "daily20_lc3_melted = prepare_dfcount_for_plot(daily20_lc3).rename(columns={'dfs_count': 'dfs_count_daily20'})\n",
    "daily20_lc4_melted = prepare_dfcount_for_plot(daily20_lc4).rename(columns={'dfs_count': 'dfs_count_daily20'})\n",
    "\n",
    "daily30_lc1_melted = prepare_dfcount_for_plot(daily30_lc1).rename(columns={'dfs_count': 'dfs_count_daily30'})\n",
    "daily30_lc2_melted = prepare_dfcount_for_plot(daily30_lc2).rename(columns={'dfs_count': 'dfs_count_daily30'})\n",
    "daily30_lc3_melted = prepare_dfcount_for_plot(daily30_lc3).rename(columns={'dfs_count': 'dfs_count_daily30'})\n",
    "daily30_lc4_melted = prepare_dfcount_for_plot(daily30_lc4).rename(columns={'dfs_count': 'dfs_count_daily30'})\n",
    "\n",
    "daily40_lc1_melted = prepare_dfcount_for_plot(daily40_lc1).rename(columns={'dfs_count': 'dfs_count_daily40'})\n",
    "daily40_lc2_melted = prepare_dfcount_for_plot(daily40_lc2).rename(columns={'dfs_count': 'dfs_count_daily40'})\n",
    "daily40_lc3_melted = prepare_dfcount_for_plot(daily40_lc3).rename(columns={'dfs_count': 'dfs_count_daily40'})\n",
    "daily40_lc4_melted = prepare_dfcount_for_plot(daily40_lc4).rename(columns={'dfs_count': 'dfs_count_daily40'})\n"
   ]
  },
  {
   "cell_type": "code",
   "execution_count": 88,
   "id": "1fbd0197-f396-4060-80ea-213788b168a2",
   "metadata": {},
   "outputs": [],
   "source": [
    "# make 4 dfs depending ont he scenatio \n",
    "merge_on = ['D', 'D_year', 'D_month', 'elevation', 'elevation_bin', 'id']\n",
    "\n",
    "# ------- landcover1\n",
    "dfs = [daily20_lc1_melted, daily30_lc1_melted, daily40_lc1_melted]\n",
    "\n",
    "lc1_daily = dfs[0][merge_on + ['dfs_count_daily20']]\n",
    "# Iterate over the remaining dataframes (daily30, daily40) and merge them\n",
    "for i, (df, label) in enumerate(zip(dfs[1:], [30, 40]), start=2):\n",
    "    unique_col = f'dfs_count_daily{label}'  # Adjust unique column name\n",
    "    lc1_daily = pd.merge(lc1_daily, df[merge_on + [unique_col]], on=merge_on)\n",
    "\n",
    "# add dfspot    \n",
    "lc1_daily['dfspot_count'] = dfspot1_melted.dfs_count\n",
    "\n",
    "# ------- landcover2\n",
    "dfs = [daily20_lc2_melted, daily30_lc2_melted, daily40_lc2_melted]\n",
    "\n",
    "lc2_daily = dfs[0][merge_on + ['dfs_count_daily20']]\n",
    "# Iterate over the remaining dataframes (daily30, daily40) and merge them\n",
    "for i, (df, label) in enumerate(zip(dfs[1:], [30, 40]), start=2):\n",
    "    unique_col = f'dfs_count_daily{label}'  # Adjust unique column name\n",
    "    lc2_daily = pd.merge(lc2_daily, df[merge_on + [unique_col]], on=merge_on)\n",
    "\n",
    "lc2_daily['dfspot_count'] = dfspot2_melted.dfs_count\n",
    "\n",
    "# ------- landcover3\n",
    "dfs = [daily20_lc3_melted, daily30_lc3_melted, daily40_lc3_melted]\n",
    "\n",
    "lc3_daily = dfs[0][merge_on + ['dfs_count_daily20']]\n",
    "# Iterate over the remaining dataframes (daily30, daily40) and merge them\n",
    "for i, (df, label) in enumerate(zip(dfs[1:], [30, 40]), start=2):\n",
    "    unique_col = f'dfs_count_daily{label}'  # Adjust unique column name\n",
    "    lc3_daily = pd.merge(lc3_daily, df[merge_on + [unique_col]], on=merge_on)\n",
    "\n",
    "lc3_daily['dfspot_count'] = dfspot3_melted.dfs_count\n",
    "\n",
    "# ------- landcover4\n",
    "dfs = [daily20_lc4_melted, daily30_lc4_melted, daily40_lc4_melted]\n",
    "\n",
    "lc4_daily = dfs[0][merge_on + ['dfs_count_daily20']]\n",
    "# Iterate over the remaining dataframes (daily30, daily40) and merge them\n",
    "for i, (df, label) in enumerate(zip(dfs[1:], [30, 40]), start=2):\n",
    "    unique_col = f'dfs_count_daily{label}'  # Adjust unique column name\n",
    "    lc4_daily = pd.merge(lc4_daily, df[merge_on + [unique_col]], on=merge_on)\n",
    "\n",
    "lc4_daily['dfspot_count'] = dfspot4_melted.dfs_count\n"
   ]
  },
  {
   "cell_type": "code",
   "execution_count": 105,
   "id": "ccaa0f75-756d-4963-91c0-31578790b4cb",
   "metadata": {},
   "outputs": [],
   "source": [
    "lc1_daily = calculate_floods(lc1_daily, 'daily').fillna(0)\n",
    "lc2_daily = calculate_floods(lc2_daily, 'daily').fillna(0)\n",
    "lc3_daily = calculate_floods(lc3_daily, 'daily').fillna(0)\n",
    "lc4_daily = calculate_floods(lc4_daily, 'daily').fillna(0)\n"
   ]
  },
  {
   "cell_type": "code",
   "execution_count": 106,
   "id": "2ad17822-7f7e-4b39-ab2d-6c6b65e2d2b7",
   "metadata": {},
   "outputs": [
    {
     "data": {
      "text/plain": [
       "Index(['D', 'D_year', 'D_month', 'elevation', 'elevation_bin', 'id',\n",
       "       'dfs_count_daily20', 'dfs_count_daily30', 'dfs_count_daily40',\n",
       "       'dfspot_count', 'dfs_count_daily40_percent',\n",
       "       'dfs_count_daily30_percent', 'dfs_count_daily20_percent',\n",
       "       'ffs_count_daily40', 'ffs_count_daily30', 'ffs_count_daily20',\n",
       "       'ffs_count_daily40_percent', 'ffs_count_daily30_percent',\n",
       "       'ffs_count_daily20_percent'],\n",
       "      dtype='object')"
      ]
     },
     "execution_count": 106,
     "metadata": {},
     "output_type": "execute_result"
    }
   ],
   "source": [
    "lc2_daily.columns"
   ]
  },
  {
   "cell_type": "code",
   "execution_count": 113,
   "id": "b5c8f2e7-b40a-43d5-823b-efa70d9350a7",
   "metadata": {},
   "outputs": [
    {
     "data": {
      "text/plain": [
       "<AxesSubplot:>"
      ]
     },
     "execution_count": 113,
     "metadata": {},
     "output_type": "execute_result"
    },
    {
     "data": {
      "image/png": "[encoded data removed]",
      "text/plain": [
       "<Figure size 432x288 with 1 Axes>"
      ]
     },
     "metadata": {
      "needs_background": "light"
     },
     "output_type": "display_data"
    }
   ],
   "source": [
    "lc2_daily.dfspot_count.plot()\n",
    "\n",
    "lc2_daily.dfs_count_daily40.plot()\n",
    "# lc2_daily.ffs_count_daily40.plot()"
   ]
  },
  {
   "cell_type": "code",
   "execution_count": null,
   "id": "ebc1e6ff-4f37-4120-98b3-e9cd0e609009",
   "metadata": {},
   "outputs": [],
   "source": []
  },
  {
   "cell_type": "code",
   "execution_count": null,
   "id": "aba86741-cdf4-4ea7-a98b-bed3f10eba3d",
   "metadata": {},
   "outputs": [],
   "source": []
  },
  {
   "cell_type": "code",
   "execution_count": null,
   "id": "ea253c67-c436-4dba-89f8-cc78f873d029",
   "metadata": {},
   "outputs": [],
   "source": []
  },
  {
   "cell_type": "code",
   "execution_count": null,
   "id": "0b3cae74-d568-47ef-aef6-37993ad0402d",
   "metadata": {},
   "outputs": [],
   "source": []
  },
  {
   "cell_type": "code",
   "execution_count": null,
   "id": "d017e7c8-326c-48f2-b649-1fafd857838e",
   "metadata": {},
   "outputs": [],
   "source": []
  },
  {
   "cell_type": "code",
   "execution_count": null,
   "id": "f150e6bd-b15a-4c30-8f02-98623779df4e",
   "metadata": {},
   "outputs": [],
   "source": []
  },
  {
   "cell_type": "markdown",
   "id": "81236c4b-6c4c-4f68-8b6b-623ee8c6fa7a",
   "metadata": {},
   "source": [
    "# once"
   ]
  },
  {
   "cell_type": "code",
   "execution_count": 93,
   "id": "95060edb-f6db-418c-9239-a1feba58609a",
   "metadata": {},
   "outputs": [],
   "source": [
    "\n",
    "once20_lc1 = pd.read_csv(f'/Users/varyabazilova/Desktop/paper2/202406_modelruns/30years/SL_once/output_20percent/{location}_{freq}_df_count_20percent_landcover1.csv', index_col = 0).fillna(0)#[:372]\n",
    "once20_lc2 = pd.read_csv(f'/Users/varyabazilova/Desktop/paper2/202406_modelruns/30years/SL_once/output_20percent/{location}_{freq}_df_count_20percent_landcover2.csv', index_col = 0).fillna(0)#[:372]\n",
    "once20_lc3 = pd.read_csv(f'/Users/varyabazilova/Desktop/paper2/202406_modelruns/30years/SL_once/output_20percent/{location}_{freq}_df_count_20percent_landcover3.csv', index_col = 0).fillna(0)[:-1]#[:372]\n",
    "once20_lc4 = pd.read_csv(f'/Users/varyabazilova/Desktop/paper2/202406_modelruns/30years/SL_once/output_20percent/{location}_{freq}_df_count_20percent_landcover4.csv', index_col = 0).fillna(0)#[:372]\n",
    "\n",
    "once30_lc1 = pd.read_csv(f'/Users/varyabazilova/Desktop/paper2/202406_modelruns/30years/SL_once/output_30percent/{location}_{freq}_df_count_30percent_landcover1.csv', index_col = 0).fillna(0)#[:372]\n",
    "once30_lc2 = pd.read_csv(f'/Users/varyabazilova/Desktop/paper2/202406_modelruns/30years/SL_once/output_30percent/{location}_{freq}_df_count_30percent_landcover2.csv', index_col = 0).fillna(0)#[:372]\n",
    "once30_lc3 = pd.read_csv(f'/Users/varyabazilova/Desktop/paper2/202406_modelruns/30years/SL_once/output_30percent/{location}_{freq}_df_count_30percent_landcover3.csv', index_col = 0).fillna(0)#[:372]\n",
    "once30_lc4 = pd.read_csv(f'/Users/varyabazilova/Desktop/paper2/202406_modelruns/30years/SL_once/output_30percent/{location}_{freq}_df_count_30percent_landcover4.csv', index_col = 0).fillna(0)#[:372]\n",
    "\n",
    "once40_lc1 = pd.read_csv(f'/Users/varyabazilova/Desktop/paper2/202406_modelruns/30years/SL_once/output_40percent/{location}_{freq}_df_count_40percent_landcover1.csv', index_col = 0).fillna(0)#[:372]\n",
    "once40_lc2 = pd.read_csv(f'/Users/varyabazilova/Desktop/paper2/202406_modelruns/30years/SL_once/output_40percent/{location}_{freq}_df_count_40percent_landcover2.csv', index_col = 0).fillna(0)#[:372]\n",
    "once40_lc3 = pd.read_csv(f'/Users/varyabazilova/Desktop/paper2/202406_modelruns/30years/SL_once/output_40percent/{location}_{freq}_df_count_40percent_landcover3.csv', index_col = 0).fillna(0)#[:372]\n",
    "once40_lc4 = pd.read_csv(f'/Users/varyabazilova/Desktop/paper2/202406_modelruns/30years/SL_once/output_40percent/{location}_{freq}_df_count_40percent_landcover4.csv', index_col = 0).fillna(0)#[:372]\n",
    "\n",
    "\n",
    "once20_lc1_melted = prepare_dfcount_for_plot(once20_lc1).rename(columns={'dfs_count': 'dfs_count_once20'})\n",
    "once20_lc2_melted = prepare_dfcount_for_plot(once20_lc2).rename(columns={'dfs_count': 'dfs_count_once20'})\n",
    "once20_lc3_melted = prepare_dfcount_for_plot(once20_lc3).rename(columns={'dfs_count': 'dfs_count_once20'})\n",
    "once20_lc4_melted = prepare_dfcount_for_plot(once20_lc4).rename(columns={'dfs_count': 'dfs_count_once20'})\n",
    "\n",
    "once30_lc1_melted = prepare_dfcount_for_plot(once30_lc1).rename(columns={'dfs_count': 'dfs_count_once30'})\n",
    "once30_lc2_melted = prepare_dfcount_for_plot(once30_lc2).rename(columns={'dfs_count': 'dfs_count_once30'})\n",
    "once30_lc3_melted = prepare_dfcount_for_plot(once30_lc3).rename(columns={'dfs_count': 'dfs_count_once30'})\n",
    "once30_lc4_melted = prepare_dfcount_for_plot(once30_lc4).rename(columns={'dfs_count': 'dfs_count_once30'})\n",
    "\n",
    "once40_lc1_melted = prepare_dfcount_for_plot(once40_lc1).rename(columns={'dfs_count': 'dfs_count_once40'})\n",
    "once40_lc2_melted = prepare_dfcount_for_plot(once40_lc2).rename(columns={'dfs_count': 'dfs_count_once40'})\n",
    "once40_lc3_melted = prepare_dfcount_for_plot(once40_lc3).rename(columns={'dfs_count': 'dfs_count_once40'})\n",
    "once40_lc4_melted = prepare_dfcount_for_plot(once40_lc4).rename(columns={'dfs_count': 'dfs_count_once40'})\n"
   ]
  },
  {
   "cell_type": "code",
   "execution_count": 94,
   "id": "1028fa25-5556-4bdb-afb3-948991a9f32f",
   "metadata": {},
   "outputs": [],
   "source": [
    "# make 4 dfs depending ont he scenatio \n",
    "merge_on = ['D', 'D_year', 'D_month', 'elevation', 'elevation_bin']\n",
    "\n",
    "# ------- landcover1\n",
    "dfs = [once20_lc1_melted, once30_lc1_melted, once40_lc1_melted]\n",
    "\n",
    "lc1_once = dfs[0][merge_on + ['dfs_count_once20']]\n",
    "# Iterate over the remaining dataframes (daily30, daily40) and merge them\n",
    "for i, (df, label) in enumerate(zip(dfs[1:], [30, 40]), start=2):\n",
    "    unique_col = f'dfs_count_once{label}'  # Adjust unique column name\n",
    "    lc1_once = pd.merge(lc1_once, df[merge_on + [unique_col]], on=merge_on)\n",
    "lc1_once['dfspot_count'] = dfspot1_melted.dfs_count\n",
    "\n",
    "# ------- landcover2\n",
    "dfs = [once20_lc2_melted, once30_lc2_melted, once40_lc2_melted]\n",
    "\n",
    "lc2_once = dfs[0][merge_on + ['dfs_count_once20']]\n",
    "# Iterate over the remaining dataframes (daily30, daily40) and merge them\n",
    "for i, (df, label) in enumerate(zip(dfs[1:], [30, 40]), start=2):\n",
    "    unique_col = f'dfs_count_once{label}'  # Adjust unique column name\n",
    "    lc2_once = pd.merge(lc2_once, df[merge_on + [unique_col]], on=merge_on)\n",
    "lc2_once['dfspot_count'] = dfspot2_melted.dfs_count\n",
    "\n",
    "# ------- landcover3\n",
    "dfs = [once20_lc3_melted, once30_lc3_melted, once40_lc3_melted]\n",
    "\n",
    "lc3_once = dfs[0][merge_on + ['dfs_count_once20']]\n",
    "# Iterate over the remaining dataframes (daily30, daily40) and merge them\n",
    "for i, (df, label) in enumerate(zip(dfs[1:], [30, 40]), start=2):\n",
    "    unique_col = f'dfs_count_once{label}'  # Adjust unique column name\n",
    "    lc3_once = pd.merge(lc3_once, df[merge_on + [unique_col]], on=merge_on)\n",
    "lc3_once['dfspot_count'] = dfspot3_melted.dfs_count\n",
    "\n",
    "\n",
    "# ------- landcover4\n",
    "dfs = [once20_lc4_melted, once30_lc4_melted, once40_lc4_melted]\n",
    "\n",
    "lc4_once = dfs[0][merge_on + ['dfs_count_once20']]\n",
    "# Iterate over the remaining dataframes (daily30, daily40) and merge them\n",
    "for i, (df, label) in enumerate(zip(dfs[1:], [30, 40]), start=2):\n",
    "    unique_col = f'dfs_count_once{label}'  # Adjust unique column name\n",
    "    lc4_once = pd.merge(lc4_once, df[merge_on + [unique_col]], on=merge_on)\n",
    "lc4_once['dfspot_count'] = dfspot4_melted.dfs_count\n"
   ]
  },
  {
   "cell_type": "code",
   "execution_count": 95,
   "id": "87f5289e-7ec2-44db-9b42-ad5a8d340622",
   "metadata": {},
   "outputs": [],
   "source": [
    "lc1_once = calculate_floods(lc1_once, 'once')\n",
    "lc2_once = calculate_floods(lc2_once, 'once')\n",
    "lc3_once = calculate_floods(lc3_once, 'once')\n",
    "lc4_once = calculate_floods(lc4_once, 'once')\n"
   ]
  },
  {
   "cell_type": "code",
   "execution_count": 97,
   "id": "12ea998b-992f-4981-a279-68c8eb6a0483",
   "metadata": {},
   "outputs": [
    {
     "data": {
      "text/plain": [
       "Index(['D', 'D_year', 'D_month', 'elevation', 'elevation_bin',\n",
       "       'dfs_count_once20', 'dfs_count_once30', 'dfs_count_once40',\n",
       "       'dfspot_count', 'dfs_count_once40_percent', 'dfs_count_once30_percent',\n",
       "       'dfs_count_once20_percent', 'ffs_count_once40', 'ffs_count_once30',\n",
       "       'ffs_count_once20', 'ffs_count_once40_percent',\n",
       "       'ffs_count_once30_percent', 'ffs_count_once20_percent'],\n",
       "      dtype='object')"
      ]
     },
     "execution_count": 97,
     "metadata": {},
     "output_type": "execute_result"
    }
   ],
   "source": [
    "lc1_once.columns"
   ]
  },
  {
   "cell_type": "code",
   "execution_count": 125,
   "id": "969f7bec-2409-4b9b-b2ce-1439b62eb0e2",
   "metadata": {},
   "outputs": [
    {
     "data": {
      "text/plain": [
       "<AxesSubplot:>"
      ]
     },
     "execution_count": 125,
     "metadata": {},
     "output_type": "execute_result"
    },
    {
     "data": {
      "image/png": "[encoded data removed]",
      "text/plain": [
       "<Figure size 1440x720 with 1 Axes>"
      ]
     },
     "metadata": {
      "needs_background": "light"
     },
     "output_type": "display_data"
    }
   ],
   "source": [
    "plt.figure(figsize = (20, 10))\n",
    "\n",
    "lc1_daily.ffs_count_daily40.plot()\n",
    "lc1_daily.dfs_count_daily40.plot()\n",
    "lc1_daily.dfspot_count.plot()"
   ]
  },
  {
   "cell_type": "code",
   "execution_count": 133,
   "id": "c4d10e9c-a005-455c-9909-b70eae4e4a8d",
   "metadata": {},
   "outputs": [
    {
     "data": {
      "text/plain": [
       "<AxesSubplot:xlabel='dfspot_count', ylabel='dfs_count_daily20'>"
      ]
     },
     "execution_count": 133,
     "metadata": {},
     "output_type": "execute_result"
    },
    {
     "data": {
      "image/png": "[encoded data removed]",
      "text/plain": [
       "<Figure size 1440x720 with 1 Axes>"
      ]
     },
     "metadata": {
      "needs_background": "light"
     },
     "output_type": "display_data"
    }
   ],
   "source": [
    "plt.figure(figsize = (20, 10))\n",
    "\n",
    "sns.scatterplot(data=lc1_daily, x=\"dfspot_count\", y=\"dfs_count_daily20\", hue = 'ffs_count_daily20')\n",
    "# lc1_daily.ffs_count_daily40.plot()\n",
    "# lc1_daily.dfs_count_daily40.plot()\n",
    "# lc1_daily.dfspot_count.plot()"
   ]
  },
  {
   "cell_type": "code",
   "execution_count": 152,
   "id": "ee46ede9-6dee-469d-8c11-ea1f018e7cd2",
   "metadata": {},
   "outputs": [
    {
     "data": {
      "text/plain": [
       "[<matplotlib.lines.Line2D at 0x7f7bce3b8cd0>]"
      ]
     },
     "execution_count": 152,
     "metadata": {},
     "output_type": "execute_result"
    },
    {
     "data": {
      "image/png": "[encoded data removed]",
      "text/plain": [
       "<Figure size 720x360 with 1 Axes>"
      ]
     },
     "metadata": {
      "needs_background": "light"
     },
     "output_type": "display_data"
    }
   ],
   "source": [
    "plt.figure(figsize = (10, 5))\n",
    "\n",
    "test = lc1_daily\n",
    "test['test'] = lc1_daily.dfs_count_daily20 + lc1_daily.ffs_count_daily20\n",
    "\n",
    "sns.scatterplot(data=lc1_daily, x=\"dfspot_count\", y=\"dfs_count_daily20\", hue = 'ffs_count_daily20')\n",
    "plt.plot([0, 7], [0, 7], color='red', label='1:1 line')\n"
   ]
  },
  {
   "cell_type": "code",
   "execution_count": null,
   "id": "842e52b7-700e-47c9-aef4-cadc92f9ac45",
   "metadata": {},
   "outputs": [],
   "source": []
  }
 ],
 "metadata": {
  "kernelspec": {
   "display_name": "Python 3 (ipykernel)",
   "language": "python",
   "name": "python3"
  },
  "language_info": {
   "codemirror_mode": {
    "name": "ipython",
    "version": 3
   },
   "file_extension": ".py",
   "mimetype": "text/x-python",
   "name": "python",
   "nbconvert_exporter": "python",
   "pygments_lexer": "ipython3",
   "version": "3.9.7"
  }
 },
 "nbformat": 4,
 "nbformat_minor": 5
}
