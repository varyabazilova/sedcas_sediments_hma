{
 "cells": [
  {
   "cell_type": "code",
   "execution_count": 1,
   "id": "9a205723-2b45-48ff-ad15-c1c0859736bb",
   "metadata": {},
   "outputs": [
    {
     "name": "stderr",
     "output_type": "stream",
     "text": [
      "/Users/varyabazilova/opt/anaconda3/lib/python3.9/site-packages/scipy/__init__.py:146: UserWarning: A NumPy version >=1.16.5 and <1.23.0 is required for this version of SciPy (detected version 1.26.2\n",
      "  warnings.warn(f\"A NumPy version >={np_minversion} and <{np_maxversion}\"\n"
     ]
    }
   ],
   "source": [
    "import pandas as pd\n",
    "import seaborn as sns\n",
    "import matplotlib.pyplot as plt\n",
    "import os\n",
    "\n",
    "import functions\n",
    "\n"
   ]
  },
  {
   "cell_type": "code",
   "execution_count": 34,
   "id": "2cd9c6d9-67c0-4f66-985c-971c30205723",
   "metadata": {},
   "outputs": [],
   "source": [
    "# calculate the % of the dfs and dfspot for each scenario \n",
    "\n",
    "def prepare_dfcount_for_plot(dfcount):\n",
    "    melted = pd.melt(dfcount, id_vars=['D', 'D_year', 'D_month'], var_name='elevation', value_name='dfs_count')\n",
    "    melted['elevation'] = melted['elevation'].str.split('.').str[0].astype(float)\n",
    "    melted['elevation_bin'] = melted.apply(functions.bin_elevation500, axis=1)\n",
    "    # melted = melted.sort_values('elevation_bin')\n",
    "    # melted = melted.dropna(subset=['dfs_count'])\n",
    "    return melted \n",
    "\n",
    "\n",
    "def cut_dates(df):\n",
    "    df['D'] = pd.to_datetime(df['D'])\n",
    "    filtered_df = df[df['D'] > '1990-08-30']\n",
    "    filtered_df = filtered_df[filtered_df['D'] > '1990-07-31']\n",
    "    return filtered_df\n"
   ]
  },
  {
   "cell_type": "code",
   "execution_count": 36,
   "id": "882f8784-6ab6-4f67-8a6a-0fbfe958d357",
   "metadata": {},
   "outputs": [],
   "source": [
    "# TL case, so potential df (dsfspot)\n",
    "\n",
    "freq = 'monthly'\n",
    "column = 'Qdftl'\n",
    "location = 'langtang'\n",
    "\n",
    "\n",
    "flood_folder =  f'/Users/varyabazilova/Desktop/paper2/202406_modelruns/30years/dfspot_count/{location}/'\n",
    "\n",
    "dfspot1 = cut_dates(pd.read_csv(flood_folder + f'{location}_{freq}_{column}_count_landcover1.csv', index_col = 0).fillna(0))\n",
    "dfspot2 = cut_dates(pd.read_csv(flood_folder + f'{location}_{freq}_{column}_count_landcover2.csv', index_col = 0).fillna(0))\n",
    "dfspot3 = cut_dates(pd.read_csv(flood_folder + f'{location}_{freq}_{column}_count_landcover3.csv', index_col = 0).fillna(0))\n",
    "dfspot4 = cut_dates(pd.read_csv(flood_folder + f'{location}_{freq}_{column}_count_landcover4.csv', index_col = 0).fillna(0))\n"
   ]
  },
  {
   "cell_type": "code",
   "execution_count": null,
   "id": "6da601fe-1db8-4e55-bb26-d3c1b1dc9a69",
   "metadata": {},
   "outputs": [],
   "source": []
  },
  {
   "cell_type": "code",
   "execution_count": 33,
   "id": "74123027-3395-47b9-b672-30d0dd495e34",
   "metadata": {},
   "outputs": [],
   "source": [
    "# SL case per "
   ]
  },
  {
   "cell_type": "code",
   "execution_count": null,
   "id": "eb6005e3-01b2-416e-9b2c-4245e8accea9",
   "metadata": {},
   "outputs": [],
   "source": []
  }
 ],
 "metadata": {
  "kernelspec": {
   "display_name": "Python 3 (ipykernel)",
   "language": "python",
   "name": "python3"
  },
  "language_info": {
   "codemirror_mode": {
    "name": "ipython",
    "version": 3
   },
   "file_extension": ".py",
   "mimetype": "text/x-python",
   "name": "python",
   "nbconvert_exporter": "python",
   "pygments_lexer": "ipython3",
   "version": "3.9.7"
  }
 },
 "nbformat": 4,
 "nbformat_minor": 5
}
