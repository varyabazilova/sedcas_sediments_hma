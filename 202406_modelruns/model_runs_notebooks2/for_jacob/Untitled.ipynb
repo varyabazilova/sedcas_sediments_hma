{
 "cells": [
  {
   "cell_type": "code",
   "execution_count": 13,
   "id": "cea04add-dcab-401b-a36b-a4f08474194a",
   "metadata": {},
   "outputs": [],
   "source": [
    "import xarray as xr\n",
    "import pandas as pd\n",
    "import matplotlib.pyplot as plt\n",
    "\n"
   ]
  },
  {
   "cell_type": "code",
   "execution_count": 14,
   "id": "69ce6624-daa8-476a-9a56-8adb062cd33a",
   "metadata": {},
   "outputs": [],
   "source": [
    "test = xr.open_dataset('/Users/varyabazilova/Desktop/uu/0_teaching/Msc_students/Leon/Thesisfiles_Varya/climate/Era5/bagrot/swr/1973.nc')\n",
    "\n",
    "test['ssrd_wm2'] = test.ssrd / (60*60)\n"
   ]
  },
  {
   "cell_type": "code",
   "execution_count": 15,
   "id": "c894b7a5-e63a-4d36-80ba-619649f55383",
   "metadata": {},
   "outputs": [
    {
     "data": {
      "text/plain": [
       "<matplotlib.collections.QuadMesh at 0x7f85e8272220>"
      ]
     },
     "execution_count": 15,
     "metadata": {},
     "output_type": "execute_result"
    },
    {
     "data": {
      "image/png": "[encoded data removed]",
      "text/plain": [
       "<Figure size 432x288 with 2 Axes>"
      ]
     },
     "metadata": {
      "needs_background": "light"
     },
     "output_type": "display_data"
    }
   ],
   "source": [
    "test['ssrd_wm2'].mean(dim = 'time').plot()"
   ]
  },
  {
   "cell_type": "code",
   "execution_count": 16,
   "id": "184222dd-0933-4120-863c-18558597460f",
   "metadata": {},
   "outputs": [
    {
     "data": {
      "text/plain": [
       "<matplotlib.collections.QuadMesh at 0x7f85f8678a00>"
      ]
     },
     "execution_count": 16,
     "metadata": {},
     "output_type": "execute_result"
    },
    {
     "data": {
      "image/png": "[encoded data removed]",
      "text/plain": [
       "<Figure size 432x288 with 2 Axes>"
      ]
     },
     "metadata": {
      "needs_background": "light"
     },
     "output_type": "display_data"
    }
   ],
   "source": [
    "test['ssrd'].mean(dim = 'time').plot()"
   ]
  },
  {
   "cell_type": "code",
   "execution_count": 48,
   "id": "7bc16b98-6aca-4102-a7cd-1e4a8db843c5",
   "metadata": {},
   "outputs": [
    {
     "data": {
      "text/html": [
       "<div>\n",
       "<style scoped>\n",
       "    .dataframe tbody tr th:only-of-type {\n",
       "        vertical-align: middle;\n",
       "    }\n",
       "\n",
       "    .dataframe tbody tr th {\n",
       "        vertical-align: top;\n",
       "    }\n",
       "\n",
       "    .dataframe thead th {\n",
       "        text-align: right;\n",
       "    }\n",
       "</style>\n",
       "<table border=\"1\" class=\"dataframe\">\n",
       "  <thead>\n",
       "    <tr style=\"text-align: right;\">\n",
       "      <th></th>\n",
       "      <th>DATE</th>\n",
       "      <th>TIME</th>\n",
       "      <th>BVOL</th>\n",
       "      <th>PVOL</th>\n",
       "      <th>BCON</th>\n",
       "      <th>TAIR</th>\n",
       "      <th>RH</th>\n",
       "      <th>RHCOR</th>\n",
       "      <th>TCNR4</th>\n",
       "      <th>KINC</th>\n",
       "      <th>KUPW</th>\n",
       "      <th>LINC</th>\n",
       "      <th>LUPW</th>\n",
       "      <th>TSOIL</th>\n",
       "      <th>LSD</th>\n",
       "      <th>PRES</th>\n",
       "      <th>WSPD</th>\n",
       "      <th>WSPDmax</th>\n",
       "      <th>WINDDIR</th>\n",
       "      <th>SR50</th>\n",
       "    </tr>\n",
       "  </thead>\n",
       "  <tbody>\n",
       "    <tr>\n",
       "      <th>0</th>\n",
       "      <td>2012-03-22</td>\n",
       "      <td>00:00</td>\n",
       "      <td>12.560000</td>\n",
       "      <td>NaN</td>\n",
       "      <td>NaN</td>\n",
       "      <td>NaN</td>\n",
       "      <td>NaN</td>\n",
       "      <td>NaN</td>\n",
       "      <td>NaN</td>\n",
       "      <td>NaN</td>\n",
       "      <td>NaN</td>\n",
       "      <td>NaN</td>\n",
       "      <td>NaN</td>\n",
       "      <td>NaN</td>\n",
       "      <td>0.0</td>\n",
       "      <td>NaN</td>\n",
       "      <td>NaN</td>\n",
       "      <td>NaN</td>\n",
       "      <td>NaN</td>\n",
       "      <td>NaN</td>\n",
       "    </tr>\n",
       "    <tr>\n",
       "      <th>1</th>\n",
       "      <td>2012-03-22</td>\n",
       "      <td>01:00</td>\n",
       "      <td>12.510000</td>\n",
       "      <td>0.0</td>\n",
       "      <td>105.240000</td>\n",
       "      <td>1.750000</td>\n",
       "      <td>43.670000</td>\n",
       "      <td>43.670000</td>\n",
       "      <td>-3.120000</td>\n",
       "      <td>2.240000</td>\n",
       "      <td>2.170000</td>\n",
       "      <td>211.520000</td>\n",
       "      <td>288.290000</td>\n",
       "      <td>7.17</td>\n",
       "      <td>0.0</td>\n",
       "      <td>639.280000</td>\n",
       "      <td>2.760000</td>\n",
       "      <td>NaN</td>\n",
       "      <td>94.400000</td>\n",
       "      <td>NaN</td>\n",
       "    </tr>\n",
       "    <tr>\n",
       "      <th>2</th>\n",
       "      <td>2012-03-22</td>\n",
       "      <td>02:00</td>\n",
       "      <td>12.510000</td>\n",
       "      <td>0.0</td>\n",
       "      <td>105.230000</td>\n",
       "      <td>2.160000</td>\n",
       "      <td>37.220000</td>\n",
       "      <td>37.220000</td>\n",
       "      <td>-2.630000</td>\n",
       "      <td>2.890000</td>\n",
       "      <td>2.050000</td>\n",
       "      <td>210.300000</td>\n",
       "      <td>288.250000</td>\n",
       "      <td>7.10</td>\n",
       "      <td>0.0</td>\n",
       "      <td>638.860000</td>\n",
       "      <td>2.050000</td>\n",
       "      <td>NaN</td>\n",
       "      <td>99.650000</td>\n",
       "      <td>NaN</td>\n",
       "    </tr>\n",
       "    <tr>\n",
       "      <th>3</th>\n",
       "      <td>2012-03-22</td>\n",
       "      <td>03:00</td>\n",
       "      <td>12.510000</td>\n",
       "      <td>0.0</td>\n",
       "      <td>105.240000</td>\n",
       "      <td>1.500000</td>\n",
       "      <td>37.780000</td>\n",
       "      <td>37.780000</td>\n",
       "      <td>-4.040000</td>\n",
       "      <td>4.250000</td>\n",
       "      <td>3.230000</td>\n",
       "      <td>206.820000</td>\n",
       "      <td>283.360000</td>\n",
       "      <td>7.01</td>\n",
       "      <td>0.0</td>\n",
       "      <td>638.570000</td>\n",
       "      <td>1.880000</td>\n",
       "      <td>NaN</td>\n",
       "      <td>61.970000</td>\n",
       "      <td>NaN</td>\n",
       "    </tr>\n",
       "    <tr>\n",
       "      <th>4</th>\n",
       "      <td>2012-03-22</td>\n",
       "      <td>04:00</td>\n",
       "      <td>12.510000</td>\n",
       "      <td>0.0</td>\n",
       "      <td>105.240000</td>\n",
       "      <td>1.220000</td>\n",
       "      <td>35.910000</td>\n",
       "      <td>35.910000</td>\n",
       "      <td>-3.380000</td>\n",
       "      <td>1.870000</td>\n",
       "      <td>1.870000</td>\n",
       "      <td>202.750000</td>\n",
       "      <td>283.590000</td>\n",
       "      <td>6.91</td>\n",
       "      <td>0.0</td>\n",
       "      <td>638.340000</td>\n",
       "      <td>2.250000</td>\n",
       "      <td>NaN</td>\n",
       "      <td>86.890000</td>\n",
       "      <td>NaN</td>\n",
       "    </tr>\n",
       "    <tr>\n",
       "      <th>...</th>\n",
       "      <td>...</td>\n",
       "      <td>...</td>\n",
       "      <td>...</td>\n",
       "      <td>...</td>\n",
       "      <td>...</td>\n",
       "      <td>...</td>\n",
       "      <td>...</td>\n",
       "      <td>...</td>\n",
       "      <td>...</td>\n",
       "      <td>...</td>\n",
       "      <td>...</td>\n",
       "      <td>...</td>\n",
       "      <td>...</td>\n",
       "      <td>...</td>\n",
       "      <td>...</td>\n",
       "      <td>...</td>\n",
       "      <td>...</td>\n",
       "      <td>...</td>\n",
       "      <td>...</td>\n",
       "      <td>...</td>\n",
       "    </tr>\n",
       "    <tr>\n",
       "      <th>101878</th>\n",
       "      <td>2023-11-06</td>\n",
       "      <td>12:00</td>\n",
       "      <td>14.235000</td>\n",
       "      <td>0.0</td>\n",
       "      <td>366.983333</td>\n",
       "      <td>4.960667</td>\n",
       "      <td>0.204167</td>\n",
       "      <td>0.204167</td>\n",
       "      <td>6.784500</td>\n",
       "      <td>873.166667</td>\n",
       "      <td>129.500000</td>\n",
       "      <td>241.666667</td>\n",
       "      <td>436.033333</td>\n",
       "      <td>NaN</td>\n",
       "      <td>NaN</td>\n",
       "      <td>642.466667</td>\n",
       "      <td>6.637000</td>\n",
       "      <td>6.964</td>\n",
       "      <td>244.869281</td>\n",
       "      <td>2.175900</td>\n",
       "    </tr>\n",
       "    <tr>\n",
       "      <th>101879</th>\n",
       "      <td>2023-11-06</td>\n",
       "      <td>13:00</td>\n",
       "      <td>14.235000</td>\n",
       "      <td>0.0</td>\n",
       "      <td>366.900000</td>\n",
       "      <td>4.952333</td>\n",
       "      <td>0.203833</td>\n",
       "      <td>0.203833</td>\n",
       "      <td>6.579167</td>\n",
       "      <td>789.733333</td>\n",
       "      <td>118.966667</td>\n",
       "      <td>242.350000</td>\n",
       "      <td>425.416667</td>\n",
       "      <td>NaN</td>\n",
       "      <td>NaN</td>\n",
       "      <td>641.933333</td>\n",
       "      <td>6.793333</td>\n",
       "      <td>7.245</td>\n",
       "      <td>247.071276</td>\n",
       "      <td>2.176667</td>\n",
       "    </tr>\n",
       "    <tr>\n",
       "      <th>101880</th>\n",
       "      <td>2023-11-06</td>\n",
       "      <td>14:00</td>\n",
       "      <td>14.243333</td>\n",
       "      <td>0.0</td>\n",
       "      <td>366.900000</td>\n",
       "      <td>4.355333</td>\n",
       "      <td>0.203167</td>\n",
       "      <td>0.203167</td>\n",
       "      <td>5.550167</td>\n",
       "      <td>632.433333</td>\n",
       "      <td>100.483333</td>\n",
       "      <td>243.333333</td>\n",
       "      <td>404.016667</td>\n",
       "      <td>NaN</td>\n",
       "      <td>NaN</td>\n",
       "      <td>641.800000</td>\n",
       "      <td>6.694333</td>\n",
       "      <td>7.286</td>\n",
       "      <td>245.145520</td>\n",
       "      <td>2.176667</td>\n",
       "    </tr>\n",
       "    <tr>\n",
       "      <th>101881</th>\n",
       "      <td>2023-11-06</td>\n",
       "      <td>15:00</td>\n",
       "      <td>14.246000</td>\n",
       "      <td>0.0</td>\n",
       "      <td>366.900000</td>\n",
       "      <td>3.430400</td>\n",
       "      <td>0.203000</td>\n",
       "      <td>0.203000</td>\n",
       "      <td>4.356800</td>\n",
       "      <td>370.220000</td>\n",
       "      <td>61.848000</td>\n",
       "      <td>257.260000</td>\n",
       "      <td>378.220000</td>\n",
       "      <td>NaN</td>\n",
       "      <td>NaN</td>\n",
       "      <td>641.660000</td>\n",
       "      <td>5.129200</td>\n",
       "      <td>6.288</td>\n",
       "      <td>243.626629</td>\n",
       "      <td>2.172400</td>\n",
       "    </tr>\n",
       "    <tr>\n",
       "      <th>101882</th>\n",
       "      <td>2023-11-06</td>\n",
       "      <td>23:00</td>\n",
       "      <td>12.840000</td>\n",
       "      <td>0.0</td>\n",
       "      <td>367.900000</td>\n",
       "      <td>-1.746000</td>\n",
       "      <td>0.204000</td>\n",
       "      <td>0.204000</td>\n",
       "      <td>-3.996000</td>\n",
       "      <td>0.000000</td>\n",
       "      <td>3.328000</td>\n",
       "      <td>221.800000</td>\n",
       "      <td>289.600000</td>\n",
       "      <td>NaN</td>\n",
       "      <td>NaN</td>\n",
       "      <td>642.500000</td>\n",
       "      <td>0.335000</td>\n",
       "      <td>0.335</td>\n",
       "      <td>46.590000</td>\n",
       "      <td>NaN</td>\n",
       "    </tr>\n",
       "  </tbody>\n",
       "</table>\n",
       "<p>101883 rows × 20 columns</p>\n",
       "</div>"
      ],
      "text/plain": [
       "              DATE   TIME       BVOL  PVOL        BCON      TAIR         RH  \\\n",
       "0       2012-03-22  00:00  12.560000   NaN         NaN       NaN        NaN   \n",
       "1       2012-03-22  01:00  12.510000   0.0  105.240000  1.750000  43.670000   \n",
       "2       2012-03-22  02:00  12.510000   0.0  105.230000  2.160000  37.220000   \n",
       "3       2012-03-22  03:00  12.510000   0.0  105.240000  1.500000  37.780000   \n",
       "4       2012-03-22  04:00  12.510000   0.0  105.240000  1.220000  35.910000   \n",
       "...            ...    ...        ...   ...         ...       ...        ...   \n",
       "101878  2023-11-06  12:00  14.235000   0.0  366.983333  4.960667   0.204167   \n",
       "101879  2023-11-06  13:00  14.235000   0.0  366.900000  4.952333   0.203833   \n",
       "101880  2023-11-06  14:00  14.243333   0.0  366.900000  4.355333   0.203167   \n",
       "101881  2023-11-06  15:00  14.246000   0.0  366.900000  3.430400   0.203000   \n",
       "101882  2023-11-06  23:00  12.840000   0.0  367.900000 -1.746000   0.204000   \n",
       "\n",
       "            RHCOR     TCNR4        KINC        KUPW        LINC        LUPW  \\\n",
       "0             NaN       NaN         NaN         NaN         NaN         NaN   \n",
       "1       43.670000 -3.120000    2.240000    2.170000  211.520000  288.290000   \n",
       "2       37.220000 -2.630000    2.890000    2.050000  210.300000  288.250000   \n",
       "3       37.780000 -4.040000    4.250000    3.230000  206.820000  283.360000   \n",
       "4       35.910000 -3.380000    1.870000    1.870000  202.750000  283.590000   \n",
       "...           ...       ...         ...         ...         ...         ...   \n",
       "101878   0.204167  6.784500  873.166667  129.500000  241.666667  436.033333   \n",
       "101879   0.203833  6.579167  789.733333  118.966667  242.350000  425.416667   \n",
       "101880   0.203167  5.550167  632.433333  100.483333  243.333333  404.016667   \n",
       "101881   0.203000  4.356800  370.220000   61.848000  257.260000  378.220000   \n",
       "101882   0.204000 -3.996000    0.000000    3.328000  221.800000  289.600000   \n",
       "\n",
       "        TSOIL  LSD        PRES      WSPD  WSPDmax     WINDDIR      SR50  \n",
       "0         NaN  0.0         NaN       NaN      NaN         NaN       NaN  \n",
       "1        7.17  0.0  639.280000  2.760000      NaN   94.400000       NaN  \n",
       "2        7.10  0.0  638.860000  2.050000      NaN   99.650000       NaN  \n",
       "3        7.01  0.0  638.570000  1.880000      NaN   61.970000       NaN  \n",
       "4        6.91  0.0  638.340000  2.250000      NaN   86.890000       NaN  \n",
       "...       ...  ...         ...       ...      ...         ...       ...  \n",
       "101878    NaN  NaN  642.466667  6.637000    6.964  244.869281  2.175900  \n",
       "101879    NaN  NaN  641.933333  6.793333    7.245  247.071276  2.176667  \n",
       "101880    NaN  NaN  641.800000  6.694333    7.286  245.145520  2.176667  \n",
       "101881    NaN  NaN  641.660000  5.129200    6.288  243.626629  2.172400  \n",
       "101882    NaN  NaN  642.500000  0.335000    0.335   46.590000       NaN  \n",
       "\n",
       "[101883 rows x 20 columns]"
      ]
     },
     "execution_count": 48,
     "metadata": {},
     "output_type": "execute_result"
    }
   ],
   "source": [
    "aws = pd.read_csv('/Users/varyabazilova/Desktop/paper2/202406_modelruns/model_runs_notebooks2/for_jacob/icimod_data/Kyangjin_ICIMOD.csv')\n",
    "\n",
    "aws"
   ]
  },
  {
   "cell_type": "code",
   "execution_count": 49,
   "id": "f4a26d58-fe07-4012-850a-e38e13799d38",
   "metadata": {},
   "outputs": [],
   "source": [
    "aws['datetime'] = pd.to_datetime(aws['DATE'] + ' ' + aws['TIME'])\n",
    "aws = aws.set_index('datetime')"
   ]
  },
  {
   "cell_type": "code",
   "execution_count": 50,
   "id": "85afd796-c573-44a3-a7f4-1c66bce572a8",
   "metadata": {},
   "outputs": [],
   "source": [
    "monthly = aws.resample('M').mean()\n",
    "monthly_mean = monthly.groupby(by=monthly.index.month).mean()\n",
    "yearly_mean = monthly_mean.sum()\n"
   ]
  },
  {
   "cell_type": "code",
   "execution_count": 51,
   "id": "54b03c75-4b22-4651-ab12-eba17d2369d9",
   "metadata": {},
   "outputs": [
    {
     "data": {
      "text/plain": [
       "BVOL        158.348355\n",
       "PVOL          0.919767\n",
       "BCON       3420.709534\n",
       "TAIR         48.363566\n",
       "RH          453.692313\n",
       "RHCOR       327.968434\n",
       "TCNR4        33.479873\n",
       "KINC       2967.174688\n",
       "KUPW        583.608041\n",
       "LINC       3222.986611\n",
       "LUPW       4073.650579\n",
       "TSOIL        81.899236\n",
       "LSD           0.876732\n",
       "PRES       7682.983624\n",
       "WSPD         31.686382\n",
       "WSPDmax      39.873815\n",
       "WINDDIR    2026.542154\n",
       "SR50         25.325299\n",
       "dtype: float64"
      ]
     },
     "execution_count": 51,
     "metadata": {},
     "output_type": "execute_result"
    }
   ],
   "source": [
    "yearly_mean"
   ]
  },
  {
   "cell_type": "code",
   "execution_count": 52,
   "id": "f24924db-2fbc-44e0-99a3-d575080e01f7",
   "metadata": {},
   "outputs": [],
   "source": [
    "climatepath = '/Users/varyabazilova/Desktop/paper2/202406_modelruns/model_runs_notebooks2/for_jacob/langtang_climate_cut'\n",
    "testfile = pd.read_csv(climatepath + '/12a/climatefile.12a.met')\n",
    "testfile['D'] = pd.to_datetime(testfile['D'])\n",
    "testfile = testfile.set_index('D')"
   ]
  },
  {
   "cell_type": "code",
   "execution_count": 53,
   "id": "ae75db84-78d7-433c-ac2e-acb4d43003a1",
   "metadata": {},
   "outputs": [],
   "source": [
    "monthly2 = testfile.resample('M').mean()\n",
    "monthly_mean2 = monthly2.groupby(by=monthly2.index.month).mean()\n",
    "# yearly_mean2 = monthly_mean2.sum()\n"
   ]
  },
  {
   "cell_type": "code",
   "execution_count": 54,
   "id": "8439104d-b0a6-4d0a-b885-1370617551c1",
   "metadata": {},
   "outputs": [
    {
     "data": {
      "text/html": [
       "<div>\n",
       "<style scoped>\n",
       "    .dataframe tbody tr th:only-of-type {\n",
       "        vertical-align: middle;\n",
       "    }\n",
       "\n",
       "    .dataframe tbody tr th {\n",
       "        vertical-align: top;\n",
       "    }\n",
       "\n",
       "    .dataframe thead th {\n",
       "        text-align: right;\n",
       "    }\n",
       "</style>\n",
       "<table border=\"1\" class=\"dataframe\">\n",
       "  <thead>\n",
       "    <tr style=\"text-align: right;\">\n",
       "      <th></th>\n",
       "      <th>Pr</th>\n",
       "      <th>Ta</th>\n",
       "      <th>Rsw</th>\n",
       "      <th>N</th>\n",
       "    </tr>\n",
       "    <tr>\n",
       "      <th>D</th>\n",
       "      <th></th>\n",
       "      <th></th>\n",
       "      <th></th>\n",
       "      <th></th>\n",
       "    </tr>\n",
       "  </thead>\n",
       "  <tbody>\n",
       "    <tr>\n",
       "      <th>1</th>\n",
       "      <td>0.068457</td>\n",
       "      <td>-9.325197</td>\n",
       "      <td>3168.425386</td>\n",
       "      <td>0.392582</td>\n",
       "    </tr>\n",
       "    <tr>\n",
       "      <th>2</th>\n",
       "      <td>0.105060</td>\n",
       "      <td>-8.966811</td>\n",
       "      <td>3732.170720</td>\n",
       "      <td>0.441575</td>\n",
       "    </tr>\n",
       "    <tr>\n",
       "      <th>3</th>\n",
       "      <td>0.096041</td>\n",
       "      <td>-6.208020</td>\n",
       "      <td>4657.249802</td>\n",
       "      <td>0.413902</td>\n",
       "    </tr>\n",
       "    <tr>\n",
       "      <th>4</th>\n",
       "      <td>0.115023</td>\n",
       "      <td>-2.763002</td>\n",
       "      <td>5273.894073</td>\n",
       "      <td>0.440877</td>\n",
       "    </tr>\n",
       "    <tr>\n",
       "      <th>5</th>\n",
       "      <td>0.246063</td>\n",
       "      <td>1.063518</td>\n",
       "      <td>5111.661909</td>\n",
       "      <td>0.545076</td>\n",
       "    </tr>\n",
       "    <tr>\n",
       "      <th>6</th>\n",
       "      <td>0.528898</td>\n",
       "      <td>4.746332</td>\n",
       "      <td>4195.553429</td>\n",
       "      <td>0.753423</td>\n",
       "    </tr>\n",
       "    <tr>\n",
       "      <th>7</th>\n",
       "      <td>0.923206</td>\n",
       "      <td>5.960038</td>\n",
       "      <td>3169.413283</td>\n",
       "      <td>0.952909</td>\n",
       "    </tr>\n",
       "    <tr>\n",
       "      <th>8</th>\n",
       "      <td>0.773175</td>\n",
       "      <td>5.723644</td>\n",
       "      <td>3249.942877</td>\n",
       "      <td>0.942722</td>\n",
       "    </tr>\n",
       "    <tr>\n",
       "      <th>9</th>\n",
       "      <td>0.419944</td>\n",
       "      <td>4.017048</td>\n",
       "      <td>3497.403083</td>\n",
       "      <td>0.776071</td>\n",
       "    </tr>\n",
       "    <tr>\n",
       "      <th>10</th>\n",
       "      <td>0.116198</td>\n",
       "      <td>-0.529486</td>\n",
       "      <td>3807.935390</td>\n",
       "      <td>0.428572</td>\n",
       "    </tr>\n",
       "    <tr>\n",
       "      <th>11</th>\n",
       "      <td>0.057952</td>\n",
       "      <td>-4.081485</td>\n",
       "      <td>3338.558471</td>\n",
       "      <td>0.426593</td>\n",
       "    </tr>\n",
       "    <tr>\n",
       "      <th>12</th>\n",
       "      <td>0.047142</td>\n",
       "      <td>-6.694849</td>\n",
       "      <td>2992.438159</td>\n",
       "      <td>0.390903</td>\n",
       "    </tr>\n",
       "  </tbody>\n",
       "</table>\n",
       "</div>"
      ],
      "text/plain": [
       "          Pr        Ta          Rsw         N\n",
       "D                                            \n",
       "1   0.068457 -9.325197  3168.425386  0.392582\n",
       "2   0.105060 -8.966811  3732.170720  0.441575\n",
       "3   0.096041 -6.208020  4657.249802  0.413902\n",
       "4   0.115023 -2.763002  5273.894073  0.440877\n",
       "5   0.246063  1.063518  5111.661909  0.545076\n",
       "6   0.528898  4.746332  4195.553429  0.753423\n",
       "7   0.923206  5.960038  3169.413283  0.952909\n",
       "8   0.773175  5.723644  3249.942877  0.942722\n",
       "9   0.419944  4.017048  3497.403083  0.776071\n",
       "10  0.116198 -0.529486  3807.935390  0.428572\n",
       "11  0.057952 -4.081485  3338.558471  0.426593\n",
       "12  0.047142 -6.694849  2992.438159  0.390903"
      ]
     },
     "execution_count": 54,
     "metadata": {},
     "output_type": "execute_result"
    }
   ],
   "source": [
    "monthly_mean2\n",
    "\n"
   ]
  },
  {
   "cell_type": "code",
   "execution_count": null,
   "id": "65a42584-6f10-44c9-8987-4f96297e099c",
   "metadata": {},
   "outputs": [],
   "source": []
  },
  {
   "cell_type": "code",
   "execution_count": 58,
   "id": "efe8da23-535b-4119-a371-3121691faed3",
   "metadata": {},
   "outputs": [
    {
     "data": {
      "text/plain": [
       "<matplotlib.legend.Legend at 0x7f85e8ececa0>"
      ]
     },
     "execution_count": 58,
     "metadata": {},
     "output_type": "execute_result"
    },
    {
     "data": {
      "image/png": "[encoded data removed]",
      "text/plain": [
       "<Figure size 432x288 with 1 Axes>"
      ]
     },
     "metadata": {
      "needs_background": "light"
     },
     "output_type": "display_data"
    }
   ],
   "source": [
    "monthly_mean.KINC.plot(label = 'aws kyanjin')\n",
    "\n",
    "monthly_mean2.Rsw.plot(label = 'era5 land')\n",
    "plt.ylabel('W/m2 (mean monthly)')\n",
    "plt.ylabel('month')\n",
    "\n",
    "plt.legend()"
   ]
  },
  {
   "cell_type": "code",
   "execution_count": 69,
   "id": "5431c980-b083-4aa1-a046-4f916b265a8e",
   "metadata": {},
   "outputs": [
    {
     "data": {
      "text/plain": [
       "<matplotlib.legend.Legend at 0x7f864c136fa0>"
      ]
     },
     "execution_count": 69,
     "metadata": {},
     "output_type": "execute_result"
    },
    {
     "data": {
      "image/png": "[encoded data removed]",
      "text/plain": [
       "<Figure size 432x288 with 1 Axes>"
      ]
     },
     "metadata": {
      "needs_background": "light"
     },
     "output_type": "display_data"
    }
   ],
   "source": [
    "monthly_mean2['Rsw2'] = monthly_mean2.Rsw / 20\n",
    "monthly_mean2.Rsw2.plot(label = 'era5 land / 8')\n",
    "\n",
    "\n",
    "monthly_mean.KINC.plot(label = 'aws')\n",
    "plt.ylabel('W/m2')\n",
    "\n",
    "plt.legend()"
   ]
  },
  {
   "cell_type": "code",
   "execution_count": 59,
   "id": "1367c31a-bf66-4e78-9dc3-03d83e4e3f08",
   "metadata": {},
   "outputs": [
    {
     "data": {
      "text/plain": [
       "<AxesSubplot:xlabel='datetime'>"
      ]
     },
     "execution_count": 59,
     "metadata": {},
     "output_type": "execute_result"
    },
    {
     "data": {
      "image/png": "[encoded data removed]",
      "text/plain": [
       "<Figure size 432x288 with 1 Axes>"
      ]
     },
     "metadata": {
      "needs_background": "light"
     },
     "output_type": "display_data"
    }
   ],
   "source": [
    "aws.KINC.plot()"
   ]
  },
  {
   "cell_type": "code",
   "execution_count": null,
   "id": "267f6b7d-289c-458d-8683-4b21c1b94a1f",
   "metadata": {},
   "outputs": [],
   "source": []
  }
 ],
 "metadata": {
  "kernelspec": {
   "display_name": "Python [conda env:sedcas] *",
   "language": "python",
   "name": "conda-env-sedcas-py"
  },
  "language_info": {
   "codemirror_mode": {
    "name": "ipython",
    "version": 3
   },
   "file_extension": ".py",
   "mimetype": "text/x-python",
   "name": "python",
   "nbconvert_exporter": "python",
   "pygments_lexer": "ipython3",
   "version": "3.9.7"
  }
 },
 "nbformat": 4,
 "nbformat_minor": 5
}
