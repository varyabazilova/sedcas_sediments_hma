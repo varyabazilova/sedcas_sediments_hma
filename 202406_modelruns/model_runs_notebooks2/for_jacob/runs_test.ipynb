{
 "cells": [
  {
   "cell_type": "code",
   "execution_count": 1,
   "id": "a1d0281d-143b-4a1a-bd6b-58e340f1c0b9",
   "metadata": {},
   "outputs": [],
   "source": [
    "import os\n",
    "import pandas as pd\n",
    "import matplotlib.pyplot as plt\n",
    "\n",
    "\n",
    "# modelling part\n",
    "from run import run\n",
    "\n"
   ]
  },
  {
   "cell_type": "code",
   "execution_count": 2,
   "id": "7ee51937-6b78-443d-98a1-97ba2a1e7d5b",
   "metadata": {},
   "outputs": [
    {
     "name": "stdout",
     "output_type": "stream",
     "text": [
      "running sediment module...\n"
     ]
    },
    {
     "name": "stderr",
     "output_type": "stream",
     "text": [
      "100%|█████████████████████████████████████████████| 1/1 [00:00<00:00,  1.68it/s]\n"
     ]
    },
    {
     "name": "stdout",
     "output_type": "stream",
     "text": [
      "saving output...\n",
      "running sediment module...\n"
     ]
    },
    {
     "name": "stderr",
     "output_type": "stream",
     "text": [
      "100%|█████████████████████████████████████████████| 1/1 [00:00<00:00,  1.74it/s]\n"
     ]
    },
    {
     "name": "stdout",
     "output_type": "stream",
     "text": [
      "saving output...\n"
     ]
    }
   ],
   "source": [
    "# test run\n",
    "\n",
    "# landcover 1 -Langtang\n",
    "\n",
    "\n",
    "# ----------- LANGTANG ------------\n",
    "\n",
    "# climatepath = '/Users/varyabazilova/Desktop/paper2/202406_modelruns/30years/test/langtang_climate_cut/'\n",
    "climatepath = '/Users/varyabazilova/Desktop/paper2/202406_modelruns/model_runs_notebooks2/for_jacob/langtang_climate_cut/'\n",
    "# get all folders togetehr \n",
    "\n",
    "ls_ = os.listdir(climatepath)\n",
    "ls = [d for d in ls_ if not d.startswith('.')]\n",
    "dir0 = os.getcwd()\n",
    "# print(dir0)\n",
    "# run the model for each\n",
    "for d in ls:\n",
    "    path = os.path.join(climatepath, d)\n",
    "    if path.endswith('.csv'):\n",
    "        continue\n",
    "    # print(path)\n",
    "    os.chdir(path)\n",
    "    run()\n",
    "    os.chdir(dir0)\n"
   ]
  },
  {
   "cell_type": "code",
   "execution_count": 3,
   "id": "ef16d865-43ce-4989-9be4-3f80bca3f893",
   "metadata": {},
   "outputs": [],
   "source": [
    "testfile = pd.read_csv(climatepath + '/12a/Hydro.out')\n",
    "testfile['D'] = pd.to_datetime(testfile['D'])\n",
    "testfile = testfile.set_index('D')\n",
    "\n",
    "testfile['snowmelt'] = testfile['snowacc'].where(testfile['snowacc'] < 0) * -1\n",
    "testfile['snowacc'] = testfile['snowacc'].where(testfile['snowacc'] > 0)\n"
   ]
  },
  {
   "cell_type": "code",
   "execution_count": 4,
   "id": "87342a38-f6d1-4184-9c77-dc8790d1eec2",
   "metadata": {},
   "outputs": [
    {
     "data": {
      "text/html": [
       "<div>\n",
       "<style scoped>\n",
       "    .dataframe tbody tr th:only-of-type {\n",
       "        vertical-align: middle;\n",
       "    }\n",
       "\n",
       "    .dataframe tbody tr th {\n",
       "        vertical-align: top;\n",
       "    }\n",
       "\n",
       "    .dataframe thead th {\n",
       "        text-align: right;\n",
       "    }\n",
       "</style>\n",
       "<table border=\"1\" class=\"dataframe\">\n",
       "  <thead>\n",
       "    <tr style=\"text-align: right;\">\n",
       "      <th></th>\n",
       "      <th>Q</th>\n",
       "      <th>Qs</th>\n",
       "      <th>Qss</th>\n",
       "      <th>Vw</th>\n",
       "      <th>snow</th>\n",
       "      <th>snowacc</th>\n",
       "      <th>PET</th>\n",
       "      <th>AET</th>\n",
       "      <th>Pr</th>\n",
       "      <th>Ta</th>\n",
       "      <th>glacier_melt</th>\n",
       "      <th>snowmelt</th>\n",
       "    </tr>\n",
       "    <tr>\n",
       "      <th>D</th>\n",
       "      <th></th>\n",
       "      <th></th>\n",
       "      <th></th>\n",
       "      <th></th>\n",
       "      <th></th>\n",
       "      <th></th>\n",
       "      <th></th>\n",
       "      <th></th>\n",
       "      <th></th>\n",
       "      <th></th>\n",
       "      <th></th>\n",
       "      <th></th>\n",
       "    </tr>\n",
       "  </thead>\n",
       "  <tbody>\n",
       "    <tr>\n",
       "      <th>1989-09-01 00:00:00</th>\n",
       "      <td>0.000000</td>\n",
       "      <td>0.0</td>\n",
       "      <td>0.000000</td>\n",
       "      <td>0.0</td>\n",
       "      <td>0.0</td>\n",
       "      <td>NaN</td>\n",
       "      <td>2.028531</td>\n",
       "      <td>0.000000</td>\n",
       "      <td>0.009842</td>\n",
       "      <td>3.654126</td>\n",
       "      <td>0.328029</td>\n",
       "      <td>NaN</td>\n",
       "    </tr>\n",
       "    <tr>\n",
       "      <th>1989-09-01 01:00:00</th>\n",
       "      <td>0.021085</td>\n",
       "      <td>0.0</td>\n",
       "      <td>0.021085</td>\n",
       "      <td>0.0</td>\n",
       "      <td>0.0</td>\n",
       "      <td>NaN</td>\n",
       "      <td>0.000000</td>\n",
       "      <td>0.000000</td>\n",
       "      <td>0.021085</td>\n",
       "      <td>4.217486</td>\n",
       "      <td>0.000000</td>\n",
       "      <td>NaN</td>\n",
       "    </tr>\n",
       "    <tr>\n",
       "      <th>1989-09-01 02:00:00</th>\n",
       "      <td>0.011266</td>\n",
       "      <td>0.0</td>\n",
       "      <td>0.011266</td>\n",
       "      <td>0.0</td>\n",
       "      <td>0.0</td>\n",
       "      <td>NaN</td>\n",
       "      <td>0.044242</td>\n",
       "      <td>0.021070</td>\n",
       "      <td>0.032336</td>\n",
       "      <td>4.998886</td>\n",
       "      <td>0.000000</td>\n",
       "      <td>NaN</td>\n",
       "    </tr>\n",
       "    <tr>\n",
       "      <th>1989-09-01 03:00:00</th>\n",
       "      <td>0.000000</td>\n",
       "      <td>0.0</td>\n",
       "      <td>0.000000</td>\n",
       "      <td>0.0</td>\n",
       "      <td>0.0</td>\n",
       "      <td>NaN</td>\n",
       "      <td>0.205823</td>\n",
       "      <td>0.040766</td>\n",
       "      <td>0.040766</td>\n",
       "      <td>6.196086</td>\n",
       "      <td>0.000000</td>\n",
       "      <td>NaN</td>\n",
       "    </tr>\n",
       "    <tr>\n",
       "      <th>1989-09-01 04:00:00</th>\n",
       "      <td>0.000000</td>\n",
       "      <td>0.0</td>\n",
       "      <td>0.000000</td>\n",
       "      <td>0.0</td>\n",
       "      <td>0.0</td>\n",
       "      <td>NaN</td>\n",
       "      <td>0.442469</td>\n",
       "      <td>0.029519</td>\n",
       "      <td>0.029519</td>\n",
       "      <td>6.960796</td>\n",
       "      <td>0.000000</td>\n",
       "      <td>NaN</td>\n",
       "    </tr>\n",
       "    <tr>\n",
       "      <th>...</th>\n",
       "      <td>...</td>\n",
       "      <td>...</td>\n",
       "      <td>...</td>\n",
       "      <td>...</td>\n",
       "      <td>...</td>\n",
       "      <td>...</td>\n",
       "      <td>...</td>\n",
       "      <td>...</td>\n",
       "      <td>...</td>\n",
       "      <td>...</td>\n",
       "      <td>...</td>\n",
       "      <td>...</td>\n",
       "    </tr>\n",
       "    <tr>\n",
       "      <th>2022-09-30 19:00:00</th>\n",
       "      <td>0.000000</td>\n",
       "      <td>0.0</td>\n",
       "      <td>0.000000</td>\n",
       "      <td>0.0</td>\n",
       "      <td>0.0</td>\n",
       "      <td>NaN</td>\n",
       "      <td>2.333064</td>\n",
       "      <td>0.003714</td>\n",
       "      <td>0.003714</td>\n",
       "      <td>1.346846</td>\n",
       "      <td>0.000000</td>\n",
       "      <td>NaN</td>\n",
       "    </tr>\n",
       "    <tr>\n",
       "      <th>2022-09-30 20:00:00</th>\n",
       "      <td>0.000000</td>\n",
       "      <td>0.0</td>\n",
       "      <td>0.000000</td>\n",
       "      <td>0.0</td>\n",
       "      <td>0.0</td>\n",
       "      <td>NaN</td>\n",
       "      <td>2.320553</td>\n",
       "      <td>0.001237</td>\n",
       "      <td>0.001237</td>\n",
       "      <td>1.188496</td>\n",
       "      <td>0.000000</td>\n",
       "      <td>NaN</td>\n",
       "    </tr>\n",
       "    <tr>\n",
       "      <th>2022-09-30 21:00:00</th>\n",
       "      <td>0.000000</td>\n",
       "      <td>0.0</td>\n",
       "      <td>0.000000</td>\n",
       "      <td>0.0</td>\n",
       "      <td>0.0</td>\n",
       "      <td>NaN</td>\n",
       "      <td>2.301134</td>\n",
       "      <td>0.000000</td>\n",
       "      <td>0.000000</td>\n",
       "      <td>0.942856</td>\n",
       "      <td>0.000000</td>\n",
       "      <td>NaN</td>\n",
       "    </tr>\n",
       "    <tr>\n",
       "      <th>2022-09-30 22:00:00</th>\n",
       "      <td>0.000000</td>\n",
       "      <td>0.0</td>\n",
       "      <td>0.000000</td>\n",
       "      <td>0.0</td>\n",
       "      <td>0.0</td>\n",
       "      <td>NaN</td>\n",
       "      <td>2.280362</td>\n",
       "      <td>0.001237</td>\n",
       "      <td>0.001237</td>\n",
       "      <td>0.680256</td>\n",
       "      <td>0.000000</td>\n",
       "      <td>NaN</td>\n",
       "    </tr>\n",
       "    <tr>\n",
       "      <th>2022-09-30 23:00:00</th>\n",
       "      <td>0.000000</td>\n",
       "      <td>0.0</td>\n",
       "      <td>0.000000</td>\n",
       "      <td>0.0</td>\n",
       "      <td>0.0</td>\n",
       "      <td>NaN</td>\n",
       "      <td>2.280043</td>\n",
       "      <td>0.001237</td>\n",
       "      <td>0.001237</td>\n",
       "      <td>0.676226</td>\n",
       "      <td>0.000000</td>\n",
       "      <td>NaN</td>\n",
       "    </tr>\n",
       "  </tbody>\n",
       "</table>\n",
       "<p>289992 rows × 12 columns</p>\n",
       "</div>"
      ],
      "text/plain": [
       "                            Q   Qs       Qss   Vw  snow  snowacc       PET  \\\n",
       "D                                                                            \n",
       "1989-09-01 00:00:00  0.000000  0.0  0.000000  0.0   0.0      NaN  2.028531   \n",
       "1989-09-01 01:00:00  0.021085  0.0  0.021085  0.0   0.0      NaN  0.000000   \n",
       "1989-09-01 02:00:00  0.011266  0.0  0.011266  0.0   0.0      NaN  0.044242   \n",
       "1989-09-01 03:00:00  0.000000  0.0  0.000000  0.0   0.0      NaN  0.205823   \n",
       "1989-09-01 04:00:00  0.000000  0.0  0.000000  0.0   0.0      NaN  0.442469   \n",
       "...                       ...  ...       ...  ...   ...      ...       ...   \n",
       "2022-09-30 19:00:00  0.000000  0.0  0.000000  0.0   0.0      NaN  2.333064   \n",
       "2022-09-30 20:00:00  0.000000  0.0  0.000000  0.0   0.0      NaN  2.320553   \n",
       "2022-09-30 21:00:00  0.000000  0.0  0.000000  0.0   0.0      NaN  2.301134   \n",
       "2022-09-30 22:00:00  0.000000  0.0  0.000000  0.0   0.0      NaN  2.280362   \n",
       "2022-09-30 23:00:00  0.000000  0.0  0.000000  0.0   0.0      NaN  2.280043   \n",
       "\n",
       "                          AET        Pr        Ta  glacier_melt  snowmelt  \n",
       "D                                                                          \n",
       "1989-09-01 00:00:00  0.000000  0.009842  3.654126      0.328029       NaN  \n",
       "1989-09-01 01:00:00  0.000000  0.021085  4.217486      0.000000       NaN  \n",
       "1989-09-01 02:00:00  0.021070  0.032336  4.998886      0.000000       NaN  \n",
       "1989-09-01 03:00:00  0.040766  0.040766  6.196086      0.000000       NaN  \n",
       "1989-09-01 04:00:00  0.029519  0.029519  6.960796      0.000000       NaN  \n",
       "...                       ...       ...       ...           ...       ...  \n",
       "2022-09-30 19:00:00  0.003714  0.003714  1.346846      0.000000       NaN  \n",
       "2022-09-30 20:00:00  0.001237  0.001237  1.188496      0.000000       NaN  \n",
       "2022-09-30 21:00:00  0.000000  0.000000  0.942856      0.000000       NaN  \n",
       "2022-09-30 22:00:00  0.001237  0.001237  0.680256      0.000000       NaN  \n",
       "2022-09-30 23:00:00  0.001237  0.001237  0.676226      0.000000       NaN  \n",
       "\n",
       "[289992 rows x 12 columns]"
      ]
     },
     "execution_count": 4,
     "metadata": {},
     "output_type": "execute_result"
    }
   ],
   "source": [
    "testfile"
   ]
  },
  {
   "cell_type": "code",
   "execution_count": 5,
   "id": "c034b9e3-1d69-4312-92c0-b9d262877bb2",
   "metadata": {},
   "outputs": [],
   "source": [
    "AET_monthly = testfile.resample('M').sum()\n",
    "AET_monthly_mean = AET_monthly.groupby(by=AET_monthly.index.month).mean()\n",
    "AET_yearly_mean = AET_monthly_mean.sum()\n"
   ]
  },
  {
   "cell_type": "code",
   "execution_count": 6,
   "id": "f9f35101-b5dd-4e3c-95b5-0f24f768e5f7",
   "metadata": {},
   "outputs": [
    {
     "data": {
      "text/plain": [
       "Q                  979.667714\n",
       "Qs                 781.272144\n",
       "Qss                198.395570\n",
       "Vw                   0.000000\n",
       "snow            975942.667871\n",
       "snowacc            383.239793\n",
       "PET              10140.385570\n",
       "AET               1589.065588\n",
       "Pr                2567.937745\n",
       "Ta              -12147.420768\n",
       "glacier_melt         0.796706\n",
       "snowmelt           383.248581\n",
       "dtype: float64"
      ]
     },
     "execution_count": 6,
     "metadata": {},
     "output_type": "execute_result"
    }
   ],
   "source": [
    "AET_yearly_mean"
   ]
  },
  {
   "cell_type": "code",
   "execution_count": 7,
   "id": "dbbca8fc-692c-4808-ad01-6c5c251a298c",
   "metadata": {},
   "outputs": [],
   "source": [
    "\n",
    "df = pd.DataFrame(AET_yearly_mean)\n",
    "df = df.reset_index()\n",
    "df = df.rename(columns={'index': 'name', 0: 'value'})\n",
    "\n",
    "df = df[df['name'] != 'snow']\n",
    "df = df[df['name'] != 'Ta']\n",
    "df = df[df['name'] != 'snowacc']"
   ]
  },
  {
   "cell_type": "code",
   "execution_count": 8,
   "id": "77debbcd-d224-4eff-94a6-298a56aed461",
   "metadata": {},
   "outputs": [
    {
     "data": {
      "text/plain": [
       "Text(0, 0.5, 'mm/year')"
      ]
     },
     "execution_count": 8,
     "metadata": {},
     "output_type": "execute_result"
    },
    {
     "data": {
      "image/png": "[encoded data removed]",
      "text/plain": [
       "<Figure size 432x288 with 1 Axes>"
      ]
     },
     "metadata": {
      "needs_background": "light"
     },
     "output_type": "display_data"
    }
   ],
   "source": [
    "df.plot.bar(x='name', y='value')\n",
    "plt.ylabel('mm/year')\n"
   ]
  },
  {
   "cell_type": "code",
   "execution_count": null,
   "id": "07b4da25-4b20-4db4-9d12-d5d1a8a2c4c5",
   "metadata": {},
   "outputs": [],
   "source": []
  },
  {
   "cell_type": "code",
   "execution_count": null,
   "id": "801096fd-19e5-4db7-b712-f75e4dbc1ba5",
   "metadata": {},
   "outputs": [],
   "source": []
  },
  {
   "cell_type": "code",
   "execution_count": null,
   "id": "b0c5fd1e-0b54-4dd0-b21f-e6913d2b9945",
   "metadata": {},
   "outputs": [],
   "source": []
  }
 ],
 "metadata": {
  "kernelspec": {
   "display_name": "Python [conda env:sedcas] *",
   "language": "python",
   "name": "conda-env-sedcas-py"
  },
  "language_info": {
   "codemirror_mode": {
    "name": "ipython",
    "version": 3
   },
   "file_extension": ".py",
   "mimetype": "text/x-python",
   "name": "python",
   "nbconvert_exporter": "python",
   "pygments_lexer": "ipython3",
   "version": "3.9.7"
  }
 },
 "nbformat": 4,
 "nbformat_minor": 5
}
