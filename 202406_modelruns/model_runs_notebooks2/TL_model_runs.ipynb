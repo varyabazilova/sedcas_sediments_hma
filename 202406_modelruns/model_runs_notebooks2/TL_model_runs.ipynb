{
 "cells": [
  {
   "cell_type": "code",
   "execution_count": null,
   "id": "32a70426-d67b-441c-8742-12620ebdd28e",
   "metadata": {},
   "outputs": [],
   "source": [
    "import os\n",
    "import pandas as pd\n",
    "import matplotlib.pyplot as plt\n",
    "\n",
    "\n",
    "# modelling part\n",
    "from run import run\n",
    "\n"
   ]
  },
  {
   "cell_type": "code",
   "execution_count": null,
   "id": "f3fd2a85-3633-457d-9404-94c29cc4395c",
   "metadata": {},
   "outputs": [],
   "source": [
    "%%time\n",
    "# landcover 1 -Langtang\n",
    "\n",
    "\n",
    "# ----------- LANGTANG ------------\n",
    "\n",
    "climatepath = '/Users/varyabazilova/Desktop/paper2/202406_modelruns/30years/TL_data/1landcover/langtang_climate_cut'\n",
    "\n",
    "# get all folders togetehr \n",
    "\n",
    "ls_ = os.listdir(climatepath)\n",
    "ls = [d for d in ls_ if not d.startswith('.')]\n",
    "dir0 = os.getcwd()\n",
    "# print(dir0)\n",
    "# run the model for each\n",
    "for d in ls:\n",
    "    path = os.path.join(climatepath, d)\n",
    "    if path.endswith('.csv'):\n",
    "        continue\n",
    "    # print(path)\n",
    "    os.chdir(path)\n",
    "    run()\n",
    "    os.chdir(dir0)\n"
   ]
  },
  {
   "cell_type": "code",
   "execution_count": null,
   "id": "bbdbfe88-bcce-4431-8f5b-23e43c6957c1",
   "metadata": {},
   "outputs": [],
   "source": [
    "%%time\n",
    "# ----------- MUSTANG ------------\n",
    "climatepath = '/Users/varyabazilova/Desktop/paper2/202406_modelruns/30years/TL_data/1landcover/mustang_climate_cut'\n",
    "\n",
    "# get all folders togetehr \n",
    "\n",
    "ls_ = os.listdir(climatepath)\n",
    "ls = [d for d in ls_ if not d.startswith('.')]\n",
    "dir0 = os.getcwd()\n",
    "# print(dir0)\n",
    "# run the model for each\n",
    "for d in ls:\n",
    "    path = os.path.join(climatepath, d)\n",
    "    if path.endswith('.csv'):\n",
    "        continue\n",
    "    # print(path)\n",
    "    os.chdir(path)\n",
    "    run()\n",
    "    os.chdir(dir0)"
   ]
  },
  {
   "cell_type": "markdown",
   "id": "f825dc88-404d-42fe-b949-61053ad18d02",
   "metadata": {},
   "source": [
    "# landcover2"
   ]
  },
  {
   "cell_type": "code",
   "execution_count": null,
   "id": "35152b07-12d0-4349-a0c6-55153f3c2224",
   "metadata": {},
   "outputs": [],
   "source": [
    "%%time\n",
    "# landcover 1 -Langtang\n",
    "\n",
    "\n",
    "# ----------- LANGTANG ------------\n",
    "\n",
    "climatepath = '/Users/varyabazilova/Desktop/paper2/202406_modelruns/30years/TL_data/2landcover/langtang_climate_cut'\n",
    "\n",
    "# get all folders togetehr \n",
    "\n",
    "ls_ = os.listdir(climatepath)\n",
    "ls = [d for d in ls_ if not d.startswith('.')]\n",
    "dir0 = os.getcwd()\n",
    "# print(dir0)\n",
    "# run the model for each\n",
    "for d in ls:\n",
    "    path = os.path.join(climatepath, d)\n",
    "    if path.endswith('.csv'):\n",
    "        continue\n",
    "    # print(path)\n",
    "    os.chdir(path)\n",
    "    run()\n",
    "    os.chdir(dir0)"
   ]
  },
  {
   "cell_type": "code",
   "execution_count": null,
   "id": "5b819915-3b2e-46b8-8774-1463fcc82780",
   "metadata": {},
   "outputs": [],
   "source": [
    "%%time\n",
    "# ----------- MUSTANG ------------\n",
    "\n",
    "climatepath = '/Users/varyabazilova/Desktop/paper2/202406_modelruns/30years/TL_data/2landcover/mustang_climate_cut'\n",
    "\n",
    "# get all folders togetehr \n",
    "\n",
    "ls_ = os.listdir(climatepath)\n",
    "ls = [d for d in ls_ if not d.startswith('.')]\n",
    "dir0 = os.getcwd()\n",
    "# print(dir0)\n",
    "# run the model for each\n",
    "for d in ls:\n",
    "    path = os.path.join(climatepath, d)\n",
    "    if path.endswith('.csv'):\n",
    "        continue\n",
    "    # print(path)\n",
    "    os.chdir(path)\n",
    "    run()\n",
    "    os.chdir(dir0)"
   ]
  },
  {
   "cell_type": "code",
   "execution_count": null,
   "id": "36ff3c06-e219-4c05-8aa0-5d70c383c004",
   "metadata": {},
   "outputs": [],
   "source": []
  },
  {
   "cell_type": "markdown",
   "id": "b31f5710-9c89-4b5d-b94e-3b0cc4e7a76e",
   "metadata": {},
   "source": [
    "# landcover3"
   ]
  },
  {
   "cell_type": "code",
   "execution_count": null,
   "id": "113dec0e-7584-4690-94b1-0b7d0269c1d1",
   "metadata": {},
   "outputs": [],
   "source": [
    "%%time\n",
    "\n",
    "landcover_idx = 3\n",
    "# ----------- Langtang ------------\n",
    "\n",
    "climatepath = f'/Users/varyabazilova/Desktop/paper2/202406_modelruns/30years/TL_data/{landcover_idx}landcover/langtang_climate_cut'\n",
    "\n",
    "# get all folders togetehr \n",
    "\n",
    "ls_ = os.listdir(climatepath)\n",
    "ls = [d for d in ls_ if not d.startswith('.')]\n",
    "dir0 = os.getcwd()\n",
    "# print(dir0)\n",
    "# run the model for each\n",
    "for d in ls:\n",
    "    path = os.path.join(climatepath, d)\n",
    "    if path.endswith('.csv'):\n",
    "        continue\n",
    "    # print(path)\n",
    "    os.chdir(path)\n",
    "    run()\n",
    "    os.chdir(dir0)"
   ]
  },
  {
   "cell_type": "code",
   "execution_count": null,
   "id": "6f699717-89a0-434d-8d13-f3f6f79c3671",
   "metadata": {},
   "outputs": [],
   "source": [
    "%%time\n",
    "# ----------- mustang ------------\n",
    "landcover_idx = 3\n",
    "climatepath = f'/Users/varyabazilova/Desktop/paper2/202406_modelruns/30years/TL_data/{landcover_idx}landcover/mustang_climate_cut'\n",
    "\n",
    "# get all folders togetehr \n",
    "\n",
    "ls_ = os.listdir(climatepath)\n",
    "ls = [d for d in ls_ if not d.startswith('.')]\n",
    "dir0 = os.getcwd()\n",
    "# print(dir0)\n",
    "# run the model for each\n",
    "for d in ls:\n",
    "    path = os.path.join(climatepath, d)\n",
    "    if path.endswith('.csv'):\n",
    "        continue\n",
    "    # print(path)\n",
    "    os.chdir(path)\n",
    "    run()\n",
    "    os.chdir(dir0)"
   ]
  },
  {
   "cell_type": "markdown",
   "id": "9da74f5e-91ab-4502-8459-5121170a3313",
   "metadata": {},
   "source": [
    "# landcover4"
   ]
  },
  {
   "cell_type": "code",
   "execution_count": null,
   "id": "36978451-d074-44ba-b524-2b5681e8732d",
   "metadata": {},
   "outputs": [],
   "source": [
    "%%time\n",
    "\n",
    "landcover_idx = 4\n",
    "# ----------- Langtang ------------\n",
    "\n",
    "climatepath = f'/Users/varyabazilova/Desktop/paper2/202406_modelruns/30years/TL_data/{landcover_idx}landcover/langtang_climate_cut'\n",
    "\n",
    "# get all folders togetehr \n",
    "\n",
    "ls_ = os.listdir(climatepath)\n",
    "ls = [d for d in ls_ if not d.startswith('.')]\n",
    "dir0 = os.getcwd()\n",
    "# print(dir0)\n",
    "# run the model for each\n",
    "for d in ls:\n",
    "    path = os.path.join(climatepath, d)\n",
    "    if path.endswith('.csv'):\n",
    "        continue\n",
    "    # print(path)\n",
    "    os.chdir(path)\n",
    "    run()\n",
    "    os.chdir(dir0)"
   ]
  },
  {
   "cell_type": "code",
   "execution_count": null,
   "id": "ef425557-f9c9-4794-946f-24a704c32720",
   "metadata": {},
   "outputs": [],
   "source": [
    "%%time\n",
    "# ----------- mustang ------------\n",
    "landcover_idx = 4\n",
    "climatepath = f'/Users/varyabazilova/Desktop/paper2/202406_modelruns/30years/TL_data/{landcover_idx}landcover/mustang_climate_cut'\n",
    "\n",
    "# get all folders togetehr \n",
    "\n",
    "ls_ = os.listdir(climatepath)\n",
    "ls = [d for d in ls_ if not d.startswith('.')]\n",
    "dir0 = os.getcwd()\n",
    "# print(dir0)\n",
    "# run the model for each\n",
    "for d in ls:\n",
    "    path = os.path.join(climatepath, d)\n",
    "    if path.endswith('.csv'):\n",
    "        continue\n",
    "    # print(path)\n",
    "    os.chdir(path)\n",
    "    run()\n",
    "    os.chdir(dir0)"
   ]
  },
  {
   "cell_type": "code",
   "execution_count": null,
   "id": "1f56ff98-f508-4f2d-8986-d24a723deabc",
   "metadata": {},
   "outputs": [],
   "source": []
  },
  {
   "cell_type": "code",
   "execution_count": null,
   "id": "1247b1a4-2835-400e-ad51-ede9ff8a34b1",
   "metadata": {},
   "outputs": [],
   "source": []
  }
 ],
 "metadata": {
  "kernelspec": {
   "display_name": "Python [conda env:sedcas] *",
   "language": "python",
   "name": "conda-env-sedcas-py"
  },
  "language_info": {
   "codemirror_mode": {
    "name": "ipython",
    "version": 3
   },
   "file_extension": ".py",
   "mimetype": "text/x-python",
   "name": "python",
   "nbconvert_exporter": "python",
   "pygments_lexer": "ipython3",
   "version": "3.9.7"
  }
 },
 "nbformat": 4,
 "nbformat_minor": 5
}
