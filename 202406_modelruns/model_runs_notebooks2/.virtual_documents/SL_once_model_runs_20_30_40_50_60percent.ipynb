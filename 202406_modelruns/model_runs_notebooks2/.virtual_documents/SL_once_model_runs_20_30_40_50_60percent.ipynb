import os
import pandas as pd
import matplotlib.pyplot as plt


# modelling part
from run import run





%%time
# List of landcover indices
landcover_indices = [1, 2, 3]#, 4, 5]

location = 'langtang'
percentile = '20percent'

# Store the original working directory
dir0 = os.getcwd()

# Loop over each landcover index
for landcover_idx in landcover_indices:
    climatepath = f'/Users/varyabazilova/Desktop/paper2/202406_modelruns/30years/SL_data_once/{landcover_idx}landcover_{percentile}/{location}_climate_cut'

    # Get all folders together
    ls_ = os.listdir(climatepath)
    ls = [d for d in ls_ if not d.startswith('.')]
    
    # Run the model for each folder
    for d in ls:
        path = os.path.join(climatepath, d)
        if path.endswith('.csv'):
            continue
        # Change to the folder path and run the model
        os.chdir(path)
        run()
        # Return to the original directory
        os.chdir(dir0)

    print(f"Processed landcover index {landcover_idx}")



%%time
# List of landcover indices
landcover_indices = [1, 2, 3]#, 4, 5]

location = 'langtang'
percentile = '30percent'

# Store the original working directory
dir0 = os.getcwd()

# Loop over each landcover index
for landcover_idx in landcover_indices:
    climatepath = f'/Users/varyabazilova/Desktop/paper2/202406_modelruns/30years/SL_data_once/{landcover_idx}landcover_{percentile}/{location}_climate_cut'

    # Get all folders together
    ls_ = os.listdir(climatepath)
    ls = [d for d in ls_ if not d.startswith('.')]
    
    # Run the model for each folder
    for d in ls:
        path = os.path.join(climatepath, d)
        if path.endswith('.csv'):
            continue
        # Change to the folder path and run the model
        os.chdir(path)
        run()
        # Return to the original directory
        os.chdir(dir0)

    print(f"Processed landcover index {landcover_idx}")



%%time

# List of landcover indices
landcover_indices = [1, 2, 3]#, 4, 5]

location = 'langtang'
percentile = '40percent'

# Store the original working directory
dir0 = os.getcwd()

# Loop over each landcover index
for landcover_idx in landcover_indices:
    climatepath = f'/Users/varyabazilova/Desktop/paper2/202406_modelruns/30years/SL_data_once/{landcover_idx}landcover_{percentile}/{location}_climate_cut'

    # Get all folders together
    ls_ = os.listdir(climatepath)
    ls = [d for d in ls_ if not d.startswith('.')]
    
    # Run the model for each folder
    for d in ls:
        path = os.path.join(climatepath, d)
        if path.endswith('.csv'):
            continue
        # Change to the folder path and run the model
        os.chdir(path)
        run()
        # Return to the original directory
        os.chdir(dir0)

    print(f"Processed landcover index {landcover_idx}")


















%%time
# List of landcover indices
landcover_indices = [1, 2, 3]#, 4, 5]

location = 'langtang'
percentile = '50percent'

# Store the original working directory
dir0 = os.getcwd()

# Loop over each landcover index
for landcover_idx in landcover_indices:
    climatepath = f'/Users/varyabazilova/Desktop/paper2/202406_modelruns/30years/SL_data_once/{landcover_idx}landcover_{percentile}/{location}_climate_cut'

    # Get all folders together
    ls_ = os.listdir(climatepath)
    ls = [d for d in ls_ if not d.startswith('.')]
    
    # Run the model for each folder
    for d in ls:
        path = os.path.join(climatepath, d)
        if path.endswith('.csv'):
            continue
        # Change to the folder path and run the model
        os.chdir(path)
        run()
        # Return to the original directory
        os.chdir(dir0)

    print(f"Processed landcover index {landcover_idx}")












#started 1433 - ETA 1505


%%time
# List of landcover indices
landcover_indices = [1, 2, 3]#, 4, 5]

location = 'langtang'
percentile = '60percent'

# Store the original working directory
dir0 = os.getcwd()

# Loop over each landcover index
for landcover_idx in landcover_indices:
    climatepath = f'/Users/varyabazilova/Desktop/paper2/202406_modelruns/30years/SL_data_once/{landcover_idx}landcover_{percentile}/{location}_climate_cut'

    # Get all folders together
    ls_ = os.listdir(climatepath)
    ls = [d for d in ls_ if not d.startswith('.')]
    
    # Run the model for each folder
    for d in ls:
        path = os.path.join(climatepath, d)
        if path.endswith('.csv'):
            continue
        # Change to the folder path and run the model
        os.chdir(path)
        run()
        # Return to the original directory
        os.chdir(dir0)

    print(f"Processed landcover index {landcover_idx}")
























%%time
# List of landcover indices
# landcover_indices = [1, 2, 3]#, 4, 5]
landcover_indices = [2]#, 4, 5]


location = 'mustang'
percentile = '20percent'

# Store the original working directory
dir0 = os.getcwd()

# Loop over each landcover index
for landcover_idx in landcover_indices:
    climatepath = f'/Users/varyabazilova/Desktop/paper2/202406_modelruns/30years/SL_data_once/{landcover_idx}landcover_{percentile}/{location}_climate_cut'

    # Get all folders together
    ls_ = os.listdir(climatepath)
    ls = [d for d in ls_ if not d.startswith('.')]
    
    # Run the model for each folder
    for d in ls:
        path = os.path.join(climatepath, d)
        if path.endswith('.csv'):
            continue
        # Change to the folder path and run the model
        os.chdir(path)
        run()
        # Return to the original directory
        os.chdir(dir0)

    print(f"Processed landcover index {landcover_idx}")



%%time
# List of landcover indices
# landcover_indices = [1, 2, 3, 4, 5]
landcover_indices = [2]



location = 'mustang'
percentile = '30percent'

# Store the original working directory
dir0 = os.getcwd()

# Loop over each landcover index
for landcover_idx in landcover_indices:
    climatepath = f'/Users/varyabazilova/Desktop/paper2/202406_modelruns/30years/SL_data_once/{landcover_idx}landcover_{percentile}/{location}_climate_cut'

    # Get all folders together
    ls_ = os.listdir(climatepath)
    ls = [d for d in ls_ if not d.startswith('.')]
    
    # Run the model for each folder
    for d in ls:
        path = os.path.join(climatepath, d)
        if path.endswith('.csv'):
            continue
        # Change to the folder path and run the model
        os.chdir(path)
        run()
        # Return to the original directory
        os.chdir(dir0)

    print(f"Processed landcover index {landcover_idx}")
























%%time
# List of landcover indices
# landcover_indices = [1, 2, 3]#, 4, 5]
landcover_indices = [2]

location = 'mustang'
percentile = '40percent'

# Store the original working directory
dir0 = os.getcwd()

# Loop over each landcover index
for landcover_idx in landcover_indices:
    climatepath = f'/Users/varyabazilova/Desktop/paper2/202406_modelruns/30years/SL_data_once/{landcover_idx}landcover_{percentile}/{location}_climate_cut'

    # Get all folders together
    ls_ = os.listdir(climatepath)
    ls = [d for d in ls_ if not d.startswith('.')]
    
    # Run the model for each folder
    for d in ls:
        path = os.path.join(climatepath, d)
        if path.endswith('.csv'):
            continue
        # Change to the folder path and run the model
        os.chdir(path)
        run()
        # Return to the original directory
        os.chdir(dir0)

    print(f"Processed landcover index {landcover_idx}")



%%time
# List of landcover indices
# landcover_indices = [1, 2, 3]#, 4, 5]
landcover_indices = [2]

location = 'mustang'
percentile = '50percent'

# Store the original working directory
dir0 = os.getcwd()

# Loop over each landcover index
for landcover_idx in landcover_indices:
    climatepath = f'/Users/varyabazilova/Desktop/paper2/202406_modelruns/30years/SL_data_once/{landcover_idx}landcover_{percentile}/{location}_climate_cut'

    # Get all folders together
    ls_ = os.listdir(climatepath)
    ls = [d for d in ls_ if not d.startswith('.')]
    
    # Run the model for each folder
    for d in ls:
        path = os.path.join(climatepath, d)
        if path.endswith('.csv'):
            continue
        # Change to the folder path and run the model
        os.chdir(path)
        run()
        # Return to the original directory
        os.chdir(dir0)

    print(f"Processed landcover index {landcover_idx}")












%%time
# List of landcover indices
# landcover_indices = [1, 2, 3]#, 4, 5]
landcover_indices = [2]

location = 'mustang'
percentile = '60percent'

# Store the original working directory
dir0 = os.getcwd()

# Loop over each landcover index
for landcover_idx in landcover_indices:
    climatepath = f'/Users/varyabazilova/Desktop/paper2/202406_modelruns/30years/SL_data_once/{landcover_idx}landcover_{percentile}/{location}_climate_cut'

    # Get all folders together
    ls_ = os.listdir(climatepath)
    ls = [d for d in ls_ if not d.startswith('.')]
    
    # Run the model for each folder
    for d in ls:
        path = os.path.join(climatepath, d)
        if path.endswith('.csv'):
            continue
        # Change to the folder path and run the model
        os.chdir(path)
        run()
        # Return to the original directory
        os.chdir(dir0)

    print(f"Processed landcover index {landcover_idx}")

























import matplotlib.pyplot as plt

def plot_water_balance(Pr, Q, AET, PET, title):
    
    plt.figure()
    
    prm = Pr.resample('m').sum()
    prm_mean = prm.groupby(by=prm.index.month).mean()
    pry_mean = prm_mean.sum()
    
    Qm = Q.resample('m').sum()
    Qm_mean = Qm.groupby(by=Qm.index.month).mean()
    Qy_mean = Qm_mean.sum()
    
    AETm = AET.resample('m').sum()
    AETm_mean = AETm.groupby(by=AETm.index.month).mean()
    AETy_mean = AETm_mean.sum()

    PETm = PET.resample('m').sum()
    PETm_mean = PETm.groupby(by=PETm.index.month).mean()
    PETy_mean = PETm_mean.sum()
    
    plt.plot(prm_mean, label='precip (%i mm/y)'%pry_mean)
    plt.plot(Qm_mean, label='Q (%i mm/y)'%Qy_mean)
    plt.plot(AETm_mean, label='AET (%i mm/y)'%AETy_mean)
    plt.plot(PETm_mean, label='PET (%i mm/y)'%PETy_mean)
    
    plt.legend()
    plt.title(title)
    
for i,hru in enumerate(model.HRUs):
    Pr = model.HRU_hydro[i].Pr
    Q = model.HRU_hydro[i].Q
    AET = model.HRU_hydro[i].AET
    PET = model.HRU_hydro[i].PET

    plot_water_balance(Pr, Q, AET, PET, hru)

# catchment scale
Pr = model.hydro.Pr
Q = model.hydro.Q
AET = model.hydro.AET
PET = model.hydro.PET
plot_water_balance(Pr, Q, AET, PET, 'catchment')

GMm = model.hydro.glacier_melt.resample('m').sum()
GMm_mean = GMm.groupby(by=GMm.index.month).mean()
GMy_mean = GMm_mean.sum()
plt.plot(GMm_mean, label='GM (%i mm/y)'%GMy_mean)
plt.legend()
    
#%% plot glacier hru time series

plt.figure()
plt.plot(model.HRU_hydro[2].Pr, label='Pr')
plt.plot(model.HRU_hydro[2].Q, label='Q')
plt.plot(model.HRU_hydro[2].snow, label='snow')
plt.plot(model.HRU_hydro[2].glacier_melt, label='GM')
plt.legend()





















