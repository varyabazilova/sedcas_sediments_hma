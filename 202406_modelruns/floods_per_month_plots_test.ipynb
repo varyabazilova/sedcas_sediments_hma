{
 "cells": [
  {
   "cell_type": "code",
   "execution_count": 63,
   "id": "a33e0b62-effd-42a4-ae8b-5d2efe46056f",
   "metadata": {},
   "outputs": [],
   "source": [
    "import pandas as pd\n",
    "import matplotlib.pyplot as plt\n",
    "import seaborn as sns\n",
    "import functions\n",
    "\n"
   ]
  },
  {
   "cell_type": "code",
   "execution_count": 227,
   "id": "1000ef23-c475-4967-92b6-1c980470c55e",
   "metadata": {},
   "outputs": [],
   "source": [
    "\n",
    "def prepare_dfcount_for_plot(dfcount):\n",
    "    melted = pd.melt(dfcount, id_vars=['date_id', 'year', 'month'], var_name='elevation', value_name='dfs_count')\n",
    "    # melted = pd.melt(dfcount, id_vars=['date_id'], var_name='elevation', value_name='dfs_count')\n",
    "    melted['elevation'] = melted['elevation'].str.split('.').str[0].astype(float)\n",
    "    melted['elevation_bin'] = melted.apply(functions.bin_elevation500, axis=1)\n",
    "    # create unique id for elevation and month for merging\n",
    "    melted['elevation'] = melted['elevation'].astype(int)\n",
    "    melted['id'] = melted.index.astype(str)+ \"_\" + melted['elevation'].astype(str) + \"_\" + melted['year'].astype(str)+ \"_\" + melted['month'].astype(str)\n",
    "    \n",
    "    # melted = melted.sort_values('elevation_bin')\n",
    "    # melted = melted.dropna(subset=['dfs_count'])\n",
    "    return melted \n",
    "\n",
    "\n",
    "\n",
    "def calculate_floods(df, method):\n",
    "    # df percent \n",
    "    df[f'dfs_count_{method}40_percent'] = (df[f'dfs_count_{method}40'] *100) / df.dfspot_count\n",
    "    df[f'dfs_count_{method}30_percent'] = (df[f'dfs_count_{method}30'] *100) / df.dfspot_count\n",
    "    df[f'dfs_count_{method}20_percent'] = (df[f'dfs_count_{method}20'] *100) / df.dfspot_count\n",
    "    # ff count \n",
    "    df[f'ffs_count_{method}40'] = df.dfspot_count - df[f'dfs_count_{method}40']\n",
    "    df[f'ffs_count_{method}30'] = df.dfspot_count - df[f'dfs_count_{method}30']\n",
    "    df[f'ffs_count_{method}20'] = df.dfspot_count - df[f'dfs_count_{method}20']\n",
    "    # ff percent\n",
    "    df[f'ffs_count_{method}40_percent'] = (df[f'ffs_count_{method}40'] *100) / df.dfspot_count\n",
    "    df[f'ffs_count_{method}30_percent'] = (df[f'ffs_count_{method}30'] *100) / df.dfspot_count\n",
    "    df[f'ffs_count_{method}20_percent'] = (df[f'ffs_count_{method}20'] *100) / df.dfspot_count\n",
    "    return df"
   ]
  },
  {
   "cell_type": "code",
   "execution_count": 228,
   "id": "ef4c9611-2a4d-4822-afee-2c4d066905c8",
   "metadata": {},
   "outputs": [],
   "source": [
    "freq = 'monthly'\n",
    "column = 'dfspot'\n",
    "location = 'langtang'\n",
    "\n",
    "\n",
    "flood_folder =  f'/Users/varyabazilova/Desktop/paper2/202406_modelruns/30years/dfspot_count/{location}2/'\n",
    "\n",
    "dfspot1 = pd.read_csv(flood_folder + f'{location}_{freq}_{column}_count_landcover1.csv', index_col = 0).fillna(0)\n",
    "dfspot2 = pd.read_csv(flood_folder + f'{location}_{freq}_{column}_count_landcover2.csv', index_col = 0).fillna(0)\n",
    "dfspot3 = pd.read_csv(flood_folder + f'{location}_{freq}_{column}_count_landcover3.csv', index_col = 0).fillna(0)\n",
    "dfspot4 = pd.read_csv(flood_folder + f'{location}_{freq}_{column}_count_landcover4.csv', index_col = 0).fillna(0)\n",
    "\n",
    "dfspot1_melted = prepare_dfcount_for_plot(dfspot1)\n",
    "dfspot2_melted = prepare_dfcount_for_plot(dfspot2)\n",
    "dfspot3_melted = prepare_dfcount_for_plot(dfspot3)\n",
    "dfspot4_melted = prepare_dfcount_for_plot(dfspot4)\n"
   ]
  },
  {
   "cell_type": "code",
   "execution_count": 229,
   "id": "bb3d5ce0-b8cc-4b84-aa21-756cbff4bfef",
   "metadata": {},
   "outputs": [
    {
     "data": {
      "text/html": [
       "<div>\n",
       "<style scoped>\n",
       "    .dataframe tbody tr th:only-of-type {\n",
       "        vertical-align: middle;\n",
       "    }\n",
       "\n",
       "    .dataframe tbody tr th {\n",
       "        vertical-align: top;\n",
       "    }\n",
       "\n",
       "    .dataframe thead th {\n",
       "        text-align: right;\n",
       "    }\n",
       "</style>\n",
       "<table border=\"1\" class=\"dataframe\">\n",
       "  <thead>\n",
       "    <tr style=\"text-align: right;\">\n",
       "      <th></th>\n",
       "      <th>date_id</th>\n",
       "      <th>year</th>\n",
       "      <th>month</th>\n",
       "      <th>elevation</th>\n",
       "      <th>dfs_count</th>\n",
       "      <th>elevation_bin</th>\n",
       "      <th>id</th>\n",
       "    </tr>\n",
       "  </thead>\n",
       "  <tbody>\n",
       "    <tr>\n",
       "      <th>0</th>\n",
       "      <td>1989_9</td>\n",
       "      <td>1989</td>\n",
       "      <td>9</td>\n",
       "      <td>4485</td>\n",
       "      <td>1</td>\n",
       "      <td>4000 - 4500</td>\n",
       "      <td>0_4485_1989_9</td>\n",
       "    </tr>\n",
       "    <tr>\n",
       "      <th>1</th>\n",
       "      <td>1989_10</td>\n",
       "      <td>1989</td>\n",
       "      <td>10</td>\n",
       "      <td>4485</td>\n",
       "      <td>0</td>\n",
       "      <td>4000 - 4500</td>\n",
       "      <td>1_4485_1989_10</td>\n",
       "    </tr>\n",
       "    <tr>\n",
       "      <th>2</th>\n",
       "      <td>1989_11</td>\n",
       "      <td>1989</td>\n",
       "      <td>11</td>\n",
       "      <td>4485</td>\n",
       "      <td>0</td>\n",
       "      <td>4000 - 4500</td>\n",
       "      <td>2_4485_1989_11</td>\n",
       "    </tr>\n",
       "    <tr>\n",
       "      <th>3</th>\n",
       "      <td>1989_12</td>\n",
       "      <td>1989</td>\n",
       "      <td>12</td>\n",
       "      <td>4485</td>\n",
       "      <td>0</td>\n",
       "      <td>4000 - 4500</td>\n",
       "      <td>3_4485_1989_12</td>\n",
       "    </tr>\n",
       "    <tr>\n",
       "      <th>4</th>\n",
       "      <td>1990_1</td>\n",
       "      <td>1990</td>\n",
       "      <td>1</td>\n",
       "      <td>4485</td>\n",
       "      <td>0</td>\n",
       "      <td>4000 - 4500</td>\n",
       "      <td>4_4485_1990_1</td>\n",
       "    </tr>\n",
       "    <tr>\n",
       "      <th>...</th>\n",
       "      <td>...</td>\n",
       "      <td>...</td>\n",
       "      <td>...</td>\n",
       "      <td>...</td>\n",
       "      <td>...</td>\n",
       "      <td>...</td>\n",
       "      <td>...</td>\n",
       "    </tr>\n",
       "    <tr>\n",
       "      <th>20639</th>\n",
       "      <td>2022_5</td>\n",
       "      <td>2022</td>\n",
       "      <td>5</td>\n",
       "      <td>5936</td>\n",
       "      <td>0</td>\n",
       "      <td>5500 - 6000</td>\n",
       "      <td>20639_5936_2022_5</td>\n",
       "    </tr>\n",
       "    <tr>\n",
       "      <th>20640</th>\n",
       "      <td>2022_6</td>\n",
       "      <td>2022</td>\n",
       "      <td>6</td>\n",
       "      <td>5936</td>\n",
       "      <td>0</td>\n",
       "      <td>5500 - 6000</td>\n",
       "      <td>20640_5936_2022_6</td>\n",
       "    </tr>\n",
       "    <tr>\n",
       "      <th>20641</th>\n",
       "      <td>2022_7</td>\n",
       "      <td>2022</td>\n",
       "      <td>7</td>\n",
       "      <td>5936</td>\n",
       "      <td>0</td>\n",
       "      <td>5500 - 6000</td>\n",
       "      <td>20641_5936_2022_7</td>\n",
       "    </tr>\n",
       "    <tr>\n",
       "      <th>20642</th>\n",
       "      <td>2022_8</td>\n",
       "      <td>2022</td>\n",
       "      <td>8</td>\n",
       "      <td>5936</td>\n",
       "      <td>0</td>\n",
       "      <td>5500 - 6000</td>\n",
       "      <td>20642_5936_2022_8</td>\n",
       "    </tr>\n",
       "    <tr>\n",
       "      <th>20643</th>\n",
       "      <td>2022_9</td>\n",
       "      <td>2022</td>\n",
       "      <td>9</td>\n",
       "      <td>5936</td>\n",
       "      <td>0</td>\n",
       "      <td>5500 - 6000</td>\n",
       "      <td>20643_5936_2022_9</td>\n",
       "    </tr>\n",
       "  </tbody>\n",
       "</table>\n",
       "<p>20644 rows × 7 columns</p>\n",
       "</div>"
      ],
      "text/plain": [
       "       date_id  year  month  elevation  dfs_count elevation_bin  \\\n",
       "0       1989_9  1989      9       4485          1   4000 - 4500   \n",
       "1      1989_10  1989     10       4485          0   4000 - 4500   \n",
       "2      1989_11  1989     11       4485          0   4000 - 4500   \n",
       "3      1989_12  1989     12       4485          0   4000 - 4500   \n",
       "4       1990_1  1990      1       4485          0   4000 - 4500   \n",
       "...        ...   ...    ...        ...        ...           ...   \n",
       "20639   2022_5  2022      5       5936          0   5500 - 6000   \n",
       "20640   2022_6  2022      6       5936          0   5500 - 6000   \n",
       "20641   2022_7  2022      7       5936          0   5500 - 6000   \n",
       "20642   2022_8  2022      8       5936          0   5500 - 6000   \n",
       "20643   2022_9  2022      9       5936          0   5500 - 6000   \n",
       "\n",
       "                      id  \n",
       "0          0_4485_1989_9  \n",
       "1         1_4485_1989_10  \n",
       "2         2_4485_1989_11  \n",
       "3         3_4485_1989_12  \n",
       "4          4_4485_1990_1  \n",
       "...                  ...  \n",
       "20639  20639_5936_2022_5  \n",
       "20640  20640_5936_2022_6  \n",
       "20641  20641_5936_2022_7  \n",
       "20642  20642_5936_2022_8  \n",
       "20643  20643_5936_2022_9  \n",
       "\n",
       "[20644 rows x 7 columns]"
      ]
     },
     "execution_count": 229,
     "metadata": {},
     "output_type": "execute_result"
    }
   ],
   "source": [
    "dfspot1_melted # 20644 -> (397rows * 52 columns)\n",
    "\n",
    "# 74636"
   ]
  },
  {
   "cell_type": "code",
   "execution_count": 230,
   "id": "ef7143f9-8192-4bcf-b2d4-c5a3de70b588",
   "metadata": {},
   "outputs": [
    {
     "data": {
      "text/plain": [
       "(52,)"
      ]
     },
     "execution_count": 230,
     "metadata": {},
     "output_type": "execute_result"
    }
   ],
   "source": [
    "dfspot1_melted.elevation.unique().shape"
   ]
  },
  {
   "cell_type": "code",
   "execution_count": null,
   "id": "96bb28c8-8909-4e97-9a69-827916ce5f9d",
   "metadata": {},
   "outputs": [],
   "source": []
  },
  {
   "cell_type": "markdown",
   "id": "e415c1cf-0002-4885-848f-2db8f34d01d7",
   "metadata": {},
   "source": [
    "# daily input "
   ]
  },
  {
   "cell_type": "code",
   "execution_count": null,
   "id": "1be9c924-9fa1-4d34-a760-4f9add5935e4",
   "metadata": {},
   "outputs": [],
   "source": []
  },
  {
   "cell_type": "code",
   "execution_count": null,
   "id": "8fcd3217-bedf-4641-ad84-9cd55d95db2f",
   "metadata": {},
   "outputs": [],
   "source": []
  },
  {
   "cell_type": "code",
   "execution_count": 206,
   "id": "13ec111b-3ad1-4ee2-ad1a-3a099217b01c",
   "metadata": {},
   "outputs": [],
   "source": [
    "daily20_lc1 = pd.read_csv(f'/Users/varyabazilova/Desktop/paper2/202406_modelruns/30years/SL_daily/output_20percent/{location}_{freq}_dfs_count_20percent_landcover1.csv', index_col = 0).fillna(0)\n",
    "daily20_lc2 = pd.read_csv(f'/Users/varyabazilova/Desktop/paper2/202406_modelruns/30years/SL_daily/output_20percent/{location}_{freq}_dfs_count_20percent_landcover2.csv', index_col = 0).fillna(0)\n",
    "daily20_lc3 = pd.read_csv(f'/Users/varyabazilova/Desktop/paper2/202406_modelruns/30years/SL_daily/output_20percent/{location}_{freq}_dfs_count_20percent_landcover3.csv', index_col = 0).fillna(0)\n",
    "daily20_lc4 = pd.read_csv(f'/Users/varyabazilova/Desktop/paper2/202406_modelruns/30years/SL_daily/output_20percent/{location}_{freq}_dfs_count_20percent_landcover4.csv', index_col = 0).fillna(0)\n",
    "\n",
    "daily30_lc1 = pd.read_csv(f'/Users/varyabazilova/Desktop/paper2/202406_modelruns/30years/SL_daily/output_30percent/{location}_{freq}_dfs_count_30percent_landcover1.csv', index_col = 0).fillna(0)\n",
    "daily30_lc2 = pd.read_csv(f'/Users/varyabazilova/Desktop/paper2/202406_modelruns/30years/SL_daily/output_30percent/{location}_{freq}_dfs_count_30percent_landcover2.csv', index_col = 0).fillna(0)\n",
    "daily30_lc3 = pd.read_csv(f'/Users/varyabazilova/Desktop/paper2/202406_modelruns/30years/SL_daily/output_30percent/{location}_{freq}_dfs_count_30percent_landcover3.csv', index_col = 0).fillna(0)\n",
    "daily30_lc4 = pd.read_csv(f'/Users/varyabazilova/Desktop/paper2/202406_modelruns/30years/SL_daily/output_30percent/{location}_{freq}_dfs_count_30percent_landcover4.csv', index_col = 0).fillna(0)\n",
    "\n",
    "daily40_lc1 = pd.read_csv(f'/Users/varyabazilova/Desktop/paper2/202406_modelruns/30years/SL_daily/output_40percent/{location}_{freq}_dfs_count_40percent_landcover1.csv', index_col = 0).fillna(0)\n",
    "daily40_lc2 = pd.read_csv(f'/Users/varyabazilova/Desktop/paper2/202406_modelruns/30years/SL_daily/output_40percent/{location}_{freq}_dfs_count_40percent_landcover2.csv', index_col = 0).fillna(0)\n",
    "daily40_lc3 = pd.read_csv(f'/Users/varyabazilova/Desktop/paper2/202406_modelruns/30years/SL_daily/output_40percent/{location}_{freq}_dfs_count_40percent_landcover3.csv', index_col = 0).fillna(0)\n",
    "daily40_lc4 = pd.read_csv(f'/Users/varyabazilova/Desktop/paper2/202406_modelruns/30years/SL_daily/output_40percent/{location}_{freq}_dfs_count_40percent_landcover4.csv', index_col = 0).fillna(0)\n",
    "\n",
    "\n",
    "daily20_lc1_melted = prepare_dfcount_for_plot(daily20_lc1).rename(columns={'dfs_count': 'dfs_count_daily20'})\n",
    "daily20_lc2_melted = prepare_dfcount_for_plot(daily20_lc2).rename(columns={'dfs_count': 'dfs_count_daily20'})\n",
    "daily20_lc3_melted = prepare_dfcount_for_plot(daily20_lc3).rename(columns={'dfs_count': 'dfs_count_daily20'})\n",
    "daily20_lc4_melted = prepare_dfcount_for_plot(daily20_lc4).rename(columns={'dfs_count': 'dfs_count_daily20'})\n",
    "\n",
    "daily30_lc1_melted = prepare_dfcount_for_plot(daily30_lc1).rename(columns={'dfs_count': 'dfs_count_daily30'})\n",
    "daily30_lc2_melted = prepare_dfcount_for_plot(daily30_lc2).rename(columns={'dfs_count': 'dfs_count_daily30'})\n",
    "daily30_lc3_melted = prepare_dfcount_for_plot(daily30_lc3).rename(columns={'dfs_count': 'dfs_count_daily30'})\n",
    "daily30_lc4_melted = prepare_dfcount_for_plot(daily30_lc4).rename(columns={'dfs_count': 'dfs_count_daily30'})\n",
    "\n",
    "daily40_lc1_melted = prepare_dfcount_for_plot(daily40_lc1).rename(columns={'dfs_count': 'dfs_count_daily40'})\n",
    "daily40_lc2_melted = prepare_dfcount_for_plot(daily40_lc2).rename(columns={'dfs_count': 'dfs_count_daily40'})\n",
    "daily40_lc3_melted = prepare_dfcount_for_plot(daily40_lc3).rename(columns={'dfs_count': 'dfs_count_daily40'})\n",
    "daily40_lc4_melted = prepare_dfcount_for_plot(daily40_lc4).rename(columns={'dfs_count': 'dfs_count_daily40'})\n"
   ]
  },
  {
   "cell_type": "code",
   "execution_count": null,
   "id": "f35921c5-357b-4090-9e22-dbddd07b51f8",
   "metadata": {},
   "outputs": [],
   "source": []
  },
  {
   "cell_type": "code",
   "execution_count": null,
   "id": "98cf2b17-8dd0-41b4-ad7a-8d9e3af25781",
   "metadata": {},
   "outputs": [],
   "source": []
  },
  {
   "cell_type": "code",
   "execution_count": null,
   "id": "d0551139-985c-405a-a3f4-7a0c6caa1dba",
   "metadata": {},
   "outputs": [],
   "source": []
  },
  {
   "cell_type": "code",
   "execution_count": null,
   "id": "12fce655-13eb-42c5-9afe-9f20d00a00b1",
   "metadata": {},
   "outputs": [],
   "source": []
  },
  {
   "cell_type": "code",
   "execution_count": null,
   "id": "40775ba2-b599-49b8-b886-bb21fe4e8e28",
   "metadata": {},
   "outputs": [],
   "source": []
  },
  {
   "cell_type": "code",
   "execution_count": null,
   "id": "8b898ef0-331d-4dfd-9f53-ad2c2dc7c79f",
   "metadata": {},
   "outputs": [],
   "source": []
  },
  {
   "cell_type": "code",
   "execution_count": 210,
   "id": "ae33f765-ab40-4fa1-abee-6c06ddaf78bf",
   "metadata": {},
   "outputs": [],
   "source": [
    "# make 4 dfs depending ont he scenatio \n",
    "merge_on = ['year', 'month', 'elevation', 'elevation_bin', 'id']\n",
    "\n",
    "# ------- landcover1\n",
    "dfs = [daily20_lc1_melted, daily30_lc1_melted, daily40_lc1_melted]\n",
    "\n",
    "lc1_daily = dfs[0][merge_on + ['dfs_count_daily20']]\n",
    "# Iterate over the remaining dataframes (daily30, daily40) and merge them\n",
    "for i, (df, label) in enumerate(zip(dfs[1:], [30, 40]), start=2):\n",
    "    unique_col = f'dfs_count_daily{label}'  # Adjust unique column name\n",
    "    lc1_daily = pd.merge(lc1_daily, df[merge_on + [unique_col]], on=merge_on)\n",
    "\n",
    "# add dfspot    \n",
    "lc1_daily['dfspot_count'] = dfspot1_melted.dfs_count\n",
    "\n",
    "# ------- landcover2\n",
    "dfs = [daily20_lc2_melted, daily30_lc2_melted, daily40_lc2_melted]\n",
    "\n",
    "lc2_daily = dfs[0][merge_on + ['dfs_count_daily20']]\n",
    "# Iterate over the remaining dataframes (daily30, daily40) and merge them\n",
    "for i, (df, label) in enumerate(zip(dfs[1:], [30, 40]), start=2):\n",
    "    unique_col = f'dfs_count_daily{label}'  # Adjust unique column name\n",
    "    lc2_daily = pd.merge(lc2_daily, df[merge_on + [unique_col]], on=merge_on)\n",
    "\n",
    "lc2_daily['dfspot_count'] = dfspot2_melted.dfs_count\n",
    "\n",
    "# ------- landcover3\n",
    "dfs = [daily20_lc3_melted, daily30_lc3_melted, daily40_lc3_melted]\n",
    "\n",
    "lc3_daily = dfs[0][merge_on + ['dfs_count_daily20']]\n",
    "# Iterate over the remaining dataframes (daily30, daily40) and merge them\n",
    "for i, (df, label) in enumerate(zip(dfs[1:], [30, 40]), start=2):\n",
    "    unique_col = f'dfs_count_daily{label}'  # Adjust unique column name\n",
    "    lc3_daily = pd.merge(lc3_daily, df[merge_on + [unique_col]], on=merge_on)\n",
    "\n",
    "lc3_daily['dfspot_count'] = dfspot3_melted.dfs_count\n",
    "\n",
    "# ------- landcover4\n",
    "dfs = [daily20_lc4_melted, daily30_lc4_melted, daily40_lc4_melted]\n",
    "\n",
    "lc4_daily = dfs[0][merge_on + ['dfs_count_daily20']]\n",
    "# Iterate over the remaining dataframes (daily30, daily40) and merge them\n",
    "for i, (df, label) in enumerate(zip(dfs[1:], [30, 40]), start=2):\n",
    "    unique_col = f'dfs_count_daily{label}'  # Adjust unique column name\n",
    "    lc4_daily = pd.merge(lc4_daily, df[merge_on + [unique_col]], on=merge_on)\n",
    "\n",
    "lc4_daily['dfspot_count'] = dfspot4_melted.dfs_count\n"
   ]
  },
  {
   "cell_type": "code",
   "execution_count": 231,
   "id": "90d0f4d1-5e35-4c48-997c-1c65469e746f",
   "metadata": {},
   "outputs": [],
   "source": [
    "lc1_daily = calculate_floods(lc1_daily, 'daily')#.fillna(0)\n",
    "lc2_daily = calculate_floods(lc2_daily, 'daily')#.fillna(0)\n",
    "lc3_daily = calculate_floods(lc3_daily, 'daily')#.fillna(0)\n",
    "lc4_daily = calculate_floods(lc4_daily, 'daily')#.fillna(0)\n"
   ]
  },
  {
   "cell_type": "code",
   "execution_count": null,
   "id": "b0da6d89-e8d9-41c7-afec-f251a68a8f20",
   "metadata": {},
   "outputs": [],
   "source": []
  },
  {
   "cell_type": "code",
   "execution_count": 232,
   "id": "9746c863-e97d-40d7-b243-4e4503fef697",
   "metadata": {},
   "outputs": [
    {
     "data": {
      "text/plain": [
       "<matplotlib.legend.Legend at 0x7fd3f0114d60>"
      ]
     },
     "execution_count": 232,
     "metadata": {},
     "output_type": "execute_result"
    },
    {
     "data": {
      "image/png": "[encoded data removed]",
      "text/plain": [
       "<Figure size 1080x504 with 1 Axes>"
      ]
     },
     "metadata": {
      "needs_background": "light"
     },
     "output_type": "display_data"
    }
   ],
   "source": [
    "# lc2_daily.dfspot_count.plot(figsize = (15, 7))\n",
    "\n",
    "lc1_daily.dfs_count_daily40.plot(figsize = (15, 7))\n",
    "lc2_daily.dfs_count_daily40.plot(figsize = (15, 7))\n",
    "lc2_daily.ffs_count_daily40.plot(figsize = (15, 7))\n",
    "lc4_daily.dfs_count_daily40.plot(figsize = (15, 7))\n",
    "\n",
    "plt.legend()"
   ]
  },
  {
   "cell_type": "code",
   "execution_count": 233,
   "id": "cca21d93-7c96-429c-b175-986bfe261941",
   "metadata": {},
   "outputs": [
    {
     "data": {
      "text/plain": [
       "<matplotlib.legend.Legend at 0x7fd47eb383d0>"
      ]
     },
     "execution_count": 233,
     "metadata": {},
     "output_type": "execute_result"
    },
    {
     "data": {
      "image/png": "[encoded data removed]",
      "text/plain": [
       "<Figure size 1080x504 with 1 Axes>"
      ]
     },
     "metadata": {
      "needs_background": "light"
     },
     "output_type": "display_data"
    }
   ],
   "source": [
    "lc1_daily.ffs_count_daily30.plot(figsize = (15, 7))\n",
    "lc2_daily.ffs_count_daily30.plot(figsize = (15, 7))\n",
    "lc4_daily.ffs_count_daily30.plot(figsize = (15, 7))\n",
    "\n",
    "plt.legend()"
   ]
  },
  {
   "cell_type": "code",
   "execution_count": null,
   "id": "ec4d6e5c-b31c-4b43-aeab-ddcac2d53579",
   "metadata": {},
   "outputs": [],
   "source": []
  },
  {
   "cell_type": "code",
   "execution_count": null,
   "id": "d50a46de-de42-4595-b575-3c5c94d743f5",
   "metadata": {},
   "outputs": [],
   "source": []
  },
  {
   "cell_type": "code",
   "execution_count": null,
   "id": "880bc655-f2d1-41b2-aa01-862b558e81e2",
   "metadata": {},
   "outputs": [],
   "source": []
  },
  {
   "cell_type": "markdown",
   "id": "58a86822-4554-44f0-b5c2-4c3caf861b01",
   "metadata": {},
   "source": [
    "# once per year input"
   ]
  },
  {
   "cell_type": "code",
   "execution_count": 234,
   "id": "75b17a05-5c1a-43eb-97c3-985409b0f5b1",
   "metadata": {},
   "outputs": [],
   "source": [
    "\n",
    "once20_lc1 = pd.read_csv(f'/Users/varyabazilova/Desktop/paper2/202406_modelruns/30years/SL_once/output_20percent/{location}_{freq}_dfs_count_20percent_landcover1.csv', index_col = 0).fillna(0)#[:372]\n",
    "once20_lc2 = pd.read_csv(f'/Users/varyabazilova/Desktop/paper2/202406_modelruns/30years/SL_once/output_20percent/{location}_{freq}_dfs_count_20percent_landcover2.csv', index_col = 0).fillna(0)#[:372]\n",
    "once20_lc3 = pd.read_csv(f'/Users/varyabazilova/Desktop/paper2/202406_modelruns/30years/SL_once/output_20percent/{location}_{freq}_dfs_count_20percent_landcover3.csv', index_col = 0).fillna(0)[:-1]#[:372]\n",
    "once20_lc4 = pd.read_csv(f'/Users/varyabazilova/Desktop/paper2/202406_modelruns/30years/SL_once/output_20percent/{location}_{freq}_dfs_count_20percent_landcover4.csv', index_col = 0).fillna(0)#[:372]\n",
    "\n",
    "once30_lc1 = pd.read_csv(f'/Users/varyabazilova/Desktop/paper2/202406_modelruns/30years/SL_once/output_30percent/{location}_{freq}_dfs_count_30percent_landcover1.csv', index_col = 0).fillna(0)#[:372]\n",
    "once30_lc2 = pd.read_csv(f'/Users/varyabazilova/Desktop/paper2/202406_modelruns/30years/SL_once/output_30percent/{location}_{freq}_dfs_count_30percent_landcover2.csv', index_col = 0).fillna(0)#[:372]\n",
    "once30_lc3 = pd.read_csv(f'/Users/varyabazilova/Desktop/paper2/202406_modelruns/30years/SL_once/output_30percent/{location}_{freq}_dfs_count_30percent_landcover3.csv', index_col = 0).fillna(0)#[:372]\n",
    "once30_lc4 = pd.read_csv(f'/Users/varyabazilova/Desktop/paper2/202406_modelruns/30years/SL_once/output_30percent/{location}_{freq}_dfs_count_30percent_landcover4.csv', index_col = 0).fillna(0)#[:372]\n",
    "\n",
    "once40_lc1 = pd.read_csv(f'/Users/varyabazilova/Desktop/paper2/202406_modelruns/30years/SL_once/output_40percent/{location}_{freq}_dfs_count_40percent_landcover1.csv', index_col = 0).fillna(0)#[:372]\n",
    "once40_lc2 = pd.read_csv(f'/Users/varyabazilova/Desktop/paper2/202406_modelruns/30years/SL_once/output_40percent/{location}_{freq}_dfs_count_40percent_landcover2.csv', index_col = 0).fillna(0)#[:372]\n",
    "once40_lc3 = pd.read_csv(f'/Users/varyabazilova/Desktop/paper2/202406_modelruns/30years/SL_once/output_40percent/{location}_{freq}_dfs_count_40percent_landcover3.csv', index_col = 0).fillna(0)#[:372]\n",
    "once40_lc4 = pd.read_csv(f'/Users/varyabazilova/Desktop/paper2/202406_modelruns/30years/SL_once/output_40percent/{location}_{freq}_dfs_count_40percent_landcover4.csv', index_col = 0).fillna(0)#[:372]\n",
    "\n",
    "\n",
    "once20_lc1_melted = prepare_dfcount_for_plot(once20_lc1).rename(columns={'dfs_count': 'dfs_count_once20'})\n",
    "once20_lc2_melted = prepare_dfcount_for_plot(once20_lc2).rename(columns={'dfs_count': 'dfs_count_once20'})\n",
    "once20_lc3_melted = prepare_dfcount_for_plot(once20_lc3).rename(columns={'dfs_count': 'dfs_count_once20'})\n",
    "once20_lc4_melted = prepare_dfcount_for_plot(once20_lc4).rename(columns={'dfs_count': 'dfs_count_once20'})\n",
    "\n",
    "once30_lc1_melted = prepare_dfcount_for_plot(once30_lc1).rename(columns={'dfs_count': 'dfs_count_once30'})\n",
    "once30_lc2_melted = prepare_dfcount_for_plot(once30_lc2).rename(columns={'dfs_count': 'dfs_count_once30'})\n",
    "once30_lc3_melted = prepare_dfcount_for_plot(once30_lc3).rename(columns={'dfs_count': 'dfs_count_once30'})\n",
    "once30_lc4_melted = prepare_dfcount_for_plot(once30_lc4).rename(columns={'dfs_count': 'dfs_count_once30'})\n",
    "\n",
    "once40_lc1_melted = prepare_dfcount_for_plot(once40_lc1).rename(columns={'dfs_count': 'dfs_count_once40'})\n",
    "once40_lc2_melted = prepare_dfcount_for_plot(once40_lc2).rename(columns={'dfs_count': 'dfs_count_once40'})\n",
    "once40_lc3_melted = prepare_dfcount_for_plot(once40_lc3).rename(columns={'dfs_count': 'dfs_count_once40'})\n",
    "once40_lc4_melted = prepare_dfcount_for_plot(once40_lc4).rename(columns={'dfs_count': 'dfs_count_once40'})\n"
   ]
  },
  {
   "cell_type": "code",
   "execution_count": 235,
   "id": "3e0d93b4-76c3-42a0-9b49-812f6a66e011",
   "metadata": {},
   "outputs": [],
   "source": [
    "# make 4 dfs depending ont he scenatio \n",
    "merge_on = ['year', 'month', 'elevation', 'elevation_bin', 'id']\n",
    "\n",
    "# ------- landcover1\n",
    "dfs = [once20_lc1_melted, once30_lc1_melted, once40_lc1_melted]\n",
    "\n",
    "lc1_once = dfs[0][merge_on + ['dfs_count_once20']]\n",
    "# Iterate over the remaining dataframes (daily30, daily40) and merge them\n",
    "for i, (df, label) in enumerate(zip(dfs[1:], [30, 40]), start=2):\n",
    "    unique_col = f'dfs_count_once{label}'  # Adjust unique column name\n",
    "    lc1_once = pd.merge(lc1_once, df[merge_on + [unique_col]], on=merge_on)\n",
    "lc1_once['dfspot_count'] = dfspot1_melted.dfs_count\n",
    "\n",
    "# ------- landcover2\n",
    "dfs = [once20_lc2_melted, once30_lc2_melted, once40_lc2_melted]\n",
    "\n",
    "lc2_once = dfs[0][merge_on + ['dfs_count_once20']]\n",
    "# Iterate over the remaining dataframes (daily30, daily40) and merge them\n",
    "for i, (df, label) in enumerate(zip(dfs[1:], [30, 40]), start=2):\n",
    "    unique_col = f'dfs_count_once{label}'  # Adjust unique column name\n",
    "    lc2_once = pd.merge(lc2_once, df[merge_on + [unique_col]], on=merge_on)\n",
    "lc2_once['dfspot_count'] = dfspot2_melted.dfs_count\n",
    "\n",
    "# ------- landcover3\n",
    "dfs = [once20_lc3_melted, once30_lc3_melted, once40_lc3_melted]\n",
    "\n",
    "lc3_once = dfs[0][merge_on + ['dfs_count_once20']]\n",
    "# Iterate over the remaining dataframes (daily30, daily40) and merge them\n",
    "for i, (df, label) in enumerate(zip(dfs[1:], [30, 40]), start=2):\n",
    "    unique_col = f'dfs_count_once{label}'  # Adjust unique column name\n",
    "    lc3_once = pd.merge(lc3_once, df[merge_on + [unique_col]], on=merge_on)\n",
    "lc3_once['dfspot_count'] = dfspot3_melted.dfs_count\n",
    "\n",
    "\n",
    "# ------- landcover4\n",
    "dfs = [once20_lc4_melted, once30_lc4_melted, once40_lc4_melted]\n",
    "\n",
    "lc4_once = dfs[0][merge_on + ['dfs_count_once20']]\n",
    "# Iterate over the remaining dataframes (daily30, daily40) and merge them\n",
    "for i, (df, label) in enumerate(zip(dfs[1:], [30, 40]), start=2):\n",
    "    unique_col = f'dfs_count_once{label}'  # Adjust unique column name\n",
    "    lc4_once = pd.merge(lc4_once, df[merge_on + [unique_col]], on=merge_on)\n",
    "lc4_once['dfspot_count'] = dfspot4_melted.dfs_count\n"
   ]
  },
  {
   "cell_type": "code",
   "execution_count": 236,
   "id": "0778aeda-353e-4c08-b857-a795e38bfbe8",
   "metadata": {},
   "outputs": [],
   "source": [
    "lc1_once = calculate_floods(lc1_once, 'once')\n",
    "lc2_once = calculate_floods(lc2_once, 'once')\n",
    "lc3_once = calculate_floods(lc3_once, 'once')\n",
    "lc4_once = calculate_floods(lc4_once, 'once')\n"
   ]
  },
  {
   "cell_type": "code",
   "execution_count": 237,
   "id": "ccfff36e-3ef0-40d2-baef-265829aef56f",
   "metadata": {},
   "outputs": [
    {
     "data": {
      "text/plain": [
       "<matplotlib.legend.Legend at 0x7fd47aff7700>"
      ]
     },
     "execution_count": 237,
     "metadata": {},
     "output_type": "execute_result"
    },
    {
     "data": {
      "image/png": "[encoded data removed]",
      "text/plain": [
       "<Figure size 1080x504 with 1 Axes>"
      ]
     },
     "metadata": {
      "needs_background": "light"
     },
     "output_type": "display_data"
    }
   ],
   "source": [
    "lc1_once.ffs_count_once30.plot(figsize = (15, 7))\n",
    "lc2_once.ffs_count_once30.plot(figsize = (15, 7))\n",
    "lc3_once.ffs_count_once30.plot(figsize = (15, 7))\n",
    "lc4_once.ffs_count_once30.plot(figsize = (15, 7))\n",
    "\n",
    "plt.legend()"
   ]
  },
  {
   "cell_type": "code",
   "execution_count": null,
   "id": "0da41e43-ec66-4048-b6f9-b4bc4957597b",
   "metadata": {},
   "outputs": [],
   "source": []
  },
  {
   "cell_type": "code",
   "execution_count": null,
   "id": "0a0e8666-6db9-4a15-89ef-84b584677280",
   "metadata": {},
   "outputs": [],
   "source": []
  },
  {
   "cell_type": "code",
   "execution_count": 238,
   "id": "46fa5d13-6157-4a96-89a0-da413fd09913",
   "metadata": {},
   "outputs": [
    {
     "data": {
      "text/plain": [
       "Index(['year', 'month', 'elevation', 'elevation_bin', 'id', 'dfs_count_once20',\n",
       "       'dfs_count_once30', 'dfs_count_once40', 'dfspot_count',\n",
       "       'dfs_count_once40_percent', 'dfs_count_once30_percent',\n",
       "       'dfs_count_once20_percent', 'ffs_count_once40', 'ffs_count_once30',\n",
       "       'ffs_count_once20', 'ffs_count_once40_percent',\n",
       "       'ffs_count_once30_percent', 'ffs_count_once20_percent'],\n",
       "      dtype='object')"
      ]
     },
     "execution_count": 238,
     "metadata": {},
     "output_type": "execute_result"
    }
   ],
   "source": [
    "lc4_once.columns"
   ]
  },
  {
   "cell_type": "markdown",
   "id": "a02aa287-b3b1-498a-912e-d1848dd96352",
   "metadata": {},
   "source": [
    "# plots for all \n",
    "\n",
    "- heatmaps? \n",
    "- think cleverly of how you want to represent and what \n"
   ]
  },
  {
   "cell_type": "code",
   "execution_count": 246,
   "id": "85e34211-c8dc-49cb-aeb9-dec64b60b3fc",
   "metadata": {},
   "outputs": [
    {
     "data": {
      "text/plain": [
       "<AxesSubplot:label='d', xlabel='month', ylabel='dfs_count_once40_percent'>"
      ]
     },
     "execution_count": 246,
     "metadata": {},
     "output_type": "execute_result"
    },
    {
     "data": {
      "image/png": "[encoded data removed]",
      "text/plain": [
       "<Figure size 2880x504 with 4 Axes>"
      ]
     },
     "metadata": {
      "needs_background": "light"
     },
     "output_type": "display_data"
    }
   ],
   "source": [
    "fig = plt.figure(figsize=(40, 7))#, layout = 'tight')\n",
    "mosaic = fig.subplot_mosaic('''\n",
    "                            abcd\n",
    "                            ''')\n",
    "\n",
    "sns.barplot(ax = mosaic['a'], data=lc4_daily, x=\"month\", y=\"dfspot_count\")\n",
    "\n",
    "sns.barplot(ax = mosaic['b'], data=lc4_daily, x=\"month\", y=\"dfs_count_daily20_percent\", color = 'red')#, hue = 'elevation_bin')\n",
    "sns.barplot(ax = mosaic['c'], data=lc4_daily, x=\"month\", y=\"dfs_count_daily30_percent\", color = 'red')#, hue = 'elevation_bin')\n",
    "sns.barplot(ax = mosaic['d'], data=lc4_daily, x=\"month\", y=\"dfs_count_daily40_percent\", color = 'red')#, hue = 'elevation_bin')\n",
    "\n",
    "sns.barplot(ax = mosaic['b'], data=lc4_once, x=\"month\", y=\"dfs_count_once20_percent\", color = 'blue', alpha = 0.7)#, hue = 'elevation_bin')\n",
    "sns.barplot(ax = mosaic['c'], data=lc4_once, x=\"month\", y=\"dfs_count_once30_percent\", color = 'blue', alpha = 0.7)#, hue = 'elevation_bin')\n",
    "sns.barplot(ax = mosaic['d'], data=lc4_once, x=\"month\", y=\"dfs_count_once40_percent\", color = 'blue', alpha = 0.7)#, hue = 'elevation_bin')\n"
   ]
  },
  {
   "cell_type": "code",
   "execution_count": 242,
   "id": "6be88d63-fce1-42dd-a249-65533f96afaa",
   "metadata": {},
   "outputs": [
    {
     "data": {
      "text/plain": [
       "<AxesSubplot:label='d', xlabel='month', ylabel='dfs_count_once40_percent'>"
      ]
     },
     "execution_count": 242,
     "metadata": {},
     "output_type": "execute_result"
    },
    {
     "data": {
      "image/png": "[encoded data removed]",
      "text/plain": [
       "<Figure size 2880x504 with 4 Axes>"
      ]
     },
     "metadata": {
      "needs_background": "light"
     },
     "output_type": "display_data"
    }
   ],
   "source": [
    "fig = plt.figure(figsize=(40, 7))#, layout = 'tight')\n",
    "mosaic = fig.subplot_mosaic('''\n",
    "                            abcd\n",
    "                            ''')\n",
    "\n",
    "sns.barplot(ax = mosaic['a'], data=lc1_once, x=\"month\", y=\"dfspot_count\")\n",
    "sns.barplot(ax = mosaic['b'], data=lc1_once, x=\"month\", y=\"dfs_count_once20_percent\")#, hue = 'elevation_bin')\n",
    "sns.barplot(ax = mosaic['c'], data=lc1_once, x=\"month\", y=\"dfs_count_once30_percent\")#, hue = 'elevation_bin')\n",
    "sns.barplot(ax = mosaic['d'], data=lc1_once, x=\"month\", y=\"dfs_count_once40_percent\")#, hue = 'elevation_bin')\n",
    "\n",
    "# sns.barplot(ax = mosaic['b'], data=lc1_once, x=\"month\", y=\"ffs_count_once20\",alpha = 0.5, palette = 'magma')\n",
    "# sns.barplot(ax = mosaic['c'], data=lc1_once, x=\"month\", y=\"ffs_count_once30\",alpha = 0.5, palette = 'magma')\n",
    "# sns.barplot(ax = mosaic['d'], data=lc1_once, x=\"month\", y=\"ffs_count_once40\",alpha = 0.5, palette = 'magma')\n",
    "\n",
    "# for ax in mosaic.values():\n",
    "#     ax.set_ylim(0, 0.115) "
   ]
  },
  {
   "cell_type": "code",
   "execution_count": 182,
   "id": "21eb5585-ec6a-4dd1-97e5-51ca5147dd14",
   "metadata": {},
   "outputs": [],
   "source": [
    "# lc1_daily"
   ]
  },
  {
   "cell_type": "code",
   "execution_count": null,
   "id": "d47fb1ed-de79-453f-9056-cc4276e2190f",
   "metadata": {},
   "outputs": [],
   "source": []
  },
  {
   "cell_type": "code",
   "execution_count": null,
   "id": "ab7a2439-fda5-471d-b331-69d6422d7f8e",
   "metadata": {},
   "outputs": [],
   "source": []
  },
  {
   "cell_type": "code",
   "execution_count": null,
   "id": "55070c18-9a1d-4611-b6a6-bba60f17a638",
   "metadata": {},
   "outputs": [],
   "source": []
  }
 ],
 "metadata": {
  "kernelspec": {
   "display_name": "Python 3 (ipykernel)",
   "language": "python",
   "name": "python3"
  },
  "language_info": {
   "codemirror_mode": {
    "name": "ipython",
    "version": 3
   },
   "file_extension": ".py",
   "mimetype": "text/x-python",
   "name": "python",
   "nbconvert_exporter": "python",
   "pygments_lexer": "ipython3",
   "version": "3.9.7"
  }
 },
 "nbformat": 4,
 "nbformat_minor": 5
}
