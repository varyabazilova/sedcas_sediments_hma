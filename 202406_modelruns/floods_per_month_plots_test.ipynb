{
 "cells": [
  {
   "cell_type": "code",
   "execution_count": 1,
   "id": "a33e0b62-effd-42a4-ae8b-5d2efe46056f",
   "metadata": {},
   "outputs": [
    {
     "name": "stderr",
     "output_type": "stream",
     "text": [
      "/Users/varyabazilova/opt/anaconda3/lib/python3.9/site-packages/scipy/__init__.py:146: UserWarning: A NumPy version >=1.16.5 and <1.23.0 is required for this version of SciPy (detected version 1.26.2\n",
      "  warnings.warn(f\"A NumPy version >={np_minversion} and <{np_maxversion}\"\n"
     ]
    }
   ],
   "source": [
    "import pandas as pd\n",
    "import matplotlib.pyplot as plt\n",
    "import seaborn as sns\n",
    "import functions\n",
    "\n"
   ]
  },
  {
   "cell_type": "code",
   "execution_count": 5,
   "id": "1000ef23-c475-4967-92b6-1c980470c55e",
   "metadata": {},
   "outputs": [],
   "source": [
    "\n",
    "def prepare_dfcount_for_plot(dfcount):\n",
    "    melted = pd.melt(dfcount, id_vars=['date_id', 'year', 'month'], var_name='elevation', value_name='dfs_count')\n",
    "    # melted = pd.melt(dfcount, id_vars=['date_id'], var_name='elevation', value_name='dfs_count')\n",
    "    melted['elevation'] = melted['elevation'].str.split('.').str[0].astype(float)\n",
    "    melted['elevation_bin'] = melted.apply(functions.bin_elevation500, axis=1)\n",
    "    # create unique id for elevation and month for merging\n",
    "    melted['elevation'] = melted['elevation'].astype(int)\n",
    "    melted['id'] = melted['elevation'].astype(str) + \"_\" + melted['year'].astype(str)+ \"_\" + melted['month'].astype(str)\n",
    "    \n",
    "    # melted = melted.sort_values('elevation_bin')\n",
    "    # melted = melted.dropna(subset=['dfs_count'])\n",
    "    return melted \n",
    "\n",
    "\n",
    "\n",
    "def calculate_floods(df, method):\n",
    "    # df percent \n",
    "    df[f'dfs_count_{method}40_percent'] = (df[f'dfs_count_{method}40'] *100) / df.dfspot_count\n",
    "    df[f'dfs_count_{method}30_percent'] = (df[f'dfs_count_{method}30'] *100) / df.dfspot_count\n",
    "    df[f'dfs_count_{method}20_percent'] = (df[f'dfs_count_{method}20'] *100) / df.dfspot_count\n",
    "    # ff count \n",
    "    df[f'ffs_count_{method}40'] = df.dfspot_count - df[f'dfs_count_{method}40']\n",
    "    df[f'ffs_count_{method}30'] = df.dfspot_count - df[f'dfs_count_{method}30']\n",
    "    df[f'ffs_count_{method}20'] = df.dfspot_count - df[f'dfs_count_{method}20']\n",
    "    # ff percent\n",
    "    df[f'ffs_count_{method}40_percent'] = (df[f'ffs_count_{method}40'] *100) / df.dfspot_count\n",
    "    df[f'ffs_count_{method}30_percent'] = (df[f'ffs_count_{method}30'] *100) / df.dfspot_count\n",
    "    df[f'ffs_count_{method}20_percent'] = (df[f'ffs_count_{method}20'] *100) / df.dfspot_count\n",
    "    return df"
   ]
  },
  {
   "cell_type": "code",
   "execution_count": 3,
   "id": "ef4c9611-2a4d-4822-afee-2c4d066905c8",
   "metadata": {},
   "outputs": [],
   "source": [
    "freq = 'monthly'\n",
    "column = 'dfspot'\n",
    "location = 'langtang'\n",
    "\n",
    "\n",
    "flood_folder =  f'/Users/varyabazilova/Desktop/paper2/202406_modelruns/30years/dfspot_count/{location}2/'\n",
    "\n",
    "dfspot1 = pd.read_csv(flood_folder + f'{location}_{freq}_{column}_count_landcover1.csv', index_col = 0).fillna(0)\n",
    "dfspot2 = pd.read_csv(flood_folder + f'{location}_{freq}_{column}_count_landcover2.csv', index_col = 0).fillna(0)\n",
    "dfspot3 = pd.read_csv(flood_folder + f'{location}_{freq}_{column}_count_landcover3.csv', index_col = 0).fillna(0)\n",
    "dfspot4 = pd.read_csv(flood_folder + f'{location}_{freq}_{column}_count_landcover4.csv', index_col = 0).fillna(0)\n",
    "\n",
    "dfspot1_melted = prepare_dfcount_for_plot(dfspot1)\n",
    "dfspot2_melted = prepare_dfcount_for_plot(dfspot2)\n",
    "dfspot3_melted = prepare_dfcount_for_plot(dfspot3)\n",
    "dfspot4_melted = prepare_dfcount_for_plot(dfspot4)\n"
   ]
  },
  {
   "cell_type": "markdown",
   "id": "e415c1cf-0002-4885-848f-2db8f34d01d7",
   "metadata": {},
   "source": [
    "# daily input "
   ]
  },
  {
   "cell_type": "code",
   "execution_count": 4,
   "id": "13ec111b-3ad1-4ee2-ad1a-3a099217b01c",
   "metadata": {},
   "outputs": [],
   "source": [
    "daily20_lc1 = pd.read_csv(f'/Users/varyabazilova/Desktop/paper2/202406_modelruns/30years/SL_daily/output_20percent/{location}_{freq}_dfs_count_20percent_landcover1.csv', index_col = 0).fillna(0)\n",
    "daily20_lc2 = pd.read_csv(f'/Users/varyabazilova/Desktop/paper2/202406_modelruns/30years/SL_daily/output_20percent/{location}_{freq}_dfs_count_20percent_landcover2.csv', index_col = 0).fillna(0)\n",
    "daily20_lc3 = pd.read_csv(f'/Users/varyabazilova/Desktop/paper2/202406_modelruns/30years/SL_daily/output_20percent/{location}_{freq}_dfs_count_20percent_landcover3.csv', index_col = 0).fillna(0)\n",
    "daily20_lc4 = pd.read_csv(f'/Users/varyabazilova/Desktop/paper2/202406_modelruns/30years/SL_daily/output_20percent/{location}_{freq}_dfs_count_20percent_landcover4.csv', index_col = 0).fillna(0)\n",
    "\n",
    "daily30_lc1 = pd.read_csv(f'/Users/varyabazilova/Desktop/paper2/202406_modelruns/30years/SL_daily/output_30percent/{location}_{freq}_dfs_count_30percent_landcover1.csv', index_col = 0).fillna(0)\n",
    "daily30_lc2 = pd.read_csv(f'/Users/varyabazilova/Desktop/paper2/202406_modelruns/30years/SL_daily/output_30percent/{location}_{freq}_dfs_count_30percent_landcover2.csv', index_col = 0).fillna(0)\n",
    "daily30_lc3 = pd.read_csv(f'/Users/varyabazilova/Desktop/paper2/202406_modelruns/30years/SL_daily/output_30percent/{location}_{freq}_dfs_count_30percent_landcover3.csv', index_col = 0).fillna(0)\n",
    "daily30_lc4 = pd.read_csv(f'/Users/varyabazilova/Desktop/paper2/202406_modelruns/30years/SL_daily/output_30percent/{location}_{freq}_dfs_count_30percent_landcover4.csv', index_col = 0).fillna(0)\n",
    "\n",
    "daily40_lc1 = pd.read_csv(f'/Users/varyabazilova/Desktop/paper2/202406_modelruns/30years/SL_daily/output_40percent/{location}_{freq}_dfs_count_40percent_landcover1.csv', index_col = 0).fillna(0)\n",
    "daily40_lc2 = pd.read_csv(f'/Users/varyabazilova/Desktop/paper2/202406_modelruns/30years/SL_daily/output_40percent/{location}_{freq}_dfs_count_40percent_landcover2.csv', index_col = 0).fillna(0)\n",
    "daily40_lc3 = pd.read_csv(f'/Users/varyabazilova/Desktop/paper2/202406_modelruns/30years/SL_daily/output_40percent/{location}_{freq}_dfs_count_40percent_landcover3.csv', index_col = 0).fillna(0)\n",
    "daily40_lc4 = pd.read_csv(f'/Users/varyabazilova/Desktop/paper2/202406_modelruns/30years/SL_daily/output_40percent/{location}_{freq}_dfs_count_40percent_landcover4.csv', index_col = 0).fillna(0)\n",
    "\n",
    "\n",
    "daily20_lc1_melted = prepare_dfcount_for_plot(daily20_lc1).rename(columns={'dfs_count': 'dfs_count_daily20'})\n",
    "daily20_lc2_melted = prepare_dfcount_for_plot(daily20_lc2).rename(columns={'dfs_count': 'dfs_count_daily20'})\n",
    "daily20_lc3_melted = prepare_dfcount_for_plot(daily20_lc3).rename(columns={'dfs_count': 'dfs_count_daily20'})\n",
    "daily20_lc4_melted = prepare_dfcount_for_plot(daily20_lc4).rename(columns={'dfs_count': 'dfs_count_daily20'})\n",
    "\n",
    "daily30_lc1_melted = prepare_dfcount_for_plot(daily30_lc1).rename(columns={'dfs_count': 'dfs_count_daily30'})\n",
    "daily30_lc2_melted = prepare_dfcount_for_plot(daily30_lc2).rename(columns={'dfs_count': 'dfs_count_daily30'})\n",
    "daily30_lc3_melted = prepare_dfcount_for_plot(daily30_lc3).rename(columns={'dfs_count': 'dfs_count_daily30'})\n",
    "daily30_lc4_melted = prepare_dfcount_for_plot(daily30_lc4).rename(columns={'dfs_count': 'dfs_count_daily30'})\n",
    "\n",
    "daily40_lc1_melted = prepare_dfcount_for_plot(daily40_lc1).rename(columns={'dfs_count': 'dfs_count_daily40'})\n",
    "daily40_lc2_melted = prepare_dfcount_for_plot(daily40_lc2).rename(columns={'dfs_count': 'dfs_count_daily40'})\n",
    "daily40_lc3_melted = prepare_dfcount_for_plot(daily40_lc3).rename(columns={'dfs_count': 'dfs_count_daily40'})\n",
    "daily40_lc4_melted = prepare_dfcount_for_plot(daily40_lc4).rename(columns={'dfs_count': 'dfs_count_daily40'})\n"
   ]
  },
  {
   "cell_type": "code",
   "execution_count": 6,
   "id": "ae33f765-ab40-4fa1-abee-6c06ddaf78bf",
   "metadata": {},
   "outputs": [],
   "source": [
    "# make 4 dfs depending ont he scenatio \n",
    "merge_on = ['year', 'month', 'elevation', 'elevation_bin', 'id']\n",
    "\n",
    "# ------- landcover1\n",
    "dfs = [daily20_lc1_melted, daily30_lc1_melted, daily40_lc1_melted]\n",
    "\n",
    "lc1_daily = dfs[0][merge_on + ['dfs_count_daily20']]\n",
    "# Iterate over the remaining dataframes (daily30, daily40) and merge them\n",
    "for i, (df, label) in enumerate(zip(dfs[1:], [30, 40]), start=2):\n",
    "    unique_col = f'dfs_count_daily{label}'  # Adjust unique column name\n",
    "    lc1_daily = pd.merge(lc1_daily, df[merge_on + [unique_col]], on=merge_on)\n",
    "\n",
    "# add dfspot    \n",
    "lc1_daily['dfspot_count'] = dfspot1_melted.dfs_count\n",
    "\n",
    "# ------- landcover2\n",
    "dfs = [daily20_lc2_melted, daily30_lc2_melted, daily40_lc2_melted]\n",
    "\n",
    "lc2_daily = dfs[0][merge_on + ['dfs_count_daily20']]\n",
    "# Iterate over the remaining dataframes (daily30, daily40) and merge them\n",
    "for i, (df, label) in enumerate(zip(dfs[1:], [30, 40]), start=2):\n",
    "    unique_col = f'dfs_count_daily{label}'  # Adjust unique column name\n",
    "    lc2_daily = pd.merge(lc2_daily, df[merge_on + [unique_col]], on=merge_on)\n",
    "\n",
    "lc2_daily['dfspot_count'] = dfspot2_melted.dfs_count\n",
    "\n",
    "# ------- landcover3\n",
    "dfs = [daily20_lc3_melted, daily30_lc3_melted, daily40_lc3_melted]\n",
    "\n",
    "lc3_daily = dfs[0][merge_on + ['dfs_count_daily20']]\n",
    "# Iterate over the remaining dataframes (daily30, daily40) and merge them\n",
    "for i, (df, label) in enumerate(zip(dfs[1:], [30, 40]), start=2):\n",
    "    unique_col = f'dfs_count_daily{label}'  # Adjust unique column name\n",
    "    lc3_daily = pd.merge(lc3_daily, df[merge_on + [unique_col]], on=merge_on)\n",
    "\n",
    "lc3_daily['dfspot_count'] = dfspot3_melted.dfs_count\n",
    "\n",
    "# ------- landcover4\n",
    "dfs = [daily20_lc4_melted, daily30_lc4_melted, daily40_lc4_melted]\n",
    "\n",
    "lc4_daily = dfs[0][merge_on + ['dfs_count_daily20']]\n",
    "# Iterate over the remaining dataframes (daily30, daily40) and merge them\n",
    "for i, (df, label) in enumerate(zip(dfs[1:], [30, 40]), start=2):\n",
    "    unique_col = f'dfs_count_daily{label}'  # Adjust unique column name\n",
    "    lc4_daily = pd.merge(lc4_daily, df[merge_on + [unique_col]], on=merge_on)\n",
    "\n",
    "lc4_daily['dfspot_count'] = dfspot4_melted.dfs_count\n"
   ]
  },
  {
   "cell_type": "code",
   "execution_count": 7,
   "id": "90d0f4d1-5e35-4c48-997c-1c65469e746f",
   "metadata": {},
   "outputs": [],
   "source": [
    "lc1_daily = calculate_floods(lc1_daily, 'daily').fillna(0)\n",
    "lc2_daily = calculate_floods(lc2_daily, 'daily').fillna(0)\n",
    "lc3_daily = calculate_floods(lc3_daily, 'daily').fillna(0)\n",
    "lc4_daily = calculate_floods(lc4_daily, 'daily').fillna(0)\n"
   ]
  },
  {
   "cell_type": "code",
   "execution_count": 12,
   "id": "b0da6d89-e8d9-41c7-afec-f251a68a8f20",
   "metadata": {},
   "outputs": [
    {
     "data": {
      "text/plain": [
       "Index(['year', 'month', 'elevation', 'elevation_bin', 'id',\n",
       "       'dfs_count_daily20', 'dfs_count_daily30', 'dfs_count_daily40',\n",
       "       'dfspot_count', 'dfs_count_daily40_percent',\n",
       "       'dfs_count_daily30_percent', 'dfs_count_daily20_percent',\n",
       "       'ffs_count_daily40', 'ffs_count_daily30', 'ffs_count_daily20',\n",
       "       'ffs_count_daily40_percent', 'ffs_count_daily30_percent',\n",
       "       'ffs_count_daily20_percent'],\n",
       "      dtype='object')"
      ]
     },
     "execution_count": 12,
     "metadata": {},
     "output_type": "execute_result"
    }
   ],
   "source": [
    "lc2_daily.columns"
   ]
  },
  {
   "cell_type": "code",
   "execution_count": 16,
   "id": "9746c863-e97d-40d7-b243-4e4503fef697",
   "metadata": {},
   "outputs": [
    {
     "data": {
      "text/plain": [
       "<matplotlib.legend.Legend at 0x7fd47b371a60>"
      ]
     },
     "execution_count": 16,
     "metadata": {},
     "output_type": "execute_result"
    },
    {
     "data": {
      "image/png": "[encoded data removed]",
      "text/plain": [
       "<Figure size 1080x504 with 1 Axes>"
      ]
     },
     "metadata": {
      "needs_background": "light"
     },
     "output_type": "display_data"
    }
   ],
   "source": [
    "lc2_daily.dfspot_count.plot(figsize = (15, 7))\n",
    "# lc2_daily.dfs_count_daily40.plot()\n",
    "lc2_daily.dfs_count_daily40_percent.plot(figsize = (15, 7))\n",
    "lc2_daily.dfs_count_daily30_percent.plot()\n",
    "lc2_daily.dfs_count_daily20_percent.plot()\n",
    "plt.legend()"
   ]
  },
  {
   "cell_type": "markdown",
   "id": "58a86822-4554-44f0-b5c2-4c3caf861b01",
   "metadata": {},
   "source": [
    "# once per year input"
   ]
  },
  {
   "cell_type": "code",
   "execution_count": 17,
   "id": "75b17a05-5c1a-43eb-97c3-985409b0f5b1",
   "metadata": {},
   "outputs": [],
   "source": [
    "\n",
    "once20_lc1 = pd.read_csv(f'/Users/varyabazilova/Desktop/paper2/202406_modelruns/30years/SL_once/output_20percent/{location}_{freq}_dfs_count_20percent_landcover1.csv', index_col = 0).fillna(0)#[:372]\n",
    "once20_lc2 = pd.read_csv(f'/Users/varyabazilova/Desktop/paper2/202406_modelruns/30years/SL_once/output_20percent/{location}_{freq}_dfs_count_20percent_landcover2.csv', index_col = 0).fillna(0)#[:372]\n",
    "once20_lc3 = pd.read_csv(f'/Users/varyabazilova/Desktop/paper2/202406_modelruns/30years/SL_once/output_20percent/{location}_{freq}_dfs_count_20percent_landcover3.csv', index_col = 0).fillna(0)[:-1]#[:372]\n",
    "once20_lc4 = pd.read_csv(f'/Users/varyabazilova/Desktop/paper2/202406_modelruns/30years/SL_once/output_20percent/{location}_{freq}_dfs_count_20percent_landcover4.csv', index_col = 0).fillna(0)#[:372]\n",
    "\n",
    "once30_lc1 = pd.read_csv(f'/Users/varyabazilova/Desktop/paper2/202406_modelruns/30years/SL_once/output_30percent/{location}_{freq}_dfs_count_30percent_landcover1.csv', index_col = 0).fillna(0)#[:372]\n",
    "once30_lc2 = pd.read_csv(f'/Users/varyabazilova/Desktop/paper2/202406_modelruns/30years/SL_once/output_30percent/{location}_{freq}_dfs_count_30percent_landcover2.csv', index_col = 0).fillna(0)#[:372]\n",
    "once30_lc3 = pd.read_csv(f'/Users/varyabazilova/Desktop/paper2/202406_modelruns/30years/SL_once/output_30percent/{location}_{freq}_dfs_count_30percent_landcover3.csv', index_col = 0).fillna(0)#[:372]\n",
    "once30_lc4 = pd.read_csv(f'/Users/varyabazilova/Desktop/paper2/202406_modelruns/30years/SL_once/output_30percent/{location}_{freq}_dfs_count_30percent_landcover4.csv', index_col = 0).fillna(0)#[:372]\n",
    "\n",
    "once40_lc1 = pd.read_csv(f'/Users/varyabazilova/Desktop/paper2/202406_modelruns/30years/SL_once/output_40percent/{location}_{freq}_dfs_count_40percent_landcover1.csv', index_col = 0).fillna(0)#[:372]\n",
    "once40_lc2 = pd.read_csv(f'/Users/varyabazilova/Desktop/paper2/202406_modelruns/30years/SL_once/output_40percent/{location}_{freq}_dfs_count_40percent_landcover2.csv', index_col = 0).fillna(0)#[:372]\n",
    "once40_lc3 = pd.read_csv(f'/Users/varyabazilova/Desktop/paper2/202406_modelruns/30years/SL_once/output_40percent/{location}_{freq}_dfs_count_40percent_landcover3.csv', index_col = 0).fillna(0)#[:372]\n",
    "once40_lc4 = pd.read_csv(f'/Users/varyabazilova/Desktop/paper2/202406_modelruns/30years/SL_once/output_40percent/{location}_{freq}_dfs_count_40percent_landcover4.csv', index_col = 0).fillna(0)#[:372]\n",
    "\n",
    "\n",
    "once20_lc1_melted = prepare_dfcount_for_plot(once20_lc1).rename(columns={'dfs_count': 'dfs_count_once20'})\n",
    "once20_lc2_melted = prepare_dfcount_for_plot(once20_lc2).rename(columns={'dfs_count': 'dfs_count_once20'})\n",
    "once20_lc3_melted = prepare_dfcount_for_plot(once20_lc3).rename(columns={'dfs_count': 'dfs_count_once20'})\n",
    "once20_lc4_melted = prepare_dfcount_for_plot(once20_lc4).rename(columns={'dfs_count': 'dfs_count_once20'})\n",
    "\n",
    "once30_lc1_melted = prepare_dfcount_for_plot(once30_lc1).rename(columns={'dfs_count': 'dfs_count_once30'})\n",
    "once30_lc2_melted = prepare_dfcount_for_plot(once30_lc2).rename(columns={'dfs_count': 'dfs_count_once30'})\n",
    "once30_lc3_melted = prepare_dfcount_for_plot(once30_lc3).rename(columns={'dfs_count': 'dfs_count_once30'})\n",
    "once30_lc4_melted = prepare_dfcount_for_plot(once30_lc4).rename(columns={'dfs_count': 'dfs_count_once30'})\n",
    "\n",
    "once40_lc1_melted = prepare_dfcount_for_plot(once40_lc1).rename(columns={'dfs_count': 'dfs_count_once40'})\n",
    "once40_lc2_melted = prepare_dfcount_for_plot(once40_lc2).rename(columns={'dfs_count': 'dfs_count_once40'})\n",
    "once40_lc3_melted = prepare_dfcount_for_plot(once40_lc3).rename(columns={'dfs_count': 'dfs_count_once40'})\n",
    "once40_lc4_melted = prepare_dfcount_for_plot(once40_lc4).rename(columns={'dfs_count': 'dfs_count_once40'})\n"
   ]
  },
  {
   "cell_type": "code",
   "execution_count": 18,
   "id": "3e0d93b4-76c3-42a0-9b49-812f6a66e011",
   "metadata": {},
   "outputs": [],
   "source": [
    "# make 4 dfs depending ont he scenatio \n",
    "merge_on = ['year', 'month', 'elevation', 'elevation_bin', 'id']\n",
    "\n",
    "# ------- landcover1\n",
    "dfs = [once20_lc1_melted, once30_lc1_melted, once40_lc1_melted]\n",
    "\n",
    "lc1_once = dfs[0][merge_on + ['dfs_count_once20']]\n",
    "# Iterate over the remaining dataframes (daily30, daily40) and merge them\n",
    "for i, (df, label) in enumerate(zip(dfs[1:], [30, 40]), start=2):\n",
    "    unique_col = f'dfs_count_once{label}'  # Adjust unique column name\n",
    "    lc1_once = pd.merge(lc1_once, df[merge_on + [unique_col]], on=merge_on)\n",
    "lc1_once['dfspot_count'] = dfspot1_melted.dfs_count\n",
    "\n",
    "# ------- landcover2\n",
    "dfs = [once20_lc2_melted, once30_lc2_melted, once40_lc2_melted]\n",
    "\n",
    "lc2_once = dfs[0][merge_on + ['dfs_count_once20']]\n",
    "# Iterate over the remaining dataframes (daily30, daily40) and merge them\n",
    "for i, (df, label) in enumerate(zip(dfs[1:], [30, 40]), start=2):\n",
    "    unique_col = f'dfs_count_once{label}'  # Adjust unique column name\n",
    "    lc2_once = pd.merge(lc2_once, df[merge_on + [unique_col]], on=merge_on)\n",
    "lc2_once['dfspot_count'] = dfspot2_melted.dfs_count\n",
    "\n",
    "# ------- landcover3\n",
    "dfs = [once20_lc3_melted, once30_lc3_melted, once40_lc3_melted]\n",
    "\n",
    "lc3_once = dfs[0][merge_on + ['dfs_count_once20']]\n",
    "# Iterate over the remaining dataframes (daily30, daily40) and merge them\n",
    "for i, (df, label) in enumerate(zip(dfs[1:], [30, 40]), start=2):\n",
    "    unique_col = f'dfs_count_once{label}'  # Adjust unique column name\n",
    "    lc3_once = pd.merge(lc3_once, df[merge_on + [unique_col]], on=merge_on)\n",
    "lc3_once['dfspot_count'] = dfspot3_melted.dfs_count\n",
    "\n",
    "\n",
    "# ------- landcover4\n",
    "dfs = [once20_lc4_melted, once30_lc4_melted, once40_lc4_melted]\n",
    "\n",
    "lc4_once = dfs[0][merge_on + ['dfs_count_once20']]\n",
    "# Iterate over the remaining dataframes (daily30, daily40) and merge them\n",
    "for i, (df, label) in enumerate(zip(dfs[1:], [30, 40]), start=2):\n",
    "    unique_col = f'dfs_count_once{label}'  # Adjust unique column name\n",
    "    lc4_once = pd.merge(lc4_once, df[merge_on + [unique_col]], on=merge_on)\n",
    "lc4_once['dfspot_count'] = dfspot4_melted.dfs_count\n"
   ]
  },
  {
   "cell_type": "code",
   "execution_count": 19,
   "id": "0778aeda-353e-4c08-b857-a795e38bfbe8",
   "metadata": {},
   "outputs": [],
   "source": [
    "lc1_once = calculate_floods(lc1_once, 'once')\n",
    "lc2_once = calculate_floods(lc2_once, 'once')\n",
    "lc3_once = calculate_floods(lc3_once, 'once')\n",
    "lc4_once = calculate_floods(lc4_once, 'once')\n"
   ]
  },
  {
   "cell_type": "markdown",
   "id": "a02aa287-b3b1-498a-912e-d1848dd96352",
   "metadata": {},
   "source": [
    "# plots for all \n",
    "\n",
    "- heatmaps? \n",
    "- think cleverly of how you want to represent and what \n"
   ]
  },
  {
   "cell_type": "code",
   "execution_count": null,
   "id": "6ad63553-e0d7-437b-98a1-e5196caa6082",
   "metadata": {},
   "outputs": [],
   "source": []
  }
 ],
 "metadata": {
  "kernelspec": {
   "display_name": "Python 3 (ipykernel)",
   "language": "python",
   "name": "python3"
  },
  "language_info": {
   "codemirror_mode": {
    "name": "ipython",
    "version": 3
   },
   "file_extension": ".py",
   "mimetype": "text/x-python",
   "name": "python",
   "nbconvert_exporter": "python",
   "pygments_lexer": "ipython3",
   "version": "3.9.7"
  }
 },
 "nbformat": 4,
 "nbformat_minor": 5
}
