{
 "cells": [
  {
   "cell_type": "code",
   "execution_count": 5,
   "id": "c0ddcefe-caaa-45be-861d-fd264c1a7271",
   "metadata": {},
   "outputs": [],
   "source": [
    "import functions\n",
    "\n",
    "import pandas as pd\n",
    "import os"
   ]
  },
  {
   "cell_type": "markdown",
   "id": "f0cbef7a-92ce-4c32-a904-4c023cae31cb",
   "metadata": {},
   "source": [
    "# update for input (small landslide once a day or once per year)"
   ]
  },
  {
   "cell_type": "code",
   "execution_count": 44,
   "id": "844a2a5b-2d2b-48ca-ac54-cd6fe8b7c02d",
   "metadata": {},
   "outputs": [],
   "source": [
    "# # define value to update the sediment input parameter PER DAY \n",
    "# # name = 'annual_mean_Qstl_m3_day'\n",
    "# # name = 'annual_25percent_Qstl_m3_day'\n",
    "\n",
    "# # name = 'annual_mean_Qstl_m3'\n",
    "\n",
    "\n",
    "\n",
    "# landcover_idx = 1\n",
    "# location = 'mustang'\n",
    "# percentile = '20percent'\n",
    "\n",
    "# # for the ONCE per year landslide input use VALUE PER DAY (it gets multiplied on 365 in the function!)\n",
    "# # name = f'annual_{percentile}_Qstl_m3_day'\n",
    "# name = f'annual_{percentile}_Qstl_m3_day'\n",
    "\n",
    "\n",
    "# directory_path = '/Users/varyabazilova/Desktop/paper2/202406_modelruns/30years/TL_output'\n",
    "# # directory_path =  f'/Users/varyabazilova/Desktop/paper2/202406_modelruns/30years/TL_output/{landcover}landcover/{location}_climate_cut'\n",
    "# # folder =          f'/Users/varyabazilova/Desktop/paper2/202406_modelruns/30years/SL_daily/{landcover}landcover_{percentile}/{location}_climate_cut'\n",
    "# # folder =          f'/Users/varyabazilova/Desktop/paper2/202406_modelruns/30years/SL_daily/{landcover_idx}landcover_{percentile}/{location}_climate_cut'\n",
    "# folder =          f'/Volumes/Extreme SSD/202409_paper2_modelruns/30years/SL_daily/{landcover_idx}landcover_{percentile}/{location}_climate_cut'\n",
    "\n",
    "\n",
    "# sediment = pd.read_csv(directory_path + f'/{location}_annual_mean_percentiles_for_sediment_input_landcover{landcover_idx}.csv')[['index', name]].set_index('index')\n"
   ]
  },
  {
   "cell_type": "code",
   "execution_count": 30,
   "id": "a2137db1-676d-46a4-a8c9-221e79448688",
   "metadata": {},
   "outputs": [],
   "source": [
    "# sediment"
   ]
  },
  {
   "cell_type": "code",
   "execution_count": 31,
   "id": "00649a5f-de38-4064-9ac2-d14da7511f73",
   "metadata": {},
   "outputs": [],
   "source": [
    "def update_parameter_file(folder, index, paramfile, sediment_value):\n",
    "    folder_name = [folder_name for folder_name in os.listdir(folder) if folder_name.endswith(index)][0]  # Extract folder name\n",
    "    folder_path = os.path.join(folder, folder_name)\n",
    "    paramfile_path = os.path.join(folder_path, paramfile)\n",
    "    with open(paramfile_path, 'r') as file:\n",
    "        lines = file.readlines()\n",
    "\n",
    "    for i, line in enumerate(lines):\n",
    "        if line.startswith(\"sediment_input:\"):\n",
    "            # Update the value for \"sediment_input\"\n",
    "            lines[i] = f\"sediment_input:{sediment_value}\\n\"\n",
    "            break\n",
    "\n",
    "    # Write the updated lines back to the parameter file\n",
    "    with open(paramfile_path, 'w') as file:\n",
    "        file.writelines(lines)\n"
   ]
  },
  {
   "cell_type": "code",
   "execution_count": null,
   "id": "bb01a89f-114d-4347-ad7e-1d1f242bb889",
   "metadata": {},
   "outputs": [],
   "source": []
  },
  {
   "cell_type": "code",
   "execution_count": 43,
   "id": "9dddb697-f533-49eb-be11-0db6bfa330d4",
   "metadata": {},
   "outputs": [
    {
     "name": "stdout",
     "output_type": "stream",
     "text": [
      "Processed landcover index 1\n",
      "Processed landcover index 2\n",
      "Processed landcover index 3\n",
      "Processed landcover index 4\n",
      "60percent\n"
     ]
    }
   ],
   "source": [
    "# List of landcover indices\n",
    "landcover_indices = [1, 2, 3, 4]\n",
    "location = 'mustang'\n",
    "percentile = '60percent'\n",
    "paramfile = 'parameters.par'  # Parameter file name\n",
    "\n",
    "# Iterate over each landcover index\n",
    "for landcover_idx in landcover_indices:\n",
    "    # Update folder paths based on the current landcover index\n",
    "    directory_path = f'/Users/varyabazilova/Desktop/paper2/202406_modelruns/30years/TL_output'\n",
    "    folder = f'/Volumes/Extreme SSD/202409_paper2_modelruns/30years/SL_daily/{landcover_idx}landcover_{percentile}/{location}_climate_cut'\n",
    "    \n",
    "    # Read the sediment data for the current landcover index\n",
    "    sediment = pd.read_csv(\n",
    "        directory_path + f'/{location}_annual_mean_percentiles_for_sediment_input_landcover{landcover_idx}.csv')[['index', name]].set_index('index')\n",
    "\n",
    "    # Iterate over each index in the sediment DataFrame and update the parameter file\n",
    "    for index in sediment.index:\n",
    "        sediment_value = sediment.loc[index, name]\n",
    "        update_parameter_file(folder, index, paramfile, sediment_value)\n",
    "        \n",
    "    print(f\"Processed landcover index {landcover_idx}\")\n",
    "\n",
    "print(percentile)"
   ]
  },
  {
   "cell_type": "code",
   "execution_count": null,
   "id": "4cb6dc21-9f6c-4c2e-b18e-1f6864d7e876",
   "metadata": {},
   "outputs": [],
   "source": []
  },
  {
   "cell_type": "markdown",
   "id": "ae560a25-c771-4de6-98fb-d0915bb42c41",
   "metadata": {},
   "source": []
  }
 ],
 "metadata": {
  "kernelspec": {
   "display_name": "Python [conda env:sedcas] *",
   "language": "python",
   "name": "conda-env-sedcas-py"
  },
  "language_info": {
   "codemirror_mode": {
    "name": "ipython",
    "version": 3
   },
   "file_extension": ".py",
   "mimetype": "text/x-python",
   "name": "python",
   "nbconvert_exporter": "python",
   "pygments_lexer": "ipython3",
   "version": "3.9.7"
  }
 },
 "nbformat": 4,
 "nbformat_minor": 5
}
