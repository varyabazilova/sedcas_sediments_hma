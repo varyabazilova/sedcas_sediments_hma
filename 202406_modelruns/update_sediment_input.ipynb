{
 "cells": [
  {
   "cell_type": "code",
   "execution_count": 27,
   "id": "c0ddcefe-caaa-45be-861d-fd264c1a7271",
   "metadata": {},
   "outputs": [],
   "source": [
    "import functions\n",
    "\n",
    "import pandas as pd\n",
    "import os"
   ]
  },
  {
   "cell_type": "markdown",
   "id": "f0cbef7a-92ce-4c32-a904-4c023cae31cb",
   "metadata": {},
   "source": [
    "# update for daily input (small landslide once a day)"
   ]
  },
  {
   "cell_type": "code",
   "execution_count": 61,
   "id": "844a2a5b-2d2b-48ca-ac54-cd6fe8b7c02d",
   "metadata": {},
   "outputs": [],
   "source": [
    "# define value to update the sediment input parameter\n",
    "# name = 'annual_mean_Qstl_m3_day'\n",
    "# name = 'annual_25percent_Qstl_m3_day'\n",
    "\n",
    "# for the ONCE per year landslide input use:\n",
    "name = 'annual_mean_Qstl_m3'\n",
    "\n",
    "\n",
    "\n",
    "\n",
    "# directory_path =            '/Users/varyabazilova/Desktop/paper2/202406_modelruns/30years/1landcover/mustang_climate_cut'\n",
    "# folder = '/Users/varyabazilova/Desktop/paper2/202406_modelruns/30years/SL_daily/1landcover_25percent/mustang_climate_cut/'\n",
    "# \n",
    "# directory_path =            '/Users/varyabazilova/Desktop/paper2/202406_modelruns/30years/2landcover/mustang_climate_cut'\n",
    "# folder = '/Users/varyabazilova/Desktop/paper2/202406_modelruns/30years/SL_daily/2landcover_25percent/mustang_climate_cut'\n",
    "\n",
    "\n",
    "# directory_path =            '/Users/varyabazilova/Desktop/paper2/202406_modelruns/30years/3landcover/mustang_climate_cut'\n",
    "# folder = '/Users/varyabazilova/Desktop/paper2/202406_modelruns/30years/SL_daily/3landcover_25percent/mustang_climate_cut'\n",
    "# \n",
    "\n",
    "# directory_path =            '/Users/varyabazilova/Desktop/paper2/202406_modelruns/30years/4landcover/mustang_climate_cut'\n",
    "# folder = '/Users/varyabazilova/Desktop/paper2/202406_modelruns/30years/SL_daily/4landcover_25percent/mustang_climate_cut'\n",
    "\n",
    "\n",
    "# all the files and model run outputs have been moved to the external hard drive \n",
    "\n",
    "directory_path =            '/Users/varyabazilova/Desktop/paper2/202406_modelruns/30years/4landcover/mustang_climate_cut'\n",
    "folder =                    '/Volumes/Extreme SSD/202409_paper2_modelruns/30years/SL_once/4landcover_mean/mustang_climate_cut'\n",
    "\n",
    "\n",
    "\n",
    "\n",
    "sediment = pd.read_csv(directory_path + '/annual_mean_percentiles_for_sediment_input.csv')[['index', name]].set_index('index')\n"
   ]
  },
  {
   "cell_type": "code",
   "execution_count": 62,
   "id": "a2137db1-676d-46a4-a8c9-221e79448688",
   "metadata": {},
   "outputs": [
    {
     "data": {
      "text/plain": [
       "Index(['annual_mean_Qstl_m3'], dtype='object')"
      ]
     },
     "execution_count": 62,
     "metadata": {},
     "output_type": "execute_result"
    }
   ],
   "source": [
    "sediment.columns"
   ]
  },
  {
   "cell_type": "code",
   "execution_count": 63,
   "id": "00649a5f-de38-4064-9ac2-d14da7511f73",
   "metadata": {},
   "outputs": [],
   "source": [
    "def update_parameter_file(folder, index, paramfile, sediment_value):\n",
    "    folder_name = [folder_name for folder_name in os.listdir(folder) if folder_name.endswith(index)][0]  # Extract folder name\n",
    "    folder_path = os.path.join(folder, folder_name)\n",
    "    paramfile_path = os.path.join(folder_path, paramfile)\n",
    "    with open(paramfile_path, 'r') as file:\n",
    "        lines = file.readlines()\n",
    "\n",
    "    for i, line in enumerate(lines):\n",
    "        if line.startswith(\"sediment_input:\"):\n",
    "            # Update the value for \"sediment_input\"\n",
    "            lines[i] = f\"sediment_input:{sediment_value}\\n\"\n",
    "            break\n",
    "\n",
    "    # Write the updated lines back to the parameter file\n",
    "    with open(paramfile_path, 'w') as file:\n",
    "        file.writelines(lines)\n",
    "\n",
    "\n",
    "\n",
    "\n",
    "paramfile = 'parameters.par'  # Parameter file name\n",
    "\n",
    "# df1 = pd.DataFrame({\"value\": [10, 20, 30]}, index=[\"12b\", \"14a\", \"16c\"])\n",
    "df = sediment\n",
    "\n",
    "\n",
    "for index in df.index:\n",
    "    # sediment_value = df1.loc[index, \"annual_mean_Qstl_m3_day\"]\n",
    "    # sediment_value = df1.loc[index, \"annual_25percent_Qstl_m3\"]\n",
    "    # sediment_value = df1.loc[index, \"annual_50percent_Qstl_m3\"]\n",
    "    sediment_value = df.loc[index, name]\n",
    "    update_parameter_file(folder, index, paramfile, sediment_value)\n",
    "\n",
    "\n",
    "\n"
   ]
  },
  {
   "cell_type": "code",
   "execution_count": null,
   "id": "bb01a89f-114d-4347-ad7e-1d1f242bb889",
   "metadata": {},
   "outputs": [],
   "source": []
  },
  {
   "cell_type": "code",
   "execution_count": null,
   "id": "9dddb697-f533-49eb-be11-0db6bfa330d4",
   "metadata": {},
   "outputs": [],
   "source": []
  },
  {
   "cell_type": "code",
   "execution_count": null,
   "id": "4cb6dc21-9f6c-4c2e-b18e-1f6864d7e876",
   "metadata": {},
   "outputs": [],
   "source": []
  },
  {
   "cell_type": "markdown",
   "id": "ae560a25-c771-4de6-98fb-d0915bb42c41",
   "metadata": {},
   "source": []
  }
 ],
 "metadata": {
  "kernelspec": {
   "display_name": "Python [conda env:sedcas] *",
   "language": "python",
   "name": "conda-env-sedcas-py"
  },
  "language_info": {
   "codemirror_mode": {
    "name": "ipython",
    "version": 3
   },
   "file_extension": ".py",
   "mimetype": "text/x-python",
   "name": "python",
   "nbconvert_exporter": "python",
   "pygments_lexer": "ipython3",
   "version": "3.9.7"
  }
 },
 "nbformat": 4,
 "nbformat_minor": 5
}
