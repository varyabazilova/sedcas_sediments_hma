{
 "cells": [
  {
   "cell_type": "code",
   "execution_count": 1,
   "id": "c0ddcefe-caaa-45be-861d-fd264c1a7271",
   "metadata": {},
   "outputs": [],
   "source": [
    "import functions\n",
    "\n",
    "import pandas as pd\n",
    "import os"
   ]
  },
  {
   "cell_type": "markdown",
   "id": "f0cbef7a-92ce-4c32-a904-4c023cae31cb",
   "metadata": {},
   "source": [
    "# update for daily input (small landslide once a day)"
   ]
  },
  {
   "cell_type": "code",
   "execution_count": 11,
   "id": "844a2a5b-2d2b-48ca-ac54-cd6fe8b7c02d",
   "metadata": {},
   "outputs": [],
   "source": [
    "# define value to update the sediment input parameter\n",
    "name = 'annual_mean_Qstl_m3_day'\n",
    "\n",
    "# folder with the climate data and thee parameter files \n",
    "\n",
    "\n",
    "# directory_path =       '/Users/varyabazilova/Desktop/paper2/202406_modelruns/30years/1landcover/mustang_climate_cut'\n",
    "# folder = '/Users/varyabazilova/Desktop/paper2/202406_modelruns/30years/SL_daily/1landcover_mean/mustang_climate_cut/'\n",
    "# \n",
    "# directory_path =       '/Users/varyabazilova/Desktop/paper2/202406_modelruns/30years/2landcover/mustang_climate_cut'\n",
    "# folder = '/Users/varyabazilova/Desktop/paper2/202406_modelruns/30years/SL_daily/2landcover_mean/mustang_climate_cut'\n",
    "\n",
    "\n",
    "# directory_path =       '/Users/varyabazilova/Desktop/paper2/202406_modelruns/30years/3landcover/mustang_climate_cut'\n",
    "# folder = '/Users/varyabazilova/Desktop/paper2/202406_modelruns/30years/SL_daily/3landcover_mean/mustang_climate_cut'\n",
    "\n",
    "\n",
    "directory_path =       '/Users/varyabazilova/Desktop/paper2/202406_modelruns/30years/4landcover/mustang_climate_cut'\n",
    "folder = '/Users/varyabazilova/Desktop/paper2/202406_modelruns/30years/SL_daily/4landcover_mean/mustang_climate_cut'\n",
    "\n",
    "\n",
    "\n",
    "\n",
    "sediment = pd.read_csv(directory_path + '/annual_mean_percentiles_for_sediment_input.csv')[['index', name]].set_index('index')\n"
   ]
  },
  {
   "cell_type": "code",
   "execution_count": 12,
   "id": "a2137db1-676d-46a4-a8c9-221e79448688",
   "metadata": {},
   "outputs": [
    {
     "data": {
      "text/plain": [
       "array(['36b', '53d', '53c', '35c', '35d', '76d', '13b', '55a', '76c',\n",
       "       '33a', '59c', '59d', '75b', '35b', '53b', '36d', '36c', '56a',\n",
       "       '75c', '59b', '75d', '13d', '76b', '13c', '79a', '42b', '24b',\n",
       "       '87c', '87d', '68a', '67b', '64d', '48b', '64c', '47a', '24d',\n",
       "       '88a', '24c', '87b', '42c', '42d', '64b', '48d', '48c', '22a',\n",
       "       '67c', '44a', '67d', '23b', '46d', '46c', '65a', '69c', '45b',\n",
       "       '69d', '86a', '63d', '63c', '26a', '60b', '45c', '66a', '45d',\n",
       "       '69b', '46b', '23d', '49a', '23c', '60c', '43a', '85a', '60d',\n",
       "       '63b', '25a', '32c', '58a', '57b', '32d', '78b', '54d', '77a',\n",
       "       '54c', '34a', '38d', '14b', '38c', '78d', '54b', '78c', '74a',\n",
       "       '57c', '32b', '57d', '38b', '14d', '37a', '14c', '55b', '79d',\n",
       "       '79c', '13a', '56c', '75a', '56d', '33b', '36a', '59a', '33c',\n",
       "       '33d', '56b', '55d', '79b', '55c', '76a', '35a', '53a', '67a',\n",
       "       '44c', '68b', '44d', '22d', '47b', '22c', '48a', '42a', '88c',\n",
       "       '24a', '88d', '47d', '22b', '64a', '47c', '68c', '68d', '44b',\n",
       "       '87a', '88b', '25d', '86b', '25c', '85d', '60a', '43c', '85c',\n",
       "       '43d', '26b', '49d', '65b', '23a', '49c', '45a', '66c', '66d',\n",
       "       '85b', '26c', '26d', '43b', '86c', '25b', '86d', '63a', '69a',\n",
       "       '66b', '49b', '65d', '46a', '65c', '34b', '37d', '37c', '14a',\n",
       "       '74c', '57a', '74d', '58b', '77b', '78a', '37b', '38a', '34c',\n",
       "       '34d', '77d', '77c', '54a', '58c', '32a', '74b', '58d'],\n",
       "      dtype=object)"
      ]
     },
     "execution_count": 12,
     "metadata": {},
     "output_type": "execute_result"
    }
   ],
   "source": [
    "sediment.index.values"
   ]
  },
  {
   "cell_type": "code",
   "execution_count": 13,
   "id": "00649a5f-de38-4064-9ac2-d14da7511f73",
   "metadata": {},
   "outputs": [],
   "source": [
    "def update_parameter_file(folder, index, paramfile, sediment_value):\n",
    "    folder_name = [folder_name for folder_name in os.listdir(folder) if folder_name.endswith(index)][0]  # Extract folder name\n",
    "    folder_path = os.path.join(folder, folder_name)\n",
    "    paramfile_path = os.path.join(folder_path, paramfile)\n",
    "    with open(paramfile_path, 'r') as file:\n",
    "        lines = file.readlines()\n",
    "\n",
    "    for i, line in enumerate(lines):\n",
    "        if line.startswith(\"sediment_input:\"):\n",
    "            # Update the value for \"sediment_input\"\n",
    "            lines[i] = f\"sediment_input:{sediment_value}\\n\"\n",
    "            break\n",
    "\n",
    "    # Write the updated lines back to the parameter file\n",
    "    with open(paramfile_path, 'w') as file:\n",
    "        file.writelines(lines)\n",
    "\n",
    "\n",
    "\n",
    "\n",
    "paramfile = 'parameters.par'  # Parameter file name\n",
    "\n",
    "# df1 = pd.DataFrame({\"value\": [10, 20, 30]}, index=[\"12b\", \"14a\", \"16c\"])\n",
    "df = sediment\n",
    "\n",
    "\n",
    "for index in df.index:\n",
    "    # sediment_value = df1.loc[index, \"annual_mean_Qstl_m3_day\"]\n",
    "    # sediment_value = df1.loc[index, \"annual_25percent_Qstl_m3\"]\n",
    "    # sediment_value = df1.loc[index, \"annual_50percent_Qstl_m3\"]\n",
    "    sediment_value = df.loc[index, name]\n",
    "    update_parameter_file(folder, index, paramfile, sediment_value)\n",
    "\n",
    "\n",
    "\n"
   ]
  },
  {
   "cell_type": "code",
   "execution_count": null,
   "id": "bb01a89f-114d-4347-ad7e-1d1f242bb889",
   "metadata": {},
   "outputs": [],
   "source": []
  },
  {
   "cell_type": "code",
   "execution_count": null,
   "id": "9dddb697-f533-49eb-be11-0db6bfa330d4",
   "metadata": {},
   "outputs": [],
   "source": []
  },
  {
   "cell_type": "code",
   "execution_count": null,
   "id": "4cb6dc21-9f6c-4c2e-b18e-1f6864d7e876",
   "metadata": {},
   "outputs": [],
   "source": []
  },
  {
   "cell_type": "markdown",
   "id": "ae560a25-c771-4de6-98fb-d0915bb42c41",
   "metadata": {},
   "source": []
  }
 ],
 "metadata": {
  "kernelspec": {
   "display_name": "Python [conda env:sedcas] *",
   "language": "python",
   "name": "conda-env-sedcas-py"
  },
  "language_info": {
   "codemirror_mode": {
    "name": "ipython",
    "version": 3
   },
   "file_extension": ".py",
   "mimetype": "text/x-python",
   "name": "python",
   "nbconvert_exporter": "python",
   "pygments_lexer": "ipython3",
   "version": "3.9.7"
  }
 },
 "nbformat": 4,
 "nbformat_minor": 5
}
