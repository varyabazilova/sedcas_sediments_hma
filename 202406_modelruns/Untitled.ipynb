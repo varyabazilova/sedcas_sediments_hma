{
 "cells": [
  {
   "cell_type": "code",
   "execution_count": 11,
   "id": "f9a5ee4f-19bd-42ed-baa9-190dfa7f3bd1",
   "metadata": {},
   "outputs": [
    {
     "data": {
      "image/png": "[encoded data removed]",
      "text/plain": [
       "<Figure size 1152x288 with 4 Axes>"
      ]
     },
     "metadata": {
      "needs_background": "light"
     },
     "output_type": "display_data"
    }
   ],
   "source": [
    "import matplotlib.pyplot as plt\n",
    "import matplotlib.patches as patches\n",
    "\n",
    "# Define colors for each section\n",
    "colors = {\n",
    "    \"veg\": \"green\",\n",
    "    \"bedrock\": \"gray\",\n",
    "    \"ice\": \"lightblue\"\n",
    "}\n",
    "\n",
    "# Titles and labels for each panel\n",
    "titles = [\"1\", \"2\", \"3\", \"4\"]\n",
    "labels = [\n",
    "    \"Veg., Ice & Bedrock\",\n",
    "    \"Less Ice, More Bedrock\",\n",
    "    \"Less Ice, More Veg.\",\n",
    "    \"No Ice\\n(Default)\"\n",
    "]\n",
    "\n",
    "# Configuration for each panel\n",
    "configs_final = [\n",
    "    {\"veg\": 0.4, \"bedrock\": 0.4, \"glacier\": 0.2},  # Panel 1\n",
    "    {\"veg\": 0.4, \"bedrock\": 0.5, \"glacier\": 0.1},  # Panel 2\n",
    "    {\"veg\": 0.5, \"bedrock\": 0.4, \"glacier\": 0.1},  # Panel 3\n",
    "    {\"veg\": 0.4, \"bedrock\": 0.6, \"glacier\": 0.0}   # Panel 4\n",
    "]\n",
    "\n",
    "# Create the figure and axes\n",
    "fig, axes = plt.subplots(1, 4, figsize=(16, 4))\n",
    "\n",
    "# Generate each panel\n",
    "for ax, config, title, label in zip(axes, configs_final, titles, labels):\n",
    "    ax.set_xlim(0, 1)\n",
    "    ax.set_ylim(0, 1)\n",
    "    ax.axis(\"off\")\n",
    "\n",
    "    # Draw vegetation rectangle\n",
    "    ax.add_patch(patches.Rectangle((0, 0), config[\"veg\"], 1, color=colors[\"veg\"]))\n",
    "    \n",
    "    # Draw bedrock rectangle next to vegetation\n",
    "    ax.add_patch(patches.Rectangle((config[\"veg\"], 0), config[\"bedrock\"], 1, color=colors[\"bedrock\"]))\n",
    "    \n",
    "    # Draw glacier ellipse if present\n",
    "    if config[\"glacier\"] > 0:\n",
    "        ax.add_patch(patches.Ellipse(\n",
    "            (config[\"veg\"] + config[\"bedrock\"] - config[\"glacier\"]/2, 0.5),\n",
    "            config[\"glacier\"], 0.5, color=colors[\"ice\"]\n",
    "        ))\n",
    "    \n",
    "    # Add titles and labels\n",
    "    ax.set_title(f\"Panel {title}\", fontsize=14)\n",
    "    ax.text(0.5, -0.1, label, ha='center', fontsize=12)\n",
    "\n",
    "# Adjust layout and display the plot\n",
    "plt.tight_layout()\n",
    "plt.show()\n"
   ]
  },
  {
   "cell_type": "code",
   "execution_count": null,
   "id": "b3a7275a-3dcf-4f5b-bdb8-42a4ab75b8d9",
   "metadata": {},
   "outputs": [],
   "source": []
  },
  {
   "cell_type": "code",
   "execution_count": null,
   "id": "3aa843ea-1e3a-4c22-9247-dd4674c0e2bc",
   "metadata": {},
   "outputs": [],
   "source": []
  },
  {
   "cell_type": "code",
   "execution_count": null,
   "id": "b5bb0ca3-7774-4bc8-b7d4-0fa02c46b743",
   "metadata": {},
   "outputs": [],
   "source": []
  },
  {
   "cell_type": "code",
   "execution_count": 2,
   "id": "03270ebd-2dae-4188-b4dd-bee52c6f95c5",
   "metadata": {},
   "outputs": [],
   "source": [
    "import pandas as pd\n",
    "import matplotlib.pyplot as plt"
   ]
  },
  {
   "cell_type": "code",
   "execution_count": 6,
   "id": "554b9da6-c0e4-475f-8f1e-623ab5e91dfe",
   "metadata": {},
   "outputs": [
    {
     "data": {
      "text/html": [
       "<div>\n",
       "<style scoped>\n",
       "    .dataframe tbody tr th:only-of-type {\n",
       "        vertical-align: middle;\n",
       "    }\n",
       "\n",
       "    .dataframe tbody tr th {\n",
       "        vertical-align: top;\n",
       "    }\n",
       "\n",
       "    .dataframe thead th {\n",
       "        text-align: right;\n",
       "    }\n",
       "</style>\n",
       "<table border=\"1\" class=\"dataframe\">\n",
       "  <thead>\n",
       "    <tr style=\"text-align: right;\">\n",
       "      <th></th>\n",
       "      <th>D</th>\n",
       "      <th>Q</th>\n",
       "      <th>Qs</th>\n",
       "      <th>Qss</th>\n",
       "      <th>Vw</th>\n",
       "      <th>snow</th>\n",
       "      <th>snowacc</th>\n",
       "      <th>PET</th>\n",
       "      <th>AET</th>\n",
       "      <th>Pr</th>\n",
       "      <th>Ta</th>\n",
       "      <th>glacier_melt</th>\n",
       "    </tr>\n",
       "  </thead>\n",
       "  <tbody>\n",
       "    <tr>\n",
       "      <th>0</th>\n",
       "      <td>1989-09-01 00:00:00</td>\n",
       "      <td>0.000000</td>\n",
       "      <td>0.0</td>\n",
       "      <td>0.000000</td>\n",
       "      <td>0.000000</td>\n",
       "      <td>0.0</td>\n",
       "      <td>0.0</td>\n",
       "      <td>3.304293</td>\n",
       "      <td>0.000000</td>\n",
       "      <td>0.009842</td>\n",
       "      <td>3.654126</td>\n",
       "      <td>0.0</td>\n",
       "    </tr>\n",
       "    <tr>\n",
       "      <th>1</th>\n",
       "      <td>1989-09-01 01:00:00</td>\n",
       "      <td>0.000367</td>\n",
       "      <td>0.0</td>\n",
       "      <td>0.000367</td>\n",
       "      <td>0.020718</td>\n",
       "      <td>0.0</td>\n",
       "      <td>0.0</td>\n",
       "      <td>0.000000</td>\n",
       "      <td>0.000000</td>\n",
       "      <td>0.021085</td>\n",
       "      <td>4.217486</td>\n",
       "      <td>0.0</td>\n",
       "    </tr>\n",
       "    <tr>\n",
       "      <th>2</th>\n",
       "      <td>1989-09-01 02:00:00</td>\n",
       "      <td>0.000590</td>\n",
       "      <td>0.0</td>\n",
       "      <td>0.000590</td>\n",
       "      <td>0.044152</td>\n",
       "      <td>0.0</td>\n",
       "      <td>0.0</td>\n",
       "      <td>0.089677</td>\n",
       "      <td>0.008311</td>\n",
       "      <td>0.032336</td>\n",
       "      <td>4.998886</td>\n",
       "      <td>0.0</td>\n",
       "    </tr>\n",
       "    <tr>\n",
       "      <th>3</th>\n",
       "      <td>1989-09-01 03:00:00</td>\n",
       "      <td>0.000005</td>\n",
       "      <td>0.0</td>\n",
       "      <td>0.000005</td>\n",
       "      <td>0.050061</td>\n",
       "      <td>0.0</td>\n",
       "      <td>0.0</td>\n",
       "      <td>0.351324</td>\n",
       "      <td>0.034852</td>\n",
       "      <td>0.040766</td>\n",
       "      <td>6.196086</td>\n",
       "      <td>0.0</td>\n",
       "    </tr>\n",
       "    <tr>\n",
       "      <th>4</th>\n",
       "      <td>1989-09-01 04:00:00</td>\n",
       "      <td>0.000008</td>\n",
       "      <td>0.0</td>\n",
       "      <td>0.000008</td>\n",
       "      <td>0.053671</td>\n",
       "      <td>0.0</td>\n",
       "      <td>0.0</td>\n",
       "      <td>0.734589</td>\n",
       "      <td>0.025902</td>\n",
       "      <td>0.029519</td>\n",
       "      <td>6.960796</td>\n",
       "      <td>0.0</td>\n",
       "    </tr>\n",
       "    <tr>\n",
       "      <th>...</th>\n",
       "      <td>...</td>\n",
       "      <td>...</td>\n",
       "      <td>...</td>\n",
       "      <td>...</td>\n",
       "      <td>...</td>\n",
       "      <td>...</td>\n",
       "      <td>...</td>\n",
       "      <td>...</td>\n",
       "      <td>...</td>\n",
       "      <td>...</td>\n",
       "      <td>...</td>\n",
       "      <td>...</td>\n",
       "    </tr>\n",
       "    <tr>\n",
       "      <th>289987</th>\n",
       "      <td>2022-09-30 19:00:00</td>\n",
       "      <td>0.005273</td>\n",
       "      <td>0.0</td>\n",
       "      <td>0.005273</td>\n",
       "      <td>1.233932</td>\n",
       "      <td>0.0</td>\n",
       "      <td>0.0</td>\n",
       "      <td>3.797599</td>\n",
       "      <td>0.003690</td>\n",
       "      <td>0.003714</td>\n",
       "      <td>1.346846</td>\n",
       "      <td>0.0</td>\n",
       "    </tr>\n",
       "    <tr>\n",
       "      <th>289988</th>\n",
       "      <td>2022-09-30 20:00:00</td>\n",
       "      <td>0.005251</td>\n",
       "      <td>0.0</td>\n",
       "      <td>0.005251</td>\n",
       "      <td>1.228690</td>\n",
       "      <td>0.0</td>\n",
       "      <td>0.0</td>\n",
       "      <td>3.777321</td>\n",
       "      <td>0.001229</td>\n",
       "      <td>0.001237</td>\n",
       "      <td>1.188496</td>\n",
       "      <td>0.0</td>\n",
       "    </tr>\n",
       "    <tr>\n",
       "      <th>289989</th>\n",
       "      <td>2022-09-30 21:00:00</td>\n",
       "      <td>0.005228</td>\n",
       "      <td>0.0</td>\n",
       "      <td>0.005228</td>\n",
       "      <td>1.223461</td>\n",
       "      <td>0.0</td>\n",
       "      <td>0.0</td>\n",
       "      <td>3.745847</td>\n",
       "      <td>0.000000</td>\n",
       "      <td>0.000000</td>\n",
       "      <td>0.942856</td>\n",
       "      <td>0.0</td>\n",
       "    </tr>\n",
       "    <tr>\n",
       "      <th>289990</th>\n",
       "      <td>2022-09-30 22:00:00</td>\n",
       "      <td>0.005206</td>\n",
       "      <td>0.0</td>\n",
       "      <td>0.005206</td>\n",
       "      <td>1.218263</td>\n",
       "      <td>0.0</td>\n",
       "      <td>0.0</td>\n",
       "      <td>3.712176</td>\n",
       "      <td>0.001229</td>\n",
       "      <td>0.001237</td>\n",
       "      <td>0.680256</td>\n",
       "      <td>0.0</td>\n",
       "    </tr>\n",
       "    <tr>\n",
       "      <th>289991</th>\n",
       "      <td>2022-09-30 23:00:00</td>\n",
       "      <td>0.005184</td>\n",
       "      <td>0.0</td>\n",
       "      <td>0.005184</td>\n",
       "      <td>1.213087</td>\n",
       "      <td>0.0</td>\n",
       "      <td>0.0</td>\n",
       "      <td>3.711659</td>\n",
       "      <td>0.001229</td>\n",
       "      <td>0.001237</td>\n",
       "      <td>0.676226</td>\n",
       "      <td>0.0</td>\n",
       "    </tr>\n",
       "  </tbody>\n",
       "</table>\n",
       "<p>289992 rows × 12 columns</p>\n",
       "</div>"
      ],
      "text/plain": [
       "                          D         Q   Qs       Qss        Vw  snow  snowacc  \\\n",
       "0       1989-09-01 00:00:00  0.000000  0.0  0.000000  0.000000   0.0      0.0   \n",
       "1       1989-09-01 01:00:00  0.000367  0.0  0.000367  0.020718   0.0      0.0   \n",
       "2       1989-09-01 02:00:00  0.000590  0.0  0.000590  0.044152   0.0      0.0   \n",
       "3       1989-09-01 03:00:00  0.000005  0.0  0.000005  0.050061   0.0      0.0   \n",
       "4       1989-09-01 04:00:00  0.000008  0.0  0.000008  0.053671   0.0      0.0   \n",
       "...                     ...       ...  ...       ...       ...   ...      ...   \n",
       "289987  2022-09-30 19:00:00  0.005273  0.0  0.005273  1.233932   0.0      0.0   \n",
       "289988  2022-09-30 20:00:00  0.005251  0.0  0.005251  1.228690   0.0      0.0   \n",
       "289989  2022-09-30 21:00:00  0.005228  0.0  0.005228  1.223461   0.0      0.0   \n",
       "289990  2022-09-30 22:00:00  0.005206  0.0  0.005206  1.218263   0.0      0.0   \n",
       "289991  2022-09-30 23:00:00  0.005184  0.0  0.005184  1.213087   0.0      0.0   \n",
       "\n",
       "             PET       AET        Pr        Ta  glacier_melt  \n",
       "0       3.304293  0.000000  0.009842  3.654126           0.0  \n",
       "1       0.000000  0.000000  0.021085  4.217486           0.0  \n",
       "2       0.089677  0.008311  0.032336  4.998886           0.0  \n",
       "3       0.351324  0.034852  0.040766  6.196086           0.0  \n",
       "4       0.734589  0.025902  0.029519  6.960796           0.0  \n",
       "...          ...       ...       ...       ...           ...  \n",
       "289987  3.797599  0.003690  0.003714  1.346846           0.0  \n",
       "289988  3.777321  0.001229  0.001237  1.188496           0.0  \n",
       "289989  3.745847  0.000000  0.000000  0.942856           0.0  \n",
       "289990  3.712176  0.001229  0.001237  0.680256           0.0  \n",
       "289991  3.711659  0.001229  0.001237  0.676226           0.0  \n",
       "\n",
       "[289992 rows x 12 columns]"
      ]
     },
     "execution_count": 6,
     "metadata": {},
     "output_type": "execute_result"
    }
   ],
   "source": [
    "testfile = pd.read_csv('/Users/varyabazilova/Desktop/paper2/202406_modelruns/30years/TL_data/5landcover/langtang_climate_cut/12a/Hydro.out')\n",
    "testfile"
   ]
  },
  {
   "cell_type": "code",
   "execution_count": 7,
   "id": "b0e9fc40-6c82-4bca-b212-997ab458dca1",
   "metadata": {},
   "outputs": [
    {
     "data": {
      "text/plain": [
       "<AxesSubplot:>"
      ]
     },
     "execution_count": 7,
     "metadata": {},
     "output_type": "execute_result"
    },
    {
     "data": {
      "image/png": "[encoded data removed]",
      "text/plain": [
       "<Figure size 432x288 with 1 Axes>"
      ]
     },
     "metadata": {
      "needs_background": "light"
     },
     "output_type": "display_data"
    }
   ],
   "source": [
    "testfile.glacier_melt.plot()"
   ]
  },
  {
   "cell_type": "code",
   "execution_count": 16,
   "id": "94a28f92-2b35-44b0-9808-80a7277eff3a",
   "metadata": {},
   "outputs": [],
   "source": [
    "landcover1= pd.read_csv('/Volumes/Extreme SSD/202409_paper2_modelruns/30years/SL_daily/1landcover_40percent/langtang_climate_cut/22b/Hydro.out')\n",
    "landcover1_test = pd.read_csv('/Users/varyabazilova/Desktop/paper2/202406_modelruns/30years/TL_data/1landcover/langtang_climate_cut/12a/Hydro.out')\n",
    "# landcover2= pd.read_csv('/Volumes/Extreme SSD/202409_paper2_modelruns/30years/SL_daily/2landcover_40percent/langtang_climate_cut/12a/Hydro.out')\n",
    "# landcover3= pd.read_csv('/Volumes/Extreme SSD/202409_paper2_modelruns/30years/SL_daily/3landcover_40percent/langtang_climate_cut/12a/Hydro.out')\n",
    "# landcover4= pd.read_csv('/Volumes/Extreme SSD/202409_paper2_modelruns/30years/SL_daily/4landcover_40percent/langtang_climate_cut/12a/Hydro.out')\n"
   ]
  },
  {
   "cell_type": "code",
   "execution_count": 21,
   "id": "980ea472-f1dc-42a3-b265-e8fefba1f1d5",
   "metadata": {},
   "outputs": [
    {
     "data": {
      "text/plain": [
       "<matplotlib.legend.Legend at 0x7fbb885d55b0>"
      ]
     },
     "execution_count": 21,
     "metadata": {},
     "output_type": "execute_result"
    },
    {
     "data": {
      "image/png": "[encoded data removed]",
      "text/plain": [
       "<Figure size 720x360 with 1 Axes>"
      ]
     },
     "metadata": {
      "needs_background": "light"
     },
     "output_type": "display_data"
    }
   ],
   "source": [
    "fig = plt.figure(figsize=(10, 5), layout = 'tight')\n",
    "\n",
    "landcover1_test.glacier_melt.plot(label = 'new ice thickness')\n",
    "landcover1.glacier_melt.plot(label = 'old')\n",
    "plt.legend()"
   ]
  },
  {
   "cell_type": "code",
   "execution_count": null,
   "id": "522b31f5-d23f-436e-8708-9cfb35630e05",
   "metadata": {},
   "outputs": [],
   "source": []
  }
 ],
 "metadata": {
  "kernelspec": {
   "display_name": "Python [conda env:sedcas]",
   "language": "python",
   "name": "conda-env-sedcas-py"
  },
  "language_info": {
   "codemirror_mode": {
    "name": "ipython",
    "version": 3
   },
   "file_extension": ".py",
   "mimetype": "text/x-python",
   "name": "python",
   "nbconvert_exporter": "python",
   "pygments_lexer": "ipython3",
   "version": "3.9.7"
  }
 },
 "nbformat": 4,
 "nbformat_minor": 5
}
