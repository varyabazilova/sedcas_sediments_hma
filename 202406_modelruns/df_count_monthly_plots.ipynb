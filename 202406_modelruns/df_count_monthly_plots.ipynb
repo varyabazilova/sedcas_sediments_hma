{
 "cells": [
  {
   "cell_type": "code",
   "execution_count": 1,
   "id": "f847b773-c1bf-4be6-b958-6698040bc5b2",
   "metadata": {},
   "outputs": [],
   "source": [
    "import pandas as pd\n",
    "import seaborn as sns\n",
    "import matplotlib.pyplot as plt\n",
    "import os \n",
    "import functions"
   ]
  },
  {
   "cell_type": "markdown",
   "id": "140d4925-586b-4cf9-aaa4-e51e2a8caeb2",
   "metadata": {},
   "source": [
    "# input daily"
   ]
  },
  {
   "cell_type": "code",
   "execution_count": 2,
   "id": "5bb5eec5-dbf8-4a64-ac9b-6ed55bfbfcd7",
   "metadata": {},
   "outputs": [
    {
     "data": {
      "text/plain": [
       "\"%%time\\nlandcover_n = 4\\nlandcover = f'landcover{landcover_n}'\\nlocation = 'mustang'\\n\\n# folder_path = f'/Users/varyabazilova/Desktop/paper2/202406_modelruns/30years/SL_once/{landcover_n}landcover_mean/{location}_climate_cut'\\n\\nfolder_path = f'/Volumes/Extreme SSD/202409_paper2_modelruns/30years/SL_daily/{landcover_n}landcover_25percent/{location}_climate_cut'\\nelevation = pd.read_csv(f'/Users/varyabazilova/Desktop/paper2/downscaling_simple/coordinates_and_elevation_with_labels_{location}.csv')[['cellnr2','band_data']] \\n\\ncolumn = 'dfs'\\nfreq = 'month'\\n\\nresult_df = pd.DataFrame()\\n\\n\\n# Iterate over the files in the folders\\nfor folder_name in os.listdir(folder_path):\\n    # skip all csvs and . files\\n    if folder_name.endswith('.csv'):\\n        continue\\n    if folder_name.startswith('.'):\\n        continue \\n    \\n    file_path = os.path.join(folder_path, folder_name, 'Sediment.out') #create a path to file \\n    \\n    if os.path.isfile(file_path): #check if its there \\n        # read file \\n        output_df = pd.read_csv(file_path)\\n        # count dfs per given time \\n        output_df = functions.count_dfs_per_time(output_df, column, freq)\\n        \\n        # take the COUNT column \\n        name_column = output_df['count']\\n        # rename the columns \\n        column_name = f'{column}_{folder_name}'\\n        result_df[column_name] = name_column\\n        result_df.columns = [col[-3:] for col in result_df.columns]\\n\\n\\nannaul_df_count = functions.add_elevation_to_df_count(result_df, elevation, freq)\\n\\n\\n# output = '/Users/varyabazilova/Desktop/paper2/202406_modelruns/30years/SL_once/output_mean_annual/'\\noutput = '/Users/varyabazilova/Desktop/paper2/202406_modelruns/30years/SL_daily/output_25percent/'\\n# annaul_df_count.to_csv(output + f'{location}_monthly_df_count_25percent_{landcover}.csv')\\n\\n\""
      ]
     },
     "execution_count": 2,
     "metadata": {},
     "output_type": "execute_result"
    }
   ],
   "source": [
    "'''%%time\n",
    "landcover_n = 4\n",
    "landcover = f'landcover{landcover_n}'\n",
    "location = 'mustang'\n",
    "\n",
    "# folder_path = f'/Users/varyabazilova/Desktop/paper2/202406_modelruns/30years/SL_once/{landcover_n}landcover_mean/{location}_climate_cut'\n",
    "\n",
    "folder_path = f'/Volumes/Extreme SSD/202409_paper2_modelruns/30years/SL_daily/{landcover_n}landcover_25percent/{location}_climate_cut'\n",
    "elevation = pd.read_csv(f'/Users/varyabazilova/Desktop/paper2/downscaling_simple/coordinates_and_elevation_with_labels_{location}.csv')[['cellnr2','band_data']] \n",
    "\n",
    "column = 'dfs'\n",
    "freq = 'month'\n",
    "\n",
    "result_df = pd.DataFrame()\n",
    "\n",
    "\n",
    "# Iterate over the files in the folders\n",
    "for folder_name in os.listdir(folder_path):\n",
    "    # skip all csvs and . files\n",
    "    if folder_name.endswith('.csv'):\n",
    "        continue\n",
    "    if folder_name.startswith('.'):\n",
    "        continue \n",
    "    \n",
    "    file_path = os.path.join(folder_path, folder_name, 'Sediment.out') #create a path to file \n",
    "    \n",
    "    if os.path.isfile(file_path): #check if its there \n",
    "        # read file \n",
    "        output_df = pd.read_csv(file_path)\n",
    "        # count dfs per given time \n",
    "        output_df = functions.count_dfs_per_time(output_df, column, freq)\n",
    "        \n",
    "        # take the COUNT column \n",
    "        name_column = output_df['count']\n",
    "        # rename the columns \n",
    "        column_name = f'{column}_{folder_name}'\n",
    "        result_df[column_name] = name_column\n",
    "        result_df.columns = [col[-3:] for col in result_df.columns]\n",
    "\n",
    "\n",
    "annaul_df_count = functions.add_elevation_to_df_count(result_df, elevation, freq)\n",
    "\n",
    "\n",
    "# output = '/Users/varyabazilova/Desktop/paper2/202406_modelruns/30years/SL_once/output_mean_annual/'\n",
    "output = '/Users/varyabazilova/Desktop/paper2/202406_modelruns/30years/SL_daily/output_25percent/'\n",
    "# annaul_df_count.to_csv(output + f'{location}_monthly_df_count_25percent_{landcover}.csv')\n",
    "\n",
    "'''"
   ]
  },
  {
   "cell_type": "code",
   "execution_count": null,
   "id": "55411061-7611-4fa9-ab87-6200fb7ec75f",
   "metadata": {},
   "outputs": [],
   "source": []
  },
  {
   "cell_type": "markdown",
   "id": "5142de41-b6cf-4c07-b59c-a46a7b64996a",
   "metadata": {},
   "source": [
    "# input once per year"
   ]
  },
  {
   "cell_type": "code",
   "execution_count": 3,
   "id": "887ca17b-34b5-4558-ad0b-0de6341fddb3",
   "metadata": {},
   "outputs": [
    {
     "data": {
      "text/plain": [
       "\"%%time\\nlandcover_n = 4\\nlandcover = f'landcover{landcover_n}'\\nlocation = 'mustang'\\n\\nfolder_path = f'/Users/varyabazilova/Desktop/paper2/202406_modelruns/30years/SL_once/{landcover_n}landcover_mean/{location}_climate_cut'\\nelevation = pd.read_csv(f'/Users/varyabazilova/Desktop/paper2/downscaling_simple/coordinates_and_elevation_with_labels_{location}.csv')[['cellnr2','band_data']] \\n\\ncolumn = 'dfs'\\nfreq = 'month'\\n\\nresult_df = pd.DataFrame()\\n\\n\\n# Iterate over the files in the folders\\nfor folder_name in os.listdir(folder_path):\\n    # skip all csvs and . files\\n    if folder_name.endswith('.csv'):\\n        continue\\n    if folder_name.startswith('.'):\\n        continue \\n    \\n    file_path = os.path.join(folder_path, folder_name, 'Sediment.out') #create a path to file \\n    \\n    if os.path.isfile(file_path): #check if its there \\n        # read file \\n        output_df = pd.read_csv(file_path)\\n        # count dfs per given time \\n        output_df = functions.count_dfs_per_time(output_df, column, freq)\\n        \\n        # take the COUNT column \\n        name_column = output_df['count']\\n        # rename the columns \\n        column_name = f'{column}_{folder_name}'\\n        result_df[column_name] = name_column\\n        result_df.columns = [col[-3:] for col in result_df.columns]\\n\\n\\nannaul_df_count = functions.add_elevation_to_df_count(result_df, elevation, freq)\\n\\n\\noutput = '/Users/varyabazilova/Desktop/paper2/202406_modelruns/30years/SL_once/output_mean_annual/'\\n# annaul_df_count.to_csv(output + f'{location}_monthly_df_count_annualmean_{landcover}.csv')\\n\""
      ]
     },
     "execution_count": 3,
     "metadata": {},
     "output_type": "execute_result"
    }
   ],
   "source": [
    "'''%%time\n",
    "landcover_n = 4\n",
    "landcover = f'landcover{landcover_n}'\n",
    "location = 'mustang'\n",
    "\n",
    "folder_path = f'/Users/varyabazilova/Desktop/paper2/202406_modelruns/30years/SL_once/{landcover_n}landcover_mean/{location}_climate_cut'\n",
    "elevation = pd.read_csv(f'/Users/varyabazilova/Desktop/paper2/downscaling_simple/coordinates_and_elevation_with_labels_{location}.csv')[['cellnr2','band_data']] \n",
    "\n",
    "column = 'dfs'\n",
    "freq = 'month'\n",
    "\n",
    "result_df = pd.DataFrame()\n",
    "\n",
    "\n",
    "# Iterate over the files in the folders\n",
    "for folder_name in os.listdir(folder_path):\n",
    "    # skip all csvs and . files\n",
    "    if folder_name.endswith('.csv'):\n",
    "        continue\n",
    "    if folder_name.startswith('.'):\n",
    "        continue \n",
    "    \n",
    "    file_path = os.path.join(folder_path, folder_name, 'Sediment.out') #create a path to file \n",
    "    \n",
    "    if os.path.isfile(file_path): #check if its there \n",
    "        # read file \n",
    "        output_df = pd.read_csv(file_path)\n",
    "        # count dfs per given time \n",
    "        output_df = functions.count_dfs_per_time(output_df, column, freq)\n",
    "        \n",
    "        # take the COUNT column \n",
    "        name_column = output_df['count']\n",
    "        # rename the columns \n",
    "        column_name = f'{column}_{folder_name}'\n",
    "        result_df[column_name] = name_column\n",
    "        result_df.columns = [col[-3:] for col in result_df.columns]\n",
    "\n",
    "\n",
    "annaul_df_count = functions.add_elevation_to_df_count(result_df, elevation, freq)\n",
    "\n",
    "\n",
    "output = '/Users/varyabazilova/Desktop/paper2/202406_modelruns/30years/SL_once/output_mean_annual/'\n",
    "# annaul_df_count.to_csv(output + f'{location}_monthly_df_count_annualmean_{landcover}.csv')\n",
    "'''\n",
    "\n"
   ]
  },
  {
   "cell_type": "code",
   "execution_count": null,
   "id": "08243641-4b25-4798-bd28-c7213256f0c9",
   "metadata": {},
   "outputs": [],
   "source": []
  },
  {
   "cell_type": "code",
   "execution_count": null,
   "id": "00f31311-3818-4c30-bdcb-cfa6492a49c5",
   "metadata": {},
   "outputs": [],
   "source": []
  },
  {
   "cell_type": "code",
   "execution_count": 4,
   "id": "9845b046-e394-41f7-93e0-5298ee9e82a1",
   "metadata": {},
   "outputs": [],
   "source": [
    "# annaul_df_count"
   ]
  },
  {
   "cell_type": "code",
   "execution_count": 5,
   "id": "210e25bf-b1f2-4542-a8e9-966d80be9d4d",
   "metadata": {},
   "outputs": [],
   "source": [
    "def prepare_dfcount_for_plot(dfcount):\n",
    "    melted = pd.melt(dfcount, id_vars=['D', 'D_year', 'D_month'], var_name='elevation', value_name='dfs_count')\n",
    "    melted['elevation'] = melted['elevation'].str.split('.').str[0].astype(float)\n",
    "    melted['elevation_bin'] = melted.apply(functions.bin_elevation500, axis=1)\n",
    "    melted = melted.sort_values('elevation_bin')\n",
    "    # melted = melted.dropna(subset=['dfs_count'])\n",
    "    return melted \n"
   ]
  },
  {
   "cell_type": "markdown",
   "id": "d92f85de-19af-494b-a997-8fa0b550fe43",
   "metadata": {},
   "source": [
    "# input daily"
   ]
  },
  {
   "cell_type": "code",
   "execution_count": 6,
   "id": "2dcf2fce-b630-46ea-9089-d331fb3e606b",
   "metadata": {},
   "outputs": [
    {
     "ename": "FileNotFoundError",
     "evalue": "[Errno 2] No such file or directory: '/Users/varyabazilova/Desktop/paper2/202406_modelruns/30years/SL_daily/output_mean/langtang_monthly_df_count_annualmean_landcover1.csv'",
     "output_type": "error",
     "traceback": [
      "\u001b[0;31m---------------------------------------------------------------------------\u001b[0m",
      "\u001b[0;31mFileNotFoundError\u001b[0m                         Traceback (most recent call last)",
      "\u001b[0;32m/var/folders/31/xdyntby945q7564txk4rqyh40000gp/T/ipykernel_57886/24938462.py\u001b[0m in \u001b[0;36m<module>\u001b[0;34m\u001b[0m\n\u001b[1;32m      1\u001b[0m \u001b[0mpath\u001b[0m \u001b[0;34m=\u001b[0m \u001b[0;34m'/Users/varyabazilova/Desktop/paper2/202406_modelruns/30years/SL_daily/output_mean/'\u001b[0m\u001b[0;34m\u001b[0m\u001b[0;34m\u001b[0m\u001b[0m\n\u001b[1;32m      2\u001b[0m \u001b[0;34m\u001b[0m\u001b[0m\n\u001b[0;32m----> 3\u001b[0;31m \u001b[0mlangtang1\u001b[0m \u001b[0;34m=\u001b[0m \u001b[0mpd\u001b[0m\u001b[0;34m.\u001b[0m\u001b[0mread_csv\u001b[0m\u001b[0;34m(\u001b[0m\u001b[0mpath\u001b[0m \u001b[0;34m+\u001b[0m \u001b[0;34m'langtang_monthly_df_count_annualmean_landcover1.csv'\u001b[0m\u001b[0;34m,\u001b[0m \u001b[0mindex_col\u001b[0m \u001b[0;34m=\u001b[0m \u001b[0;36m0\u001b[0m\u001b[0;34m)\u001b[0m\u001b[0;34m\u001b[0m\u001b[0;34m\u001b[0m\u001b[0m\n\u001b[0m\u001b[1;32m      4\u001b[0m \u001b[0mlangtang2\u001b[0m \u001b[0;34m=\u001b[0m \u001b[0mpd\u001b[0m\u001b[0;34m.\u001b[0m\u001b[0mread_csv\u001b[0m\u001b[0;34m(\u001b[0m\u001b[0mpath\u001b[0m \u001b[0;34m+\u001b[0m \u001b[0;34m'langtang_monthly_df_count_annualmean_landcover2.csv'\u001b[0m\u001b[0;34m,\u001b[0m \u001b[0mindex_col\u001b[0m \u001b[0;34m=\u001b[0m \u001b[0;36m0\u001b[0m\u001b[0;34m)\u001b[0m\u001b[0;34m\u001b[0m\u001b[0;34m\u001b[0m\u001b[0m\n\u001b[1;32m      5\u001b[0m \u001b[0mlangtang3\u001b[0m \u001b[0;34m=\u001b[0m \u001b[0mpd\u001b[0m\u001b[0;34m.\u001b[0m\u001b[0mread_csv\u001b[0m\u001b[0;34m(\u001b[0m\u001b[0mpath\u001b[0m \u001b[0;34m+\u001b[0m \u001b[0;34m'langtang_monthly_df_count_annualmean_landcover3.csv'\u001b[0m\u001b[0;34m,\u001b[0m \u001b[0mindex_col\u001b[0m \u001b[0;34m=\u001b[0m \u001b[0;36m0\u001b[0m\u001b[0;34m)\u001b[0m\u001b[0;34m\u001b[0m\u001b[0;34m\u001b[0m\u001b[0m\n",
      "\u001b[0;32m~/opt/anaconda3/envs/sedcas/lib/python3.9/site-packages/pandas/util/_decorators.py\u001b[0m in \u001b[0;36mwrapper\u001b[0;34m(*args, **kwargs)\u001b[0m\n\u001b[1;32m    309\u001b[0m                     \u001b[0mstacklevel\u001b[0m\u001b[0;34m=\u001b[0m\u001b[0mstacklevel\u001b[0m\u001b[0;34m,\u001b[0m\u001b[0;34m\u001b[0m\u001b[0;34m\u001b[0m\u001b[0m\n\u001b[1;32m    310\u001b[0m                 )\n\u001b[0;32m--> 311\u001b[0;31m             \u001b[0;32mreturn\u001b[0m \u001b[0mfunc\u001b[0m\u001b[0;34m(\u001b[0m\u001b[0;34m*\u001b[0m\u001b[0margs\u001b[0m\u001b[0;34m,\u001b[0m \u001b[0;34m**\u001b[0m\u001b[0mkwargs\u001b[0m\u001b[0;34m)\u001b[0m\u001b[0;34m\u001b[0m\u001b[0;34m\u001b[0m\u001b[0m\n\u001b[0m\u001b[1;32m    312\u001b[0m \u001b[0;34m\u001b[0m\u001b[0m\n\u001b[1;32m    313\u001b[0m         \u001b[0;32mreturn\u001b[0m \u001b[0mwrapper\u001b[0m\u001b[0;34m\u001b[0m\u001b[0;34m\u001b[0m\u001b[0m\n",
      "\u001b[0;32m~/opt/anaconda3/envs/sedcas/lib/python3.9/site-packages/pandas/io/parsers/readers.py\u001b[0m in \u001b[0;36mread_csv\u001b[0;34m(filepath_or_buffer, sep, delimiter, header, names, index_col, usecols, squeeze, prefix, mangle_dupe_cols, dtype, engine, converters, true_values, false_values, skipinitialspace, skiprows, skipfooter, nrows, na_values, keep_default_na, na_filter, verbose, skip_blank_lines, parse_dates, infer_datetime_format, keep_date_col, date_parser, dayfirst, cache_dates, iterator, chunksize, compression, thousands, decimal, lineterminator, quotechar, quoting, doublequote, escapechar, comment, encoding, encoding_errors, dialect, error_bad_lines, warn_bad_lines, on_bad_lines, delim_whitespace, low_memory, memory_map, float_precision, storage_options)\u001b[0m\n\u001b[1;32m    584\u001b[0m     \u001b[0mkwds\u001b[0m\u001b[0;34m.\u001b[0m\u001b[0mupdate\u001b[0m\u001b[0;34m(\u001b[0m\u001b[0mkwds_defaults\u001b[0m\u001b[0;34m)\u001b[0m\u001b[0;34m\u001b[0m\u001b[0;34m\u001b[0m\u001b[0m\n\u001b[1;32m    585\u001b[0m \u001b[0;34m\u001b[0m\u001b[0m\n\u001b[0;32m--> 586\u001b[0;31m     \u001b[0;32mreturn\u001b[0m \u001b[0m_read\u001b[0m\u001b[0;34m(\u001b[0m\u001b[0mfilepath_or_buffer\u001b[0m\u001b[0;34m,\u001b[0m \u001b[0mkwds\u001b[0m\u001b[0;34m)\u001b[0m\u001b[0;34m\u001b[0m\u001b[0;34m\u001b[0m\u001b[0m\n\u001b[0m\u001b[1;32m    587\u001b[0m \u001b[0;34m\u001b[0m\u001b[0m\n\u001b[1;32m    588\u001b[0m \u001b[0;34m\u001b[0m\u001b[0m\n",
      "\u001b[0;32m~/opt/anaconda3/envs/sedcas/lib/python3.9/site-packages/pandas/io/parsers/readers.py\u001b[0m in \u001b[0;36m_read\u001b[0;34m(filepath_or_buffer, kwds)\u001b[0m\n\u001b[1;32m    480\u001b[0m \u001b[0;34m\u001b[0m\u001b[0m\n\u001b[1;32m    481\u001b[0m     \u001b[0;31m# Create the parser.\u001b[0m\u001b[0;34m\u001b[0m\u001b[0;34m\u001b[0m\u001b[0m\n\u001b[0;32m--> 482\u001b[0;31m     \u001b[0mparser\u001b[0m \u001b[0;34m=\u001b[0m \u001b[0mTextFileReader\u001b[0m\u001b[0;34m(\u001b[0m\u001b[0mfilepath_or_buffer\u001b[0m\u001b[0;34m,\u001b[0m \u001b[0;34m**\u001b[0m\u001b[0mkwds\u001b[0m\u001b[0;34m)\u001b[0m\u001b[0;34m\u001b[0m\u001b[0;34m\u001b[0m\u001b[0m\n\u001b[0m\u001b[1;32m    483\u001b[0m \u001b[0;34m\u001b[0m\u001b[0m\n\u001b[1;32m    484\u001b[0m     \u001b[0;32mif\u001b[0m \u001b[0mchunksize\u001b[0m \u001b[0;32mor\u001b[0m \u001b[0miterator\u001b[0m\u001b[0;34m:\u001b[0m\u001b[0;34m\u001b[0m\u001b[0;34m\u001b[0m\u001b[0m\n",
      "\u001b[0;32m~/opt/anaconda3/envs/sedcas/lib/python3.9/site-packages/pandas/io/parsers/readers.py\u001b[0m in \u001b[0;36m__init__\u001b[0;34m(self, f, engine, **kwds)\u001b[0m\n\u001b[1;32m    809\u001b[0m             \u001b[0mself\u001b[0m\u001b[0;34m.\u001b[0m\u001b[0moptions\u001b[0m\u001b[0;34m[\u001b[0m\u001b[0;34m\"has_index_names\"\u001b[0m\u001b[0;34m]\u001b[0m \u001b[0;34m=\u001b[0m \u001b[0mkwds\u001b[0m\u001b[0;34m[\u001b[0m\u001b[0;34m\"has_index_names\"\u001b[0m\u001b[0;34m]\u001b[0m\u001b[0;34m\u001b[0m\u001b[0;34m\u001b[0m\u001b[0m\n\u001b[1;32m    810\u001b[0m \u001b[0;34m\u001b[0m\u001b[0m\n\u001b[0;32m--> 811\u001b[0;31m         \u001b[0mself\u001b[0m\u001b[0;34m.\u001b[0m\u001b[0m_engine\u001b[0m \u001b[0;34m=\u001b[0m \u001b[0mself\u001b[0m\u001b[0;34m.\u001b[0m\u001b[0m_make_engine\u001b[0m\u001b[0;34m(\u001b[0m\u001b[0mself\u001b[0m\u001b[0;34m.\u001b[0m\u001b[0mengine\u001b[0m\u001b[0;34m)\u001b[0m\u001b[0;34m\u001b[0m\u001b[0;34m\u001b[0m\u001b[0m\n\u001b[0m\u001b[1;32m    812\u001b[0m \u001b[0;34m\u001b[0m\u001b[0m\n\u001b[1;32m    813\u001b[0m     \u001b[0;32mdef\u001b[0m \u001b[0mclose\u001b[0m\u001b[0;34m(\u001b[0m\u001b[0mself\u001b[0m\u001b[0;34m)\u001b[0m\u001b[0;34m:\u001b[0m\u001b[0;34m\u001b[0m\u001b[0;34m\u001b[0m\u001b[0m\n",
      "\u001b[0;32m~/opt/anaconda3/envs/sedcas/lib/python3.9/site-packages/pandas/io/parsers/readers.py\u001b[0m in \u001b[0;36m_make_engine\u001b[0;34m(self, engine)\u001b[0m\n\u001b[1;32m   1038\u001b[0m             )\n\u001b[1;32m   1039\u001b[0m         \u001b[0;31m# error: Too many arguments for \"ParserBase\"\u001b[0m\u001b[0;34m\u001b[0m\u001b[0;34m\u001b[0m\u001b[0m\n\u001b[0;32m-> 1040\u001b[0;31m         \u001b[0;32mreturn\u001b[0m \u001b[0mmapping\u001b[0m\u001b[0;34m[\u001b[0m\u001b[0mengine\u001b[0m\u001b[0;34m]\u001b[0m\u001b[0;34m(\u001b[0m\u001b[0mself\u001b[0m\u001b[0;34m.\u001b[0m\u001b[0mf\u001b[0m\u001b[0;34m,\u001b[0m \u001b[0;34m**\u001b[0m\u001b[0mself\u001b[0m\u001b[0;34m.\u001b[0m\u001b[0moptions\u001b[0m\u001b[0;34m)\u001b[0m  \u001b[0;31m# type: ignore[call-arg]\u001b[0m\u001b[0;34m\u001b[0m\u001b[0;34m\u001b[0m\u001b[0m\n\u001b[0m\u001b[1;32m   1041\u001b[0m \u001b[0;34m\u001b[0m\u001b[0m\n\u001b[1;32m   1042\u001b[0m     \u001b[0;32mdef\u001b[0m \u001b[0m_failover_to_python\u001b[0m\u001b[0;34m(\u001b[0m\u001b[0mself\u001b[0m\u001b[0;34m)\u001b[0m\u001b[0;34m:\u001b[0m\u001b[0;34m\u001b[0m\u001b[0;34m\u001b[0m\u001b[0m\n",
      "\u001b[0;32m~/opt/anaconda3/envs/sedcas/lib/python3.9/site-packages/pandas/io/parsers/c_parser_wrapper.py\u001b[0m in \u001b[0;36m__init__\u001b[0;34m(self, src, **kwds)\u001b[0m\n\u001b[1;32m     49\u001b[0m \u001b[0;34m\u001b[0m\u001b[0m\n\u001b[1;32m     50\u001b[0m         \u001b[0;31m# open handles\u001b[0m\u001b[0;34m\u001b[0m\u001b[0;34m\u001b[0m\u001b[0m\n\u001b[0;32m---> 51\u001b[0;31m         \u001b[0mself\u001b[0m\u001b[0;34m.\u001b[0m\u001b[0m_open_handles\u001b[0m\u001b[0;34m(\u001b[0m\u001b[0msrc\u001b[0m\u001b[0;34m,\u001b[0m \u001b[0mkwds\u001b[0m\u001b[0;34m)\u001b[0m\u001b[0;34m\u001b[0m\u001b[0;34m\u001b[0m\u001b[0m\n\u001b[0m\u001b[1;32m     52\u001b[0m         \u001b[0;32massert\u001b[0m \u001b[0mself\u001b[0m\u001b[0;34m.\u001b[0m\u001b[0mhandles\u001b[0m \u001b[0;32mis\u001b[0m \u001b[0;32mnot\u001b[0m \u001b[0;32mNone\u001b[0m\u001b[0;34m\u001b[0m\u001b[0;34m\u001b[0m\u001b[0m\n\u001b[1;32m     53\u001b[0m \u001b[0;34m\u001b[0m\u001b[0m\n",
      "\u001b[0;32m~/opt/anaconda3/envs/sedcas/lib/python3.9/site-packages/pandas/io/parsers/base_parser.py\u001b[0m in \u001b[0;36m_open_handles\u001b[0;34m(self, src, kwds)\u001b[0m\n\u001b[1;32m    220\u001b[0m         \u001b[0mLet\u001b[0m \u001b[0mthe\u001b[0m \u001b[0mreaders\u001b[0m \u001b[0mopen\u001b[0m \u001b[0mIOHandles\u001b[0m \u001b[0mafter\u001b[0m \u001b[0mthey\u001b[0m \u001b[0mare\u001b[0m \u001b[0mdone\u001b[0m \u001b[0;32mwith\u001b[0m \u001b[0mtheir\u001b[0m \u001b[0mpotential\u001b[0m \u001b[0mraises\u001b[0m\u001b[0;34m.\u001b[0m\u001b[0;34m\u001b[0m\u001b[0;34m\u001b[0m\u001b[0m\n\u001b[1;32m    221\u001b[0m         \"\"\"\n\u001b[0;32m--> 222\u001b[0;31m         self.handles = get_handle(\n\u001b[0m\u001b[1;32m    223\u001b[0m             \u001b[0msrc\u001b[0m\u001b[0;34m,\u001b[0m\u001b[0;34m\u001b[0m\u001b[0;34m\u001b[0m\u001b[0m\n\u001b[1;32m    224\u001b[0m             \u001b[0;34m\"r\"\u001b[0m\u001b[0;34m,\u001b[0m\u001b[0;34m\u001b[0m\u001b[0;34m\u001b[0m\u001b[0m\n",
      "\u001b[0;32m~/opt/anaconda3/envs/sedcas/lib/python3.9/site-packages/pandas/io/common.py\u001b[0m in \u001b[0;36mget_handle\u001b[0;34m(path_or_buf, mode, encoding, compression, memory_map, is_text, errors, storage_options)\u001b[0m\n\u001b[1;32m    700\u001b[0m         \u001b[0;32mif\u001b[0m \u001b[0mioargs\u001b[0m\u001b[0;34m.\u001b[0m\u001b[0mencoding\u001b[0m \u001b[0;32mand\u001b[0m \u001b[0;34m\"b\"\u001b[0m \u001b[0;32mnot\u001b[0m \u001b[0;32min\u001b[0m \u001b[0mioargs\u001b[0m\u001b[0;34m.\u001b[0m\u001b[0mmode\u001b[0m\u001b[0;34m:\u001b[0m\u001b[0;34m\u001b[0m\u001b[0;34m\u001b[0m\u001b[0m\n\u001b[1;32m    701\u001b[0m             \u001b[0;31m# Encoding\u001b[0m\u001b[0;34m\u001b[0m\u001b[0;34m\u001b[0m\u001b[0m\n\u001b[0;32m--> 702\u001b[0;31m             handle = open(\n\u001b[0m\u001b[1;32m    703\u001b[0m                 \u001b[0mhandle\u001b[0m\u001b[0;34m,\u001b[0m\u001b[0;34m\u001b[0m\u001b[0;34m\u001b[0m\u001b[0m\n\u001b[1;32m    704\u001b[0m                 \u001b[0mioargs\u001b[0m\u001b[0;34m.\u001b[0m\u001b[0mmode\u001b[0m\u001b[0;34m,\u001b[0m\u001b[0;34m\u001b[0m\u001b[0;34m\u001b[0m\u001b[0m\n",
      "\u001b[0;31mFileNotFoundError\u001b[0m: [Errno 2] No such file or directory: '/Users/varyabazilova/Desktop/paper2/202406_modelruns/30years/SL_daily/output_mean/langtang_monthly_df_count_annualmean_landcover1.csv'"
     ]
    }
   ],
   "source": [
    "path = '/Users/varyabazilova/Desktop/paper2/202406_modelruns/30years/SL_daily/output_mean/'\n",
    "\n",
    "langtang1 = pd.read_csv(path + 'langtang_monthly_df_count_annualmean_landcover1.csv', index_col = 0)\n",
    "langtang2 = pd.read_csv(path + 'langtang_monthly_df_count_annualmean_landcover2.csv', index_col = 0)\n",
    "langtang3 = pd.read_csv(path + 'langtang_monthly_df_count_annualmean_landcover3.csv', index_col = 0)\n",
    "langtang4 = pd.read_csv(path + 'langtang_monthly_df_count_annualmean_landcover4.csv', index_col = 0)\n",
    "\n",
    "langtang1_melt_daily = prepare_dfcount_for_plot(langtang1)\n",
    "langtang2_melt_daily = prepare_dfcount_for_plot(langtang2)\n",
    "langtang3_melt_daily = prepare_dfcount_for_plot(langtang3)\n",
    "langtang4_melt_daily = prepare_dfcount_for_plot(langtang4)\n",
    "\n"
   ]
  },
  {
   "cell_type": "code",
   "execution_count": 7,
   "id": "e717fe27-9a3e-4f71-9ba5-a6df26b8e707",
   "metadata": {},
   "outputs": [
    {
     "ename": "NameError",
     "evalue": "name 'langtang1_melt_daily' is not defined",
     "output_type": "error",
     "traceback": [
      "\u001b[0;31m---------------------------------------------------------------------------\u001b[0m",
      "\u001b[0;31mNameError\u001b[0m                                 Traceback (most recent call last)",
      "\u001b[0;32m/var/folders/31/xdyntby945q7564txk4rqyh40000gp/T/ipykernel_57886/3322569000.py\u001b[0m in \u001b[0;36m<module>\u001b[0;34m\u001b[0m\n\u001b[1;32m     13\u001b[0m \u001b[0;31m# sns.boxplot(ax = mosaic['d'], x='elevation_bin', y='dfs_count', data=langtang4_melt)#, palette = 'magma_r')\u001b[0m\u001b[0;34m\u001b[0m\u001b[0;34m\u001b[0m\u001b[0m\n\u001b[1;32m     14\u001b[0m \u001b[0;34m\u001b[0m\u001b[0m\n\u001b[0;32m---> 15\u001b[0;31m \u001b[0msns\u001b[0m\u001b[0;34m.\u001b[0m\u001b[0mbarplot\u001b[0m\u001b[0;34m(\u001b[0m\u001b[0max\u001b[0m \u001b[0;34m=\u001b[0m \u001b[0mmosaic\u001b[0m\u001b[0;34m[\u001b[0m\u001b[0;34m'a'\u001b[0m\u001b[0;34m]\u001b[0m\u001b[0;34m,\u001b[0m \u001b[0mx\u001b[0m\u001b[0;34m=\u001b[0m\u001b[0;34m'D_month'\u001b[0m\u001b[0;34m,\u001b[0m \u001b[0my\u001b[0m\u001b[0;34m=\u001b[0m\u001b[0;34m'dfs_count'\u001b[0m\u001b[0;34m,\u001b[0m \u001b[0mhue\u001b[0m \u001b[0;34m=\u001b[0m \u001b[0;34m'elevation_bin'\u001b[0m\u001b[0;34m,\u001b[0m \u001b[0mdata\u001b[0m\u001b[0;34m=\u001b[0m\u001b[0mlangtang1_melt_daily\u001b[0m\u001b[0;34m,\u001b[0m \u001b[0mpalette\u001b[0m \u001b[0;34m=\u001b[0m \u001b[0;34m'magma_r'\u001b[0m\u001b[0;34m)\u001b[0m\u001b[0;31m#, legend = True)\u001b[0m\u001b[0;34m\u001b[0m\u001b[0;34m\u001b[0m\u001b[0m\n\u001b[0m\u001b[1;32m     16\u001b[0m \u001b[0msns\u001b[0m\u001b[0;34m.\u001b[0m\u001b[0mbarplot\u001b[0m\u001b[0;34m(\u001b[0m\u001b[0max\u001b[0m \u001b[0;34m=\u001b[0m \u001b[0mmosaic\u001b[0m\u001b[0;34m[\u001b[0m\u001b[0;34m'b'\u001b[0m\u001b[0;34m]\u001b[0m\u001b[0;34m,\u001b[0m \u001b[0mx\u001b[0m\u001b[0;34m=\u001b[0m\u001b[0;34m'D_month'\u001b[0m\u001b[0;34m,\u001b[0m \u001b[0my\u001b[0m\u001b[0;34m=\u001b[0m\u001b[0;34m'dfs_count'\u001b[0m\u001b[0;34m,\u001b[0m \u001b[0mhue\u001b[0m \u001b[0;34m=\u001b[0m \u001b[0;34m'elevation_bin'\u001b[0m\u001b[0;34m,\u001b[0m \u001b[0mdata\u001b[0m\u001b[0;34m=\u001b[0m\u001b[0mlangtang2_melt_daily\u001b[0m\u001b[0;34m,\u001b[0m \u001b[0mpalette\u001b[0m \u001b[0;34m=\u001b[0m \u001b[0;34m'magma_r'\u001b[0m\u001b[0;34m)\u001b[0m\u001b[0;31m#, legend = False)\u001b[0m\u001b[0;34m\u001b[0m\u001b[0;34m\u001b[0m\u001b[0m\n\u001b[1;32m     17\u001b[0m \u001b[0msns\u001b[0m\u001b[0;34m.\u001b[0m\u001b[0mbarplot\u001b[0m\u001b[0;34m(\u001b[0m\u001b[0max\u001b[0m \u001b[0;34m=\u001b[0m \u001b[0mmosaic\u001b[0m\u001b[0;34m[\u001b[0m\u001b[0;34m'c'\u001b[0m\u001b[0;34m]\u001b[0m\u001b[0;34m,\u001b[0m \u001b[0mx\u001b[0m\u001b[0;34m=\u001b[0m\u001b[0;34m'D_month'\u001b[0m\u001b[0;34m,\u001b[0m \u001b[0my\u001b[0m\u001b[0;34m=\u001b[0m\u001b[0;34m'dfs_count'\u001b[0m\u001b[0;34m,\u001b[0m \u001b[0mhue\u001b[0m \u001b[0;34m=\u001b[0m \u001b[0;34m'elevation_bin'\u001b[0m\u001b[0;34m,\u001b[0m \u001b[0mdata\u001b[0m\u001b[0;34m=\u001b[0m\u001b[0mlangtang3_melt_daily\u001b[0m\u001b[0;34m,\u001b[0m \u001b[0mpalette\u001b[0m \u001b[0;34m=\u001b[0m \u001b[0;34m'magma_r'\u001b[0m\u001b[0;34m)\u001b[0m\u001b[0;31m#, legend = False)\u001b[0m\u001b[0;34m\u001b[0m\u001b[0;34m\u001b[0m\u001b[0m\n",
      "\u001b[0;31mNameError\u001b[0m: name 'langtang1_melt_daily' is not defined"
     ]
    },
    {
     "data": {
      "image/png": "[encoded data removed]",
      "text/plain": [
       "<Figure size 1440x1080 with 4 Axes>"
      ]
     },
     "metadata": {
      "needs_background": "light"
     },
     "output_type": "display_data"
    }
   ],
   "source": [
    "fig = plt.figure(figsize=(20, 15))#, layout = 'tight')\n",
    "mosaic = fig.subplot_mosaic('''\n",
    "                            aaa\n",
    "                            bbb\n",
    "                            ccc\n",
    "                            ddd\n",
    "                            ''')\n",
    "\n",
    "\n",
    "# sns.boxplot(ax = mosaic['a'], x='elevation_bin', y='dfs_count', data=langtang1_melt)#, palette = 'magma_r') \n",
    "# sns.boxplot(ax = mosaic['b'], x='elevation_bin', y='dfs_count', data=langtang2_melt)#, palette = 'magma_r') \n",
    "# sns.boxplot(ax = mosaic['c'], x='elevation_bin', y='dfs_count', data=langtang3_melt)#, palette = 'magma_r') \n",
    "# sns.boxplot(ax = mosaic['d'], x='elevation_bin', y='dfs_count', data=langtang4_melt)#, palette = 'magma_r') \n",
    "\n",
    "sns.barplot(ax = mosaic['a'], x='D_month', y='dfs_count', hue = 'elevation_bin', data=langtang1_melt_daily, palette = 'magma_r')#, legend = True) \n",
    "sns.barplot(ax = mosaic['b'], x='D_month', y='dfs_count', hue = 'elevation_bin', data=langtang2_melt_daily, palette = 'magma_r')#, legend = False)\n",
    "sns.barplot(ax = mosaic['c'], x='D_month', y='dfs_count', hue = 'elevation_bin', data=langtang3_melt_daily, palette = 'magma_r')#, legend = False)\n",
    "sns.barplot(ax = mosaic['d'], x='D_month', y='dfs_count', hue = 'elevation_bin', data=langtang4_melt_daily, palette = 'magma_r')#, legend = False)\n",
    "\n",
    "# Adding text to the top-left corner of each subplot\n",
    "mosaic['a'].text(0.62, 0.95, 'veg 40%, bedrock 40%, ice 20%', transform=mosaic['a'].transAxes, fontsize=25, verticalalignment='top')\n",
    "mosaic['b'].text(0.62, 0.95, 'veg 40%, bedrock 50%, ice 10%', transform=mosaic['b'].transAxes, fontsize=25, verticalalignment='top')\n",
    "mosaic['c'].text(0.62, 0.95, 'veg 50%, bedrock 40%, ice 10%', transform=mosaic['c'].transAxes, fontsize=25, verticalalignment='top')\n",
    "mosaic['d'].text(0.62, 0.95, 'veg 40%, bedrock 60%, ice 0%',  transform=mosaic['d'].transAxes, fontsize=25, verticalalignment='top')\n",
    "\n",
    "# Removing the x-axis label from all subplots\n",
    "# mosaic['a'].set(xlabel=None)\n",
    "# mosaic['b'].set(xlabel=None)\n",
    "# mosaic['c'].set(xlabel=None)\n",
    "# mosaic['d'].set(xlabel=None)\n",
    "\n",
    "# Hide x-ticks for all subplots except 'd'\n",
    "mosaic['a'].tick_params(axis='x', which='both', bottom=False, top=False, labelbottom=False)\n",
    "mosaic['b'].tick_params(axis='x', which='both', bottom=False, top=False, labelbottom=False)\n",
    "mosaic['c'].tick_params(axis='x', which='both', bottom=False, top=False, labelbottom=False)\n",
    "\n",
    "plt.setp(mosaic['d'].get_xticklabels(), rotation=45, ha=\"right\")\n",
    "# sns.move_legend(mosaic['a'], \"upper left\", bbox_to_anchor=(1, 1))\n",
    "sns.move_legend(mosaic['a'], \"upper left\", bbox_to_anchor=(1, 1))\n",
    "# Remove legends from all but the first subplot\n",
    "mosaic['b'].get_legend().remove()\n",
    "mosaic['c'].get_legend().remove()\n",
    "mosaic['d'].get_legend().remove()\n",
    "\n",
    "fig.suptitle('Langtang; df count \\n sediment input: daily, annual mean sediment yeild ', fontsize=30)\n",
    "\n",
    "\n",
    "# plt.savefig('count_test_plot.png', dpi = 300, bbox_inches = 'tight')"
   ]
  },
  {
   "cell_type": "code",
   "execution_count": 8,
   "id": "6aa33d96-882d-43a7-9d46-1c37c880f86e",
   "metadata": {},
   "outputs": [
    {
     "ename": "FileNotFoundError",
     "evalue": "[Errno 2] No such file or directory: '/Users/varyabazilova/Desktop/paper2/202406_modelruns/30years/SL_daily/output_20percent/langtang_monthly_df_count_20percent_landcover1.csv'",
     "output_type": "error",
     "traceback": [
      "\u001b[0;31m---------------------------------------------------------------------------\u001b[0m",
      "\u001b[0;31mFileNotFoundError\u001b[0m                         Traceback (most recent call last)",
      "\u001b[0;32m/var/folders/31/xdyntby945q7564txk4rqyh40000gp/T/ipykernel_57886/1796805903.py\u001b[0m in \u001b[0;36m<module>\u001b[0;34m\u001b[0m\n\u001b[1;32m      1\u001b[0m \u001b[0mpath\u001b[0m \u001b[0;34m=\u001b[0m \u001b[0;34m'/Users/varyabazilova/Desktop/paper2/202406_modelruns/30years/SL_daily/output_20percent/'\u001b[0m\u001b[0;34m\u001b[0m\u001b[0;34m\u001b[0m\u001b[0m\n\u001b[1;32m      2\u001b[0m \u001b[0;34m\u001b[0m\u001b[0m\n\u001b[0;32m----> 3\u001b[0;31m \u001b[0mlangtang1\u001b[0m \u001b[0;34m=\u001b[0m \u001b[0mpd\u001b[0m\u001b[0;34m.\u001b[0m\u001b[0mread_csv\u001b[0m\u001b[0;34m(\u001b[0m\u001b[0mpath\u001b[0m \u001b[0;34m+\u001b[0m \u001b[0;34m'langtang_monthly_df_count_20percent_landcover1.csv'\u001b[0m\u001b[0;34m,\u001b[0m \u001b[0mindex_col\u001b[0m \u001b[0;34m=\u001b[0m \u001b[0;36m0\u001b[0m\u001b[0;34m)\u001b[0m\u001b[0;34m\u001b[0m\u001b[0;34m\u001b[0m\u001b[0m\n\u001b[0m\u001b[1;32m      4\u001b[0m \u001b[0mlangtang2\u001b[0m \u001b[0;34m=\u001b[0m \u001b[0mpd\u001b[0m\u001b[0;34m.\u001b[0m\u001b[0mread_csv\u001b[0m\u001b[0;34m(\u001b[0m\u001b[0mpath\u001b[0m \u001b[0;34m+\u001b[0m \u001b[0;34m'langtang_monthly_df_count_20percent_landcover2.csv'\u001b[0m\u001b[0;34m,\u001b[0m \u001b[0mindex_col\u001b[0m \u001b[0;34m=\u001b[0m \u001b[0;36m0\u001b[0m\u001b[0;34m)\u001b[0m\u001b[0;34m\u001b[0m\u001b[0;34m\u001b[0m\u001b[0m\n\u001b[1;32m      5\u001b[0m \u001b[0mlangtang3\u001b[0m \u001b[0;34m=\u001b[0m \u001b[0mpd\u001b[0m\u001b[0;34m.\u001b[0m\u001b[0mread_csv\u001b[0m\u001b[0;34m(\u001b[0m\u001b[0mpath\u001b[0m \u001b[0;34m+\u001b[0m \u001b[0;34m'langtang_monthly_df_count_20percent_landcover3.csv'\u001b[0m\u001b[0;34m,\u001b[0m \u001b[0mindex_col\u001b[0m \u001b[0;34m=\u001b[0m \u001b[0;36m0\u001b[0m\u001b[0;34m)\u001b[0m\u001b[0;34m\u001b[0m\u001b[0;34m\u001b[0m\u001b[0m\n",
      "\u001b[0;32m~/opt/anaconda3/envs/sedcas/lib/python3.9/site-packages/pandas/util/_decorators.py\u001b[0m in \u001b[0;36mwrapper\u001b[0;34m(*args, **kwargs)\u001b[0m\n\u001b[1;32m    309\u001b[0m                     \u001b[0mstacklevel\u001b[0m\u001b[0;34m=\u001b[0m\u001b[0mstacklevel\u001b[0m\u001b[0;34m,\u001b[0m\u001b[0;34m\u001b[0m\u001b[0;34m\u001b[0m\u001b[0m\n\u001b[1;32m    310\u001b[0m                 )\n\u001b[0;32m--> 311\u001b[0;31m             \u001b[0;32mreturn\u001b[0m \u001b[0mfunc\u001b[0m\u001b[0;34m(\u001b[0m\u001b[0;34m*\u001b[0m\u001b[0margs\u001b[0m\u001b[0;34m,\u001b[0m \u001b[0;34m**\u001b[0m\u001b[0mkwargs\u001b[0m\u001b[0;34m)\u001b[0m\u001b[0;34m\u001b[0m\u001b[0;34m\u001b[0m\u001b[0m\n\u001b[0m\u001b[1;32m    312\u001b[0m \u001b[0;34m\u001b[0m\u001b[0m\n\u001b[1;32m    313\u001b[0m         \u001b[0;32mreturn\u001b[0m \u001b[0mwrapper\u001b[0m\u001b[0;34m\u001b[0m\u001b[0;34m\u001b[0m\u001b[0m\n",
      "\u001b[0;32m~/opt/anaconda3/envs/sedcas/lib/python3.9/site-packages/pandas/io/parsers/readers.py\u001b[0m in \u001b[0;36mread_csv\u001b[0;34m(filepath_or_buffer, sep, delimiter, header, names, index_col, usecols, squeeze, prefix, mangle_dupe_cols, dtype, engine, converters, true_values, false_values, skipinitialspace, skiprows, skipfooter, nrows, na_values, keep_default_na, na_filter, verbose, skip_blank_lines, parse_dates, infer_datetime_format, keep_date_col, date_parser, dayfirst, cache_dates, iterator, chunksize, compression, thousands, decimal, lineterminator, quotechar, quoting, doublequote, escapechar, comment, encoding, encoding_errors, dialect, error_bad_lines, warn_bad_lines, on_bad_lines, delim_whitespace, low_memory, memory_map, float_precision, storage_options)\u001b[0m\n\u001b[1;32m    584\u001b[0m     \u001b[0mkwds\u001b[0m\u001b[0;34m.\u001b[0m\u001b[0mupdate\u001b[0m\u001b[0;34m(\u001b[0m\u001b[0mkwds_defaults\u001b[0m\u001b[0;34m)\u001b[0m\u001b[0;34m\u001b[0m\u001b[0;34m\u001b[0m\u001b[0m\n\u001b[1;32m    585\u001b[0m \u001b[0;34m\u001b[0m\u001b[0m\n\u001b[0;32m--> 586\u001b[0;31m     \u001b[0;32mreturn\u001b[0m \u001b[0m_read\u001b[0m\u001b[0;34m(\u001b[0m\u001b[0mfilepath_or_buffer\u001b[0m\u001b[0;34m,\u001b[0m \u001b[0mkwds\u001b[0m\u001b[0;34m)\u001b[0m\u001b[0;34m\u001b[0m\u001b[0;34m\u001b[0m\u001b[0m\n\u001b[0m\u001b[1;32m    587\u001b[0m \u001b[0;34m\u001b[0m\u001b[0m\n\u001b[1;32m    588\u001b[0m \u001b[0;34m\u001b[0m\u001b[0m\n",
      "\u001b[0;32m~/opt/anaconda3/envs/sedcas/lib/python3.9/site-packages/pandas/io/parsers/readers.py\u001b[0m in \u001b[0;36m_read\u001b[0;34m(filepath_or_buffer, kwds)\u001b[0m\n\u001b[1;32m    480\u001b[0m \u001b[0;34m\u001b[0m\u001b[0m\n\u001b[1;32m    481\u001b[0m     \u001b[0;31m# Create the parser.\u001b[0m\u001b[0;34m\u001b[0m\u001b[0;34m\u001b[0m\u001b[0m\n\u001b[0;32m--> 482\u001b[0;31m     \u001b[0mparser\u001b[0m \u001b[0;34m=\u001b[0m \u001b[0mTextFileReader\u001b[0m\u001b[0;34m(\u001b[0m\u001b[0mfilepath_or_buffer\u001b[0m\u001b[0;34m,\u001b[0m \u001b[0;34m**\u001b[0m\u001b[0mkwds\u001b[0m\u001b[0;34m)\u001b[0m\u001b[0;34m\u001b[0m\u001b[0;34m\u001b[0m\u001b[0m\n\u001b[0m\u001b[1;32m    483\u001b[0m \u001b[0;34m\u001b[0m\u001b[0m\n\u001b[1;32m    484\u001b[0m     \u001b[0;32mif\u001b[0m \u001b[0mchunksize\u001b[0m \u001b[0;32mor\u001b[0m \u001b[0miterator\u001b[0m\u001b[0;34m:\u001b[0m\u001b[0;34m\u001b[0m\u001b[0;34m\u001b[0m\u001b[0m\n",
      "\u001b[0;32m~/opt/anaconda3/envs/sedcas/lib/python3.9/site-packages/pandas/io/parsers/readers.py\u001b[0m in \u001b[0;36m__init__\u001b[0;34m(self, f, engine, **kwds)\u001b[0m\n\u001b[1;32m    809\u001b[0m             \u001b[0mself\u001b[0m\u001b[0;34m.\u001b[0m\u001b[0moptions\u001b[0m\u001b[0;34m[\u001b[0m\u001b[0;34m\"has_index_names\"\u001b[0m\u001b[0;34m]\u001b[0m \u001b[0;34m=\u001b[0m \u001b[0mkwds\u001b[0m\u001b[0;34m[\u001b[0m\u001b[0;34m\"has_index_names\"\u001b[0m\u001b[0;34m]\u001b[0m\u001b[0;34m\u001b[0m\u001b[0;34m\u001b[0m\u001b[0m\n\u001b[1;32m    810\u001b[0m \u001b[0;34m\u001b[0m\u001b[0m\n\u001b[0;32m--> 811\u001b[0;31m         \u001b[0mself\u001b[0m\u001b[0;34m.\u001b[0m\u001b[0m_engine\u001b[0m \u001b[0;34m=\u001b[0m \u001b[0mself\u001b[0m\u001b[0;34m.\u001b[0m\u001b[0m_make_engine\u001b[0m\u001b[0;34m(\u001b[0m\u001b[0mself\u001b[0m\u001b[0;34m.\u001b[0m\u001b[0mengine\u001b[0m\u001b[0;34m)\u001b[0m\u001b[0;34m\u001b[0m\u001b[0;34m\u001b[0m\u001b[0m\n\u001b[0m\u001b[1;32m    812\u001b[0m \u001b[0;34m\u001b[0m\u001b[0m\n\u001b[1;32m    813\u001b[0m     \u001b[0;32mdef\u001b[0m \u001b[0mclose\u001b[0m\u001b[0;34m(\u001b[0m\u001b[0mself\u001b[0m\u001b[0;34m)\u001b[0m\u001b[0;34m:\u001b[0m\u001b[0;34m\u001b[0m\u001b[0;34m\u001b[0m\u001b[0m\n",
      "\u001b[0;32m~/opt/anaconda3/envs/sedcas/lib/python3.9/site-packages/pandas/io/parsers/readers.py\u001b[0m in \u001b[0;36m_make_engine\u001b[0;34m(self, engine)\u001b[0m\n\u001b[1;32m   1038\u001b[0m             )\n\u001b[1;32m   1039\u001b[0m         \u001b[0;31m# error: Too many arguments for \"ParserBase\"\u001b[0m\u001b[0;34m\u001b[0m\u001b[0;34m\u001b[0m\u001b[0m\n\u001b[0;32m-> 1040\u001b[0;31m         \u001b[0;32mreturn\u001b[0m \u001b[0mmapping\u001b[0m\u001b[0;34m[\u001b[0m\u001b[0mengine\u001b[0m\u001b[0;34m]\u001b[0m\u001b[0;34m(\u001b[0m\u001b[0mself\u001b[0m\u001b[0;34m.\u001b[0m\u001b[0mf\u001b[0m\u001b[0;34m,\u001b[0m \u001b[0;34m**\u001b[0m\u001b[0mself\u001b[0m\u001b[0;34m.\u001b[0m\u001b[0moptions\u001b[0m\u001b[0;34m)\u001b[0m  \u001b[0;31m# type: ignore[call-arg]\u001b[0m\u001b[0;34m\u001b[0m\u001b[0;34m\u001b[0m\u001b[0m\n\u001b[0m\u001b[1;32m   1041\u001b[0m \u001b[0;34m\u001b[0m\u001b[0m\n\u001b[1;32m   1042\u001b[0m     \u001b[0;32mdef\u001b[0m \u001b[0m_failover_to_python\u001b[0m\u001b[0;34m(\u001b[0m\u001b[0mself\u001b[0m\u001b[0;34m)\u001b[0m\u001b[0;34m:\u001b[0m\u001b[0;34m\u001b[0m\u001b[0;34m\u001b[0m\u001b[0m\n",
      "\u001b[0;32m~/opt/anaconda3/envs/sedcas/lib/python3.9/site-packages/pandas/io/parsers/c_parser_wrapper.py\u001b[0m in \u001b[0;36m__init__\u001b[0;34m(self, src, **kwds)\u001b[0m\n\u001b[1;32m     49\u001b[0m \u001b[0;34m\u001b[0m\u001b[0m\n\u001b[1;32m     50\u001b[0m         \u001b[0;31m# open handles\u001b[0m\u001b[0;34m\u001b[0m\u001b[0;34m\u001b[0m\u001b[0m\n\u001b[0;32m---> 51\u001b[0;31m         \u001b[0mself\u001b[0m\u001b[0;34m.\u001b[0m\u001b[0m_open_handles\u001b[0m\u001b[0;34m(\u001b[0m\u001b[0msrc\u001b[0m\u001b[0;34m,\u001b[0m \u001b[0mkwds\u001b[0m\u001b[0;34m)\u001b[0m\u001b[0;34m\u001b[0m\u001b[0;34m\u001b[0m\u001b[0m\n\u001b[0m\u001b[1;32m     52\u001b[0m         \u001b[0;32massert\u001b[0m \u001b[0mself\u001b[0m\u001b[0;34m.\u001b[0m\u001b[0mhandles\u001b[0m \u001b[0;32mis\u001b[0m \u001b[0;32mnot\u001b[0m \u001b[0;32mNone\u001b[0m\u001b[0;34m\u001b[0m\u001b[0;34m\u001b[0m\u001b[0m\n\u001b[1;32m     53\u001b[0m \u001b[0;34m\u001b[0m\u001b[0m\n",
      "\u001b[0;32m~/opt/anaconda3/envs/sedcas/lib/python3.9/site-packages/pandas/io/parsers/base_parser.py\u001b[0m in \u001b[0;36m_open_handles\u001b[0;34m(self, src, kwds)\u001b[0m\n\u001b[1;32m    220\u001b[0m         \u001b[0mLet\u001b[0m \u001b[0mthe\u001b[0m \u001b[0mreaders\u001b[0m \u001b[0mopen\u001b[0m \u001b[0mIOHandles\u001b[0m \u001b[0mafter\u001b[0m \u001b[0mthey\u001b[0m \u001b[0mare\u001b[0m \u001b[0mdone\u001b[0m \u001b[0;32mwith\u001b[0m \u001b[0mtheir\u001b[0m \u001b[0mpotential\u001b[0m \u001b[0mraises\u001b[0m\u001b[0;34m.\u001b[0m\u001b[0;34m\u001b[0m\u001b[0;34m\u001b[0m\u001b[0m\n\u001b[1;32m    221\u001b[0m         \"\"\"\n\u001b[0;32m--> 222\u001b[0;31m         self.handles = get_handle(\n\u001b[0m\u001b[1;32m    223\u001b[0m             \u001b[0msrc\u001b[0m\u001b[0;34m,\u001b[0m\u001b[0;34m\u001b[0m\u001b[0;34m\u001b[0m\u001b[0m\n\u001b[1;32m    224\u001b[0m             \u001b[0;34m\"r\"\u001b[0m\u001b[0;34m,\u001b[0m\u001b[0;34m\u001b[0m\u001b[0;34m\u001b[0m\u001b[0m\n",
      "\u001b[0;32m~/opt/anaconda3/envs/sedcas/lib/python3.9/site-packages/pandas/io/common.py\u001b[0m in \u001b[0;36mget_handle\u001b[0;34m(path_or_buf, mode, encoding, compression, memory_map, is_text, errors, storage_options)\u001b[0m\n\u001b[1;32m    700\u001b[0m         \u001b[0;32mif\u001b[0m \u001b[0mioargs\u001b[0m\u001b[0;34m.\u001b[0m\u001b[0mencoding\u001b[0m \u001b[0;32mand\u001b[0m \u001b[0;34m\"b\"\u001b[0m \u001b[0;32mnot\u001b[0m \u001b[0;32min\u001b[0m \u001b[0mioargs\u001b[0m\u001b[0;34m.\u001b[0m\u001b[0mmode\u001b[0m\u001b[0;34m:\u001b[0m\u001b[0;34m\u001b[0m\u001b[0;34m\u001b[0m\u001b[0m\n\u001b[1;32m    701\u001b[0m             \u001b[0;31m# Encoding\u001b[0m\u001b[0;34m\u001b[0m\u001b[0;34m\u001b[0m\u001b[0m\n\u001b[0;32m--> 702\u001b[0;31m             handle = open(\n\u001b[0m\u001b[1;32m    703\u001b[0m                 \u001b[0mhandle\u001b[0m\u001b[0;34m,\u001b[0m\u001b[0;34m\u001b[0m\u001b[0;34m\u001b[0m\u001b[0m\n\u001b[1;32m    704\u001b[0m                 \u001b[0mioargs\u001b[0m\u001b[0;34m.\u001b[0m\u001b[0mmode\u001b[0m\u001b[0;34m,\u001b[0m\u001b[0;34m\u001b[0m\u001b[0;34m\u001b[0m\u001b[0m\n",
      "\u001b[0;31mFileNotFoundError\u001b[0m: [Errno 2] No such file or directory: '/Users/varyabazilova/Desktop/paper2/202406_modelruns/30years/SL_daily/output_20percent/langtang_monthly_df_count_20percent_landcover1.csv'"
     ]
    }
   ],
   "source": [
    "path = '/Users/varyabazilova/Desktop/paper2/202406_modelruns/30years/SL_daily/output_20percent/'\n",
    "\n",
    "langtang1 = pd.read_csv(path + 'langtang_monthly_df_count_20percent_landcover1.csv', index_col = 0)\n",
    "langtang2 = pd.read_csv(path + 'langtang_monthly_df_count_20percent_landcover2.csv', index_col = 0)\n",
    "langtang3 = pd.read_csv(path + 'langtang_monthly_df_count_20percent_landcover3.csv', index_col = 0)\n",
    "langtang4 = pd.read_csv(path + 'langtang_monthly_df_count_20percent_landcover4.csv', index_col = 0)\n",
    "\n",
    "langtang1_melt_daily_20percent = prepare_dfcount_for_plot(langtang1)\n",
    "langtang2_melt_daily_20percent = prepare_dfcount_for_plot(langtang2)\n",
    "langtang3_melt_daily_20percent = prepare_dfcount_for_plot(langtang3)\n",
    "langtang4_melt_daily_20percent = prepare_dfcount_for_plot(langtang4)\n",
    "\n"
   ]
  },
  {
   "cell_type": "code",
   "execution_count": 9,
   "id": "1bc7f3fa-e453-4327-9b9c-6c3646324760",
   "metadata": {},
   "outputs": [
    {
     "ename": "NameError",
     "evalue": "name 'langtang1_melt_daily_20percent' is not defined",
     "output_type": "error",
     "traceback": [
      "\u001b[0;31m---------------------------------------------------------------------------\u001b[0m",
      "\u001b[0;31mNameError\u001b[0m                                 Traceback (most recent call last)",
      "\u001b[0;32m/var/folders/31/xdyntby945q7564txk4rqyh40000gp/T/ipykernel_57886/1463648244.py\u001b[0m in \u001b[0;36m<module>\u001b[0;34m\u001b[0m\n\u001b[1;32m     13\u001b[0m \u001b[0;31m# sns.boxplot(ax = mosaic['d'], x='elevation_bin', y='dfs_count', data=langtang4_melt)#, palette = 'magma_r')\u001b[0m\u001b[0;34m\u001b[0m\u001b[0;34m\u001b[0m\u001b[0m\n\u001b[1;32m     14\u001b[0m \u001b[0;34m\u001b[0m\u001b[0m\n\u001b[0;32m---> 15\u001b[0;31m \u001b[0msns\u001b[0m\u001b[0;34m.\u001b[0m\u001b[0mbarplot\u001b[0m\u001b[0;34m(\u001b[0m\u001b[0max\u001b[0m \u001b[0;34m=\u001b[0m \u001b[0mmosaic\u001b[0m\u001b[0;34m[\u001b[0m\u001b[0;34m'a'\u001b[0m\u001b[0;34m]\u001b[0m\u001b[0;34m,\u001b[0m \u001b[0mx\u001b[0m\u001b[0;34m=\u001b[0m\u001b[0;34m'D_month'\u001b[0m\u001b[0;34m,\u001b[0m \u001b[0my\u001b[0m\u001b[0;34m=\u001b[0m\u001b[0;34m'dfs_count'\u001b[0m\u001b[0;34m,\u001b[0m \u001b[0mhue\u001b[0m \u001b[0;34m=\u001b[0m \u001b[0;34m'elevation_bin'\u001b[0m\u001b[0;34m,\u001b[0m \u001b[0mdata\u001b[0m\u001b[0;34m=\u001b[0m\u001b[0mlangtang1_melt_daily_20percent\u001b[0m\u001b[0;34m,\u001b[0m \u001b[0mpalette\u001b[0m \u001b[0;34m=\u001b[0m \u001b[0;34m'magma_r'\u001b[0m\u001b[0;34m)\u001b[0m\u001b[0;31m#, legend = True)\u001b[0m\u001b[0;34m\u001b[0m\u001b[0;34m\u001b[0m\u001b[0m\n\u001b[0m\u001b[1;32m     16\u001b[0m \u001b[0msns\u001b[0m\u001b[0;34m.\u001b[0m\u001b[0mbarplot\u001b[0m\u001b[0;34m(\u001b[0m\u001b[0max\u001b[0m \u001b[0;34m=\u001b[0m \u001b[0mmosaic\u001b[0m\u001b[0;34m[\u001b[0m\u001b[0;34m'b'\u001b[0m\u001b[0;34m]\u001b[0m\u001b[0;34m,\u001b[0m \u001b[0mx\u001b[0m\u001b[0;34m=\u001b[0m\u001b[0;34m'D_month'\u001b[0m\u001b[0;34m,\u001b[0m \u001b[0my\u001b[0m\u001b[0;34m=\u001b[0m\u001b[0;34m'dfs_count'\u001b[0m\u001b[0;34m,\u001b[0m \u001b[0mhue\u001b[0m \u001b[0;34m=\u001b[0m \u001b[0;34m'elevation_bin'\u001b[0m\u001b[0;34m,\u001b[0m \u001b[0mdata\u001b[0m\u001b[0;34m=\u001b[0m\u001b[0mlangtang2_melt_daily_20percent\u001b[0m\u001b[0;34m,\u001b[0m \u001b[0mpalette\u001b[0m \u001b[0;34m=\u001b[0m \u001b[0;34m'magma_r'\u001b[0m\u001b[0;34m)\u001b[0m\u001b[0;31m#, legend = False)\u001b[0m\u001b[0;34m\u001b[0m\u001b[0;34m\u001b[0m\u001b[0m\n\u001b[1;32m     17\u001b[0m \u001b[0msns\u001b[0m\u001b[0;34m.\u001b[0m\u001b[0mbarplot\u001b[0m\u001b[0;34m(\u001b[0m\u001b[0max\u001b[0m \u001b[0;34m=\u001b[0m \u001b[0mmosaic\u001b[0m\u001b[0;34m[\u001b[0m\u001b[0;34m'c'\u001b[0m\u001b[0;34m]\u001b[0m\u001b[0;34m,\u001b[0m \u001b[0mx\u001b[0m\u001b[0;34m=\u001b[0m\u001b[0;34m'D_month'\u001b[0m\u001b[0;34m,\u001b[0m \u001b[0my\u001b[0m\u001b[0;34m=\u001b[0m\u001b[0;34m'dfs_count'\u001b[0m\u001b[0;34m,\u001b[0m \u001b[0mhue\u001b[0m \u001b[0;34m=\u001b[0m \u001b[0;34m'elevation_bin'\u001b[0m\u001b[0;34m,\u001b[0m \u001b[0mdata\u001b[0m\u001b[0;34m=\u001b[0m\u001b[0mlangtang3_melt_daily_20percent\u001b[0m\u001b[0;34m,\u001b[0m \u001b[0mpalette\u001b[0m \u001b[0;34m=\u001b[0m \u001b[0;34m'magma_r'\u001b[0m\u001b[0;34m)\u001b[0m\u001b[0;31m#, legend = False)\u001b[0m\u001b[0;34m\u001b[0m\u001b[0;34m\u001b[0m\u001b[0m\n",
      "\u001b[0;31mNameError\u001b[0m: name 'langtang1_melt_daily_20percent' is not defined"
     ]
    },
    {
     "data": {
      "image/png": "[encoded data removed]",
      "text/plain": [
       "<Figure size 1440x1080 with 4 Axes>"
      ]
     },
     "metadata": {
      "needs_background": "light"
     },
     "output_type": "display_data"
    }
   ],
   "source": [
    "fig = plt.figure(figsize=(20, 15))#, layout = 'tight')\n",
    "mosaic = fig.subplot_mosaic('''\n",
    "                            aaa\n",
    "                            bbb\n",
    "                            ccc\n",
    "                            ddd\n",
    "                            ''')\n",
    "\n",
    "\n",
    "# sns.boxplot(ax = mosaic['a'], x='elevation_bin', y='dfs_count', data=langtang1_melt)#, palette = 'magma_r') \n",
    "# sns.boxplot(ax = mosaic['b'], x='elevation_bin', y='dfs_count', data=langtang2_melt)#, palette = 'magma_r') \n",
    "# sns.boxplot(ax = mosaic['c'], x='elevation_bin', y='dfs_count', data=langtang3_melt)#, palette = 'magma_r') \n",
    "# sns.boxplot(ax = mosaic['d'], x='elevation_bin', y='dfs_count', data=langtang4_melt)#, palette = 'magma_r') \n",
    "\n",
    "sns.barplot(ax = mosaic['a'], x='D_month', y='dfs_count', hue = 'elevation_bin', data=langtang1_melt_daily_20percent, palette = 'magma_r')#, legend = True) \n",
    "sns.barplot(ax = mosaic['b'], x='D_month', y='dfs_count', hue = 'elevation_bin', data=langtang2_melt_daily_20percent, palette = 'magma_r')#, legend = False)\n",
    "sns.barplot(ax = mosaic['c'], x='D_month', y='dfs_count', hue = 'elevation_bin', data=langtang3_melt_daily_20percent, palette = 'magma_r')#, legend = False)\n",
    "sns.barplot(ax = mosaic['d'], x='D_month', y='dfs_count', hue = 'elevation_bin', data=langtang4_melt_daily_20percent, palette = 'magma_r')#, legend = False)\n",
    "\n",
    "# Adding text to the top-left corner of each subplot\n",
    "mosaic['a'].text(0.62, 0.95, 'veg 40%, bedrock 40%, ice 20%', transform=mosaic['a'].transAxes, fontsize=25, verticalalignment='top')\n",
    "mosaic['b'].text(0.62, 0.95, 'veg 40%, bedrock 50%, ice 10%', transform=mosaic['b'].transAxes, fontsize=25, verticalalignment='top')\n",
    "mosaic['c'].text(0.62, 0.95, 'veg 50%, bedrock 40%, ice 10%', transform=mosaic['c'].transAxes, fontsize=25, verticalalignment='top')\n",
    "mosaic['d'].text(0.62, 0.95, 'veg 40%, bedrock 60%, ice 0%',  transform=mosaic['d'].transAxes, fontsize=25, verticalalignment='top')\n",
    "\n",
    "# Removing the x-axis label from all subplots\n",
    "mosaic['a'].set(xlabel=None)\n",
    "mosaic['b'].set(xlabel=None)\n",
    "mosaic['c'].set(xlabel=None)\n",
    "mosaic['d'].set(xlabel=None)\n",
    "\n",
    "# Hide x-ticks for all subplots except 'd'\n",
    "mosaic['a'].tick_params(axis='x', which='both', bottom=False, top=False, labelbottom=False)\n",
    "mosaic['b'].tick_params(axis='x', which='both', bottom=False, top=False, labelbottom=False)\n",
    "mosaic['c'].tick_params(axis='x', which='both', bottom=False, top=False, labelbottom=False)\n",
    "\n",
    "plt.setp(mosaic['d'].get_xticklabels(), rotation=45, ha=\"right\")\n",
    "\n",
    "\n",
    "# Remove legends from all but the first subplot\n",
    "mosaic['b'].get_legend().remove()\n",
    "mosaic['c'].get_legend().remove()\n",
    "mosaic['d'].get_legend().remove()\n",
    "\n",
    "sns.move_legend(mosaic['a'], \"upper left\", bbox_to_anchor=(1, 1))\n",
    "\n",
    "fig.suptitle('Langtang; df count \\n sediment input: daily, 20percent sediment yeild ', fontsize=30)\n",
    "\n",
    "plt.show()\n"
   ]
  },
  {
   "cell_type": "code",
   "execution_count": null,
   "id": "46ad7005-f85b-49aa-bb45-1e051b237cd6",
   "metadata": {},
   "outputs": [],
   "source": []
  },
  {
   "cell_type": "code",
   "execution_count": null,
   "id": "06900495-dc29-4aff-9058-02e5028e8a78",
   "metadata": {},
   "outputs": [],
   "source": []
  },
  {
   "cell_type": "code",
   "execution_count": null,
   "id": "361c03e1-c165-4967-bddc-059969210984",
   "metadata": {},
   "outputs": [],
   "source": []
  },
  {
   "cell_type": "code",
   "execution_count": null,
   "id": "31a4b122-0914-4394-a2aa-54c8fee67797",
   "metadata": {},
   "outputs": [],
   "source": []
  },
  {
   "cell_type": "code",
   "execution_count": null,
   "id": "566ece6f-4202-4700-a144-0a65085bdd0c",
   "metadata": {},
   "outputs": [],
   "source": []
  },
  {
   "cell_type": "code",
   "execution_count": null,
   "id": "e4483cb4-b440-403f-8dd4-741c3d7bcd58",
   "metadata": {},
   "outputs": [],
   "source": []
  },
  {
   "cell_type": "code",
   "execution_count": null,
   "id": "6e7580ae-01fb-4c8b-9810-ef8355c20e16",
   "metadata": {},
   "outputs": [],
   "source": []
  },
  {
   "cell_type": "code",
   "execution_count": null,
   "id": "b3974ff0-5590-4958-9be7-451ef2ec7e5e",
   "metadata": {},
   "outputs": [],
   "source": []
  },
  {
   "cell_type": "code",
   "execution_count": null,
   "id": "2b74ade6-a3e0-45fa-bd09-d985828bf8fe",
   "metadata": {},
   "outputs": [],
   "source": []
  },
  {
   "cell_type": "code",
   "execution_count": null,
   "id": "12309f58-461c-45c6-a742-717a75a0b8d0",
   "metadata": {},
   "outputs": [],
   "source": []
  },
  {
   "cell_type": "code",
   "execution_count": null,
   "id": "929a8465-ea17-4a8f-9898-54956fd7a7c1",
   "metadata": {},
   "outputs": [],
   "source": []
  },
  {
   "cell_type": "code",
   "execution_count": null,
   "id": "5def7a10-de5b-485b-81a4-28872e84570d",
   "metadata": {},
   "outputs": [],
   "source": []
  },
  {
   "cell_type": "code",
   "execution_count": null,
   "id": "20ee5b16-bad6-4009-bc95-2f732741cfd8",
   "metadata": {},
   "outputs": [],
   "source": []
  },
  {
   "cell_type": "markdown",
   "id": "9daa98a6-4629-48da-914e-bd058315e681",
   "metadata": {},
   "source": [
    "# input once per year "
   ]
  },
  {
   "cell_type": "code",
   "execution_count": 10,
   "id": "cff80a58-3140-4395-9330-9adafd7616f7",
   "metadata": {},
   "outputs": [
    {
     "ename": "FileNotFoundError",
     "evalue": "[Errno 2] No such file or directory: '/Users/varyabazilova/Desktop/paper2/202406_modelruns/30years/SL_once/output_mean/langtang_monthly_df_count_annualmean_landcover1.csv'",
     "output_type": "error",
     "traceback": [
      "\u001b[0;31m---------------------------------------------------------------------------\u001b[0m",
      "\u001b[0;31mFileNotFoundError\u001b[0m                         Traceback (most recent call last)",
      "\u001b[0;32m/var/folders/31/xdyntby945q7564txk4rqyh40000gp/T/ipykernel_57886/400409878.py\u001b[0m in \u001b[0;36m<module>\u001b[0;34m\u001b[0m\n\u001b[1;32m      1\u001b[0m \u001b[0mpath\u001b[0m \u001b[0;34m=\u001b[0m \u001b[0;34m'/Users/varyabazilova/Desktop/paper2/202406_modelruns/30years/SL_once/output_mean/'\u001b[0m\u001b[0;34m\u001b[0m\u001b[0;34m\u001b[0m\u001b[0m\n\u001b[1;32m      2\u001b[0m \u001b[0;34m\u001b[0m\u001b[0m\n\u001b[0;32m----> 3\u001b[0;31m \u001b[0mlangtang1\u001b[0m \u001b[0;34m=\u001b[0m \u001b[0mpd\u001b[0m\u001b[0;34m.\u001b[0m\u001b[0mread_csv\u001b[0m\u001b[0;34m(\u001b[0m\u001b[0mpath\u001b[0m \u001b[0;34m+\u001b[0m \u001b[0;34m'langtang_monthly_df_count_annualmean_landcover1.csv'\u001b[0m\u001b[0;34m,\u001b[0m \u001b[0mindex_col\u001b[0m \u001b[0;34m=\u001b[0m \u001b[0;36m0\u001b[0m\u001b[0;34m)\u001b[0m\u001b[0;34m\u001b[0m\u001b[0;34m\u001b[0m\u001b[0m\n\u001b[0m\u001b[1;32m      4\u001b[0m \u001b[0mlangtang2\u001b[0m \u001b[0;34m=\u001b[0m \u001b[0mpd\u001b[0m\u001b[0;34m.\u001b[0m\u001b[0mread_csv\u001b[0m\u001b[0;34m(\u001b[0m\u001b[0mpath\u001b[0m \u001b[0;34m+\u001b[0m \u001b[0;34m'langtang_monthly_df_count_annualmean_landcover2.csv'\u001b[0m\u001b[0;34m,\u001b[0m \u001b[0mindex_col\u001b[0m \u001b[0;34m=\u001b[0m \u001b[0;36m0\u001b[0m\u001b[0;34m)\u001b[0m\u001b[0;34m\u001b[0m\u001b[0;34m\u001b[0m\u001b[0m\n\u001b[1;32m      5\u001b[0m \u001b[0mlangtang3\u001b[0m \u001b[0;34m=\u001b[0m \u001b[0mpd\u001b[0m\u001b[0;34m.\u001b[0m\u001b[0mread_csv\u001b[0m\u001b[0;34m(\u001b[0m\u001b[0mpath\u001b[0m \u001b[0;34m+\u001b[0m \u001b[0;34m'langtang_monthly_df_count_annualmean_landcover3.csv'\u001b[0m\u001b[0;34m,\u001b[0m \u001b[0mindex_col\u001b[0m \u001b[0;34m=\u001b[0m \u001b[0;36m0\u001b[0m\u001b[0;34m)\u001b[0m\u001b[0;34m\u001b[0m\u001b[0;34m\u001b[0m\u001b[0m\n",
      "\u001b[0;32m~/opt/anaconda3/envs/sedcas/lib/python3.9/site-packages/pandas/util/_decorators.py\u001b[0m in \u001b[0;36mwrapper\u001b[0;34m(*args, **kwargs)\u001b[0m\n\u001b[1;32m    309\u001b[0m                     \u001b[0mstacklevel\u001b[0m\u001b[0;34m=\u001b[0m\u001b[0mstacklevel\u001b[0m\u001b[0;34m,\u001b[0m\u001b[0;34m\u001b[0m\u001b[0;34m\u001b[0m\u001b[0m\n\u001b[1;32m    310\u001b[0m                 )\n\u001b[0;32m--> 311\u001b[0;31m             \u001b[0;32mreturn\u001b[0m \u001b[0mfunc\u001b[0m\u001b[0;34m(\u001b[0m\u001b[0;34m*\u001b[0m\u001b[0margs\u001b[0m\u001b[0;34m,\u001b[0m \u001b[0;34m**\u001b[0m\u001b[0mkwargs\u001b[0m\u001b[0;34m)\u001b[0m\u001b[0;34m\u001b[0m\u001b[0;34m\u001b[0m\u001b[0m\n\u001b[0m\u001b[1;32m    312\u001b[0m \u001b[0;34m\u001b[0m\u001b[0m\n\u001b[1;32m    313\u001b[0m         \u001b[0;32mreturn\u001b[0m \u001b[0mwrapper\u001b[0m\u001b[0;34m\u001b[0m\u001b[0;34m\u001b[0m\u001b[0m\n",
      "\u001b[0;32m~/opt/anaconda3/envs/sedcas/lib/python3.9/site-packages/pandas/io/parsers/readers.py\u001b[0m in \u001b[0;36mread_csv\u001b[0;34m(filepath_or_buffer, sep, delimiter, header, names, index_col, usecols, squeeze, prefix, mangle_dupe_cols, dtype, engine, converters, true_values, false_values, skipinitialspace, skiprows, skipfooter, nrows, na_values, keep_default_na, na_filter, verbose, skip_blank_lines, parse_dates, infer_datetime_format, keep_date_col, date_parser, dayfirst, cache_dates, iterator, chunksize, compression, thousands, decimal, lineterminator, quotechar, quoting, doublequote, escapechar, comment, encoding, encoding_errors, dialect, error_bad_lines, warn_bad_lines, on_bad_lines, delim_whitespace, low_memory, memory_map, float_precision, storage_options)\u001b[0m\n\u001b[1;32m    584\u001b[0m     \u001b[0mkwds\u001b[0m\u001b[0;34m.\u001b[0m\u001b[0mupdate\u001b[0m\u001b[0;34m(\u001b[0m\u001b[0mkwds_defaults\u001b[0m\u001b[0;34m)\u001b[0m\u001b[0;34m\u001b[0m\u001b[0;34m\u001b[0m\u001b[0m\n\u001b[1;32m    585\u001b[0m \u001b[0;34m\u001b[0m\u001b[0m\n\u001b[0;32m--> 586\u001b[0;31m     \u001b[0;32mreturn\u001b[0m \u001b[0m_read\u001b[0m\u001b[0;34m(\u001b[0m\u001b[0mfilepath_or_buffer\u001b[0m\u001b[0;34m,\u001b[0m \u001b[0mkwds\u001b[0m\u001b[0;34m)\u001b[0m\u001b[0;34m\u001b[0m\u001b[0;34m\u001b[0m\u001b[0m\n\u001b[0m\u001b[1;32m    587\u001b[0m \u001b[0;34m\u001b[0m\u001b[0m\n\u001b[1;32m    588\u001b[0m \u001b[0;34m\u001b[0m\u001b[0m\n",
      "\u001b[0;32m~/opt/anaconda3/envs/sedcas/lib/python3.9/site-packages/pandas/io/parsers/readers.py\u001b[0m in \u001b[0;36m_read\u001b[0;34m(filepath_or_buffer, kwds)\u001b[0m\n\u001b[1;32m    480\u001b[0m \u001b[0;34m\u001b[0m\u001b[0m\n\u001b[1;32m    481\u001b[0m     \u001b[0;31m# Create the parser.\u001b[0m\u001b[0;34m\u001b[0m\u001b[0;34m\u001b[0m\u001b[0m\n\u001b[0;32m--> 482\u001b[0;31m     \u001b[0mparser\u001b[0m \u001b[0;34m=\u001b[0m \u001b[0mTextFileReader\u001b[0m\u001b[0;34m(\u001b[0m\u001b[0mfilepath_or_buffer\u001b[0m\u001b[0;34m,\u001b[0m \u001b[0;34m**\u001b[0m\u001b[0mkwds\u001b[0m\u001b[0;34m)\u001b[0m\u001b[0;34m\u001b[0m\u001b[0;34m\u001b[0m\u001b[0m\n\u001b[0m\u001b[1;32m    483\u001b[0m \u001b[0;34m\u001b[0m\u001b[0m\n\u001b[1;32m    484\u001b[0m     \u001b[0;32mif\u001b[0m \u001b[0mchunksize\u001b[0m \u001b[0;32mor\u001b[0m \u001b[0miterator\u001b[0m\u001b[0;34m:\u001b[0m\u001b[0;34m\u001b[0m\u001b[0;34m\u001b[0m\u001b[0m\n",
      "\u001b[0;32m~/opt/anaconda3/envs/sedcas/lib/python3.9/site-packages/pandas/io/parsers/readers.py\u001b[0m in \u001b[0;36m__init__\u001b[0;34m(self, f, engine, **kwds)\u001b[0m\n\u001b[1;32m    809\u001b[0m             \u001b[0mself\u001b[0m\u001b[0;34m.\u001b[0m\u001b[0moptions\u001b[0m\u001b[0;34m[\u001b[0m\u001b[0;34m\"has_index_names\"\u001b[0m\u001b[0;34m]\u001b[0m \u001b[0;34m=\u001b[0m \u001b[0mkwds\u001b[0m\u001b[0;34m[\u001b[0m\u001b[0;34m\"has_index_names\"\u001b[0m\u001b[0;34m]\u001b[0m\u001b[0;34m\u001b[0m\u001b[0;34m\u001b[0m\u001b[0m\n\u001b[1;32m    810\u001b[0m \u001b[0;34m\u001b[0m\u001b[0m\n\u001b[0;32m--> 811\u001b[0;31m         \u001b[0mself\u001b[0m\u001b[0;34m.\u001b[0m\u001b[0m_engine\u001b[0m \u001b[0;34m=\u001b[0m \u001b[0mself\u001b[0m\u001b[0;34m.\u001b[0m\u001b[0m_make_engine\u001b[0m\u001b[0;34m(\u001b[0m\u001b[0mself\u001b[0m\u001b[0;34m.\u001b[0m\u001b[0mengine\u001b[0m\u001b[0;34m)\u001b[0m\u001b[0;34m\u001b[0m\u001b[0;34m\u001b[0m\u001b[0m\n\u001b[0m\u001b[1;32m    812\u001b[0m \u001b[0;34m\u001b[0m\u001b[0m\n\u001b[1;32m    813\u001b[0m     \u001b[0;32mdef\u001b[0m \u001b[0mclose\u001b[0m\u001b[0;34m(\u001b[0m\u001b[0mself\u001b[0m\u001b[0;34m)\u001b[0m\u001b[0;34m:\u001b[0m\u001b[0;34m\u001b[0m\u001b[0;34m\u001b[0m\u001b[0m\n",
      "\u001b[0;32m~/opt/anaconda3/envs/sedcas/lib/python3.9/site-packages/pandas/io/parsers/readers.py\u001b[0m in \u001b[0;36m_make_engine\u001b[0;34m(self, engine)\u001b[0m\n\u001b[1;32m   1038\u001b[0m             )\n\u001b[1;32m   1039\u001b[0m         \u001b[0;31m# error: Too many arguments for \"ParserBase\"\u001b[0m\u001b[0;34m\u001b[0m\u001b[0;34m\u001b[0m\u001b[0m\n\u001b[0;32m-> 1040\u001b[0;31m         \u001b[0;32mreturn\u001b[0m \u001b[0mmapping\u001b[0m\u001b[0;34m[\u001b[0m\u001b[0mengine\u001b[0m\u001b[0;34m]\u001b[0m\u001b[0;34m(\u001b[0m\u001b[0mself\u001b[0m\u001b[0;34m.\u001b[0m\u001b[0mf\u001b[0m\u001b[0;34m,\u001b[0m \u001b[0;34m**\u001b[0m\u001b[0mself\u001b[0m\u001b[0;34m.\u001b[0m\u001b[0moptions\u001b[0m\u001b[0;34m)\u001b[0m  \u001b[0;31m# type: ignore[call-arg]\u001b[0m\u001b[0;34m\u001b[0m\u001b[0;34m\u001b[0m\u001b[0m\n\u001b[0m\u001b[1;32m   1041\u001b[0m \u001b[0;34m\u001b[0m\u001b[0m\n\u001b[1;32m   1042\u001b[0m     \u001b[0;32mdef\u001b[0m \u001b[0m_failover_to_python\u001b[0m\u001b[0;34m(\u001b[0m\u001b[0mself\u001b[0m\u001b[0;34m)\u001b[0m\u001b[0;34m:\u001b[0m\u001b[0;34m\u001b[0m\u001b[0;34m\u001b[0m\u001b[0m\n",
      "\u001b[0;32m~/opt/anaconda3/envs/sedcas/lib/python3.9/site-packages/pandas/io/parsers/c_parser_wrapper.py\u001b[0m in \u001b[0;36m__init__\u001b[0;34m(self, src, **kwds)\u001b[0m\n\u001b[1;32m     49\u001b[0m \u001b[0;34m\u001b[0m\u001b[0m\n\u001b[1;32m     50\u001b[0m         \u001b[0;31m# open handles\u001b[0m\u001b[0;34m\u001b[0m\u001b[0;34m\u001b[0m\u001b[0m\n\u001b[0;32m---> 51\u001b[0;31m         \u001b[0mself\u001b[0m\u001b[0;34m.\u001b[0m\u001b[0m_open_handles\u001b[0m\u001b[0;34m(\u001b[0m\u001b[0msrc\u001b[0m\u001b[0;34m,\u001b[0m \u001b[0mkwds\u001b[0m\u001b[0;34m)\u001b[0m\u001b[0;34m\u001b[0m\u001b[0;34m\u001b[0m\u001b[0m\n\u001b[0m\u001b[1;32m     52\u001b[0m         \u001b[0;32massert\u001b[0m \u001b[0mself\u001b[0m\u001b[0;34m.\u001b[0m\u001b[0mhandles\u001b[0m \u001b[0;32mis\u001b[0m \u001b[0;32mnot\u001b[0m \u001b[0;32mNone\u001b[0m\u001b[0;34m\u001b[0m\u001b[0;34m\u001b[0m\u001b[0m\n\u001b[1;32m     53\u001b[0m \u001b[0;34m\u001b[0m\u001b[0m\n",
      "\u001b[0;32m~/opt/anaconda3/envs/sedcas/lib/python3.9/site-packages/pandas/io/parsers/base_parser.py\u001b[0m in \u001b[0;36m_open_handles\u001b[0;34m(self, src, kwds)\u001b[0m\n\u001b[1;32m    220\u001b[0m         \u001b[0mLet\u001b[0m \u001b[0mthe\u001b[0m \u001b[0mreaders\u001b[0m \u001b[0mopen\u001b[0m \u001b[0mIOHandles\u001b[0m \u001b[0mafter\u001b[0m \u001b[0mthey\u001b[0m \u001b[0mare\u001b[0m \u001b[0mdone\u001b[0m \u001b[0;32mwith\u001b[0m \u001b[0mtheir\u001b[0m \u001b[0mpotential\u001b[0m \u001b[0mraises\u001b[0m\u001b[0;34m.\u001b[0m\u001b[0;34m\u001b[0m\u001b[0;34m\u001b[0m\u001b[0m\n\u001b[1;32m    221\u001b[0m         \"\"\"\n\u001b[0;32m--> 222\u001b[0;31m         self.handles = get_handle(\n\u001b[0m\u001b[1;32m    223\u001b[0m             \u001b[0msrc\u001b[0m\u001b[0;34m,\u001b[0m\u001b[0;34m\u001b[0m\u001b[0;34m\u001b[0m\u001b[0m\n\u001b[1;32m    224\u001b[0m             \u001b[0;34m\"r\"\u001b[0m\u001b[0;34m,\u001b[0m\u001b[0;34m\u001b[0m\u001b[0;34m\u001b[0m\u001b[0m\n",
      "\u001b[0;32m~/opt/anaconda3/envs/sedcas/lib/python3.9/site-packages/pandas/io/common.py\u001b[0m in \u001b[0;36mget_handle\u001b[0;34m(path_or_buf, mode, encoding, compression, memory_map, is_text, errors, storage_options)\u001b[0m\n\u001b[1;32m    700\u001b[0m         \u001b[0;32mif\u001b[0m \u001b[0mioargs\u001b[0m\u001b[0;34m.\u001b[0m\u001b[0mencoding\u001b[0m \u001b[0;32mand\u001b[0m \u001b[0;34m\"b\"\u001b[0m \u001b[0;32mnot\u001b[0m \u001b[0;32min\u001b[0m \u001b[0mioargs\u001b[0m\u001b[0;34m.\u001b[0m\u001b[0mmode\u001b[0m\u001b[0;34m:\u001b[0m\u001b[0;34m\u001b[0m\u001b[0;34m\u001b[0m\u001b[0m\n\u001b[1;32m    701\u001b[0m             \u001b[0;31m# Encoding\u001b[0m\u001b[0;34m\u001b[0m\u001b[0;34m\u001b[0m\u001b[0m\n\u001b[0;32m--> 702\u001b[0;31m             handle = open(\n\u001b[0m\u001b[1;32m    703\u001b[0m                 \u001b[0mhandle\u001b[0m\u001b[0;34m,\u001b[0m\u001b[0;34m\u001b[0m\u001b[0;34m\u001b[0m\u001b[0m\n\u001b[1;32m    704\u001b[0m                 \u001b[0mioargs\u001b[0m\u001b[0;34m.\u001b[0m\u001b[0mmode\u001b[0m\u001b[0;34m,\u001b[0m\u001b[0;34m\u001b[0m\u001b[0;34m\u001b[0m\u001b[0m\n",
      "\u001b[0;31mFileNotFoundError\u001b[0m: [Errno 2] No such file or directory: '/Users/varyabazilova/Desktop/paper2/202406_modelruns/30years/SL_once/output_mean/langtang_monthly_df_count_annualmean_landcover1.csv'"
     ]
    }
   ],
   "source": [
    "path = '/Users/varyabazilova/Desktop/paper2/202406_modelruns/30years/SL_once/output_mean/'\n",
    "\n",
    "langtang1 = pd.read_csv(path + 'langtang_monthly_df_count_annualmean_landcover1.csv', index_col = 0)\n",
    "langtang2 = pd.read_csv(path + 'langtang_monthly_df_count_annualmean_landcover2.csv', index_col = 0)\n",
    "langtang3 = pd.read_csv(path + 'langtang_monthly_df_count_annualmean_landcover3.csv', index_col = 0)\n",
    "langtang4 = pd.read_csv(path + 'langtang_monthly_df_count_annualmean_landcover4.csv', index_col = 0)\n",
    "\n",
    "langtang1_melt_once = prepare_dfcount_for_plot(langtang1)\n",
    "langtang2_melt_once = prepare_dfcount_for_plot(langtang2)\n",
    "langtang3_melt_once = prepare_dfcount_for_plot(langtang3)\n",
    "langtang4_melt_once = prepare_dfcount_for_plot(langtang4)\n",
    "\n",
    "\n"
   ]
  },
  {
   "cell_type": "code",
   "execution_count": null,
   "id": "7c54eefb-67d4-4116-b943-0ba43cb81729",
   "metadata": {},
   "outputs": [],
   "source": []
  },
  {
   "cell_type": "code",
   "execution_count": null,
   "id": "4101b3f3-1264-4536-84ed-1f1dbea92386",
   "metadata": {},
   "outputs": [],
   "source": []
  },
  {
   "cell_type": "code",
   "execution_count": null,
   "id": "c70de25b-5505-4d04-af3d-3bffb80f494f",
   "metadata": {},
   "outputs": [],
   "source": []
  },
  {
   "cell_type": "code",
   "execution_count": null,
   "id": "74ddcfb6-dd9f-4390-a564-78b66d9a2001",
   "metadata": {},
   "outputs": [],
   "source": [
    "fig = plt.figure(figsize=(20, 15))#, layout = 'tight')\n",
    "mosaic = fig.subplot_mosaic('''\n",
    "                            aaa\n",
    "                            bbb\n",
    "                            ccc\n",
    "                            ddd\n",
    "                            ''')\n",
    "\n",
    "\n",
    "# sns.boxplot(ax = mosaic['a'], x='elevation_bin', y='dfs_count', data=langtang1_melt)#, palette = 'magma_r') \n",
    "# sns.boxplot(ax = mosaic['b'], x='elevation_bin', y='dfs_count', data=langtang2_melt)#, palette = 'magma_r') \n",
    "# sns.boxplot(ax = mosaic['c'], x='elevation_bin', y='dfs_count', data=langtang3_melt)#, palette = 'magma_r') \n",
    "# sns.boxplot(ax = mosaic['d'], x='elevation_bin', y='dfs_count', data=langtang4_melt)#, palette = 'magma_r') \n",
    "\n",
    "sns.barplot(ax = mosaic['a'], x='D_month', y='dfs_count', hue = 'elevation_bin', data=langtang1_melt_once, palette = 'magma_r', legend = True) \n",
    "sns.barplot(ax = mosaic['b'], x='D_month', y='dfs_count', hue = 'elevation_bin', data=langtang2_melt_once, palette = 'magma_r', legend = False)\n",
    "sns.barplot(ax = mosaic['c'], x='D_month', y='dfs_count', hue = 'elevation_bin', data=langtang3_melt_once, palette = 'magma_r', legend = False)\n",
    "sns.barplot(ax = mosaic['d'], x='D_month', y='dfs_count', hue = 'elevation_bin', data=langtang4_melt_once, palette = 'magma_r', legend = False)\n",
    "\n",
    "# Adding text to the top-left corner of each subplot\n",
    "mosaic['a'].text(0.62, 0.95, 'veg 40%, bedrock 40%, ice 20%', transform=mosaic['a'].transAxes, fontsize=25, verticalalignment='top')\n",
    "mosaic['b'].text(0.62, 0.95, 'veg 40%, bedrock 50%, ice 10%', transform=mosaic['b'].transAxes, fontsize=25, verticalalignment='top')\n",
    "mosaic['c'].text(0.62, 0.95, 'veg 50%, bedrock 40%, ice 10%', transform=mosaic['c'].transAxes, fontsize=25, verticalalignment='top')\n",
    "mosaic['d'].text(0.62, 0.95, 'veg 40%, bedrock 60%, ice 0%',  transform=mosaic['d'].transAxes, fontsize=25, verticalalignment='top')\n",
    "\n",
    "# Removing the x-axis label from all subplots\n",
    "# mosaic['a'].set(xlabel=None)\n",
    "# mosaic['b'].set(xlabel=None)\n",
    "# mosaic['c'].set(xlabel=None)\n",
    "# mosaic['d'].set(xlabel=None)\n",
    "\n",
    "# Hide x-ticks for all subplots except 'd'\n",
    "mosaic['a'].tick_params(axis='x', which='both', bottom=False, top=False, labelbottom=False)\n",
    "mosaic['b'].tick_params(axis='x', which='both', bottom=False, top=False, labelbottom=False)\n",
    "mosaic['c'].tick_params(axis='x', which='both', bottom=False, top=False, labelbottom=False)\n",
    "\n",
    "plt.setp(mosaic['d'].get_xticklabels(), rotation=45, ha=\"right\")\n",
    "sns.move_legend(mosaic['a'], \"upper left\", bbox_to_anchor=(1, 1))\n",
    "\n",
    "fig.suptitle('Langtang; df count \\n sediment input: once per year, annual mean sediment yeild ', fontsize=30)\n",
    "\n",
    "plt.show()\n",
    "\n"
   ]
  },
  {
   "cell_type": "code",
   "execution_count": null,
   "id": "b45d2ec2-7e0b-4eef-8e52-85442de3dbd3",
   "metadata": {},
   "outputs": [],
   "source": [
    "path = '/Users/varyabazilova/Desktop/paper2/202406_modelruns/30years/SL_once/output_20percent/'\n",
    "\n",
    "langtang1 = pd.read_csv(path + 'langtang_monthly_df_count_20percent_landcover1.csv', index_col = 0)\n",
    "langtang2 = pd.read_csv(path + 'langtang_monthly_df_count_20percent_landcover2.csv', index_col = 0)\n",
    "langtang3 = pd.read_csv(path + 'langtang_monthly_df_count_20percent_landcover3.csv', index_col = 0)\n",
    "langtang4 = pd.read_csv(path + 'langtang_monthly_df_count_20percent_landcover4.csv', index_col = 0)\n",
    "\n",
    "langtang1_melt_once_25percent = prepare_dfcount_for_plot(langtang1)\n",
    "langtang2_melt_once_25percent = prepare_dfcount_for_plot(langtang2)\n",
    "langtang3_melt_once_25percent = prepare_dfcount_for_plot(langtang3)\n",
    "langtang4_melt_once_25percent = prepare_dfcount_for_plot(langtang4)\n"
   ]
  },
  {
   "cell_type": "code",
   "execution_count": null,
   "id": "d1676508-edd3-4ebf-b414-0cbaa7e299ab",
   "metadata": {},
   "outputs": [],
   "source": []
  },
  {
   "cell_type": "code",
   "execution_count": null,
   "id": "43d00b55-3814-4d2b-a626-38533f9044f6",
   "metadata": {},
   "outputs": [],
   "source": [
    "fig = plt.figure(figsize=(20, 15))#, layout = 'tight')\n",
    "mosaic = fig.subplot_mosaic('''\n",
    "                            aaa\n",
    "                            bbb\n",
    "                            ccc\n",
    "                            ddd\n",
    "                            ''')\n",
    "\n",
    "sns.barplot(ax = mosaic['a'], x='D_month', y='dfs_count', hue = 'elevation_bin', data=langtang1_melt_daily_20percent, palette = 'magma_r', legend = True) \n",
    "sns.barplot(ax = mosaic['b'], x='D_month', y='dfs_count', hue = 'elevation_bin', data=langtang2_melt_daily_20percent, palette = 'magma_r', legend = False)\n",
    "sns.barplot(ax = mosaic['c'], x='D_month', y='dfs_count', hue = 'elevation_bin', data=langtang3_melt_daily_20percent, palette = 'magma_r', legend = False)\n",
    "sns.barplot(ax = mosaic['d'], x='D_month', y='dfs_count', hue = 'elevation_bin', data=langtang4_melt_daily_20percent, palette = 'magma_r', legend = False)\n",
    "\n",
    "# Adding text to the top-left corner of each subplot\n",
    "mosaic['a'].text(0.62, 0.95, 'veg 40%, bedrock 40%, ice 20%', transform=mosaic['a'].transAxes, fontsize=25, verticalalignment='top')\n",
    "mosaic['b'].text(0.62, 0.95, 'veg 40%, bedrock 50%, ice 10%', transform=mosaic['b'].transAxes, fontsize=25, verticalalignment='top')\n",
    "mosaic['c'].text(0.62, 0.95, 'veg 50%, bedrock 40%, ice 10%', transform=mosaic['c'].transAxes, fontsize=25, verticalalignment='top')\n",
    "mosaic['d'].text(0.62, 0.95, 'veg 40%, bedrock 60%, ice 0%',  transform=mosaic['d'].transAxes, fontsize=25, verticalalignment='top')\n",
    "\n",
    "# Removing the x-axis label from all subplots\n",
    "mosaic['a'].set(xlabel=None)\n",
    "mosaic['b'].set(xlabel=None)\n",
    "mosaic['c'].set(xlabel=None)\n",
    "mosaic['d'].set(xlabel=None)\n",
    "\n",
    "# Hide x-ticks for all subplots except 'd'\n",
    "mosaic['a'].tick_params(axis='x', which='both', bottom=False, top=False, labelbottom=False)\n",
    "mosaic['b'].tick_params(axis='x', which='both', bottom=False, top=False, labelbottom=False)\n",
    "mosaic['c'].tick_params(axis='x', which='both', bottom=False, top=False, labelbottom=False)\n",
    "\n",
    "plt.setp(mosaic['d'].get_xticklabels(), rotation=45, ha=\"right\")\n",
    "sns.move_legend(mosaic['a'], \"upper left\", bbox_to_anchor=(1, 1))\n",
    "\n",
    "fig.suptitle('Langtang; df count \\n sediment input: once per year, 25percent sediment yeild ', fontsize=30)\n",
    "\n",
    "plt.show()\n"
   ]
  },
  {
   "cell_type": "code",
   "execution_count": null,
   "id": "cb726a8e-541a-4e06-b557-cdccf7f69352",
   "metadata": {},
   "outputs": [],
   "source": []
  },
  {
   "cell_type": "markdown",
   "id": "b115f2df-644d-451a-82c6-67a36efc4467",
   "metadata": {},
   "source": [
    "# heatmap \n",
    "\n",
    "plot lines with squares "
   ]
  },
  {
   "cell_type": "code",
   "execution_count": null,
   "id": "e1936ecb-14c5-45fa-bf21-3518ea26aade",
   "metadata": {},
   "outputs": [],
   "source": [
    "def prepare_for_heatmap(melted_df, landcover_idx):\n",
    "    melted_df = melted_df[['D_month', 'dfs_count']]\n",
    "    renamed = melted_df.rename(columns={'dfs_count': f'dfs_count_lc{landcover_idx}'})\n",
    "    return renamed\n",
    "    "
   ]
  },
  {
   "cell_type": "code",
   "execution_count": null,
   "id": "f2e6cb40-8178-4fb9-a703-262cade675ed",
   "metadata": {},
   "outputs": [],
   "source": [
    "percentile = '20percent'\n",
    "path = f'/Users/varyabazilova/Desktop/paper2/202406_modelruns/30years/SL_once/output_{percentile}/'\n",
    "\n",
    "langtang1_20 = pd.read_csv(path + f'langtang_monthly_df_count_{percentile}_landcover1.csv', index_col = 0)\n",
    "langtang2_20 = pd.read_csv(path + f'langtang_monthly_df_count_{percentile}_landcover2.csv', index_col = 0)\n",
    "langtang3_20 = pd.read_csv(path + f'langtang_monthly_df_count_{percentile}_landcover3.csv', index_col = 0)\n",
    "langtang4_20 = pd.read_csv(path + f'langtang_monthly_df_count_{percentile}_landcover4.csv', index_col = 0)\n",
    "\n",
    "langtang1_melt_once_20percent = prepare_dfcount_for_plot(langtang1_20)\n",
    "langtang2_melt_once_20percent = prepare_dfcount_for_plot(langtang2_20)\n",
    "langtang3_melt_once_20percent = prepare_dfcount_for_plot(langtang3_20)\n",
    "langtang4_melt_once_20percent = prepare_dfcount_for_plot(langtang4_20)\n",
    "\n",
    "langtang1_melt_once_20percent = prepare_for_heatmap(langtang1_melt_once_20percent, 1)\n",
    "langtang2_melt_once_20percent = prepare_for_heatmap(langtang2_melt_once_20percent, 2)\n",
    "langtang3_melt_once_20percent = prepare_for_heatmap(langtang3_melt_once_20percent, 3)\n",
    "langtang4_melt_once_20percent = prepare_for_heatmap(langtang4_melt_once_20percent, 4)\n",
    "\n",
    "\n",
    "# -------\n",
    "\n",
    "percentile = '30percent'\n",
    "path = f'/Users/varyabazilova/Desktop/paper2/202406_modelruns/30years/SL_once/output_{percentile}/'\n",
    "\n",
    "langtang1_30 = pd.read_csv(path + f'langtang_monthly_df_count_{percentile}_landcover1.csv', index_col = 0)\n",
    "langtang2_30 = pd.read_csv(path + f'langtang_monthly_df_count_{percentile}_landcover2.csv', index_col = 0)\n",
    "langtang3_30 = pd.read_csv(path + f'langtang_monthly_df_count_{percentile}_landcover3.csv', index_col = 0)\n",
    "langtang4_30 = pd.read_csv(path + f'langtang_monthly_df_count_{percentile}_landcover4.csv', index_col = 0)\n",
    "\n",
    "langtang1_melt_once_30percent = prepare_dfcount_for_plot(langtang1_30)\n",
    "langtang2_melt_once_30percent = prepare_dfcount_for_plot(langtang2_30)\n",
    "langtang3_melt_once_30percent = prepare_dfcount_for_plot(langtang3_30)\n",
    "langtang4_melt_once_30percent = prepare_dfcount_for_plot(langtang4_30)\n",
    "\n",
    "langtang1_melt_once_30percent = prepare_for_heatmap(langtang1_melt_once_30percent, 1)\n",
    "langtang2_melt_once_30percent = prepare_for_heatmap(langtang2_melt_once_30percent, 2)\n",
    "langtang3_melt_once_30percent = prepare_for_heatmap(langtang3_melt_once_30percent, 3)\n",
    "langtang4_melt_once_30percent = prepare_for_heatmap(langtang4_melt_once_30percent, 4)\n",
    "\n",
    "\n",
    "# ---------\n",
    "\n",
    "percentile = '40percent'\n",
    "path = f'/Users/varyabazilova/Desktop/paper2/202406_modelruns/30years/SL_once/output_{percentile}/'\n",
    "\n",
    "langtang1_40 = pd.read_csv(path + f'langtang_monthly_df_count_{percentile}_landcover1.csv', index_col = 0)\n",
    "langtang2_40 = pd.read_csv(path + f'langtang_monthly_df_count_{percentile}_landcover2.csv', index_col = 0)\n",
    "langtang3_40 = pd.read_csv(path + f'langtang_monthly_df_count_{percentile}_landcover3.csv', index_col = 0)\n",
    "langtang4_40 = pd.read_csv(path + f'langtang_monthly_df_count_{percentile}_landcover4.csv', index_col = 0)\n",
    "\n",
    "langtang1_melt_once_40percent = prepare_dfcount_for_plot(langtang1_40)\n",
    "langtang2_melt_once_40percent = prepare_dfcount_for_plot(langtang2_40)\n",
    "langtang3_melt_once_40percent = prepare_dfcount_for_plot(langtang3_40)\n",
    "langtang4_melt_once_40percent = prepare_dfcount_for_plot(langtang4_40)\n",
    "\n",
    "langtang1_melt_once_40percent = prepare_for_heatmap(langtang1_melt_once_40percent, 1)\n",
    "langtang2_melt_once_40percent = prepare_for_heatmap(langtang2_melt_once_40percent, 2)\n",
    "langtang3_melt_once_40percent = prepare_for_heatmap(langtang3_melt_once_40percent, 3)\n",
    "langtang4_melt_once_40percent = prepare_for_heatmap(langtang4_melt_once_40percent, 4)\n",
    "\n",
    "\n",
    "# ---------\n",
    "\n",
    "percentile = 'annualmean'\n",
    "path = f'/Users/varyabazilova/Desktop/paper2/202406_modelruns/30years/SL_once/output_mean/'\n",
    "\n",
    "langtang1_mean = pd.read_csv(path + f'langtang_monthly_df_count_{percentile}_landcover1.csv', index_col = 0)\n",
    "langtang2_mean = pd.read_csv(path + f'langtang_monthly_df_count_{percentile}_landcover2.csv', index_col = 0)\n",
    "langtang3_mean = pd.read_csv(path + f'langtang_monthly_df_count_{percentile}_landcover3.csv', index_col = 0)\n",
    "langtang4_mean = pd.read_csv(path + f'langtang_monthly_df_count_{percentile}_landcover4.csv', index_col = 0)\n",
    "\n",
    "langtang1_melt_once_mean = prepare_dfcount_for_plot(langtang1_mean)\n",
    "langtang2_melt_once_mean = prepare_dfcount_for_plot(langtang2_mean)\n",
    "langtang3_melt_once_mean = prepare_dfcount_for_plot(langtang3_mean)\n",
    "langtang4_melt_once_mean = prepare_dfcount_for_plot(langtang4_mean)\n",
    "\n",
    "langtang1_melt_once_mean = prepare_for_heatmap(langtang1_melt_once_mean, 1)\n",
    "langtang2_melt_once_mean = prepare_for_heatmap(langtang2_melt_once_mean, 2)\n",
    "langtang3_melt_once_mean = prepare_for_heatmap(langtang3_melt_once_mean, 3)\n",
    "langtang4_melt_once_mean = prepare_for_heatmap(langtang4_melt_once_mean, 4)\n",
    "\n"
   ]
  },
  {
   "cell_type": "code",
   "execution_count": null,
   "id": "e69778ad-13a2-49fc-9fa3-277610f66d3e",
   "metadata": {},
   "outputs": [],
   "source": [
    "langtang20 = pd.concat([langtang1_melt_once_20percent, langtang2_melt_once_20percent, langtang3_melt_once_20percent, langtang4_melt_once_20percent])\n",
    "langtang30 = pd.concat([langtang1_melt_once_30percent, langtang2_melt_once_30percent, langtang3_melt_once_30percent, langtang4_melt_once_30percent])\n",
    "langtang40 = pd.concat([langtang1_melt_once_40percent, langtang2_melt_once_40percent, langtang3_melt_once_40percent, langtang4_melt_once_40percent])\n",
    "langtangmean = pd.concat([langtang1_melt_once_mean, langtang2_melt_once_mean, langtang3_melt_once_mean, langtang4_melt_once_mean])\n",
    "\n",
    "\n",
    "langtang20 = langtang20.groupby('D_month').mean().T\n",
    "langtang30 = langtang30.groupby('D_month').mean().T\n",
    "langtang40 = langtang40.groupby('D_month').mean().T\n",
    "langtangmean = langtangmean.groupby('D_month').mean().T\n"
   ]
  },
  {
   "cell_type": "code",
   "execution_count": null,
   "id": "72c0198e-625c-450a-ac4b-a31e92d91ec1",
   "metadata": {},
   "outputs": [],
   "source": [
    "fig = plt.figure(figsize=(20, 8), layout = 'tight')\n",
    "\n",
    "mosaic = fig.subplot_mosaic('''\n",
    "                            ab\n",
    "                            cd\n",
    "                            ''')\n",
    "\n",
    "sns.heatmap(langtang20,   ax = mosaic['a'], annot=True, cmap = 'coolwarm')\n",
    "sns.heatmap(langtang30,   ax = mosaic['b'], annot=True, cmap = 'coolwarm')\n",
    "sns.heatmap(langtang40,   ax = mosaic['c'], annot=True, cmap = 'coolwarm')\n",
    "sns.heatmap(langtangmean, ax = mosaic['d'], annot=True, cmap = 'coolwarm')\n",
    "\n",
    "fig.suptitle('max count of debris flow events per month', fontsize=30)\n"
   ]
  },
  {
   "cell_type": "code",
   "execution_count": null,
   "id": "1c277371-47c1-4e20-8ccc-1cdea1f3a17a",
   "metadata": {},
   "outputs": [],
   "source": []
  },
  {
   "cell_type": "markdown",
   "id": "39b73d2b-aaf2-4729-b96d-940d8304cd68",
   "metadata": {},
   "source": [
    "# plot tests "
   ]
  },
  {
   "cell_type": "code",
   "execution_count": null,
   "id": "59473407-c8da-4f9c-833e-35a665db9702",
   "metadata": {},
   "outputs": [],
   "source": [
    "percentile = '40percent'\n",
    "path = f'/Users/varyabazilova/Desktop/paper2/202406_modelruns/30years/SL_once/output_{percentile}/'\n",
    "\n",
    "\n",
    "langtang1_40 = pd.read_csv(path + f'langtang_monthly_df_count_{percentile}_landcover1.csv', index_col = 0)\n",
    "langtang2_40 = pd.read_csv(path + f'langtang_monthly_df_count_{percentile}_landcover2.csv', index_col = 0)\n",
    "langtang3_40 = pd.read_csv(path + f'langtang_monthly_df_count_{percentile}_landcover3.csv', index_col = 0)\n",
    "langtang4_40 = pd.read_csv(path + f'langtang_monthly_df_count_{percentile}_landcover4.csv', index_col = 0)\n",
    "\n",
    "langtang1_melt_once_40percent = prepare_dfcount_for_plot(langtang1_40)\n",
    "langtang2_melt_once_40percent = prepare_dfcount_for_plot(langtang2_40)\n",
    "langtang3_melt_once_40percent = prepare_dfcount_for_plot(langtang3_40)\n",
    "langtang4_melt_once_40percent = prepare_dfcount_for_plot(langtang4_40)\n"
   ]
  },
  {
   "cell_type": "code",
   "execution_count": null,
   "id": "55fa8e94-eefa-498d-9983-a8af34322b98",
   "metadata": {},
   "outputs": [],
   "source": [
    "test = langtang1_melt_once_40percent.groupby('elevation_bin').mean()"
   ]
  },
  {
   "cell_type": "code",
   "execution_count": null,
   "id": "d78fd96d-77c1-40c7-9aa1-d8c288577f70",
   "metadata": {},
   "outputs": [],
   "source": [
    "langtang1_melt_once_40percent "
   ]
  },
  {
   "cell_type": "code",
   "execution_count": null,
   "id": "7714b19d-c547-439a-a2c7-1588ec1c931a",
   "metadata": {},
   "outputs": [],
   "source": []
  },
  {
   "cell_type": "code",
   "execution_count": null,
   "id": "52c55e79-ff65-4c1f-88f2-9139e1d49a71",
   "metadata": {},
   "outputs": [],
   "source": []
  },
  {
   "cell_type": "code",
   "execution_count": null,
   "id": "8b45dc4d-5abd-46c0-8a5e-89b1eb754a5f",
   "metadata": {},
   "outputs": [],
   "source": []
  },
  {
   "cell_type": "code",
   "execution_count": null,
   "id": "285e5f68-39f5-4067-8841-d79a4058e3a7",
   "metadata": {},
   "outputs": [],
   "source": []
  },
  {
   "cell_type": "code",
   "execution_count": null,
   "id": "50a898e0-8867-4b1a-b663-820a3382c1b0",
   "metadata": {},
   "outputs": [],
   "source": []
  }
 ],
 "metadata": {
  "kernelspec": {
   "display_name": "Python 3 (ipykernel)",
   "language": "python",
   "name": "python3"
  },
  "language_info": {
   "codemirror_mode": {
    "name": "ipython",
    "version": 3
   },
   "file_extension": ".py",
   "mimetype": "text/x-python",
   "name": "python",
   "nbconvert_exporter": "python",
   "pygments_lexer": "ipython3",
   "version": "3.9.7"
  }
 },
 "nbformat": 4,
 "nbformat_minor": 5
}
