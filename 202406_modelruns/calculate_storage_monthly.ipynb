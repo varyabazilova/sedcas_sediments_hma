{
 "cells": [
  {
   "cell_type": "code",
   "execution_count": 1,
   "id": "a9efac70-32cd-4c7e-a071-0de0a2552864",
   "metadata": {},
   "outputs": [],
   "source": [
    "import pandas as pd\n",
    "import matplotlib.pyplot as plt\n",
    "import seaborn\n",
    "\n",
    "import os\n",
    "import functions \n"
   ]
  },
  {
   "cell_type": "code",
   "execution_count": 2,
   "id": "1f77f6a6-2319-48ea-bbf9-c5f8c383b166",
   "metadata": {},
   "outputs": [],
   "source": [
    "def sediment_storage(sediments):\n",
    "    '''\n",
    "    sediments - sediment output file\n",
    "    column - column with sediment storage\n",
    "    '''\n",
    "    sediments['D'] = pd.to_datetime(sediments.D)\n",
    "    sediments = sediments.set_index('D')\n",
    "    monthly_last = sediments.resample('M').last()\n",
    "    monthly_last = monthly_last.reset_index()\n",
    "    monthly_last['year'] = monthly_last.D.dt.year\n",
    "    monthly_last['month'] = monthly_last.D.dt.month\n",
    "    return monthly_last"
   ]
  },
  {
   "cell_type": "code",
   "execution_count": null,
   "id": "92dc0aa8-c72b-4623-a666-2180592c38c7",
   "metadata": {},
   "outputs": [],
   "source": []
  },
  {
   "cell_type": "code",
   "execution_count": null,
   "id": "893a1901-7d2b-46b7-a648-0cb1b14919bc",
   "metadata": {},
   "outputs": [],
   "source": []
  },
  {
   "cell_type": "code",
   "execution_count": null,
   "id": "0d20a38d-00a3-440a-b444-221b5e9fa182",
   "metadata": {},
   "outputs": [],
   "source": []
  },
  {
   "cell_type": "code",
   "execution_count": null,
   "id": "9e1a7672-73b9-4ce5-9e43-14fcf644b30a",
   "metadata": {},
   "outputs": [],
   "source": []
  },
  {
   "cell_type": "code",
   "execution_count": 7,
   "id": "13ea4e2e-1204-4f2c-a1c6-e00260d4f6d8",
   "metadata": {},
   "outputs": [
    {
     "name": "stdout",
     "output_type": "stream",
     "text": [
      "Processing landcover index 1 and percentile 20percent\n"
     ]
    },
    {
     "name": "stderr",
     "output_type": "stream",
     "text": [
      "<timed exec>:45: PerformanceWarning: DataFrame is highly fragmented.  This is usually the result of calling `frame.insert` many times, which has poor performance.  Consider joining all columns at once using pd.concat(axis=1) instead.  To get a de-fragmented frame, use `newframe = frame.copy()`\n"
     ]
    },
    {
     "name": "stdout",
     "output_type": "stream",
     "text": [
      "default land cover. monthly data: same\n",
      "Saved mustang_sediment_storage_end_of_each_month_once_landcover1_20percent.csv\n",
      "Processing landcover index 1 and percentile 30percent\n"
     ]
    },
    {
     "name": "stderr",
     "output_type": "stream",
     "text": [
      "<timed exec>:45: PerformanceWarning: DataFrame is highly fragmented.  This is usually the result of calling `frame.insert` many times, which has poor performance.  Consider joining all columns at once using pd.concat(axis=1) instead.  To get a de-fragmented frame, use `newframe = frame.copy()`\n"
     ]
    },
    {
     "name": "stdout",
     "output_type": "stream",
     "text": [
      "default land cover. monthly data: same\n",
      "Saved mustang_sediment_storage_end_of_each_month_once_landcover1_30percent.csv\n",
      "Processing landcover index 1 and percentile 40percent\n"
     ]
    },
    {
     "name": "stderr",
     "output_type": "stream",
     "text": [
      "<timed exec>:45: PerformanceWarning: DataFrame is highly fragmented.  This is usually the result of calling `frame.insert` many times, which has poor performance.  Consider joining all columns at once using pd.concat(axis=1) instead.  To get a de-fragmented frame, use `newframe = frame.copy()`\n"
     ]
    },
    {
     "name": "stdout",
     "output_type": "stream",
     "text": [
      "default land cover. monthly data: same\n",
      "Saved mustang_sediment_storage_end_of_each_month_once_landcover1_40percent.csv\n",
      "Processing landcover index 1 and percentile 50percent\n"
     ]
    },
    {
     "name": "stderr",
     "output_type": "stream",
     "text": [
      "<timed exec>:45: PerformanceWarning: DataFrame is highly fragmented.  This is usually the result of calling `frame.insert` many times, which has poor performance.  Consider joining all columns at once using pd.concat(axis=1) instead.  To get a de-fragmented frame, use `newframe = frame.copy()`\n"
     ]
    },
    {
     "name": "stdout",
     "output_type": "stream",
     "text": [
      "default land cover. monthly data: same\n",
      "Saved mustang_sediment_storage_end_of_each_month_once_landcover1_50percent.csv\n",
      "Processing landcover index 1 and percentile 60percent\n"
     ]
    },
    {
     "name": "stderr",
     "output_type": "stream",
     "text": [
      "<timed exec>:45: PerformanceWarning: DataFrame is highly fragmented.  This is usually the result of calling `frame.insert` many times, which has poor performance.  Consider joining all columns at once using pd.concat(axis=1) instead.  To get a de-fragmented frame, use `newframe = frame.copy()`\n"
     ]
    },
    {
     "name": "stdout",
     "output_type": "stream",
     "text": [
      "default land cover. monthly data: same\n",
      "Saved mustang_sediment_storage_end_of_each_month_once_landcover1_60percent.csv\n",
      "Processing landcover index 2 and percentile 20percent\n"
     ]
    },
    {
     "name": "stderr",
     "output_type": "stream",
     "text": [
      "<timed exec>:45: PerformanceWarning: DataFrame is highly fragmented.  This is usually the result of calling `frame.insert` many times, which has poor performance.  Consider joining all columns at once using pd.concat(axis=1) instead.  To get a de-fragmented frame, use `newframe = frame.copy()`\n"
     ]
    },
    {
     "name": "stdout",
     "output_type": "stream",
     "text": [
      "default land cover. monthly data: same\n",
      "Saved mustang_sediment_storage_end_of_each_month_once_landcover2_20percent.csv\n",
      "Processing landcover index 2 and percentile 30percent\n"
     ]
    },
    {
     "name": "stderr",
     "output_type": "stream",
     "text": [
      "<timed exec>:45: PerformanceWarning: DataFrame is highly fragmented.  This is usually the result of calling `frame.insert` many times, which has poor performance.  Consider joining all columns at once using pd.concat(axis=1) instead.  To get a de-fragmented frame, use `newframe = frame.copy()`\n"
     ]
    },
    {
     "name": "stdout",
     "output_type": "stream",
     "text": [
      "default land cover. monthly data: same\n",
      "Saved mustang_sediment_storage_end_of_each_month_once_landcover2_30percent.csv\n",
      "Processing landcover index 2 and percentile 40percent\n"
     ]
    },
    {
     "name": "stderr",
     "output_type": "stream",
     "text": [
      "<timed exec>:45: PerformanceWarning: DataFrame is highly fragmented.  This is usually the result of calling `frame.insert` many times, which has poor performance.  Consider joining all columns at once using pd.concat(axis=1) instead.  To get a de-fragmented frame, use `newframe = frame.copy()`\n"
     ]
    },
    {
     "name": "stdout",
     "output_type": "stream",
     "text": [
      "default land cover. monthly data: same\n",
      "Saved mustang_sediment_storage_end_of_each_month_once_landcover2_40percent.csv\n",
      "Processing landcover index 2 and percentile 50percent\n"
     ]
    },
    {
     "name": "stderr",
     "output_type": "stream",
     "text": [
      "<timed exec>:45: PerformanceWarning: DataFrame is highly fragmented.  This is usually the result of calling `frame.insert` many times, which has poor performance.  Consider joining all columns at once using pd.concat(axis=1) instead.  To get a de-fragmented frame, use `newframe = frame.copy()`\n"
     ]
    },
    {
     "name": "stdout",
     "output_type": "stream",
     "text": [
      "default land cover. monthly data: same\n",
      "Saved mustang_sediment_storage_end_of_each_month_once_landcover2_50percent.csv\n",
      "Processing landcover index 2 and percentile 60percent\n"
     ]
    },
    {
     "name": "stderr",
     "output_type": "stream",
     "text": [
      "<timed exec>:45: PerformanceWarning: DataFrame is highly fragmented.  This is usually the result of calling `frame.insert` many times, which has poor performance.  Consider joining all columns at once using pd.concat(axis=1) instead.  To get a de-fragmented frame, use `newframe = frame.copy()`\n"
     ]
    },
    {
     "name": "stdout",
     "output_type": "stream",
     "text": [
      "default land cover. monthly data: same\n",
      "Saved mustang_sediment_storage_end_of_each_month_once_landcover2_60percent.csv\n",
      "Processing landcover index 3 and percentile 20percent\n"
     ]
    },
    {
     "name": "stderr",
     "output_type": "stream",
     "text": [
      "<timed exec>:45: PerformanceWarning: DataFrame is highly fragmented.  This is usually the result of calling `frame.insert` many times, which has poor performance.  Consider joining all columns at once using pd.concat(axis=1) instead.  To get a de-fragmented frame, use `newframe = frame.copy()`\n"
     ]
    },
    {
     "name": "stdout",
     "output_type": "stream",
     "text": [
      "default land cover. monthly data: same\n",
      "Saved mustang_sediment_storage_end_of_each_month_once_landcover3_20percent.csv\n",
      "Processing landcover index 3 and percentile 30percent\n"
     ]
    },
    {
     "name": "stderr",
     "output_type": "stream",
     "text": [
      "<timed exec>:45: PerformanceWarning: DataFrame is highly fragmented.  This is usually the result of calling `frame.insert` many times, which has poor performance.  Consider joining all columns at once using pd.concat(axis=1) instead.  To get a de-fragmented frame, use `newframe = frame.copy()`\n"
     ]
    },
    {
     "name": "stdout",
     "output_type": "stream",
     "text": [
      "default land cover. monthly data: same\n",
      "Saved mustang_sediment_storage_end_of_each_month_once_landcover3_30percent.csv\n",
      "Processing landcover index 3 and percentile 40percent\n"
     ]
    },
    {
     "name": "stderr",
     "output_type": "stream",
     "text": [
      "<timed exec>:45: PerformanceWarning: DataFrame is highly fragmented.  This is usually the result of calling `frame.insert` many times, which has poor performance.  Consider joining all columns at once using pd.concat(axis=1) instead.  To get a de-fragmented frame, use `newframe = frame.copy()`\n"
     ]
    },
    {
     "name": "stdout",
     "output_type": "stream",
     "text": [
      "default land cover. monthly data: same\n",
      "Saved mustang_sediment_storage_end_of_each_month_once_landcover3_40percent.csv\n",
      "Processing landcover index 3 and percentile 50percent\n"
     ]
    },
    {
     "name": "stderr",
     "output_type": "stream",
     "text": [
      "<timed exec>:45: PerformanceWarning: DataFrame is highly fragmented.  This is usually the result of calling `frame.insert` many times, which has poor performance.  Consider joining all columns at once using pd.concat(axis=1) instead.  To get a de-fragmented frame, use `newframe = frame.copy()`\n"
     ]
    },
    {
     "name": "stdout",
     "output_type": "stream",
     "text": [
      "default land cover. monthly data: same\n",
      "Saved mustang_sediment_storage_end_of_each_month_once_landcover3_50percent.csv\n",
      "Processing landcover index 3 and percentile 60percent\n"
     ]
    },
    {
     "name": "stderr",
     "output_type": "stream",
     "text": [
      "<timed exec>:45: PerformanceWarning: DataFrame is highly fragmented.  This is usually the result of calling `frame.insert` many times, which has poor performance.  Consider joining all columns at once using pd.concat(axis=1) instead.  To get a de-fragmented frame, use `newframe = frame.copy()`\n"
     ]
    },
    {
     "name": "stdout",
     "output_type": "stream",
     "text": [
      "default land cover. monthly data: same\n",
      "Saved mustang_sediment_storage_end_of_each_month_once_landcover3_60percent.csv\n",
      "Processing landcover index 4 and percentile 20percent\n"
     ]
    },
    {
     "name": "stderr",
     "output_type": "stream",
     "text": [
      "<timed exec>:45: PerformanceWarning: DataFrame is highly fragmented.  This is usually the result of calling `frame.insert` many times, which has poor performance.  Consider joining all columns at once using pd.concat(axis=1) instead.  To get a de-fragmented frame, use `newframe = frame.copy()`\n"
     ]
    },
    {
     "name": "stdout",
     "output_type": "stream",
     "text": [
      "default land cover. monthly data: same\n",
      "Saved mustang_sediment_storage_end_of_each_month_once_landcover4_20percent.csv\n",
      "Processing landcover index 4 and percentile 30percent\n"
     ]
    },
    {
     "name": "stderr",
     "output_type": "stream",
     "text": [
      "<timed exec>:45: PerformanceWarning: DataFrame is highly fragmented.  This is usually the result of calling `frame.insert` many times, which has poor performance.  Consider joining all columns at once using pd.concat(axis=1) instead.  To get a de-fragmented frame, use `newframe = frame.copy()`\n"
     ]
    },
    {
     "name": "stdout",
     "output_type": "stream",
     "text": [
      "default land cover. monthly data: same\n",
      "Saved mustang_sediment_storage_end_of_each_month_once_landcover4_30percent.csv\n",
      "Processing landcover index 4 and percentile 40percent\n"
     ]
    },
    {
     "name": "stderr",
     "output_type": "stream",
     "text": [
      "<timed exec>:45: PerformanceWarning: DataFrame is highly fragmented.  This is usually the result of calling `frame.insert` many times, which has poor performance.  Consider joining all columns at once using pd.concat(axis=1) instead.  To get a de-fragmented frame, use `newframe = frame.copy()`\n"
     ]
    },
    {
     "name": "stdout",
     "output_type": "stream",
     "text": [
      "default land cover. monthly data: same\n",
      "Saved mustang_sediment_storage_end_of_each_month_once_landcover4_40percent.csv\n",
      "Processing landcover index 4 and percentile 50percent\n"
     ]
    },
    {
     "name": "stderr",
     "output_type": "stream",
     "text": [
      "<timed exec>:45: PerformanceWarning: DataFrame is highly fragmented.  This is usually the result of calling `frame.insert` many times, which has poor performance.  Consider joining all columns at once using pd.concat(axis=1) instead.  To get a de-fragmented frame, use `newframe = frame.copy()`\n"
     ]
    },
    {
     "name": "stdout",
     "output_type": "stream",
     "text": [
      "default land cover. monthly data: same\n",
      "Saved mustang_sediment_storage_end_of_each_month_once_landcover4_50percent.csv\n",
      "Processing landcover index 4 and percentile 60percent\n"
     ]
    },
    {
     "name": "stderr",
     "output_type": "stream",
     "text": [
      "<timed exec>:45: PerformanceWarning: DataFrame is highly fragmented.  This is usually the result of calling `frame.insert` many times, which has poor performance.  Consider joining all columns at once using pd.concat(axis=1) instead.  To get a de-fragmented frame, use `newframe = frame.copy()`\n"
     ]
    },
    {
     "name": "stdout",
     "output_type": "stream",
     "text": [
      "default land cover. monthly data: same\n",
      "Saved mustang_sediment_storage_end_of_each_month_once_landcover4_60percent.csv\n",
      "Processing landcover index 5 and percentile 20percent\n"
     ]
    },
    {
     "name": "stderr",
     "output_type": "stream",
     "text": [
      "<timed exec>:45: PerformanceWarning: DataFrame is highly fragmented.  This is usually the result of calling `frame.insert` many times, which has poor performance.  Consider joining all columns at once using pd.concat(axis=1) instead.  To get a de-fragmented frame, use `newframe = frame.copy()`\n"
     ]
    },
    {
     "name": "stdout",
     "output_type": "stream",
     "text": [
      "default land cover. monthly data: same\n",
      "Saved mustang_sediment_storage_end_of_each_month_once_landcover5_20percent.csv\n",
      "Processing landcover index 5 and percentile 30percent\n"
     ]
    },
    {
     "name": "stderr",
     "output_type": "stream",
     "text": [
      "<timed exec>:45: PerformanceWarning: DataFrame is highly fragmented.  This is usually the result of calling `frame.insert` many times, which has poor performance.  Consider joining all columns at once using pd.concat(axis=1) instead.  To get a de-fragmented frame, use `newframe = frame.copy()`\n"
     ]
    },
    {
     "name": "stdout",
     "output_type": "stream",
     "text": [
      "default land cover. monthly data: same\n",
      "Saved mustang_sediment_storage_end_of_each_month_once_landcover5_30percent.csv\n",
      "Processing landcover index 5 and percentile 40percent\n"
     ]
    },
    {
     "name": "stderr",
     "output_type": "stream",
     "text": [
      "<timed exec>:45: PerformanceWarning: DataFrame is highly fragmented.  This is usually the result of calling `frame.insert` many times, which has poor performance.  Consider joining all columns at once using pd.concat(axis=1) instead.  To get a de-fragmented frame, use `newframe = frame.copy()`\n"
     ]
    },
    {
     "name": "stdout",
     "output_type": "stream",
     "text": [
      "default land cover. monthly data: same\n",
      "Saved mustang_sediment_storage_end_of_each_month_once_landcover5_40percent.csv\n",
      "Processing landcover index 5 and percentile 50percent\n"
     ]
    },
    {
     "name": "stderr",
     "output_type": "stream",
     "text": [
      "<timed exec>:45: PerformanceWarning: DataFrame is highly fragmented.  This is usually the result of calling `frame.insert` many times, which has poor performance.  Consider joining all columns at once using pd.concat(axis=1) instead.  To get a de-fragmented frame, use `newframe = frame.copy()`\n"
     ]
    },
    {
     "name": "stdout",
     "output_type": "stream",
     "text": [
      "default land cover. monthly data: same\n",
      "Saved mustang_sediment_storage_end_of_each_month_once_landcover5_50percent.csv\n",
      "Processing landcover index 5 and percentile 60percent\n"
     ]
    },
    {
     "name": "stderr",
     "output_type": "stream",
     "text": [
      "<timed exec>:45: PerformanceWarning: DataFrame is highly fragmented.  This is usually the result of calling `frame.insert` many times, which has poor performance.  Consider joining all columns at once using pd.concat(axis=1) instead.  To get a de-fragmented frame, use `newframe = frame.copy()`\n"
     ]
    },
    {
     "name": "stdout",
     "output_type": "stream",
     "text": [
      "default land cover. monthly data: same\n",
      "Saved mustang_sediment_storage_end_of_each_month_once_landcover5_60percent.csv\n",
      "CPU times: user 24min 4s, sys: 1min 6s, total: 25min 10s\n",
      "Wall time: 25min 35s\n"
     ]
    }
   ],
   "source": [
    "%%time\n",
    "\n",
    "# Define the list of landcover indices and percentiles\n",
    "landcover_indices = [1, 2, 3, 4, 5]\n",
    "percentiles = ['20percent', '30percent', '40percent', '50percent', '60percent']\n",
    "# percentiles = ['30percent']\n",
    "location = 'mustang'\n",
    "method = 'once' \n",
    "\n",
    "# Set the column and other parameters\n",
    "column = 'sc'\n",
    "\n",
    "# Load elevation data and define the output path\n",
    "elevation = pd.read_csv(f'/Users/varyabazilova/Desktop/paper2/downscaling_simple/coordinates_and_elevation_with_labels_{location}.csv')[['cellnr2', 'band_data']]\n",
    "elevation = elevation.transpose()\n",
    "elevation_list = elevation.loc['cellnr2'].tolist() \n",
    "\n",
    "\n",
    "df = pd.DataFrame()  # Assuming `df` is initialized as needed\n",
    "\n",
    "# Loop over each landcover index\n",
    "for landcover_idx in landcover_indices:\n",
    "    # Loop over each percentile\n",
    "    for percentile in percentiles:\n",
    "        print(f\"Processing landcover index {landcover_idx} and percentile {percentile}\")\n",
    "        \n",
    "        # Define folder paths\n",
    "        folder_path = f'/Volumes/T7 Shield/202409_paper2_modelruns/May2025_30years/SL_{method}/{landcover_idx}landcover_{percentile}/{location}_climate_cut'\n",
    "        output_folder = f'/Users/varyabazilova/Desktop/paper2/202406_modelruns/30years/2025Jan_output/sediment_storage/'\n",
    "        result_df = pd.DataFrame()\n",
    "\n",
    "        # Iterate over files in the folder\n",
    "        for folder_name in os.listdir(folder_path):\n",
    "            # Skip hidden and .csv files\n",
    "            if folder_name.endswith('.csv') or folder_name.startswith('.'):\n",
    "                continue\n",
    "\n",
    "            file_path = os.path.join(folder_path, folder_name, 'Sediment.out')\n",
    "            if os.path.isfile(file_path):\n",
    "                # Read sediment data and calculate monthly sediment yield\n",
    "                sediments = pd.read_csv(file_path)\n",
    "                output_df = sediment_storage(sediments)\n",
    "                \n",
    "                # Take the specified column and rename it\n",
    "                name_column = output_df[column]\n",
    "                column_name = f'{column}_{folder_name}'\n",
    "                result_df[column_name] = name_column\n",
    "                result_df.columns = [col[-3:] for col in result_df.columns]\n",
    "\n",
    "        # Filter and check columns with elevation list\n",
    "        result_df = result_df[elevation_list]\n",
    "        if elevation_list == result_df.columns.tolist():\n",
    "            print(\"default land cover. monthly data: same\")\n",
    "        else:\n",
    "            print(\"not the same\")\n",
    "\n",
    "        # Rename columns according to elevation, merge with timestep, and add land cover info\n",
    "        result_df.columns = elevation.loc['band_data']\n",
    "        result_df = pd.concat([df, result_df], axis=1)\n",
    "        result_df['land_cover'] = f'landcover{landcover_idx}'\n",
    "\n",
    "        # Save the DataFrame to a CSV file with both landcover and percentile in the filename\n",
    "        output_filename = f'{location}_sediment_storage_end_of_each_month_{method}_landcover{landcover_idx}_{percentile}.csv'\n",
    "        result_df.to_csv(os.path.join(output_folder, output_filename), index=False)\n",
    "\n",
    "        print(f\"Saved {output_filename}\")"
   ]
  },
  {
   "cell_type": "code",
   "execution_count": null,
   "id": "0edd1b54-b6e8-4e9e-96ac-4e3117aaf8cc",
   "metadata": {},
   "outputs": [],
   "source": []
  },
  {
   "cell_type": "code",
   "execution_count": null,
   "id": "62457d8b-04a0-42e0-b01a-7bd7ed8380ee",
   "metadata": {},
   "outputs": [],
   "source": []
  },
  {
   "cell_type": "code",
   "execution_count": null,
   "id": "b1eb7658-9794-438a-8749-af292814781d",
   "metadata": {},
   "outputs": [],
   "source": []
  },
  {
   "cell_type": "code",
   "execution_count": 8,
   "id": "26634574-b034-40ea-b98e-9f257cd0d119",
   "metadata": {},
   "outputs": [],
   "source": [
    "path = '/Volumes/T7 Shield/202409_paper2_modelruns/30years/SL_daily/1landcover_20percent/langtang_climate_cut/13c/Sediment.out'"
   ]
  },
  {
   "cell_type": "code",
   "execution_count": 9,
   "id": "b8399062-7746-4d15-ae4e-ffb946d2ce46",
   "metadata": {},
   "outputs": [],
   "source": [
    "testdf = pd.read_csv(path) "
   ]
  },
  {
   "cell_type": "code",
   "execution_count": 11,
   "id": "b401ae97-c5ba-4c35-9fd0-60b726043b6b",
   "metadata": {},
   "outputs": [],
   "source": [
    "def sediment_storage(sediments):\n",
    "    '''\n",
    "    sediments - sediment output file\n",
    "    column - column with sediment storage\n",
    "    '''\n",
    "    sediments['D'] = pd.to_datetime(sediments.D)\n",
    "    sediments = sediments.set_index('D')\n",
    "    monthly_last = sediments.resample('M').last()\n",
    "    monthly_last = monthly_last.reset_index()\n",
    "    monthly_last['year'] = monthly_last.D.dt.year\n",
    "    monthly_last['month'] = monthly_last.D.dt.month\n",
    "    return monthly_last"
   ]
  },
  {
   "cell_type": "code",
   "execution_count": 17,
   "id": "60f6542f-c5e2-4a1e-917f-28858d575584",
   "metadata": {},
   "outputs": [],
   "source": [
    "df = sediment_storage(testdf)\n",
    "df = df.reset_index()"
   ]
  },
  {
   "cell_type": "code",
   "execution_count": 18,
   "id": "d79b359b-7b02-49d1-93b5-9e011e5814e3",
   "metadata": {},
   "outputs": [],
   "source": [
    "df = df[['index', 'year', 'month']]"
   ]
  },
  {
   "cell_type": "code",
   "execution_count": 22,
   "id": "b13c81f7-0632-440f-a43e-d46605157db3",
   "metadata": {},
   "outputs": [],
   "source": [
    "df.to_csv('/Users/varyabazilova/Desktop/paper2/202406_modelruns/30years/2025Jan_output/dt_for_sediment_storage.csv')"
   ]
  },
  {
   "cell_type": "code",
   "execution_count": 20,
   "id": "4ba5c8ee-344a-402f-be5d-7d25583b47f0",
   "metadata": {},
   "outputs": [
    {
     "data": {
      "text/plain": [
       "'/Users/varyabazilova/Desktop/paper2/202406_modelruns/30years/2025Jan_output/sediment_storage/'"
      ]
     },
     "execution_count": 20,
     "metadata": {},
     "output_type": "execute_result"
    }
   ],
   "source": [
    "output_folder"
   ]
  },
  {
   "cell_type": "code",
   "execution_count": null,
   "id": "24f455c8-086f-4c79-9044-d7e30d6e29ea",
   "metadata": {},
   "outputs": [],
   "source": []
  }
 ],
 "metadata": {
  "kernelspec": {
   "display_name": "Python [conda env:sedcas] *",
   "language": "python",
   "name": "conda-env-sedcas-py"
  },
  "language_info": {
   "codemirror_mode": {
    "name": "ipython",
    "version": 3
   },
   "file_extension": ".py",
   "mimetype": "text/x-python",
   "name": "python",
   "nbconvert_exporter": "python",
   "pygments_lexer": "ipython3",
   "version": "3.9.7"
  }
 },
 "nbformat": 4,
 "nbformat_minor": 5
}
