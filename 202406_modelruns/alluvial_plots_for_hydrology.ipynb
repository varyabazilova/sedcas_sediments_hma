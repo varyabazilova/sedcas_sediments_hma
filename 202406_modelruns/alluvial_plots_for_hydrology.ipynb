{
 "cells": [
  {
   "cell_type": "code",
   "execution_count": 34,
   "id": "3ac4c198-04fc-490b-a433-b6e8e7c8077c",
   "metadata": {},
   "outputs": [],
   "source": [
    "# first things first: calculate snow melt, rainfall and glaciel melt -> these will be 3 IN components \n"
   ]
  },
  {
   "cell_type": "code",
   "execution_count": null,
   "id": "c7982724-4751-49b8-868c-bd8b6e0cf4c8",
   "metadata": {},
   "outputs": [],
   "source": []
  },
  {
   "cell_type": "code",
   "execution_count": 47,
   "id": "9fcb6581-9d78-4acb-949a-d4b67edbe20c",
   "metadata": {},
   "outputs": [],
   "source": [
    "incomp = 1600 +315\n",
    "outcomp = 390+ 1294 \n"
   ]
  },
  {
   "cell_type": "code",
   "execution_count": 48,
   "id": "7508b91d-7750-4a94-aa86-fc53af46f470",
   "metadata": {},
   "outputs": [
    {
     "data": {
      "text/plain": [
       "231"
      ]
     },
     "execution_count": 48,
     "metadata": {},
     "output_type": "execute_result"
    }
   ],
   "source": [
    "incomp - outcomp"
   ]
  },
  {
   "cell_type": "code",
   "execution_count": 65,
   "id": "4efb207e-9d52-4c44-b761-0e35bbf1cb68",
   "metadata": {},
   "outputs": [
    {
     "data": {
      "application/vnd.plotly.v1+json": {
       "config": {
        "plotlyServerURL": "https://plot.ly"
       },
       "data": [
        {
         "domain": {
          "x": [
           0,
           0.16799999999999998
          ],
          "y": [
           0,
           1
          ]
         },
         "link": {
          "color": [
           "#aaa",
           "#f4a582",
           "#de2d26",
           "#3572b0",
           "#c6dbef",
           "#238b45",
           "#ffdd44"
          ],
          "source": [
           0,
           1,
           2,
           3,
           3,
           3
          ],
          "target": [
           3,
           3,
           3,
           4,
           5,
           6
          ],
          "value": [
           1600,
           316,
           1075,
           386,
           2372,
           232
          ]
         },
         "node": {
          "color": [
           "#aaa",
           "#f4a582",
           "#de2d26",
           "#3572b0",
           "#c6dbef",
           "#238b45",
           "#ffdd44"
          ],
          "label": [
           "Precipitation",
           "Snow Melt",
           "Glacier Melt",
           "IN",
           "AET",
           "Q",
           "GW (soil)"
          ]
         },
         "type": "sankey"
        },
        {
         "domain": {
          "x": [
           0.208,
           0.376
          ],
          "y": [
           0,
           1
          ]
         },
         "link": {
          "color": [
           "#aaa",
           "#f4a582",
           "#de2d26",
           "#3572b0",
           "#c6dbef",
           "#238b45",
           "#ffdd44"
          ],
          "source": [
           0,
           1,
           2,
           3,
           3,
           3
          ],
          "target": [
           3,
           3,
           3,
           4,
           5,
           6
          ],
          "value": [
           1600,
           316,
           538,
           388,
           1834,
           231
          ]
         },
         "node": {
          "color": [
           "#aaa",
           "#f4a582",
           "#de2d26",
           "#3572b0",
           "#c6dbef",
           "#238b45",
           "#ffdd44"
          ],
          "label": [
           "Precipitation",
           "Snow Melt",
           "Glacier Melt",
           "IN",
           "AET",
           "Q",
           "GW (soil)"
          ]
         },
         "type": "sankey"
        },
        {
         "domain": {
          "x": [
           0.416,
           0.584
          ],
          "y": [
           0,
           1
          ]
         },
         "link": {
          "color": [
           "#aaa",
           "#f4a582",
           "#de2d26",
           "#3572b0",
           "#c6dbef",
           "#238b45",
           "#ffdd44"
          ],
          "source": [
           0,
           1,
           2,
           3,
           3,
           3
          ],
          "target": [
           3,
           3,
           3,
           4,
           5,
           6
          ],
          "value": [
           1600,
           316,
           538,
           404,
           1816,
           233
          ]
         },
         "node": {
          "color": [
           "#aaa",
           "#f4a582",
           "#de2d26",
           "#3572b0",
           "#c6dbef",
           "#238b45",
           "#ffdd44"
          ],
          "label": [
           "Precipitation",
           "Snow Melt",
           "Glacier Melt",
           "IN",
           "AET",
           "Q",
           "GW (soil)"
          ]
         },
         "type": "sankey"
        },
        {
         "domain": {
          "x": [
           0.624,
           0.792
          ],
          "y": [
           0,
           1
          ]
         },
         "link": {
          "color": [
           "#aaa",
           "#f4a582",
           "#de2d26",
           "#3572b0",
           "#c6dbef",
           "#238b45",
           "#ffdd44"
          ],
          "source": [
           0,
           1,
           2,
           3,
           3,
           3
          ],
          "target": [
           3,
           3,
           3,
           4,
           5,
           6
          ],
          "value": [
           1600,
           315,
           0.1,
           390,
           1294,
           231
          ]
         },
         "node": {
          "color": [
           "#aaa",
           "#f4a582",
           "#de2d26",
           "#3572b0",
           "#c6dbef",
           "#238b45",
           "#ffdd44"
          ],
          "label": [
           "Precipitation",
           "Snow Melt",
           "Glacier Melt",
           "IN",
           "AET",
           "Q",
           "GW (soil)"
          ]
         },
         "type": "sankey"
        },
        {
         "domain": {
          "x": [
           0.832,
           1
          ],
          "y": [
           0,
           1
          ]
         },
         "link": {
          "color": [
           "#aaa",
           "#f4a582",
           "#de2d26",
           "#3572b0",
           "#c6dbef",
           "#238b45",
           "#ffdd44"
          ],
          "source": [
           0,
           1,
           2,
           3,
           3,
           3
          ],
          "target": [
           3,
           3,
           3,
           4,
           5,
           6
          ],
          "value": [
           1600,
           316,
           0.1,
           423,
           1261,
           231
          ]
         },
         "node": {
          "color": [
           "#aaa",
           "#f4a582",
           "#de2d26",
           "#3572b0",
           "#c6dbef",
           "#238b45",
           "#ffdd44"
          ],
          "label": [
           "Precipitation",
           "Snow Melt",
           "Glacier Melt",
           "IN",
           "AET",
           "Q",
           "GW (soil)"
          ]
         },
         "type": "sankey"
        }
       ],
       "layout": {
        "autosize": true,
        "font": {
         "size": 12
        },
        "shapes": [
         {
          "line": {
           "color": "lightgray",
           "dash": "dash",
           "width": 1
          },
          "type": "line",
          "x0": 0,
          "x1": 1,
          "xref": "paper",
          "y0": 0.1111111111111111,
          "y1": 0.1111111111111111,
          "yref": "paper"
         },
         {
          "line": {
           "color": "lightgray",
           "dash": "dash",
           "width": 1
          },
          "type": "line",
          "x0": 0,
          "x1": 1,
          "xref": "paper",
          "y0": 0.2222222222222222,
          "y1": 0.2222222222222222,
          "yref": "paper"
         },
         {
          "line": {
           "color": "lightgray",
           "dash": "dash",
           "width": 1
          },
          "type": "line",
          "x0": 0,
          "x1": 1,
          "xref": "paper",
          "y0": 0.3333333333333333,
          "y1": 0.3333333333333333,
          "yref": "paper"
         },
         {
          "line": {
           "color": "lightgray",
           "dash": "dash",
           "width": 1
          },
          "type": "line",
          "x0": 0,
          "x1": 1,
          "xref": "paper",
          "y0": 0.4444444444444444,
          "y1": 0.4444444444444444,
          "yref": "paper"
         },
         {
          "line": {
           "color": "lightgray",
           "dash": "dash",
           "width": 1
          },
          "type": "line",
          "x0": 0,
          "x1": 1,
          "xref": "paper",
          "y0": 0.5555555555555556,
          "y1": 0.5555555555555556,
          "yref": "paper"
         },
         {
          "line": {
           "color": "lightgray",
           "dash": "dash",
           "width": 1
          },
          "type": "line",
          "x0": 0,
          "x1": 1,
          "xref": "paper",
          "y0": 0.6666666666666666,
          "y1": 0.6666666666666666,
          "yref": "paper"
         },
         {
          "line": {
           "color": "lightgray",
           "dash": "dash",
           "width": 1
          },
          "type": "line",
          "x0": 0,
          "x1": 1,
          "xref": "paper",
          "y0": 0.7777777777777778,
          "y1": 0.7777777777777778,
          "yref": "paper"
         },
         {
          "line": {
           "color": "lightgray",
           "dash": "dash",
           "width": 1
          },
          "type": "line",
          "x0": 0,
          "x1": 1,
          "xref": "paper",
          "y0": 0.8888888888888888,
          "y1": 0.8888888888888888,
          "yref": "paper"
         },
         {
          "line": {
           "color": "lightgray",
           "dash": "dash",
           "width": 1
          },
          "type": "line",
          "x0": 0,
          "x1": 1,
          "xref": "paper",
          "y0": 1,
          "y1": 1,
          "yref": "paper"
         }
        ],
        "template": {
         "data": {
          "bar": [
           {
            "error_x": {
             "color": "#2a3f5f"
            },
            "error_y": {
             "color": "#2a3f5f"
            },
            "marker": {
             "line": {
              "color": "#E5ECF6",
              "width": 0.5
             },
             "pattern": {
              "fillmode": "overlay",
              "size": 10,
              "solidity": 0.2
             }
            },
            "type": "bar"
           }
          ],
          "barpolar": [
           {
            "marker": {
             "line": {
              "color": "#E5ECF6",
              "width": 0.5
             },
             "pattern": {
              "fillmode": "overlay",
              "size": 10,
              "solidity": 0.2
             }
            },
            "type": "barpolar"
           }
          ],
          "carpet": [
           {
            "aaxis": {
             "endlinecolor": "#2a3f5f",
             "gridcolor": "white",
             "linecolor": "white",
             "minorgridcolor": "white",
             "startlinecolor": "#2a3f5f"
            },
            "baxis": {
             "endlinecolor": "#2a3f5f",
             "gridcolor": "white",
             "linecolor": "white",
             "minorgridcolor": "white",
             "startlinecolor": "#2a3f5f"
            },
            "type": "carpet"
           }
          ],
          "choropleth": [
           {
            "colorbar": {
             "outlinewidth": 0,
             "ticks": ""
            },
            "type": "choropleth"
           }
          ],
          "contour": [
           {
            "colorbar": {
             "outlinewidth": 0,
             "ticks": ""
            },
            "colorscale": [
             [
              0,
              "#0d0887"
             ],
             [
              0.1111111111111111,
              "#46039f"
             ],
             [
              0.2222222222222222,
              "#7201a8"
             ],
             [
              0.3333333333333333,
              "#9c179e"
             ],
             [
              0.4444444444444444,
              "#bd3786"
             ],
             [
              0.5555555555555556,
              "#d8576b"
             ],
             [
              0.6666666666666666,
              "#ed7953"
             ],
             [
              0.7777777777777778,
              "#fb9f3a"
             ],
             [
              0.8888888888888888,
              "#fdca26"
             ],
             [
              1,
              "#f0f921"
             ]
            ],
            "type": "contour"
           }
          ],
          "contourcarpet": [
           {
            "colorbar": {
             "outlinewidth": 0,
             "ticks": ""
            },
            "type": "contourcarpet"
           }
          ],
          "heatmap": [
           {
            "colorbar": {
             "outlinewidth": 0,
             "ticks": ""
            },
            "colorscale": [
             [
              0,
              "#0d0887"
             ],
             [
              0.1111111111111111,
              "#46039f"
             ],
             [
              0.2222222222222222,
              "#7201a8"
             ],
             [
              0.3333333333333333,
              "#9c179e"
             ],
             [
              0.4444444444444444,
              "#bd3786"
             ],
             [
              0.5555555555555556,
              "#d8576b"
             ],
             [
              0.6666666666666666,
              "#ed7953"
             ],
             [
              0.7777777777777778,
              "#fb9f3a"
             ],
             [
              0.8888888888888888,
              "#fdca26"
             ],
             [
              1,
              "#f0f921"
             ]
            ],
            "type": "heatmap"
           }
          ],
          "heatmapgl": [
           {
            "colorbar": {
             "outlinewidth": 0,
             "ticks": ""
            },
            "colorscale": [
             [
              0,
              "#0d0887"
             ],
             [
              0.1111111111111111,
              "#46039f"
             ],
             [
              0.2222222222222222,
              "#7201a8"
             ],
             [
              0.3333333333333333,
              "#9c179e"
             ],
             [
              0.4444444444444444,
              "#bd3786"
             ],
             [
              0.5555555555555556,
              "#d8576b"
             ],
             [
              0.6666666666666666,
              "#ed7953"
             ],
             [
              0.7777777777777778,
              "#fb9f3a"
             ],
             [
              0.8888888888888888,
              "#fdca26"
             ],
             [
              1,
              "#f0f921"
             ]
            ],
            "type": "heatmapgl"
           }
          ],
          "histogram": [
           {
            "marker": {
             "pattern": {
              "fillmode": "overlay",
              "size": 10,
              "solidity": 0.2
             }
            },
            "type": "histogram"
           }
          ],
          "histogram2d": [
           {
            "colorbar": {
             "outlinewidth": 0,
             "ticks": ""
            },
            "colorscale": [
             [
              0,
              "#0d0887"
             ],
             [
              0.1111111111111111,
              "#46039f"
             ],
             [
              0.2222222222222222,
              "#7201a8"
             ],
             [
              0.3333333333333333,
              "#9c179e"
             ],
             [
              0.4444444444444444,
              "#bd3786"
             ],
             [
              0.5555555555555556,
              "#d8576b"
             ],
             [
              0.6666666666666666,
              "#ed7953"
             ],
             [
              0.7777777777777778,
              "#fb9f3a"
             ],
             [
              0.8888888888888888,
              "#fdca26"
             ],
             [
              1,
              "#f0f921"
             ]
            ],
            "type": "histogram2d"
           }
          ],
          "histogram2dcontour": [
           {
            "colorbar": {
             "outlinewidth": 0,
             "ticks": ""
            },
            "colorscale": [
             [
              0,
              "#0d0887"
             ],
             [
              0.1111111111111111,
              "#46039f"
             ],
             [
              0.2222222222222222,
              "#7201a8"
             ],
             [
              0.3333333333333333,
              "#9c179e"
             ],
             [
              0.4444444444444444,
              "#bd3786"
             ],
             [
              0.5555555555555556,
              "#d8576b"
             ],
             [
              0.6666666666666666,
              "#ed7953"
             ],
             [
              0.7777777777777778,
              "#fb9f3a"
             ],
             [
              0.8888888888888888,
              "#fdca26"
             ],
             [
              1,
              "#f0f921"
             ]
            ],
            "type": "histogram2dcontour"
           }
          ],
          "mesh3d": [
           {
            "colorbar": {
             "outlinewidth": 0,
             "ticks": ""
            },
            "type": "mesh3d"
           }
          ],
          "parcoords": [
           {
            "line": {
             "colorbar": {
              "outlinewidth": 0,
              "ticks": ""
             }
            },
            "type": "parcoords"
           }
          ],
          "pie": [
           {
            "automargin": true,
            "type": "pie"
           }
          ],
          "scatter": [
           {
            "fillpattern": {
             "fillmode": "overlay",
             "size": 10,
             "solidity": 0.2
            },
            "type": "scatter"
           }
          ],
          "scatter3d": [
           {
            "line": {
             "colorbar": {
              "outlinewidth": 0,
              "ticks": ""
             }
            },
            "marker": {
             "colorbar": {
              "outlinewidth": 0,
              "ticks": ""
             }
            },
            "type": "scatter3d"
           }
          ],
          "scattercarpet": [
           {
            "marker": {
             "colorbar": {
              "outlinewidth": 0,
              "ticks": ""
             }
            },
            "type": "scattercarpet"
           }
          ],
          "scattergeo": [
           {
            "marker": {
             "colorbar": {
              "outlinewidth": 0,
              "ticks": ""
             }
            },
            "type": "scattergeo"
           }
          ],
          "scattergl": [
           {
            "marker": {
             "colorbar": {
              "outlinewidth": 0,
              "ticks": ""
             }
            },
            "type": "scattergl"
           }
          ],
          "scattermapbox": [
           {
            "marker": {
             "colorbar": {
              "outlinewidth": 0,
              "ticks": ""
             }
            },
            "type": "scattermapbox"
           }
          ],
          "scatterpolar": [
           {
            "marker": {
             "colorbar": {
              "outlinewidth": 0,
              "ticks": ""
             }
            },
            "type": "scatterpolar"
           }
          ],
          "scatterpolargl": [
           {
            "marker": {
             "colorbar": {
              "outlinewidth": 0,
              "ticks": ""
             }
            },
            "type": "scatterpolargl"
           }
          ],
          "scatterternary": [
           {
            "marker": {
             "colorbar": {
              "outlinewidth": 0,
              "ticks": ""
             }
            },
            "type": "scatterternary"
           }
          ],
          "surface": [
           {
            "colorbar": {
             "outlinewidth": 0,
             "ticks": ""
            },
            "colorscale": [
             [
              0,
              "#0d0887"
             ],
             [
              0.1111111111111111,
              "#46039f"
             ],
             [
              0.2222222222222222,
              "#7201a8"
             ],
             [
              0.3333333333333333,
              "#9c179e"
             ],
             [
              0.4444444444444444,
              "#bd3786"
             ],
             [
              0.5555555555555556,
              "#d8576b"
             ],
             [
              0.6666666666666666,
              "#ed7953"
             ],
             [
              0.7777777777777778,
              "#fb9f3a"
             ],
             [
              0.8888888888888888,
              "#fdca26"
             ],
             [
              1,
              "#f0f921"
             ]
            ],
            "type": "surface"
           }
          ],
          "table": [
           {
            "cells": {
             "fill": {
              "color": "#EBF0F8"
             },
             "line": {
              "color": "white"
             }
            },
            "header": {
             "fill": {
              "color": "#C8D4E3"
             },
             "line": {
              "color": "white"
             }
            },
            "type": "table"
           }
          ]
         },
         "layout": {
          "annotationdefaults": {
           "arrowcolor": "#2a3f5f",
           "arrowhead": 0,
           "arrowwidth": 1
          },
          "autotypenumbers": "strict",
          "coloraxis": {
           "colorbar": {
            "outlinewidth": 0,
            "ticks": ""
           }
          },
          "colorscale": {
           "diverging": [
            [
             0,
             "#8e0152"
            ],
            [
             0.1,
             "#c51b7d"
            ],
            [
             0.2,
             "#de77ae"
            ],
            [
             0.3,
             "#f1b6da"
            ],
            [
             0.4,
             "#fde0ef"
            ],
            [
             0.5,
             "#f7f7f7"
            ],
            [
             0.6,
             "#e6f5d0"
            ],
            [
             0.7,
             "#b8e186"
            ],
            [
             0.8,
             "#7fbc41"
            ],
            [
             0.9,
             "#4d9221"
            ],
            [
             1,
             "#276419"
            ]
           ],
           "sequential": [
            [
             0,
             "#0d0887"
            ],
            [
             0.1111111111111111,
             "#46039f"
            ],
            [
             0.2222222222222222,
             "#7201a8"
            ],
            [
             0.3333333333333333,
             "#9c179e"
            ],
            [
             0.4444444444444444,
             "#bd3786"
            ],
            [
             0.5555555555555556,
             "#d8576b"
            ],
            [
             0.6666666666666666,
             "#ed7953"
            ],
            [
             0.7777777777777778,
             "#fb9f3a"
            ],
            [
             0.8888888888888888,
             "#fdca26"
            ],
            [
             1,
             "#f0f921"
            ]
           ],
           "sequentialminus": [
            [
             0,
             "#0d0887"
            ],
            [
             0.1111111111111111,
             "#46039f"
            ],
            [
             0.2222222222222222,
             "#7201a8"
            ],
            [
             0.3333333333333333,
             "#9c179e"
            ],
            [
             0.4444444444444444,
             "#bd3786"
            ],
            [
             0.5555555555555556,
             "#d8576b"
            ],
            [
             0.6666666666666666,
             "#ed7953"
            ],
            [
             0.7777777777777778,
             "#fb9f3a"
            ],
            [
             0.8888888888888888,
             "#fdca26"
            ],
            [
             1,
             "#f0f921"
            ]
           ]
          },
          "colorway": [
           "#636efa",
           "#EF553B",
           "#00cc96",
           "#ab63fa",
           "#FFA15A",
           "#19d3f3",
           "#FF6692",
           "#B6E880",
           "#FF97FF",
           "#FECB52"
          ],
          "font": {
           "color": "#2a3f5f"
          },
          "geo": {
           "bgcolor": "white",
           "lakecolor": "white",
           "landcolor": "#E5ECF6",
           "showlakes": true,
           "showland": true,
           "subunitcolor": "white"
          },
          "hoverlabel": {
           "align": "left"
          },
          "hovermode": "closest",
          "mapbox": {
           "style": "light"
          },
          "paper_bgcolor": "white",
          "plot_bgcolor": "#E5ECF6",
          "polar": {
           "angularaxis": {
            "gridcolor": "white",
            "linecolor": "white",
            "ticks": ""
           },
           "bgcolor": "#E5ECF6",
           "radialaxis": {
            "gridcolor": "white",
            "linecolor": "white",
            "ticks": ""
           }
          },
          "scene": {
           "xaxis": {
            "backgroundcolor": "#E5ECF6",
            "gridcolor": "white",
            "gridwidth": 2,
            "linecolor": "white",
            "showbackground": true,
            "ticks": "",
            "zerolinecolor": "white"
           },
           "yaxis": {
            "backgroundcolor": "#E5ECF6",
            "gridcolor": "white",
            "gridwidth": 2,
            "linecolor": "white",
            "showbackground": true,
            "ticks": "",
            "zerolinecolor": "white"
           },
           "zaxis": {
            "backgroundcolor": "#E5ECF6",
            "gridcolor": "white",
            "gridwidth": 2,
            "linecolor": "white",
            "showbackground": true,
            "ticks": "",
            "zerolinecolor": "white"
           }
          },
          "shapedefaults": {
           "line": {
            "color": "#2a3f5f"
           }
          },
          "ternary": {
           "aaxis": {
            "gridcolor": "white",
            "linecolor": "white",
            "ticks": ""
           },
           "baxis": {
            "gridcolor": "white",
            "linecolor": "white",
            "ticks": ""
           },
           "bgcolor": "#E5ECF6",
           "caxis": {
            "gridcolor": "white",
            "linecolor": "white",
            "ticks": ""
           }
          },
          "title": {
           "x": 0.05
          },
          "xaxis": {
           "automargin": true,
           "gridcolor": "white",
           "linecolor": "white",
           "ticks": "",
           "title": {
            "standoff": 15
           },
           "zerolinecolor": "white",
           "zerolinewidth": 2
          },
          "yaxis": {
           "automargin": true,
           "gridcolor": "white",
           "linecolor": "white",
           "ticks": "",
           "title": {
            "standoff": 15
           },
           "zerolinecolor": "white",
           "zerolinewidth": 2
          }
         }
        }
       }
      },
      "image/png": "[encoded data removed]",
      "text/html": [
       "<div>                            <div id=\"b919bd09-96b9-48eb-9f40-0b1fd232c48e\" class=\"plotly-graph-div\" style=\"height:525px; width:100%;\"></div>            <script type=\"text/javascript\">                require([\"plotly\"], function(Plotly) {                    window.PLOTLYENV=window.PLOTLYENV || {};                                    if (document.getElementById(\"b919bd09-96b9-48eb-9f40-0b1fd232c48e\")) {                    Plotly.newPlot(                        \"b919bd09-96b9-48eb-9f40-0b1fd232c48e\",                        [{\"link\":{\"color\":[\"#aaa\",\"#f4a582\",\"#de2d26\",\"#3572b0\",\"#c6dbef\",\"#238b45\",\"#ffdd44\"],\"source\":[0,1,2,3,3,3],\"target\":[3,3,3,4,5,6],\"value\":[1600,316,1075,386,2372,232]},\"node\":{\"color\":[\"#aaa\",\"#f4a582\",\"#de2d26\",\"#3572b0\",\"#c6dbef\",\"#238b45\",\"#ffdd44\"],\"label\":[\"Precipitation\",\"Snow Melt\",\"Glacier Melt\",\"IN\",\"AET\",\"Q\",\"GW (soil)\"]},\"type\":\"sankey\",\"domain\":{\"x\":[0.0,0.16799999999999998],\"y\":[0.0,1.0]}},{\"link\":{\"color\":[\"#aaa\",\"#f4a582\",\"#de2d26\",\"#3572b0\",\"#c6dbef\",\"#238b45\",\"#ffdd44\"],\"source\":[0,1,2,3,3,3],\"target\":[3,3,3,4,5,6],\"value\":[1600,316,538,388,1834,231]},\"node\":{\"color\":[\"#aaa\",\"#f4a582\",\"#de2d26\",\"#3572b0\",\"#c6dbef\",\"#238b45\",\"#ffdd44\"],\"label\":[\"Precipitation\",\"Snow Melt\",\"Glacier Melt\",\"IN\",\"AET\",\"Q\",\"GW (soil)\"]},\"type\":\"sankey\",\"domain\":{\"x\":[0.208,0.376],\"y\":[0.0,1.0]}},{\"link\":{\"color\":[\"#aaa\",\"#f4a582\",\"#de2d26\",\"#3572b0\",\"#c6dbef\",\"#238b45\",\"#ffdd44\"],\"source\":[0,1,2,3,3,3],\"target\":[3,3,3,4,5,6],\"value\":[1600,316,538,404,1816,233]},\"node\":{\"color\":[\"#aaa\",\"#f4a582\",\"#de2d26\",\"#3572b0\",\"#c6dbef\",\"#238b45\",\"#ffdd44\"],\"label\":[\"Precipitation\",\"Snow Melt\",\"Glacier Melt\",\"IN\",\"AET\",\"Q\",\"GW (soil)\"]},\"type\":\"sankey\",\"domain\":{\"x\":[0.416,0.584],\"y\":[0.0,1.0]}},{\"link\":{\"color\":[\"#aaa\",\"#f4a582\",\"#de2d26\",\"#3572b0\",\"#c6dbef\",\"#238b45\",\"#ffdd44\"],\"source\":[0,1,2,3,3,3],\"target\":[3,3,3,4,5,6],\"value\":[1600,315,0.1,390,1294,231]},\"node\":{\"color\":[\"#aaa\",\"#f4a582\",\"#de2d26\",\"#3572b0\",\"#c6dbef\",\"#238b45\",\"#ffdd44\"],\"label\":[\"Precipitation\",\"Snow Melt\",\"Glacier Melt\",\"IN\",\"AET\",\"Q\",\"GW (soil)\"]},\"type\":\"sankey\",\"domain\":{\"x\":[0.624,0.792],\"y\":[0.0,1.0]}},{\"link\":{\"color\":[\"#aaa\",\"#f4a582\",\"#de2d26\",\"#3572b0\",\"#c6dbef\",\"#238b45\",\"#ffdd44\"],\"source\":[0,1,2,3,3,3],\"target\":[3,3,3,4,5,6],\"value\":[1600,316,0.1,423,1261,231]},\"node\":{\"color\":[\"#aaa\",\"#f4a582\",\"#de2d26\",\"#3572b0\",\"#c6dbef\",\"#238b45\",\"#ffdd44\"],\"label\":[\"Precipitation\",\"Snow Melt\",\"Glacier Melt\",\"IN\",\"AET\",\"Q\",\"GW (soil)\"]},\"type\":\"sankey\",\"domain\":{\"x\":[0.832,1.0],\"y\":[0.0,1.0]}}],                        {\"template\":{\"data\":{\"histogram2dcontour\":[{\"type\":\"histogram2dcontour\",\"colorbar\":{\"outlinewidth\":0,\"ticks\":\"\"},\"colorscale\":[[0.0,\"#0d0887\"],[0.1111111111111111,\"#46039f\"],[0.2222222222222222,\"#7201a8\"],[0.3333333333333333,\"#9c179e\"],[0.4444444444444444,\"#bd3786\"],[0.5555555555555556,\"#d8576b\"],[0.6666666666666666,\"#ed7953\"],[0.7777777777777778,\"#fb9f3a\"],[0.8888888888888888,\"#fdca26\"],[1.0,\"#f0f921\"]]}],\"choropleth\":[{\"type\":\"choropleth\",\"colorbar\":{\"outlinewidth\":0,\"ticks\":\"\"}}],\"histogram2d\":[{\"type\":\"histogram2d\",\"colorbar\":{\"outlinewidth\":0,\"ticks\":\"\"},\"colorscale\":[[0.0,\"#0d0887\"],[0.1111111111111111,\"#46039f\"],[0.2222222222222222,\"#7201a8\"],[0.3333333333333333,\"#9c179e\"],[0.4444444444444444,\"#bd3786\"],[0.5555555555555556,\"#d8576b\"],[0.6666666666666666,\"#ed7953\"],[0.7777777777777778,\"#fb9f3a\"],[0.8888888888888888,\"#fdca26\"],[1.0,\"#f0f921\"]]}],\"heatmap\":[{\"type\":\"heatmap\",\"colorbar\":{\"outlinewidth\":0,\"ticks\":\"\"},\"colorscale\":[[0.0,\"#0d0887\"],[0.1111111111111111,\"#46039f\"],[0.2222222222222222,\"#7201a8\"],[0.3333333333333333,\"#9c179e\"],[0.4444444444444444,\"#bd3786\"],[0.5555555555555556,\"#d8576b\"],[0.6666666666666666,\"#ed7953\"],[0.7777777777777778,\"#fb9f3a\"],[0.8888888888888888,\"#fdca26\"],[1.0,\"#f0f921\"]]}],\"heatmapgl\":[{\"type\":\"heatmapgl\",\"colorbar\":{\"outlinewidth\":0,\"ticks\":\"\"},\"colorscale\":[[0.0,\"#0d0887\"],[0.1111111111111111,\"#46039f\"],[0.2222222222222222,\"#7201a8\"],[0.3333333333333333,\"#9c179e\"],[0.4444444444444444,\"#bd3786\"],[0.5555555555555556,\"#d8576b\"],[0.6666666666666666,\"#ed7953\"],[0.7777777777777778,\"#fb9f3a\"],[0.8888888888888888,\"#fdca26\"],[1.0,\"#f0f921\"]]}],\"contourcarpet\":[{\"type\":\"contourcarpet\",\"colorbar\":{\"outlinewidth\":0,\"ticks\":\"\"}}],\"contour\":[{\"type\":\"contour\",\"colorbar\":{\"outlinewidth\":0,\"ticks\":\"\"},\"colorscale\":[[0.0,\"#0d0887\"],[0.1111111111111111,\"#46039f\"],[0.2222222222222222,\"#7201a8\"],[0.3333333333333333,\"#9c179e\"],[0.4444444444444444,\"#bd3786\"],[0.5555555555555556,\"#d8576b\"],[0.6666666666666666,\"#ed7953\"],[0.7777777777777778,\"#fb9f3a\"],[0.8888888888888888,\"#fdca26\"],[1.0,\"#f0f921\"]]}],\"surface\":[{\"type\":\"surface\",\"colorbar\":{\"outlinewidth\":0,\"ticks\":\"\"},\"colorscale\":[[0.0,\"#0d0887\"],[0.1111111111111111,\"#46039f\"],[0.2222222222222222,\"#7201a8\"],[0.3333333333333333,\"#9c179e\"],[0.4444444444444444,\"#bd3786\"],[0.5555555555555556,\"#d8576b\"],[0.6666666666666666,\"#ed7953\"],[0.7777777777777778,\"#fb9f3a\"],[0.8888888888888888,\"#fdca26\"],[1.0,\"#f0f921\"]]}],\"mesh3d\":[{\"type\":\"mesh3d\",\"colorbar\":{\"outlinewidth\":0,\"ticks\":\"\"}}],\"scatter\":[{\"fillpattern\":{\"fillmode\":\"overlay\",\"size\":10,\"solidity\":0.2},\"type\":\"scatter\"}],\"parcoords\":[{\"type\":\"parcoords\",\"line\":{\"colorbar\":{\"outlinewidth\":0,\"ticks\":\"\"}}}],\"scatterpolargl\":[{\"type\":\"scatterpolargl\",\"marker\":{\"colorbar\":{\"outlinewidth\":0,\"ticks\":\"\"}}}],\"bar\":[{\"error_x\":{\"color\":\"#2a3f5f\"},\"error_y\":{\"color\":\"#2a3f5f\"},\"marker\":{\"line\":{\"color\":\"#E5ECF6\",\"width\":0.5},\"pattern\":{\"fillmode\":\"overlay\",\"size\":10,\"solidity\":0.2}},\"type\":\"bar\"}],\"scattergeo\":[{\"type\":\"scattergeo\",\"marker\":{\"colorbar\":{\"outlinewidth\":0,\"ticks\":\"\"}}}],\"scatterpolar\":[{\"type\":\"scatterpolar\",\"marker\":{\"colorbar\":{\"outlinewidth\":0,\"ticks\":\"\"}}}],\"histogram\":[{\"marker\":{\"pattern\":{\"fillmode\":\"overlay\",\"size\":10,\"solidity\":0.2}},\"type\":\"histogram\"}],\"scattergl\":[{\"type\":\"scattergl\",\"marker\":{\"colorbar\":{\"outlinewidth\":0,\"ticks\":\"\"}}}],\"scatter3d\":[{\"type\":\"scatter3d\",\"line\":{\"colorbar\":{\"outlinewidth\":0,\"ticks\":\"\"}},\"marker\":{\"colorbar\":{\"outlinewidth\":0,\"ticks\":\"\"}}}],\"scattermapbox\":[{\"type\":\"scattermapbox\",\"marker\":{\"colorbar\":{\"outlinewidth\":0,\"ticks\":\"\"}}}],\"scatterternary\":[{\"type\":\"scatterternary\",\"marker\":{\"colorbar\":{\"outlinewidth\":0,\"ticks\":\"\"}}}],\"scattercarpet\":[{\"type\":\"scattercarpet\",\"marker\":{\"colorbar\":{\"outlinewidth\":0,\"ticks\":\"\"}}}],\"carpet\":[{\"aaxis\":{\"endlinecolor\":\"#2a3f5f\",\"gridcolor\":\"white\",\"linecolor\":\"white\",\"minorgridcolor\":\"white\",\"startlinecolor\":\"#2a3f5f\"},\"baxis\":{\"endlinecolor\":\"#2a3f5f\",\"gridcolor\":\"white\",\"linecolor\":\"white\",\"minorgridcolor\":\"white\",\"startlinecolor\":\"#2a3f5f\"},\"type\":\"carpet\"}],\"table\":[{\"cells\":{\"fill\":{\"color\":\"#EBF0F8\"},\"line\":{\"color\":\"white\"}},\"header\":{\"fill\":{\"color\":\"#C8D4E3\"},\"line\":{\"color\":\"white\"}},\"type\":\"table\"}],\"barpolar\":[{\"marker\":{\"line\":{\"color\":\"#E5ECF6\",\"width\":0.5},\"pattern\":{\"fillmode\":\"overlay\",\"size\":10,\"solidity\":0.2}},\"type\":\"barpolar\"}],\"pie\":[{\"automargin\":true,\"type\":\"pie\"}]},\"layout\":{\"autotypenumbers\":\"strict\",\"colorway\":[\"#636efa\",\"#EF553B\",\"#00cc96\",\"#ab63fa\",\"#FFA15A\",\"#19d3f3\",\"#FF6692\",\"#B6E880\",\"#FF97FF\",\"#FECB52\"],\"font\":{\"color\":\"#2a3f5f\"},\"hovermode\":\"closest\",\"hoverlabel\":{\"align\":\"left\"},\"paper_bgcolor\":\"white\",\"plot_bgcolor\":\"#E5ECF6\",\"polar\":{\"bgcolor\":\"#E5ECF6\",\"angularaxis\":{\"gridcolor\":\"white\",\"linecolor\":\"white\",\"ticks\":\"\"},\"radialaxis\":{\"gridcolor\":\"white\",\"linecolor\":\"white\",\"ticks\":\"\"}},\"ternary\":{\"bgcolor\":\"#E5ECF6\",\"aaxis\":{\"gridcolor\":\"white\",\"linecolor\":\"white\",\"ticks\":\"\"},\"baxis\":{\"gridcolor\":\"white\",\"linecolor\":\"white\",\"ticks\":\"\"},\"caxis\":{\"gridcolor\":\"white\",\"linecolor\":\"white\",\"ticks\":\"\"}},\"coloraxis\":{\"colorbar\":{\"outlinewidth\":0,\"ticks\":\"\"}},\"colorscale\":{\"sequential\":[[0.0,\"#0d0887\"],[0.1111111111111111,\"#46039f\"],[0.2222222222222222,\"#7201a8\"],[0.3333333333333333,\"#9c179e\"],[0.4444444444444444,\"#bd3786\"],[0.5555555555555556,\"#d8576b\"],[0.6666666666666666,\"#ed7953\"],[0.7777777777777778,\"#fb9f3a\"],[0.8888888888888888,\"#fdca26\"],[1.0,\"#f0f921\"]],\"sequentialminus\":[[0.0,\"#0d0887\"],[0.1111111111111111,\"#46039f\"],[0.2222222222222222,\"#7201a8\"],[0.3333333333333333,\"#9c179e\"],[0.4444444444444444,\"#bd3786\"],[0.5555555555555556,\"#d8576b\"],[0.6666666666666666,\"#ed7953\"],[0.7777777777777778,\"#fb9f3a\"],[0.8888888888888888,\"#fdca26\"],[1.0,\"#f0f921\"]],\"diverging\":[[0,\"#8e0152\"],[0.1,\"#c51b7d\"],[0.2,\"#de77ae\"],[0.3,\"#f1b6da\"],[0.4,\"#fde0ef\"],[0.5,\"#f7f7f7\"],[0.6,\"#e6f5d0\"],[0.7,\"#b8e186\"],[0.8,\"#7fbc41\"],[0.9,\"#4d9221\"],[1,\"#276419\"]]},\"xaxis\":{\"gridcolor\":\"white\",\"linecolor\":\"white\",\"ticks\":\"\",\"title\":{\"standoff\":15},\"zerolinecolor\":\"white\",\"automargin\":true,\"zerolinewidth\":2},\"yaxis\":{\"gridcolor\":\"white\",\"linecolor\":\"white\",\"ticks\":\"\",\"title\":{\"standoff\":15},\"zerolinecolor\":\"white\",\"automargin\":true,\"zerolinewidth\":2},\"scene\":{\"xaxis\":{\"backgroundcolor\":\"#E5ECF6\",\"gridcolor\":\"white\",\"linecolor\":\"white\",\"showbackground\":true,\"ticks\":\"\",\"zerolinecolor\":\"white\",\"gridwidth\":2},\"yaxis\":{\"backgroundcolor\":\"#E5ECF6\",\"gridcolor\":\"white\",\"linecolor\":\"white\",\"showbackground\":true,\"ticks\":\"\",\"zerolinecolor\":\"white\",\"gridwidth\":2},\"zaxis\":{\"backgroundcolor\":\"#E5ECF6\",\"gridcolor\":\"white\",\"linecolor\":\"white\",\"showbackground\":true,\"ticks\":\"\",\"zerolinecolor\":\"white\",\"gridwidth\":2}},\"shapedefaults\":{\"line\":{\"color\":\"#2a3f5f\"}},\"annotationdefaults\":{\"arrowcolor\":\"#2a3f5f\",\"arrowhead\":0,\"arrowwidth\":1},\"geo\":{\"bgcolor\":\"white\",\"landcolor\":\"#E5ECF6\",\"subunitcolor\":\"white\",\"showland\":true,\"showlakes\":true,\"lakecolor\":\"white\"},\"title\":{\"x\":0.05},\"mapbox\":{\"style\":\"light\"}}},\"font\":{\"size\":12},\"shapes\":[{\"line\":{\"color\":\"lightgray\",\"dash\":\"dash\",\"width\":1},\"type\":\"line\",\"x0\":0,\"x1\":1,\"xref\":\"paper\",\"y0\":0.1111111111111111,\"y1\":0.1111111111111111,\"yref\":\"paper\"},{\"line\":{\"color\":\"lightgray\",\"dash\":\"dash\",\"width\":1},\"type\":\"line\",\"x0\":0,\"x1\":1,\"xref\":\"paper\",\"y0\":0.2222222222222222,\"y1\":0.2222222222222222,\"yref\":\"paper\"},{\"line\":{\"color\":\"lightgray\",\"dash\":\"dash\",\"width\":1},\"type\":\"line\",\"x0\":0,\"x1\":1,\"xref\":\"paper\",\"y0\":0.3333333333333333,\"y1\":0.3333333333333333,\"yref\":\"paper\"},{\"line\":{\"color\":\"lightgray\",\"dash\":\"dash\",\"width\":1},\"type\":\"line\",\"x0\":0,\"x1\":1,\"xref\":\"paper\",\"y0\":0.4444444444444444,\"y1\":0.4444444444444444,\"yref\":\"paper\"},{\"line\":{\"color\":\"lightgray\",\"dash\":\"dash\",\"width\":1},\"type\":\"line\",\"x0\":0,\"x1\":1,\"xref\":\"paper\",\"y0\":0.5555555555555556,\"y1\":0.5555555555555556,\"yref\":\"paper\"},{\"line\":{\"color\":\"lightgray\",\"dash\":\"dash\",\"width\":1},\"type\":\"line\",\"x0\":0,\"x1\":1,\"xref\":\"paper\",\"y0\":0.6666666666666666,\"y1\":0.6666666666666666,\"yref\":\"paper\"},{\"line\":{\"color\":\"lightgray\",\"dash\":\"dash\",\"width\":1},\"type\":\"line\",\"x0\":0,\"x1\":1,\"xref\":\"paper\",\"y0\":0.7777777777777778,\"y1\":0.7777777777777778,\"yref\":\"paper\"},{\"line\":{\"color\":\"lightgray\",\"dash\":\"dash\",\"width\":1},\"type\":\"line\",\"x0\":0,\"x1\":1,\"xref\":\"paper\",\"y0\":0.8888888888888888,\"y1\":0.8888888888888888,\"yref\":\"paper\"},{\"line\":{\"color\":\"lightgray\",\"dash\":\"dash\",\"width\":1},\"type\":\"line\",\"x0\":0,\"x1\":1,\"xref\":\"paper\",\"y0\":1.0,\"y1\":1.0,\"yref\":\"paper\"}]},                        {\"responsive\": true}                    ).then(function(){\n",
       "                            \n",
       "var gd = document.getElementById('b919bd09-96b9-48eb-9f40-0b1fd232c48e');\n",
       "var x = new MutationObserver(function (mutations, observer) {{\n",
       "        var display = window.getComputedStyle(gd).display;\n",
       "        if (!display || display === 'none') {{\n",
       "            console.log([gd, 'removed!']);\n",
       "            Plotly.purge(gd);\n",
       "            observer.disconnect();\n",
       "        }}\n",
       "}});\n",
       "\n",
       "// Listen for the removal of the full notebook cells\n",
       "var notebookContainer = gd.closest('#notebook-container');\n",
       "if (notebookContainer) {{\n",
       "    x.observe(notebookContainer, {childList: true});\n",
       "}}\n",
       "\n",
       "// Listen for the clearing of the current output cell\n",
       "var outputEl = gd.closest('.output');\n",
       "if (outputEl) {{\n",
       "    x.observe(outputEl, {childList: true});\n",
       "}}\n",
       "\n",
       "                        })                };                });            </script>        </div>"
      ]
     },
     "metadata": {},
     "output_type": "display_data"
    }
   ],
   "source": [
    "import plotly.graph_objects as go\n",
    "from plotly.subplots import make_subplots\n",
    "\n",
    "# Define labels (Nodes) - same for both diagrams\n",
    "labels = [\"Precipitation\", \"Snow Melt\", \"Glacier Melt\",\n",
    "          \"IN\", \"AET\", \"Q\", \"GW (soil)\"]\n",
    "\n",
    "# Define flows (source -> target)\n",
    "source = [0, 1, 2,  # Rainfall, Snow Melt, Glacier Melt -> IN\n",
    "          3, 3, 3]  # IN -> AET, Q, GW (soil)\n",
    "\n",
    "target = [3, 3, 3,  # Rainfall, Snow Melt, Glacier Melt -> IN\n",
    "          4, 5, 6]  # IN -> AET, Q, GW (soil)\n",
    "\n",
    "\n",
    "\n",
    "\n",
    "#  **Panel 1** \n",
    "values1 = [1600, 316, 1075,  # Rainfall, Snow Melt, Glacier Melt\n",
    "           386, 2372, 232 ]  # AET, Q, GW (soil)\n",
    "total_in1 = sum(values1[:3])  \n",
    "\n",
    "# Values for **Panel 2** (Second Dataset)\n",
    "values2 = [1600, 316, 538,  # Inputs -> IN\n",
    "           388, 1834, 231]  # IN -> Outputs\n",
    "total_in2 = sum(values2[:3])  # Compute total IN\n",
    "\n",
    "\n",
    "#  **Panel 3** \n",
    "values3 = [1600, 316, 538,  # Rainfall, Snow Melt, Glacier Melt\n",
    "           404, 1816, 233 ]  # AET, Q, GW (soil)\n",
    "total_in3 = sum(values3[:3])  \n",
    "\n",
    "\n",
    "#  **Panel 4** \n",
    "values4 = [1600, 315, 0.1,  # Rainfall, Snow Melt, Glacier Melt\n",
    "           390, 1294, 231]  # AET, Q, GW (soil)\n",
    "total_in4 = sum(values4[:3])  \n",
    "\n",
    "\n",
    "\n",
    "#  **Panel 5** \n",
    "values5 = [1600, 316, 0.1,  # Rainfall, Snow Melt, Glacier Melt\n",
    "           423, 1261, 231]  # AET, Q, GW (soil)\n",
    "total_in5 = sum(values5[:3])  \n",
    "\n",
    "\n",
    "\n",
    "\n",
    "\n",
    "\n",
    "\n",
    "\n",
    "\n",
    "\n",
    "\n",
    "\n",
    "\n",
    "\n",
    "\n",
    "# # **Find the max IN value** to set consistent scaling\n",
    "# max_in = max(total_in1, total_in2, total_in3, total_in4, total_in5)\n",
    "\n",
    "# # **Normalize all values based on the largest total IN**\n",
    "# scaling_factor = 1 / max_in  # Scale everything proportionally\n",
    "\n",
    "# # Scale values to keep IN proportional while maintaining comparable structure\n",
    "# scaled_values1 = [v * scaling_factor for v in values1]\n",
    "# scaled_values2 = [v * scaling_factor for v in values2]\n",
    "# scaled_values3 = [v * scaling_factor for v in values3]\n",
    "# scaled_values4 = [v * scaling_factor for v in values4]\n",
    "# scaled_values5 = [v * scaling_factor for v in values5]\n",
    "\n",
    "\n",
    "\n",
    "\n",
    "\n",
    "\n",
    "\n",
    "\n",
    "# # Define colors\n",
    "node_colors = [\"#aaa\", \"#f4a582\", \"#de2d26\", \"#3572b0\", \"#c6dbef\", \"#238b45\", \"#ffdd44\"]\n",
    "link_colors = [\"#aaa\", \"#f4a582\", \"#de2d26\", \"#3572b0\", \"#c6dbef\", \"#238b45\", \"#ffdd44\"]\n",
    "\n",
    "# Create side-by-side Sankey diagrams\n",
    "fig = make_subplots(\n",
    "    rows=1, cols=5, \n",
    "    # subplot_titles=[\"Panel 1: Dataset A\", \"Panel 2: Dataset B\"],\n",
    "    specs=[[{\"type\": \"domain\"},{\"type\": \"domain\"}, {\"type\": \"domain\"}, {\"type\": \"domain\"}, {\"type\": \"domain\"}]]  # Ensure Sankey compatibility\n",
    ")\n",
    "\n",
    "\n",
    "\n",
    "\n",
    "\n",
    "\n",
    "\n",
    "\n",
    "# **Panel 1 (Left)**\n",
    "fig.add_trace(go.Sankey(\n",
    "    node=dict(label=labels, color=node_colors),\n",
    "    link=dict(source=source, target=target, value=values1, color=node_colors)\n",
    "), row=1, col=1)\n",
    "\n",
    "# **Panel 2 (Right)**\n",
    "fig.add_trace(go.Sankey(\n",
    "    node=dict(label=labels, color=node_colors),\n",
    "    link=dict(source=source, target=target, value=values2, color=link_colors)\n",
    "), row=1, col=2)\n",
    "\n",
    "# **Panel 3 (Right)**\n",
    "fig.add_trace(go.Sankey(\n",
    "    node=dict(label=labels, color=node_colors),\n",
    "    link=dict(source=source, target=target, value=values3, color=link_colors)\n",
    "), row=1, col=3)\n",
    "\n",
    "\n",
    "# **Panel 4 (Right)**\n",
    "fig.add_trace(go.Sankey(\n",
    "    node=dict(label=labels, color=node_colors),\n",
    "    link=dict(source=source, target=target, value=values4, color=link_colors)\n",
    "), row=1, col=4)\n",
    "\n",
    "# **Panel 5(Right)**\n",
    "fig.add_trace(go.Sankey(\n",
    "    node=dict(label=labels, color=link_colors),\n",
    "    link=dict(source=source, target=target, value=values5, color=link_colors)\n",
    "), row=1, col=5)\n",
    "\n",
    "\n",
    "\n",
    "# -------------------------- **Gridlines** (Simulated using Shapes)\n",
    "grid_lines = []\n",
    "num_lines = 9  # Number of grid lines\n",
    "spacing = 100 / num_lines  # Equal spacing for gridlines\n",
    "\n",
    "for i in range(1, num_lines + 1):\n",
    "    y_pos = i / num_lines  # Convert to a normalized position\n",
    "    grid_lines.append(dict(\n",
    "        type=\"line\",\n",
    "        x0=0, x1=1,  # Full width\n",
    "        y0=y_pos, y1=y_pos,\n",
    "        xref=\"paper\", yref=\"paper\",  # Apply to full figure\n",
    "        line=dict(color=\"lightgray\", width=1, dash=\"dash\")\n",
    "    ))\n",
    "\n",
    "# Update layout with gridlines\n",
    "fig.update_layout(\n",
    "    # title_text=\"Side-by-Side Hydrological Budget Sankey Diagram (With Gridlines)\",\n",
    "    font_size=12,\n",
    "    shapes=grid_lines  # Add gridlines to the figure\n",
    ")\n",
    "\n",
    "# # Show the figure\n",
    "fig.show()\n"
   ]
  },
  {
   "cell_type": "markdown",
   "id": "7b138b03-304c-4175-8555-bae84a3c0696",
   "metadata": {},
   "source": [
    "# try to plot barplots with hydrology for both mustang and langtang"
   ]
  },
  {
   "cell_type": "code",
   "execution_count": 35,
   "id": "302b1202-acd4-4f58-9073-b03f9d643ede",
   "metadata": {},
   "outputs": [],
   "source": [
    "\n",
    "langtang1 = pd.DataFrame({\n",
    "    \"Variable\": [\"aet\", \"pet\", \"Q\", \"glmelt\", \"snowmelt\", \"pr\", \"snowacc\", \"rainfall\"],\n",
    "    \"Value\": [386.382695, 718.870731, 2372.422865, 1075.562082, 315.896519, 1916.213203, 548.666848, 1600.316684]})\n",
    "\n",
    "\n",
    "langtang2 = pd.DataFrame({\n",
    "    \"Variable\": [\"aet\", \"pet\", \"Q\", \"glmelt\", \"snowmelt\", \"pr\", \"snowacc\", \"rainfall\"],\n",
    "    \"Value\": [388.228399, 728.996256, 1833.531970, 538.516890, 315.896519, 1916.213203, 548.666848, 1600.316684]})\n",
    "\n",
    "langtang3 = pd.DataFrame({\n",
    "    \"Variable\": [\"aet\", \"pet\", \"Q\", \"glmelt\", \"snowmelt\", \"pr\", \"snowacc\", \"rainfall\"],\n",
    "    \"Value\": [404.912404, 762.000153, 1816.798114, 538.516890, 315.896519, 1916.213203, 548.666848, 1600.316684]})\n",
    "\n",
    "langtang4 = pd.DataFrame({\n",
    "    \"Variable\": [\"aet\", \"pet\", \"Q\", \"glmelt\", \"snowmelt\", \"pr\", \"snowacc\", \"rainfall\"],\n",
    "    \"Value\": [390.074103, 739.121780, 1294.641074, 1.471698, 315.896519, 1916.213203, 548.666848, 1600.316684]})\n",
    "\n",
    "langtang5 = pd.DataFrame({\n",
    "    \"Variable\": [\"aet\", \"pet\", \"Q\", \"glmelt\", \"snowmelt\", \"pr\", \"snowacc\", \"rainfall\"],\n",
    "    \"Value\": [423.442113, 805.129574, 1261.173364, 1.471698, 315.896519, 1916.213203, 548.666848, 1600.316684]})\n",
    "\n",
    "\n",
    "\n"
   ]
  },
  {
   "cell_type": "code",
   "execution_count": 63,
   "id": "5630971b-9241-40ec-bc39-3038733f106f",
   "metadata": {},
   "outputs": [
    {
     "data": {
      "text/html": [
       "<div>\n",
       "<style scoped>\n",
       "    .dataframe tbody tr th:only-of-type {\n",
       "        vertical-align: middle;\n",
       "    }\n",
       "\n",
       "    .dataframe tbody tr th {\n",
       "        vertical-align: top;\n",
       "    }\n",
       "\n",
       "    .dataframe thead th {\n",
       "        text-align: right;\n",
       "    }\n",
       "</style>\n",
       "<table border=\"1\" class=\"dataframe\">\n",
       "  <thead>\n",
       "    <tr style=\"text-align: right;\">\n",
       "      <th></th>\n",
       "      <th>Variable</th>\n",
       "      <th>Value</th>\n",
       "    </tr>\n",
       "    <tr>\n",
       "      <th>landcover</th>\n",
       "      <th></th>\n",
       "      <th></th>\n",
       "    </tr>\n",
       "  </thead>\n",
       "  <tbody>\n",
       "    <tr>\n",
       "      <th>langtang1</th>\n",
       "      <td>aet</td>\n",
       "      <td>386.382695</td>\n",
       "    </tr>\n",
       "    <tr>\n",
       "      <th>langtang1</th>\n",
       "      <td>pet</td>\n",
       "      <td>718.870731</td>\n",
       "    </tr>\n",
       "    <tr>\n",
       "      <th>langtang1</th>\n",
       "      <td>Q</td>\n",
       "      <td>2372.422865</td>\n",
       "    </tr>\n",
       "    <tr>\n",
       "      <th>langtang1</th>\n",
       "      <td>glmelt</td>\n",
       "      <td>1075.562082</td>\n",
       "    </tr>\n",
       "    <tr>\n",
       "      <th>langtang1</th>\n",
       "      <td>snowmelt</td>\n",
       "      <td>315.896519</td>\n",
       "    </tr>\n",
       "  </tbody>\n",
       "</table>\n",
       "</div>"
      ],
      "text/plain": [
       "           Variable        Value\n",
       "landcover                       \n",
       "langtang1       aet   386.382695\n",
       "langtang1       pet   718.870731\n",
       "langtang1         Q  2372.422865\n",
       "langtang1    glmelt  1075.562082\n",
       "langtang1  snowmelt   315.896519"
      ]
     },
     "execution_count": 63,
     "metadata": {},
     "output_type": "execute_result"
    }
   ],
   "source": [
    "# Add a new column for each DataFrame name\n",
    "langtang1['landcover'] = 'langtang1'\n",
    "langtang2['landcover'] = 'langtang2'\n",
    "langtang3['landcover'] = 'langtang3'\n",
    "langtang4['landcover'] = 'langtang4'\n",
    "langtang5['landcover'] = 'langtang5'\n",
    "\n",
    "# Concatenate all DataFrames vertically, using the 'Date' column as the identifier\n",
    "df = pd.concat([langtang1, langtang2, langtang3, langtang4, langtang5])\n",
    "\n",
    "# Set 'Date' as the index\n",
    "df.set_index('landcover', inplace=True)\n",
    "\n",
    "# Display the merged DataFrame\n",
    "df.head()"
   ]
  },
  {
   "cell_type": "code",
   "execution_count": 64,
   "id": "27c32fde-3449-4bd3-83ef-d7a4492d98fe",
   "metadata": {},
   "outputs": [],
   "source": [
    "# MUSTANG"
   ]
  },
  {
   "cell_type": "code",
   "execution_count": null,
   "id": "302c7b1a-fae8-4cea-8696-1862f9d24d5e",
   "metadata": {},
   "outputs": [],
   "source": []
  },
  {
   "cell_type": "code",
   "execution_count": null,
   "id": "58d2acfc-3d51-4d92-b072-9a0b4cdff8df",
   "metadata": {},
   "outputs": [],
   "source": []
  },
  {
   "cell_type": "code",
   "execution_count": null,
   "id": "25b6d1e6-fa0f-40ce-9cae-33c422256cd9",
   "metadata": {},
   "outputs": [],
   "source": []
  },
  {
   "cell_type": "code",
   "execution_count": null,
   "id": "bdae9c37-78c0-482e-a643-07465e3c2149",
   "metadata": {},
   "outputs": [],
   "source": []
  },
  {
   "cell_type": "code",
   "execution_count": null,
   "id": "049c31b2-5c83-4810-8a42-b7ffc12879e6",
   "metadata": {},
   "outputs": [],
   "source": []
  },
  {
   "cell_type": "code",
   "execution_count": null,
   "id": "c1e195a6-ba40-42c6-b042-27360d65b3d6",
   "metadata": {},
   "outputs": [],
   "source": []
  },
  {
   "cell_type": "code",
   "execution_count": null,
   "id": "ec6947dc-1423-4c39-a13c-f4157f3587aa",
   "metadata": {},
   "outputs": [],
   "source": []
  },
  {
   "cell_type": "code",
   "execution_count": 62,
   "id": "feb735b1-092c-4b81-9d5d-1e963e489fae",
   "metadata": {},
   "outputs": [
    {
     "data": {
      "image/png": "[encoded data removed]",
      "text/plain": [
       "<Figure size 720x432 with 1 Axes>"
      ]
     },
     "metadata": {
      "needs_background": "light"
     },
     "output_type": "display_data"
    }
   ],
   "source": [
    "import pandas as pd\n",
    "import matplotlib.pyplot as plt\n",
    "\n",
    "# Define the data (same as before, assuming you've already merged them as `df`)\n",
    "# Add IN and OUT components\n",
    "in_components = ['glmelt', 'snowmelt', 'rainfall']  # IN components\n",
    "out_components = ['aet', 'Q']   # OUT components\n",
    "\n",
    "# Separate IN and OUT components from the merged DataFrame\n",
    "in_df = df[df['Variable'].isin(in_components)]\n",
    "out_df = df[df['Variable'].isin(out_components)]\n",
    "\n",
    "# Pivot the data so that 'Date' is the index and 'Variable' becomes columns for IN and OUT\n",
    "in_pivot = in_df.pivot_table(index='landcover', columns='Variable', values='Value', aggfunc='sum')\n",
    "out_pivot = out_df.pivot_table(index='landcover', columns='Variable', values='Value', aggfunc='sum')\n",
    "\n",
    "# Plotting the data\n",
    "fig, ax = plt.subplots(figsize=(10, 6))\n",
    "\n",
    "# Plot the IN components stacked bar plot\n",
    "in_pivot.plot(kind='bar', stacked=True, width=0.4, position=1, color=['cyan', 'green', 'blue'], ax=ax)\n",
    "\n",
    "# Plot the OUT components stacked bar plot\n",
    "out_pivot.plot(kind='bar', stacked=True, width=0.4, position=0, color=['purple', 'orange', 'red'], ax=ax)\n",
    "\n",
    "# Add labels and title\n",
    "plt.xlabel(\"Date\")\n",
    "plt.ylabel(\"Water Balance Components\")\n",
    "plt.title(\"Grouped Stacked Bar Plot of IN and OUT Water Balance Components\")\n",
    "plt.xticks(rotation=45)  # Rotate x labels for better readability\n",
    "plt.legend(title=\"Components\", loc='upper left', bbox_to_anchor=(1,1))  # Legend outside the plot\n",
    "\n",
    "# Show the plot\n",
    "plt.tight_layout()\n",
    "plt.show()\n"
   ]
  },
  {
   "cell_type": "code",
   "execution_count": null,
   "id": "8dc308f6-3793-4e32-a0a5-ea78dcc9ae6d",
   "metadata": {},
   "outputs": [],
   "source": []
  },
  {
   "cell_type": "code",
   "execution_count": null,
   "id": "c48cdb6d-a6ea-4338-a97f-373aec8c3144",
   "metadata": {},
   "outputs": [],
   "source": []
  },
  {
   "cell_type": "code",
   "execution_count": null,
   "id": "6c81c03e-a384-4cd8-acb4-67af4bebb928",
   "metadata": {},
   "outputs": [],
   "source": []
  }
 ],
 "metadata": {
  "kernelspec": {
   "display_name": "Python [conda env:sedcas] *",
   "language": "python",
   "name": "conda-env-sedcas-py"
  },
  "language_info": {
   "codemirror_mode": {
    "name": "ipython",
    "version": 3
   },
   "file_extension": ".py",
   "mimetype": "text/x-python",
   "name": "python",
   "nbconvert_exporter": "python",
   "pygments_lexer": "ipython3",
   "version": "3.9.7"
  }
 },
 "nbformat": 4,
 "nbformat_minor": 5
}
