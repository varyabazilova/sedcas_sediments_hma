{
 "cells": [
  {
   "cell_type": "code",
   "execution_count": 17,
   "id": "6843ee3a-e51c-4702-ad3c-cec9d8c7911e",
   "metadata": {},
   "outputs": [],
   "source": [
    "import pandas as pd\n",
    "import seaborn as sns\n",
    "import matplotlib.pyplot as plt\n",
    "import os \n",
    "import functions"
   ]
  },
  {
   "cell_type": "markdown",
   "id": "b6de4632-d651-4ba7-8231-400140efb0af",
   "metadata": {},
   "source": [
    "# per year\n",
    "\n"
   ]
  },
  {
   "cell_type": "code",
   "execution_count": null,
   "id": "246056e9-5355-4c1e-aa8c-be7240102443",
   "metadata": {},
   "outputs": [],
   "source": [
    "# the data is stored on the external ssd \n",
    "# the output should go to the local folder \n",
    "\n"
   ]
  },
  {
   "cell_type": "code",
   "execution_count": 16,
   "id": "c9ff00a1-8e57-40bf-8690-2df5e37a7c38",
   "metadata": {},
   "outputs": [
    {
     "name": "stderr",
     "output_type": "stream",
     "text": [
      "<timed exec>:36: PerformanceWarning: DataFrame is highly fragmented.  This is usually the result of calling `frame.insert` many times, which has poor performance.  Consider joining all columns at once using pd.concat(axis=1) instead.  To get a de-fragmented frame, use `newframe = frame.copy()`\n"
     ]
    },
    {
     "name": "stdout",
     "output_type": "stream",
     "text": [
      "default land cover. monthly data: same\n",
      "CPU times: user 43.8 s, sys: 2.25 s, total: 46.1 s\n",
      "Wall time: 47 s\n"
     ]
    }
   ],
   "source": [
    "%%time\n",
    "\n",
    "landcover_idx = 4\n",
    "location = 'mustang'\n",
    "landcover = f'landcover{landcover_idx}'\n",
    "\n",
    "column = 'dfs'\n",
    "freq = 'year'\n",
    "\n",
    "# path to data\n",
    "folder_path = f'/Volumes/Extreme SSD/202409_paper2_modelruns/30years/SL_once/{landcover_idx}landcover_25percent/{location}_climate_cut'\n",
    "\n",
    "elevation = pd.read_csv(f'/Users/varyabazilova/Desktop/paper2/downscaling_simple/coordinates_and_elevation_with_labels_{location}.csv')[['cellnr2','band_data']] \n",
    "\n",
    "result_df = pd.DataFrame()\n",
    "\n",
    "\n",
    "# Iterate over the files in the folders\n",
    "for folder_name in os.listdir(folder_path):\n",
    "    # skip all csvs and . files\n",
    "    if folder_name.endswith('.csv'):\n",
    "        continue\n",
    "    if folder_name.startswith('.'):\n",
    "        continue \n",
    "    \n",
    "    file_path = os.path.join(folder_path, folder_name, 'Sediment.out') #create a path to file \n",
    "    \n",
    "    if os.path.isfile(file_path): #check if its there \n",
    "        # read file \n",
    "        output_df = pd.read_csv(file_path)\n",
    "        # count dfs per given time \n",
    "        output_df = functions.count_dfs_per_time(output_df, column, 'year')\n",
    "        \n",
    "        # take the COUNT column \n",
    "        name_column = output_df['count']\n",
    "        # rename the columns \n",
    "        column_name = f'{column}_{folder_name}'\n",
    "        result_df[column_name] = name_column\n",
    "        result_df.columns = [col[-3:] for col in result_df.columns]\n",
    "\n",
    "\n",
    "annaul_df_count = functions.add_elevation_to_df_count(result_df, elevation, freq)\n",
    "\n",
    "\n",
    "output_path = '/Users/varyabazilova/Desktop/paper2/202406_modelruns/30years/SL_once/output_25percent/'\n",
    "# annaul_df_count.to_csv(output_path + f'{location}_annual_df_count_annualmean_{landcover}.csv')\n"
   ]
  },
  {
   "cell_type": "code",
   "execution_count": null,
   "id": "77f4aa37-1f2b-4476-a8d2-41f69ec2ccca",
   "metadata": {},
   "outputs": [],
   "source": []
  },
  {
   "cell_type": "markdown",
   "id": "0598e8d7-9a15-4df4-98d6-0fb95725d2af",
   "metadata": {},
   "source": [
    "# per month "
   ]
  },
  {
   "cell_type": "code",
   "execution_count": 29,
   "id": "1352b459-b67d-4e92-b40a-d47aec10a767",
   "metadata": {},
   "outputs": [
    {
     "name": "stderr",
     "output_type": "stream",
     "text": [
      "<timed exec>:38: PerformanceWarning: DataFrame is highly fragmented.  This is usually the result of calling `frame.insert` many times, which has poor performance.  Consider joining all columns at once using pd.concat(axis=1) instead.  To get a de-fragmented frame, use `newframe = frame.copy()`\n"
     ]
    },
    {
     "name": "stdout",
     "output_type": "stream",
     "text": [
      "default land cover. monthly data: same\n",
      "CPU times: user 44 s, sys: 2.26 s, total: 46.3 s\n",
      "Wall time: 47 s\n"
     ]
    }
   ],
   "source": [
    "%%time\n",
    "\n",
    "landcover_idx = 4\n",
    "location = 'mustang'\n",
    "landcover = f'landcover{landcover_idx}'\n",
    "\n",
    "column = 'dfs'\n",
    "freq = 'month'\n",
    "\n",
    "\n",
    "# path to data on the external ssd \n",
    "folder_path = f'/Volumes/Extreme SSD/202409_paper2_modelruns/30years/SL_once/{landcover_idx}landcover_25percent/{location}_climate_cut'\n",
    "\n",
    "elevation = pd.read_csv(f'/Users/varyabazilova/Desktop/paper2/downscaling_simple/coordinates_and_elevation_with_labels_{location}.csv')[['cellnr2','band_data']] \n",
    "\n",
    "\n",
    "result_df = pd.DataFrame()\n",
    "\n",
    "\n",
    "# Iterate over the files in the folders\n",
    "for folder_name in os.listdir(folder_path):\n",
    "    # skip all csvs and . files\n",
    "    if folder_name.endswith('.csv'):\n",
    "        continue\n",
    "    if folder_name.startswith('.'):\n",
    "        continue \n",
    "    \n",
    "    file_path = os.path.join(folder_path, folder_name, 'Sediment.out') #create a path to file \n",
    "    \n",
    "    if os.path.isfile(file_path): #check if its there \n",
    "        # read file \n",
    "        output_df = pd.read_csv(file_path)\n",
    "        # count dfs per given time \n",
    "        output_df = functions.count_dfs_per_time(output_df, column, freq)\n",
    "        \n",
    "        # take the COUNT column \n",
    "        name_column = output_df['count']\n",
    "        # rename the columns \n",
    "        column_name = f'{column}_{folder_name}'\n",
    "        result_df[column_name] = name_column\n",
    "        result_df.columns = [col[-3:] for col in result_df.columns]\n",
    "\n",
    "\n",
    "df_count = functions.add_elevation_to_df_count(result_df, elevation, freq)\n",
    "\n",
    "\n",
    "output = '/Users/varyabazilova/Desktop/paper2/202406_modelruns/30years/SL_once/output_25percent/'\n",
    "df_count.to_csv(output + f'{location}_monthly_df_count_25percent_{landcover}.csv')\n",
    "\n"
   ]
  },
  {
   "cell_type": "code",
   "execution_count": 21,
   "id": "1e60018f-7e16-4ca7-bea2-066fb4e16a8d",
   "metadata": {},
   "outputs": [],
   "source": [
    "# df_count"
   ]
  },
  {
   "cell_type": "code",
   "execution_count": null,
   "id": "ad454207-6f78-46a4-bfc5-cd4bf5e86a32",
   "metadata": {},
   "outputs": [],
   "source": []
  }
 ],
 "metadata": {
  "kernelspec": {
   "display_name": "Python [conda env:sedcas] *",
   "language": "python",
   "name": "conda-env-sedcas-py"
  },
  "language_info": {
   "codemirror_mode": {
    "name": "ipython",
    "version": 3
   },
   "file_extension": ".py",
   "mimetype": "text/x-python",
   "name": "python",
   "nbconvert_exporter": "python",
   "pygments_lexer": "ipython3",
   "version": "3.9.7"
  }
 },
 "nbformat": 4,
 "nbformat_minor": 5
}
