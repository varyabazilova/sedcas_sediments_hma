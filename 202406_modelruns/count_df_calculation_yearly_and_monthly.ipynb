{
 "cells": [
  {
   "cell_type": "code",
   "execution_count": 225,
   "id": "6843ee3a-e51c-4702-ad3c-cec9d8c7911e",
   "metadata": {},
   "outputs": [],
   "source": [
    "import pandas as pd\n",
    "import seaborn as sns\n",
    "import matplotlib.pyplot as plt\n",
    "import os \n",
    "import functions\n",
    "\n",
    "\n",
    "# the data is stored on the external ssd \n",
    "# the output should go to the local folder \n"
   ]
  },
  {
   "cell_type": "markdown",
   "id": "b6de4632-d651-4ba7-8231-400140efb0af",
   "metadata": {},
   "source": [
    "# per year\n",
    "\n"
   ]
  },
  {
   "cell_type": "code",
   "execution_count": 242,
   "id": "246056e9-5355-4c1e-aa8c-be7240102443",
   "metadata": {},
   "outputs": [
    {
     "name": "stdout",
     "output_type": "stream",
     "text": [
      "folder with data:\n",
      " /Volumes/Extreme SSD/202409_paper2_modelruns/30years/SL_once/4landcover_40percent/mustang_climate_cut\n",
      "  \n",
      "output folder:\n",
      " /Users/varyabazilova/Desktop/paper2/202406_modelruns/30years/SL_once/output_40percent/\n",
      "   \n",
      "landcover id: 4\n"
     ]
    }
   ],
   "source": [
    "method = 'once'\n",
    "\n",
    "landcover_idx = 4\n",
    "location = 'mustang'\n",
    "\n",
    "percentile = '40percent'\n",
    "landcover = f'landcover{landcover_idx}'\n",
    "\n",
    "column = 'dfs'\n",
    "freq = 'year'\n",
    "\n",
    "# path to data\n",
    "folder_path = f'/Volumes/Extreme SSD/202409_paper2_modelruns/30years/SL_{method}/{landcover_idx}landcover_{percentile}/{location}_climate_cut'\n",
    "\n",
    "output_path = f'/Users/varyabazilova/Desktop/paper2/202406_modelruns/30years/SL_{method}/output_{percentile}/'\n",
    "\n",
    "print('folder with data:\\n',folder_path) \n",
    "print('  ')\n",
    "print('output folder:\\n',output_path) \n",
    "print('   ')\n",
    "print('landcover id:', landcover_idx)"
   ]
  },
  {
   "cell_type": "code",
   "execution_count": 243,
   "id": "c9ff00a1-8e57-40bf-8690-2df5e37a7c38",
   "metadata": {},
   "outputs": [
    {
     "name": "stderr",
     "output_type": "stream",
     "text": [
      "<timed exec>:26: PerformanceWarning: DataFrame is highly fragmented.  This is usually the result of calling `frame.insert` many times, which has poor performance.  Consider joining all columns at once using pd.concat(axis=1) instead.  To get a de-fragmented frame, use `newframe = frame.copy()`\n"
     ]
    },
    {
     "name": "stdout",
     "output_type": "stream",
     "text": [
      "default land cover. monthly data: same\n",
      "CPU times: user 50 s, sys: 2.17 s, total: 52.2 s\n",
      "Wall time: 53.3 s\n"
     ]
    }
   ],
   "source": [
    "%%time\n",
    "\n",
    "elevation = pd.read_csv(f'/Users/varyabazilova/Desktop/paper2/downscaling_simple/coordinates_and_elevation_with_labels_{location}.csv')[['cellnr2','band_data']] \n",
    "\n",
    "result_df = pd.DataFrame()\n",
    "\n",
    "\n",
    "# Iterate over the files in the folders\n",
    "for folder_name in os.listdir(folder_path):\n",
    "    # skip all csvs and . files\n",
    "    if folder_name.endswith('.csv'):\n",
    "        continue\n",
    "    if folder_name.startswith('.'):\n",
    "        continue \n",
    "    \n",
    "    file_path = os.path.join(folder_path, folder_name, 'Sediment.out') #create a path to file \n",
    "    \n",
    "    if os.path.isfile(file_path): #check if its there \n",
    "        # read file \n",
    "        output_df = pd.read_csv(file_path)\n",
    "        # count dfs per given time \n",
    "        output_df = functions.count_dfs_per_time(output_df, column, 'year')\n",
    "        \n",
    "        # take the COUNT column \n",
    "        name_column = output_df['count']\n",
    "        # rename the columns \n",
    "        column_name = f'{column}_{folder_name}'\n",
    "        result_df[column_name] = name_column\n",
    "        result_df.columns = [col[-3:] for col in result_df.columns]\n",
    "\n",
    "\n",
    "annaul_df_count = functions.add_elevation_to_df_count(result_df, elevation, freq)\n",
    "\n",
    "\n",
    "annaul_df_count.to_csv(output_path + f'{location}_annual_dfspot_count_{percentile}_{landcover}.csv')\n"
   ]
  },
  {
   "cell_type": "code",
   "execution_count": null,
   "id": "77f4aa37-1f2b-4476-a8d2-41f69ec2ccca",
   "metadata": {},
   "outputs": [],
   "source": []
  },
  {
   "cell_type": "code",
   "execution_count": null,
   "id": "336281c5-734e-443d-8485-afda4b61230f",
   "metadata": {},
   "outputs": [],
   "source": []
  },
  {
   "cell_type": "code",
   "execution_count": null,
   "id": "621ba51e-d898-45cd-9af5-910653fc311c",
   "metadata": {},
   "outputs": [],
   "source": []
  },
  {
   "cell_type": "code",
   "execution_count": null,
   "id": "36b18e5e-fb34-4c6e-9ed9-64c3c7617c3d",
   "metadata": {},
   "outputs": [],
   "source": []
  },
  {
   "cell_type": "code",
   "execution_count": null,
   "id": "d9fa6e58-ef98-4e14-bfa2-9749781e64b7",
   "metadata": {},
   "outputs": [],
   "source": []
  },
  {
   "cell_type": "code",
   "execution_count": null,
   "id": "c122a515-3086-4d3c-b3b2-574fe7d29ce7",
   "metadata": {},
   "outputs": [],
   "source": []
  },
  {
   "cell_type": "code",
   "execution_count": null,
   "id": "11f2f228-9a05-4e7a-94a3-491167fb5bfe",
   "metadata": {},
   "outputs": [],
   "source": []
  },
  {
   "cell_type": "code",
   "execution_count": null,
   "id": "d6dbb35d-dc3c-4e0b-bee3-a1f94a69451a",
   "metadata": {},
   "outputs": [],
   "source": []
  },
  {
   "cell_type": "code",
   "execution_count": null,
   "id": "fcc29d5d-f3f5-4d23-9934-6b14604b0c53",
   "metadata": {},
   "outputs": [],
   "source": []
  },
  {
   "cell_type": "code",
   "execution_count": null,
   "id": "5fc38799-2b5a-491f-a517-184771ffc598",
   "metadata": {},
   "outputs": [],
   "source": []
  },
  {
   "cell_type": "code",
   "execution_count": null,
   "id": "e60df880-9454-4ac8-97c5-63367f0067e7",
   "metadata": {},
   "outputs": [],
   "source": []
  },
  {
   "cell_type": "code",
   "execution_count": null,
   "id": "cd65b450-c93f-4ab6-b2c0-4fbe338e7f09",
   "metadata": {},
   "outputs": [],
   "source": []
  },
  {
   "cell_type": "markdown",
   "id": "0598e8d7-9a15-4df4-98d6-0fb95725d2af",
   "metadata": {},
   "source": [
    "# per month "
   ]
  },
  {
   "cell_type": "code",
   "execution_count": 274,
   "id": "e180301f-d4e7-4b41-9c40-0943c093df46",
   "metadata": {},
   "outputs": [
    {
     "name": "stdout",
     "output_type": "stream",
     "text": [
      "folder with data:\n",
      " /Volumes/Extreme SSD/202409_paper2_modelruns/30years/SL_once/4landcover_30percent/mustang_climate_cut\n",
      "  \n",
      "output folder:\n",
      " /Users/varyabazilova/Desktop/paper2/202406_modelruns/30years/SL_once/output_30percent/\n",
      "  \n",
      "landcover id: 4\n"
     ]
    }
   ],
   "source": [
    "\n",
    "method = 'once'\n",
    "\n",
    "landcover_idx = 4\n",
    "location = 'mustang'\n",
    "\n",
    "percentile = '30percent'\n",
    "\n",
    "landcover = f'landcover{landcover_idx}'\n",
    "\n",
    "column = 'dfs'\n",
    "\n",
    "freq = 'month'\n",
    "\n",
    "\n",
    "# path to data on the external ssd \n",
    "folder_path = f'/Volumes/Extreme SSD/202409_paper2_modelruns/30years/SL_{method}/{landcover_idx}landcover_{percentile}/{location}_climate_cut'\n",
    "\n",
    "output_folder = f'/Users/varyabazilova/Desktop/paper2/202406_modelruns/30years/SL_{method}/output_{percentile}/'\n",
    "\n",
    "\n",
    "\n",
    "print('folder with data:\\n',folder_path) \n",
    "print('  ')\n",
    "print('output folder:\\n',output_folder) \n",
    "print('  ')\n",
    "print('landcover id:', landcover_idx)\n"
   ]
  },
  {
   "cell_type": "code",
   "execution_count": 275,
   "id": "1352b459-b67d-4e92-b40a-d47aec10a767",
   "metadata": {},
   "outputs": [
    {
     "name": "stderr",
     "output_type": "stream",
     "text": [
      "<timed exec>:27: PerformanceWarning: DataFrame is highly fragmented.  This is usually the result of calling `frame.insert` many times, which has poor performance.  Consider joining all columns at once using pd.concat(axis=1) instead.  To get a de-fragmented frame, use `newframe = frame.copy()`\n"
     ]
    },
    {
     "name": "stdout",
     "output_type": "stream",
     "text": [
      "default land cover. monthly data: same\n",
      "CPU times: user 52.4 s, sys: 2.37 s, total: 54.8 s\n",
      "Wall time: 58 s\n"
     ]
    }
   ],
   "source": [
    "%%time\n",
    "\n",
    "elevation = pd.read_csv(f'/Users/varyabazilova/Desktop/paper2/downscaling_simple/coordinates_and_elevation_with_labels_{location}.csv')[['cellnr2','band_data']] \n",
    "\n",
    "\n",
    "result_df = pd.DataFrame()\n",
    "\n",
    "\n",
    "# Iterate over the files in the folders\n",
    "for folder_name in os.listdir(folder_path):\n",
    "    # skip all csvs and . files\n",
    "    if folder_name.endswith('.csv'):\n",
    "        continue\n",
    "    if folder_name.startswith('.'):\n",
    "        continue \n",
    "    \n",
    "    file_path = os.path.join(folder_path, folder_name, 'Sediment.out') #create a path to file \n",
    "    \n",
    "    if os.path.isfile(file_path): #check if its there \n",
    "        # read file \n",
    "        output_df = pd.read_csv(file_path)\n",
    "        # count dfs per given time \n",
    "        output_df = functions.count_dfs_per_time(output_df, column, freq)\n",
    "        \n",
    "        # take the COUNT column \n",
    "        name_column = output_df['count']\n",
    "        # rename the columns \n",
    "        column_name = f'{column}_{folder_name}'\n",
    "        result_df[column_name] = name_column\n",
    "        result_df.columns = [col[-3:] for col in result_df.columns]\n",
    "\n",
    "\n",
    "df_count = functions.add_elevation_to_df_count(result_df, elevation, freq)\n",
    "\n",
    "\n",
    "\n",
    "\n",
    "df_count.to_csv(output_folder + f'{location}_monthly_df_count_{percentile}_{landcover}.csv')\n",
    "\n"
   ]
  },
  {
   "cell_type": "code",
   "execution_count": null,
   "id": "1e60018f-7e16-4ca7-bea2-066fb4e16a8d",
   "metadata": {},
   "outputs": [],
   "source": [
    "# df_count"
   ]
  },
  {
   "cell_type": "code",
   "execution_count": null,
   "id": "ad454207-6f78-46a4-bfc5-cd4bf5e86a32",
   "metadata": {},
   "outputs": [],
   "source": []
  }
 ],
 "metadata": {
  "kernelspec": {
   "display_name": "Python [conda env:sedcas] *",
   "language": "python",
   "name": "conda-env-sedcas-py"
  },
  "language_info": {
   "codemirror_mode": {
    "name": "ipython",
    "version": 3
   },
   "file_extension": ".py",
   "mimetype": "text/x-python",
   "name": "python",
   "nbconvert_exporter": "python",
   "pygments_lexer": "ipython3",
   "version": "3.9.7"
  }
 },
 "nbformat": 4,
 "nbformat_minor": 5
}
