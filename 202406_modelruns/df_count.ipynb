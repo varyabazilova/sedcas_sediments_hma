{
 "cells": [
  {
   "cell_type": "code",
   "execution_count": 1,
   "id": "ab20c279-f9ad-44b6-a717-918a352f1920",
   "metadata": {},
   "outputs": [],
   "source": [
    "import pandas as pd\n",
    "import seaborn as sns\n",
    "import matplotlib.pyplot as plt\n",
    "import os \n",
    "import functions"
   ]
  },
  {
   "cell_type": "markdown",
   "id": "fd227583-a929-48f1-b70a-572561ff4520",
   "metadata": {},
   "source": [
    "# count dfs for the TL case, input: mean annual, daily "
   ]
  },
  {
   "cell_type": "code",
   "execution_count": 9,
   "id": "43ea8eaf-c23d-49b2-94fe-2262d9bc8259",
   "metadata": {},
   "outputs": [
    {
     "name": "stderr",
     "output_type": "stream",
     "text": [
      "<timed exec>:31: PerformanceWarning: DataFrame is highly fragmented.  This is usually the result of calling `frame.insert` many times, which has poor performance.  Consider joining all columns at once using pd.concat(axis=1) instead.  To get a de-fragmented frame, use `newframe = frame.copy()`\n"
     ]
    },
    {
     "name": "stdout",
     "output_type": "stream",
     "text": [
      "default land cover. monthly data: same\n",
      "CPU times: user 46.1 s, sys: 1.96 s, total: 48 s\n",
      "Wall time: 48.7 s\n"
     ]
    }
   ],
   "source": [
    "%%time\n",
    "\n",
    "\n",
    "# langtang\n",
    "folder_path = '/Users/varyabazilova/Desktop/paper2/202406_modelruns/30years/SL_daily/4landcover_mean/mustang_climate_cut'\n",
    "elevation = pd.read_csv('/Users/varyabazilova/Desktop/paper2/downscaling_simple/coordinates_and_elevation_with_labels_mustang.csv')[['cellnr2','band_data']] \n",
    "landcover = 'landcover4'\n",
    "location = 'mustang'\n",
    "\n",
    "column = 'dfs'\n",
    "result_df = pd.DataFrame()\n",
    "\n",
    "\n",
    "# Iterate over the files in the folders\n",
    "for folder_name in os.listdir(folder_path):\n",
    "    # skip all csvs and . files\n",
    "    if folder_name.endswith('.csv'):\n",
    "        continue\n",
    "    if folder_name.startswith('.'):\n",
    "        continue \n",
    "    \n",
    "    file_path = os.path.join(folder_path, folder_name, 'Sediment.out') #create a path to file \n",
    "    \n",
    "    if os.path.isfile(file_path): #check if its there \n",
    "        # read file \n",
    "        output_df = pd.read_csv(file_path)\n",
    "        # count dfs per given time \n",
    "        output_df = functions.count_dfs_per_time(output_df, column, 'year')\n",
    "        \n",
    "        # take the COUNT column \n",
    "        name_column = output_df['count']\n",
    "        # rename the columns \n",
    "        column_name = f'{column}_{folder_name}'\n",
    "        result_df[column_name] = name_column\n",
    "        result_df.columns = [col[-3:] for col in result_df.columns]\n",
    "\n",
    "\n",
    "annaul_df_count = functions.add_elevation_to_df_count(result_df, elevation)\n",
    "\n",
    "\n",
    "output = '/Users/varyabazilova/Desktop/paper2/202406_modelruns/30years/SL_daily/output_mean_annual/'\n",
    "annaul_df_count.to_csv(output + f'{location}_annual_df_count_annualmean_{landcover}.csv')"
   ]
  },
  {
   "cell_type": "code",
   "execution_count": null,
   "id": "7ca6af87-a05f-4fe6-bc12-93c77943e1a8",
   "metadata": {},
   "outputs": [],
   "source": []
  },
  {
   "cell_type": "code",
   "execution_count": null,
   "id": "5a4b88ec-1ba6-4f02-9016-27580aa251a1",
   "metadata": {},
   "outputs": [],
   "source": []
  },
  {
   "cell_type": "code",
   "execution_count": null,
   "id": "23690221-b0c8-4b63-a8de-a9274dd9a16d",
   "metadata": {},
   "outputs": [],
   "source": [
    "result_df"
   ]
  },
  {
   "cell_type": "code",
   "execution_count": null,
   "id": "90b058be-5e75-4639-99e3-780ce177652a",
   "metadata": {},
   "outputs": [],
   "source": []
  }
 ],
 "metadata": {
  "kernelspec": {
   "display_name": "Python [conda env:sedcas] *",
   "language": "python",
   "name": "conda-env-sedcas-py"
  },
  "language_info": {
   "codemirror_mode": {
    "name": "ipython",
    "version": 3
   },
   "file_extension": ".py",
   "mimetype": "text/x-python",
   "name": "python",
   "nbconvert_exporter": "python",
   "pygments_lexer": "ipython3",
   "version": "3.9.7"
  }
 },
 "nbformat": 4,
 "nbformat_minor": 5
}
