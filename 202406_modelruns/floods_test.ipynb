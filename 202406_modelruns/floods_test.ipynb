{
 "cells": [
  {
   "cell_type": "code",
   "execution_count": 1,
   "id": "0f27679f-4d72-4148-b132-3721bf45b0cf",
   "metadata": {},
   "outputs": [
    {
     "name": "stderr",
     "output_type": "stream",
     "text": [
      "/Users/varyabazilova/opt/anaconda3/lib/python3.9/site-packages/scipy/__init__.py:146: UserWarning: A NumPy version >=1.16.5 and <1.23.0 is required for this version of SciPy (detected version 1.26.2\n",
      "  warnings.warn(f\"A NumPy version >={np_minversion} and <{np_maxversion}\"\n"
     ]
    }
   ],
   "source": [
    "import pandas as pd\n",
    "import seaborn as sns\n",
    "import matplotlib.pyplot as plt\n",
    "import os\n",
    "\n",
    "import functions\n",
    "\n"
   ]
  },
  {
   "cell_type": "code",
   "execution_count": 2,
   "id": "6c049e00-07f6-4831-8b16-2f59f196d734",
   "metadata": {},
   "outputs": [],
   "source": [
    "# calculate the % of the dfs and dfspot for each scenario \n",
    "\n",
    "def prepare_dfcount_for_plot(dfcount):\n",
    "    melted = pd.melt(dfcount, id_vars=['D', 'D_year', 'D_month'], var_name='elevation', value_name='dfs_count')\n",
    "    melted['elevation'] = melted['elevation'].str.split('.').str[0].astype(float)\n",
    "    melted['elevation_bin'] = melted.apply(functions.bin_elevation200, axis=1)\n",
    "    # melted = melted.sort_values('elevation_bin')\n",
    "    # melted = melted.dropna(subset=['dfs_count'])\n",
    "    return melted \n",
    "\n",
    "def prepare_dfcount_for_plot_annual(dfcount):\n",
    "    melted = pd.melt(dfcount, id_vars=['D'], var_name='elevation', value_name='dfs_count')\n",
    "    melted['elevation'] = melted['elevation'].str.split('.').str[0].astype(float)\n",
    "    melted['elevation_bin'] = melted.apply(functions.bin_elevation200, axis=1)\n",
    "    # melted = melted.sort_values('elevation_bin')\n",
    "    # melted = melted.dropna(subset=['dfs_count'])\n",
    "    return melted \n",
    "\n",
    "def cut_dates(df):\n",
    "    df['D'] = pd.to_datetime(df['D'])\n",
    "    filtered_df = df[df['D'] > '1990-07-31']\n",
    "    return filtered_df\n"
   ]
  },
  {
   "cell_type": "markdown",
   "id": "2653cdd2-601c-4d97-97df-dc6c16e0cc13",
   "metadata": {},
   "source": [
    "# langtang"
   ]
  },
  {
   "cell_type": "code",
   "execution_count": 12,
   "id": "01f6afab-fe2d-4f57-9999-fd8ab68e66b2",
   "metadata": {},
   "outputs": [],
   "source": [
    "freq = 'annual'\n",
    "column = 'Qdftl'\n",
    "location = 'langtang'\n",
    "\n",
    "flood_folder =  f'/Users/varyabazilova/Desktop/paper2/202406_modelruns/30years/dfspot_count/{location}/'\n",
    "\n",
    "\n",
    "dfspot1 = pd.read_csv(flood_folder + f'{location}_{freq}_{column}_count_landcover1.csv', index_col = 0).fillna(0)[1:]#[:-1]\n",
    "dfspot2 = pd.read_csv(flood_folder + f'{location}_{freq}_{column}_count_landcover2.csv', index_col = 0).fillna(0)[1:]#[:-1]\n",
    "dfspot3 = pd.read_csv(flood_folder + f'{location}_{freq}_{column}_count_landcover3.csv', index_col = 0).fillna(0)#[1:]#[:0]\n",
    "dfspot4 = pd.read_csv(flood_folder + f'{location}_{freq}_{column}_count_landcover4.csv', index_col = 0).fillna(0)[1:]#[:-1]\n",
    "\n",
    "# dfspot1 = cut_dates(dfspot1)\n",
    "# dfspot2 = cut_dates(dfspot2)\n",
    "# dfspot3 = cut_dates(dfspot3)\n",
    "# dfspot4 = cut_dates(dfspot4)\n",
    "\n",
    "# dfspot1 = dfspot1[:372]\n",
    "# dfspot2 = dfspot2[:372]\n",
    "# dfspot3 = dfspot3[:372]\n",
    "# dfspot4 = dfspot4[:372]"
   ]
  },
  {
   "cell_type": "code",
   "execution_count": 15,
   "id": "f782a70a-cf88-4ff7-a203-979ecb483aa6",
   "metadata": {},
   "outputs": [],
   "source": [
    "# dfspot4"
   ]
  },
  {
   "cell_type": "code",
   "execution_count": 16,
   "id": "d06c0b10-4fc9-45bd-afd0-0a04487de8a4",
   "metadata": {},
   "outputs": [],
   "source": [
    "dfspot1_melted = prepare_dfcount_for_plot_annual(dfspot1)\n",
    "dfspot2_melted = prepare_dfcount_for_plot_annual(dfspot2)\n",
    "dfspot3_melted = prepare_dfcount_for_plot_annual(dfspot3)\n",
    "dfspot4_melted = prepare_dfcount_for_plot_annual(dfspot4)\n",
    "\n",
    "dfspot1_melted = dfspot1_melted.rename(columns={'dfs_count': 'dfspot_count'})\n",
    "dfspot2_melted = dfspot2_melted.rename(columns={'dfs_count': 'dfspot_count'})\n",
    "dfspot3_melted = dfspot3_melted.rename(columns={'dfs_count': 'dfspot_count'})\n",
    "dfspot4_melted = dfspot4_melted.rename(columns={'dfs_count': 'dfspot_count'})\n"
   ]
  },
  {
   "cell_type": "code",
   "execution_count": null,
   "id": "4656c472-a12a-4ebc-82e3-a9bd69ce99e8",
   "metadata": {},
   "outputs": [],
   "source": [
    "# 1716\n",
    "33*53 - 33"
   ]
  },
  {
   "cell_type": "code",
   "execution_count": null,
   "id": "a9ce21af-5d0c-467d-958c-d9f05cb5b093",
   "metadata": {},
   "outputs": [],
   "source": []
  },
  {
   "cell_type": "code",
   "execution_count": 37,
   "id": "18ecfdfe-5ece-458f-ad66-3b24c6467473",
   "metadata": {},
   "outputs": [],
   "source": [
    "daily20_lc1 = pd.read_csv(f'/Users/varyabazilova/Desktop/paper2/202406_modelruns/30years/SL_daily/output_20percent/{location}_{freq}_df_count_20percent_landcover1.csv', index_col = 0).fillna(0)#[:372]\n",
    "daily20_lc2 = pd.read_csv(f'/Users/varyabazilova/Desktop/paper2/202406_modelruns/30years/SL_daily/output_20percent/{location}_{freq}_df_count_20percent_landcover2.csv', index_col = 0).fillna(0)#[:372]\n",
    "daily20_lc3 = pd.read_csv(f'/Users/varyabazilova/Desktop/paper2/202406_modelruns/30years/SL_daily/output_20percent/{location}_{freq}_df_count_20percent_landcover3.csv', index_col = 0).fillna(0)[:-1]#[:372]\n",
    "daily20_lc4 = pd.read_csv(f'/Users/varyabazilova/Desktop/paper2/202406_modelruns/30years/SL_daily/output_20percent/{location}_{freq}_df_count_20percent_landcover4.csv', index_col = 0).fillna(0)#[:372]\n",
    "\n",
    "daily30_lc1 = pd.read_csv(f'/Users/varyabazilova/Desktop/paper2/202406_modelruns/30years/SL_daily/output_30percent/{location}_{freq}_df_count_30percent_landcover1.csv', index_col = 0).fillna(0)#[:372]\n",
    "daily30_lc2 = pd.read_csv(f'/Users/varyabazilova/Desktop/paper2/202406_modelruns/30years/SL_daily/output_30percent/{location}_{freq}_df_count_30percent_landcover2.csv', index_col = 0).fillna(0)#[:372]\n",
    "daily30_lc3 = pd.read_csv(f'/Users/varyabazilova/Desktop/paper2/202406_modelruns/30years/SL_daily/output_30percent/{location}_{freq}_df_count_30percent_landcover3.csv', index_col = 0).fillna(0)#[:372]\n",
    "daily30_lc4 = pd.read_csv(f'/Users/varyabazilova/Desktop/paper2/202406_modelruns/30years/SL_daily/output_30percent/{location}_{freq}_df_count_30percent_landcover4.csv', index_col = 0).fillna(0)#[:372]\n",
    "\n",
    "daily40_lc1 = pd.read_csv(f'/Users/varyabazilova/Desktop/paper2/202406_modelruns/30years/SL_daily/output_40percent/{location}_{freq}_df_count_40percent_landcover1.csv', index_col = 0).fillna(0)#[:372]\n",
    "daily40_lc2 = pd.read_csv(f'/Users/varyabazilova/Desktop/paper2/202406_modelruns/30years/SL_daily/output_40percent/{location}_{freq}_df_count_40percent_landcover2.csv', index_col = 0).fillna(0)#[:372]\n",
    "daily40_lc3 = pd.read_csv(f'/Users/varyabazilova/Desktop/paper2/202406_modelruns/30years/SL_daily/output_40percent/{location}_{freq}_df_count_40percent_landcover3.csv', index_col = 0).fillna(0)#[:372]\n",
    "daily40_lc4 = pd.read_csv(f'/Users/varyabazilova/Desktop/paper2/202406_modelruns/30years/SL_daily/output_40percent/{location}_{freq}_df_count_40percent_landcover4.csv', index_col = 0).fillna(0)#[:372]\n",
    "\n",
    "\n",
    "# prepare for plots ets \n",
    "# 20 percent\n",
    "daily20_lc1_melt = prepare_dfcount_for_plot_annual(daily20_lc1)\n",
    "daily20_lc2_melt = prepare_dfcount_for_plot_annual(daily20_lc2)\n",
    "daily20_lc3_melt = prepare_dfcount_for_plot_annual(daily20_lc3)\n",
    "daily20_lc4_melt = prepare_dfcount_for_plot_annual(daily20_lc4)\n",
    "\n",
    "daily20_lc1_melt['dfspot_count'] = dfspot1_melted.dfspot_count.values\n",
    "daily20_lc2_melt['dfspot_count'] = dfspot2_melted.dfspot_count.values\n",
    "daily20_lc3_melt['dfspot_count'] = dfspot3_melted.dfspot_count.values\n",
    "daily20_lc4_melt['dfspot_count'] = dfspot4_melted.dfspot_count.values\n",
    "\n",
    "daily20_lc1_melt['floods'] = daily20_lc1_melt.dfspot_count - daily20_lc1_melt.dfs_count\n",
    "daily20_lc2_melt['floods'] = daily20_lc2_melt.dfspot_count - daily20_lc2_melt.dfs_count\n",
    "daily20_lc3_melt['floods'] = daily20_lc3_melt.dfspot_count - daily20_lc3_melt.dfs_count\n",
    "daily20_lc4_melt['floods'] = daily20_lc4_melt.dfspot_count - daily20_lc4_melt.dfs_count\n",
    "\n",
    "\n",
    "# 30 percent\n",
    "daily30_lc1_melt = prepare_dfcount_for_plot_annual(daily30_lc1)\n",
    "daily30_lc2_melt = prepare_dfcount_for_plot_annual(daily30_lc2)\n",
    "daily30_lc3_melt = prepare_dfcount_for_plot_annual(daily30_lc3)\n",
    "daily30_lc4_melt = prepare_dfcount_for_plot_annual(daily30_lc4)\n",
    "\n",
    "daily30_lc1_melt['dfspot_count'] = dfspot1_melted.dfspot_count.values\n",
    "daily30_lc2_melt['dfspot_count'] = dfspot2_melted.dfspot_count.values\n",
    "daily30_lc3_melt['dfspot_count'] = dfspot3_melted.dfspot_count.values\n",
    "daily30_lc4_melt['dfspot_count'] = dfspot4_melted.dfspot_count.values\n",
    "\n",
    "daily30_lc1_melt['floods'] = daily30_lc1_melt.dfspot_count - daily30_lc1_melt.dfs_count\n",
    "daily30_lc2_melt['floods'] = daily30_lc2_melt.dfspot_count - daily30_lc2_melt.dfs_count\n",
    "daily30_lc3_melt['floods'] = daily30_lc3_melt.dfspot_count - daily30_lc3_melt.dfs_count\n",
    "daily30_lc4_melt['floods'] = daily30_lc4_melt.dfspot_count - daily30_lc4_melt.dfs_count\n",
    "\n",
    "\n",
    "# 40 percent\n",
    "daily40_lc1_melt = prepare_dfcount_for_plot_annual(daily40_lc1)\n",
    "daily40_lc2_melt = prepare_dfcount_for_plot_annual(daily40_lc2)\n",
    "daily40_lc3_melt = prepare_dfcount_for_plot_annual(daily40_lc3)\n",
    "daily40_lc4_melt = prepare_dfcount_for_plot_annual(daily40_lc4)\n",
    "\n",
    "daily40_lc1_melt['dfspot_count'] = dfspot1_melted.dfspot_count.values\n",
    "daily40_lc2_melt['dfspot_count'] = dfspot2_melted.dfspot_count.values\n",
    "daily40_lc3_melt['dfspot_count'] = dfspot3_melted.dfspot_count.values\n",
    "daily40_lc4_melt['dfspot_count'] = dfspot4_melted.dfspot_count.values\n",
    "\n",
    "\n",
    "daily40_lc1_melt['floods'] = daily40_lc1_melt.dfspot_count - daily40_lc1_melt.dfs_count\n",
    "daily40_lc2_melt['floods'] = daily40_lc2_melt.dfspot_count - daily40_lc2_melt.dfs_count\n",
    "daily40_lc3_melt['floods'] = daily40_lc3_melt.dfspot_count - daily40_lc3_melt.dfs_count\n",
    "daily40_lc4_melt['floods'] = daily40_lc4_melt.dfspot_count - daily40_lc4_melt.dfs_count\n"
   ]
  },
  {
   "cell_type": "code",
   "execution_count": null,
   "id": "1c45c8be-7dc9-416e-be1b-e8191027e38a",
   "metadata": {},
   "outputs": [],
   "source": [
    "test = daily40_lc1_melt.groupby('D_month').mean().reset_index()"
   ]
  },
  {
   "cell_type": "code",
   "execution_count": null,
   "id": "fea3d17e-3289-4952-9c31-b0886d98c50e",
   "metadata": {},
   "outputs": [],
   "source": [
    "test"
   ]
  },
  {
   "cell_type": "code",
   "execution_count": null,
   "id": "85e03f1a-a68e-4670-8ad3-56f496c6f5a1",
   "metadata": {},
   "outputs": [],
   "source": [
    "# fig = plt.figure(figsize=(20, 15))#, layout = 'tight')\n",
    "# mosaic = fig.subplot_mosaic('''\n",
    "#                             aaa\n",
    "#                             bbb\n",
    "#                             ccc\n",
    "#                             ddd\n",
    "#                             ''')\n",
    "\n",
    "\n",
    "# # sns.boxplot(ax = mosaic['a'], x='elevation_bin', y='dfs_count', data=langtang1_melt)#, palette = 'magma_r') \n",
    "# # sns.boxplot(ax = mosaic['b'], x='elevation_bin', y='dfs_count', data=langtang2_melt)#, palette = 'magma_r') \n",
    "# # sns.boxplot(ax = mosaic['c'], x='elevation_bin', y='dfs_count', data=langtang3_melt)#, palette = 'magma_r') \n",
    "# # sns.boxplot(ax = mosaic['d'], x='elevation_bin', y='dfs_count', data=langtang4_melt)#, palette = 'magma_r') \n",
    "\n",
    "# sns.barplot(ax = mosaic['a'], x='D_month', y='dfs_count',    data=test, palette = 'Blues', label = 'dfs count')#, legend = True) \n",
    "# sns.barplot(ax = mosaic['a'], x='D_month', y='dfspot_count', data=test, palette = 'Greys', label = 'dfspot count')#, legend = True) \n",
    "\n",
    "# # sns.barplot(ax = mosaic['b'], x='D_month', y='dfs_count', hue = 'elevation_bin', data=daily40_lc2_melt, palette = 'magma_r')#, legend = False)\n",
    "# # sns.barplot(ax = mosaic['c'], x='D_month', y='dfs_count', hue = 'elevation_bin', data=daily40_lc3_melt, palette = 'magma_r')#, legend = False)\n",
    "# # sns.barplot(ax = mosaic['d'], x='D_month', y='dfs_count', hue = 'elevation_bin', data=daily40_lc4_melt, palette = 'magma_r')#, legend = False)\n",
    "\n",
    "# # Adding text to the top-left corner of each subplot\n",
    "# mosaic['a'].text(0.62, 0.95, 'veg 40%, bedrock 40%, ice 20%', transform=mosaic['a'].transAxes, fontsize=25, verticalalignment='top')\n",
    "# mosaic['b'].text(0.62, 0.95, 'veg 40%, bedrock 50%, ice 10%', transform=mosaic['b'].transAxes, fontsize=25, verticalalignment='top')\n",
    "# mosaic['c'].text(0.62, 0.95, 'veg 50%, bedrock 40%, ice 10%', transform=mosaic['c'].transAxes, fontsize=25, verticalalignment='top')\n",
    "# mosaic['d'].text(0.62, 0.95, 'veg 40%, bedrock 60%, ice 0%',  transform=mosaic['d'].transAxes, fontsize=25, verticalalignment='top')\n",
    "\n",
    "\n",
    "# # Hide x-ticks for all subplots except 'd'\n",
    "# mosaic['a'].tick_params(axis='x', which='both', bottom=False, top=False, labelbottom=False)\n",
    "# mosaic['b'].tick_params(axis='x', which='both', bottom=False, top=False, labelbottom=False)\n",
    "# mosaic['c'].tick_params(axis='x', which='both', bottom=False, top=False, labelbottom=False)\n",
    "\n",
    "# plt.setp(mosaic['d'].get_xticklabels(), rotation=45, ha=\"right\")\n",
    "# # sns.move_legend(mosaic['a'], \"upper left\", bbox_to_anchor=(1, 1))\n",
    "# # sns.move_legend(mosaic['a'], \"upper left\", bbox_to_anchor=(1, 1))\n",
    "# # Remove legends from all but the first subplot\n",
    "# # mosaic['b'].get_legend().remove()\n",
    "# # mosaic['c'].get_legend().remove()\n",
    "# # mosaic['d'].get_legend().remove()\n",
    "\n",
    "# # fig.suptitle('Langtang; df count \\n sediment input: daily, annual mean sediment yeild ', fontsize=30)\n",
    "\n",
    "# plt.show()"
   ]
  },
  {
   "cell_type": "code",
   "execution_count": 44,
   "id": "999c2059-3de5-4773-9ec6-7cd2190315dc",
   "metadata": {},
   "outputs": [
    {
     "data": {
      "text/html": [
       "<div>\n",
       "<style scoped>\n",
       "    .dataframe tbody tr th:only-of-type {\n",
       "        vertical-align: middle;\n",
       "    }\n",
       "\n",
       "    .dataframe tbody tr th {\n",
       "        vertical-align: top;\n",
       "    }\n",
       "\n",
       "    .dataframe thead th {\n",
       "        text-align: right;\n",
       "    }\n",
       "</style>\n",
       "<table border=\"1\" class=\"dataframe\">\n",
       "  <thead>\n",
       "    <tr style=\"text-align: right;\">\n",
       "      <th></th>\n",
       "      <th>D</th>\n",
       "      <th>elevation</th>\n",
       "      <th>dfs_count</th>\n",
       "      <th>elevation_bin</th>\n",
       "      <th>dfspot_count</th>\n",
       "      <th>floods</th>\n",
       "    </tr>\n",
       "  </thead>\n",
       "  <tbody>\n",
       "    <tr>\n",
       "      <th>0</th>\n",
       "      <td>1990</td>\n",
       "      <td>4485.0</td>\n",
       "      <td>2.0</td>\n",
       "      <td>4400 - 4599</td>\n",
       "      <td>4.0</td>\n",
       "      <td>2.0</td>\n",
       "    </tr>\n",
       "    <tr>\n",
       "      <th>1</th>\n",
       "      <td>1991</td>\n",
       "      <td>4485.0</td>\n",
       "      <td>1.0</td>\n",
       "      <td>4400 - 4599</td>\n",
       "      <td>1.0</td>\n",
       "      <td>0.0</td>\n",
       "    </tr>\n",
       "    <tr>\n",
       "      <th>2</th>\n",
       "      <td>1992</td>\n",
       "      <td>4485.0</td>\n",
       "      <td>0.0</td>\n",
       "      <td>4400 - 4599</td>\n",
       "      <td>0.0</td>\n",
       "      <td>0.0</td>\n",
       "    </tr>\n",
       "    <tr>\n",
       "      <th>3</th>\n",
       "      <td>1993</td>\n",
       "      <td>4485.0</td>\n",
       "      <td>4.0</td>\n",
       "      <td>4400 - 4599</td>\n",
       "      <td>4.0</td>\n",
       "      <td>0.0</td>\n",
       "    </tr>\n",
       "    <tr>\n",
       "      <th>4</th>\n",
       "      <td>1994</td>\n",
       "      <td>4485.0</td>\n",
       "      <td>0.0</td>\n",
       "      <td>4400 - 4599</td>\n",
       "      <td>0.0</td>\n",
       "      <td>0.0</td>\n",
       "    </tr>\n",
       "    <tr>\n",
       "      <th>...</th>\n",
       "      <td>...</td>\n",
       "      <td>...</td>\n",
       "      <td>...</td>\n",
       "      <td>...</td>\n",
       "      <td>...</td>\n",
       "      <td>...</td>\n",
       "    </tr>\n",
       "    <tr>\n",
       "      <th>1659</th>\n",
       "      <td>2017</td>\n",
       "      <td>5936.0</td>\n",
       "      <td>0.0</td>\n",
       "      <td>5800 - 5999</td>\n",
       "      <td>0.0</td>\n",
       "      <td>0.0</td>\n",
       "    </tr>\n",
       "    <tr>\n",
       "      <th>1660</th>\n",
       "      <td>2018</td>\n",
       "      <td>5936.0</td>\n",
       "      <td>0.0</td>\n",
       "      <td>5800 - 5999</td>\n",
       "      <td>0.0</td>\n",
       "      <td>0.0</td>\n",
       "    </tr>\n",
       "    <tr>\n",
       "      <th>1661</th>\n",
       "      <td>2019</td>\n",
       "      <td>5936.0</td>\n",
       "      <td>0.0</td>\n",
       "      <td>5800 - 5999</td>\n",
       "      <td>0.0</td>\n",
       "      <td>0.0</td>\n",
       "    </tr>\n",
       "    <tr>\n",
       "      <th>1662</th>\n",
       "      <td>2020</td>\n",
       "      <td>5936.0</td>\n",
       "      <td>0.0</td>\n",
       "      <td>5800 - 5999</td>\n",
       "      <td>0.0</td>\n",
       "      <td>0.0</td>\n",
       "    </tr>\n",
       "    <tr>\n",
       "      <th>1663</th>\n",
       "      <td>2021</td>\n",
       "      <td>5936.0</td>\n",
       "      <td>0.0</td>\n",
       "      <td>5800 - 5999</td>\n",
       "      <td>0.0</td>\n",
       "      <td>0.0</td>\n",
       "    </tr>\n",
       "  </tbody>\n",
       "</table>\n",
       "<p>1664 rows × 6 columns</p>\n",
       "</div>"
      ],
      "text/plain": [
       "         D  elevation  dfs_count elevation_bin  dfspot_count  floods\n",
       "0     1990     4485.0        2.0   4400 - 4599           4.0     2.0\n",
       "1     1991     4485.0        1.0   4400 - 4599           1.0     0.0\n",
       "2     1992     4485.0        0.0   4400 - 4599           0.0     0.0\n",
       "3     1993     4485.0        4.0   4400 - 4599           4.0     0.0\n",
       "4     1994     4485.0        0.0   4400 - 4599           0.0     0.0\n",
       "...    ...        ...        ...           ...           ...     ...\n",
       "1659  2017     5936.0        0.0   5800 - 5999           0.0     0.0\n",
       "1660  2018     5936.0        0.0   5800 - 5999           0.0     0.0\n",
       "1661  2019     5936.0        0.0   5800 - 5999           0.0     0.0\n",
       "1662  2020     5936.0        0.0   5800 - 5999           0.0     0.0\n",
       "1663  2021     5936.0        0.0   5800 - 5999           0.0     0.0\n",
       "\n",
       "[1664 rows x 6 columns]"
      ]
     },
     "execution_count": 44,
     "metadata": {},
     "output_type": "execute_result"
    }
   ],
   "source": [
    "daily40_lc1_melt"
   ]
  },
  {
   "cell_type": "code",
   "execution_count": 80,
   "id": "0ff7f47f-1488-40ad-bb89-fc22a40867ea",
   "metadata": {},
   "outputs": [],
   "source": [
    "test = daily30_lc4_melt.groupby('D').mean().reset_index()"
   ]
  },
  {
   "cell_type": "code",
   "execution_count": 81,
   "id": "75c9a0a6-e2c0-4d37-9bce-48b6775fbf36",
   "metadata": {},
   "outputs": [
    {
     "data": {
      "text/plain": [
       "Text(0.5, 1.0, 'df vs dfpot mean countper year, daily landslide, 40th percentile')"
      ]
     },
     "execution_count": 81,
     "metadata": {},
     "output_type": "execute_result"
    },
    {
     "data": {
      "image/png": "[encoded data removed]",
      "text/plain": [
       "<Figure size 1800x432 with 1 Axes>"
      ]
     },
     "metadata": {
      "needs_background": "light"
     },
     "output_type": "display_data"
    }
   ],
   "source": [
    "test2 = test[['dfspot_count', 'dfs_count', 'floods']]\n",
    "fig, ax = plt.subplots()\n",
    "\n",
    "test2.plot.bar(figsize = (25, 6),  alpha = 0.8, rot=45, width=0.8, stacked=False, edgecolor = 'black', ax=ax)\n",
    "\n",
    "plt.title('df vs dfpot mean countper year, daily landslide, 40th percentile')"
   ]
  },
  {
   "cell_type": "code",
   "execution_count": null,
   "id": "2e5d11f8-21b6-4270-9fc7-d86df6240584",
   "metadata": {},
   "outputs": [],
   "source": []
  },
  {
   "cell_type": "code",
   "execution_count": null,
   "id": "6134caca-5205-4dea-ad26-8288c28bbed1",
   "metadata": {},
   "outputs": [],
   "source": []
  },
  {
   "cell_type": "code",
   "execution_count": null,
   "id": "11d2f387-bb4a-42ab-bdad-72abf8e9f172",
   "metadata": {},
   "outputs": [],
   "source": []
  },
  {
   "cell_type": "code",
   "execution_count": null,
   "id": "efd45055-2d9d-435a-8688-a4291ae9fb64",
   "metadata": {},
   "outputs": [],
   "source": []
  },
  {
   "cell_type": "code",
   "execution_count": null,
   "id": "74949e5c-a055-43f2-8db5-5c018e99a39b",
   "metadata": {},
   "outputs": [],
   "source": []
  },
  {
   "cell_type": "code",
   "execution_count": null,
   "id": "0b66e08e-4139-4e9f-896d-493bebf2b3b0",
   "metadata": {},
   "outputs": [],
   "source": []
  },
  {
   "cell_type": "code",
   "execution_count": null,
   "id": "0f4e4ee6-6e5f-4992-9939-517628398fe9",
   "metadata": {},
   "outputs": [],
   "source": []
  },
  {
   "cell_type": "code",
   "execution_count": null,
   "id": "28681a67-ee8b-4da1-b273-677ea578f564",
   "metadata": {},
   "outputs": [],
   "source": [
    "fig = plt.figure(figsize=(30, 10))\n",
    "mosaic = fig.subplot_mosaic('''\n",
    "                            abc\n",
    "                            ''')\n",
    "\n",
    "\n",
    "mosaic['a'].scatter(x = daily40_lc1_melt.dfspot_count, y = daily40_lc1_melt.dfs_count, color = 'red', label = 'land cover 1')\n",
    "# mosaic['a'].scatter(x = daily40_lc2_melt.dfspot_count, y = daily40_lc2_melt.dfs_count, color = 'orange', label = 'land cover 2')\n",
    "# mosaic['a'].scatter(x = daily40_lc3_melt.dfspot_count, y = daily40_lc3_melt.dfs_count, color = 'blue', label = 'land cover 3')\n",
    "# mosaic['a'].scatter(x = daily40_lc4_melt.dfspot_count, y = daily40_lc4_melt.dfs_count, color = 'teal', label = 'land cover 4')\n",
    "\n",
    "\n",
    "mosaic['b'].scatter(x = daily30_lc1_melt.dfspot_count, y = daily30_lc1_melt.dfs_count, color = 'red', label = 'land cover 1')\n",
    "mosaic['b'].scatter(x = daily30_lc2_melt.dfspot_count, y = daily30_lc2_melt.dfs_count, color = 'orange', label = 'land cover 2')\n",
    "mosaic['b'].scatter(x = daily30_lc3_melt.dfspot_count, y = daily30_lc3_melt.dfs_count, color = 'blue', label = 'land cover 3')\n",
    "mosaic['b'].scatter(x = daily30_lc4_melt.dfspot_count, y = daily30_lc4_melt.dfs_count, color = 'teal', label = 'land cover 4')\n",
    "\n",
    "mosaic['c'].scatter(x = daily20_lc1_melt.dfspot_count, y = daily20_lc1_melt.dfs_count, color = 'red', label = 'land cover 1')\n",
    "mosaic['c'].scatter(x = daily20_lc2_melt.dfspot_count, y = daily20_lc2_melt.dfs_count, color = 'orange', label = 'land cover 2')\n",
    "mosaic['c'].scatter(x = daily20_lc3_melt.dfspot_count, y = daily20_lc3_melt.dfs_count, color = 'blue', label = 'land cover 3')\n",
    "mosaic['c'].scatter(x = daily20_lc4_melt.dfspot_count, y = daily20_lc4_melt.dfs_count, color = 'teal', label = 'land cover 4')\n",
    "\n",
    "mosaic['a'].legend(loc='upper right')  "
   ]
  },
  {
   "cell_type": "code",
   "execution_count": null,
   "id": "03769071-0844-4aca-b02b-bca1adc8bd69",
   "metadata": {},
   "outputs": [],
   "source": []
  },
  {
   "cell_type": "code",
   "execution_count": null,
   "id": "853b444c-c46f-429c-abce-caef1e868d85",
   "metadata": {},
   "outputs": [],
   "source": []
  },
  {
   "cell_type": "code",
   "execution_count": null,
   "id": "1370ede1-fd22-46f0-be00-b3eb985c061f",
   "metadata": {},
   "outputs": [],
   "source": []
  },
  {
   "cell_type": "code",
   "execution_count": null,
   "id": "b2b9aa11-776c-4e5e-b724-2be6d29ae85e",
   "metadata": {},
   "outputs": [],
   "source": []
  },
  {
   "cell_type": "code",
   "execution_count": null,
   "id": "0f991f6e-2454-409d-8376-9c5476a3fca1",
   "metadata": {},
   "outputs": [],
   "source": []
  },
  {
   "cell_type": "code",
   "execution_count": null,
   "id": "95ce62a1-9f20-4c9d-9805-98ae6870fdb2",
   "metadata": {},
   "outputs": [],
   "source": []
  },
  {
   "cell_type": "code",
   "execution_count": null,
   "id": "30bc1741-b488-4948-a22e-20eec9483fa1",
   "metadata": {},
   "outputs": [],
   "source": []
  },
  {
   "cell_type": "code",
   "execution_count": null,
   "id": "acb15a3e-b720-43de-b85d-828d2278266d",
   "metadata": {},
   "outputs": [],
   "source": []
  }
 ],
 "metadata": {
  "kernelspec": {
   "display_name": "Python 3 (ipykernel)",
   "language": "python",
   "name": "python3"
  },
  "language_info": {
   "codemirror_mode": {
    "name": "ipython",
    "version": 3
   },
   "file_extension": ".py",
   "mimetype": "text/x-python",
   "name": "python",
   "nbconvert_exporter": "python",
   "pygments_lexer": "ipython3",
   "version": "3.9.7"
  }
 },
 "nbformat": 4,
 "nbformat_minor": 5
}
