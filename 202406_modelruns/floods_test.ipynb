{
 "cells": [
  {
   "cell_type": "code",
   "execution_count": 4,
   "id": "0f27679f-4d72-4148-b132-3721bf45b0cf",
   "metadata": {},
   "outputs": [
    {
     "name": "stderr",
     "output_type": "stream",
     "text": [
      "/Users/varyabazilova/opt/anaconda3/lib/python3.9/site-packages/scipy/__init__.py:146: UserWarning: A NumPy version >=1.16.5 and <1.23.0 is required for this version of SciPy (detected version 1.26.2\n",
      "  warnings.warn(f\"A NumPy version >={np_minversion} and <{np_maxversion}\"\n"
     ]
    }
   ],
   "source": [
    "import pandas as pd\n",
    "import seaborn as sns\n",
    "import matplotlib.pyplot as plt\n",
    "import os\n",
    "\n",
    "import functions\n",
    "\n"
   ]
  },
  {
   "cell_type": "code",
   "execution_count": 118,
   "id": "6c049e00-07f6-4831-8b16-2f59f196d734",
   "metadata": {},
   "outputs": [],
   "source": [
    "# calculate the % of the dfs and dfspot for each scenario \n",
    "\n",
    "def prepare_dfcount_for_plot(dfcount):\n",
    "    melted = pd.melt(dfcount, id_vars=['D', 'D_year', 'D_month'], var_name='elevation', value_name='dfs_count')\n",
    "    melted['elevation'] = melted['elevation'].str.split('.').str[0].astype(float)\n",
    "    melted['elevation_bin'] = melted.apply(functions.bin_elevation200, axis=1)\n",
    "    # melted = melted.sort_values('elevation_bin')\n",
    "    # melted = melted.dropna(subset=['dfs_count'])\n",
    "    return melted \n",
    "\n",
    "\n",
    "def cut_dates(df):\n",
    "    df['D'] = pd.to_datetime(df['D'])\n",
    "    filtered_df = df[df['D'] > '1990-07-31']\n",
    "    return filtered_df\n"
   ]
  },
  {
   "cell_type": "markdown",
   "id": "2653cdd2-601c-4d97-97df-dc6c16e0cc13",
   "metadata": {},
   "source": [
    "# langtang"
   ]
  },
  {
   "cell_type": "code",
   "execution_count": 124,
   "id": "01f6afab-fe2d-4f57-9999-fd8ab68e66b2",
   "metadata": {},
   "outputs": [],
   "source": [
    "freq = 'monthly'\n",
    "flood_folder =  '/Users/varyabazilova/Desktop/paper2/202406_modelruns/30years/dfspot_count/langtang/'\n",
    "\n",
    "dfspot1 = pd.read_csv(flood_folder + f'langtang_{freq}_dfspot_count_landcover1.csv', index_col = 0)\n",
    "dfspot2 = pd.read_csv(flood_folder + f'langtang_{freq}_dfspot_count_landcover2.csv', index_col = 0)\n",
    "dfspot3 = pd.read_csv(flood_folder + f'langtang_{freq}_dfspot_count_landcover3.csv', index_col = 0)\n",
    "dfspot4 = pd.read_csv(flood_folder + f'langtang_{freq}_dfspot_count_landcover4.csv', index_col = 0)\n",
    "\n",
    "\n",
    "dfspot1 = cut_dates(dfspot1)\n",
    "dfspot2 = cut_dates(dfspot2)\n",
    "dfspot3 = cut_dates(dfspot3)\n",
    "dfspot4 = cut_dates(dfspot4)\n",
    "\n",
    "dfspot1 = dfspot1[:372]\n",
    "dfspot2 = dfspot2[:372]\n",
    "dfspot3 = dfspot3[:372]\n",
    "dfspot4 = dfspot4[:372]"
   ]
  },
  {
   "cell_type": "code",
   "execution_count": 125,
   "id": "d06c0b10-4fc9-45bd-afd0-0a04487de8a4",
   "metadata": {},
   "outputs": [],
   "source": [
    "dfspot1_melted = prepare_dfcount_for_plot(dfspot1)\n",
    "dfspot2_melted = prepare_dfcount_for_plot(dfspot2)\n",
    "dfspot3_melted = prepare_dfcount_for_plot(dfspot3)\n",
    "dfspot4_melted = prepare_dfcount_for_plot(dfspot4)\n",
    "\n",
    "dfspot1_melted = dfspot1_melted.rename(columns={'dfs_count': 'dfspot_count'})\n",
    "dfspot2_melted = dfspot2_melted.rename(columns={'dfs_count': 'dfspot_count'})\n",
    "dfspot3_melted = dfspot3_melted.rename(columns={'dfs_count': 'dfspot_count'})\n",
    "dfspot4_melted = dfspot4_melted.rename(columns={'dfs_count': 'dfspot_count'})\n"
   ]
  },
  {
   "cell_type": "code",
   "execution_count": null,
   "id": "4656c472-a12a-4ebc-82e3-a9bd69ce99e8",
   "metadata": {},
   "outputs": [],
   "source": []
  },
  {
   "cell_type": "code",
   "execution_count": 126,
   "id": "a9ce21af-5d0c-467d-958c-d9f05cb5b093",
   "metadata": {},
   "outputs": [
    {
     "data": {
      "text/plain": [
       "'1990-07-31'"
      ]
     },
     "execution_count": 126,
     "metadata": {},
     "output_type": "execute_result"
    }
   ],
   "source": [
    "# len(daily40_lc3)\n",
    "daily20_lc3.D.min()"
   ]
  },
  {
   "cell_type": "code",
   "execution_count": 129,
   "id": "18ecfdfe-5ece-458f-ad66-3b24c6467473",
   "metadata": {},
   "outputs": [],
   "source": [
    "daily20_lc1 = pd.read_csv(f'/Users/varyabazilova/Desktop/paper2/202406_modelruns/30years/SL_daily/output_20percent/langtang_{freq}_df_count_20percent_landcover1.csv', index_col = 0)[:372]\n",
    "daily20_lc2 = pd.read_csv(f'/Users/varyabazilova/Desktop/paper2/202406_modelruns/30years/SL_daily/output_20percent/langtang_{freq}_df_count_20percent_landcover2.csv', index_col = 0)[:372]\n",
    "daily20_lc3 = pd.read_csv(f'/Users/varyabazilova/Desktop/paper2/202406_modelruns/30years/SL_daily/output_20percent/langtang_{freq}_df_count_20percent_landcover3.csv', index_col = 0)[:372]\n",
    "daily20_lc4 = pd.read_csv(f'/Users/varyabazilova/Desktop/paper2/202406_modelruns/30years/SL_daily/output_20percent/langtang_{freq}_df_count_20percent_landcover4.csv', index_col = 0)[:372]\n",
    "\n",
    "daily30_lc1 = pd.read_csv(f'/Users/varyabazilova/Desktop/paper2/202406_modelruns/30years/SL_daily/output_30percent/langtang_{freq}_df_count_30percent_landcover1.csv', index_col = 0)[:372]\n",
    "daily30_lc2 = pd.read_csv(f'/Users/varyabazilova/Desktop/paper2/202406_modelruns/30years/SL_daily/output_30percent/langtang_{freq}_df_count_30percent_landcover2.csv', index_col = 0)[:372]\n",
    "daily30_lc3 = pd.read_csv(f'/Users/varyabazilova/Desktop/paper2/202406_modelruns/30years/SL_daily/output_30percent/langtang_{freq}_df_count_30percent_landcover3.csv', index_col = 0)[:372]\n",
    "daily30_lc4 = pd.read_csv(f'/Users/varyabazilova/Desktop/paper2/202406_modelruns/30years/SL_daily/output_30percent/langtang_{freq}_df_count_30percent_landcover4.csv', index_col = 0)[:372]\n",
    "\n",
    "daily40_lc1 = pd.read_csv(f'/Users/varyabazilova/Desktop/paper2/202406_modelruns/30years/SL_daily/output_40percent/langtang_{freq}_df_count_40percent_landcover1.csv', index_col = 0)[:372]\n",
    "daily40_lc2 = pd.read_csv(f'/Users/varyabazilova/Desktop/paper2/202406_modelruns/30years/SL_daily/output_40percent/langtang_{freq}_df_count_40percent_landcover2.csv', index_col = 0)[:372]\n",
    "daily40_lc3 = pd.read_csv(f'/Users/varyabazilova/Desktop/paper2/202406_modelruns/30years/SL_daily/output_40percent/langtang_{freq}_df_count_40percent_landcover3.csv', index_col = 0)[:372]\n",
    "daily40_lc4 = pd.read_csv(f'/Users/varyabazilova/Desktop/paper2/202406_modelruns/30years/SL_daily/output_40percent/langtang_{freq}_df_count_40percent_landcover4.csv', index_col = 0)[:372]\n",
    "\n",
    "# prepare for plots ets \n",
    "# 20 percent\n",
    "daily20_lc1_melt = prepare_dfcount_for_plot(daily20_lc1)\n",
    "daily20_lc2_melt = prepare_dfcount_for_plot(daily20_lc2)\n",
    "daily20_lc3_melt = prepare_dfcount_for_plot(daily20_lc3)\n",
    "daily20_lc4_melt = prepare_dfcount_for_plot(daily20_lc4)\n",
    "\n",
    "daily20_lc1_melt['dfspot_count'] = dfspot1_melted.dfspot_count.values\n",
    "daily20_lc2_melt['dfspot_count'] = dfspot2_melted.dfspot_count.values\n",
    "daily20_lc3_melt['dfspot_count'] = dfspot3_melted.dfspot_count.values\n",
    "daily20_lc4_melt['dfspot_count'] = dfspot4_melted.dfspot_count.values\n",
    "\n",
    "# 30 percent\n",
    "daily30_lc1_melt = prepare_dfcount_for_plot(daily30_lc1)\n",
    "daily30_lc2_melt = prepare_dfcount_for_plot(daily30_lc2)\n",
    "daily30_lc3_melt = prepare_dfcount_for_plot(daily30_lc3)\n",
    "daily30_lc4_melt = prepare_dfcount_for_plot(daily30_lc4)\n",
    "\n",
    "daily30_lc1_melt['dfspot_count'] = dfspot1_melted.dfspot_count.values\n",
    "daily30_lc2_melt['dfspot_count'] = dfspot2_melted.dfspot_count.values\n",
    "daily30_lc3_melt['dfspot_count'] = dfspot3_melted.dfspot_count.values\n",
    "daily30_lc4_melt['dfspot_count'] = dfspot4_melted.dfspot_count.values\n",
    "\n",
    "\n",
    "# 40 percent\n",
    "daily40_lc1_melt = prepare_dfcount_for_plot(daily40_lc1)\n",
    "daily40_lc2_melt = prepare_dfcount_for_plot(daily40_lc2)\n",
    "daily40_lc3_melt = prepare_dfcount_for_plot(daily40_lc3)\n",
    "daily40_lc4_melt = prepare_dfcount_for_plot(daily40_lc4)\n",
    "\n",
    "daily40_lc1_melt['dfspot_count'] = dfspot1_melted.dfspot_count.values\n",
    "daily40_lc2_melt['dfspot_count'] = dfspot2_melted.dfspot_count.values\n",
    "daily40_lc3_melt['dfspot_count'] = dfspot3_melted.dfspot_count.values\n",
    "daily40_lc4_melt['dfspot_count'] = dfspot4_melted.dfspot_count.values\n"
   ]
  },
  {
   "cell_type": "code",
   "execution_count": null,
   "id": "28681a67-ee8b-4da1-b273-677ea578f564",
   "metadata": {},
   "outputs": [],
   "source": []
  },
  {
   "cell_type": "code",
   "execution_count": 34,
   "id": "03769071-0844-4aca-b02b-bca1adc8bd69",
   "metadata": {},
   "outputs": [],
   "source": []
  },
  {
   "cell_type": "code",
   "execution_count": null,
   "id": "853b444c-c46f-429c-abce-caef1e868d85",
   "metadata": {},
   "outputs": [],
   "source": []
  },
  {
   "cell_type": "code",
   "execution_count": null,
   "id": "1370ede1-fd22-46f0-be00-b3eb985c061f",
   "metadata": {},
   "outputs": [],
   "source": []
  },
  {
   "cell_type": "code",
   "execution_count": null,
   "id": "b2b9aa11-776c-4e5e-b724-2be6d29ae85e",
   "metadata": {},
   "outputs": [],
   "source": []
  },
  {
   "cell_type": "code",
   "execution_count": null,
   "id": "0f991f6e-2454-409d-8376-9c5476a3fca1",
   "metadata": {},
   "outputs": [],
   "source": []
  },
  {
   "cell_type": "code",
   "execution_count": null,
   "id": "95ce62a1-9f20-4c9d-9805-98ae6870fdb2",
   "metadata": {},
   "outputs": [],
   "source": []
  },
  {
   "cell_type": "code",
   "execution_count": null,
   "id": "30bc1741-b488-4948-a22e-20eec9483fa1",
   "metadata": {},
   "outputs": [],
   "source": []
  },
  {
   "cell_type": "code",
   "execution_count": null,
   "id": "acb15a3e-b720-43de-b85d-828d2278266d",
   "metadata": {},
   "outputs": [],
   "source": []
  }
 ],
 "metadata": {
  "kernelspec": {
   "display_name": "Python 3 (ipykernel)",
   "language": "python",
   "name": "python3"
  },
  "language_info": {
   "codemirror_mode": {
    "name": "ipython",
    "version": 3
   },
   "file_extension": ".py",
   "mimetype": "text/x-python",
   "name": "python",
   "nbconvert_exporter": "python",
   "pygments_lexer": "ipython3",
   "version": "3.9.7"
  }
 },
 "nbformat": 4,
 "nbformat_minor": 5
}
