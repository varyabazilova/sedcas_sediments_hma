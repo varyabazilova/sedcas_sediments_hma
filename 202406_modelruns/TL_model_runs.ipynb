{
 "cells": [
  {
   "cell_type": "code",
   "execution_count": 1,
   "id": "ea8d8659-b557-4eed-b725-1791543edfc1",
   "metadata": {},
   "outputs": [],
   "source": [
    "import os\n",
    "import pandas as pd\n",
    "import matplotlib.pyplot as plt\n",
    "\n",
    "\n",
    "# modelling part\n",
    "from run import run\n",
    "\n"
   ]
  },
  {
   "cell_type": "markdown",
   "id": "51cc61fa-56ed-4201-9d1e-ebc40bdb76ab",
   "metadata": {},
   "source": [
    "# land cover situation 4"
   ]
  },
  {
   "cell_type": "code",
   "execution_count": null,
   "id": "906f4fed-da12-4738-bbf5-17a79f2a1bf8",
   "metadata": {},
   "outputs": [],
   "source": [
    "%%time\n",
    "\n",
    "# ----------- LANGTANG ------------\n",
    "\n",
    "climatepath = '/Users/varyabazilova/Desktop/paper2/202406_modelruns/30years/4landcover/langtang_climate_cut'\n",
    "\n",
    "# get all folders togetehr \n",
    "\n",
    "ls_ = os.listdir(climatepath)\n",
    "ls = [d for d in ls_ if not d.startswith('.')]\n",
    "dir0 = os.getcwd()\n",
    "# print(dir0)\n",
    "# run the model for each\n",
    "for d in ls:\n",
    "    path = os.path.join(dir0, '30years/4landcover/langtang_climate_cut', d)\n",
    "    if path.endswith('.csv'):\n",
    "        continue\n",
    "    # print(path)\n",
    "    os.chdir(path)\n",
    "    run()\n",
    "    os.chdir(dir0)\n"
   ]
  },
  {
   "cell_type": "code",
   "execution_count": null,
   "id": "2edb3e7f-be75-41b9-8a11-c6c908d60102",
   "metadata": {},
   "outputs": [],
   "source": []
  },
  {
   "cell_type": "code",
   "execution_count": null,
   "id": "8494cf15-623b-44a2-9dc8-c485461ecdd1",
   "metadata": {},
   "outputs": [],
   "source": [
    "%%time\n",
    "# ----------- BAGROT ------------\n",
    "\n",
    "climatepath = '/Users/varyabazilova/Desktop/paper2/202406_modelruns/30years/4landcover/bagrot_climate_cut'\n",
    "\n",
    "# get all folders togetehr \n",
    "# ls_ = os.listdir('./langtang')\n",
    "ls_ = os.listdir(climatepath)\n",
    "ls = [d for d in ls_ if not d.startswith('.')]\n",
    "dir0 = os.getcwd()\n",
    "# print(dir0)\n",
    "# run the model for each\n",
    "for d in ls:\n",
    "    path = os.path.join(dir0, '30years/4landcover/bagrot_climate_cut', d)\n",
    "    if path.endswith('.csv'):\n",
    "        continue\n",
    "    # print(path)\n",
    "    os.chdir(path)\n",
    "    run()\n",
    "    os.chdir(dir0)\n"
   ]
  },
  {
   "cell_type": "code",
   "execution_count": null,
   "id": "d8060c68-9c1d-43ec-ad53-a2227559da6f",
   "metadata": {},
   "outputs": [],
   "source": [
    "%%time\n",
    "# ----------- MUSTANG ------------\n",
    "climatepath = '/Users/varyabazilova/Desktop/paper2/202406_modelruns/30years/4landcover/mustang_climate_cut'\n",
    "\n",
    "# get all folders togetehr \n",
    "# ls_ = os.listdir('./langtang')\n",
    "ls_ = os.listdir(climatepath)\n",
    "ls = [d for d in ls_ if not d.startswith('.')]\n",
    "dir0 = os.getcwd()\n",
    "# print(dir0)\n",
    "# run the model for each\n",
    "for d in ls:\n",
    "    path = os.path.join(dir0, '30years/4landcover/mustang_climate_cut', d)\n",
    "    if path.endswith('.csv'):\n",
    "        continue\n",
    "    # print(path)\n",
    "    os.chdir(path)\n",
    "    run()\n",
    "    os.chdir(dir0)\n"
   ]
  },
  {
   "cell_type": "markdown",
   "id": "52cf9a5f-5186-4d02-83c7-bc778ac9ad46",
   "metadata": {},
   "source": [
    "## calculate how much sediments is exported for land cover situation 4\n"
   ]
  },
  {
   "cell_type": "code",
   "execution_count": 22,
   "id": "0d022d22-d1c1-4749-a611-5cbcfe1976d1",
   "metadata": {},
   "outputs": [],
   "source": [
    "\n",
    "# Define your custom function\n",
    "def calculate_annual_sum_mean(df):\n",
    "    df['D'] = pd.to_datetime(df['D'])\n",
    "    df['Year'] = df['D'].dt.year\n",
    "    annual_sum = df.groupby('Year').sum()\n",
    "    annual_sum_mean = annual_sum.Qstl.mean()\n",
    "    return annual_sum_mean\n",
    "\n",
    "\n",
    "\n",
    "def calculate_annual_sum_sum(df):\n",
    "    df['D'] = pd.to_datetime(df['D'])\n",
    "    df['Year'] = df['D'].dt.year\n",
    "    annual_sum = df.groupby('Year').sum()\n",
    "    annual_sum_sum = annual_sum.Qstl.sum()\n",
    "    return annual_sum_sum\n"
   ]
  },
  {
   "cell_type": "code",
   "execution_count": null,
   "id": "2741e73e-b9c2-4bd8-87ec-9f4f1e606a77",
   "metadata": {},
   "outputs": [],
   "source": [
    "\n",
    "directory_path = '/Users/varyabazilova/Desktop/paper2/202406_modelruns/30years/4landcover/langtang_climate_cut'\n",
    "\n",
    "annual_sum_mean =[]\n",
    "annual_sum_sum = []\n",
    "\n",
    "# Iterate over each folder\n",
    "for folder_name in os.listdir(directory_path):\n",
    "    folder_path = os.path.join(directory_path, folder_name)\n",
    "    if os.path.isdir(folder_path): \n",
    "        # Locate the 'sediment.out' file within the folder\n",
    "        sediment_out_path = os.path.join(folder_path, 'Sediment.out')\n",
    "#         # Read the contents of the file into a pandas DataFrame\n",
    "        df = pd.read_csv(sediment_out_path, delimiter=',')  # Adjust delimiter if needed\n",
    "#         # mean:\n",
    "        annual_sum_mean_value = calculate_annual_sum_mean(df)\n",
    "        annual_sum_sum_value = calculate_annual_sum_sum(df)\n",
    "  \n",
    "#        # # Save the DataFrame into the results table\n",
    "        annual_sum_mean.append((folder_name.replace('cellnr', ''), annual_sum_mean_value))\n",
    "        annual_sum_sum.append((folder_name.replace('cellnr', ''), annual_sum_sum_value))\n",
    "\n",
    "# # make table \n",
    "annual_sum_mean_df = pd.DataFrame(annual_sum_mean, columns=['cellnr', 'annual_mean_Qdftl_mm']).set_index('cellnr')\n",
    "annual_sum_sum_df =  pd.DataFrame(annual_sum_sum, columns=['cellnr', 'annual_mean_Qdftl_mm']).set_index('cellnr')"
   ]
  },
  {
   "cell_type": "code",
   "execution_count": null,
   "id": "51a5cce2-c3a2-4b43-8457-40fc980e2d05",
   "metadata": {},
   "outputs": [],
   "source": []
  },
  {
   "cell_type": "code",
   "execution_count": null,
   "id": "c79ae508-30e1-457f-a2f4-71516dbc8bae",
   "metadata": {},
   "outputs": [],
   "source": []
  },
  {
   "cell_type": "code",
   "execution_count": null,
   "id": "ddcffe6c-7909-4936-b5ec-b3d5bf56b6ea",
   "metadata": {},
   "outputs": [],
   "source": []
  },
  {
   "cell_type": "code",
   "execution_count": null,
   "id": "ae206fc9-7993-4b10-bbe7-0d101eee4e8e",
   "metadata": {},
   "outputs": [],
   "source": []
  },
  {
   "cell_type": "code",
   "execution_count": null,
   "id": "61bf2e0a-6e85-48cf-886c-530e50e54dda",
   "metadata": {},
   "outputs": [],
   "source": []
  },
  {
   "cell_type": "markdown",
   "id": "37a17092-b46a-458a-9400-77816a60e3fb",
   "metadata": {},
   "source": [
    "# save annual values and plot the distributions "
   ]
  },
  {
   "cell_type": "code",
   "execution_count": null,
   "id": "4aaa4a4b-fade-471a-b97e-b102645f45e7",
   "metadata": {},
   "outputs": [],
   "source": []
  }
 ],
 "metadata": {
  "kernelspec": {
   "display_name": "Python [conda env:sedcas] *",
   "language": "python",
   "name": "conda-env-sedcas-py"
  },
  "language_info": {
   "codemirror_mode": {
    "name": "ipython",
    "version": 3
   },
   "file_extension": ".py",
   "mimetype": "text/x-python",
   "name": "python",
   "nbconvert_exporter": "python",
   "pygments_lexer": "ipython3",
   "version": "3.9.7"
  }
 },
 "nbformat": 4,
 "nbformat_minor": 5
}
