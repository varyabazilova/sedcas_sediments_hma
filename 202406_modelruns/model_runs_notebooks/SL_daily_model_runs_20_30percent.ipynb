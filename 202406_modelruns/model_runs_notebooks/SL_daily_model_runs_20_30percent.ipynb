{
 "cells": [
  {
   "cell_type": "code",
   "execution_count": 1,
   "id": "32a70426-d67b-441c-8742-12620ebdd28e",
   "metadata": {},
   "outputs": [],
   "source": [
    "import os\n",
    "import pandas as pd\n",
    "import matplotlib.pyplot as plt\n",
    "\n",
    "\n",
    "# modelling part\n",
    "from run import run\n",
    "\n"
   ]
  },
  {
   "cell_type": "code",
   "execution_count": null,
   "id": "80e36888-d640-42fd-924a-0bfaccae2f5d",
   "metadata": {},
   "outputs": [
    {
     "name": "stdout",
     "output_type": "stream",
     "text": [
      "running sediment module...\n"
     ]
    },
    {
     "name": "stderr",
     "output_type": "stream",
     "text": [
      "100%|█████████████████████████████████████████████| 1/1 [00:00<00:00,  1.54it/s]\n"
     ]
    },
    {
     "name": "stdout",
     "output_type": "stream",
     "text": [
      "saving output...\n",
      "running sediment module...\n"
     ]
    },
    {
     "name": "stderr",
     "output_type": "stream",
     "text": [
      "100%|█████████████████████████████████████████████| 1/1 [00:00<00:00,  1.73it/s]\n"
     ]
    },
    {
     "name": "stdout",
     "output_type": "stream",
     "text": [
      "saving output...\n"
     ]
    }
   ],
   "source": [
    "%%time\n",
    "# List of landcover indices\n",
    "landcover_indices = [1, 2, 3, 4]\n",
    "\n",
    "location = 'langtang'\n",
    "percentile = '20percent'\n",
    "\n",
    "# Store the original working directory\n",
    "dir0 = os.getcwd()\n",
    "\n",
    "# Loop over each landcover index\n",
    "for landcover_idx in landcover_indices:\n",
    "    climatepath = f'/Users/varyabazilova/Desktop/paper2/202406_modelruns/30years/SL_data_daily/{landcover_idx}landcover_{percentile}/{location}_climate_cut'\n",
    "\n",
    "    # Get all folders together\n",
    "    ls_ = os.listdir(climatepath)\n",
    "    ls = [d for d in ls_ if not d.startswith('.')]\n",
    "    \n",
    "    # Run the model for each folder\n",
    "    for d in ls:\n",
    "        path = os.path.join(climatepath, d)\n",
    "        if path.endswith('.csv'):\n",
    "            continue\n",
    "        # Change to the folder path and run the model\n",
    "        os.chdir(path)\n",
    "        run()\n",
    "        # Return to the original directory\n",
    "        os.chdir(dir0)\n",
    "\n",
    "    print(f\"Processed landcover index {landcover_idx}\")\n"
   ]
  },
  {
   "cell_type": "code",
   "execution_count": null,
   "id": "3c113c04-4a9c-4935-8e7d-957b38e20c9d",
   "metadata": {},
   "outputs": [],
   "source": [
    "%%time\n",
    "# List of landcover indices\n",
    "landcover_indices = [1, 2, 3, 4]\n",
    "\n",
    "location = 'langtang'\n",
    "percentile = '30percent'\n",
    "\n",
    "# Store the original working directory\n",
    "dir0 = os.getcwd()\n",
    "\n",
    "# Loop over each landcover index\n",
    "for landcover_idx in landcover_indices:\n",
    "    climatepath = f'/Users/varyabazilova/Desktop/paper2/202406_modelruns/30years/SL_data_daily/{landcover_idx}landcover_{percentile}/{location}_climate_cut'\n",
    "\n",
    "    # Get all folders together\n",
    "    ls_ = os.listdir(climatepath)\n",
    "    ls = [d for d in ls_ if not d.startswith('.')]\n",
    "    \n",
    "    # Run the model for each folder\n",
    "    for d in ls:\n",
    "        path = os.path.join(climatepath, d)\n",
    "        if path.endswith('.csv'):\n",
    "            continue\n",
    "        # Change to the folder path and run the model\n",
    "        os.chdir(path)\n",
    "        run()\n",
    "        # Return to the original directory\n",
    "        os.chdir(dir0)\n",
    "\n",
    "    print(f\"Processed landcover index {landcover_idx}\")\n"
   ]
  },
  {
   "cell_type": "code",
   "execution_count": null,
   "id": "eb404a33-cdae-4b2f-97c9-89bfa5cc2e41",
   "metadata": {},
   "outputs": [],
   "source": []
  },
  {
   "cell_type": "code",
   "execution_count": null,
   "id": "50ede7d0-0f9c-469e-9d6c-5ba171e825de",
   "metadata": {},
   "outputs": [],
   "source": []
  },
  {
   "cell_type": "code",
   "execution_count": null,
   "id": "19021725-3add-4f53-a741-d20d2d3ba791",
   "metadata": {},
   "outputs": [],
   "source": []
  },
  {
   "cell_type": "code",
   "execution_count": null,
   "id": "15267505-48bc-4b87-a353-40df1333ec5e",
   "metadata": {},
   "outputs": [],
   "source": [
    "%%time\n",
    "# List of landcover indices\n",
    "landcover_indices = [1, 2, 3, 4]\n",
    "\n",
    "location = 'mustang'\n",
    "percentile = '20percent'\n",
    "\n",
    "# Store the original working directory\n",
    "dir0 = os.getcwd()\n",
    "\n",
    "# Loop over each landcover index\n",
    "for landcover_idx in landcover_indices:\n",
    "    climatepath = f'/Users/varyabazilova/Desktop/paper2/202406_modelruns/30years/SL_data_daily/{landcover_idx}landcover_{percentile}/{location}_climate_cut'\n",
    "\n",
    "    # Get all folders together\n",
    "    ls_ = os.listdir(climatepath)\n",
    "    ls = [d for d in ls_ if not d.startswith('.')]\n",
    "    \n",
    "    # Run the model for each folder\n",
    "    for d in ls:\n",
    "        path = os.path.join(climatepath, d)\n",
    "        if path.endswith('.csv'):\n",
    "            continue\n",
    "        # Change to the folder path and run the model\n",
    "        os.chdir(path)\n",
    "        run()\n",
    "        # Return to the original directory\n",
    "        os.chdir(dir0)\n",
    "\n",
    "    print(f\"Processed landcover index {landcover_idx}\")\n"
   ]
  },
  {
   "cell_type": "code",
   "execution_count": null,
   "id": "faa29c0c-02c5-406b-981d-ddb805111cb7",
   "metadata": {},
   "outputs": [],
   "source": [
    "%%time\n",
    "# List of landcover indices\n",
    "landcover_indices = [1, 2, 3, 4]\n",
    "\n",
    "location = 'mustang'\n",
    "percentile = '30percent'\n",
    "\n",
    "# Store the original working directory\n",
    "dir0 = os.getcwd()\n",
    "\n",
    "# Loop over each landcover index\n",
    "for landcover_idx in landcover_indices:\n",
    "    climatepath = f'/Users/varyabazilova/Desktop/paper2/202406_modelruns/30years/SL_data_daily/{landcover_idx}landcover_{percentile}/{location}_climate_cut'\n",
    "\n",
    "    # Get all folders together\n",
    "    ls_ = os.listdir(climatepath)\n",
    "    ls = [d for d in ls_ if not d.startswith('.')]\n",
    "    \n",
    "    # Run the model for each folder\n",
    "    for d in ls:\n",
    "        path = os.path.join(climatepath, d)\n",
    "        if path.endswith('.csv'):\n",
    "            continue\n",
    "        # Change to the folder path and run the model\n",
    "        os.chdir(path)\n",
    "        run()\n",
    "        # Return to the original directory\n",
    "        os.chdir(dir0)\n",
    "\n",
    "    print(f\"Processed landcover index {landcover_idx}\")\n"
   ]
  },
  {
   "cell_type": "code",
   "execution_count": null,
   "id": "152b3bca-d8a2-4e9c-ae2d-b8a5517e4e1e",
   "metadata": {},
   "outputs": [],
   "source": []
  },
  {
   "cell_type": "code",
   "execution_count": null,
   "id": "5f48fbb0-7db5-4ce1-8cba-e1f6f2222eb1",
   "metadata": {},
   "outputs": [],
   "source": []
  },
  {
   "cell_type": "code",
   "execution_count": null,
   "id": "d84c8477-3f81-4246-a7ed-a286d8011e54",
   "metadata": {},
   "outputs": [],
   "source": []
  },
  {
   "cell_type": "code",
   "execution_count": null,
   "id": "bd82d091-0f67-4ecd-95c5-a21a3dbb570c",
   "metadata": {},
   "outputs": [],
   "source": []
  },
  {
   "cell_type": "code",
   "execution_count": null,
   "id": "f3fd2a85-3633-457d-9404-94c29cc4395c",
   "metadata": {},
   "outputs": [],
   "source": [
    "%%time\n",
    "# landcover 1 -Langtang\n",
    "\n",
    "\n",
    "# ----------- LANGTANG ------------\n",
    "location = 'langtang'\n",
    "percentile = '20percent'\n",
    "landcover_idx = 1\n",
    "\n",
    "climatepath = f'/Users/varyabazilova/Desktop/paper2/202406_modelruns/30years/TL_data_daily/{landcover_idx}landcover_{percentile}/{location}_climate_cut'\n",
    "\n",
    "# get all folders togetehr \n",
    "\n",
    "ls_ = os.listdir(climatepath)\n",
    "ls = [d for d in ls_ if not d.startswith('.')]\n",
    "dir0 = os.getcwd()\n",
    "# print(dir0)\n",
    "# run the model for each\n",
    "for d in ls:\n",
    "    path = os.path.join(climatepath, d)\n",
    "    if path.endswith('.csv'):\n",
    "        continue\n",
    "    # print(path)\n",
    "    os.chdir(path)\n",
    "    run()\n",
    "    os.chdir(dir0)\n"
   ]
  },
  {
   "cell_type": "code",
   "execution_count": null,
   "id": "bbdbfe88-bcce-4431-8f5b-23e43c6957c1",
   "metadata": {},
   "outputs": [],
   "source": [
    "%%time\n",
    "# ----------- MUSTANG ------------\n",
    "location = 'mustang'\n",
    "landcover_idx = 1\n",
    "climatepath = f'/Users/varyabazilova/Desktop/paper2/202406_modelruns/30years/TL_data_daily/{landcover_idx}landcover_{percentile}/{location}_climate_cut'\n",
    "\n",
    "# get all folders togetehr \n",
    "\n",
    "ls_ = os.listdir(climatepath)\n",
    "ls = [d for d in ls_ if not d.startswith('.')]\n",
    "dir0 = os.getcwd()\n",
    "# print(dir0)\n",
    "# run the model for each\n",
    "for d in ls:\n",
    "    path = os.path.join(climatepath, d)\n",
    "    if path.endswith('.csv'):\n",
    "        continue\n",
    "    # print(path)\n",
    "    os.chdir(path)\n",
    "    run()\n",
    "    os.chdir(dir0)"
   ]
  },
  {
   "cell_type": "markdown",
   "id": "f825dc88-404d-42fe-b949-61053ad18d02",
   "metadata": {},
   "source": [
    "# landcover2"
   ]
  },
  {
   "cell_type": "code",
   "execution_count": null,
   "id": "35152b07-12d0-4349-a0c6-55153f3c2224",
   "metadata": {},
   "outputs": [],
   "source": [
    "%%time\n",
    "# landcover 1 -Langtang\n",
    "\n",
    "\n",
    "# ----------- LANGTANG ------------\n",
    "location = 'langtang'\n",
    "landcover_idx = 2\n",
    "climatepath = f'/Users/varyabazilova/Desktop/paper2/202406_modelruns/30years/TL_data_daily/{landcover_idx}landcover_{percentile}/{location}_climate_cut'\n",
    "\n",
    "# climatepath = '/Users/varyabazilova/Desktop/paper2/202406_modelruns/30years/TL_data/2landcover/langtang_climate_cut'\n",
    "\n",
    "# get all folders togetehr \n",
    "\n",
    "ls_ = os.listdir(climatepath)\n",
    "ls = [d for d in ls_ if not d.startswith('.')]\n",
    "dir0 = os.getcwd()\n",
    "# print(dir0)\n",
    "# run the model for each\n",
    "for d in ls:\n",
    "    path = os.path.join(climatepath, d)\n",
    "    if path.endswith('.csv'):\n",
    "        continue\n",
    "    # print(path)\n",
    "    os.chdir(path)\n",
    "    run()\n",
    "    os.chdir(dir0)"
   ]
  },
  {
   "cell_type": "code",
   "execution_count": null,
   "id": "5b819915-3b2e-46b8-8774-1463fcc82780",
   "metadata": {},
   "outputs": [],
   "source": [
    "%%time\n",
    "# ----------- MUSTANG ------------\n",
    "\n",
    "climatepath = '/Users/varyabazilova/Desktop/paper2/202406_modelruns/30years/TL_data/2landcover/mustang_climate_cut'\n",
    "\n",
    "# get all folders togetehr \n",
    "\n",
    "ls_ = os.listdir(climatepath)\n",
    "ls = [d for d in ls_ if not d.startswith('.')]\n",
    "dir0 = os.getcwd()\n",
    "# print(dir0)\n",
    "# run the model for each\n",
    "for d in ls:\n",
    "    path = os.path.join(climatepath, d)\n",
    "    if path.endswith('.csv'):\n",
    "        continue\n",
    "    # print(path)\n",
    "    os.chdir(path)\n",
    "    run()\n",
    "    os.chdir(dir0)"
   ]
  },
  {
   "cell_type": "code",
   "execution_count": null,
   "id": "36ff3c06-e219-4c05-8aa0-5d70c383c004",
   "metadata": {},
   "outputs": [],
   "source": []
  },
  {
   "cell_type": "markdown",
   "id": "b31f5710-9c89-4b5d-b94e-3b0cc4e7a76e",
   "metadata": {},
   "source": [
    "# landcover3"
   ]
  },
  {
   "cell_type": "code",
   "execution_count": null,
   "id": "113dec0e-7584-4690-94b1-0b7d0269c1d1",
   "metadata": {},
   "outputs": [],
   "source": [
    "%%time\n",
    "\n",
    "landcover_idx = 3\n",
    "# ----------- Langtang ------------\n",
    "\n",
    "climatepath = f'/Users/varyabazilova/Desktop/paper2/202406_modelruns/30years/TL_data/{landcover_idx}landcover/langtang_climate_cut'\n",
    "\n",
    "# get all folders togetehr \n",
    "\n",
    "ls_ = os.listdir(climatepath)\n",
    "ls = [d for d in ls_ if not d.startswith('.')]\n",
    "dir0 = os.getcwd()\n",
    "# print(dir0)\n",
    "# run the model for each\n",
    "for d in ls:\n",
    "    path = os.path.join(climatepath, d)\n",
    "    if path.endswith('.csv'):\n",
    "        continue\n",
    "    # print(path)\n",
    "    os.chdir(path)\n",
    "    run()\n",
    "    os.chdir(dir0)"
   ]
  },
  {
   "cell_type": "code",
   "execution_count": null,
   "id": "6f699717-89a0-434d-8d13-f3f6f79c3671",
   "metadata": {},
   "outputs": [],
   "source": [
    "%%time\n",
    "# ----------- mustang ------------\n",
    "landcover_idx = 3\n",
    "climatepath = f'/Users/varyabazilova/Desktop/paper2/202406_modelruns/30years/TL_data/{landcover_idx}landcover/mustang_climate_cut'\n",
    "\n",
    "# get all folders togetehr \n",
    "\n",
    "ls_ = os.listdir(climatepath)\n",
    "ls = [d for d in ls_ if not d.startswith('.')]\n",
    "dir0 = os.getcwd()\n",
    "# print(dir0)\n",
    "# run the model for each\n",
    "for d in ls:\n",
    "    path = os.path.join(climatepath, d)\n",
    "    if path.endswith('.csv'):\n",
    "        continue\n",
    "    # print(path)\n",
    "    os.chdir(path)\n",
    "    run()\n",
    "    os.chdir(dir0)"
   ]
  },
  {
   "cell_type": "markdown",
   "id": "9da74f5e-91ab-4502-8459-5121170a3313",
   "metadata": {},
   "source": [
    "# landcover4"
   ]
  },
  {
   "cell_type": "code",
   "execution_count": null,
   "id": "36978451-d074-44ba-b524-2b5681e8732d",
   "metadata": {},
   "outputs": [],
   "source": [
    "%%time\n",
    "\n",
    "landcover_idx = 4\n",
    "# ----------- Langtang ------------\n",
    "\n",
    "climatepath = f'/Users/varyabazilova/Desktop/paper2/202406_modelruns/30years/TL_data/{landcover_idx}landcover/langtang_climate_cut'\n",
    "\n",
    "# get all folders togetehr \n",
    "\n",
    "ls_ = os.listdir(climatepath)\n",
    "ls = [d for d in ls_ if not d.startswith('.')]\n",
    "dir0 = os.getcwd()\n",
    "# print(dir0)\n",
    "# run the model for each\n",
    "for d in ls:\n",
    "    path = os.path.join(climatepath, d)\n",
    "    if path.endswith('.csv'):\n",
    "        continue\n",
    "    # print(path)\n",
    "    os.chdir(path)\n",
    "    run()\n",
    "    os.chdir(dir0)"
   ]
  },
  {
   "cell_type": "code",
   "execution_count": null,
   "id": "ef425557-f9c9-4794-946f-24a704c32720",
   "metadata": {},
   "outputs": [],
   "source": [
    "%%time\n",
    "# ----------- mustang ------------\n",
    "landcover_idx = 4\n",
    "climatepath = f'/Users/varyabazilova/Desktop/paper2/202406_modelruns/30years/TL_data/{landcover_idx}landcover/mustang_climate_cut'\n",
    "\n",
    "# get all folders togetehr \n",
    "\n",
    "ls_ = os.listdir(climatepath)\n",
    "ls = [d for d in ls_ if not d.startswith('.')]\n",
    "dir0 = os.getcwd()\n",
    "# print(dir0)\n",
    "# run the model for each\n",
    "for d in ls:\n",
    "    path = os.path.join(climatepath, d)\n",
    "    if path.endswith('.csv'):\n",
    "        continue\n",
    "    # print(path)\n",
    "    os.chdir(path)\n",
    "    run()\n",
    "    os.chdir(dir0)"
   ]
  },
  {
   "cell_type": "code",
   "execution_count": null,
   "id": "1f56ff98-f508-4f2d-8986-d24a723deabc",
   "metadata": {},
   "outputs": [],
   "source": []
  },
  {
   "cell_type": "code",
   "execution_count": null,
   "id": "1247b1a4-2835-400e-ad51-ede9ff8a34b1",
   "metadata": {},
   "outputs": [],
   "source": []
  }
 ],
 "metadata": {
  "kernelspec": {
   "display_name": "Python [conda env:sedcas] *",
   "language": "python",
   "name": "conda-env-sedcas-py"
  },
  "language_info": {
   "codemirror_mode": {
    "name": "ipython",
    "version": 3
   },
   "file_extension": ".py",
   "mimetype": "text/x-python",
   "name": "python",
   "nbconvert_exporter": "python",
   "pygments_lexer": "ipython3",
   "version": "3.9.7"
  }
 },
 "nbformat": 4,
 "nbformat_minor": 5
}
