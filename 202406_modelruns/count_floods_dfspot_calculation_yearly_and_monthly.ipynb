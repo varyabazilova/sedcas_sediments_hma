{
 "cells": [
  {
   "cell_type": "code",
   "execution_count": null,
   "id": "6843ee3a-e51c-4702-ad3c-cec9d8c7911e",
   "metadata": {},
   "outputs": [],
   "source": [
    "import pandas as pd\n",
    "import seaborn as sns\n",
    "import matplotlib.pyplot as plt\n",
    "import os \n",
    "import functions\n",
    "\n",
    "\n",
    "# the data is stored on the external ssd \n",
    "# the output should go to the local folder \n"
   ]
  },
  {
   "cell_type": "code",
   "execution_count": null,
   "id": "312f4009-61dd-4fed-9562-24bf3c04b7f2",
   "metadata": {},
   "outputs": [],
   "source": [
    "''' to count floods (potential debris flows) use dfspot column \n",
    "    no need to do it for all the scenarious,\n",
    "    just the TL case (meaning 1 per land cover), since its supposed to be the same \n",
    "    save as the \"location_langcover_dfspot\"\n",
    "    then calculate a difference between dfspot and dfs -> that will be the floods \n",
    "'''"
   ]
  },
  {
   "cell_type": "code",
   "execution_count": null,
   "id": "fd60fc67-0045-4f14-abe7-e5b407dbed57",
   "metadata": {},
   "outputs": [],
   "source": [
    "'''\n",
    "    folders to use\n",
    "    - langcover1: \n",
    "    - landcover2\n",
    "    - landcover3\n",
    "    - landcover4\n",
    "'''"
   ]
  },
  {
   "cell_type": "code",
   "execution_count": null,
   "id": "4322a3e8-bb3f-4f6f-9d3f-9dc67eddf4d5",
   "metadata": {},
   "outputs": [],
   "source": []
  },
  {
   "cell_type": "code",
   "execution_count": null,
   "id": "974d407b-6719-47b0-b033-4b9adb61ead1",
   "metadata": {},
   "outputs": [],
   "source": []
  },
  {
   "cell_type": "code",
   "execution_count": null,
   "id": "016e3b26-5569-4fea-a7ed-efcba81ae683",
   "metadata": {},
   "outputs": [],
   "source": []
  },
  {
   "cell_type": "code",
   "execution_count": null,
   "id": "cf0441a3-0353-4250-9f1e-8f6b0374a8f3",
   "metadata": {},
   "outputs": [],
   "source": []
  },
  {
   "cell_type": "markdown",
   "id": "b6de4632-d651-4ba7-8231-400140efb0af",
   "metadata": {},
   "source": [
    "# per year\n",
    "\n"
   ]
  },
  {
   "cell_type": "code",
   "execution_count": null,
   "id": "246056e9-5355-4c1e-aa8c-be7240102443",
   "metadata": {},
   "outputs": [],
   "source": [
    "\n",
    "landcover_idx = 4\n",
    "location = 'mustang'\n",
    "\n",
    "column = 'dfspot'\n",
    "freq = 'year'\n",
    "\n",
    "\n",
    "# --- this can be anything ---\n",
    "\n",
    "# method = 'daily'\n",
    "# percentile = '40percent'\n",
    "landcover = f'landcover{landcover_idx}'\n",
    "\n",
    "\n",
    "# path to data\n",
    "# folder_path = f'/Volumes/Extreme SSD/202409_paper2_modelruns/30years/SL_{method}/{landcover_idx}landcover_{percentile}/{location}_climate_cut'\n",
    "folder_path = f'/Volumes/Extreme SSD/202409_paper2_modelruns/30years/{landcover_idx}landcover/{location}_climate_cut'\n",
    "\n",
    "# output_path = f'/Users/varyabazilova/Desktop/paper2/202406_modelruns/30years/dfspot_count/{location}/'\n",
    "\n",
    "print('folder with data:\\n',folder_path) \n",
    "print('  ')\n",
    "print('output folder:\\n',output_path) \n",
    "print('   ')\n",
    "print('landcover id:', landcover_idx)"
   ]
  },
  {
   "cell_type": "code",
   "execution_count": null,
   "id": "c9ff00a1-8e57-40bf-8690-2df5e37a7c38",
   "metadata": {},
   "outputs": [],
   "source": [
    "%%time\n",
    "\n",
    "elevation = pd.read_csv(f'/Users/varyabazilova/Desktop/paper2/downscaling_simple/coordinates_and_elevation_with_labels_{location}.csv')[['cellnr2','band_data']] \n",
    "\n",
    "result_df = pd.DataFrame()\n",
    "\n",
    "\n",
    "# Iterate over the files in the folders\n",
    "for folder_name in os.listdir(folder_path):\n",
    "    # skip all csvs and . files\n",
    "    if folder_name.endswith('.csv'):\n",
    "        continue\n",
    "    if folder_name.startswith('.'):\n",
    "        continue \n",
    "    \n",
    "    file_path = os.path.join(folder_path, folder_name, 'Sediment.out') #create a path to file \n",
    "    \n",
    "    if os.path.isfile(file_path): #check if its there \n",
    "        # read file \n",
    "        output_df = pd.read_csv(file_path)\n",
    "        # count dfs per given time \n",
    "        output_df = functions.count_dfs_per_time(output_df, column, 'year')\n",
    "        \n",
    "        # take the COUNT column \n",
    "        name_column = output_df['count']\n",
    "        # rename the columns \n",
    "        column_name = f'{column}_{folder_name}'\n",
    "        result_df[column_name] = name_column\n",
    "        result_df.columns = [col[-3:] for col in result_df.columns]\n",
    "\n",
    "\n",
    "annaul_df_count = functions.add_elevation_to_df_count(result_df, elevation, freq)\n",
    "\n",
    "\n",
    "annaul_df_count.to_csv(output_path + f'{location}_annual_{column}_count_{landcover}.csv')\n"
   ]
  },
  {
   "cell_type": "code",
   "execution_count": null,
   "id": "77f4aa37-1f2b-4476-a8d2-41f69ec2ccca",
   "metadata": {},
   "outputs": [],
   "source": []
  },
  {
   "cell_type": "code",
   "execution_count": null,
   "id": "336281c5-734e-443d-8485-afda4b61230f",
   "metadata": {},
   "outputs": [],
   "source": []
  },
  {
   "cell_type": "code",
   "execution_count": null,
   "id": "621ba51e-d898-45cd-9af5-910653fc311c",
   "metadata": {},
   "outputs": [],
   "source": []
  },
  {
   "cell_type": "code",
   "execution_count": null,
   "id": "36b18e5e-fb34-4c6e-9ed9-64c3c7617c3d",
   "metadata": {},
   "outputs": [],
   "source": []
  },
  {
   "cell_type": "code",
   "execution_count": null,
   "id": "d9fa6e58-ef98-4e14-bfa2-9749781e64b7",
   "metadata": {},
   "outputs": [],
   "source": []
  },
  {
   "cell_type": "code",
   "execution_count": null,
   "id": "c122a515-3086-4d3c-b3b2-574fe7d29ce7",
   "metadata": {},
   "outputs": [],
   "source": []
  },
  {
   "cell_type": "code",
   "execution_count": null,
   "id": "11f2f228-9a05-4e7a-94a3-491167fb5bfe",
   "metadata": {},
   "outputs": [],
   "source": []
  },
  {
   "cell_type": "code",
   "execution_count": null,
   "id": "d6dbb35d-dc3c-4e0b-bee3-a1f94a69451a",
   "metadata": {},
   "outputs": [],
   "source": []
  },
  {
   "cell_type": "code",
   "execution_count": null,
   "id": "fcc29d5d-f3f5-4d23-9934-6b14604b0c53",
   "metadata": {},
   "outputs": [],
   "source": []
  },
  {
   "cell_type": "code",
   "execution_count": null,
   "id": "5fc38799-2b5a-491f-a517-184771ffc598",
   "metadata": {},
   "outputs": [],
   "source": []
  },
  {
   "cell_type": "code",
   "execution_count": null,
   "id": "e60df880-9454-4ac8-97c5-63367f0067e7",
   "metadata": {},
   "outputs": [],
   "source": []
  },
  {
   "cell_type": "markdown",
   "id": "0598e8d7-9a15-4df4-98d6-0fb95725d2af",
   "metadata": {},
   "source": [
    "# per month "
   ]
  },
  {
   "cell_type": "code",
   "execution_count": null,
   "id": "e180301f-d4e7-4b41-9c40-0943c093df46",
   "metadata": {},
   "outputs": [],
   "source": [
    "\n",
    "landcover_idx = 2\n",
    "location = 'mustang'\n",
    "\n",
    "column = 'dfspot'\n",
    "freq = 'month'\n",
    "\n",
    "\n",
    "# --- this can be anything ---\n",
    "\n",
    "method = 'daily'\n",
    "percentile = '20percent'\n",
    "landcover = f'landcover{landcover_idx}'\n",
    "\n",
    "\n",
    "\n",
    "# path to data on the external ssd \n",
    "# folder_path = f'/Volumes/Extreme SSD/202409_paper2_modelruns/30years/SL_{method}/{landcover_idx}landcover_{percentile}/{location}_climate_cut'\n",
    "# output_folder = f'/Users/varyabazilova/Desktop/paper2/202406_modelruns/30years/SL_{method}/output_{percentile}/'\n",
    "\n",
    "folder_path = f'/Volumes/Extreme SSD/202409_paper2_modelruns/30years/{landcover_idx}landcover/{location}_climate_cut'\n",
    "output_folder = f'/Users/varyabazilova/Desktop/paper2/202406_modelruns/30years/dfspot_count/{location}/'\n",
    "\n",
    "\n",
    "\n",
    "print('folder with data:\\n',folder_path) \n",
    "print('  ')\n",
    "print('output folder:\\n',output_folder) \n",
    "print('  ')\n",
    "print('landcover id:', landcover_idx)\n",
    "\n",
    "elevation = pd.read_csv(f'/Users/varyabazilova/Desktop/paper2/downscaling_simple/coordinates_and_elevation_with_labels_{location}.csv')[['cellnr2','band_data']] \n"
   ]
  },
  {
   "cell_type": "code",
   "execution_count": null,
   "id": "1352b459-b67d-4e92-b40a-d47aec10a767",
   "metadata": {},
   "outputs": [],
   "source": [
    "%%time\n",
    "\n",
    "\n",
    "\n",
    "result_df = pd.DataFrame()\n",
    "\n",
    "\n",
    "# Iterate over the files in the folders\n",
    "for folder_name in os.listdir(folder_path):\n",
    "    # skip all csvs and . files\n",
    "    if folder_name.endswith('.csv'):\n",
    "        continue\n",
    "    if folder_name.startswith('.'):\n",
    "        continue \n",
    "    \n",
    "    file_path = os.path.join(folder_path, folder_name, 'Sediment.out') #create a path to file \n",
    "    \n",
    "    if os.path.isfile(file_path): #check if its there \n",
    "        # read file \n",
    "        output_df = pd.read_csv(file_path)\n",
    "        # count dfs per given time \n",
    "        output_df = functions.count_dfs_per_time(output_df, column, freq)\n",
    "        \n",
    "        # take the COUNT column \n",
    "        name_column = output_df['count']\n",
    "        # rename the columns \n",
    "        column_name = f'{column}_{folder_name}'\n",
    "        result_df[column_name] = name_column\n",
    "        result_df.columns = [col[-3:] for col in result_df.columns]\n",
    "\n",
    "\n",
    "df_count = functions.add_elevation_to_df_count(result_df, elevation, freq)\n",
    "\n",
    "\n",
    "\n",
    "\n",
    "df_count.to_csv(output_folder + f'{location}_monthly_{column}_count_{percentile}_{landcover}.csv')\n",
    "\n"
   ]
  },
  {
   "cell_type": "code",
   "execution_count": null,
   "id": "1e60018f-7e16-4ca7-bea2-066fb4e16a8d",
   "metadata": {},
   "outputs": [],
   "source": [
    "# df_count"
   ]
  },
  {
   "cell_type": "code",
   "execution_count": null,
   "id": "ad454207-6f78-46a4-bfc5-cd4bf5e86a32",
   "metadata": {},
   "outputs": [],
   "source": []
  },
  {
   "cell_type": "code",
   "execution_count": null,
   "id": "b266720d-8f19-4f4b-9e82-661be8e1e1d6",
   "metadata": {},
   "outputs": [],
   "source": []
  },
  {
   "cell_type": "markdown",
   "id": "b39471fe-9262-4996-9f85-6d85a3ba4c6a",
   "metadata": {},
   "source": [
    "# ------  another attempt for monthly count"
   ]
  },
  {
   "cell_type": "code",
   "execution_count": 66,
   "id": "12883e54-297c-473a-9b4d-e3d455ee7584",
   "metadata": {},
   "outputs": [],
   "source": [
    "import pandas as pd\n",
    "import seaborn as sns\n",
    "import matplotlib.pyplot as plt\n",
    "import os \n",
    "import functions\n",
    "\n",
    "\n",
    "\n",
    "def count_dfs_per_time(sediments, column):\n",
    "    '''\n",
    "    sediments - sediment output file\n",
    "    column - column of interest (e.g. dfs)\n",
    "    '''\n",
    "\n",
    "    sediments['D'] = pd.to_datetime(sediments.D)\n",
    "    sediments['year'] = sediments['D'].dt.year\n",
    "    sediments['month'] = sediments['D'].dt.month\n",
    "    sediments = sediments.set_index('D')\n",
    "    sediments['count'] = sediments[column].apply(lambda x: 1 if x != 0 else 0)\n",
    "    sym = sediments.groupby(['year', 'month']).sum()\n",
    "    return sym\n",
    "\n",
    "\n",
    "\n",
    "def add_elevation_to_dfs_count_monthly(df_count, elevation):\n",
    "    elevation = elevation.T\n",
    "    elevation_list = elevation.loc['cellnr2'].tolist()\n",
    "    \n",
    "    df_count =df_count[elevation_list]\n",
    "    \n",
    "    if elevation_list == df_count.columns.tolist():\n",
    "        print(\"default land cover. monthly data: same\")\n",
    "    else:\n",
    "        print(\"not the same\")\n",
    "    \n",
    "    df_count.columns = elevation.loc['band_data']\n",
    "    df_count = df_count.reset_index()\n",
    "    df_count['date_id'] = df_count['year'].astype(str) + \"_\" + df_count['month'].astype(str)\n",
    "\n",
    "    return df_count"
   ]
  },
  {
   "cell_type": "code",
   "execution_count": 114,
   "id": "76c277a2-d621-4ccc-a963-71296cba581e",
   "metadata": {},
   "outputs": [
    {
     "name": "stdout",
     "output_type": "stream",
     "text": [
      "folder with data:\n",
      " /Volumes/Extreme SSD/202409_paper2_modelruns/30years/SL_daily/4landcover_40percent/langtang_climate_cut\n",
      "  \n",
      "output folder:\n",
      " /Users/varyabazilova/Desktop/paper2/202406_modelruns/30years/SL_once/output_40percent/\n",
      "  \n",
      "landcover id: 4\n"
     ]
    }
   ],
   "source": [
    "\n",
    "landcover_idx = 4\n",
    "location = 'langtang'\n",
    "\n",
    "method = 'once' \n",
    "percentile = '40percent'\n",
    "\n",
    "\n",
    "column = 'dfs'\n",
    "freq = 'month'\n",
    "\n",
    "\n",
    "\n",
    "\n",
    "\n",
    "landcover = f'landcover{landcover_idx}'\n",
    "\n",
    "# folder_path = f'/Volumes/Extreme SSD/202409_paper2_modelruns/30years/{landcover_idx}landcover/{location}_climate_cut'\n",
    "folder_path = f'/Volumes/Extreme SSD/202409_paper2_modelruns/30years/SL_daily/{landcover_idx}landcover_{percentile}/{location}_climate_cut'\n",
    "output_folder = f'/Users/varyabazilova/Desktop/paper2/202406_modelruns/30years/SL_{method}/output_{percentile}/'\n",
    "\n",
    "\n",
    "\n",
    "# folder_path = f'/Volumes/Extreme SSD/202409_paper2_modelruns/30years/{landcover_idx}landcover/{location}_climate_cut'\n",
    "# output_folder = f'/Users/varyabazilova/Desktop/paper2/202406_modelruns/30years/dfspot_count/{location}2/'\n",
    "\n",
    "\n",
    "\n",
    "print('folder with data:\\n', folder_path) \n",
    "print('  ')\n",
    "print('output folder:\\n', output_folder) \n",
    "print('  ')\n",
    "print('landcover id:', landcover_idx)\n",
    "\n",
    "elevation = pd.read_csv(f'/Users/varyabazilova/Desktop/paper2/downscaling_simple/coordinates_and_elevation_with_labels_{location}.csv')[['cellnr2','band_data']] \n"
   ]
  },
  {
   "cell_type": "code",
   "execution_count": 115,
   "id": "fa9180d0-a4cf-4b8d-a29d-69bc51669624",
   "metadata": {},
   "outputs": [
    {
     "name": "stdout",
     "output_type": "stream",
     "text": [
      "landcover id: 4\n",
      "default land cover. monthly data: same\n",
      "CPU times: user 20 s, sys: 638 ms, total: 20.7 s\n",
      "Wall time: 21 s\n"
     ]
    }
   ],
   "source": [
    "%%time\n",
    "\n",
    "print('landcover id:', landcover_idx)\n",
    "\n",
    "\n",
    "result_df = pd.DataFrame()\n",
    "\n",
    "\n",
    "# Iterate over the files in the folders\n",
    "for folder_name in os.listdir(folder_path):\n",
    "    # skip all csvs and . files\n",
    "    if folder_name.endswith('.csv'):\n",
    "        continue\n",
    "    if folder_name.startswith('.'):\n",
    "        continue \n",
    "    \n",
    "    file_path = os.path.join(folder_path, folder_name, 'Sediment.out') #create a path to file \n",
    "    \n",
    "    if os.path.isfile(file_path): #check if its there \n",
    "        # read file \n",
    "        output_df = pd.read_csv(file_path)\n",
    "        # count dfs per given time \n",
    "        # output_df = functions.count_dfs_per_time(output_df, column, freq)\n",
    "        output_df = count_dfs_per_time(output_df, column)\n",
    "        \n",
    "        # take the COUNT column \n",
    "        name_column = output_df['count']\n",
    "        # rename the columns \n",
    "        column_name = f'{column}_{folder_name}'\n",
    "        result_df[column_name] = name_column\n",
    "        result_df.columns = [col[-3:] for col in result_df.columns]\n",
    "\n",
    "\n",
    "df_count = add_elevation_to_dfs_count_monthly(result_df, elevation)\n",
    "\n",
    "# df_count.to_csv(output_folder + f'{location}_monthly_{column}_count_{landcover}.csv')\n",
    "\n",
    "df_count.to_csv(output_folder + f'{location}_monthly_{column}_count_{percentile}_{landcover}.csv')\n"
   ]
  },
  {
   "cell_type": "code",
   "execution_count": null,
   "id": "d42a36ba-fee5-40f3-b24d-e7de22149e9c",
   "metadata": {},
   "outputs": [],
   "source": []
  },
  {
   "cell_type": "code",
   "execution_count": null,
   "id": "01a766f1-50d0-4d2b-910f-31b51b061b68",
   "metadata": {},
   "outputs": [],
   "source": []
  },
  {
   "cell_type": "code",
   "execution_count": null,
   "id": "867cf9bf-cad9-4e99-ac6d-9e08df8104ce",
   "metadata": {},
   "outputs": [],
   "source": []
  },
  {
   "cell_type": "code",
   "execution_count": null,
   "id": "ba393c2b-d961-42ae-a019-dea8356da999",
   "metadata": {},
   "outputs": [],
   "source": []
  },
  {
   "cell_type": "code",
   "execution_count": null,
   "id": "51d5a298-db93-434a-b88a-046a14a16e5f",
   "metadata": {},
   "outputs": [],
   "source": []
  },
  {
   "cell_type": "code",
   "execution_count": null,
   "id": "b7d9df94-86ed-4a85-a206-58de628a6042",
   "metadata": {},
   "outputs": [],
   "source": []
  },
  {
   "cell_type": "code",
   "execution_count": null,
   "id": "dcdd2b87-e0ef-4bab-9090-5362a39cdbc0",
   "metadata": {},
   "outputs": [],
   "source": []
  },
  {
   "cell_type": "code",
   "execution_count": null,
   "id": "68221178-a815-4260-a605-f52a7301e678",
   "metadata": {},
   "outputs": [],
   "source": []
  },
  {
   "cell_type": "code",
   "execution_count": null,
   "id": "e0d474c7-b4a8-4762-bc43-80b761d64634",
   "metadata": {},
   "outputs": [],
   "source": []
  },
  {
   "cell_type": "code",
   "execution_count": null,
   "id": "a9669cd3-4efc-4ece-9438-2aa536cdccfb",
   "metadata": {},
   "outputs": [],
   "source": []
  },
  {
   "cell_type": "code",
   "execution_count": null,
   "id": "918fc22b-5f6f-4084-9998-146df4b55a61",
   "metadata": {},
   "outputs": [],
   "source": [
    "def add_elevation_to_dfs_count_monthly(df_count, elevation):\n",
    "    elevation = elevation.T\n",
    "    elevation_list = elevation.loc['cellnr2'].tolist()\n",
    "    \n",
    "    df_count =df_count[elevation_list]\n",
    "    \n",
    "    if elevation_list == df_count.columns.tolist():\n",
    "        print(\"default land cover. monthly data: same\")\n",
    "    else:\n",
    "        print(\"not the same\")\n",
    "    \n",
    "    df_count.columns = elevation.loc['band_data']\n",
    "    df_count = df_count.reset_index()\n",
    "    df_count['date_id'] = df_count['year'].astype(str) + \"_\" + df_count['month'].astype(str)\n",
    "\n",
    "    return df_count"
   ]
  },
  {
   "cell_type": "code",
   "execution_count": null,
   "id": "da81afe2-4ff3-471c-acaf-0cbef6a2194d",
   "metadata": {},
   "outputs": [],
   "source": [
    "test = add_elevation_to_dfs_count_monthly(result_df, elevation)"
   ]
  },
  {
   "cell_type": "code",
   "execution_count": null,
   "id": "ebb32f29-e5e9-4040-ae75-a03201c21f32",
   "metadata": {},
   "outputs": [],
   "source": [
    "test"
   ]
  },
  {
   "cell_type": "code",
   "execution_count": null,
   "id": "fe387835-4c4d-427e-82f2-24a6f05d7d1d",
   "metadata": {},
   "outputs": [],
   "source": [
    "elv = elevation.T\n",
    "elevation_list = elv.loc['cellnr2'].tolist()"
   ]
  },
  {
   "cell_type": "code",
   "execution_count": null,
   "id": "a3e9c6c4-9b68-4e7c-b0e8-0cc6935ad10e",
   "metadata": {},
   "outputs": [],
   "source": [
    "result_df =result_df[elevation_list]"
   ]
  },
  {
   "cell_type": "code",
   "execution_count": null,
   "id": "0ec86dbb-95b6-4836-b3ab-bfbfa6b73440",
   "metadata": {},
   "outputs": [],
   "source": [
    "elevation_list == result_df.columns.tolist()"
   ]
  },
  {
   "cell_type": "code",
   "execution_count": null,
   "id": "5f56a872-44c7-476f-aaca-21f2a4cef8ea",
   "metadata": {},
   "outputs": [],
   "source": []
  },
  {
   "cell_type": "code",
   "execution_count": null,
   "id": "029405e8-34df-49df-ac75-51dddbe62680",
   "metadata": {},
   "outputs": [],
   "source": []
  },
  {
   "cell_type": "code",
   "execution_count": null,
   "id": "de082f74-43b0-4b87-a126-c5bccd399e05",
   "metadata": {},
   "outputs": [],
   "source": []
  },
  {
   "cell_type": "code",
   "execution_count": null,
   "id": "33f64e11-6ddf-4d4b-afec-ba1326ad45a8",
   "metadata": {},
   "outputs": [],
   "source": []
  },
  {
   "cell_type": "code",
   "execution_count": null,
   "id": "2dce825e-da18-46d5-8f74-11995fcee2b6",
   "metadata": {},
   "outputs": [],
   "source": [
    "result_df1"
   ]
  },
  {
   "cell_type": "code",
   "execution_count": null,
   "id": "e5a33850-c8f9-4517-91a7-fce8dfccf4af",
   "metadata": {},
   "outputs": [],
   "source": [
    "    \n",
    "    # reorder columns of the df count \n",
    "    df_count = df_count[elevation_list]\n",
    "    # check if they are the same\n",
    "    if elevation_list == df_count.columns.tolist():\n",
    "        print(\"default land cover. monthly data: same\")\n",
    "    else:\n",
    "        print(\"not the same\")\n",
    "    # rename columns \n",
    "    df_count.columns = elevation.loc['band_data']"
   ]
  },
  {
   "cell_type": "code",
   "execution_count": null,
   "id": "79865a0e-a04f-4aed-b1ac-fac0fabd8ff1",
   "metadata": {},
   "outputs": [],
   "source": [
    "def add_elevation_to_df_count(df_count, elevation):\n",
    "    '''\n",
    "    df_count - df with count of dfs per given time\n",
    "    elevation - df with elevation values per cell id \n",
    "    '''\n",
    "    elevation = elevation.transpose()\n",
    "    elevation_list = elevation.loc['cellnr2'].tolist()\n",
    "    \n",
    "    # reorder columns of the df count \n",
    "    df_count = df_count[elevation_list]\n",
    "    # check if they are the same\n",
    "    if elevation_list == df_count.columns.tolist():\n",
    "        print(\"default land cover. monthly data: same\")\n",
    "    else:\n",
    "        print(\"not the same\")\n",
    "    # rename columns \n",
    "    df_count.columns = elevation.loc['band_data']\n",
    "    # df_count = df_count.reset_index()\n",
    "\n",
    "    # if freq == 'year':\n",
    "    #     df_count['D'] = df_count.D.dt.year\n",
    "    # if freq == 'month':\n",
    "    #     df_count['D_year'] = df_count.D.dt.year\n",
    "    #     df_count['D_month'] = df_count.D.dt.month\n",
    "    \n",
    "    return df_count"
   ]
  },
  {
   "cell_type": "code",
   "execution_count": null,
   "id": "811b1fea-8f07-4257-a168-e554b1f432bd",
   "metadata": {},
   "outputs": [],
   "source": [
    "\n",
    "df_count['D_year'] = df_count.D.dt.year"
   ]
  },
  {
   "cell_type": "code",
   "execution_count": null,
   "id": "d2d2fcbd-484c-4581-8be2-d90141257aae",
   "metadata": {},
   "outputs": [],
   "source": [
    "are_values_equal = (df_count.values == df_count2.values).all()\n",
    "\n",
    "\n",
    "\n",
    "\n",
    "\n"
   ]
  },
  {
   "cell_type": "code",
   "execution_count": null,
   "id": "f33dd8b3-7661-4bfb-94b5-af31806ec6e9",
   "metadata": {},
   "outputs": [],
   "source": [
    "# test with 1 file \n",
    "test = pd.read_csv('/Volumes/Extreme SSD/202409_paper2_modelruns/30years/SL_daily/1landcover_20percent/langtang_climate_cut/12a/Sediment.out')"
   ]
  },
  {
   "cell_type": "code",
   "execution_count": null,
   "id": "06913a3f-00e2-4207-9e63-b0b17b21ba25",
   "metadata": {},
   "outputs": [],
   "source": [
    "test"
   ]
  },
  {
   "cell_type": "code",
   "execution_count": null,
   "id": "d3ec75de-2f43-4336-86d6-4ce0caafb2ed",
   "metadata": {},
   "outputs": [],
   "source": [
    "\n",
    "\n"
   ]
  },
  {
   "cell_type": "code",
   "execution_count": null,
   "id": "f4893772-fcdb-4061-887f-ecba08727f23",
   "metadata": {},
   "outputs": [],
   "source": [
    "test1 = count_dfs_per_time(test, 'dfspot')"
   ]
  },
  {
   "cell_type": "code",
   "execution_count": null,
   "id": "cea1ed37-1391-4a11-8999-15f7d01a9569",
   "metadata": {},
   "outputs": [],
   "source": [
    "\n",
    "\n",
    "name_column = output_df['count']\n",
    "# rename the columns \n",
    "column_name = f'{column}_{folder_name}'\n",
    "result_df[column_name] = name_column\n",
    "result_df.columns = [col[-3:] for col in result_df.columns]\n",
    "\n",
    "\n",
    "df_count = functions.add_elevation_to_df_count(result_df, elevation, freq)\n"
   ]
  },
  {
   "cell_type": "code",
   "execution_count": null,
   "id": "1399d2df-fbb3-4d28-8905-5f79cc9d6094",
   "metadata": {},
   "outputs": [],
   "source": []
  }
 ],
 "metadata": {
  "kernelspec": {
   "display_name": "Python 3 (ipykernel)",
   "language": "python",
   "name": "python3"
  },
  "language_info": {
   "codemirror_mode": {
    "name": "ipython",
    "version": 3
   },
   "file_extension": ".py",
   "mimetype": "text/x-python",
   "name": "python",
   "nbconvert_exporter": "python",
   "pygments_lexer": "ipython3",
   "version": "3.9.7"
  }
 },
 "nbformat": 4,
 "nbformat_minor": 5
}
