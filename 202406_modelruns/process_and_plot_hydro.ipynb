{
 "cells": [
  {
   "cell_type": "code",
   "execution_count": 1,
   "id": "f7c97203-339e-4ed1-af44-f7f25077ff17",
   "metadata": {},
   "outputs": [],
   "source": [
    "# plan\n",
    "\n",
    "# - caclulate monthly Q for different land covers \n",
    "# - calculate how on average change in lang cover affect the change in runoff -> transport capacity -> TL case \n",
    "\n",
    "# "
   ]
  },
  {
   "cell_type": "code",
   "execution_count": null,
   "id": "deeb11dc-35d7-40c2-be77-03878577e835",
   "metadata": {},
   "outputs": [],
   "source": []
  }
 ],
 "metadata": {
  "kernelspec": {
   "display_name": "Python [conda env:sedcas] *",
   "language": "python",
   "name": "conda-env-sedcas-py"
  },
  "language_info": {
   "codemirror_mode": {
    "name": "ipython",
    "version": 3
   },
   "file_extension": ".py",
   "mimetype": "text/x-python",
   "name": "python",
   "nbconvert_exporter": "python",
   "pygments_lexer": "ipython3",
   "version": "3.9.7"
  }
 },
 "nbformat": 4,
 "nbformat_minor": 5
}
