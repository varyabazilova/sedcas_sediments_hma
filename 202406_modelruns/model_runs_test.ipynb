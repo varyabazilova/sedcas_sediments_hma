{
 "cells": [
  {
   "cell_type": "code",
   "execution_count": 1,
   "id": "ea8d8659-b557-4eed-b725-1791543edfc1",
   "metadata": {},
   "outputs": [],
   "source": [
    "import os\n",
    "import pandas as pd\n",
    "import matplotlib.pyplot as plt\n",
    "\n",
    "# modelling part\n",
    "from run import run\n",
    "\n"
   ]
  },
  {
   "cell_type": "markdown",
   "id": "51cc61fa-56ed-4201-9d1e-ebc40bdb76ab",
   "metadata": {},
   "source": [
    "# SL land cover situation 1 "
   ]
  },
  {
   "cell_type": "code",
   "execution_count": 2,
   "id": "906f4fed-da12-4738-bbf5-17a79f2a1bf8",
   "metadata": {},
   "outputs": [
    {
     "name": "stdout",
     "output_type": "stream",
     "text": [
      "running sediment module...\n"
     ]
    },
    {
     "name": "stderr",
     "output_type": "stream",
     "text": [
      "100%|█████████████████████████████████████████████| 1/1 [00:00<00:00,  1.55it/s]\n"
     ]
    },
    {
     "name": "stdout",
     "output_type": "stream",
     "text": [
      "saving output...\n",
      "running sediment module...\n"
     ]
    },
    {
     "name": "stderr",
     "output_type": "stream",
     "text": [
      "100%|█████████████████████████████████████████████| 1/1 [00:00<00:00,  1.55it/s]\n"
     ]
    },
    {
     "name": "stdout",
     "output_type": "stream",
     "text": [
      "saving output...\n",
      "CPU times: user 27.3 s, sys: 354 ms, total: 27.6 s\n",
      "Wall time: 28 s\n"
     ]
    }
   ],
   "source": [
    "%%time\n",
    "\n",
    "# ----------- LANGTANG ------------\n",
    "\n",
    "climatepath = '/Users/varyabazilova/Desktop/paper2/202406_modelruns/30years/test/langtang_climate_cut'\n",
    "\n",
    "# get all folders togetehr \n",
    "\n",
    "ls_ = os.listdir(climatepath)\n",
    "ls = [d for d in ls_ if not d.startswith('.')]\n",
    "dir0 = os.getcwd()\n",
    "# print(dir0)\n",
    "# run the model for each\n",
    "for d in ls:\n",
    "    path = os.path.join(climatepath, d)\n",
    "    if path.endswith('.csv'):\n",
    "        continue\n",
    "    if path.startswith('.'):\n",
    "        continue\n",
    "    # print(path)\n",
    "    os.chdir(path)\n",
    "    run()\n",
    "    os.chdir(dir0)\n"
   ]
  },
  {
   "cell_type": "code",
   "execution_count": 3,
   "id": "2edb3e7f-be75-41b9-8a11-c6c908d60102",
   "metadata": {},
   "outputs": [],
   "source": [
    "# read data \n",
    "pathout = '/Users/varyabazilova/Desktop/paper2/202406_modelruns/30years/test/langtang_climate_cut/12a/Sediment.out'\n",
    "sedout  = pd.read_csv(pathout)"
   ]
  },
  {
   "cell_type": "code",
   "execution_count": 6,
   "id": "f4dd4a5c-0f50-4bfa-938b-004546b2377d",
   "metadata": {},
   "outputs": [
    {
     "data": {
      "text/plain": [
       "114"
      ]
     },
     "execution_count": 6,
     "metadata": {},
     "output_type": "execute_result"
    }
   ],
   "source": [
    "len(sedout[sedout.dfs>0])\n"
   ]
  },
  {
   "cell_type": "code",
   "execution_count": 7,
   "id": "f384c940-fa39-42d3-97f2-1799af9b1d7e",
   "metadata": {},
   "outputs": [
    {
     "data": {
      "text/plain": [
       "115"
      ]
     },
     "execution_count": 7,
     "metadata": {},
     "output_type": "execute_result"
    }
   ],
   "source": [
    "len(sedout[sedout.dfspot>0])\n"
   ]
  },
  {
   "cell_type": "code",
   "execution_count": 15,
   "id": "032cae56-473a-4666-842b-21986eea3892",
   "metadata": {},
   "outputs": [
    {
     "data": {
      "text/plain": [
       "<matplotlib.legend.Legend at 0x7fe9296f9e80>"
      ]
     },
     "execution_count": 15,
     "metadata": {},
     "output_type": "execute_result"
    },
    {
     "data": {
      "image/png": "[encoded data removed]",
      "text/plain": [
       "<Figure size 1440x720 with 1 Axes>"
      ]
     },
     "metadata": {
      "needs_background": "light"
     },
     "output_type": "display_data"
    }
   ],
   "source": [
    "plt.figure(figsize = (20, 10))\n",
    "# sedout.dfspot.plot(label = 'dfspot')\n",
    "# sedout.dfs.plot(label = 'dfs')\n",
    "sedout.sc.plot(label = 'sc')\n",
    "sedout.ls.plot(label = 'ls')\n",
    "\n",
    "plt.legend()"
   ]
  },
  {
   "cell_type": "code",
   "execution_count": 16,
   "id": "72f5445c-7034-426c-bc25-6ddd8610880a",
   "metadata": {},
   "outputs": [
    {
     "data": {
      "text/plain": [
       "53.779397849113934"
      ]
     },
     "execution_count": 16,
     "metadata": {},
     "output_type": "execute_result"
    }
   ],
   "source": [
    "sedout.dfs.sum()/33\n"
   ]
  },
  {
   "cell_type": "code",
   "execution_count": 13,
   "id": "7b6f4129-93a6-44bc-a6f7-13db5afec94c",
   "metadata": {},
   "outputs": [
    {
     "data": {
      "text/plain": [
       "33"
      ]
     },
     "execution_count": 13,
     "metadata": {},
     "output_type": "execute_result"
    }
   ],
   "source": [
    "len(sedout[sedout.ls>0])\n"
   ]
  },
  {
   "cell_type": "code",
   "execution_count": null,
   "id": "40f9b891-9630-48ba-b4d0-1ee896652fdb",
   "metadata": {},
   "outputs": [],
   "source": []
  },
  {
   "cell_type": "code",
   "execution_count": null,
   "id": "0bd893ff-3e1e-40f7-9f3e-545db935321b",
   "metadata": {},
   "outputs": [],
   "source": []
  },
  {
   "cell_type": "code",
   "execution_count": null,
   "id": "cc783ba8-6e82-4bd8-9cfd-c15112423016",
   "metadata": {},
   "outputs": [],
   "source": []
  },
  {
   "cell_type": "code",
   "execution_count": null,
   "id": "5e0a5fb7-0ed7-4180-9829-73ec0c185a67",
   "metadata": {},
   "outputs": [],
   "source": [
    "plt.figure(figsize = (20, 10))\n",
    "# sedout.sopot.plot(label = 'sopot')\n",
    "\n",
    "# sedout.Qstl.plot(label = 'Qstl')\n",
    "sedout.so.plot(label = 'so')\n",
    "sedout.conc.plot(label = 'conc')\n",
    "\n",
    "# sedout.Qdftl.plot(label = 'Qdftl')\n",
    "\n",
    "plt.legend()"
   ]
  },
  {
   "cell_type": "code",
   "execution_count": null,
   "id": "d9d39acb-77ea-4c47-91ee-f8ac029103b1",
   "metadata": {},
   "outputs": [],
   "source": [
    "# count flood hours\n",
    "len(sedout[sedout.so>0])\n",
    " \n",
    "# # count df hours\n",
    "# sedout.so(sedout.sopot>0).count()"
   ]
  },
  {
   "cell_type": "code",
   "execution_count": null,
   "id": "7880d07a-74f0-4eea-8b3c-be6e65e8f0a9",
   "metadata": {},
   "outputs": [],
   "source": [
    "# count df hours - this is TL case \n",
    "len(sedout[sedout.sopot>0])"
   ]
  },
  {
   "cell_type": "code",
   "execution_count": null,
   "id": "f78aff1c-0afd-4129-ac7c-77389fd09072",
   "metadata": {},
   "outputs": [],
   "source": [
    "len(sedout[sedout.conc==0])\n"
   ]
  },
  {
   "cell_type": "code",
   "execution_count": null,
   "id": "6ca20ff4-04cb-4887-abe3-92768a607210",
   "metadata": {},
   "outputs": [],
   "source": []
  }
 ],
 "metadata": {
  "kernelspec": {
   "display_name": "Python [conda env:sedcas] *",
   "language": "python",
   "name": "conda-env-sedcas-py"
  },
  "language_info": {
   "codemirror_mode": {
    "name": "ipython",
    "version": 3
   },
   "file_extension": ".py",
   "mimetype": "text/x-python",
   "name": "python",
   "nbconvert_exporter": "python",
   "pygments_lexer": "ipython3",
   "version": "3.9.7"
  }
 },
 "nbformat": 4,
 "nbformat_minor": 5
}
