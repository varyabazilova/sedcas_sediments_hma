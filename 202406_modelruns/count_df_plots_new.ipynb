{
 "cells": [
  {
   "cell_type": "code",
   "execution_count": 1,
   "id": "e6022beb-b1c1-4d4d-a5c0-3c5e87d5b5f8",
   "metadata": {},
   "outputs": [],
   "source": [
    "import pandas as pd\n",
    "import seaborn as sns\n",
    "import matplotlib.pyplot as plt\n",
    "\n",
    "import functions\n",
    "\n",
    "import glob\n",
    "import re\n",
    "\n",
    "\n"
   ]
  },
  {
   "cell_type": "code",
   "execution_count": 3,
   "id": "b76fe31c-2266-426c-bd08-97f41e043b2f",
   "metadata": {},
   "outputs": [],
   "source": [
    "\n",
    "start_date = \"1990-07-31\"\n",
    "end_date = \"2021-06-30\"\n",
    "\n",
    "\n",
    "def filter_by_date(df, start_date = start_date, end_date = end_date, date_column='D'):\n",
    "    \"\"\"\n",
    "    Filters a DataFrame to include only rows where the date_column is within the given range.\n",
    "\n",
    "    Parameters:\n",
    "        df (pd.DataFrame): The input DataFrame.\n",
    "        start_date (str or pd.Timestamp): The start date (inclusive).\n",
    "        end_date (str or pd.Timestamp): The end date (inclusive).\n",
    "        date_column (str): The column containing date values (default is 'D').\n",
    "\n",
    "    Returns:\n",
    "        pd.DataFrame: The filtered DataFrame.\n",
    "    \"\"\"\n",
    "    df[date_column] = pd.to_datetime(df[date_column])  # Convert to datetime\n",
    "    return df[(df[date_column] >= start_date) & (df[date_column] <= end_date)]"
   ]
  },
  {
   "cell_type": "code",
   "execution_count": 4,
   "id": "606f6ded-c709-4099-8a63-6c9d5eb10086",
   "metadata": {},
   "outputs": [],
   "source": [
    "path = '/Users/varyabazilova/Desktop/paper2/202406_modelruns/30years/2025Jan_output/TL/'\n",
    "dfspot1_df = pd.read_csv(path + 'langtang_monthly_dfspot_count_landcover1.csv', index_col = 0).fillna(0)\n",
    "dfspot2_df = pd.read_csv(path + 'langtang_monthly_dfspot_count_landcover2.csv', index_col = 0).fillna(0)\n",
    "dfspot3_df = pd.read_csv(path + 'langtang_monthly_dfspot_count_landcover3.csv', index_col = 0).fillna(0)\n",
    "dfspot4_df = pd.read_csv(path + 'langtang_monthly_dfspot_count_landcover4.csv', index_col = 0).fillna(0)\n",
    "dfspot5_df = pd.read_csv(path + 'langtang_monthly_dfspot_count_landcover5.csv', index_col = 0).fillna(0)\n",
    "\n",
    "\n",
    "\n",
    "dfspot1_df = filter_by_date(dfspot1_df)\n",
    "dfspot2_df = filter_by_date(dfspot2_df)\n",
    "dfspot3_df = filter_by_date(dfspot3_df)\n",
    "dfspot4_df = filter_by_date(dfspot4_df)\n",
    "dfspot5_df = filter_by_date(dfspot5_df)\n"
   ]
  },
  {
   "cell_type": "code",
   "execution_count": 78,
   "id": "ae1c56fb-5365-4c3f-b06e-fee6f8d7c652",
   "metadata": {},
   "outputs": [],
   "source": [
    "# Define a function to categorize seasons\n",
    "def get_season(month):\n",
    "    if month in [12, 1, 2]:\n",
    "        return 'DJF'  # December, January, February (Winter)\n",
    "    elif month in [3, 4, 5]:\n",
    "        return 'MAM'  # March, April, May (Spring)\n",
    "    elif month in [6, 7, 8]:\n",
    "        return 'JJA'  # June, July, August (Summer)\n",
    "    else:\n",
    "        return 'SON'  # September, October, November (Autumn)\n",
    "\n",
    "\n",
    "\n",
    "# Define a function to categorize seasons\n",
    "def get_monsoon(month):\n",
    "    if month in [1, 2, 3, 4]:\n",
    "        return 'before monsoon'  \n",
    "    elif month in [5, 6, 7, 8, 9]:\n",
    "        return month  # should remain the same \n",
    "    elif month in [10, 11, 12]:\n",
    "        return 'after monsoon'  # June, July, August (Summer)\n",
    "\n",
    "\n",
    "\n",
    "\n",
    "\n",
    "\n",
    "\n",
    "\n",
    "\n",
    "def prepare_dfcount_for_plot(dfcount):\n",
    "    melted = pd.melt(dfcount, id_vars=['D', 'D_year', 'D_month'], var_name='elevation', value_name='dfs_count')\n",
    "    melted['elevation'] = melted['elevation'].str.split('.').str[0].astype(float)\n",
    "    melted['elevation_bin'] = melted.apply(functions.bin_elevation500, axis=1)\n",
    "    melted = melted.sort_values('elevation_bin')\n",
    "    # melted = melted.dropna(subset=['dfs_count'])\n",
    "    return melted \n",
    "\n",
    "def prepare_dfcount_for_heatmap(dfcount, temporal_col):\n",
    "    melted = pd.melt(dfcount, id_vars=['D', 'D_year', 'D_month'], var_name='elevation', value_name='dfs_count')\n",
    "    melted['elevation'] = melted['elevation'].str.split('.').str[0].astype(float)\n",
    "    melted['elevation_bin'] = melted.apply(functions.bin_elevation500, axis=1)\n",
    "    melted = melted.sort_values('elevation_bin')\n",
    "    melted['season'] = melted['D_month'].apply(get_season)\n",
    "    melted['monsoon'] = melted['D_month'].apply(get_monsoon)\n",
    "    \n",
    "    melted = melted.groupby([temporal_col, 'elevation_bin'])['dfs_count'].mean().reset_index()\n",
    "    toplot = melted.pivot(index=\"elevation_bin\", columns=temporal_col, values=\"dfs_count\")\n",
    "    return toplot \n"
   ]
  },
  {
   "cell_type": "code",
   "execution_count": 79,
   "id": "9d4a9901-928d-4c9f-9c99-d666b3a2c562",
   "metadata": {},
   "outputs": [],
   "source": [
    "dfspot1 = prepare_dfcount_for_heatmap(dfspot1_df, 'monsoon').dropna()\n",
    "dfspot2 = prepare_dfcount_for_heatmap(dfspot2_df, 'monsoon').dropna()\n",
    "dfspot3 = prepare_dfcount_for_heatmap(dfspot3_df, 'monsoon').dropna()\n",
    "dfspot4 = prepare_dfcount_for_heatmap(dfspot4_df, 'monsoon').dropna()\n",
    "dfspot5 = prepare_dfcount_for_heatmap(dfspot5_df, 'monsoon').dropna()\n",
    "\n",
    "# Compute global vmin and vmax across all datasets\n",
    "vmin = min(df.min().min() for df in [dfspot1, dfspot2, dfspot3, dfspot4, dfspot5])\n",
    "vmax = max(df.max().max() for df in [dfspot1, dfspot2, dfspot3, dfspot4, dfspot5])\n"
   ]
  },
  {
   "cell_type": "code",
   "execution_count": 80,
   "id": "2b36481a-26a2-41c6-80ab-2bf0c0ffd90b",
   "metadata": {},
   "outputs": [
    {
     "data": {
      "image/png": "[encoded data removed]",
      "text/plain": [
       "<Figure size 1440x216 with 6 Axes>"
      ]
     },
     "metadata": {
      "needs_background": "light"
     },
     "output_type": "display_data"
    }
   ],
   "source": [
    "fig = plt.figure(figsize=(20, 3), layout = 'tight')\n",
    "\n",
    "mosaic = fig.subplot_mosaic('''\n",
    "                            abcde\n",
    "                            ''')\n",
    "\n",
    "\n",
    "sns.heatmap(dfspot1, ax = mosaic['a'], cmap ='Reds', vmin=vmin, vmax=vmax, cbar = False)\n",
    "sns.heatmap(dfspot2, ax = mosaic['b'], cmap ='Reds', vmin=vmin, vmax=vmax, cbar = False)\n",
    "sns.heatmap(dfspot3, ax = mosaic['c'], cmap ='Reds', vmin=vmin, vmax=vmax, cbar = False)\n",
    "sns.heatmap(dfspot4, ax = mosaic['d'], cmap ='Reds', vmin=vmin, vmax=vmax, cbar = False)\n",
    "sns.heatmap(dfspot5, ax = mosaic['e'], cmap ='Reds', vmin=vmin, vmax=vmax, cbar = True)\n",
    "\n",
    "mosaic['b'].set_ylabel('')\n",
    "mosaic['b'].set_yticks([])\n",
    "\n",
    "mosaic['c'].set_ylabel('')\n",
    "mosaic['c'].set_yticks([])\n",
    "\n",
    "mosaic['d'].set_ylabel('')\n",
    "mosaic['d'].set_yticks([])\n",
    "mosaic['e'].set_ylabel('')\n",
    "mosaic['e'].set_yticks([])\n",
    "\n",
    "\n",
    "\n",
    "testplots = '/Users/varyabazilova/Desktop/paper2/202406_modelruns/30years/output/testplots/'\n",
    "# plt.savefig(testplots + 'dfspot_count_all_landcovers_seasons.png', dpi = 300, bbox_inches = 'tight')"
   ]
  },
  {
   "cell_type": "code",
   "execution_count": 82,
   "id": "6de2d954-1557-4226-8e9f-d1fa07b02b2e",
   "metadata": {},
   "outputs": [],
   "source": [
    "def prepare_dfcount_for_barplot(dfcount, landcover_idx):\n",
    "    melted = pd.melt(dfcount, id_vars=['D', 'D_year', 'D_month'], var_name='elevation', value_name='dfs_count')\n",
    "    melted['elevation'] = melted['elevation'].str.split('.').str[0].astype(float)\n",
    "    melted['elevation_bin'] = melted.apply(functions.bin_elevation500, axis=1)\n",
    "    melted = melted.sort_values('elevation_bin')\n",
    "    melted['season'] = melted['D_month'].apply(get_season)\n",
    "    melted['monsoon'] = melted['D_month'].apply(get_monsoon)\n",
    "\n",
    "    melted['landcover'] = f'landcover {landcover_idx}'\n",
    "    return melted \n",
    "\n",
    "\n"
   ]
  },
  {
   "cell_type": "code",
   "execution_count": 83,
   "id": "8c24fb72-4acd-46c3-a0b9-d7a19d059047",
   "metadata": {},
   "outputs": [],
   "source": [
    "dfspot1 = prepare_dfcount_for_barplot(dfspot1_df, 1).fillna(0)\n",
    "dfspot2 = prepare_dfcount_for_barplot(dfspot2_df, 2).fillna(0)\n",
    "dfspot3 = prepare_dfcount_for_barplot(dfspot3_df, 3).fillna(0)\n",
    "dfspot4 = prepare_dfcount_for_barplot(dfspot4_df, 4).fillna(0)\n",
    "dfspot5 = prepare_dfcount_for_barplot(dfspot5_df, 5).fillna(0)\n"
   ]
  },
  {
   "cell_type": "code",
   "execution_count": 84,
   "id": "115f8b32-a5c2-443f-a1b6-19facf474188",
   "metadata": {},
   "outputs": [],
   "source": [
    "dfspot_all = pd.concat([dfspot1, dfspot2, dfspot3, dfspot4, dfspot5],ignore_index=True)\n",
    "\n",
    "\n",
    "\n",
    "dfspot_jja = dfspot_all[dfspot_all['season'] == 'JJA']\n",
    "dfspot_mam = dfspot_all[dfspot_all['season'] == 'MAM']\n",
    "dfspot_djf = dfspot_all[dfspot_all['season'] == 'DJF']\n",
    "dfspot_son = dfspot_all[dfspot_all['season'] == 'SON']\n"
   ]
  },
  {
   "cell_type": "code",
   "execution_count": 85,
   "id": "135791c7-476f-4e25-92da-34cedf85036d",
   "metadata": {},
   "outputs": [
    {
     "data": {
      "text/plain": [
       "array(['SON', 'JJA', 'MAM', 'DJF'], dtype=object)"
      ]
     },
     "execution_count": 85,
     "metadata": {},
     "output_type": "execute_result"
    }
   ],
   "source": [
    "dfspot_all.season.unique()"
   ]
  },
  {
   "cell_type": "code",
   "execution_count": 86,
   "id": "0dde752d-3ffd-4ade-a1f6-3b58ffdad826",
   "metadata": {},
   "outputs": [],
   "source": [
    "# sns.barplot(data = dfspot_jja, x = 'landcover', y ='dfs_count')"
   ]
  },
  {
   "cell_type": "code",
   "execution_count": 87,
   "id": "dc46ec49-a213-4670-aee2-db9160f6d74f",
   "metadata": {},
   "outputs": [
    {
     "name": "stderr",
     "output_type": "stream",
     "text": [
      "/var/folders/31/xdyntby945q7564txk4rqyh40000gp/T/ipykernel_56514/2707848643.py:18: FutureWarning: \n",
      "\n",
      "Passing `palette` without assigning `hue` is deprecated and will be removed in v0.14.0. Assign the `x` variable to `hue` and set `legend=False` for the same effect.\n",
      "\n",
      "  sns.barplot(dfspot_all, x='landcover', y='dfs_count', ax=mosaic['a'], palette=color_mapping)#, ci = 'ci')\n",
      "/var/folders/31/xdyntby945q7564txk4rqyh40000gp/T/ipykernel_56514/2707848643.py:19: FutureWarning: \n",
      "\n",
      "Passing `palette` without assigning `hue` is deprecated and will be removed in v0.14.0. Assign the `x` variable to `hue` and set `legend=False` for the same effect.\n",
      "\n",
      "  sns.barplot(dfspot_djf, x='landcover', y='dfs_count', ax=mosaic['b'], palette=color_mapping)#, ci = 'ci')\n",
      "/var/folders/31/xdyntby945q7564txk4rqyh40000gp/T/ipykernel_56514/2707848643.py:20: FutureWarning: \n",
      "\n",
      "Passing `palette` without assigning `hue` is deprecated and will be removed in v0.14.0. Assign the `x` variable to `hue` and set `legend=False` for the same effect.\n",
      "\n",
      "  sns.barplot(dfspot_mam, x='landcover', y='dfs_count', ax=mosaic['c'], palette=color_mapping)#, ci = 'ci')\n",
      "/var/folders/31/xdyntby945q7564txk4rqyh40000gp/T/ipykernel_56514/2707848643.py:21: FutureWarning: \n",
      "\n",
      "Passing `palette` without assigning `hue` is deprecated and will be removed in v0.14.0. Assign the `x` variable to `hue` and set `legend=False` for the same effect.\n",
      "\n",
      "  sns.barplot(dfspot_jja, x='landcover', y='dfs_count', ax=mosaic['d'], palette=color_mapping)#, ci = 'ci')\n",
      "/var/folders/31/xdyntby945q7564txk4rqyh40000gp/T/ipykernel_56514/2707848643.py:22: FutureWarning: \n",
      "\n",
      "Passing `palette` without assigning `hue` is deprecated and will be removed in v0.14.0. Assign the `x` variable to `hue` and set `legend=False` for the same effect.\n",
      "\n",
      "  sns.barplot(dfspot_son, x='landcover', y='dfs_count', ax=mosaic['e'], palette=color_mapping)#, ci = 'ci')\n",
      "/var/folders/31/xdyntby945q7564txk4rqyh40000gp/T/ipykernel_56514/2707848643.py:34: MatplotlibDeprecationWarning: Support for passing numbers through unit converters is deprecated since 3.5 and support will be removed two minor releases later; use Axis.convert_units instead.\n",
      "  mosaic['a'].set_xticks([])\n",
      "/var/folders/31/xdyntby945q7564txk4rqyh40000gp/T/ipykernel_56514/2707848643.py:35: MatplotlibDeprecationWarning: Support for passing numbers through unit converters is deprecated since 3.5 and support will be removed two minor releases later; use Axis.convert_units instead.\n",
      "  mosaic['b'].set_xticks([])\n",
      "/var/folders/31/xdyntby945q7564txk4rqyh40000gp/T/ipykernel_56514/2707848643.py:36: MatplotlibDeprecationWarning: Support for passing numbers through unit converters is deprecated since 3.5 and support will be removed two minor releases later; use Axis.convert_units instead.\n",
      "  mosaic['c'].set_xticks([])\n",
      "/var/folders/31/xdyntby945q7564txk4rqyh40000gp/T/ipykernel_56514/2707848643.py:37: MatplotlibDeprecationWarning: Support for passing numbers through unit converters is deprecated since 3.5 and support will be removed two minor releases later; use Axis.convert_units instead.\n",
      "  mosaic['d'].set_xticks([])\n",
      "/var/folders/31/xdyntby945q7564txk4rqyh40000gp/T/ipykernel_56514/2707848643.py:38: MatplotlibDeprecationWarning: Support for passing numbers through unit converters is deprecated since 3.5 and support will be removed two minor releases later; use Axis.convert_units instead.\n",
      "  mosaic['e'].set_xticks([])\n"
     ]
    },
    {
     "data": {
      "image/png": "[encoded data removed]",
      "text/plain": [
       "<Figure size 1440x216 with 5 Axes>"
      ]
     },
     "metadata": {
      "needs_background": "light"
     },
     "output_type": "display_data"
    }
   ],
   "source": [
    "vmax = dfspot_all['dfs_count'].max()\n",
    "\n",
    "fig = plt.figure(figsize=(20, 3), layout='tight')\n",
    "mosaic = fig.subplot_mosaic('''\n",
    "                            abcde\n",
    "                            ''')\n",
    "\n",
    "# Define the color palette\n",
    "palette = sns.color_palette('Set1')\n",
    "\n",
    "# Get unique landcover types\n",
    "landcover_categories = dfspot_all['landcover'].unique()\n",
    "\n",
    "# Create a dictionary mapping landcover types to colors\n",
    "color_mapping = dict(zip(landcover_categories, palette[:len(landcover_categories)]))\n",
    "\n",
    "# Plot barplots with consistent colors\n",
    "sns.barplot(dfspot_all, x='landcover', y='dfs_count', ax=mosaic['a'], palette=color_mapping)#, ci = 'ci')\n",
    "sns.barplot(dfspot_djf, x='landcover', y='dfs_count', ax=mosaic['b'], palette=color_mapping)#, ci = 'ci')\n",
    "sns.barplot(dfspot_mam, x='landcover', y='dfs_count', ax=mosaic['c'], palette=color_mapping)#, ci = 'ci')\n",
    "sns.barplot(dfspot_jja, x='landcover', y='dfs_count', ax=mosaic['d'], palette=color_mapping)#, ci = 'ci')\n",
    "sns.barplot(dfspot_son, x='landcover', y='dfs_count', ax=mosaic['e'], palette=color_mapping)#, ci = 'ci')\n",
    "\n",
    "# Create a custom legend\n",
    "handles = [plt.Rectangle((0, 0), 1, 1, color=color_mapping[lc]) for lc in landcover_categories]\n",
    "fig.legend(handles, landcover_categories, title=\"Landcover\", loc='upper right', bbox_to_anchor=(1.01, 1))\n",
    "\n",
    "mosaic['a'].set_title('all year')\n",
    "mosaic['b'].set_title('djf')\n",
    "mosaic['c'].set_title('mam')\n",
    "mosaic['d'].set_title('jja')\n",
    "mosaic['e'].set_title('son')\n",
    "\n",
    "mosaic['a'].set_xticks([])\n",
    "mosaic['b'].set_xticks([])\n",
    "mosaic['c'].set_xticks([])\n",
    "mosaic['d'].set_xticks([])\n",
    "mosaic['e'].set_xticks([])\n",
    "\n",
    "\n",
    "\n",
    "# mosaic['b'].set_ylim([0, 8])\n",
    "# mosaic['c'].set_ylim([0, 8])\n",
    "# mosaic['d'].set_ylim([0, 8])\n",
    "# mosaic['e'].set_ylim([0, 8])\n",
    "\n",
    "testplots = '/Users/varyabazilova/Desktop/paper2/202406_modelruns/30years/output/testplots/'\n",
    "# plt.savefig(testplots + 'dfspot_count_all_landcovers_barplots.png', dpi = 300, bbox_inches = 'tight')\n"
   ]
  },
  {
   "cell_type": "markdown",
   "id": "f50fc782-2b9b-42a2-be8c-c53dae4d95f0",
   "metadata": {},
   "source": [
    "# df vs floods"
   ]
  },
  {
   "cell_type": "code",
   "execution_count": 88,
   "id": "da62f3a7-4f6e-4474-9e1c-cd2544d1d16a",
   "metadata": {},
   "outputs": [],
   "source": [
    "\n",
    "# Filter the DataFrame for the specified date range\n",
    "def prepare_dfcount_for_plot(dfcount):\n",
    "    dfcount['D'] = pd.to_datetime(dfcount['D'])\n",
    "    # dfcount = dfcount[(dfcount['D'] >= start_date) & (dfcount['D'] <= end_date)]\n",
    "\n",
    "    dfcount = dfcount.rename(columns={'D_year': 'year', 'D_month': 'month'})\n",
    "    dfcount = dfcount.drop('D', axis = 1)\n",
    "    dfcount['date_id'] = dfcount['year'].astype(str)+ \"_\" + dfcount['month'].astype(str)\n",
    "    melted = pd.melt(dfcount, id_vars=['date_id', 'year', 'month'], var_name='elevation', value_name='dfs_count')\n",
    "    \n",
    "    # melted = pd.melt(dfcount, id_vars=['date_id'], var_name='elevation', value_name='dfs_count')\n",
    "    melted['elevation'] = melted['elevation'].str.split('.').str[0].astype(float)\n",
    "    melted['elevation_bin'] = melted.apply(functions.bin_elevation500, axis=1)\n",
    "    # create unique id for elevation and month for merging\n",
    "    melted['elevation'] = melted['elevation'].astype(int)\n",
    "    melted['id'] = melted.index.astype(str)+ \"_\" + melted['elevation'].astype(str) + \"_\" + melted['year'].astype(str)+ \"_\" + melted['month'].astype(str)\n",
    "    \n",
    "    melted['season'] = melted['month'].apply(get_season)\n",
    "    melted['monsoon'] = melted['month'].apply(get_monsoon)\n",
    "    # melted = melted.sort_values('elevation_bin')\n",
    "    # melted = melted.dropna(subset=['dfs_count'])\n",
    "    return melted \n",
    "\n",
    "def merge_landcover_dfs(dfs, dfspot, merge_on, dfspot_column):\n",
    "    \"\"\"\n",
    "    Merges a list of dataframes on specified columns and adds a column from a 'dfspot' dataframe.\n",
    "    \n",
    "    Parameters:\n",
    "        dfs (list of pd.DataFrame): List of dataframes to merge sequentially.\n",
    "        dfspot (pd.DataFrame): A dataframe containing a column to add after the merges.\n",
    "        merge_on (list of str): Columns to use as the merge keys.\n",
    "        dfspot_column (str): The name of the column in `dfspot` to add after merging.\n",
    "        \n",
    "    Returns:\n",
    "        pd.DataFrame: The merged dataframe with the additional column from `dfspot`.\n",
    "    \"\"\"\n",
    "    \n",
    "    # Start with the first dataframe in `dfs` and automatically get the count column\n",
    "    count_column = [col for col in dfs[0].columns if col.startswith('dfs_count')][0]\n",
    "    merged_df = dfs[0][merge_on + [count_column]]\n",
    "    \n",
    "    # Iterate over remaining dataframes and merge each sequentially\n",
    "    for df in dfs[1:]:\n",
    "        count_column = [col for col in df.columns if col.startswith('dfs_count')][0]\n",
    "        merged_df = pd.merge(merged_df, df[merge_on + [count_column]], on=merge_on)\n",
    "    \n",
    "    # Add the `dfspot_column` from `dfspot` dataframe to the merged dataframe\n",
    "    merged_df['dfspot_count'] = dfspot[dfspot_column]\n",
    "    \n",
    "    return merged_df\n",
    "\n",
    "\n",
    "def calculate_floods(df):\n",
    "    # df percent \n",
    "    df[f'dfs_count_60_percent'] = (df[f'dfs_count_60percent'] *100) / df.dfspot_count\n",
    "    df[f'dfs_count_50_percent'] = (df[f'dfs_count_50percent'] *100) / df.dfspot_count\n",
    "    df[f'dfs_count_40_percent'] = (df[f'dfs_count_40percent'] *100) / df.dfspot_count\n",
    "    df[f'dfs_count_30_percent'] = (df[f'dfs_count_30percent'] *100) / df.dfspot_count\n",
    "    df[f'dfs_count_20_percent'] = (df[f'dfs_count_20percent'] *100) / df.dfspot_count\n",
    "    # ff count \n",
    "    df[f'ffs_count_60'] = df.dfspot_count - df[f'dfs_count_60percent']\n",
    "    df[f'ffs_count_50'] = df.dfspot_count - df[f'dfs_count_50percent']\n",
    "    df[f'ffs_count_40'] = df.dfspot_count - df[f'dfs_count_40percent']\n",
    "    df[f'ffs_count_30'] = df.dfspot_count - df[f'dfs_count_30percent']\n",
    "    df[f'ffs_count_20'] = df.dfspot_count - df[f'dfs_count_20percent']\n",
    "    # ff percent\n",
    "    df[f'ffs_count_60_percent'] = (df[f'ffs_count_60'] *100) / df.dfspot_count\n",
    "    df[f'ffs_count_50_percent'] = (df[f'ffs_count_50'] *100) / df.dfspot_count\n",
    "    df[f'ffs_count_40_percent'] = (df[f'ffs_count_40'] *100) / df.dfspot_count\n",
    "    df[f'ffs_count_30_percent'] = (df[f'ffs_count_30'] *100) / df.dfspot_count\n",
    "    df[f'ffs_count_20_percent'] = (df[f'ffs_count_20'] *100) / df.dfspot_count\n",
    "    return df\n",
    "\n",
    "\n"
   ]
  },
  {
   "cell_type": "code",
   "execution_count": 89,
   "id": "ff578a31-05ae-4919-8981-32789203b960",
   "metadata": {},
   "outputs": [],
   "source": [
    "# read one file and compare it to the DFSPOT\n",
    "\n",
    "\n",
    "# /Users/varyabazilova/Desktop/paper2/202406_modelruns/30years/2025Jan_output/SL_once/output_20percent/langtang_monthly_dfs_count_20percent_landcover1.csv"
   ]
  },
  {
   "cell_type": "code",
   "execution_count": 93,
   "id": "2a78030c-f0fa-4976-86d7-df9e643d9df8",
   "metadata": {},
   "outputs": [
    {
     "name": "stdout",
     "output_type": "stream",
     "text": [
      "5\n",
      "/Users/varyabazilova/Desktop/paper2/202406_modelruns/30years/2025Jan_output/SL_once/output_30percent/langtang_monthly_dfs_count_30percent_landcover5.csv\n",
      "5\n",
      "/Users/varyabazilova/Desktop/paper2/202406_modelruns/30years/2025Jan_output/SL_once/output_20percent/langtang_monthly_dfs_count_20percent_landcover5.csv\n",
      "5\n",
      "/Users/varyabazilova/Desktop/paper2/202406_modelruns/30years/2025Jan_output/SL_once/output_60percent/langtang_monthly_dfs_count_60percent_landcover5.csv\n",
      "5\n",
      "/Users/varyabazilova/Desktop/paper2/202406_modelruns/30years/2025Jan_output/SL_once/output_40percent/langtang_monthly_dfs_count_40percent_landcover5.csv\n",
      "5\n",
      "/Users/varyabazilova/Desktop/paper2/202406_modelruns/30years/2025Jan_output/SL_once/output_50percent/langtang_monthly_dfs_count_50percent_landcover5.csv\n"
     ]
    }
   ],
   "source": [
    "import glob\n",
    "import pandas as pd\n",
    "import re\n",
    "\n",
    "landcover_idx = 5\n",
    "\n",
    "# Base directory where all output_Xpercent folders are located\n",
    "base_directory = \"/Users/varyabazilova/Desktop/paper2/202406_modelruns/30years/2025Jan_output/SL_once/\"\n",
    "\n",
    "# Use glob to find all relevant files in output_XXpercent folders\n",
    "file_pattern = f\"{base_directory}/output_*/langtang_monthly_dfs_count_*_landcover{landcover_idx}.csv\"\n",
    "files = glob.glob(file_pattern)\n",
    "\n",
    "dfs = []\n",
    "\n",
    "# Loop through the files and process them\n",
    "for file in files:\n",
    "    # Extract the percentile from the folder name\n",
    "    percentile = re.search(r'output_(\\d+percent)', file).group(1)\n",
    "    \n",
    "    # Extract the landcover number from the file name\n",
    "    landcover_number = re.search(r'landcover(\\d+)', file).group(1)\n",
    "    print(landcover_number)\n",
    "    print(file)\n",
    "    # Read the file into a DataFrame\n",
    "    df = pd.read_csv(file, index_col=0).fillna(0)\n",
    "    df = filter_by_date(df)\n",
    "\n",
    "    # Apply your processing function\n",
    "    processed_df = prepare_dfcount_for_plot(df)\n",
    "    \n",
    "    # Rename the 'dfs_count' column to include percentile and landcover number\n",
    "    processed_df = processed_df.rename(columns={'dfs_count': f'dfs_count_{percentile}'})\n",
    "    # Append to the list\n",
    "    dfs.append(processed_df)\n",
    "\n",
    "merge_on = ['year', 'month', 'elevation', 'elevation_bin', 'id']\n",
    "dfspot_column = 'dfs_count'\n",
    "\n",
    "if landcover_idx == 1:\n",
    "    dfspot = dfspot1\n",
    "if landcover_idx == 2:\n",
    "    dfspot = dfspot2\n",
    "if landcover_idx == 3:\n",
    "    dfspot = dfspot3\n",
    "if landcover_idx == 4:\n",
    "    dfspot = dfspot4\n",
    "if landcover_idx == 5:\n",
    "    dfspot = dfspot5\n",
    "\n",
    "\n",
    "dfmerged = merge_landcover_dfs(dfs, dfspot, merge_on, dfspot_column)\n",
    "dffloods = calculate_floods(dfmerged)\n",
    "\n",
    "\n",
    "outpath = '/Users/varyabazilova/Desktop/paper2/202406_modelruns/30years/2025Jan_output/df_vs_floods/'\n",
    "# dffloods.to_csv(outpath + f'langtang_df_vs_floods_once_landcover{landcover_idx}.csv')\n"
   ]
  },
  {
   "cell_type": "markdown",
   "id": "e54ade9f-1c77-4529-8122-6cdc09539ba2",
   "metadata": {},
   "source": [
    "# plots for df vs floods - stacked barplots \n",
    "\n",
    "calculate mean per month? then make "
   ]
  },
  {
   "cell_type": "code",
   "execution_count": 100,
   "id": "cbd57e82-dd09-44a1-a6b6-2cef675adf64",
   "metadata": {},
   "outputs": [],
   "source": [
    "# read those files \n",
    "# outpath = '/Users/varyabazilova/Desktop/paper2/202406_modelruns/30years/2025Jan_output/df_vs_floods/'\n",
    "\n",
    "landcover1 = pd.read_csv(outpath + 'langtang_df_vs_floods_once_landcover1.csv', index_col=0)\n",
    "landcover2 = pd.read_csv(outpath + 'langtang_df_vs_floods_once_landcover2.csv', index_col=0)\n",
    "landcover3 = pd.read_csv(outpath + 'langtang_df_vs_floods_once_landcover3.csv', index_col=0)\n",
    "landcover4 = pd.read_csv(outpath + 'langtang_df_vs_floods_once_landcover4.csv', index_col=0)\n",
    "landcover5 = pd.read_csv(outpath + 'langtang_df_vs_floods_once_landcover5.csv', index_col=0)\n",
    "\n",
    "\n",
    "landcover1['monsoon'] = landcover1.month.apply(get_monsoon)\n",
    "landcover2['monsoon'] = landcover2.month.apply(get_monsoon)\n",
    "landcover3['monsoon'] = landcover3.month.apply(get_monsoon)\n",
    "landcover4['monsoon'] = landcover4.month.apply(get_monsoon)\n",
    "landcover5['monsoon'] = landcover5.month.apply(get_monsoon)\n",
    "\n",
    "def monthly_mean_per_elevation(df):\n",
    "    mean = df.groupby(['elevation_bin', 'month']).mean().reset_index() \n",
    "    return mean\n",
    "\n",
    "def monsoon_mean_per_elevation(df):\n",
    "    mean = df.groupby(['elevation_bin', 'monsoon']).mean().reset_index() \n",
    "    return mean\n",
    "\n",
    "landcover1monthly = monthly_mean_per_elevation(landcover1)\n",
    "landcover2monthly = monthly_mean_per_elevation(landcover2)\n",
    "landcover3monthly = monthly_mean_per_elevation(landcover3)\n",
    "landcover4monthly = monthly_mean_per_elevation(landcover4)\n",
    "landcover5monthly = monthly_mean_per_elevation(landcover5)\n",
    "\n",
    "\n",
    "\n",
    "landcover1monsoon = monsoon_mean_per_elevation(landcover1)\n",
    "landcover2monsoon = monsoon_mean_per_elevation(landcover2)\n",
    "landcover3monsoon = monsoon_mean_per_elevation(landcover3)\n",
    "landcover4monsoon = monsoon_mean_per_elevation(landcover4)\n",
    "landcover5monsoon = monsoon_mean_per_elevation(landcover5)\n"
   ]
  },
  {
   "cell_type": "code",
   "execution_count": 70,
   "id": "17acd88e-b7c6-4c0a-b77f-b96a6208dfbc",
   "metadata": {},
   "outputs": [
    {
     "data": {
      "text/plain": [
       "<AxesSubplot:label='E', xlabel='month', ylabel='dfs_count_60_percent'>"
      ]
     },
     "execution_count": 70,
     "metadata": {},
     "output_type": "execute_result"
    },
    {
     "data": {
      "image/png": "[encoded data removed]",
      "text/plain": [
       "<Figure size 1440x720 with 10 Axes>"
      ]
     },
     "metadata": {
      "needs_background": "light"
     },
     "output_type": "display_data"
    }
   ],
   "source": [
    "\n",
    "fig = plt.figure(figsize=(20, 10), layout='tight')\n",
    "mosaic = fig.subplot_mosaic('''\n",
    "                            abcde\n",
    "                            ABCDE\n",
    "                            ''')\n",
    "\n",
    "\n",
    "sns.barplot(data = landcover1monthly, y = 'dfs_count_20_percent', x='month', ax = mosaic['a'])\n",
    "sns.barplot(data = landcover1monthly, y = 'dfs_count_30_percent', x='month', ax = mosaic['b'])#, hue = 'elevation_bin',, legend = False)\n",
    "sns.barplot(data = landcover1monthly, y = 'dfs_count_40_percent', x='month', ax = mosaic['c'])#, hue = 'elevation_bin',, legend = False)\n",
    "sns.barplot(data = landcover1monthly, y = 'dfs_count_50_percent', x='month', ax = mosaic['d'])\n",
    "sns.barplot(data = landcover1monthly, y = 'dfs_count_60_percent', x='month', ax = mosaic['e'])\n",
    "\n",
    "\n",
    "\n",
    "sns.barplot(data = landcover2monthly, y = 'dfs_count_20_percent', x='month', ax = mosaic['A'])#, hue = 'elevation_bin')\n",
    "sns.barplot(data = landcover2monthly, y = 'dfs_count_30_percent', x='month', ax = mosaic['B'])#, hue = 'elevation_bin',, legend = False)\n",
    "sns.barplot(data = landcover2monthly, y = 'dfs_count_40_percent', x='month', ax = mosaic['C'])#, hue = 'elevation_bin',, legend = False)\n",
    "sns.barplot(data = landcover2monthly, y = 'dfs_count_50_percent', x='month', ax = mosaic['D'])\n",
    "sns.barplot(data = landcover2monthly, y = 'dfs_count_60_percent', x='month', ax = mosaic['E'])\n",
    "\n"
   ]
  },
  {
   "cell_type": "code",
   "execution_count": 71,
   "id": "1607f5af-cfa3-4048-ac0e-86992e0610b1",
   "metadata": {},
   "outputs": [],
   "source": [
    "# plots - \n",
    "# remove everything above 5500\n",
    "# calculate the mean dfspot for all evelations \n",
    "# assign month the class: either the month itself (within monsoon) or \"before monsoon\"/\"after monsoon\"\n",
    "# color bars per dfspot "
   ]
  },
  {
   "cell_type": "code",
   "execution_count": 72,
   "id": "d3b62c84-e8df-4afa-9658-d506d758364a",
   "metadata": {},
   "outputs": [],
   "source": [
    "def monthly_mean(df):\n",
    "    mean = df.groupby(['month']).mean().reset_index() \n",
    "    return mean\n",
    "\n",
    "\n",
    "landcover5monthly_comb = monthly_mean(landcover5)\n"
   ]
  },
  {
   "cell_type": "code",
   "execution_count": 74,
   "id": "b8c3e71e-9e3e-4f85-9d3d-bee78a623d42",
   "metadata": {},
   "outputs": [
    {
     "data": {
      "text/plain": [
       "Index(['year', 'month', 'elevation', 'elevation_bin', 'id',\n",
       "       'dfs_count_30percent', 'dfs_count_20percent', 'dfs_count_60percent',\n",
       "       'dfs_count_40percent', 'dfs_count_50percent', 'dfspot_count',\n",
       "       'dfs_count_60_percent', 'dfs_count_50_percent', 'dfs_count_40_percent',\n",
       "       'dfs_count_30_percent', 'dfs_count_20_percent', 'ffs_count_60',\n",
       "       'ffs_count_50', 'ffs_count_40', 'ffs_count_30', 'ffs_count_20',\n",
       "       'ffs_count_60_percent', 'ffs_count_50_percent', 'ffs_count_40_percent',\n",
       "       'ffs_count_30_percent', 'ffs_count_20_percent'],\n",
       "      dtype='object')"
      ]
     },
     "execution_count": 74,
     "metadata": {},
     "output_type": "execute_result"
    }
   ],
   "source": [
    "landcover5.columns"
   ]
  },
  {
   "cell_type": "code",
   "execution_count": 52,
   "id": "d8f9efb6-d234-484e-9ec7-790f58ba3bfb",
   "metadata": {},
   "outputs": [
    {
     "data": {
      "text/plain": [
       "<AxesSubplot:label='e', xlabel='month', ylabel='dfs_count_60_percent'>"
      ]
     },
     "execution_count": 52,
     "metadata": {},
     "output_type": "execute_result"
    },
    {
     "data": {
      "image/png": "[encoded data removed]",
      "text/plain": [
       "<Figure size 1440x360 with 5 Axes>"
      ]
     },
     "metadata": {
      "needs_background": "light"
     },
     "output_type": "display_data"
    }
   ],
   "source": [
    "fig = plt.figure(figsize=(20, 5), layout='tight')\n",
    "mosaic = fig.subplot_mosaic('''\n",
    "                            abcde\n",
    "                            ''')\n",
    "\n",
    "\n",
    "sns.barplot(data = landcover1monthly_comb, y = 'dfs_count_20_percent', x='month', ax = mosaic['a'], hue = 'dfspot_count')\n",
    "sns.barplot(data = landcover1monthly_comb, y = 'dfs_count_30_percent', x='month', ax = mosaic['b'], hue = 'dfspot_count')#, hue = 'elevation_bin',, legend = False)\n",
    "sns.barplot(data = landcover1monthly_comb, y = 'dfs_count_40_percent', x='month', ax = mosaic['c'], hue = 'dfspot_count')#, hue = 'elevation_bin',, legend = False)\n",
    "sns.barplot(data = landcover1monthly_comb, y = 'dfs_count_50_percent', x='month', ax = mosaic['d'], hue = 'dfspot_count')\n",
    "sns.barplot(data = landcover1monthly_comb, y = 'dfs_count_60_percent', x='month', ax = mosaic['e'], hue = 'dfspot_count')\n"
   ]
  },
  {
   "cell_type": "code",
   "execution_count": 108,
   "id": "5a264903-1394-4d20-aa7a-e1c3d4414632",
   "metadata": {},
   "outputs": [],
   "source": [
    "def monsoon_mean(df):\n",
    "    mean = df.groupby(['monsoon']).mean().reset_index() \n",
    "    return mean\n",
    "\n",
    "\n",
    "landcover1monsoon_comb = monsoon_mean(landcover1)\n",
    "landcover2monsoon_comb = monsoon_mean(landcover2)\n",
    "landcover3monsoon_comb = monsoon_mean(landcover3)\n",
    "landcover4monsoon_comb = monsoon_mean(landcover4)\n",
    "landcover5monsoon_comb = monsoon_mean(landcover5)\n",
    "\n",
    "\n",
    "order = ['before monsoon', '5', '6', '7', '8', '9', 'after monsoon']\n"
   ]
  },
  {
   "cell_type": "code",
   "execution_count": 112,
   "id": "c2d98071-4f85-483e-9284-aaa29631a6ff",
   "metadata": {},
   "outputs": [
    {
     "data": {
      "text/plain": [
       "<AxesSubplot:label='e', xlabel='monsoon', ylabel='dfs_count_60_percent'>"
      ]
     },
     "execution_count": 112,
     "metadata": {},
     "output_type": "execute_result"
    },
    {
     "data": {
      "image/png": "[encoded data removed]",
      "text/plain": [
       "<Figure size 1440x360 with 5 Axes>"
      ]
     },
     "metadata": {
      "needs_background": "light"
     },
     "output_type": "display_data"
    }
   ],
   "source": [
    "fig = plt.figure(figsize=(20, 5), layout='tight')\n",
    "mosaic = fig.subplot_mosaic('''\n",
    "                            abcde\n",
    "                            ''')\n",
    "\n",
    "\n",
    "sns.barplot(data = landcover1monsoon_comb, y = 'dfs_count_20_percent', x='monsoon', ax = mosaic['a'], hue = 'dfspot_count', order = order)\n",
    "sns.barplot(data = landcover1monsoon_comb, y = 'dfs_count_30_percent', x='monsoon', ax = mosaic['b'], hue = 'dfspot_count',  order = order)\n",
    "sns.barplot(data = landcover1monsoon_comb, y = 'dfs_count_40_percent', x='monsoon', ax = mosaic['c'], hue = 'dfspot_count',  order = order)\n",
    "sns.barplot(data = landcover1monsoon_comb, y = 'dfs_count_50_percent', x='monsoon', ax = mosaic['d'], hue = 'dfspot_count',  order = order)\n",
    "sns.barplot(data = landcover1monsoon_comb, y = 'dfs_count_60_percent', x='monsoon', ax = mosaic['e'], hue = 'dfspot_count',  order = order)\n"
   ]
  },
  {
   "cell_type": "code",
   "execution_count": null,
   "id": "99d40f0d-f0d9-4629-80b5-4417c9942f77",
   "metadata": {},
   "outputs": [],
   "source": []
  }
 ],
 "metadata": {
  "kernelspec": {
   "display_name": "Python [conda env:sedcas] *",
   "language": "python",
   "name": "conda-env-sedcas-py"
  },
  "language_info": {
   "codemirror_mode": {
    "name": "ipython",
    "version": 3
   },
   "file_extension": ".py",
   "mimetype": "text/x-python",
   "name": "python",
   "nbconvert_exporter": "python",
   "pygments_lexer": "ipython3",
   "version": "3.9.7"
  }
 },
 "nbformat": 4,
 "nbformat_minor": 5
}
