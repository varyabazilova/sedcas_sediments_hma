{
 "cells": [
  {
   "cell_type": "code",
   "execution_count": 1,
   "id": "e6022beb-b1c1-4d4d-a5c0-3c5e87d5b5f8",
   "metadata": {},
   "outputs": [],
   "source": [
    "import pandas as pd\n",
    "import seaborn as sns\n",
    "import matplotlib.pyplot as plt\n",
    "\n",
    "import functions\n",
    "\n",
    "import glob\n",
    "import re\n",
    "\n",
    "\n"
   ]
  },
  {
   "cell_type": "code",
   "execution_count": 2,
   "id": "b76fe31c-2266-426c-bd08-97f41e043b2f",
   "metadata": {},
   "outputs": [],
   "source": [
    "\n",
    "start_date = \"1990-07-31\"\n",
    "end_date = \"2021-06-30\"\n",
    "\n",
    "\n",
    "def filter_by_date(df, start_date = start_date, end_date = end_date, date_column='D'):\n",
    "    \"\"\"\n",
    "    Filters a DataFrame to include only rows where the date_column is within the given range.\n",
    "\n",
    "    Parameters:\n",
    "        df (pd.DataFrame): The input DataFrame.\n",
    "        start_date (str or pd.Timestamp): The start date (inclusive).\n",
    "        end_date (str or pd.Timestamp): The end date (inclusive).\n",
    "        date_column (str): The column containing date values (default is 'D').\n",
    "\n",
    "    Returns:\n",
    "        pd.DataFrame: The filtered DataFrame.\n",
    "    \"\"\"\n",
    "    df[date_column] = pd.to_datetime(df[date_column])  # Convert to datetime\n",
    "    return df[(df[date_column] >= start_date) & (df[date_column] <= end_date)]"
   ]
  },
  {
   "cell_type": "code",
   "execution_count": 3,
   "id": "606f6ded-c709-4099-8a63-6c9d5eb10086",
   "metadata": {},
   "outputs": [],
   "source": [
    "path = '/Users/varyabazilova/Desktop/paper2/202406_modelruns/30years/2025Jan_output/TL/'\n",
    "dfspot1_df = pd.read_csv(path + 'langtang_monthly_dfspot_count_landcover1.csv', index_col = 0).fillna(0)\n",
    "dfspot2_df = pd.read_csv(path + 'langtang_monthly_dfspot_count_landcover2.csv', index_col = 0).fillna(0)\n",
    "dfspot3_df = pd.read_csv(path + 'langtang_monthly_dfspot_count_landcover3.csv', index_col = 0).fillna(0)\n",
    "dfspot4_df = pd.read_csv(path + 'langtang_monthly_dfspot_count_landcover4.csv', index_col = 0).fillna(0)\n",
    "dfspot5_df = pd.read_csv(path + 'langtang_monthly_dfspot_count_landcover5.csv', index_col = 0).fillna(0)\n",
    "\n",
    "\n",
    "\n",
    "dfspot1_df = filter_by_date(dfspot1_df)\n",
    "dfspot2_df = filter_by_date(dfspot2_df)\n",
    "dfspot3_df = filter_by_date(dfspot3_df)\n",
    "dfspot4_df = filter_by_date(dfspot4_df)\n",
    "dfspot5_df = filter_by_date(dfspot5_df)\n"
   ]
  },
  {
   "cell_type": "code",
   "execution_count": 4,
   "id": "ae1c56fb-5365-4c3f-b06e-fee6f8d7c652",
   "metadata": {},
   "outputs": [],
   "source": [
    "# Define a function to categorize seasons\n",
    "def get_season(month):\n",
    "    if month in [12, 1, 2]:\n",
    "        return 'DJF'  # December, January, February (Winter)\n",
    "    elif month in [3, 4, 5]:\n",
    "        return 'MAM'  # March, April, May (Spring)\n",
    "    elif month in [6, 7, 8]:\n",
    "        return 'JJA'  # June, July, August (Summer)\n",
    "    else:\n",
    "        return 'SON'  # September, October, November (Autumn)\n",
    "\n",
    "\n",
    "\n",
    "\n",
    "\n",
    "def prepare_dfcount_for_plot(dfcount):\n",
    "    melted = pd.melt(dfcount, id_vars=['D', 'D_year', 'D_month'], var_name='elevation', value_name='dfs_count')\n",
    "    melted['elevation'] = melted['elevation'].str.split('.').str[0].astype(float)\n",
    "    melted['elevation_bin'] = melted.apply(functions.bin_elevation500, axis=1)\n",
    "    melted = melted.sort_values('elevation_bin')\n",
    "    # melted = melted.dropna(subset=['dfs_count'])\n",
    "    return melted \n",
    "\n",
    "def prepare_dfcount_for_heatmap(dfcount, temporal_col):\n",
    "    melted = pd.melt(dfcount, id_vars=['D', 'D_year', 'D_month'], var_name='elevation', value_name='dfs_count')\n",
    "    melted['elevation'] = melted['elevation'].str.split('.').str[0].astype(float)\n",
    "    melted['elevation_bin'] = melted.apply(functions.bin_elevation500, axis=1)\n",
    "    melted = melted.sort_values('elevation_bin')\n",
    "    melted['season'] = melted['D_month'].apply(get_season)\n",
    "    \n",
    "    melted = melted.groupby([temporal_col, 'elevation_bin'])['dfs_count'].mean().reset_index()\n",
    "    toplot = melted.pivot(index=\"elevation_bin\", columns=temporal_col, values=\"dfs_count\")\n",
    "    return toplot \n"
   ]
  },
  {
   "cell_type": "code",
   "execution_count": 5,
   "id": "9d4a9901-928d-4c9f-9c99-d666b3a2c562",
   "metadata": {},
   "outputs": [],
   "source": [
    "dfspot1 = prepare_dfcount_for_heatmap(dfspot1_df, 'season').dropna()\n",
    "dfspot2 = prepare_dfcount_for_heatmap(dfspot2_df, 'season').dropna()\n",
    "dfspot3 = prepare_dfcount_for_heatmap(dfspot3_df, 'season').dropna()\n",
    "dfspot4 = prepare_dfcount_for_heatmap(dfspot4_df, 'season').dropna()\n",
    "dfspot5 = prepare_dfcount_for_heatmap(dfspot5_df, 'season').dropna()\n",
    "\n",
    "# Compute global vmin and vmax across all datasets\n",
    "vmin = min(df.min().min() for df in [dfspot1, dfspot2, dfspot3, dfspot4, dfspot5])\n",
    "vmax = max(df.max().max() for df in [dfspot1, dfspot2, dfspot3, dfspot4, dfspot5])\n"
   ]
  },
  {
   "cell_type": "code",
   "execution_count": 6,
   "id": "2b36481a-26a2-41c6-80ab-2bf0c0ffd90b",
   "metadata": {},
   "outputs": [
    {
     "data": {
      "image/png": "[encoded data removed]",
      "text/plain": [
       "<Figure size 1440x216 with 6 Axes>"
      ]
     },
     "metadata": {
      "needs_background": "light"
     },
     "output_type": "display_data"
    }
   ],
   "source": [
    "fig = plt.figure(figsize=(20, 3), layout = 'tight')\n",
    "\n",
    "mosaic = fig.subplot_mosaic('''\n",
    "                            abcde\n",
    "                            ''')\n",
    "\n",
    "\n",
    "sns.heatmap(dfspot1, ax = mosaic['a'], cmap ='Reds', vmin=vmin, vmax=vmax, cbar = False)\n",
    "sns.heatmap(dfspot2, ax = mosaic['b'], cmap ='Reds', vmin=vmin, vmax=vmax, cbar = False)\n",
    "sns.heatmap(dfspot3, ax = mosaic['c'], cmap ='Reds', vmin=vmin, vmax=vmax, cbar = False)\n",
    "sns.heatmap(dfspot4, ax = mosaic['d'], cmap ='Reds', vmin=vmin, vmax=vmax, cbar = False)\n",
    "sns.heatmap(dfspot5, ax = mosaic['e'], cmap ='Reds', vmin=vmin, vmax=vmax, cbar = True)\n",
    "\n",
    "mosaic['b'].set_ylabel('')\n",
    "mosaic['b'].set_yticks([])\n",
    "\n",
    "mosaic['c'].set_ylabel('')\n",
    "mosaic['c'].set_yticks([])\n",
    "\n",
    "mosaic['d'].set_ylabel('')\n",
    "mosaic['d'].set_yticks([])\n",
    "mosaic['e'].set_ylabel('')\n",
    "mosaic['e'].set_yticks([])\n",
    "\n",
    "\n",
    "\n",
    "testplots = '/Users/varyabazilova/Desktop/paper2/202406_modelruns/30years/output/testplots/'\n",
    "# plt.savefig(testplots + 'dfspot_count_all_landcovers_seasons.png', dpi = 300, bbox_inches = 'tight')"
   ]
  },
  {
   "cell_type": "code",
   "execution_count": 7,
   "id": "6de2d954-1557-4226-8e9f-d1fa07b02b2e",
   "metadata": {},
   "outputs": [],
   "source": [
    "def prepare_dfcount_for_barplot(dfcount, landcover_idx):\n",
    "    melted = pd.melt(dfcount, id_vars=['D', 'D_year', 'D_month'], var_name='elevation', value_name='dfs_count')\n",
    "    melted['elevation'] = melted['elevation'].str.split('.').str[0].astype(float)\n",
    "    melted['elevation_bin'] = melted.apply(functions.bin_elevation500, axis=1)\n",
    "    melted = melted.sort_values('elevation_bin')\n",
    "    melted['season'] = melted['D_month'].apply(get_season)\n",
    "    melted['landcover'] = f'landcover {landcover_idx}'\n",
    "    return melted \n",
    "\n",
    "\n"
   ]
  },
  {
   "cell_type": "code",
   "execution_count": 8,
   "id": "8c24fb72-4acd-46c3-a0b9-d7a19d059047",
   "metadata": {},
   "outputs": [],
   "source": [
    "dfspot1 = prepare_dfcount_for_barplot(dfspot1_df, 1).fillna(0)\n",
    "dfspot2 = prepare_dfcount_for_barplot(dfspot2_df, 2).fillna(0)\n",
    "dfspot3 = prepare_dfcount_for_barplot(dfspot3_df, 3).fillna(0)\n",
    "dfspot4 = prepare_dfcount_for_barplot(dfspot4_df, 4).fillna(0)\n",
    "dfspot5 = prepare_dfcount_for_barplot(dfspot5_df, 5).fillna(0)\n"
   ]
  },
  {
   "cell_type": "code",
   "execution_count": 9,
   "id": "115f8b32-a5c2-443f-a1b6-19facf474188",
   "metadata": {},
   "outputs": [],
   "source": [
    "dfspot_all = pd.concat([dfspot1, dfspot2, dfspot3, dfspot4, dfspot5],ignore_index=True)\n",
    "\n",
    "\n",
    "\n",
    "dfspot_jja = dfspot_all[dfspot_all['season'] == 'JJA']\n",
    "dfspot_mam = dfspot_all[dfspot_all['season'] == 'MAM']\n",
    "dfspot_djf = dfspot_all[dfspot_all['season'] == 'DJF']\n",
    "dfspot_son = dfspot_all[dfspot_all['season'] == 'SON']\n"
   ]
  },
  {
   "cell_type": "code",
   "execution_count": 10,
   "id": "135791c7-476f-4e25-92da-34cedf85036d",
   "metadata": {},
   "outputs": [
    {
     "data": {
      "text/plain": [
       "array(['SON', 'JJA', 'MAM', 'DJF'], dtype=object)"
      ]
     },
     "execution_count": 10,
     "metadata": {},
     "output_type": "execute_result"
    }
   ],
   "source": [
    "dfspot_all.season.unique()"
   ]
  },
  {
   "cell_type": "code",
   "execution_count": 11,
   "id": "0dde752d-3ffd-4ade-a1f6-3b58ffdad826",
   "metadata": {},
   "outputs": [],
   "source": [
    "# sns.barplot(data = dfspot_jja, x = 'landcover', y ='dfs_count')"
   ]
  },
  {
   "cell_type": "code",
   "execution_count": 12,
   "id": "dc46ec49-a213-4670-aee2-db9160f6d74f",
   "metadata": {},
   "outputs": [
    {
     "name": "stderr",
     "output_type": "stream",
     "text": [
      "/var/folders/31/xdyntby945q7564txk4rqyh40000gp/T/ipykernel_53120/2707848643.py:18: FutureWarning: \n",
      "\n",
      "Passing `palette` without assigning `hue` is deprecated and will be removed in v0.14.0. Assign the `x` variable to `hue` and set `legend=False` for the same effect.\n",
      "\n",
      "  sns.barplot(dfspot_all, x='landcover', y='dfs_count', ax=mosaic['a'], palette=color_mapping)#, ci = 'ci')\n",
      "/var/folders/31/xdyntby945q7564txk4rqyh40000gp/T/ipykernel_53120/2707848643.py:19: FutureWarning: \n",
      "\n",
      "Passing `palette` without assigning `hue` is deprecated and will be removed in v0.14.0. Assign the `x` variable to `hue` and set `legend=False` for the same effect.\n",
      "\n",
      "  sns.barplot(dfspot_djf, x='landcover', y='dfs_count', ax=mosaic['b'], palette=color_mapping)#, ci = 'ci')\n",
      "/var/folders/31/xdyntby945q7564txk4rqyh40000gp/T/ipykernel_53120/2707848643.py:20: FutureWarning: \n",
      "\n",
      "Passing `palette` without assigning `hue` is deprecated and will be removed in v0.14.0. Assign the `x` variable to `hue` and set `legend=False` for the same effect.\n",
      "\n",
      "  sns.barplot(dfspot_mam, x='landcover', y='dfs_count', ax=mosaic['c'], palette=color_mapping)#, ci = 'ci')\n",
      "/var/folders/31/xdyntby945q7564txk4rqyh40000gp/T/ipykernel_53120/2707848643.py:21: FutureWarning: \n",
      "\n",
      "Passing `palette` without assigning `hue` is deprecated and will be removed in v0.14.0. Assign the `x` variable to `hue` and set `legend=False` for the same effect.\n",
      "\n",
      "  sns.barplot(dfspot_jja, x='landcover', y='dfs_count', ax=mosaic['d'], palette=color_mapping)#, ci = 'ci')\n",
      "/var/folders/31/xdyntby945q7564txk4rqyh40000gp/T/ipykernel_53120/2707848643.py:22: FutureWarning: \n",
      "\n",
      "Passing `palette` without assigning `hue` is deprecated and will be removed in v0.14.0. Assign the `x` variable to `hue` and set `legend=False` for the same effect.\n",
      "\n",
      "  sns.barplot(dfspot_son, x='landcover', y='dfs_count', ax=mosaic['e'], palette=color_mapping)#, ci = 'ci')\n",
      "/var/folders/31/xdyntby945q7564txk4rqyh40000gp/T/ipykernel_53120/2707848643.py:34: MatplotlibDeprecationWarning: Support for passing numbers through unit converters is deprecated since 3.5 and support will be removed two minor releases later; use Axis.convert_units instead.\n",
      "  mosaic['a'].set_xticks([])\n",
      "/var/folders/31/xdyntby945q7564txk4rqyh40000gp/T/ipykernel_53120/2707848643.py:35: MatplotlibDeprecationWarning: Support for passing numbers through unit converters is deprecated since 3.5 and support will be removed two minor releases later; use Axis.convert_units instead.\n",
      "  mosaic['b'].set_xticks([])\n",
      "/var/folders/31/xdyntby945q7564txk4rqyh40000gp/T/ipykernel_53120/2707848643.py:36: MatplotlibDeprecationWarning: Support for passing numbers through unit converters is deprecated since 3.5 and support will be removed two minor releases later; use Axis.convert_units instead.\n",
      "  mosaic['c'].set_xticks([])\n",
      "/var/folders/31/xdyntby945q7564txk4rqyh40000gp/T/ipykernel_53120/2707848643.py:37: MatplotlibDeprecationWarning: Support for passing numbers through unit converters is deprecated since 3.5 and support will be removed two minor releases later; use Axis.convert_units instead.\n",
      "  mosaic['d'].set_xticks([])\n",
      "/var/folders/31/xdyntby945q7564txk4rqyh40000gp/T/ipykernel_53120/2707848643.py:38: MatplotlibDeprecationWarning: Support for passing numbers through unit converters is deprecated since 3.5 and support will be removed two minor releases later; use Axis.convert_units instead.\n",
      "  mosaic['e'].set_xticks([])\n"
     ]
    },
    {
     "data": {
      "image/png": "[encoded data removed]",
      "text/plain": [
       "<Figure size 1440x216 with 5 Axes>"
      ]
     },
     "metadata": {
      "needs_background": "light"
     },
     "output_type": "display_data"
    }
   ],
   "source": [
    "vmax = dfspot_all['dfs_count'].max()\n",
    "\n",
    "fig = plt.figure(figsize=(20, 3), layout='tight')\n",
    "mosaic = fig.subplot_mosaic('''\n",
    "                            abcde\n",
    "                            ''')\n",
    "\n",
    "# Define the color palette\n",
    "palette = sns.color_palette('Set1')\n",
    "\n",
    "# Get unique landcover types\n",
    "landcover_categories = dfspot_all['landcover'].unique()\n",
    "\n",
    "# Create a dictionary mapping landcover types to colors\n",
    "color_mapping = dict(zip(landcover_categories, palette[:len(landcover_categories)]))\n",
    "\n",
    "# Plot barplots with consistent colors\n",
    "sns.barplot(dfspot_all, x='landcover', y='dfs_count', ax=mosaic['a'], palette=color_mapping)#, ci = 'ci')\n",
    "sns.barplot(dfspot_djf, x='landcover', y='dfs_count', ax=mosaic['b'], palette=color_mapping)#, ci = 'ci')\n",
    "sns.barplot(dfspot_mam, x='landcover', y='dfs_count', ax=mosaic['c'], palette=color_mapping)#, ci = 'ci')\n",
    "sns.barplot(dfspot_jja, x='landcover', y='dfs_count', ax=mosaic['d'], palette=color_mapping)#, ci = 'ci')\n",
    "sns.barplot(dfspot_son, x='landcover', y='dfs_count', ax=mosaic['e'], palette=color_mapping)#, ci = 'ci')\n",
    "\n",
    "# Create a custom legend\n",
    "handles = [plt.Rectangle((0, 0), 1, 1, color=color_mapping[lc]) for lc in landcover_categories]\n",
    "fig.legend(handles, landcover_categories, title=\"Landcover\", loc='upper right', bbox_to_anchor=(1.01, 1))\n",
    "\n",
    "mosaic['a'].set_title('all year')\n",
    "mosaic['b'].set_title('djf')\n",
    "mosaic['c'].set_title('mam')\n",
    "mosaic['d'].set_title('jja')\n",
    "mosaic['e'].set_title('son')\n",
    "\n",
    "mosaic['a'].set_xticks([])\n",
    "mosaic['b'].set_xticks([])\n",
    "mosaic['c'].set_xticks([])\n",
    "mosaic['d'].set_xticks([])\n",
    "mosaic['e'].set_xticks([])\n",
    "\n",
    "\n",
    "\n",
    "# mosaic['b'].set_ylim([0, 8])\n",
    "# mosaic['c'].set_ylim([0, 8])\n",
    "# mosaic['d'].set_ylim([0, 8])\n",
    "# mosaic['e'].set_ylim([0, 8])\n",
    "\n",
    "testplots = '/Users/varyabazilova/Desktop/paper2/202406_modelruns/30years/output/testplots/'\n",
    "# plt.savefig(testplots + 'dfspot_count_all_landcovers_barplots.png', dpi = 300, bbox_inches = 'tight')\n"
   ]
  },
  {
   "cell_type": "markdown",
   "id": "f50fc782-2b9b-42a2-be8c-c53dae4d95f0",
   "metadata": {},
   "source": [
    "# df vs floods"
   ]
  },
  {
   "cell_type": "code",
   "execution_count": 13,
   "id": "da62f3a7-4f6e-4474-9e1c-cd2544d1d16a",
   "metadata": {},
   "outputs": [],
   "source": [
    "\n",
    "# Filter the DataFrame for the specified date range\n",
    "def prepare_dfcount_for_plot(dfcount):\n",
    "    dfcount['D'] = pd.to_datetime(dfcount['D'])\n",
    "    # dfcount = dfcount[(dfcount['D'] >= start_date) & (dfcount['D'] <= end_date)]\n",
    "\n",
    "    dfcount = dfcount.rename(columns={'D_year': 'year', 'D_month': 'month'})\n",
    "    dfcount = dfcount.drop('D', axis = 1)\n",
    "    dfcount['date_id'] = dfcount['year'].astype(str)+ \"_\" + dfcount['month'].astype(str)\n",
    "    melted = pd.melt(dfcount, id_vars=['date_id', 'year', 'month'], var_name='elevation', value_name='dfs_count')\n",
    "    \n",
    "    # melted = pd.melt(dfcount, id_vars=['date_id'], var_name='elevation', value_name='dfs_count')\n",
    "    melted['elevation'] = melted['elevation'].str.split('.').str[0].astype(float)\n",
    "    melted['elevation_bin'] = melted.apply(functions.bin_elevation500, axis=1)\n",
    "    # create unique id for elevation and month for merging\n",
    "    melted['elevation'] = melted['elevation'].astype(int)\n",
    "    melted['id'] = melted.index.astype(str)+ \"_\" + melted['elevation'].astype(str) + \"_\" + melted['year'].astype(str)+ \"_\" + melted['month'].astype(str)\n",
    "    \n",
    "    # melted = melted.sort_values('elevation_bin')\n",
    "    # melted = melted.dropna(subset=['dfs_count'])\n",
    "    return melted \n",
    "\n",
    "\n",
    "\n",
    "\n",
    "def calculate_floods(df, method):\n",
    "    # df percent \n",
    "    df[f'dfs_count_60_percent'] = (df[f'dfs_count_60percent'] *100) / df.dfspot_count\n",
    "    df[f'dfs_count_50_percent'] = (df[f'dfs_count_50percent'] *100) / df.dfspot_count\n",
    "    df[f'dfs_count_40_percent'] = (df[f'dfs_count_40percent'] *100) / df.dfspot_count\n",
    "    df[f'dfs_count_30_percent'] = (df[f'dfs_count_30percent'] *100) / df.dfspot_count\n",
    "    df[f'dfs_count_20_percent'] = (df[f'dfs_count_20percent'] *100) / df.dfspot_count\n",
    "    # ff count \n",
    "    df[f'ffs_count_60'] = df.dfspot_count - df[f'dfs_count_60percent']\n",
    "    df[f'ffs_count_50'] = df.dfspot_count - df[f'dfs_count_50percent']\n",
    "    df[f'ffs_count_40'] = df.dfspot_count - df[f'dfs_count_40percent']\n",
    "    df[f'ffs_count_30'] = df.dfspot_count - df[f'dfs_count_30percent']\n",
    "    df[f'ffs_count_20'] = df.dfspot_count - df[f'dfs_count_20percent']\n",
    "    # ff percent\n",
    "    df[f'ffs_count_60_percent'] = (df[f'ffs_count_60'] *100) / df.dfspot_count\n",
    "    df[f'ffs_count_50_percent'] = (df[f'ffs_count_50'] *100) / df.dfspot_count\n",
    "    df[f'ffs_count_40_percent'] = (df[f'ffs_count_40'] *100) / df.dfspot_count\n",
    "    df[f'ffs_count_30_percent'] = (df[f'ffs_count_30'] *100) / df.dfspot_count\n",
    "    df[f'ffs_count_20_percent'] = (df[f'ffs_count_20'] *100) / df.dfspot_count\n",
    "    return df\n",
    "\n",
    "\n",
    "\n",
    "\n",
    "\n",
    "def merge_landcover_dfs(dfs, dfspot, merge_on, dfspot_column):\n",
    "    \"\"\"\n",
    "    Merges a list of dataframes on specified columns and adds a column from a 'dfspot' dataframe.\n",
    "    \n",
    "    Parameters:\n",
    "        dfs (list of pd.DataFrame): List of dataframes to merge sequentially.\n",
    "        dfspot (pd.DataFrame): A dataframe containing a column to add after the merges.\n",
    "        merge_on (list of str): Columns to use as the merge keys.\n",
    "        dfspot_column (str): The name of the column in `dfspot` to add after merging.\n",
    "        \n",
    "    Returns:\n",
    "        pd.DataFrame: The merged dataframe with the additional column from `dfspot`.\n",
    "    \"\"\"\n",
    "    \n",
    "    # Start with the first dataframe in `dfs` and automatically get the count column\n",
    "    count_column = [col for col in dfs[0].columns if col.startswith('dfs_count')][0]\n",
    "    merged_df = dfs[0][merge_on + [count_column]]\n",
    "    \n",
    "    # Iterate over remaining dataframes and merge each sequentially\n",
    "    for df in dfs[1:]:\n",
    "        count_column = [col for col in df.columns if col.startswith('dfs_count')][0]\n",
    "        merged_df = pd.merge(merged_df, df[merge_on + [count_column]], on=merge_on)\n",
    "    \n",
    "    # Add the `dfspot_column` from `dfspot` dataframe to the merged dataframe\n",
    "    merged_df['dfspot_count'] = dfspot[dfspot_column]\n",
    "    \n",
    "    return merged_df"
   ]
  },
  {
   "cell_type": "code",
   "execution_count": 14,
   "id": "ff578a31-05ae-4919-8981-32789203b960",
   "metadata": {},
   "outputs": [],
   "source": [
    "# read one file and compare it to the DFSPOT\n",
    "\n",
    "\n",
    "# /Users/varyabazilova/Desktop/paper2/202406_modelruns/30years/2025Jan_output/SL_once/output_20percent/langtang_monthly_dfs_count_20percent_landcover1.csv"
   ]
  },
  {
   "cell_type": "code",
   "execution_count": 17,
   "id": "2a78030c-f0fa-4976-86d7-df9e643d9df8",
   "metadata": {},
   "outputs": [
    {
     "name": "stdout",
     "output_type": "stream",
     "text": [
      "Saved: langtang_df_vs_floods_once_landcover1.csv\n",
      "Saved: langtang_df_vs_floods_once_landcover2.csv\n",
      "Saved: langtang_df_vs_floods_once_landcover3.csv\n",
      "Saved: langtang_df_vs_floods_once_landcover4.csv\n",
      "Saved: langtang_df_vs_floods_once_landcover5.csv\n"
     ]
    }
   ],
   "source": [
    "import glob\n",
    "import re\n",
    "import pandas as pd\n",
    "\n",
    "method = 'once'\n",
    "base_directory = f\"/Users/varyabazilova/Desktop/paper2/202406_modelruns/30years/2025Jan_output/SL_{method}/\"\n",
    "outpath = '/Users/varyabazilova/Desktop/paper2/202406_modelruns/30years/2025Jan_output/df_vs_floods/'\n",
    "\n",
    "for landcover_idx in range(1, 6):  # Loop over landcover indices 1 to 5\n",
    "    # Find all relevant files for the current landcover index\n",
    "    file_pattern = f\"{base_directory}/output_*/langtang_monthly_dfs_count_*_landcover{landcover_idx}.csv\"\n",
    "    files = glob.glob(file_pattern)\n",
    "\n",
    "    dfs = []  # Store processed DataFrames\n",
    "\n",
    "    for file in files:\n",
    "        # Extract the percentile from the folder name\n",
    "        percentile_match = re.search(r'output_(\\d+percent)', file)\n",
    "        if percentile_match:\n",
    "            percentile = percentile_match.group(1)\n",
    "        else:\n",
    "            continue  # Skip files without a matching pattern\n",
    "\n",
    "        # Read and process the DataFrame\n",
    "        df = pd.read_csv(file, index_col=0).fillna(0)\n",
    "        df = filter_by_date(df)  # Apply filtering if needed\n",
    "        processed_df = prepare_dfcount_for_plot(df)\n",
    "        processed_df = processed_df.rename(columns={'dfs_count': f'dfs_count_{percentile}'})\n",
    "\n",
    "        dfs.append(processed_df)\n",
    "\n",
    "    if dfs:  # Only proceed if there are processed DataFrames\n",
    "        # Merge all landcover DataFrames with dfspot1\n",
    "        merge_on = ['year', 'month', 'elevation', 'elevation_bin', 'id']\n",
    "        dfspot_column = 'dfs_count'\n",
    "        test = merge_landcover_dfs(dfs, dfspot1, merge_on, dfspot_column)\n",
    "\n",
    "        # Perform flood calculations\n",
    "        test1 = calculate_floods(test, 'daily')\n",
    "\n",
    "        # Save the output\n",
    "        output_file = f\"langtang_df_vs_floods_{method}_landcover{landcover_idx}.csv\"\n",
    "        test1.to_csv(outpath + output_file)\n",
    "\n",
    "        print(f\"Saved: {output_file}\")\n"
   ]
  },
  {
   "cell_type": "markdown",
   "id": "e54ade9f-1c77-4529-8122-6cdc09539ba2",
   "metadata": {},
   "source": [
    "# plots for df vs floods - stacked barplots \n",
    "\n",
    "calculate mean per month? then make "
   ]
  },
  {
   "cell_type": "code",
   "execution_count": null,
   "id": "cbd57e82-dd09-44a1-a6b6-2cef675adf64",
   "metadata": {},
   "outputs": [],
   "source": []
  },
  {
   "cell_type": "code",
   "execution_count": null,
   "id": "1f0ba5a0-cec4-42ea-9c89-0307f8028175",
   "metadata": {},
   "outputs": [],
   "source": []
  },
  {
   "cell_type": "code",
   "execution_count": null,
   "id": "17acd88e-b7c6-4c0a-b77f-b96a6208dfbc",
   "metadata": {},
   "outputs": [],
   "source": []
  },
  {
   "cell_type": "code",
   "execution_count": null,
   "id": "8c826d1a-f3fc-4634-90d1-22a98cec476a",
   "metadata": {},
   "outputs": [],
   "source": []
  },
  {
   "cell_type": "code",
   "execution_count": null,
   "id": "71aec661-c814-43c3-9401-aacd9212fc57",
   "metadata": {},
   "outputs": [],
   "source": []
  },
  {
   "cell_type": "code",
   "execution_count": null,
   "id": "068f70b1-f316-4ae3-a114-5d61ba465bdf",
   "metadata": {},
   "outputs": [],
   "source": []
  },
  {
   "cell_type": "code",
   "execution_count": null,
   "id": "890d2983-0250-45b6-9ff7-1dd9c4842d9b",
   "metadata": {},
   "outputs": [],
   "source": [
    "# dfspot1"
   ]
  },
  {
   "cell_type": "code",
   "execution_count": null,
   "id": "ad2c9a38-6ea5-4c64-97ab-b7775823125e",
   "metadata": {},
   "outputs": [],
   "source": [
    "\n",
    "merge_on = ['year', 'month', 'elevation', 'elevation_bin', 'id']\n",
    "dfspot_column = 'dfs_count'\n",
    "\n",
    "test = merge_landcover_dfs(dfs, dfspot1, merge_on, dfspot_column)\n",
    "test"
   ]
  },
  {
   "cell_type": "code",
   "execution_count": null,
   "id": "852089f0-65df-4184-b0b5-ef0b414d0eb0",
   "metadata": {},
   "outputs": [],
   "source": [
    "test1 = calculate_floods(test, 'daily')"
   ]
  },
  {
   "cell_type": "code",
   "execution_count": null,
   "id": "b1091827-4662-4888-a2b6-5fce2786511c",
   "metadata": {},
   "outputs": [],
   "source": [
    "test1.columns"
   ]
  },
  {
   "cell_type": "code",
   "execution_count": null,
   "id": "195b4887-d5c4-4d13-b9b1-abe45f01b8bb",
   "metadata": {},
   "outputs": [],
   "source": [
    "outpath = '/Users/varyabazilova/Desktop/paper2/202406_modelruns/30years/2025Jan_output/df_vs_floods/'\n",
    "\n",
    "test1.to_csv("
   ]
  },
  {
   "cell_type": "code",
   "execution_count": null,
   "id": "63273def-aa0a-42e8-834e-94cf93f0ce2e",
   "metadata": {},
   "outputs": [],
   "source": [
    "sns.barplot(data = test1, x ='month',  y = 'dfs_count_20percent')\n",
    "sns.barplot(data = test1, x ='month',  y = 'ffs_count_20_percent')"
   ]
  },
  {
   "cell_type": "code",
   "execution_count": null,
   "id": "1607f5af-cfa3-4048-ac0e-86992e0610b1",
   "metadata": {},
   "outputs": [],
   "source": []
  }
 ],
 "metadata": {
  "kernelspec": {
   "display_name": "Python [conda env:sedcas] *",
   "language": "python",
   "name": "conda-env-sedcas-py"
  },
  "language_info": {
   "codemirror_mode": {
    "name": "ipython",
    "version": 3
   },
   "file_extension": ".py",
   "mimetype": "text/x-python",
   "name": "python",
   "nbconvert_exporter": "python",
   "pygments_lexer": "ipython3",
   "version": "3.9.7"
  }
 },
 "nbformat": 4,
 "nbformat_minor": 5
}
