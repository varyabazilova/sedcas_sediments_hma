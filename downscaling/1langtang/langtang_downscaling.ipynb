{
 "cells": [
  {
   "cell_type": "code",
   "execution_count": 1,
   "id": "221b8a8a-2c83-4630-81e5-61c6d412df80",
   "metadata": {},
   "outputs": [],
   "source": [
    "# Load libraries\n",
    "\n",
    "from TopoPyScale import topoclass as tc\n",
    "from TopoPyScale import topo_plot as plot\n",
    "import matplotlib.pyplot as plt\n",
    "\n",
    "import pprint\n",
    "\n",
    "import xarray as xr"
   ]
  },
  {
   "cell_type": "code",
   "execution_count": 2,
   "id": "f8bc999d-8eb7-4d2f-b087-6afcf8d696b2",
   "metadata": {},
   "outputs": [],
   "source": [
    "# make config file\n",
    "# load dem\n",
    "# do dem things\n",
    "# cluster\n",
    "# then use that clusters to downscale\n",
    "# map back\n"
   ]
  },
  {
   "cell_type": "code",
   "execution_count": 3,
   "id": "646f287a-1d61-4c31-9210-12067b27d49c",
   "metadata": {
    "jp-MarkdownHeadingCollapsed": true
   },
   "outputs": [
    {
     "name": "stdout",
     "output_type": "stream",
     "text": [
      "---> Output directory cleaned\n",
      "---> no FSM directory to clean\n",
      "---> no ensemble directory to clean\n",
      "\n",
      "---> DEM file found\n",
      "{'latN': 28, 'latS': 28, 'lonW': 85, 'lonE': 86}\n",
      "Project lat/lon extent:\n",
      "\n",
      "\t------------------------------\n",
      "\t|        North:28          |\n",
      "\t|West:85          East:86|\n",
      "\t|        South:28          |\n",
      "\t------------------------------\n",
      "\n",
      "\n",
      "---> Loading ERA5 surf climate forcing\n",
      "Start =  2004-Dec\n",
      "End =  2023-Dec\n",
      "ECWMF SURF data found:\n",
      "0      SURF_200412.nc\n",
      "1      SURF_200501.nc\n",
      "2      SURF_200502.nc\n",
      "3      SURF_200503.nc\n",
      "4      SURF_200504.nc\n",
      "            ...      \n",
      "224    SURF_202308.nc\n",
      "225    SURF_202309.nc\n",
      "226    SURF_202310.nc\n",
      "227    SURF_202311.nc\n",
      "228    SURF_202312.nc\n",
      "Name: target_file, Length: 229, dtype: object\n",
      "\n",
      "\n",
      "---> Loading ERA5 plev climate forcing\n",
      "Start =  2004-Dec\n",
      "End =  2023-Dec\n",
      "ECWMF PLEV data found:\n",
      "0      PLEV_200412.nc\n",
      "1      PLEV_200501.nc\n",
      "2      PLEV_200502.nc\n",
      "3      PLEV_200503.nc\n",
      "4      PLEV_200504.nc\n",
      "            ...      \n",
      "137    PLEV_201605.nc\n",
      "139    PLEV_201607.nc\n",
      "143    PLEV_201611.nc\n",
      "145    PLEV_201701.nc\n",
      "149    PLEV_201705.nc\n",
      "Name: target_file, Length: 124, dtype: object\n",
      "Downloading PLEV from ECWMF:\n",
      "51     PLEV_200903.nc\n",
      "69     PLEV_201009.nc\n",
      "80     PLEV_201108.nc\n",
      "88     PLEV_201204.nc\n",
      "100    PLEV_201304.nc\n",
      "            ...      \n",
      "224    PLEV_202308.nc\n",
      "225    PLEV_202309.nc\n",
      "226    PLEV_202310.nc\n",
      "227    PLEV_202311.nc\n",
      "228    PLEV_202312.nc\n",
      "Name: target_file, Length: 105, dtype: object\n"
     ]
    },
    {
     "name": "stderr",
     "output_type": "stream",
     "text": [
      "2024-03-22 19:18:28,619 INFO Welcome to the CDS\n",
      "2024-03-22 19:18:28,622 INFO Welcome to the CDS\n",
      "2024-03-22 19:18:28,624 INFO Sending request to https://cds.climate.copernicus.eu/api/v2/resources/reanalysis-era5-pressure-levels\n",
      "2024-03-22 19:18:28,627 INFO Welcome to the CDS\n",
      "2024-03-22 19:18:28,628 INFO Welcome to the CDS\n",
      "2024-03-22 19:18:28,628 INFO Sending request to https://cds.climate.copernicus.eu/api/v2/resources/reanalysis-era5-pressure-levels\n",
      "2024-03-22 19:18:28,637 INFO Welcome to the CDS\n",
      "2024-03-22 19:18:28,637 INFO Sending request to https://cds.climate.copernicus.eu/api/v2/resources/reanalysis-era5-pressure-levels\n",
      "2024-03-22 19:18:28,639 INFO Welcome to the CDS\n",
      "2024-03-22 19:18:28,640 INFO Welcome to the CDS\n",
      "2024-03-22 19:18:28,642 INFO Sending request to https://cds.climate.copernicus.eu/api/v2/resources/reanalysis-era5-pressure-levels\n",
      "2024-03-22 19:18:28,643 INFO Welcome to the CDS\n",
      "2024-03-22 19:18:28,645 INFO Welcome to the CDS\n",
      "2024-03-22 19:18:28,648 INFO Sending request to https://cds.climate.copernicus.eu/api/v2/resources/reanalysis-era5-pressure-levels\n",
      "2024-03-22 19:18:28,654 INFO Welcome to the CDS\n",
      "2024-03-22 19:18:28,655 INFO Welcome to the CDS\n",
      "2024-03-22 19:18:28,655 INFO Sending request to https://cds.climate.copernicus.eu/api/v2/resources/reanalysis-era5-pressure-levels\n",
      "2024-03-22 19:18:28,657 INFO Sending request to https://cds.climate.copernicus.eu/api/v2/resources/reanalysis-era5-pressure-levels\n",
      "2024-03-22 19:18:28,661 INFO Welcome to the CDS\n",
      "2024-03-22 19:18:28,662 INFO Sending request to https://cds.climate.copernicus.eu/api/v2/resources/reanalysis-era5-pressure-levels\n",
      "2024-03-22 19:18:28,663 INFO Sending request to https://cds.climate.copernicus.eu/api/v2/resources/reanalysis-era5-pressure-levels\n",
      "2024-03-22 19:18:28,664 INFO Welcome to the CDS\n",
      "2024-03-22 19:18:28,667 INFO Welcome to the CDS\n",
      "2024-03-22 19:18:28,672 INFO Welcome to the CDS\n",
      "2024-03-22 19:18:28,672 INFO Sending request to https://cds.climate.copernicus.eu/api/v2/resources/reanalysis-era5-pressure-levels\n",
      "2024-03-22 19:18:28,676 INFO Welcome to the CDS\n",
      "2024-03-22 19:18:28,677 INFO Sending request to https://cds.climate.copernicus.eu/api/v2/resources/reanalysis-era5-pressure-levels\n",
      "2024-03-22 19:18:28,680 INFO Welcome to the CDS\n",
      "2024-03-22 19:18:28,683 INFO Welcome to the CDS\n",
      "2024-03-22 19:18:28,686 INFO Sending request to https://cds.climate.copernicus.eu/api/v2/resources/reanalysis-era5-pressure-levels\n",
      "2024-03-22 19:18:28,689 INFO Welcome to the CDS\n",
      "2024-03-22 19:18:28,691 INFO Welcome to the CDS\n",
      "2024-03-22 19:18:28,694 INFO Welcome to the CDS\n",
      "2024-03-22 19:18:28,694 INFO Sending request to https://cds.climate.copernicus.eu/api/v2/resources/reanalysis-era5-pressure-levels\n",
      "2024-03-22 19:18:28,695 INFO Sending request to https://cds.climate.copernicus.eu/api/v2/resources/reanalysis-era5-pressure-levels\n",
      "2024-03-22 19:18:28,696 INFO Sending request to https://cds.climate.copernicus.eu/api/v2/resources/reanalysis-era5-pressure-levels\n",
      "2024-03-22 19:18:28,697 INFO Welcome to the CDS\n",
      "2024-03-22 19:18:28,698 INFO Sending request to https://cds.climate.copernicus.eu/api/v2/resources/reanalysis-era5-pressure-levels\n",
      "2024-03-22 19:18:28,701 INFO Sending request to https://cds.climate.copernicus.eu/api/v2/resources/reanalysis-era5-pressure-levels\n",
      "2024-03-22 19:18:28,702 INFO Sending request to https://cds.climate.copernicus.eu/api/v2/resources/reanalysis-era5-pressure-levels\n",
      "2024-03-22 19:18:28,703 INFO Welcome to the CDS\n",
      "2024-03-22 19:18:28,703 INFO Welcome to the CDS\n",
      "2024-03-22 19:18:28,705 INFO Sending request to https://cds.climate.copernicus.eu/api/v2/resources/reanalysis-era5-pressure-levels\n",
      "2024-03-22 19:18:28,706 INFO Sending request to https://cds.climate.copernicus.eu/api/v2/resources/reanalysis-era5-pressure-levels\n",
      "2024-03-22 19:18:28,707 INFO Sending request to https://cds.climate.copernicus.eu/api/v2/resources/reanalysis-era5-pressure-levels\n",
      "2024-03-22 19:18:28,707 INFO Welcome to the CDS\n",
      "2024-03-22 19:18:28,712 INFO Welcome to the CDS\n",
      "2024-03-22 19:18:28,713 INFO Sending request to https://cds.climate.copernicus.eu/api/v2/resources/reanalysis-era5-pressure-levels\n",
      "2024-03-22 19:18:28,715 INFO Welcome to the CDS\n",
      "2024-03-22 19:18:28,721 INFO Welcome to the CDS\n",
      "2024-03-22 19:18:28,722 INFO Sending request to https://cds.climate.copernicus.eu/api/v2/resources/reanalysis-era5-pressure-levels\n",
      "2024-03-22 19:18:28,723 INFO Sending request to https://cds.climate.copernicus.eu/api/v2/resources/reanalysis-era5-pressure-levels\n",
      "2024-03-22 19:18:28,724 INFO Welcome to the CDS\n",
      "2024-03-22 19:18:28,726 INFO Welcome to the CDS\n",
      "2024-03-22 19:18:28,729 INFO Sending request to https://cds.climate.copernicus.eu/api/v2/resources/reanalysis-era5-pressure-levels\n",
      "2024-03-22 19:18:28,730 INFO Sending request to https://cds.climate.copernicus.eu/api/v2/resources/reanalysis-era5-pressure-levels\n",
      "2024-03-22 19:18:28,732 INFO Sending request to https://cds.climate.copernicus.eu/api/v2/resources/reanalysis-era5-pressure-levels\n",
      "2024-03-22 19:18:28,733 INFO Sending request to https://cds.climate.copernicus.eu/api/v2/resources/reanalysis-era5-pressure-levels\n",
      "2024-03-22 19:18:28,738 INFO Sending request to https://cds.climate.copernicus.eu/api/v2/resources/reanalysis-era5-pressure-levels\n",
      "2024-03-22 19:18:28,741 INFO Sending request to https://cds.climate.copernicus.eu/api/v2/resources/reanalysis-era5-pressure-levels\n",
      "2024-03-22 19:18:28,804 INFO Request is queued\n",
      "2024-03-22 19:18:28,813 INFO Request is queued\n",
      "2024-03-22 19:18:28,828 INFO Request is queued\n",
      "2024-03-22 19:18:28,844 INFO Request is queued\n",
      "2024-03-22 19:18:28,863 INFO Request is queued\n",
      "2024-03-22 19:18:28,873 INFO Request is queued\n",
      "2024-03-22 19:18:28,885 INFO Request is queued\n",
      "2024-03-22 19:18:28,890 INFO Request is queued\n",
      "2024-03-22 19:18:28,907 INFO Request is queued\n",
      "2024-03-22 19:18:28,922 INFO Request is queued\n",
      "2024-03-22 19:18:28,947 INFO Request is queued\n",
      "2024-03-22 19:18:28,958 INFO Request is queued\n",
      "2024-03-22 19:18:28,960 INFO Request is queued\n",
      "2024-03-22 19:18:28,980 INFO Request is queued\n",
      "2024-03-22 19:18:28,995 INFO Request is queued\n",
      "2024-03-22 19:18:29,015 INFO Request is queued\n",
      "2024-03-22 19:18:29,026 INFO Request is queued\n",
      "2024-03-22 19:18:29,029 INFO Request is queued\n",
      "2024-03-22 19:18:29,033 INFO Request is queued\n",
      "2024-03-22 19:18:29,069 INFO Request is queued\n",
      "2024-03-22 19:18:29,073 INFO Request is queued\n",
      "2024-03-22 19:18:29,081 INFO Request is queued\n",
      "2024-03-22 19:18:29,093 INFO Request is queued\n",
      "2024-03-22 19:18:29,097 INFO Request is queued\n",
      "2024-03-22 19:18:29,107 INFO Request is queued\n",
      "2024-03-22 19:18:29,137 INFO Request is queued\n",
      "2024-03-22 19:18:29,491 INFO Request is queued\n",
      "2024-03-22 19:18:29,526 INFO Request is queued\n",
      "2024-03-22 19:18:29,564 INFO Request is queued\n",
      "2024-03-22 19:18:29,596 INFO Request is queued\n",
      "2024-03-22 19:40:26,176 WARNING Connection error: [('Connection aborted.', TimeoutError(60, 'Operation timed out'))]. Attempt 1 of 500.\n",
      "2024-03-22 19:40:26,179 WARNING Retrying in 120 seconds\n",
      "2024-03-22 19:40:27,264 WARNING Connection error: [('Connection aborted.', TimeoutError(60, 'Operation timed out'))]. Attempt 1 of 500.\n",
      "2024-03-22 19:40:27,266 WARNING Retrying in 120 seconds\n",
      "2024-03-22 19:40:29,307 WARNING Connection error: [('Connection aborted.', TimeoutError(60, 'Operation timed out'))]. Attempt 1 of 500.\n",
      "2024-03-22 19:40:29,310 WARNING Retrying in 120 seconds\n",
      "2024-03-22 19:40:30,333 WARNING Connection error: [('Connection aborted.', TimeoutError(60, 'Operation timed out'))]. Attempt 1 of 500.\n",
      "2024-03-22 19:40:30,335 WARNING Retrying in 120 seconds\n",
      "2024-03-22 19:40:30,431 WARNING Connection error: [('Connection aborted.', TimeoutError(60, 'Operation timed out'))]. Attempt 1 of 500.\n",
      "2024-03-22 19:40:30,434 WARNING Retrying in 120 seconds\n",
      "2024-03-22 19:40:30,958 WARNING Connection error: [('Connection aborted.', TimeoutError(60, 'Operation timed out'))]. Attempt 1 of 500.\n",
      "2024-03-22 19:40:30,960 WARNING Retrying in 120 seconds\n",
      "2024-03-22 19:40:31,350 WARNING Connection error: [('Connection aborted.', TimeoutError(60, 'Operation timed out'))]. Attempt 1 of 500.\n",
      "2024-03-22 19:40:31,352 WARNING Retrying in 120 seconds\n",
      "2024-03-22 19:40:33,068 WARNING Connection error: [('Connection aborted.', TimeoutError(60, 'Operation timed out'))]. Attempt 1 of 500.\n",
      "2024-03-22 19:40:33,071 WARNING Retrying in 120 seconds\n",
      "2024-03-22 19:40:34,607 WARNING Connection error: [('Connection aborted.', TimeoutError(60, 'Operation timed out'))]. Attempt 1 of 500.\n",
      "2024-03-22 19:40:34,610 WARNING Retrying in 120 seconds\n",
      "2024-03-22 19:40:35,657 WARNING Connection error: [('Connection aborted.', TimeoutError(60, 'Operation timed out'))]. Attempt 1 of 500.\n",
      "2024-03-22 19:40:35,659 WARNING Retrying in 120 seconds\n",
      "2024-03-22 19:42:26,180 INFO Retrying now...\n",
      "2024-03-22 19:42:27,269 INFO Retrying now...\n",
      "2024-03-22 19:42:29,315 INFO Retrying now...\n",
      "2024-03-22 19:42:30,340 INFO Retrying now...\n",
      "2024-03-22 19:42:30,441 INFO Retrying now...\n",
      "2024-03-22 19:42:30,962 INFO Retrying now...\n",
      "2024-03-22 19:42:31,358 INFO Retrying now...\n",
      "2024-03-22 19:42:33,075 INFO Retrying now...\n",
      "2024-03-22 19:42:34,611 INFO Retrying now...\n",
      "2024-03-22 19:42:35,659 INFO Retrying now...\n",
      "2024-03-22 20:00:22,977 WARNING Connection error: [('Connection aborted.', TimeoutError(60, 'Operation timed out'))]. Attempt 1 of 500.\n",
      "2024-03-22 20:00:22,982 WARNING Retrying in 120 seconds\n",
      "2024-03-22 20:00:30,068 WARNING Connection error: [('Connection aborted.', TimeoutError(60, 'Operation timed out'))]. Attempt 1 of 500.\n",
      "2024-03-22 20:00:30,070 WARNING Retrying in 120 seconds\n",
      "2024-03-22 20:00:37,353 WARNING Connection error: [('Connection aborted.', TimeoutError(60, 'Operation timed out'))]. Attempt 1 of 500.\n",
      "2024-03-22 20:00:37,354 WARNING Retrying in 120 seconds\n",
      "2024-03-22 20:00:37,862 WARNING Connection error: [('Connection aborted.', TimeoutError(60, 'Operation timed out'))]. Attempt 1 of 500.\n",
      "2024-03-22 20:00:37,864 WARNING Retrying in 120 seconds\n",
      "2024-03-22 20:00:39,396 WARNING Connection error: [('Connection aborted.', TimeoutError(60, 'Operation timed out'))]. Attempt 1 of 500.\n",
      "2024-03-22 20:00:39,398 WARNING Retrying in 120 seconds\n",
      "2024-03-22 20:00:41,470 WARNING Connection error: [('Connection aborted.', TimeoutError(60, 'Operation timed out'))]. Attempt 1 of 500.\n",
      "2024-03-22 20:00:41,473 WARNING Retrying in 120 seconds\n",
      "2024-03-22 20:00:47,059 WARNING Connection error: [('Connection aborted.', TimeoutError(60, 'Operation timed out'))]. Attempt 1 of 500.\n",
      "2024-03-22 20:00:47,061 WARNING Retrying in 120 seconds\n",
      "2024-03-22 20:00:48,498 WARNING Connection error: [('Connection aborted.', TimeoutError(60, 'Operation timed out'))]. Attempt 1 of 500.\n",
      "2024-03-22 20:00:48,500 WARNING Retrying in 120 seconds\n",
      "2024-03-22 20:00:48,567 WARNING Connection error: [('Connection aborted.', TimeoutError(60, 'Operation timed out'))]. Attempt 1 of 500.\n",
      "2024-03-22 20:00:48,569 WARNING Retrying in 120 seconds\n",
      "2024-03-22 20:00:48,600 WARNING Connection error: [('Connection aborted.', TimeoutError(60, 'Operation timed out'))]. Attempt 1 of 500.\n",
      "2024-03-22 20:00:48,602 WARNING Retrying in 120 seconds\n",
      "2024-03-22 20:02:22,990 INFO Retrying now...\n",
      "2024-03-22 20:02:30,075 INFO Retrying now...\n",
      "2024-03-22 20:02:37,361 INFO Retrying now...\n",
      "2024-03-22 20:02:37,871 INFO Retrying now...\n",
      "2024-03-22 20:02:39,405 INFO Retrying now...\n",
      "2024-03-22 20:02:41,484 INFO Retrying now...\n",
      "2024-03-22 20:02:47,069 INFO Retrying now...\n",
      "2024-03-22 20:02:48,508 INFO Retrying now...\n",
      "2024-03-22 20:02:48,578 INFO Retrying now...\n",
      "2024-03-22 20:02:48,610 INFO Retrying now...\n",
      "2024-03-22 20:32:09,543 WARNING Connection error: [('Connection aborted.', TimeoutError(60, 'Operation timed out'))]. Attempt 1 of 500.\n",
      "2024-03-22 20:32:09,548 WARNING Retrying in 120 seconds\n",
      "2024-03-22 20:33:15,346 WARNING Connection error: [('Connection aborted.', TimeoutError(60, 'Operation timed out'))]. Attempt 1 of 500.\n",
      "2024-03-22 20:33:15,349 WARNING Retrying in 120 seconds\n",
      "2024-03-22 20:33:25,111 WARNING Connection error: [('Connection aborted.', TimeoutError(60, 'Operation timed out'))]. Attempt 1 of 500.\n",
      "2024-03-22 20:33:25,114 WARNING Retrying in 120 seconds\n",
      "2024-03-22 20:33:26,667 WARNING Connection error: [('Connection aborted.', TimeoutError(60, 'Operation timed out'))]. Attempt 1 of 500.\n",
      "2024-03-22 20:33:26,670 WARNING Retrying in 120 seconds\n",
      "2024-03-22 20:33:27,178 WARNING Connection error: [('Connection aborted.', TimeoutError(60, 'Operation timed out'))]. Attempt 1 of 500.\n",
      "2024-03-22 20:33:27,180 WARNING Retrying in 120 seconds\n",
      "2024-03-22 20:33:28,659 WARNING Connection error: [('Connection aborted.', TimeoutError(60, 'Operation timed out'))]. Attempt 1 of 500.\n",
      "2024-03-22 20:33:28,661 WARNING Retrying in 120 seconds\n",
      "2024-03-22 20:33:29,692 WARNING Connection error: [('Connection aborted.', TimeoutError(60, 'Operation timed out'))]. Attempt 1 of 500.\n",
      "2024-03-22 20:33:29,695 WARNING Retrying in 120 seconds\n",
      "2024-03-22 20:33:31,216 WARNING Connection error: [('Connection aborted.', TimeoutError(60, 'Operation timed out'))]. Attempt 1 of 500.\n",
      "2024-03-22 20:33:31,218 WARNING Retrying in 120 seconds\n",
      "2024-03-22 20:33:31,699 WARNING Connection error: [('Connection aborted.', TimeoutError(60, 'Operation timed out'))]. Attempt 1 of 500.\n",
      "2024-03-22 20:33:31,701 WARNING Retrying in 120 seconds\n",
      "2024-03-22 20:33:33,259 WARNING Connection error: [('Connection aborted.', TimeoutError(60, 'Operation timed out'))]. Attempt 1 of 500.\n",
      "2024-03-22 20:33:33,262 WARNING Retrying in 120 seconds\n",
      "2024-03-22 20:34:09,555 INFO Retrying now...\n",
      "2024-03-22 20:35:15,357 INFO Retrying now...\n",
      "2024-03-22 20:35:25,121 INFO Retrying now...\n",
      "2024-03-22 20:35:26,678 INFO Retrying now...\n",
      "2024-03-22 20:35:27,188 INFO Retrying now...\n",
      "2024-03-22 20:35:28,666 INFO Retrying now...\n",
      "2024-03-22 20:35:29,703 INFO Retrying now...\n",
      "2024-03-22 20:35:31,227 INFO Retrying now...\n",
      "2024-03-22 20:35:31,707 INFO Retrying now...\n",
      "2024-03-22 20:35:33,270 INFO Retrying now...\n",
      "2024-03-23 03:21:54,220 INFO Request is running\n",
      "2024-03-23 04:17:52,764 INFO Request is running\n",
      "2024-03-23 04:17:56,690 INFO Request is completed\n",
      "2024-03-23 04:17:56,693 INFO Downloading https://download-0016.copernicus-climate.eu/cache-compute-0016/cache/data6/adaptor.mars.internal-1711163695.9858246-2917-7-f1f659f1-1979-48b2-89fa-056f1e0261a0.nc to .//inputs/climate/PLEV_201508.nc (4.6M)\n",
      "2024-03-23 04:17:59,790 INFO Download rate 1.5M/s                               \n",
      "2024-03-23 04:17:59,949 INFO Welcome to the CDS\n",
      "2024-03-23 04:17:59,952 INFO Sending request to https://cds.climate.copernicus.eu/api/v2/resources/reanalysis-era5-pressure-levels\n"
     ]
    },
    {
     "name": "stdout",
     "output_type": "stream",
     "text": [
      ".//inputs/climate/PLEV_201508.nc complete\n"
     ]
    },
    {
     "name": "stderr",
     "output_type": "stream",
     "text": [
      "2024-03-23 04:18:00,086 INFO Request is queued\n",
      "2024-03-23 06:41:59,199 INFO Request is completed\n",
      "2024-03-23 06:41:59,202 INFO Downloading https://download-0005-clone.copernicus-climate.eu/cache-compute-0005/cache/data8/adaptor.mars.internal-1711172315.9702513-9748-1-b183f4ec-357f-43fa-9efa-b206db499542.nc to .//inputs/climate/PLEV_201108.nc (4.6M)\n",
      " 93%|███████████████████████████████████▏  | 4.30M/4.64M [00:02<00:00, 2.19MB/s]2024-03-23 06:42:02,086 INFO Request is running\n",
      "2024-03-23 06:42:02,234 INFO Download rate 1.5M/s                               \n",
      "2024-03-23 06:42:02,389 INFO Welcome to the CDS\n",
      "2024-03-23 06:42:02,392 INFO Sending request to https://cds.climate.copernicus.eu/api/v2/resources/reanalysis-era5-pressure-levels\n"
     ]
    },
    {
     "name": "stdout",
     "output_type": "stream",
     "text": [
      ".//inputs/climate/PLEV_201108.nc complete\n"
     ]
    },
    {
     "name": "stderr",
     "output_type": "stream",
     "text": [
      "2024-03-23 06:42:02,538 INFO Request is queued\n",
      "2024-03-23 08:38:01,873 INFO Request is running\n",
      "2024-03-23 08:38:07,409 INFO Request is completed\n",
      "2024-03-23 08:38:07,411 INFO Downloading https://download-0002-clone.copernicus-climate.eu/cache-compute-0002/cache/data4/adaptor.mars.internal-1711179249.026674-17184-7-86982d82-f064-438d-bdef-37dc869ecca0.nc to .//inputs/climate/PLEV_201704.nc (4.5M)\n",
      "2024-03-23 08:38:10,282 INFO Download rate 1.6M/s                               \n",
      "2024-03-23 08:38:10,437 INFO Welcome to the CDS\n",
      "2024-03-23 08:38:10,439 INFO Sending request to https://cds.climate.copernicus.eu/api/v2/resources/reanalysis-era5-pressure-levels\n"
     ]
    },
    {
     "name": "stdout",
     "output_type": "stream",
     "text": [
      ".//inputs/climate/PLEV_201704.nc complete\n"
     ]
    },
    {
     "name": "stderr",
     "output_type": "stream",
     "text": [
      "2024-03-23 08:38:10,588 INFO Request is queued\n",
      "2024-03-23 09:28:04,428 INFO Request is completed\n",
      "2024-03-23 09:28:04,430 INFO Downloading https://download-0008-clone.copernicus-climate.eu/cache-compute-0008/cache/data6/adaptor.mars.internal-1711182242.332053-20038-16-0562aecc-5846-46c1-a97d-5154b0355850.nc to .//inputs/climate/PLEV_201506.nc (4.5M)\n",
      " 69%|██████████████████████████▊            | 3.09M/4.49M [00:02<00:02, 726kB/s]2024-03-23 09:28:07,628 INFO Request is running\n",
      "2024-03-23 09:28:14,491 INFO Download rate 456.9K/s                             \n",
      "2024-03-23 09:28:14,635 INFO Welcome to the CDS\n",
      "2024-03-23 09:28:14,637 INFO Sending request to https://cds.climate.copernicus.eu/api/v2/resources/reanalysis-era5-pressure-levels\n",
      "2024-03-23 09:28:14,754 INFO Request is queued\n"
     ]
    },
    {
     "name": "stdout",
     "output_type": "stream",
     "text": [
      ".//inputs/climate/PLEV_201506.nc complete\n"
     ]
    },
    {
     "name": "stderr",
     "output_type": "stream",
     "text": [
      "2024-03-23 10:18:09,535 INFO Request is running\n",
      "2024-03-23 10:18:09,744 INFO Request is completed\n",
      "2024-03-23 10:18:09,746 INFO Downloading https://download-0020.copernicus-climate.eu/cache-compute-0020/cache/data9/adaptor.mars.internal-1711185303.3111563-26803-18-11010eed-aba3-47ef-974f-20f5dfeb787f.nc to .//inputs/climate/PLEV_201412.nc (4.6M)\n",
      "2024-03-23 10:18:12,647 INFO Download rate 1.6M/s                               \n",
      "2024-03-23 10:18:12,799 INFO Welcome to the CDS\n",
      "2024-03-23 10:18:12,801 INFO Sending request to https://cds.climate.copernicus.eu/api/v2/resources/reanalysis-era5-pressure-levels\n"
     ]
    },
    {
     "name": "stdout",
     "output_type": "stream",
     "text": [
      ".//inputs/climate/PLEV_201412.nc complete\n"
     ]
    },
    {
     "name": "stderr",
     "output_type": "stream",
     "text": [
      "2024-03-23 10:18:12,954 INFO Request is queued\n",
      "2024-03-23 11:00:11,480 WARNING Connection error: [('Connection aborted.', RemoteDisconnected('Remote end closed connection without response'))]. Attempt 1 of 500.\n",
      "2024-03-23 11:00:11,482 WARNING Retrying in 120 seconds\n",
      "2024-03-23 11:02:11,494 INFO Retrying now...\n",
      "2024-03-23 11:07:57,969 INFO Request is running\n",
      "2024-03-23 11:08:13,028 INFO Request is completed\n",
      "2024-03-23 11:08:13,031 INFO Downloading https://download-0001-clone.copernicus-climate.eu/cache-compute-0001/cache/data1/adaptor.mars.internal-1711188287.6426966-27265-1-60ba6318-aa4d-407a-be45-f72bcbea191f.nc to .//inputs/climate/PLEV_201505.nc (4.6M)\n",
      "2024-03-23 11:08:15,997 INFO Download rate 1.6M/s                               \n",
      "2024-03-23 11:08:16,155 INFO Welcome to the CDS\n",
      "2024-03-23 11:08:16,157 INFO Sending request to https://cds.climate.copernicus.eu/api/v2/resources/reanalysis-era5-pressure-levels\n"
     ]
    },
    {
     "name": "stdout",
     "output_type": "stream",
     "text": [
      ".//inputs/climate/PLEV_201505.nc complete\n"
     ]
    },
    {
     "name": "stderr",
     "output_type": "stream",
     "text": [
      "2024-03-23 11:08:16,308 INFO Request is queued\n",
      "2024-03-23 12:08:17,742 INFO Request is running\n",
      "2024-03-23 12:10:02,183 INFO Request is completed\n",
      "2024-03-23 12:10:02,188 INFO Downloading https://download-0018.copernicus-climate.eu/cache-compute-0018/cache/data5/adaptor.mars.internal-1711191941.1833193-32733-16-c8fc8b93-c09e-4410-a32d-67109bb347af.nc to .//inputs/climate/PLEV_201610.nc (4.6M)\n",
      "2024-03-23 12:10:05,014 INFO Download rate 1.6M/s                               \n",
      "2024-03-23 12:10:05,164 INFO Welcome to the CDS\n",
      "2024-03-23 12:10:05,166 INFO Sending request to https://cds.climate.copernicus.eu/api/v2/resources/reanalysis-era5-pressure-levels\n",
      "2024-03-23 12:10:05,274 INFO Request is queued\n"
     ]
    },
    {
     "name": "stdout",
     "output_type": "stream",
     "text": [
      ".//inputs/climate/PLEV_201610.nc complete\n"
     ]
    },
    {
     "name": "stderr",
     "output_type": "stream",
     "text": [
      "2024-03-23 13:32:20,624 INFO Request is running\n",
      "2024-03-23 13:32:22,250 INFO Request is completed\n",
      "2024-03-23 13:32:22,252 INFO Downloading https://download-0005-clone.copernicus-climate.eu/cache-compute-0005/cache/data7/adaptor.mars.internal-1711196969.9614332-28035-17-ddeafd02-019c-451f-8808-e88840fe2d74.nc to .//inputs/climate/PLEV_201204.nc (4.5M)\n",
      "2024-03-23 13:32:25,139 INFO Download rate 1.6M/s                               \n",
      "2024-03-23 13:32:25,286 INFO Welcome to the CDS\n",
      "2024-03-23 13:32:25,289 INFO Sending request to https://cds.climate.copernicus.eu/api/v2/resources/reanalysis-era5-pressure-levels\n"
     ]
    },
    {
     "name": "stdout",
     "output_type": "stream",
     "text": [
      ".//inputs/climate/PLEV_201204.nc complete\n"
     ]
    },
    {
     "name": "stderr",
     "output_type": "stream",
     "text": [
      "2024-03-23 13:32:25,432 INFO Request is queued\n",
      "2024-03-23 14:20:20,693 INFO Request is running\n",
      "2024-03-23 14:20:23,033 INFO Request is completed\n",
      "2024-03-23 14:20:23,035 INFO Downloading https://download-0017.copernicus-climate.eu/cache-compute-0017/cache/data0/adaptor.mars.internal-1711199848.7285268-17039-1-beb72b8f-a04b-49f7-8acd-5d9dc5e1194e.nc to .//inputs/climate/PLEV_201702.nc (4.2M)\n",
      "2024-03-23 14:20:26,489 INFO Download rate 1.2M/s                               \n",
      "2024-03-23 14:20:26,735 INFO Welcome to the CDS\n",
      "2024-03-23 14:20:26,738 INFO Sending request to https://cds.climate.copernicus.eu/api/v2/resources/reanalysis-era5-pressure-levels\n"
     ]
    },
    {
     "name": "stdout",
     "output_type": "stream",
     "text": [
      ".//inputs/climate/PLEV_201702.nc complete\n"
     ]
    },
    {
     "name": "stderr",
     "output_type": "stream",
     "text": [
      "2024-03-23 14:20:26,905 INFO Request is queued\n",
      "2024-03-23 14:50:22,450 INFO Request is completed\n",
      "2024-03-23 14:50:22,452 INFO Downloading https://download-0019.copernicus-climate.eu/cache-compute-0019/cache/data0/adaptor.mars.internal-1711201622.3373487-19080-4-761246cb-66a2-4de1-ae5e-ed96b6732519.nc to .//inputs/climate/PLEV_201307.nc (4.6M)\n",
      " 25%|█████████▋                             | 1.15M/4.64M [00:03<00:15, 230kB/s]2024-03-23 14:50:26,420 INFO Request is completed\n",
      "2024-03-23 14:50:26,423 INFO Downloading https://download-0011-clone.copernicus-climate.eu/cache-compute-0011/cache/data0/adaptor.mars.internal-1711038102.8795102-5839-6-420709b5-1247-48c6-a933-697aa0a7db35.nc to .//inputs/climate/PLEV_201603.nc (4.6M)\n",
      " 27%|██████████▍                            | 1.25M/4.64M [00:03<00:16, 212kB/s]\n",
      " 28%|██████████▊                            | 1.28M/4.64M [00:04<00:15, 233kB/s]\u001b[A\n",
      " 28%|███████████                            | 1.31M/4.64M [00:04<00:14, 241kB/s]\u001b[A\n",
      "  4%|█▌                                     | 184k/4.64M [00:00<00:04, 1.03MB/s]\u001b[A\n",
      "  6%|██▍                                    | 293k/4.64M [00:00<00:04, 1.07MB/s]\u001b[A\n",
      " 29%|███████████▏                           | 1.33M/4.64M [00:04<00:23, 146kB/s]\u001b[A\n",
      " 13%|█████▎                                 | 640k/4.64M [00:00<00:02, 1.49MB/s]\u001b[A\n",
      " 30%|███████████▌                           | 1.38M/4.64M [00:04<00:17, 194kB/s]\u001b[A\n",
      " 30%|███████████▉                           | 1.41M/4.64M [00:04<00:16, 210kB/s]\u001b[A\n",
      " 31%|████████████▏                          | 1.44M/4.64M [00:04<00:14, 226kB/s]\u001b[A\n",
      " 32%|████████████▍                          | 1.47M/4.64M [00:05<00:14, 236kB/s]\u001b[A\n",
      " 32%|████████████▋                          | 1.51M/4.64M [00:05<00:12, 253kB/s]\u001b[A\n",
      " 35%|█████████████▎                        | 1.62M/4.64M [00:01<00:01, 1.74MB/s]\u001b[A\n",
      " 33%|████████████▉                          | 1.54M/4.64M [00:05<00:11, 272kB/s]\u001b[A\n",
      " 34%|█████████████▎                         | 1.58M/4.64M [00:05<00:10, 303kB/s]\u001b[A\n",
      " 35%|█████████████▋                         | 1.62M/4.64M [00:05<00:09, 325kB/s]\u001b[A\n",
      " 36%|█████████████▉                         | 1.66M/4.64M [00:05<00:09, 331kB/s]\u001b[A\n",
      " 37%|██████████████▎                        | 1.70M/4.64M [00:05<00:08, 343kB/s]\u001b[A\n",
      " 38%|██████████████▋                        | 1.75M/4.64M [00:05<00:08, 356kB/s]\u001b[A\n",
      " 61%|███████████████████████▎              | 2.84M/4.64M [00:01<00:01, 1.78MB/s]\u001b[A\n",
      " 39%|███████████████▏                       | 1.80M/4.64M [00:05<00:07, 379kB/s]\u001b[A\n",
      " 40%|███████████████▌                       | 1.86M/4.64M [00:06<00:07, 395kB/s]\u001b[A\n",
      " 41%|████████████████                       | 1.91M/4.64M [00:06<00:06, 437kB/s]\u001b[A\n",
      " 42%|████████████████▍                      | 1.96M/4.64M [00:06<00:06, 432kB/s]\u001b[A\n",
      " 43%|████████████████▊                      | 2.01M/4.64M [00:06<00:06, 455kB/s]\u001b[A\n",
      " 44%|█████████████████▏                     | 2.05M/4.64M [00:06<00:06, 448kB/s]\u001b[A\n",
      " 45%|█████████████████▋                     | 2.10M/4.64M [00:06<00:05, 466kB/s]\u001b[A\n",
      " 46%|██████████████████                     | 2.15M/4.64M [00:06<00:05, 469kB/s]\u001b[A\n",
      " 47%|██████████████████▌                    | 2.20M/4.64M [00:06<00:05, 496kB/s]\u001b[A\n",
      " 49%|██████████████████▉                    | 2.26M/4.64M [00:06<00:05, 486kB/s]\u001b[A\n",
      "                                                                                \u001b[A2024-03-23 14:50:29,866 INFO Download rate 1.3M/s\n",
      " 50%|███████████████████▋                   | 2.33M/4.64M [00:07<00:04, 560kB/s]2024-03-23 14:50:30,013 INFO Welcome to the CDS\n",
      "2024-03-23 14:50:30,014 INFO Sending request to https://cds.climate.copernicus.eu/api/v2/resources/reanalysis-era5-pressure-levels\n",
      " 52%|████████████████████▏                  | 2.40M/4.64M [00:07<00:03, 603kB/s]"
     ]
    },
    {
     "name": "stdout",
     "output_type": "stream",
     "text": [
      ".//inputs/climate/PLEV_201603.nc complete\n"
     ]
    },
    {
     "name": "stderr",
     "output_type": "stream",
     "text": [
      "2024-03-23 14:50:30,156 INFO Request is queued\n",
      "2024-03-23 14:50:33,653 INFO Download rate 424K/s                               \n",
      "2024-03-23 14:50:33,728 INFO Welcome to the CDS\n",
      "2024-03-23 14:50:33,730 INFO Sending request to https://cds.climate.copernicus.eu/api/v2/resources/reanalysis-era5-pressure-levels\n"
     ]
    },
    {
     "name": "stdout",
     "output_type": "stream",
     "text": [
      ".//inputs/climate/PLEV_201307.nc complete\n"
     ]
    },
    {
     "name": "stderr",
     "output_type": "stream",
     "text": [
      "2024-03-23 14:50:33,860 INFO Request is queued\n",
      "2024-03-23 14:50:39,731 INFO Request is running\n",
      "2024-03-23 14:51:05,369 INFO Request is completed\n",
      "2024-03-23 14:51:05,371 INFO Downloading https://download-0014-clone.copernicus-climate.eu/cache-compute-0014/cache/data5/adaptor.mars.internal-1711145089.808206-14504-1-9f384a2c-884e-4c52-8761-1ddfc48a75fc.nc to .//inputs/climate/PLEV_201604.nc (4.5M)\n",
      "2024-03-23 14:51:09,483 INFO Download rate 1.1M/s                               \n",
      "2024-03-23 14:51:09,650 INFO Welcome to the CDS\n",
      "2024-03-23 14:51:09,652 INFO Sending request to https://cds.climate.copernicus.eu/api/v2/resources/reanalysis-era5-pressure-levels\n",
      "2024-03-23 14:51:09,774 INFO Request is queued\n"
     ]
    },
    {
     "name": "stdout",
     "output_type": "stream",
     "text": [
      ".//inputs/climate/PLEV_201604.nc complete\n"
     ]
    },
    {
     "name": "stderr",
     "output_type": "stream",
     "text": [
      "2024-03-23 15:34:11,367 INFO Request is running\n",
      "2024-03-23 15:34:42,160 INFO Request is completed\n",
      "2024-03-23 15:34:42,162 INFO Downloading https://download-0003-clone.copernicus-climate.eu/cache-compute-0003/cache/data1/adaptor.mars.internal-1711204274.5421443-7975-1-ab9f0bc6-0841-4a43-8627-5603b0b80bde.nc to .//inputs/climate/PLEV_201009.nc (4.5M)\n",
      "2024-03-23 15:34:45,134 INFO Download rate 1.5M/s                               \n",
      "2024-03-23 15:34:45,308 INFO Welcome to the CDS\n",
      "2024-03-23 15:34:45,311 INFO Sending request to https://cds.climate.copernicus.eu/api/v2/resources/reanalysis-era5-pressure-levels\n"
     ]
    },
    {
     "name": "stdout",
     "output_type": "stream",
     "text": [
      ".//inputs/climate/PLEV_201009.nc complete\n"
     ]
    },
    {
     "name": "stderr",
     "output_type": "stream",
     "text": [
      "2024-03-23 15:34:45,446 INFO Request is queued\n",
      "2024-03-23 16:22:13,551 INFO Request is completed\n",
      "2024-03-23 16:22:13,554 INFO Downloading https://download-0008-clone.copernicus-climate.eu/cache-compute-0008/cache/data5/adaptor.mars.internal-1711207120.9413939-7992-8-a9a1f0d2-f0eb-4305-bd34-7867d6fcec23.nc to .//inputs/climate/PLEV_201405.nc (4.6M)\n",
      "2024-03-23 16:22:16,543 INFO Download rate 1.6M/s                               \n",
      "2024-03-23 16:22:16,690 INFO Welcome to the CDS\n",
      "2024-03-23 16:22:16,693 INFO Sending request to https://cds.climate.copernicus.eu/api/v2/resources/reanalysis-era5-pressure-levels\n",
      "2024-03-23 16:22:16,781 INFO Request is queued\n"
     ]
    },
    {
     "name": "stdout",
     "output_type": "stream",
     "text": [
      ".//inputs/climate/PLEV_201405.nc complete\n"
     ]
    },
    {
     "name": "stderr",
     "output_type": "stream",
     "text": [
      "2024-03-23 16:22:44,287 INFO Request is running\n",
      "2024-03-23 17:18:47,122 INFO Request is completed\n",
      "2024-03-23 17:18:47,124 INFO Downloading https://download-0011-clone.copernicus-climate.eu/cache-compute-0011/cache/data4/adaptor.mars.internal-1711210463.3367965-32074-7-fbf70f79-9c4d-4b87-9bb9-40ebe5fbe97e.nc to .//inputs/climate/PLEV_201408.nc (4.6M)\n",
      " 24%|████████▉                             | 1.10M/4.64M [00:00<00:02, 1.83MB/s]2024-03-23 17:18:48,293 INFO Request is running\n",
      "2024-03-23 17:18:50,093 INFO Download rate 1.6M/s                               \n",
      "2024-03-23 17:18:50,243 INFO Welcome to the CDS\n",
      "2024-03-23 17:18:50,245 INFO Sending request to https://cds.climate.copernicus.eu/api/v2/resources/reanalysis-era5-pressure-levels\n",
      "2024-03-23 17:18:50,366 INFO Request is queued\n"
     ]
    },
    {
     "name": "stdout",
     "output_type": "stream",
     "text": [
      ".//inputs/climate/PLEV_201408.nc complete\n"
     ]
    },
    {
     "name": "stderr",
     "output_type": "stream",
     "text": [
      "2024-03-23 17:48:18,359 INFO Request is running\n",
      "2024-03-23 17:48:49,686 INFO Request is completed\n",
      "2024-03-23 17:48:49,689 INFO Downloading https://download-0019.copernicus-climate.eu/cache-compute-0019/cache/data0/adaptor.mars.internal-1711212292.3842232-32708-14-e98bb279-acf5-43d6-b9dd-3894cc266a8b.nc to .//inputs/climate/PLEV_201304.nc (4.5M)\n",
      "2024-03-23 17:48:52,704 INFO Download rate 1.5M/s                               \n",
      "2024-03-23 17:48:52,850 INFO Welcome to the CDS\n",
      "2024-03-23 17:48:52,853 INFO Sending request to https://cds.climate.copernicus.eu/api/v2/resources/reanalysis-era5-pressure-levels\n"
     ]
    },
    {
     "name": "stdout",
     "output_type": "stream",
     "text": [
      ".//inputs/climate/PLEV_201304.nc complete\n"
     ]
    },
    {
     "name": "stderr",
     "output_type": "stream",
     "text": [
      "2024-03-23 17:48:52,990 INFO Request is queued\n",
      "2024-03-23 18:12:16,026 WARNING Connection error: [('Connection aborted.', RemoteDisconnected('Remote end closed connection without response'))]. Attempt 1 of 500.\n",
      "2024-03-23 18:12:16,028 WARNING Retrying in 120 seconds\n",
      "2024-03-23 18:14:16,040 INFO Retrying now...\n",
      "2024-03-23 18:22:18,885 INFO Request is running\n",
      "2024-03-23 18:22:19,898 INFO Request is completed\n",
      "2024-03-23 18:22:19,901 INFO Downloading https://download-0007-clone.copernicus-climate.eu/cache-compute-0007/cache/data4/adaptor.mars.internal-1711214290.3696682-27403-10-bdfee641-2599-4a02-868a-b0f745ae0824.nc to .//inputs/climate/PLEV_201708.nc (4.6M)\n",
      "2024-03-23 18:22:22,989 INFO Download rate 1.5M/s                               \n",
      "2024-03-23 18:22:23,163 INFO Welcome to the CDS\n",
      "2024-03-23 18:22:23,165 INFO Sending request to https://cds.climate.copernicus.eu/api/v2/resources/reanalysis-era5-pressure-levels\n",
      "2024-03-23 18:22:23,277 INFO Request is queued\n"
     ]
    },
    {
     "name": "stdout",
     "output_type": "stream",
     "text": [
      ".//inputs/climate/PLEV_201708.nc complete\n"
     ]
    },
    {
     "name": "stderr",
     "output_type": "stream",
     "text": [
      "2024-03-23 20:02:43,815 INFO Request is completed\n",
      "2024-03-23 20:02:43,818 INFO Downloading https://download-0003-clone.copernicus-climate.eu/cache-compute-0003/cache/data8/adaptor.mars.internal-1711220361.0273206-22665-13-053bb2d6-628e-4dec-bbca-f18a34a5f00e.nc to .//inputs/climate/PLEV_201707.nc (4.6M)\n",
      "2024-03-23 20:02:46,847 INFO Download rate 1.5M/s                               \n",
      "2024-03-23 20:02:47,001 INFO Welcome to the CDS\n",
      "2024-03-23 20:02:47,003 INFO Sending request to https://cds.climate.copernicus.eu/api/v2/resources/reanalysis-era5-pressure-levels\n"
     ]
    },
    {
     "name": "stdout",
     "output_type": "stream",
     "text": [
      ".//inputs/climate/PLEV_201707.nc complete\n"
     ]
    },
    {
     "name": "stderr",
     "output_type": "stream",
     "text": [
      "2024-03-23 20:02:47,175 INFO Request is queued\n",
      "2024-03-23 20:02:52,453 INFO Request is running\n",
      "2024-03-23 21:06:01,425 WARNING Connection error: [('Connection aborted.', ConnectionResetError(54, 'Connection reset by peer'))]. Attempt 1 of 500.\n",
      "2024-03-23 21:06:01,430 WARNING Retrying in 120 seconds\n",
      "2024-03-23 21:06:57,620 WARNING Connection error: [('Connection aborted.', TimeoutError(60, 'Operation timed out'))]. Attempt 1 of 500.\n",
      "2024-03-23 21:06:57,623 WARNING Retrying in 120 seconds\n",
      "2024-03-23 21:11:17,217 WARNING Connection error: [('Connection aborted.', TimeoutError(60, 'Operation timed out'))]. Attempt 1 of 500.\n",
      "2024-03-23 21:11:17,219 WARNING Retrying in 120 seconds\n",
      "2024-03-23 21:35:54,986 INFO Request is running\n",
      "2024-03-23 21:36:01,235 WARNING Connection error: [HTTPSConnectionPool(host='cds.climate.copernicus.eu', port=443): Read timed out. (read timeout=60)]. Attempt 1 of 500.\n",
      "2024-03-23 21:36:01,239 WARNING Retrying in 120 seconds\n",
      "2024-03-23 21:36:05,861 INFO Request is completed\n",
      "2024-03-23 21:36:05,863 INFO Downloading https://download-0020.copernicus-climate.eu/cache-compute-0020/cache/data9/adaptor.mars.internal-1711223840.9703736-30758-17-65269d4c-ebcb-40c7-bf5f-c35f32157bb8.nc to .//inputs/climate/PLEV_201612.nc (4.6M)\n",
      "2024-03-23 21:36:08,869 INFO Download rate 1.5M/s                               \n",
      "2024-03-23 21:36:09,018 INFO Welcome to the CDS\n",
      "2024-03-23 21:36:09,019 INFO Sending request to https://cds.climate.copernicus.eu/api/v2/resources/reanalysis-era5-pressure-levels\n"
     ]
    },
    {
     "name": "stdout",
     "output_type": "stream",
     "text": [
      ".//inputs/climate/PLEV_201612.nc complete\n"
     ]
    },
    {
     "name": "stderr",
     "output_type": "stream",
     "text": [
      "2024-03-23 21:36:09,178 INFO Request is queued\n",
      "2024-03-23 21:36:09,787 WARNING Connection error: [('Connection aborted.', TimeoutError(60, 'Operation timed out'))]. Attempt 1 of 500.\n",
      "2024-03-23 21:36:09,788 WARNING Retrying in 120 seconds\n",
      "2024-03-23 21:36:14,878 WARNING Connection error: [('Connection aborted.', TimeoutError(60, 'Operation timed out'))]. Attempt 1 of 500.\n",
      "2024-03-23 21:36:14,880 WARNING Retrying in 120 seconds\n",
      "2024-03-23 21:36:14,922 WARNING Connection error: [('Connection aborted.', TimeoutError(60, 'Operation timed out'))]. Attempt 1 of 500.\n",
      "2024-03-23 21:36:14,924 WARNING Retrying in 120 seconds\n",
      "2024-03-23 21:36:21,540 WARNING Connection error: [('Connection aborted.', TimeoutError(60, 'Operation timed out'))]. Attempt 1 of 500.\n",
      "2024-03-23 21:36:21,541 WARNING Retrying in 120 seconds\n",
      "2024-03-23 21:36:42,968 INFO Retrying now...\n",
      "2024-03-23 21:36:49,132 WARNING HTTP error: [502 Bad Gateway]. Attempt 1 of 500.\n",
      "2024-03-23 21:36:49,133 WARNING Retrying in 120 seconds\n",
      "2024-03-23 21:36:53,109 INFO Retrying now...\n",
      "2024-03-23 21:36:57,302 INFO Retrying now...\n",
      "2024-03-23 21:38:01,245 INFO Retrying now...\n",
      "2024-03-23 21:38:09,791 INFO Retrying now...\n",
      "2024-03-23 21:38:14,887 INFO Retrying now...\n",
      "2024-03-23 21:38:14,931 INFO Retrying now...\n",
      "2024-03-23 21:38:21,543 INFO Retrying now...\n",
      "2024-03-23 21:38:49,138 INFO Retrying now...\n",
      "2024-03-23 21:55:56,608 INFO Request is completed\n",
      "2024-03-23 21:55:56,611 INFO Downloading https://download-0016.copernicus-climate.eu/cache-compute-0016/cache/data9/adaptor.mars.internal-1711227204.4971073-1206-12-62d1752f-f57a-4d35-86b2-e7a77773a7fe.nc to .//inputs/climate/PLEV_201609.nc (4.5M)\n",
      "2024-03-23 21:56:00,302 INFO Download rate 1.2M/s                               \n",
      "2024-03-23 21:56:01,190 INFO Welcome to the CDS\n",
      "2024-03-23 21:56:01,191 INFO Sending request to https://cds.climate.copernicus.eu/api/v2/resources/reanalysis-era5-pressure-levels\n"
     ]
    },
    {
     "name": "stdout",
     "output_type": "stream",
     "text": [
      ".//inputs/climate/PLEV_201609.nc complete\n"
     ]
    },
    {
     "name": "stderr",
     "output_type": "stream",
     "text": [
      "2024-03-23 21:56:01,335 INFO Request is queued\n",
      "2024-03-23 21:56:14,115 INFO Request is running\n",
      "2024-03-23 22:50:22,251 INFO Request is running\n",
      "2024-03-23 22:52:18,424 INFO Request is completed\n",
      "2024-03-23 22:52:18,427 INFO Downloading https://download-0015-clone.copernicus-climate.eu/cache-compute-0015/cache/data0/adaptor.mars.internal-1711230483.390329-5157-8-859431e0-f6ba-49f7-a513-01053bbdd40e.nc to .//inputs/climate/PLEV_201402.nc (4.2M)\n",
      "2024-03-23 22:52:21,156 INFO Download rate 1.5M/s                               \n",
      "2024-03-23 22:52:21,313 INFO Welcome to the CDS\n",
      "2024-03-23 22:52:21,316 INFO Sending request to https://cds.climate.copernicus.eu/api/v2/resources/reanalysis-era5-pressure-levels\n",
      "2024-03-23 22:52:21,403 INFO Request is queued\n"
     ]
    },
    {
     "name": "stdout",
     "output_type": "stream",
     "text": [
      ".//inputs/climate/PLEV_201402.nc complete\n"
     ]
    },
    {
     "name": "stderr",
     "output_type": "stream",
     "text": [
      "2024-03-23 23:37:32,063 WARNING Connection error: [('Connection aborted.', TimeoutError(60, 'Operation timed out'))]. Attempt 1 of 500.\n",
      "2024-03-23 23:37:32,069 WARNING Retrying in 120 seconds\n",
      "2024-03-23 23:39:32,079 INFO Retrying now...\n",
      "2024-03-24 00:46:43,646 WARNING Connection error: [('Connection aborted.', TimeoutError(60, 'Operation timed out'))]. Attempt 1 of 500.\n",
      "2024-03-24 00:46:43,650 WARNING Retrying in 120 seconds\n",
      "2024-03-24 01:18:37,077 WARNING Connection error: [('Connection aborted.', TimeoutError(60, 'Operation timed out'))]. Attempt 1 of 500.\n",
      "2024-03-24 01:18:37,079 WARNING Retrying in 120 seconds\n",
      "2024-03-24 01:18:39,476 INFO Request is completed\n",
      "2024-03-24 01:18:39,478 INFO Downloading https://download-0004-clone.copernicus-climate.eu/cache-compute-0004/cache/data3/adaptor.mars.internal-1711236968.8321805-17610-1-5406b869-6f4b-4e80-affc-d69d61f017e2.nc to .//inputs/climate/PLEV_201703.nc (4.6M)\n",
      "2024-03-24 01:34:43,868 WARNING Connection error: [('Connection aborted.', TimeoutError(60, 'Operation timed out'))]. Attempt 1 of 500.\n",
      "2024-03-24 01:34:43,870 WARNING Retrying in 120 seconds\n",
      "2024-03-24 02:10:04,580 WARNING Connection error: [('Connection aborted.', TimeoutError(60, 'Operation timed out'))]. Attempt 1 of 500.\n",
      "2024-03-24 02:10:04,583 WARNING Retrying in 120 seconds\n",
      "2024-03-24 02:43:36,886 WARNING Connection error: [('Connection aborted.', TimeoutError(60, 'Operation timed out'))]. Attempt 1 of 500.\n",
      "2024-03-24 02:43:36,887 WARNING Retrying in 120 seconds\n",
      "2024-03-24 02:43:37,729 WARNING Connection error: [('Connection aborted.', TimeoutError(60, 'Operation timed out'))]. Attempt 1 of 500.\n",
      "2024-03-24 02:43:37,730 WARNING Connection error: [('Connection aborted.', TimeoutError(60, 'Operation timed out'))]. Attempt 1 of 500.\n",
      "2024-03-24 02:43:37,731 WARNING Retrying in 120 seconds\n",
      "2024-03-24 02:43:37,733 WARNING Retrying in 120 seconds\n",
      "2024-03-24 02:47:34,433 INFO Sending request to https://cds.climate.copernicus.eu/api/v2/resources/reanalysis-era5-pressure-levels\n",
      "2024-03-24 02:47:34,842 INFO Request is queued\n",
      "2024-03-24 03:20:28,715 WARNING Connection error: [('Connection aborted.', TimeoutError(60, 'Operation timed out'))]. Attempt 1 of 500.\n",
      "2024-03-24 03:20:28,716 WARNING Retrying in 120 seconds\n",
      "2024-03-24 03:20:31,005 WARNING Connection error: [('Connection aborted.', TimeoutError(60, 'Operation timed out'))]. Attempt 1 of 500.\n",
      "2024-03-24 03:20:31,007 WARNING Retrying in 120 seconds\n",
      "2024-03-24 03:52:00,480 WARNING Connection error: [('Connection aborted.', TimeoutError(60, 'Operation timed out'))]. Attempt 1 of 500.\n",
      "2024-03-24 03:52:00,483 WARNING Retrying in 120 seconds\n",
      "2024-03-24 04:07:08,606 WARNING Connection error: [('Connection aborted.', TimeoutError(60, 'Operation timed out'))]. Attempt 1 of 500.\n",
      "2024-03-24 04:07:08,608 WARNING Retrying in 120 seconds\n",
      "2024-03-24 05:27:36,327 INFO Request is completed\n",
      "2024-03-24 05:27:36,330 INFO Downloading https://download-0006-clone.copernicus-climate.eu/cache-compute-0006/cache/data5/adaptor.mars.internal-1711240394.5938537-10545-3-59cc65a9-7b7e-4fc7-a2af-e2a1dfa4c436.nc to .//inputs/climate/PLEV_201512.nc (4.6M)\n",
      "2024-03-24 05:44:21,015 INFO Welcome to the CDS                                 \n",
      "2024-03-24 05:44:21,017 INFO Sending request to https://cds.climate.copernicus.eu/api/v2/resources/reanalysis-era5-pressure-levels\n",
      "2024-03-24 05:44:21,030 INFO Request is running\n",
      "2024-03-24 05:44:21,153 INFO Request is queued\n",
      "2024-03-24 05:44:21,829 INFO Retrying now...\n",
      "2024-03-24 05:44:21,906 INFO Request is completed\n",
      "2024-03-24 05:44:21,908 INFO Downloading https://download-0012-clone.copernicus-climate.eu/cache-compute-0012/cache/data1/adaptor.mars.internal-1711245309.5970309-31350-2-309b9f9d-de22-4d27-b338-64e2e6cfbcce.nc to .//inputs/climate/PLEV_201706.nc (4.5M)\n",
      " 97%|████████████████████████████████████▋ | 4.34M/4.49M [00:02<00:00, 1.74MB/s]2024-03-24 05:54:43,944 INFO Request is completed\n",
      "2024-03-24 05:54:43,947 INFO Downloading https://download-0008-clone.copernicus-climate.eu/cache-compute-0008/cache/data0/adaptor.mars.internal-1711253060.2408056-30464-1-8c23fa49-3625-4dce-b7aa-919dd853d498.nc to .//inputs/climate/PLEV_200903.nc (4.6M)\n",
      "\n",
      "  0%|                                               | 0.00/4.64M [00:00<?, ?B/s]\u001b[A\n",
      "  1%|▎                                      | 34.0k/4.64M [00:00<00:14, 338kB/s]\u001b[A\n",
      "  4%|█▌                                     | 188k/4.64M [00:00<00:04, 1.05MB/s]\u001b[A\n",
      "  6%|██▌                                     | 300k/4.64M [00:00<00:04, 979kB/s]\u001b[A\n",
      " 98%|█████████████████████████████████████▎| 4.41M/4.49M [10:22<00:00, 1.74MB/s]\u001b[A\n",
      " 16%|██████▏                                | 751k/4.64M [00:00<00:02, 1.53MB/s]\u001b[A\n",
      " 19%|███████▍                               | 908k/4.64M [00:00<00:02, 1.54MB/s]\u001b[A\n",
      " 23%|████████▊                             | 1.07M/4.64M [00:00<00:02, 1.63MB/s]\u001b[A\n",
      " 27%|██████████▎                           | 1.26M/4.64M [00:00<00:02, 1.74MB/s]\u001b[A\n",
      " 31%|███████████▊                          | 1.44M/4.64M [00:00<00:01, 1.77MB/s]\u001b[A\n",
      " 35%|█████████████▎                        | 1.62M/4.64M [00:01<00:01, 1.81MB/s]\u001b[A\n",
      " 39%|██████████████▉                       | 1.82M/4.64M [00:01<00:01, 1.86MB/s]\u001b[A\n",
      " 43%|████████████████▎                     | 2.00M/4.64M [00:01<00:01, 1.83MB/s]\u001b[A\n",
      " 47%|█████████████████▊                    | 2.18M/4.64M [00:01<00:01, 1.85MB/s]\u001b[A\n",
      " 51%|███████████████████▍                  | 2.38M/4.64M [00:01<00:01, 1.90MB/s]\u001b[A\n",
      " 55%|█████████████████████                 | 2.57M/4.64M [00:01<00:01, 1.93MB/s]\u001b[A\n",
      " 60%|██████████████████████▋               | 2.77M/4.64M [00:01<00:00, 1.96MB/s]\u001b[A\n",
      " 64%|████████████████████████▎             | 2.96M/4.64M [00:01<00:00, 1.99MB/s]\u001b[A2024-03-24 06:09:53,328 INFO Retrying now...\n",
      "\n",
      "                                                                                \u001b[A2024-03-24 06:25:38,968 INFO Retrying now...\n",
      "2024-03-24 06:25:40,756 WARNING Connection error: [('Connection aborted.', TimeoutError(60, 'Operation timed out'))]. Attempt 1 of 500.\n",
      "2024-03-24 06:25:40,758 WARNING Retrying in 120 seconds\n"
     ]
    },
    {
     "name": "stdout",
     "output_type": "stream",
     "text": [
      "('Connection aborted.', TimeoutError(60, 'Operation timed out'))\n"
     ]
    },
    {
     "name": "stderr",
     "output_type": "stream",
     "text": [
      "2024-03-24 07:16:11,104 WARNING Connection error: [('Connection aborted.', TimeoutError(60, 'Operation timed out'))]. Attempt 1 of 500.\n",
      "2024-03-24 07:16:11,105 WARNING Retrying in 120 seconds\n",
      "2024-03-24 07:16:11,955 INFO Retrying now...\n",
      "2024-03-24 07:16:14,682 WARNING Connection error: [('Connection aborted.', TimeoutError(60, 'Operation timed out'))]. Attempt 2 of 500.\n",
      "2024-03-24 07:16:14,684 WARNING Retrying in 120 seconds\n",
      "2024-03-24 07:16:14,928 INFO Sending request to https://cds.climate.copernicus.eu/api/v2/resources/reanalysis-era5-pressure-levels\n",
      "2024-03-24 07:36:59,744 WARNING Connection error: [('Connection aborted.', TimeoutError(60, 'Operation timed out'))]. Attempt 1 of 500.\n",
      "2024-03-24 07:36:59,746 WARNING Retrying in 120 seconds\n",
      "2024-03-24 07:37:06,524 INFO Retrying now...\n",
      "2024-03-24 07:54:55,446 INFO Retrying now...\n",
      "2024-03-24 07:54:55,446 INFO Retrying now...\n",
      "2024-03-24 08:28:47,662 ERROR Download interupted: HTTPSConnectionPool(host='download-0012-clone.copernicus-climate.eu', port=443): Read timed out.\n",
      "2024-03-24 08:28:47,666 ERROR Download incomplete, downloaded 4627456 byte(s) out of 4705860\n",
      "2024-03-24 08:28:47,667 WARNING Sleeping 10 seconds\n",
      "2024-03-24 08:28:50,165 WARNING Connection error: [('Connection aborted.', TimeoutError(60, 'Operation timed out'))]. Attempt 1 of 500.\n",
      "2024-03-24 08:28:50,167 WARNING Retrying in 120 seconds\n",
      "2024-03-24 08:44:16,299 INFO Retrying now...\n",
      "2024-03-24 08:44:18,580 INFO Retrying now...\n",
      "2024-03-24 08:55:56,931 WARNING Resuming download at byte 4627456\n",
      "2024-03-24 08:55:57,473 INFO Download rate 409.4/s                              \n",
      "2024-03-24 08:55:59,143 WARNING Connection error: [('Connection aborted.', TimeoutError(60, 'Operation timed out'))]. Attempt 2 of 500.\n",
      "2024-03-24 08:55:59,145 WARNING Retrying in 120 seconds\n",
      "2024-03-24 08:55:59,354 WARNING Connection error: [('Connection aborted.', TimeoutError(60, 'Operation timed out'))]. Attempt 2 of 500.\n",
      "2024-03-24 08:55:59,355 WARNING Retrying in 120 seconds\n",
      "2024-03-24 08:55:59,853 WARNING Connection error: [('Connection aborted.', TimeoutError(60, 'Operation timed out'))]. Attempt 1 of 500.\n",
      "2024-03-24 08:55:59,854 WARNING Retrying in 120 seconds\n",
      "2024-03-24 08:56:03,596 WARNING Connection error: [('Connection aborted.', TimeoutError(60, 'Operation timed out'))]. Attempt 1 of 500.\n",
      "2024-03-24 08:56:03,598 WARNING Retrying in 120 seconds\n",
      "2024-03-24 08:56:06,396 INFO Retrying now...\n",
      "2024-03-24 09:13:08,994 INFO Retrying now...\n",
      "2024-03-24 09:13:12,865 WARNING Connection error: [('Connection aborted.', TimeoutError(60, 'Operation timed out'))]. Attempt 1 of 500.\n",
      "2024-03-24 09:13:12,867 WARNING Retrying in 120 seconds\n",
      "2024-03-24 09:31:35,911 WARNING Connection error: [HTTPSConnectionPool(host='cds.climate.copernicus.eu', port=443): Read timed out. (read timeout=60)]. Attempt 1 of 500.\n",
      "2024-03-24 09:31:35,912 WARNING Retrying in 120 seconds\n"
     ]
    },
    {
     "name": "stdout",
     "output_type": "stream",
     "text": [
      "('Connection aborted.', TimeoutError(60, 'Operation timed out'))\n",
      ".//inputs/climate/PLEV_201706.nc complete\n"
     ]
    },
    {
     "name": "stderr",
     "output_type": "stream",
     "text": [
      "2024-03-24 09:31:36,426 INFO Welcome to the CDS\n",
      "2024-03-24 09:31:36,428 INFO Sending request to https://cds.climate.copernicus.eu/api/v2/resources/reanalysis-era5-pressure-levels\n",
      "2024-03-24 09:31:36,577 INFO Request is queued\n",
      "2024-03-24 09:48:16,921 WARNING Connection error: [('Connection aborted.', TimeoutError(60, 'Operation timed out'))]. Attempt 2 of 500.\n",
      "2024-03-24 09:48:16,924 WARNING Retrying in 120 seconds\n",
      "2024-03-24 09:48:22,833 INFO Request is completed\n",
      "2024-03-24 09:48:22,835 INFO Downloading https://download-0000-clone.copernicus-climate.eu/cache-compute-0000/cache/data2/adaptor.mars.internal-1711259417.7931852-30364-3-64efa5bb-08f9-447c-8762-f326142ee255.nc to .//inputs/climate/PLEV_201608.nc (4.6M)\n",
      "2024-03-24 10:13:02,281 INFO Sending request to https://cds.climate.copernicus.eu/api/v2/resources/reanalysis-era5-pressure-levels\n",
      "2024-03-24 10:28:17,089 INFO Request is completed\n",
      "2024-03-24 10:28:17,092 INFO Downloading https://download-0017.copernicus-climate.eu/cache-compute-0017/cache/data2/adaptor.mars.internal-1711263961.266506-16065-10-b5b3c726-63ed-4fcb-8764-14b5d4fb205d.nc to .//inputs/climate/PLEV_201606.nc (4.5M)\n",
      "  4%|█▌                                      | 182k/4.49M [00:00<00:04, 989kB/s]2024-03-24 10:28:17,776 INFO Retrying now...\n",
      " 60%|██████████████████████▊               | 2.69M/4.49M [00:01<00:00, 2.15MB/s]"
     ]
    },
    {
     "name": "stdout",
     "output_type": "stream",
     "text": [
      "('Connection aborted.', TimeoutError(60, 'Operation timed out'))\n"
     ]
    },
    {
     "name": "stderr",
     "output_type": "stream",
     "text": [
      "2024-03-24 10:58:00,461 INFO Retrying now...                                    \n",
      "2024-03-24 10:58:02,697 WARNING Connection error: [('Connection aborted.', TimeoutError(60, 'Operation timed out'))]. Attempt 1 of 500.\n",
      "2024-03-24 10:58:02,699 WARNING Retrying in 120 seconds\n",
      "2024-03-24 10:58:04,037 INFO Retrying now...\n",
      "2024-03-24 11:15:32,888 INFO Retrying now...\n",
      "2024-03-24 11:15:33,869 WARNING Connection error: [('Connection aborted.', TimeoutError(60, 'Operation timed out'))]. Attempt 1 of 500.\n",
      "2024-03-24 11:15:33,871 WARNING Retrying in 120 seconds\n",
      "2024-03-24 11:15:34,831 WARNING Connection error: [('Connection aborted.', TimeoutError(60, 'Operation timed out'))]. Attempt 1 of 500.\n",
      "2024-03-24 11:15:34,833 WARNING Retrying in 120 seconds\n",
      "2024-03-24 11:15:35,433 INFO Sending request to https://cds.climate.copernicus.eu/api/v2/resources/reanalysis-era5-pressure-levels\n",
      "2024-03-24 11:15:35,804 INFO Request is queued\n",
      "2024-03-24 11:48:27,907 WARNING Connection error: [('Connection aborted.', TimeoutError(60, 'Operation timed out'))]. Attempt 1 of 500.\n",
      "2024-03-24 11:48:27,909 WARNING Retrying in 120 seconds\n",
      "2024-03-24 11:55:40,054 INFO Retrying now...\n",
      "2024-03-24 11:55:49,770 INFO Retrying now...\n",
      "2024-03-24 11:55:49,974 INFO Retrying now...\n",
      "2024-03-24 11:55:50,480 INFO Retrying now...\n",
      "2024-03-24 11:55:54,219 INFO Retrying now...\n",
      "2024-03-24 11:56:05,371 INFO Retrying now...\n",
      "2024-03-24 11:56:12,146 INFO Retrying now...\n",
      "2024-03-24 11:56:12,280 INFO Request is queued\n",
      "2024-03-24 11:56:16,097 WARNING Connection error: [HTTPSConnectionPool(host='cds.climate.copernicus.eu', port=443): Read timed out. (read timeout=60)]. Attempt 1 of 500.\n",
      "2024-03-24 11:56:16,100 WARNING Retrying in 120 seconds\n",
      "2024-03-24 11:56:17,004 WARNING Connection error: [HTTPSConnectionPool(host='cds.climate.copernicus.eu', port=443): Read timed out. (read timeout=60)]. Attempt 2 of 500.\n",
      "2024-03-24 11:56:17,007 WARNING Retrying in 120 seconds\n",
      "2024-03-24 11:56:21,955 WARNING Connection error: [HTTPSConnectionPool(host='cds.climate.copernicus.eu', port=443): Read timed out. (read timeout=60)]. Attempt 1 of 500.\n",
      "2024-03-24 11:56:21,958 WARNING Retrying in 120 seconds\n",
      "2024-03-24 11:56:27,076 INFO Retrying now...\n",
      "2024-03-24 11:56:30,524 INFO Request is running\n",
      "2024-03-24 11:56:40,065 WARNING Connection error: [HTTPSConnectionPool(host='cds.climate.copernicus.eu', port=443): Read timed out. (read timeout=60)]. Attempt 2 of 500.\n",
      "2024-03-24 11:56:40,067 WARNING Retrying in 120 seconds\n",
      "2024-03-24 11:56:43,747 WARNING Connection error: [HTTPSConnectionPool(host='cds.climate.copernicus.eu', port=443): Read timed out. (read timeout=60)]. Attempt 1 of 500.\n",
      "2024-03-24 11:56:43,750 WARNING Retrying in 120 seconds\n",
      "2024-03-24 11:57:10,317 INFO Retrying now...\n",
      "2024-03-24 11:57:10,400 INFO Request is completed\n",
      "2024-03-24 11:57:10,402 INFO Downloading https://download-0003-clone.copernicus-climate.eu/cache-compute-0003/cache/data7/adaptor.mars.internal-1711274560.2278593-963-6-f27ad471-d4ff-49fe-a720-e733a929d0db.nc to .//inputs/climate/PLEV_201311.nc (4.5M)\n",
      "2024-03-24 11:57:17,920 INFO Download rate 611.3K/s                             \n",
      "2024-03-24 11:57:17,978 INFO Retrying now...\n",
      "2024-03-24 11:57:18,066 INFO Welcome to the CDS\n",
      "2024-03-24 11:57:18,068 INFO Sending request to https://cds.climate.copernicus.eu/api/v2/resources/reanalysis-era5-pressure-levels\n",
      "2024-03-24 11:57:18,169 INFO Request is queued\n"
     ]
    },
    {
     "name": "stdout",
     "output_type": "stream",
     "text": [
      ".//inputs/climate/PLEV_201311.nc complete\n"
     ]
    },
    {
     "name": "stderr",
     "output_type": "stream",
     "text": [
      "2024-03-24 11:57:18,937 INFO Retrying now...\n",
      "2024-03-24 11:57:19,063 INFO Request is queued\n",
      "2024-03-24 11:57:30,651 INFO Retrying now...\n",
      "2024-03-24 11:58:16,108 INFO Retrying now...\n",
      "2024-03-24 11:58:17,015 INFO Retrying now...\n",
      "2024-03-24 11:58:21,966 INFO Retrying now...\n",
      "2024-03-24 11:58:40,075 INFO Retrying now...\n",
      "2024-03-24 11:58:43,758 INFO Retrying now...\n",
      "2024-03-24 12:08:45,685 INFO Request is completed\n",
      "2024-03-24 12:08:45,691 INFO Downloading https://download-0008-clone.copernicus-climate.eu/cache-compute-0008/cache/data5/adaptor.mars.internal-1711278311.0628507-19953-11-2206330b-0fbf-4b2a-ae1f-2d3d7b6bb81e.nc to .//inputs/climate/PLEV_201509.nc (4.5M)\n",
      "2024-03-24 12:08:55,961 INFO Download rate 447.5K/s                             \n",
      "2024-03-24 12:08:56,113 INFO Welcome to the CDS\n",
      "2024-03-24 12:08:56,120 INFO Sending request to https://cds.climate.copernicus.eu/api/v2/resources/reanalysis-era5-pressure-levels\n"
     ]
    },
    {
     "name": "stdout",
     "output_type": "stream",
     "text": [
      ".//inputs/climate/PLEV_201509.nc complete\n"
     ]
    },
    {
     "name": "stderr",
     "output_type": "stream",
     "text": [
      "2024-03-24 12:08:56,291 INFO Request is queued\n",
      "2024-03-24 12:09:27,278 INFO Request is running\n",
      "2024-03-24 12:52:43,738 WARNING Connection error: [('Connection aborted.', TimeoutError(60, 'Operation timed out'))]. Attempt 1 of 500.\n",
      "2024-03-24 12:52:43,743 WARNING Retrying in 120 seconds\n",
      "2024-03-24 12:53:48,204 INFO Request is running\n",
      "2024-03-24 12:54:43,753 INFO Retrying now...\n",
      "2024-03-24 12:55:09,162 INFO Request is completed\n",
      "2024-03-24 12:55:09,165 INFO Downloading https://download-0011-clone.copernicus-climate.eu/cache-compute-0011/cache/data8/adaptor.mars.internal-1711281072.1847808-14711-14-9cb92d5c-e783-4c2f-91cf-8c28573d1312.nc to .//inputs/climate/PLEV_201709.nc (4.5M)\n",
      "2024-03-24 12:55:13,198 INFO Download rate 1.1M/s                               \n",
      "2024-03-24 12:55:13,359 INFO Welcome to the CDS\n",
      "2024-03-24 12:55:13,362 INFO Sending request to https://cds.climate.copernicus.eu/api/v2/resources/reanalysis-era5-pressure-levels\n"
     ]
    },
    {
     "name": "stdout",
     "output_type": "stream",
     "text": [
      ".//inputs/climate/PLEV_201709.nc complete\n"
     ]
    },
    {
     "name": "stderr",
     "output_type": "stream",
     "text": [
      "2024-03-24 12:55:13,505 INFO Request is queued\n",
      "2024-03-24 13:37:56,299 INFO Request is running\n",
      "2024-03-24 13:38:00,126 WARNING Connection error: [('Connection aborted.', TimeoutError(60, 'Operation timed out'))]. Attempt 1 of 500.\n",
      "2024-03-24 13:38:00,128 WARNING Retrying in 120 seconds\n",
      "2024-03-24 13:38:22,807 WARNING Connection error: [('Connection aborted.', TimeoutError(60, 'Operation timed out'))]. Attempt 1 of 500.\n",
      "2024-03-24 13:38:22,810 WARNING Retrying in 120 seconds\n",
      "2024-03-24 13:38:46,243 INFO Request is completed\n",
      "2024-03-24 13:38:46,244 INFO Downloading https://download-0010-clone.copernicus-climate.eu/cache-compute-0010/cache/data2/adaptor.mars.internal-1711283500.5322955-15541-3-479d9a12-81c3-4507-a1bd-eb0e0ecb93df.nc to .//inputs/climate/PLEV_201710.nc (4.6M)\n",
      "2024-03-24 13:38:59,562 INFO Download rate 356.6K/s                             \n",
      "2024-03-24 13:39:00,162 INFO Welcome to the CDS\n",
      "2024-03-24 13:39:00,163 INFO Sending request to https://cds.climate.copernicus.eu/api/v2/resources/reanalysis-era5-pressure-levels\n",
      "2024-03-24 13:39:00,245 INFO Request is queued\n"
     ]
    },
    {
     "name": "stdout",
     "output_type": "stream",
     "text": [
      ".//inputs/climate/PLEV_201710.nc complete\n"
     ]
    },
    {
     "name": "stderr",
     "output_type": "stream",
     "text": [
      "2024-03-24 13:40:00,133 INFO Retrying now...\n",
      "2024-03-24 13:40:22,814 INFO Retrying now...\n",
      "2024-03-24 14:34:13,388 WARNING Connection error: [('Connection aborted.', TimeoutError(60, 'Operation timed out'))]. Attempt 1 of 500.\n",
      "2024-03-24 14:34:13,390 WARNING Retrying in 120 seconds\n",
      "2024-03-24 15:03:12,654 WARNING Connection error: [('Connection aborted.', TimeoutError(60, 'Operation timed out'))]. Attempt 1 of 500.\n",
      "2024-03-24 15:03:12,655 WARNING Retrying in 120 seconds\n",
      "2024-03-24 15:22:16,940 WARNING Connection error: [('Connection aborted.', ConnectionResetError(54, 'Connection reset by peer'))]. Attempt 1 of 500.\n",
      "2024-03-24 15:22:16,941 WARNING Retrying in 120 seconds\n",
      "2024-03-24 15:22:40,145 INFO Request is completed\n",
      "2024-03-24 15:22:40,149 INFO Downloading https://download-0003-clone.copernicus-climate.eu/cache-compute-0003/cache/data9/adaptor.mars.internal-1711285964.707352-25474-11-522073c0-5b08-4581-9f84-b32a7887a629.nc to .//inputs/climate/PLEV_201711.nc (4.5M)\n",
      "2024-03-24 15:22:43,048 INFO Download rate 1.5M/s                               \n",
      "2024-03-24 15:22:43,225 INFO Welcome to the CDS\n",
      "2024-03-24 15:22:43,228 INFO Sending request to https://cds.climate.copernicus.eu/api/v2/resources/reanalysis-era5-pressure-levels\n"
     ]
    },
    {
     "name": "stdout",
     "output_type": "stream",
     "text": [
      ".//inputs/climate/PLEV_201711.nc complete\n"
     ]
    },
    {
     "name": "stderr",
     "output_type": "stream",
     "text": [
      "2024-03-24 15:22:43,364 INFO Request is queued\n",
      "2024-03-24 15:22:47,543 WARNING Connection error: [('Connection aborted.', TimeoutError(60, 'Operation timed out'))]. Attempt 1 of 500.\n",
      "2024-03-24 15:22:47,546 WARNING Retrying in 120 seconds\n",
      "2024-03-24 15:23:02,919 WARNING Connection error: [HTTPSConnectionPool(host='cds.climate.copernicus.eu', port=443): Read timed out. (read timeout=60)]. Attempt 1 of 500.\n",
      "2024-03-24 15:23:02,922 WARNING Retrying in 120 seconds\n",
      "2024-03-24 15:23:43,434 INFO Request is running\n",
      "2024-03-24 15:23:52,065 INFO Retrying now...\n",
      "2024-03-24 15:24:03,136 INFO Retrying now...\n",
      "2024-03-24 15:24:16,967 INFO Retrying now...\n",
      "2024-03-24 15:24:47,557 INFO Retrying now...\n",
      "2024-03-24 15:25:02,931 INFO Retrying now...\n",
      "2024-03-24 15:51:15,544 WARNING Connection error: [('Connection aborted.', TimeoutError(60, 'Operation timed out'))]. Attempt 1 of 500.\n",
      "2024-03-24 15:51:15,550 WARNING Retrying in 120 seconds\n",
      "2024-03-24 15:57:29,387 INFO Retrying now...\n",
      "2024-03-24 15:58:01,111 WARNING Connection error: [('Connection aborted.', TimeoutError(60, 'Operation timed out'))]. Attempt 2 of 500.\n",
      "2024-03-24 15:58:01,114 WARNING Retrying in 120 seconds\n",
      "2024-03-24 16:00:01,120 INFO Retrying now...\n",
      "2024-03-24 16:23:35,454 WARNING Connection error: [('Connection aborted.', TimeoutError(60, 'Operation timed out'))]. Attempt 1 of 500.\n",
      "2024-03-24 16:23:35,456 WARNING Retrying in 120 seconds\n",
      "2024-03-24 16:25:35,462 INFO Retrying now...\n",
      "2024-03-24 16:43:21,964 WARNING Connection error: [('Connection aborted.', ConnectionResetError(54, 'Connection reset by peer'))]. Attempt 1 of 500.\n",
      "2024-03-24 16:43:21,966 WARNING Retrying in 120 seconds\n",
      "2024-03-24 16:45:21,969 INFO Retrying now...\n",
      "2024-03-24 17:33:27,732 WARNING Connection error: [('Connection aborted.', TimeoutError(60, 'Operation timed out'))]. Attempt 1 of 500.\n",
      "2024-03-24 17:33:27,735 WARNING Retrying in 120 seconds\n",
      "2024-03-24 18:14:18,282 WARNING Connection error: [('Connection aborted.', TimeoutError(60, 'Operation timed out'))]. Attempt 1 of 500.\n",
      "2024-03-24 18:14:18,284 WARNING Retrying in 120 seconds\n",
      "2024-03-24 18:15:34,678 INFO Request is running\n",
      "2024-03-24 18:15:56,465 WARNING Connection error: [('Connection aborted.', TimeoutError(60, 'Operation timed out'))]. Attempt 1 of 500.\n",
      "2024-03-24 18:15:56,467 WARNING Retrying in 120 seconds\n",
      "2024-03-24 18:16:45,355 INFO Retrying now...\n",
      "2024-03-24 18:17:07,256 INFO Retrying now...\n",
      "2024-03-24 18:17:07,332 INFO Request is completed\n",
      "2024-03-24 18:17:07,335 INFO Downloading https://download-0019.copernicus-climate.eu/cache-compute-0019/cache/data1/adaptor.mars.internal-1711297497.5947974-10197-16-cc856c32-b6cc-49a5-b180-e048f71c5f36.nc to .//inputs/climate/PLEV_201712.nc (4.6M)\n",
      "2024-03-24 18:17:10,634 INFO Download rate 1.4M/s                               \n",
      "2024-03-24 18:17:10,783 INFO Welcome to the CDS\n",
      "2024-03-24 18:17:10,785 INFO Sending request to https://cds.climate.copernicus.eu/api/v2/resources/reanalysis-era5-pressure-levels\n"
     ]
    },
    {
     "name": "stdout",
     "output_type": "stream",
     "text": [
      ".//inputs/climate/PLEV_201712.nc complete\n"
     ]
    },
    {
     "name": "stderr",
     "output_type": "stream",
     "text": [
      "2024-03-24 18:17:11,002 INFO Request is queued\n",
      "2024-03-24 18:17:56,472 INFO Retrying now...\n",
      "2024-03-24 19:07:37,378 INFO Request is completed\n",
      "2024-03-24 19:07:37,384 INFO Downloading https://download-0018.copernicus-climate.eu/cache-compute-0018/cache/data7/adaptor.mars.internal-1711303472.7690356-31204-1-fe9323e2-bd9d-43c2-83cd-820dc127ae8d.nc to .//inputs/climate/PLEV_201801.nc (4.6M)\n",
      "2024-03-24 19:07:40,716 INFO Download rate 1.4M/s                               \n"
     ]
    },
    {
     "name": "stdout",
     "output_type": "stream",
     "text": [
      ".//inputs/climate/PLEV_201801.nc complete\n"
     ]
    },
    {
     "name": "stderr",
     "output_type": "stream",
     "text": [
      "2024-03-24 19:07:42,091 INFO Welcome to the CDS\n",
      "2024-03-24 19:07:42,092 INFO Sending request to https://cds.climate.copernicus.eu/api/v2/resources/reanalysis-era5-pressure-levels\n",
      "2024-03-24 19:07:42,287 INFO Request is queued\n",
      "2024-03-24 19:08:21,449 INFO Request is running\n",
      "2024-03-24 19:41:06,453 WARNING Connection error: [HTTPSConnectionPool(host='cds.climate.copernicus.eu', port=443): Read timed out. (read timeout=60)]. Attempt 1 of 500.\n",
      "2024-03-24 19:41:06,459 WARNING Retrying in 120 seconds\n",
      "2024-03-24 19:42:48,814 INFO Request is running\n",
      "2024-03-24 19:43:06,465 INFO Retrying now...\n",
      "2024-03-24 19:43:16,537 INFO Request is completed\n",
      "2024-03-24 19:43:16,540 INFO Downloading https://download-0007-clone.copernicus-climate.eu/cache-compute-0007/cache/data9/adaptor.mars.internal-1711305605.2691083-21179-14-443c8b5a-b0ac-4035-b5e6-92992b8c843a.nc to .//inputs/climate/PLEV_201802.nc (4.2M)\n",
      "2024-03-24 19:43:19,300 INFO Download rate 1.5M/s                               \n",
      "2024-03-24 19:43:19,449 INFO Welcome to the CDS\n",
      "2024-03-24 19:43:19,451 INFO Sending request to https://cds.climate.copernicus.eu/api/v2/resources/reanalysis-era5-pressure-levels\n"
     ]
    },
    {
     "name": "stdout",
     "output_type": "stream",
     "text": [
      ".//inputs/climate/PLEV_201802.nc complete\n"
     ]
    },
    {
     "name": "stderr",
     "output_type": "stream",
     "text": [
      "2024-03-24 19:43:19,655 INFO Request is queued\n",
      "2024-03-24 20:19:45,660 WARNING Connection error: [('Connection aborted.', TimeoutError(60, 'Operation timed out'))]. Attempt 1 of 500.\n",
      "2024-03-24 20:19:45,662 WARNING Retrying in 120 seconds\n",
      "2024-03-24 20:22:16,909 WARNING Connection error: [('Connection aborted.', ConnectionResetError(54, 'Connection reset by peer'))]. Attempt 1 of 500.\n",
      "2024-03-24 20:22:16,911 WARNING Retrying in 120 seconds\n",
      "2024-03-24 20:24:15,322 INFO Retrying now...\n",
      "2024-03-24 20:24:24,783 INFO Retrying now...\n",
      "2024-03-24 20:24:55,301 WARNING Connection error: [('Connection aborted.', TimeoutError(60, 'Operation timed out'))]. Attempt 1 of 500.\n",
      "2024-03-24 20:24:55,303 WARNING Retrying in 120 seconds\n",
      "2024-03-24 20:25:09,654 WARNING Connection error: [('Connection aborted.', TimeoutError(60, 'Operation timed out'))]. Attempt 1 of 500.\n",
      "2024-03-24 20:25:09,656 WARNING Retrying in 120 seconds\n",
      "2024-03-24 20:26:55,308 INFO Retrying now...\n",
      "2024-03-24 20:27:09,664 INFO Retrying now...\n",
      "2024-03-24 21:38:04,103 INFO Request is completed\n",
      "2024-03-24 21:38:04,107 INFO Downloading https://download-0018.copernicus-climate.eu/cache-compute-0018/cache/data0/adaptor.mars.internal-1711312459.8216171-20833-14-243d30fe-3a45-4581-8814-18485a72bcd1.nc to .//inputs/climate/PLEV_201803.nc (4.6M)\n",
      "2024-03-24 21:38:09,156 INFO Download rate 940.9K/s                             \n",
      "2024-03-24 21:38:09,307 INFO Welcome to the CDS\n",
      "2024-03-24 21:38:09,310 INFO Sending request to https://cds.climate.copernicus.eu/api/v2/resources/reanalysis-era5-pressure-levels\n"
     ]
    },
    {
     "name": "stdout",
     "output_type": "stream",
     "text": [
      ".//inputs/climate/PLEV_201803.nc complete\n"
     ]
    },
    {
     "name": "stderr",
     "output_type": "stream",
     "text": [
      "2024-03-24 21:38:09,469 INFO Request is queued\n",
      "2024-03-24 21:38:19,053 INFO Request is running\n",
      "2024-03-24 23:14:20,355 INFO Request is running\n",
      "2024-03-24 23:14:23,760 INFO Request is completed\n",
      "2024-03-24 23:14:23,767 INFO Downloading https://download-0010-clone.copernicus-climate.eu/cache-compute-0010/cache/data4/adaptor.mars.internal-1711318204.3266337-26516-10-7f621ae4-ec58-4190-8a87-046dac830453.nc to .//inputs/climate/PLEV_201804.nc (4.5M)\n",
      "2024-03-24 23:14:31,704 INFO Download rate 579.2K/s                             \n"
     ]
    },
    {
     "name": "stdout",
     "output_type": "stream",
     "text": [
      ".//inputs/climate/PLEV_201804.nc complete\n"
     ]
    },
    {
     "name": "stderr",
     "output_type": "stream",
     "text": [
      "2024-03-24 23:14:32,547 INFO Welcome to the CDS\n",
      "2024-03-24 23:14:32,549 INFO Sending request to https://cds.climate.copernicus.eu/api/v2/resources/reanalysis-era5-pressure-levels\n",
      "2024-03-24 23:14:32,700 INFO Request is queued\n",
      "2024-03-25 00:43:17,810 INFO Request is running\n",
      "2024-03-25 00:44:24,415 INFO Request is completed\n",
      "2024-03-25 00:44:24,419 INFO Downloading https://download-0020.copernicus-climate.eu/cache-compute-0020/cache/data3/adaptor.mars.internal-1711323605.7415993-11556-19-86d3cd51-69ed-4a1e-8656-f142a7cf39e9.nc to .//inputs/climate/PLEV_201805.nc (4.6M)\n",
      "2024-03-25 00:44:27,729 INFO Download rate 1.4M/s                               \n",
      "2024-03-25 00:44:28,148 INFO Welcome to the CDS\n",
      "2024-03-25 00:44:28,150 INFO Sending request to https://cds.climate.copernicus.eu/api/v2/resources/reanalysis-era5-pressure-levels\n"
     ]
    },
    {
     "name": "stdout",
     "output_type": "stream",
     "text": [
      ".//inputs/climate/PLEV_201805.nc complete\n"
     ]
    },
    {
     "name": "stderr",
     "output_type": "stream",
     "text": [
      "2024-03-25 00:44:28,295 INFO Request is queued\n",
      "2024-03-25 01:24:37,999 INFO Request is running\n",
      "2024-03-25 01:25:20,357 INFO Request is completed\n",
      "2024-03-25 01:25:20,359 INFO Downloading https://download-0005-clone.copernicus-climate.eu/cache-compute-0005/cache/data8/adaptor.mars.internal-1711326064.0189302-11301-5-3f9b8ae5-22eb-4901-b2db-23c5eb8f5a06.nc to .//inputs/climate/PLEV_201806.nc (4.5M)\n",
      "2024-03-25 01:25:24,154 INFO Download rate 1.2M/s                               \n",
      "2024-03-25 01:25:24,332 INFO Welcome to the CDS\n",
      "2024-03-25 01:25:24,334 INFO Sending request to https://cds.climate.copernicus.eu/api/v2/resources/reanalysis-era5-pressure-levels\n"
     ]
    },
    {
     "name": "stdout",
     "output_type": "stream",
     "text": [
      ".//inputs/climate/PLEV_201806.nc complete\n"
     ]
    },
    {
     "name": "stderr",
     "output_type": "stream",
     "text": [
      "2024-03-25 01:25:24,469 INFO Request is queued\n",
      "2024-03-25 02:40:41,694 INFO Request is completed\n",
      "2024-03-25 02:40:41,697 INFO Downloading https://download-0008-clone.copernicus-climate.eu/cache-compute-0008/cache/data3/adaptor.mars.internal-1711330686.946031-21317-15-39403389-c667-4ae5-9842-82f011459007.nc to .//inputs/climate/PLEV_201807.nc (4.6M)\n",
      "2024-03-25 02:40:44,766 INFO Download rate 1.5M/s                               \n",
      "2024-03-25 02:40:44,917 INFO Welcome to the CDS\n",
      "2024-03-25 02:40:44,919 INFO Sending request to https://cds.climate.copernicus.eu/api/v2/resources/reanalysis-era5-pressure-levels\n",
      "2024-03-25 02:40:45,032 INFO Request is queued\n"
     ]
    },
    {
     "name": "stdout",
     "output_type": "stream",
     "text": [
      ".//inputs/climate/PLEV_201807.nc complete\n"
     ]
    },
    {
     "name": "stderr",
     "output_type": "stream",
     "text": [
      "2024-03-25 02:41:27,118 INFO Request is running\n",
      "2024-03-25 03:19:29,052 INFO Request is completed\n",
      "2024-03-25 03:19:29,055 INFO Downloading https://download-0017.copernicus-climate.eu/cache-compute-0017/cache/data5/adaptor.mars.internal-1711333008.1685407-26095-15-775fe9c9-b7d4-40d4-9e00-ea12a4d1958c.nc to .//inputs/climate/PLEV_201808.nc (4.6M)\n",
      "2024-03-25 03:19:31,970 INFO Download rate 1.6M/s                               \n",
      "2024-03-25 03:19:32,136 INFO Welcome to the CDS\n",
      "2024-03-25 03:19:32,138 INFO Sending request to https://cds.climate.copernicus.eu/api/v2/resources/reanalysis-era5-pressure-levels\n"
     ]
    },
    {
     "name": "stdout",
     "output_type": "stream",
     "text": [
      ".//inputs/climate/PLEV_201808.nc complete\n"
     ]
    },
    {
     "name": "stderr",
     "output_type": "stream",
     "text": [
      "2024-03-25 03:19:32,303 INFO Request is queued\n",
      "2024-03-25 03:21:19,165 INFO Request is running\n",
      "2024-03-25 04:19:21,739 INFO Request is completed\n",
      "2024-03-25 04:19:21,742 INFO Downloading https://download-0007-clone.copernicus-climate.eu/cache-compute-0007/cache/data5/adaptor.mars.internal-1711336602.360626-7346-4-dd5270a7-1298-4de6-a055-b8473bb08ab0.nc to .//inputs/climate/PLEV_201809.nc (4.5M)\n",
      "2024-03-25 04:19:24,810 INFO Download rate 1.5M/s                               \n",
      "2024-03-25 04:19:24,965 INFO Welcome to the CDS\n",
      "2024-03-25 04:19:24,967 INFO Sending request to https://cds.climate.copernicus.eu/api/v2/resources/reanalysis-era5-pressure-levels\n",
      "2024-03-25 04:19:25,066 INFO Request is queued\n"
     ]
    },
    {
     "name": "stdout",
     "output_type": "stream",
     "text": [
      ".//inputs/climate/PLEV_201809.nc complete\n"
     ]
    },
    {
     "name": "stderr",
     "output_type": "stream",
     "text": [
      "2024-03-25 04:20:17,015 INFO Request is running\n",
      "2024-03-25 05:36:20,496 INFO Request is completed\n",
      "2024-03-25 05:36:20,498 INFO Downloading https://download-0013-clone.copernicus-climate.eu/cache-compute-0013/cache/data2/adaptor.mars.internal-1711341143.4709094-22424-11-ea8e74df-3302-4340-b49f-72d348c340af.nc to .//inputs/climate/PLEV_201810.nc (4.6M)\n",
      "2024-03-25 05:36:23,546 INFO Download rate 1.5M/s                               \n",
      "2024-03-25 05:36:23,702 INFO Welcome to the CDS\n",
      "2024-03-25 05:36:23,704 INFO Sending request to https://cds.climate.copernicus.eu/api/v2/resources/reanalysis-era5-pressure-levels\n"
     ]
    },
    {
     "name": "stdout",
     "output_type": "stream",
     "text": [
      ".//inputs/climate/PLEV_201810.nc complete\n"
     ]
    },
    {
     "name": "stderr",
     "output_type": "stream",
     "text": [
      "2024-03-25 05:36:23,863 INFO Request is queued\n",
      "2024-03-25 05:36:44,041 INFO Request is running\n",
      "2024-03-25 10:44:00,832 WARNING Connection error: [HTTPSConnectionPool(host='cds.climate.copernicus.eu', port=443): Max retries exceeded with url: /api/v2/tasks/67535452-0809-488f-a357-413d0909e45d (Caused by NameResolutionError(\"<urllib3.connection.HTTPSConnection object at 0x19a216d30>: Failed to resolve 'cds.climate.copernicus.eu' ([Errno 8] nodename nor servname provided, or not known)\"))]. Attempt 1 of 500.\n",
      "2024-03-25 10:44:00,835 WARNING Retrying in 120 seconds\n",
      "2024-03-25 10:44:02,221 WARNING Connection error: [HTTPSConnectionPool(host='cds.climate.copernicus.eu', port=443): Max retries exceeded with url: /api/v2/tasks/1b84635e-235c-4ca2-a3b0-395581fd471c (Caused by NameResolutionError(\"<urllib3.connection.HTTPSConnection object at 0x19a24d2e0>: Failed to resolve 'cds.climate.copernicus.eu' ([Errno 8] nodename nor servname provided, or not known)\"))]. Attempt 1 of 500.\n",
      "2024-03-25 10:44:02,235 WARNING Retrying in 120 seconds\n",
      "2024-03-25 10:44:03,017 WARNING Connection error: [HTTPSConnectionPool(host='cds.climate.copernicus.eu', port=443): Max retries exceeded with url: /api/v2/tasks/62f3832c-7537-4577-937e-51b1c4067b57 (Caused by NameResolutionError(\"<urllib3.connection.HTTPSConnection object at 0x19a24db80>: Failed to resolve 'cds.climate.copernicus.eu' ([Errno 8] nodename nor servname provided, or not known)\"))]. Attempt 1 of 500.\n",
      "2024-03-25 10:44:03,020 WARNING Retrying in 120 seconds\n",
      "2024-03-25 10:46:34,714 WARNING Connection error: [HTTPSConnectionPool(host='cds.climate.copernicus.eu', port=443): Max retries exceeded with url: /api/v2/tasks/53ae6c8f-b9b9-42b8-a1bd-c57955ba335e (Caused by NameResolutionError(\"<urllib3.connection.HTTPSConnection object at 0x19a1c4430>: Failed to resolve 'cds.climate.copernicus.eu' ([Errno 8] nodename nor servname provided, or not known)\"))]. Attempt 1 of 500.\n",
      "2024-03-25 10:46:34,716 WARNING Retrying in 120 seconds\n",
      "2024-03-25 10:46:36,891 WARNING Connection error: [HTTPSConnectionPool(host='cds.climate.copernicus.eu', port=443): Max retries exceeded with url: /api/v2/tasks/6dac29c1-f41c-44b4-93dc-fa05d5df5a61 (Caused by NameResolutionError(\"<urllib3.connection.HTTPSConnection object at 0x19a1c46a0>: Failed to resolve 'cds.climate.copernicus.eu' ([Errno 8] nodename nor servname provided, or not known)\"))]. Attempt 1 of 500.\n",
      "2024-03-25 10:46:36,894 WARNING Retrying in 120 seconds\n",
      "2024-03-25 10:46:52,151 WARNING Connection error: [HTTPSConnectionPool(host='cds.climate.copernicus.eu', port=443): Max retries exceeded with url: /api/v2/tasks/b6f43985-0d53-412a-a367-c73e1f15fd27 (Caused by NameResolutionError(\"<urllib3.connection.HTTPSConnection object at 0x19a15d550>: Failed to resolve 'cds.climate.copernicus.eu' ([Errno 8] nodename nor servname provided, or not known)\"))]. Attempt 1 of 500.\n",
      "2024-03-25 10:46:52,153 WARNING Retrying in 120 seconds\n",
      "2024-03-25 10:46:54,387 WARNING Connection error: [HTTPSConnectionPool(host='cds.climate.copernicus.eu', port=443): Max retries exceeded with url: /api/v2/tasks/9cd2284f-0ee0-4b28-bbcc-c92565e716d0 (Caused by NameResolutionError(\"<urllib3.connection.HTTPSConnection object at 0x19a15dbe0>: Failed to resolve 'cds.climate.copernicus.eu' ([Errno 8] nodename nor servname provided, or not known)\"))]. Attempt 1 of 500.\n",
      "2024-03-25 10:46:54,391 WARNING Retrying in 120 seconds\n",
      "2024-03-25 10:46:55,208 WARNING Connection error: [HTTPSConnectionPool(host='cds.climate.copernicus.eu', port=443): Max retries exceeded with url: /api/v2/tasks/de0aae2a-268f-4c1c-9d30-41d55d0d0f85 (Caused by NameResolutionError(\"<urllib3.connection.HTTPSConnection object at 0x19a15dcd0>: Failed to resolve 'cds.climate.copernicus.eu' ([Errno 8] nodename nor servname provided, or not known)\"))]. Attempt 1 of 500.\n",
      "2024-03-25 10:46:55,209 WARNING Retrying in 120 seconds\n",
      "2024-03-25 10:46:56,581 WARNING Connection error: [HTTPSConnectionPool(host='cds.climate.copernicus.eu', port=443): Max retries exceeded with url: /api/v2/tasks/58f03fc6-687c-4bac-89c2-822eb8d7c389 (Caused by NameResolutionError(\"<urllib3.connection.HTTPSConnection object at 0x19a1f50d0>: Failed to resolve 'cds.climate.copernicus.eu' ([Errno 8] nodename nor servname provided, or not known)\"))]. Attempt 1 of 500.\n",
      "2024-03-25 10:46:56,583 WARNING Retrying in 120 seconds\n",
      "2024-03-25 10:46:59,714 WARNING Connection error: [('Connection aborted.', TimeoutError(60, 'Operation timed out'))]. Attempt 1 of 500.\n",
      "2024-03-25 10:46:59,716 WARNING Retrying in 120 seconds\n",
      "2024-03-25 11:04:42,254 INFO Retrying now...\n",
      "2024-03-25 11:04:43,658 INFO Retrying now...\n",
      "2024-03-25 11:04:44,439 INFO Retrying now...\n",
      "2024-03-25 11:04:49,247 INFO Retrying now...\n",
      "2024-03-25 11:04:51,430 INFO Retrying now...\n",
      "2024-03-25 11:04:58,685 INFO Retrying now...\n",
      "2024-03-25 11:05:00,927 INFO Retrying now...\n",
      "2024-03-25 11:05:01,740 INFO Retrying now...\n",
      "2024-03-25 11:05:03,116 INFO Retrying now...\n",
      "2024-03-25 11:05:06,249 INFO Retrying now...\n",
      "2024-03-25 11:15:21,297 WARNING Connection error: [('Connection aborted.', TimeoutError(60, 'Operation timed out'))]. Attempt 1 of 500.\n",
      "2024-03-25 11:15:21,323 WARNING Retrying in 120 seconds\n",
      "2024-03-25 11:17:21,334 INFO Retrying now...\n",
      "2024-03-25 11:55:18,359 INFO Request is running\n",
      "2024-03-25 11:55:49,339 INFO Request is completed\n",
      "2024-03-25 11:55:49,341 INFO Downloading https://download-0015-clone.copernicus-climate.eu/cache-compute-0015/cache/data7/adaptor.mars.internal-1711363951.7738287-32118-13-3fc8d022-5b31-4d83-9c64-27a2bcf12cc6.nc to .//inputs/climate/PLEV_201811.nc (4.5M)\n",
      "2024-03-25 11:55:53,515 INFO Download rate 1.1M/s                               \n",
      "2024-03-25 11:55:53,647 INFO Welcome to the CDS\n",
      "2024-03-25 11:55:53,648 INFO Sending request to https://cds.climate.copernicus.eu/api/v2/resources/reanalysis-era5-pressure-levels\n",
      "2024-03-25 11:55:53,761 INFO Request is queued\n"
     ]
    },
    {
     "name": "stdout",
     "output_type": "stream",
     "text": [
      ".//inputs/climate/PLEV_201811.nc complete\n"
     ]
    },
    {
     "name": "stderr",
     "output_type": "stream",
     "text": [
      "2024-03-25 12:57:13,809 INFO Request is running\n",
      "2024-03-25 12:57:27,295 WARNING Connection error: [('Connection aborted.', TimeoutError(60, 'Operation timed out'))]. Attempt 1 of 500.\n",
      "2024-03-25 12:57:27,297 WARNING Retrying in 120 seconds\n",
      "2024-03-25 12:58:00,771 INFO Request is completed\n",
      "2024-03-25 12:58:00,774 INFO Downloading https://download-0020.copernicus-climate.eu/cache-compute-0020/cache/data5/adaptor.mars.internal-1711367472.5416665-15187-13-b8c14061-8fc1-48b3-95ae-57b15f137fa6.nc to .//inputs/climate/PLEV_201812.nc (4.6M)\n",
      "2024-03-25 12:58:01,628 INFO Download rate 5.4M/s                               \n",
      "2024-03-25 12:58:01,733 INFO Welcome to the CDS\n",
      "2024-03-25 12:58:01,735 INFO Sending request to https://cds.climate.copernicus.eu/api/v2/resources/reanalysis-era5-pressure-levels\n"
     ]
    },
    {
     "name": "stdout",
     "output_type": "stream",
     "text": [
      ".//inputs/climate/PLEV_201812.nc complete\n"
     ]
    },
    {
     "name": "stderr",
     "output_type": "stream",
     "text": [
      "2024-03-25 12:58:01,904 INFO Request is queued\n",
      "2024-03-25 12:58:08,370 WARNING Connection error: [HTTPSConnectionPool(host='cds.climate.copernicus.eu', port=443): Read timed out. (read timeout=60)]. Attempt 1 of 500.\n",
      "2024-03-25 12:58:08,372 WARNING Retrying in 120 seconds\n",
      "2024-03-25 12:59:27,310 INFO Retrying now...\n",
      "2024-03-25 13:00:08,380 INFO Retrying now...\n",
      "2024-03-25 13:51:15,275 INFO Request is completed\n",
      "2024-03-25 13:51:15,290 INFO Downloading https://download-0007-clone.copernicus-climate.eu/cache-compute-0007/cache/data5/adaptor.mars.internal-1711370916.7109873-29179-12-5d254e61-2e2f-427b-bcc9-c8c5f355405b.nc to .//inputs/climate/PLEV_201901.nc (4.6M)\n",
      "2024-03-25 13:51:15,956 INFO Download rate 7M/s                                 \n",
      "2024-03-25 13:51:16,040 INFO Welcome to the CDS\n",
      "2024-03-25 13:51:16,040 INFO Sending request to https://cds.climate.copernicus.eu/api/v2/resources/reanalysis-era5-pressure-levels\n"
     ]
    },
    {
     "name": "stdout",
     "output_type": "stream",
     "text": [
      ".//inputs/climate/PLEV_201901.nc complete\n"
     ]
    },
    {
     "name": "stderr",
     "output_type": "stream",
     "text": [
      "2024-03-25 13:51:16,210 INFO Request is queued\n",
      "2024-03-25 13:52:43,417 INFO Request is running\n",
      "2024-03-25 14:48:44,839 INFO Request is completed\n",
      "2024-03-25 14:48:44,859 INFO Downloading https://download-0004-clone.copernicus-climate.eu/cache-compute-0004/cache/data3/adaptor.mars.internal-1711374281.5456197-22981-1-6ad7fea3-47f3-4603-9e1e-a25a519090a6.nc to .//inputs/climate/PLEV_201902.nc (4.2M)\n",
      "2024-03-25 14:48:45,436 INFO Download rate 7.3M/s                               \n",
      "2024-03-25 14:48:45,543 INFO Welcome to the CDS\n",
      "2024-03-25 14:48:45,543 INFO Sending request to https://cds.climate.copernicus.eu/api/v2/resources/reanalysis-era5-pressure-levels\n",
      "2024-03-25 14:48:45,590 INFO Request is queued\n"
     ]
    },
    {
     "name": "stdout",
     "output_type": "stream",
     "text": [
      ".//inputs/climate/PLEV_201902.nc complete\n"
     ]
    },
    {
     "name": "stderr",
     "output_type": "stream",
     "text": [
      "2024-03-25 14:48:57,785 INFO Request is running\n",
      "2024-03-25 15:50:59,687 INFO Request is completed\n",
      "2024-03-25 15:50:59,710 INFO Downloading https://download-0000-clone.copernicus-climate.eu/cache-compute-0000/cache/data8/adaptor.mars.internal-1711378072.9337533-6090-7-bcbdb281-d82c-4318-a9dd-e0492f49f3e2.nc to .//inputs/climate/PLEV_201903.nc (4.6M)\n",
      "2024-03-25 15:51:00,345 INFO Download rate 7.3M/s                               \n",
      "2024-03-25 15:51:00,509 INFO Welcome to the CDS\n",
      "2024-03-25 15:51:00,510 INFO Sending request to https://cds.climate.copernicus.eu/api/v2/resources/reanalysis-era5-pressure-levels\n"
     ]
    },
    {
     "name": "stdout",
     "output_type": "stream",
     "text": [
      ".//inputs/climate/PLEV_201903.nc complete\n"
     ]
    },
    {
     "name": "stderr",
     "output_type": "stream",
     "text": [
      "2024-03-25 15:51:00,633 INFO Request is queued\n",
      "2024-03-25 15:52:27,604 INFO Request is running\n",
      "2024-03-25 16:51:45,858 INFO Request is running\n",
      "2024-03-25 16:52:29,330 INFO Request is completed\n",
      "2024-03-25 16:52:29,332 INFO Downloading https://download-0017.copernicus-climate.eu/cache-compute-0017/cache/data6/adaptor.mars.internal-1711381734.9138203-18552-2-488e0fb6-12bb-4b1a-8432-8ebdd7786be3.nc to .//inputs/climate/PLEV_201904.nc (4.5M)\n",
      "2024-03-25 16:52:30,171 INFO Download rate 5.4M/s                               \n",
      "2024-03-25 16:52:30,262 INFO Welcome to the CDS\n",
      "2024-03-25 16:52:30,264 INFO Sending request to https://cds.climate.copernicus.eu/api/v2/resources/reanalysis-era5-pressure-levels\n",
      "2024-03-25 16:52:30,362 INFO Request is queued\n"
     ]
    },
    {
     "name": "stdout",
     "output_type": "stream",
     "text": [
      ".//inputs/climate/PLEV_201904.nc complete\n"
     ]
    },
    {
     "name": "stderr",
     "output_type": "stream",
     "text": [
      "2024-03-25 17:53:46,474 INFO Request is running\n",
      "2024-03-25 17:53:47,556 INFO Request is completed\n",
      "2024-03-25 17:53:47,557 INFO Downloading https://download-0009-clone.copernicus-climate.eu/cache-compute-0009/cache/data8/adaptor.mars.internal-1711385349.0074916-24680-10-62f3832c-7537-4577-937e-51b1c4067b57.nc to .//inputs/climate/PLEV_201905.nc (4.6M)\n",
      "2024-03-25 17:53:48,236 INFO Download rate 6.8M/s                               \n",
      "2024-03-25 17:53:48,323 INFO Welcome to the CDS\n",
      "2024-03-25 17:53:48,324 INFO Sending request to https://cds.climate.copernicus.eu/api/v2/resources/reanalysis-era5-pressure-levels\n",
      "2024-03-25 17:53:48,469 INFO Request is queued\n"
     ]
    },
    {
     "name": "stdout",
     "output_type": "stream",
     "text": [
      ".//inputs/climate/PLEV_201905.nc complete\n"
     ]
    },
    {
     "name": "stderr",
     "output_type": "stream",
     "text": [
      "2024-03-25 18:21:56,868 WARNING Connection error: [HTTPSConnectionPool(host='cds.climate.copernicus.eu', port=443): Max retries exceeded with url: /api/v2/tasks/02bda19e-086c-4753-9107-4af8a8eb3d44 (Caused by NameResolutionError(\"<urllib3.connection.HTTPSConnection object at 0x19a264d60>: Failed to resolve 'cds.climate.copernicus.eu' ([Errno 8] nodename nor servname provided, or not known)\"))]. Attempt 1 of 500.\n",
      "2024-03-25 18:21:56,872 WARNING Retrying in 120 seconds\n",
      "2024-03-25 18:22:00,190 WARNING Connection error: [('Connection aborted.', TimeoutError(60, 'Operation timed out'))]. Attempt 1 of 500.\n",
      "2024-03-25 18:22:00,195 WARNING Retrying in 120 seconds\n",
      "2024-03-25 18:23:38,683 WARNING Connection error: [('Connection aborted.', ConnectionResetError(54, 'Connection reset by peer'))]. Attempt 1 of 500.\n",
      "2024-03-25 18:23:38,686 WARNING Retrying in 120 seconds\n",
      "2024-03-25 18:24:40,736 WARNING Connection error: [HTTPSConnectionPool(host='cds.climate.copernicus.eu', port=443): Max retries exceeded with url: /api/v2/tasks/b6f43985-0d53-412a-a367-c73e1f15fd27 (Caused by NameResolutionError(\"<urllib3.connection.HTTPSConnection object at 0x19a24ce50>: Failed to resolve 'cds.climate.copernicus.eu' ([Errno 8] nodename nor servname provided, or not known)\"))]. Attempt 1 of 500.\n",
      "2024-03-25 18:24:40,740 WARNING Retrying in 120 seconds\n",
      "2024-03-25 18:24:41,905 WARNING Connection error: [HTTPSConnectionPool(host='cds.climate.copernicus.eu', port=443): Max retries exceeded with url: /api/v2/tasks/9cd2284f-0ee0-4b28-bbcc-c92565e716d0 (Caused by NameResolutionError(\"<urllib3.connection.HTTPSConnection object at 0x19a24c160>: Failed to resolve 'cds.climate.copernicus.eu' ([Errno 8] nodename nor servname provided, or not known)\"))]. Attempt 1 of 500.\n",
      "2024-03-25 18:24:41,908 WARNING Retrying in 120 seconds\n",
      "2024-03-25 18:26:07,137 WARNING Connection error: [HTTPSConnectionPool(host='cds.climate.copernicus.eu', port=443): Max retries exceeded with url: /api/v2/tasks/f66005c3-2fec-45f3-bff6-7a0dca14dadc (Caused by NewConnectionError(\"<urllib3.connection.HTTPSConnection object at 0x19a264310>: Failed to establish a new connection: [Errno 49] Can't assign requested address\"))]. Attempt 1 of 500.\n",
      "2024-03-25 18:26:07,139 WARNING Retrying in 120 seconds\n",
      "2024-03-25 18:26:15,329 WARNING Connection error: [HTTPSConnectionPool(host='cds.climate.copernicus.eu', port=443): Max retries exceeded with url: /api/v2/tasks/962e7433-fe62-4551-b951-69a605d37c5a (Caused by NameResolutionError(\"<urllib3.connection.HTTPSConnection object at 0x19a1fe280>: Failed to resolve 'cds.climate.copernicus.eu' ([Errno 8] nodename nor servname provided, or not known)\"))]. Attempt 1 of 500.\n",
      "2024-03-25 18:26:15,333 WARNING Retrying in 120 seconds\n",
      "2024-03-25 18:26:17,014 WARNING Connection error: [HTTPSConnectionPool(host='cds.climate.copernicus.eu', port=443): Max retries exceeded with url: /api/v2/tasks/6c6cef0b-ada9-447e-97af-a37ccd898599 (Caused by NameResolutionError(\"<urllib3.connection.HTTPSConnection object at 0x19a14b040>: Failed to resolve 'cds.climate.copernicus.eu' ([Errno 8] nodename nor servname provided, or not known)\"))]. Attempt 1 of 500.\n",
      "2024-03-25 18:26:17,017 WARNING Retrying in 120 seconds\n",
      "2024-03-25 18:26:18,294 WARNING Connection error: [HTTPSConnectionPool(host='cds.climate.copernicus.eu', port=443): Max retries exceeded with url: /api/v2/tasks/78c9a0f8-4b79-407f-a11f-52ec5781d4a2 (Caused by NameResolutionError(\"<urllib3.connection.HTTPSConnection object at 0x19a245250>: Failed to resolve 'cds.climate.copernicus.eu' ([Errno 8] nodename nor servname provided, or not known)\"))]. Attempt 1 of 500.\n",
      "2024-03-25 18:26:18,296 WARNING Retrying in 120 seconds\n",
      "2024-03-25 18:26:22,478 WARNING Connection error: [HTTPSConnectionPool(host='cds.climate.copernicus.eu', port=443): Max retries exceeded with url: /api/v2/tasks/99f8314f-b4c1-4392-b3e0-b0fe0bdc9f0e (Caused by NameResolutionError(\"<urllib3.connection.HTTPSConnection object at 0x19a245670>: Failed to resolve 'cds.climate.copernicus.eu' ([Errno 8] nodename nor servname provided, or not known)\"))]. Attempt 1 of 500.\n",
      "2024-03-25 18:26:22,480 WARNING Retrying in 120 seconds\n",
      "2024-03-25 18:26:37,494 WARNING Connection error: [HTTPSConnectionPool(host='cds.climate.copernicus.eu', port=443): Max retries exceeded with url: /api/v2/tasks/6628d9ea-a25f-49d7-bf0e-bf377b1df5d8 (Caused by NameResolutionError(\"<urllib3.connection.HTTPSConnection object at 0x19a245100>: Failed to resolve 'cds.climate.copernicus.eu' ([Errno 8] nodename nor servname provided, or not known)\"))]. Attempt 1 of 500.\n",
      "2024-03-25 18:26:37,495 WARNING Retrying in 120 seconds\n",
      "2024-03-25 18:28:36,494 INFO Retrying now...\n",
      "2024-03-25 18:28:39,820 INFO Retrying now...\n",
      "2024-03-25 18:28:40,282 WARNING Connection error: [HTTPSConnectionPool(host='cds.climate.copernicus.eu', port=443): Max retries exceeded with url: /api/v2/tasks/5cdf182f-4015-46f5-8c06-4a47def2057a (Caused by NameResolutionError(\"<urllib3.connection.HTTPSConnection object at 0x19a2591c0>: Failed to resolve 'cds.climate.copernicus.eu' ([Errno 8] nodename nor servname provided, or not known)\"))]. Attempt 1 of 500.\n",
      "2024-03-25 18:28:40,285 WARNING Retrying in 120 seconds\n",
      "2024-03-25 18:28:45,210 WARNING Connection error: [HTTPSConnectionPool(host='cds.climate.copernicus.eu', port=443): Max retries exceeded with url: /api/v2/tasks/67535452-0809-488f-a357-413d0909e45d (Caused by NameResolutionError(\"<urllib3.connection.HTTPSConnection object at 0x19a15deb0>: Failed to resolve 'cds.climate.copernicus.eu' ([Errno 8] nodename nor servname provided, or not known)\"))]. Attempt 1 of 500.\n",
      "2024-03-25 18:28:45,213 WARNING Retrying in 120 seconds\n",
      "2024-03-25 18:28:45,987 WARNING Connection error: [HTTPSConnectionPool(host='cds.climate.copernicus.eu', port=443): Max retries exceeded with url: /api/v2/tasks/1b84635e-235c-4ca2-a3b0-395581fd471c (Caused by NameResolutionError(\"<urllib3.connection.HTTPSConnection object at 0x19a15d580>: Failed to resolve 'cds.climate.copernicus.eu' ([Errno 8] nodename nor servname provided, or not known)\"))]. Attempt 1 of 500.\n",
      "2024-03-25 18:28:45,989 WARNING Retrying in 120 seconds\n",
      "2024-03-25 18:28:58,662 INFO Retrying now...\n",
      "2024-03-25 18:28:58,672 WARNING Connection error: [HTTPSConnectionPool(host='cds.climate.copernicus.eu', port=443): Max retries exceeded with url: /api/v2/tasks/53ae6c8f-b9b9-42b8-a1bd-c57955ba335e (Caused by NameResolutionError(\"<urllib3.connection.HTTPSConnection object at 0x19a223f70>: Failed to resolve 'cds.climate.copernicus.eu' ([Errno 8] nodename nor servname provided, or not known)\"))]. Attempt 2 of 500.\n",
      "2024-03-25 18:28:58,673 WARNING Retrying in 120 seconds\n",
      "2024-03-25 18:29:08,228 INFO Retrying now...\n",
      "2024-03-25 18:29:09,399 INFO Retrying now...\n",
      "2024-03-25 18:29:12,300 WARNING Connection error: [('Connection aborted.', ConnectionResetError(54, 'Connection reset by peer'))]. Attempt 2 of 500.\n",
      "2024-03-25 18:29:12,303 WARNING Retrying in 120 seconds\n",
      "2024-03-25 18:29:21,260 WARNING Connection error: [('Connection aborted.', ConnectionResetError(54, 'Connection reset by peer'))]. Attempt 2 of 500.\n",
      "2024-03-25 18:29:21,262 WARNING Retrying in 120 seconds\n",
      "2024-03-25 18:30:32,123 WARNING Connection error: [HTTPSConnectionPool(host='cds.climate.copernicus.eu', port=443): Max retries exceeded with url: /api/v2/tasks/040c726f-3cb6-4644-9045-26e3ee4a190a (Caused by NameResolutionError(\"<urllib3.connection.HTTPSConnection object at 0x19a22c970>: Failed to resolve 'cds.climate.copernicus.eu' ([Errno 8] nodename nor servname provided, or not known)\"))]. Attempt 1 of 500.\n",
      "2024-03-25 18:30:32,125 WARNING Retrying in 120 seconds\n",
      "2024-03-25 18:30:42,356 WARNING Connection error: [HTTPSConnectionPool(host='cds.climate.copernicus.eu', port=443): Max retries exceeded with url: /api/v2/tasks/12fd4768-f6e9-4f7d-a405-0f657aa027b6 (Caused by NameResolutionError(\"<urllib3.connection.HTTPSConnection object at 0x19a1c40a0>: Failed to resolve 'cds.climate.copernicus.eu' ([Errno 8] nodename nor servname provided, or not known)\"))]. Attempt 1 of 500.\n",
      "2024-03-25 18:30:42,359 WARNING Retrying in 120 seconds\n",
      "2024-03-25 18:30:42,413 WARNING Connection error: [HTTPSConnectionPool(host='cds.climate.copernicus.eu', port=443): Max retries exceeded with url: /api/v2/tasks/3674770f-75fe-4df6-8c3e-5099af30b66a (Caused by NameResolutionError(\"<urllib3.connection.HTTPSConnection object at 0x19a2452b0>: Failed to resolve 'cds.climate.copernicus.eu' ([Errno 8] nodename nor servname provided, or not known)\"))]. Attempt 1 of 500.\n",
      "2024-03-25 18:30:42,415 WARNING Retrying in 120 seconds\n",
      "2024-03-25 19:02:02,041 INFO Retrying now...\n",
      "2024-03-25 19:02:02,053 WARNING Connection error: [HTTPSConnectionPool(host='cds.climate.copernicus.eu', port=443): Max retries exceeded with url: /api/v2/tasks/f66005c3-2fec-45f3-bff6-7a0dca14dadc (Caused by NameResolutionError(\"<urllib3.connection.HTTPSConnection object at 0x19a2450a0>: Failed to resolve 'cds.climate.copernicus.eu' ([Errno 8] nodename nor servname provided, or not known)\"))]. Attempt 2 of 500.\n",
      "2024-03-25 19:02:02,055 WARNING Retrying in 120 seconds\n",
      "2024-03-25 19:32:23,805 INFO Retrying now...\n",
      "2024-03-25 19:32:23,814 WARNING Connection error: [HTTPSConnectionPool(host='cds.climate.copernicus.eu', port=443): Max retries exceeded with url: /api/v2/tasks/962e7433-fe62-4551-b951-69a605d37c5a (Caused by NameResolutionError(\"<urllib3.connection.HTTPSConnection object at 0x19a14b670>: Failed to resolve 'cds.climate.copernicus.eu' ([Errno 8] nodename nor servname provided, or not known)\"))]. Attempt 2 of 500.\n",
      "2024-03-25 19:32:23,816 WARNING Retrying in 120 seconds\n",
      "2024-03-25 19:32:25,492 INFO Retrying now...\n",
      "2024-03-25 19:32:25,503 WARNING Connection error: [HTTPSConnectionPool(host='cds.climate.copernicus.eu', port=443): Max retries exceeded with url: /api/v2/tasks/6c6cef0b-ada9-447e-97af-a37ccd898599 (Caused by NameResolutionError(\"<urllib3.connection.HTTPSConnection object at 0x19a14b040>: Failed to resolve 'cds.climate.copernicus.eu' ([Errno 8] nodename nor servname provided, or not known)\"))]. Attempt 2 of 500.\n",
      "2024-03-25 19:32:25,504 WARNING Retrying in 120 seconds\n",
      "2024-03-25 19:32:26,764 INFO Retrying now...\n",
      "2024-03-25 19:32:26,775 WARNING Connection error: [HTTPSConnectionPool(host='cds.climate.copernicus.eu', port=443): Max retries exceeded with url: /api/v2/tasks/78c9a0f8-4b79-407f-a11f-52ec5781d4a2 (Caused by NameResolutionError(\"<urllib3.connection.HTTPSConnection object at 0x19a1fe7c0>: Failed to resolve 'cds.climate.copernicus.eu' ([Errno 8] nodename nor servname provided, or not known)\"))]. Attempt 2 of 500.\n",
      "2024-03-25 19:32:26,777 WARNING Retrying in 120 seconds\n",
      "2024-03-25 19:33:20,576 INFO Retrying now...\n",
      "2024-03-25 19:33:20,588 WARNING Connection error: [HTTPSConnectionPool(host='cds.climate.copernicus.eu', port=443): Max retries exceeded with url: /api/v2/tasks/99f8314f-b4c1-4392-b3e0-b0fe0bdc9f0e (Caused by NameResolutionError(\"<urllib3.connection.HTTPSConnection object at 0x19a1ee370>: Failed to resolve 'cds.climate.copernicus.eu' ([Errno 8] nodename nor servname provided, or not known)\"))]. Attempt 2 of 500.\n",
      "2024-03-25 19:33:20,589 WARNING Retrying in 120 seconds\n",
      "2024-03-25 19:33:22,314 INFO Retrying now...\n",
      "2024-03-25 19:33:22,325 WARNING Connection error: [HTTPSConnectionPool(host='cds.climate.copernicus.eu', port=443): Max retries exceeded with url: /api/v2/tasks/6628d9ea-a25f-49d7-bf0e-bf377b1df5d8 (Caused by NameResolutionError(\"<urllib3.connection.HTTPSConnection object at 0x19a264a60>: Failed to resolve 'cds.climate.copernicus.eu' ([Errno 8] nodename nor servname provided, or not known)\"))]. Attempt 2 of 500.\n",
      "2024-03-25 19:33:22,326 WARNING Retrying in 120 seconds\n",
      "2024-03-25 20:08:36,959 WARNING Connection error: [('Connection aborted.', TimeoutError(60, 'Operation timed out'))]. Attempt 1 of 500.\n",
      "2024-03-25 20:08:36,961 WARNING Retrying in 120 seconds\n",
      "2024-03-25 20:08:37,078 WARNING Connection error: [('Connection aborted.', TimeoutError(60, 'Operation timed out'))]. Attempt 1 of 500.\n",
      "2024-03-25 20:08:37,080 WARNING Retrying in 120 seconds\n",
      "2024-03-25 20:33:55,804 INFO Retrying now...\n",
      "2024-03-25 20:45:03,385 INFO Retrying now...\n",
      "2024-03-25 20:45:04,162 INFO Retrying now...\n",
      "2024-03-25 20:45:04,512 INFO Request is completed\n",
      "2024-03-25 20:45:04,515 INFO Downloading https://download-0007-clone.copernicus-climate.eu/cache-compute-0007/cache/data8/adaptor.mars.internal-1711388829.1660695-28833-11-1b84635e-235c-4ca2-a3b0-395581fd471c.nc to .//inputs/climate/PLEV_201906.nc (4.5M)\n",
      "2024-03-25 21:02:25,234 WARNING Connection error: [('Connection aborted.', TimeoutError(60, 'Operation timed out'))]. Attempt 2 of 500.\n",
      "2024-03-25 21:02:25,236 WARNING Retrying in 120 seconds\n",
      "2024-03-25 21:02:27,101 INFO Retrying now...\n",
      "2024-03-25 21:19:20,790 INFO Sending request to https://cds.climate.copernicus.eu/api/v2/resources/reanalysis-era5-pressure-levels\n"
     ]
    },
    {
     "name": "stdout",
     "output_type": "stream",
     "text": [
      "('Connection aborted.', TimeoutError(60, 'Operation timed out'))\n"
     ]
    },
    {
     "name": "stderr",
     "output_type": "stream",
     "text": [
      "2024-03-25 21:19:21,277 INFO Request is queued\n",
      "2024-03-25 21:35:37,613 INFO Request is completed\n",
      "2024-03-25 21:35:37,615 INFO Downloading https://download-0007-clone.copernicus-climate.eu/cache-compute-0007/cache/data3/adaptor.mars.internal-1711392482.613685-2291-7-58f03fc6-687c-4bac-89c2-822eb8d7c389.nc to .//inputs/climate/PLEV_201907.nc (4.6M)\n",
      "2024-03-25 21:35:37,811 INFO Retrying now...\n",
      "2024-03-25 21:51:17,942 WARNING Connection error: [('Connection aborted.', TimeoutError(60, 'Operation timed out'))]. Attempt 1 of 500.\n",
      "2024-03-25 21:51:17,946 WARNING Retrying in 120 seconds\n",
      "2024-03-25 22:06:21,363 INFO Sending request to https://cds.climate.copernicus.eu/api/v2/resources/reanalysis-era5-pressure-levels\n"
     ]
    },
    {
     "name": "stdout",
     "output_type": "stream",
     "text": [
      "('Connection aborted.', TimeoutError(60, 'Operation timed out'))\n"
     ]
    },
    {
     "name": "stderr",
     "output_type": "stream",
     "text": [
      "2024-03-25 22:06:23,023 INFO Retrying now...\n",
      "2024-03-25 22:06:24,067 WARNING Connection error: [('Connection aborted.', TimeoutError(60, 'Operation timed out'))]. Attempt 1 of 500.\n",
      "2024-03-25 22:06:24,070 WARNING Retrying in 120 seconds\n",
      "2024-03-25 22:20:20,305 INFO Retrying now...\n",
      "2024-03-25 22:36:08,041 INFO Retrying now...\n",
      "2024-03-25 22:36:08,092 INFO Retrying now...\n",
      "2024-03-25 22:36:10,121 WARNING Connection error: [('Connection aborted.', TimeoutError(60, 'Operation timed out'))]. Attempt 2 of 500.\n",
      "2024-03-25 22:36:10,123 WARNING Retrying in 120 seconds\n",
      "2024-03-25 22:51:25,024 WARNING Connection error: [('Connection aborted.', TimeoutError(60, 'Operation timed out'))]. Attempt 1 of 500.\n",
      "2024-03-25 22:51:25,025 WARNING Retrying in 120 seconds\n",
      "2024-03-25 23:09:07,761 WARNING Connection error: [('Connection aborted.', TimeoutError(60, 'Operation timed out'))]. Attempt 2 of 500.\n",
      "2024-03-25 23:09:07,763 WARNING Retrying in 120 seconds\n",
      "2024-03-25 23:09:08,283 WARNING Connection error: [('Connection aborted.', TimeoutError(60, 'Operation timed out'))]. Attempt 2 of 500.\n",
      "2024-03-25 23:09:08,285 WARNING Retrying in 120 seconds\n",
      "2024-03-25 23:09:09,090 INFO Retrying now...\n",
      "2024-03-25 23:18:58,840 INFO Retrying now...\n",
      "2024-03-25 23:18:59,163 INFO Request is completed\n",
      "2024-03-25 23:18:59,166 INFO Downloading https://download-0019.copernicus-climate.eu/cache-compute-0019/cache/data9/adaptor.mars.internal-1711399739.959122-2937-12-17b183d6-1a98-4904-9d02-b9a8f1fc8536.nc to .//inputs/climate/PLEV_201909.nc (4.5M)\n",
      " 31%|███████████▊                          | 1.39M/4.49M [00:00<00:01, 1.87MB/s]2024-03-25 23:19:00,523 INFO Retrying now...\n",
      " 74%|████████████████████████████▏         | 3.33M/4.49M [00:02<00:00, 1.65MB/s]2024-03-25 23:19:01,799 INFO Retrying now...\n",
      "2024-03-25 23:19:02,469 INFO Download rate 1.4M/s                               \n",
      "2024-03-25 23:19:02,621 INFO Welcome to the CDS\n",
      "2024-03-25 23:19:02,623 INFO Sending request to https://cds.climate.copernicus.eu/api/v2/resources/reanalysis-era5-pressure-levels\n"
     ]
    },
    {
     "name": "stdout",
     "output_type": "stream",
     "text": [
      ".//inputs/climate/PLEV_201909.nc complete\n"
     ]
    },
    {
     "name": "stderr",
     "output_type": "stream",
     "text": [
      "2024-03-25 23:19:02,767 INFO Request is queued\n",
      "2024-03-25 23:21:20,296 INFO Retrying now...\n",
      "2024-03-25 23:21:20,825 WARNING Connection error: [('Connection aborted.', ConnectionResetError(54, 'Connection reset by peer'))]. Attempt 3 of 500.\n",
      "2024-03-25 23:21:20,827 WARNING Retrying in 120 seconds\n",
      "2024-03-25 23:21:21,856 INFO Retrying now...\n",
      "2024-03-25 23:37:25,375 WARNING Connection error: [('Connection aborted.', TimeoutError(60, 'Operation timed out'))]. Attempt 1 of 500.\n",
      "2024-03-25 23:37:25,377 WARNING Retrying in 120 seconds\n",
      "2024-03-25 23:37:27,001 INFO Request is completed\n",
      "2024-03-25 23:37:27,003 INFO Downloading https://download-0004-clone.copernicus-climate.eu/cache-compute-0004/cache/data6/adaptor.mars.internal-1711396134.6518624-12220-18-c5f991d6-f6bd-4866-b04c-d4c22c9def0b.nc to .//inputs/climate/PLEV_201908.nc (4.6M)\n",
      "  0%|                                               | 0.00/4.64M [00:00<?, ?B/s]2024-03-26 00:09:39,874 WARNING Connection error: [('Connection aborted.', TimeoutError(60, 'Operation timed out'))]. Attempt 1 of 500.\n",
      "2024-03-26 00:09:39,876 WARNING Retrying in 120 seconds\n",
      "2024-03-26 00:09:40,910 WARNING Connection error: [('Connection aborted.', TimeoutError(60, 'Operation timed out'))]. Attempt 1 of 500.\n",
      "2024-03-26 00:09:40,913 WARNING Retrying in 120 seconds\n",
      "2024-03-26 00:22:21,171 WARNING Connection error: [('Connection aborted.', TimeoutError(60, 'Operation timed out'))]. Attempt 1 of 500.\n",
      "2024-03-26 00:22:21,172 WARNING Retrying in 120 seconds\n",
      "2024-03-26 00:22:22,758 WARNING Connection error: [('Connection aborted.', TimeoutError(60, 'Operation timed out'))]. Attempt 1 of 500.\n",
      "2024-03-26 00:22:22,761 WARNING Retrying in 120 seconds\n",
      "2024-03-26 00:22:25,397 INFO Retrying now...\n",
      "2024-03-26 00:22:25,524 INFO Retrying now...\n",
      "2024-03-26 00:56:06,416 WARNING Connection error: [('Connection aborted.', TimeoutError(60, 'Operation timed out'))]. Attempt 1 of 500.\n",
      "2024-03-26 00:56:06,419 WARNING Retrying in 120 seconds\n",
      "2024-03-26 01:46:05,932 INFO Retrying now...\n",
      "2024-03-26 02:20:15,466 WARNING Connection error: [('Connection aborted.', TimeoutError(60, 'Operation timed out'))]. Attempt 3 of 500.\n",
      "2024-03-26 02:20:15,468 WARNING Retrying in 120 seconds\n",
      "2024-03-26 02:37:21,003 WARNING Connection error: [('Connection aborted.', TimeoutError(60, 'Operation timed out'))]. Attempt 1 of 500.\n",
      "2024-03-26 02:37:21,028 WARNING Retrying in 120 seconds\n",
      "2024-03-26 02:37:21,111 INFO Request is completed\n",
      "2024-03-26 02:37:21,114 INFO Downloading https://download-0002-clone.copernicus-climate.eu/cache-compute-0002/cache/data5/adaptor.mars.internal-1711403200.4245033-2320-15-9cd2284f-0ee0-4b28-bbcc-c92565e716d0.nc to .//inputs/climate/PLEV_201910.nc (4.6M)\n",
      "\n",
      "  0%|                                               | 0.00/4.64M [00:00<?, ?B/s]\u001b[A\n",
      "  1%|▎                                      | 35.0k/4.64M [00:00<00:14, 334kB/s]\u001b[A\n",
      "  4%|█▌                                      | 182k/4.64M [00:00<00:04, 980kB/s]\u001b[A\n",
      "  6%|██▍                                     | 292k/4.64M [00:00<00:05, 847kB/s]\u001b[A\n",
      " 11%|████▍                                  | 544k/4.64M [00:00<00:03, 1.43MB/s]\u001b[A\n",
      " 16%|██████▍                                | 781k/4.64M [00:00<00:02, 1.76MB/s]\u001b[A\n",
      " 20%|███████▉                               | 963k/4.64M [00:00<00:02, 1.45MB/s]\u001b[A\n",
      " 24%|█████████▎                            | 1.13M/4.64M [00:00<00:02, 1.58MB/s]\u001b[A\n",
      " 29%|███████████                           | 1.34M/4.64M [00:00<00:01, 1.74MB/s]\u001b[A\n",
      " 34%|████████████▊                         | 1.56M/4.64M [00:01<00:01, 1.88MB/s]\u001b[A\n",
      " 38%|██████████████▌                       | 1.77M/4.64M [00:01<00:01, 1.97MB/s]\u001b[A\n",
      " 43%|████████████████▎                     | 1.99M/4.64M [00:01<00:01, 2.04MB/s]\u001b[A\n",
      " 47%|█████████████████▉                    | 2.19M/4.64M [00:01<00:01, 2.06MB/s]\u001b[A\n",
      " 52%|███████████████████▋                  | 2.40M/4.64M [00:01<00:01, 2.09MB/s]\u001b[A\n",
      " 56%|█████████████████████▍                | 2.61M/4.64M [00:01<00:01, 2.12MB/s]\u001b[A\n",
      " 61%|███████████████████████               | 2.82M/4.64M [00:01<00:00, 2.14MB/s]\u001b[A\n",
      " 65%|████████████████████████▊             | 3.03M/4.64M [00:01<00:00, 1.77MB/s]\u001b[A\n",
      " 71%|███████████████████████████           | 3.30M/4.64M [00:01<00:00, 2.06MB/s]\u001b[A\n",
      " 76%|████████████████████████████▊         | 3.51M/4.64M [00:02<00:00, 2.00MB/s]\u001b[A\n",
      " 80%|██████████████████████████████▍       | 3.71M/4.64M [00:02<00:00, 1.99MB/s]\u001b[A\n",
      " 84%|████████████████████████████████      | 3.91M/4.64M [00:02<00:00, 1.99MB/s]\u001b[A\n",
      " 88%|█████████████████████████████████▌    | 4.10M/4.64M [00:02<00:00, 2.00MB/s]\u001b[A\n",
      "2024-03-26 02:37:24,103 ERROR Download interupted: HTTPSConnectionPool(host='download-0004-clone.copernicus-climate.eu', port=443): Read timed out.\n",
      "2024-03-26 02:37:24,109 ERROR Download incomplete, downloaded 7168 byte(s) out of 4862632\n",
      "\n",
      "2024-03-26 02:37:24,111 WARNING Sleeping 10 seconds\n",
      " 97%|████████████████████████████████████▊ | 4.50M/4.64M [00:02<00:00, 2.02MB/s]\u001b[A\n",
      "                                                                                \u001b[A2024-03-26 02:37:24,175 INFO Download rate 1.5M/s\n",
      "2024-03-26 02:37:24,349 INFO Welcome to the CDS\n",
      "2024-03-26 02:37:24,351 INFO Sending request to https://cds.climate.copernicus.eu/api/v2/resources/reanalysis-era5-pressure-levels\n"
     ]
    },
    {
     "name": "stdout",
     "output_type": "stream",
     "text": [
      ".//inputs/climate/PLEV_201910.nc complete\n"
     ]
    },
    {
     "name": "stderr",
     "output_type": "stream",
     "text": [
      "2024-03-26 02:37:24,516 INFO Request is queued\n",
      "2024-03-26 02:37:24,769 INFO Retrying now...\n",
      "2024-03-26 02:37:32,314 INFO Retrying now...\n",
      "2024-03-26 02:37:34,124 WARNING Resuming download at byte 7168\n",
      "2024-03-26 02:37:36,982 INFO Download rate 449.8/s                              \n",
      "2024-03-26 02:37:37,182 INFO Welcome to the CDS\n",
      "2024-03-26 02:37:37,185 INFO Sending request to https://cds.climate.copernicus.eu/api/v2/resources/reanalysis-era5-pressure-levels\n"
     ]
    },
    {
     "name": "stdout",
     "output_type": "stream",
     "text": [
      ".//inputs/climate/PLEV_201908.nc complete\n"
     ]
    },
    {
     "name": "stderr",
     "output_type": "stream",
     "text": [
      "2024-03-26 02:37:37,323 INFO Request is queued\n",
      "2024-03-26 02:55:10,722 INFO Retrying now...\n",
      "2024-03-26 02:55:11,966 INFO Retrying now...\n",
      "2024-03-26 02:55:12,097 INFO Request is queued\n",
      "2024-03-26 03:10:24,724 INFO Retrying now...\n",
      "2024-03-26 03:10:25,106 INFO Request is completed\n",
      "2024-03-26 03:10:25,108 INFO Downloading https://download-0012-clone.copernicus-climate.eu/cache-compute-0012/cache/data7/adaptor.mars.internal-1711417882.9046495-6595-3-3674770f-75fe-4df6-8c3e-5099af30b66a.nc to .//inputs/climate/PLEV_202002.nc (4.3M)\n",
      "2024-03-26 03:10:25,246 INFO Retrying now...\n",
      " 30%|███████████▌                          | 1.32M/4.34M [00:00<00:01, 1.81MB/s]2024-03-26 03:28:07,918 WARNING Connection error: [('Connection aborted.', TimeoutError(60, 'Operation timed out'))]. Attempt 1 of 500.\n",
      "2024-03-26 03:28:07,919 WARNING Retrying in 120 seconds\n",
      " 32%|████████████▏                         | 1.39M/4.34M [17:42<00:01, 1.81MB/s]2024-03-26 03:28:10,758 WARNING Connection error: [('Connection aborted.', TimeoutError(60, 'Operation timed out'))]. Attempt 1 of 500.\n",
      "2024-03-26 03:28:10,760 WARNING Retrying in 120 seconds\n",
      "2024-03-26 03:28:11,206 WARNING Connection error: [('Connection aborted.', TimeoutError(60, 'Operation timed out'))]. Attempt 1 of 500.\n",
      "2024-03-26 03:28:11,209 WARNING Retrying in 120 seconds\n",
      "2024-03-26 03:43:22,936 WARNING Connection error: [('Connection aborted.', TimeoutError(60, 'Operation timed out'))]. Attempt 1 of 500.\n",
      "2024-03-26 03:43:22,938 WARNING Retrying in 120 seconds\n",
      "2024-03-26 03:58:58,998 INFO Retrying now...\n",
      "2024-03-26 04:14:12,373 INFO Request is completed\n",
      "2024-03-26 04:14:12,378 INFO Downloading https://download-0007-clone.copernicus-climate.eu/cache-compute-0007/cache/data4/adaptor.mars.internal-1711410514.707599-4116-5-b3985f03-91d7-4849-8f69-acf812516dc5.nc to .//inputs/climate/PLEV_202001.nc (4.6M)\n",
      "2024-03-26 04:14:12,757 INFO Retrying now...\n",
      "\n",
      "  0%|                                               | 0.00/4.64M [00:00<?, ?B/s]\u001b[A\n",
      "  1%|▎                                      | 34.0k/4.64M [00:00<00:17, 284kB/s]\u001b[A\n",
      "  4%|█▌                                      | 182k/4.64M [00:00<00:04, 937kB/s]\u001b[A\n",
      "  7%|██▌                                     | 309k/4.64M [00:00<00:07, 610kB/s]\u001b[A\n",
      " 18%|███████                                | 864k/4.64M [00:00<00:02, 1.89MB/s]\u001b[A\n",
      " 24%|████████▉                             | 1.09M/4.64M [00:00<00:02, 1.77MB/s]\u001b[A\n",
      " 28%|██████████▋                           | 1.31M/4.64M [00:00<00:01, 1.88MB/s]\u001b[A\n",
      " 33%|████████████▍                         | 1.52M/4.64M [00:00<00:01, 1.96MB/s]\u001b[A\n",
      " 37%|██████████████▏                       | 1.74M/4.64M [00:01<00:01, 2.02MB/s]\u001b[A\n",
      " 42%|███████████████▉                      | 1.95M/4.64M [00:01<00:01, 2.07MB/s]\u001b[A2024-03-26 04:30:43,263 WARNING Connection error: [('Connection aborted.', TimeoutError(60, 'Operation timed out'))]. Attempt 1 of 500.\n",
      "2024-03-26 04:30:43,265 WARNING Retrying in 120 seconds\n",
      "\n",
      " 44%|████████████████▋                     | 2.04M/4.64M [16:32<00:01, 2.07MB/s]\u001b[A2024-03-26 04:30:46,781 WARNING Connection error: [('Connection aborted.', TimeoutError(60, 'Operation timed out'))]. Attempt 1 of 500.\n",
      "2024-03-26 04:30:46,783 WARNING Retrying in 120 seconds\n",
      "2024-03-26 04:47:16,667 INFO Retrying now...\n",
      "2024-03-26 04:47:17,703 INFO Retrying now...\n",
      "2024-03-26 05:04:04,952 INFO Retrying now...\n",
      "2024-03-26 05:04:06,542 INFO Retrying now...\n",
      "2024-03-26 05:38:01,316 INFO Retrying now...\n",
      "2024-03-26 05:38:01,373 WARNING Connection error: [('Connection aborted.', TimeoutError(60, 'Operation timed out'))]. Attempt 2 of 500.\n",
      "2024-03-26 05:38:01,375 WARNING Retrying in 120 seconds\n",
      "2024-03-26 05:54:05,989 WARNING Connection error: [('Connection aborted.', TimeoutError(60, 'Operation timed out'))]. Attempt 1 of 500.\n",
      "2024-03-26 05:54:05,991 WARNING Retrying in 120 seconds\n",
      "2024-03-26 05:54:06,040 WARNING Connection error: [('Connection aborted.', TimeoutError(60, 'Operation timed out'))]. Attempt 1 of 500.\n",
      "2024-03-26 05:54:06,041 WARNING Retrying in 120 seconds\n",
      "2024-03-26 05:54:08,250 ERROR Download interupted: HTTPSConnectionPool(host='download-0012-clone.copernicus-climate.eu', port=443): Read timed out.\n",
      "2024-03-26 05:54:08,256 ERROR Download incomplete, downloaded 1461248 byte(s) out of 4549092\n",
      "2024-03-26 05:54:08,257 WARNING Sleeping 10 seconds\n",
      "2024-03-26 06:15:05,575 WARNING Resuming download at byte 1461248\n",
      "2024-03-26 06:15:07,720 INFO Download rate 410.5/s                              \n",
      "2024-03-26 06:50:13,032 INFO Retrying now...\n"
     ]
    },
    {
     "name": "stdout",
     "output_type": "stream",
     "text": [
      "('Connection aborted.', TimeoutError(60, 'Operation timed out'))\n",
      ".//inputs/climate/PLEV_202002.nc complete\n"
     ]
    },
    {
     "name": "stderr",
     "output_type": "stream",
     "text": [
      "2024-03-26 07:08:06,530 INFO Retrying now...\n",
      "\n",
      "                                                                                \u001b[A2024-03-26 07:08:08,923 ERROR Download interupted: HTTPSConnectionPool(host='download-0007-clone.copernicus-climate.eu', port=443): Read timed out.\n",
      "2024-03-26 07:08:08,927 ERROR Download incomplete, downloaded 2139136 byte(s) out of 4862624\n",
      "2024-03-26 07:08:08,929 WARNING Sleeping 10 seconds\n",
      "2024-03-26 07:08:10,425 INFO Request is completed\n",
      "2024-03-26 07:08:10,427 INFO Downloading https://download-0010-clone.copernicus-climate.eu/cache-compute-0010/cache/data8/adaptor.mars.internal-1711432674.4334662-16396-14-b6f43985-0d53-412a-a367-c73e1f15fd27.nc to .//inputs/climate/PLEV_202006.nc (4.5M)\n",
      "2024-03-26 07:16:08,101 INFO Request is completed                               \n",
      "2024-03-26 07:16:08,104 INFO Downloading https://download-0009-clone.copernicus-climate.eu/cache-compute-0009/cache/data6/adaptor.mars.internal-1711421934.6831026-29821-2-02bda19e-086c-4753-9107-4af8a8eb3d44.nc to .//inputs/climate/PLEV_202003.nc (4.6M)\n",
      " 26%|█████████▋                            | 1.19M/4.64M [00:00<00:02, 1.74MB/s]2024-03-26 07:16:09,570 WARNING Resuming download at byte 2139136\n",
      " 41%|███████████████▍                      | 1.89M/4.64M [15:45<1:14:35, 644B/s]2024-03-26 07:31:54,820 WARNING Connection error: [('Connection aborted.', TimeoutError(60, 'Operation timed out'))]. Attempt 1 of 500.\n",
      "2024-03-26 07:31:54,821 WARNING Retrying in 120 seconds\n",
      "2024-03-26 07:31:55,067 WARNING Connection error: [('Connection aborted.', ConnectionResetError(54, 'Connection reset by peer'))]. Attempt 1 of 500.\n",
      "2024-03-26 07:31:55,072 WARNING Retrying in 120 seconds\n",
      "2024-03-26 07:31:55,394 INFO Welcome to the CDS\n",
      "2024-03-26 07:31:55,396 INFO Sending request to https://cds.climate.copernicus.eu/api/v2/resources/reanalysis-era5-pressure-levels\n",
      "2024-03-26 07:31:55,566 INFO Request is queued\n",
      "2024-03-26 07:31:56,809 INFO Sending request to https://cds.climate.copernicus.eu/api/v2/resources/reanalysis-era5-pressure-levels\n",
      "2024-03-26 07:31:57,271 INFO Request is queued\n",
      "2024-03-26 07:31:58,368 WARNING Connection error: [('Connection aborted.', TimeoutError(60, 'Operation timed out'))]. Attempt 1 of 500.\n",
      "2024-03-26 07:31:58,370 WARNING Retrying in 120 seconds\n",
      "2024-03-26 07:32:00,387 INFO Sending request to https://cds.climate.copernicus.eu/api/v2/resources/reanalysis-era5-pressure-levels\n",
      "2024-03-26 07:32:00,766 INFO Request is queued\n",
      "2024-03-26 07:48:21,925 WARNING Connection error: [('Connection aborted.', TimeoutError(60, 'Operation timed out'))]. Attempt 2 of 500.\n",
      "2024-03-26 07:48:21,927 WARNING Retrying in 120 seconds\n"
     ]
    },
    {
     "name": "stdout",
     "output_type": "stream",
     "text": [
      "('Connection aborted.', TimeoutError(60, 'Operation timed out'))\n"
     ]
    },
    {
     "name": "stderr",
     "output_type": "stream",
     "text": [
      "2024-03-26 08:17:02,840 WARNING Connection error: [('Connection aborted.', TimeoutError(60, 'Operation timed out'))]. Attempt 1 of 500.\n",
      "2024-03-26 08:17:02,844 WARNING Retrying in 120 seconds\n",
      "2024-03-26 08:17:04,916 INFO Request is completed\n",
      "2024-03-26 08:17:04,917 INFO Downloading https://download-0006-clone.copernicus-climate.eu/cache-compute-0006/cache/data7/adaptor.mars.internal-1711436228.1475966-9111-15-f66005c3-2fec-45f3-bff6-7a0dca14dadc.nc to .//inputs/climate/PLEV_202007.nc (4.6M)\n",
      "  4%|█▌                                      | 182k/4.64M [00:00<00:04, 972kB/s]2024-03-26 08:17:05,643 INFO Retrying now...\n",
      " 50%|███████████████████                   | 2.33M/4.64M [00:01<00:01, 1.94MB/s]2024-03-26 08:17:06,811 WARNING Connection error: [('Connection aborted.', TimeoutError(60, 'Operation timed out'))]. Attempt 1 of 500.\n",
      "2024-03-26 08:17:06,813 WARNING Retrying in 120 seconds\n",
      "2024-03-26 08:17:07,898 INFO Download rate 1.6M/s                               \n",
      "2024-03-26 08:17:08,297 INFO Welcome to the CDS\n",
      "2024-03-26 08:17:08,300 INFO Sending request to https://cds.climate.copernicus.eu/api/v2/resources/reanalysis-era5-pressure-levels\n"
     ]
    },
    {
     "name": "stdout",
     "output_type": "stream",
     "text": [
      ".//inputs/climate/PLEV_202007.nc complete\n"
     ]
    },
    {
     "name": "stderr",
     "output_type": "stream",
     "text": [
      "2024-03-26 08:17:08,486 INFO Retrying now...\n",
      "2024-03-26 08:17:08,521 INFO Request is queued\n",
      "2024-03-26 08:17:08,936 INFO Retrying now...\n",
      "2024-03-26 08:17:09,042 INFO Request is completed\n",
      "2024-03-26 08:17:09,044 INFO Downloading https://download-0016.copernicus-climate.eu/cache-compute-0016/cache/data7/adaptor.mars.internal-1711406775.2751021-20826-2-de0aae2a-268f-4c1c-9d30-41d55d0d0f85.nc to .//inputs/climate/PLEV_201912.nc (4.6M)\n",
      "  1%|▎                                      | 34.0k/4.64M [00:00<00:14, 337kB/s]2024-03-26 08:34:31,616 INFO Retrying now...\n",
      "2024-03-26 08:34:35,209 WARNING Connection error: [('Connection aborted.', TimeoutError(60, 'Operation timed out'))]. Attempt 1 of 500.\n",
      "2024-03-26 08:34:35,211 WARNING Retrying in 120 seconds\n",
      "  2%|▋                                      | 85.0k/4.64M [32:41<00:14, 337kB/s]2024-03-26 09:07:25,379 INFO Request is completed\n",
      "2024-03-26 09:07:25,380 INFO Downloading https://download-0008-clone.copernicus-climate.eu/cache-compute-0008/cache/data4/adaptor.mars.internal-1711429577.3508105-25512-4-99f8314f-b4c1-4392-b3e0-b0fe0bdc9f0e.nc to .//inputs/climate/PLEV_202005.nc (4.6M)\n",
      "2024-03-26 09:07:25,386 WARNING Connection error: [('Connection aborted.', TimeoutError(60, 'Operation timed out'))]. Attempt 2 of 500.\n",
      "2024-03-26 09:07:25,388 WARNING Retrying in 120 seconds\n",
      "2024-03-26 09:07:25,464 WARNING Connection error: [('Connection aborted.', TimeoutError(60, 'Operation timed out'))]. Attempt 1 of 500.\n",
      "2024-03-26 09:07:25,465 WARNING Retrying in 120 seconds\n",
      "\n",
      "  0%|                                               | 0.00/4.64M [00:00<?, ?B/s]\u001b[A\n",
      "  1%|▎                                      | 35.0k/4.64M [00:00<00:13, 354kB/s]\u001b[A\n",
      "  4%|█▌                                     | 189k/4.64M [00:00<00:04, 1.06MB/s]\u001b[A\n",
      "  7%|██▋                                     | 313k/4.64M [00:00<00:04, 951kB/s]\u001b[A\n",
      "  9%|███▍                                    | 408k/4.64M [00:00<00:05, 883kB/s]\u001b[A\n",
      " 18%|███████▏                               | 868k/4.64M [00:00<00:01, 2.07MB/s]\u001b[A2024-03-26 09:07:26,418 WARNING Connection error: [('Connection aborted.', TimeoutError(60, 'Operation timed out'))]. Attempt 1 of 500.\n",
      "2024-03-26 09:07:26,421 WARNING Retrying in 120 seconds\n",
      "\n",
      " 23%|████████▋                             | 1.06M/4.64M [00:00<00:01, 1.90MB/s]\u001b[A\n",
      " 27%|██████████▍                           | 1.27M/4.64M [00:00<00:01, 1.97MB/s]\u001b[A\n",
      " 32%|████████████                          | 1.47M/4.64M [00:00<00:01, 1.96MB/s]\u001b[A\n",
      " 36%|█████████████▌                        | 1.66M/4.64M [00:01<00:01, 1.88MB/s]\u001b[A\n",
      " 40%|███████████████▏                      | 1.85M/4.64M [00:01<00:01, 1.87MB/s]\u001b[A\n",
      " 44%|████████████████▋                     | 2.04M/4.64M [00:01<00:01, 1.90MB/s]\u001b[A\n",
      " 48%|██████████████████▎                   | 2.23M/4.64M [00:01<00:01, 1.91MB/s]\u001b[A\n",
      " 52%|███████████████████▉                  | 2.43M/4.64M [00:01<00:01, 1.96MB/s]\u001b[A\n",
      " 57%|█████████████████████▍                | 2.62M/4.64M [00:01<00:01, 1.59MB/s]\u001b[A\n",
      " 61%|███████████████████████▎              | 2.84M/4.64M [00:01<00:01, 1.76MB/s]\u001b[A\n",
      " 65%|████████████████████████▋             | 3.02M/4.64M [00:01<00:00, 1.72MB/s]\u001b[A\n",
      " 69%|██████████████████████████▏           | 3.19M/4.64M [00:01<00:00, 1.66MB/s]\u001b[A\n",
      " 72%|███████████████████████████▍          | 3.35M/4.64M [00:02<00:00, 1.63MB/s]\u001b[A\n",
      " 76%|████████████████████████████▊         | 3.51M/4.64M [00:02<00:00, 1.64MB/s]\u001b[A\n",
      " 79%|██████████████████████████████▏       | 3.68M/4.64M [00:02<00:00, 1.66MB/s]\u001b[A\n",
      " 83%|███████████████████████████████▍      | 3.84M/4.64M [00:02<00:00, 1.65MB/s]\u001b[A\n",
      " 86%|████████████████████████████████▊     | 4.01M/4.64M [00:02<00:00, 1.67MB/s]\u001b[A\n",
      " 90%|██████████████████████████████████▎   | 4.18M/4.64M [00:02<00:00, 1.70MB/s]\u001b[A\n",
      " 94%|███████████████████████████████████▋  | 4.35M/4.64M [00:02<00:00, 1.73MB/s]\u001b[A\n",
      " 98%|█████████████████████████████████████▏| 4.53M/4.64M [00:02<00:00, 1.76MB/s]\u001b[A\n",
      "                                                                                \u001b[A2024-03-26 09:07:28,690 INFO Download rate 1.4M/s\n",
      "2024-03-26 09:07:29,280 INFO Welcome to the CDS\n",
      "2024-03-26 09:07:29,282 INFO Sending request to https://cds.climate.copernicus.eu/api/v2/resources/reanalysis-era5-pressure-levels\n"
     ]
    },
    {
     "name": "stdout",
     "output_type": "stream",
     "text": [
      ".//inputs/climate/PLEV_202005.nc complete\n"
     ]
    },
    {
     "name": "stderr",
     "output_type": "stream",
     "text": [
      "2024-03-26 09:07:29,422 INFO Request is queued\n",
      "2024-03-26 09:18:04,484 WARNING Connection error: [('Connection aborted.', TimeoutError(60, 'Operation timed out'))]. Attempt 1 of 500.\n",
      "2024-03-26 09:18:04,486 WARNING Retrying in 120 seconds\n",
      "2024-03-26 09:18:06,737 WARNING Connection error: [('Connection aborted.', TimeoutError(60, 'Operation timed out'))]. Attempt 1 of 500.\n",
      "2024-03-26 09:18:06,739 WARNING Retrying in 120 seconds\n",
      "2024-03-26 09:18:07,213 WARNING Connection error: [('Connection aborted.', TimeoutError(60, 'Operation timed out'))]. Attempt 1 of 500.\n",
      "2024-03-26 09:18:07,215 WARNING Retrying in 120 seconds\n",
      "2024-03-26 09:35:22,016 INFO Retrying now...\n",
      "2024-03-26 09:35:24,840 WARNING Connection error: [('Connection aborted.', TimeoutError(60, 'Operation timed out'))]. Attempt 1 of 500.\n",
      "2024-03-26 09:35:24,842 WARNING Retrying in 120 seconds\n",
      "2024-03-26 09:35:25,532 INFO Retrying now...\n",
      "2024-03-26 09:58:27,528 INFO Retrying now...\n",
      "2024-03-26 09:58:27,540 WARNING Connection error: [HTTPSConnectionPool(host='cds.climate.copernicus.eu', port=443): Max retries exceeded with url: /api/v2/tasks/6278604e-75fd-47d6-9e7e-a75b5f9d8c1f (Caused by NameResolutionError(\"<urllib3.connection.HTTPSConnection object at 0x19a22ce80>: Failed to resolve 'cds.climate.copernicus.eu' ([Errno 8] nodename nor servname provided, or not known)\"))]. Attempt 3 of 500.\n",
      "2024-03-26 09:58:27,541 WARNING Retrying in 120 seconds\n",
      "2024-03-26 09:58:30,489 INFO Retrying now...\n",
      "2024-03-26 09:58:30,498 WARNING Connection error: [HTTPSConnectionPool(host='cds.climate.copernicus.eu', port=443): Max retries exceeded with url: /api/v2/tasks/a35b1ed5-880f-418c-b121-7c29629f5328 (Caused by NameResolutionError(\"<urllib3.connection.HTTPSConnection object at 0x19a24d460>: Failed to resolve 'cds.climate.copernicus.eu' ([Errno 8] nodename nor servname provided, or not known)\"))]. Attempt 2 of 500.\n",
      "2024-03-26 09:58:30,499 WARNING Retrying in 120 seconds\n",
      "2024-03-26 09:58:30,535 INFO Retrying now...\n",
      "2024-03-26 09:58:30,543 WARNING Connection error: [HTTPSConnectionPool(host='cds.climate.copernicus.eu', port=443): Max retries exceeded with url: /api/v2/tasks/18e1e721-8cf2-4ef2-8384-1c2ba6914b77 (Caused by NameResolutionError(\"<urllib3.connection.HTTPSConnection object at 0x19a264790>: Failed to resolve 'cds.climate.copernicus.eu' ([Errno 8] nodename nor servname provided, or not known)\"))]. Attempt 2 of 500.\n",
      "2024-03-26 09:58:30,544 WARNING Retrying in 120 seconds\n",
      "2024-03-26 10:13:46,847 WARNING Connection error: [HTTPSConnectionPool(host='cds.climate.copernicus.eu', port=443): Max retries exceeded with url: /api/v2/tasks/5cdf182f-4015-46f5-8c06-4a47def2057a (Caused by NameResolutionError(\"<urllib3.connection.HTTPSConnection object at 0x19a1d5700>: Failed to resolve 'cds.climate.copernicus.eu' ([Errno 8] nodename nor servname provided, or not known)\"))]. Attempt 1 of 500.\n",
      "2024-03-26 10:13:46,849 WARNING Retrying in 120 seconds\n",
      "2024-03-26 10:13:48,271 ERROR Download interupted: HTTPSConnectionPool(host='download-0016.copernicus-climate.eu', port=443): Read timed out.\n",
      "2024-03-26 10:13:48,274 ERROR Download incomplete, downloaded 87040 byte(s) out of 4862628\n",
      "2024-03-26 10:13:48,275 WARNING Sleeping 10 seconds\n",
      "2024-03-26 10:13:48,807 WARNING Connection error: [('Connection aborted.', TimeoutError(60, 'Operation timed out'))]. Attempt 1 of 500.\n",
      "2024-03-26 10:13:48,809 WARNING Retrying in 120 seconds\n",
      "2024-03-26 10:13:49,137 WARNING Connection error: [('Connection aborted.', TimeoutError(60, 'Operation timed out'))]. Attempt 2 of 500.\n",
      "2024-03-26 10:13:49,139 WARNING Retrying in 120 seconds\n",
      "2024-03-26 10:19:09,537 WARNING Connection error: [('Connection aborted.', TimeoutError(60, 'Operation timed out'))]. Attempt 1 of 500.\n",
      "2024-03-26 10:19:09,539 WARNING Retrying in 120 seconds\n",
      "2024-03-26 10:19:10,035 WARNING Resuming download at byte 87040\n",
      "2024-03-26 10:19:10,043 WARNING Connection error: [HTTPSConnectionPool(host='download-0016.copernicus-climate.eu', port=443): Max retries exceeded with url: /cache-compute-0016/cache/data7/adaptor.mars.internal-1711406775.2751021-20826-2-de0aae2a-268f-4c1c-9d30-41d55d0d0f85.nc (Caused by NameResolutionError(\"<urllib3.connection.HTTPSConnection object at 0x19a2160a0>: Failed to resolve 'download-0016.copernicus-climate.eu' ([Errno 8] nodename nor servname provided, or not known)\"))]. Attempt 1 of 500.\n",
      "2024-03-26 10:19:10,044 WARNING Retrying in 120 seconds\n",
      "2024-03-26 10:21:31,919 WARNING Connection error: [HTTPSConnectionPool(host='cds.climate.copernicus.eu', port=443): Max retries exceeded with url: /api/v2/tasks/67535452-0809-488f-a357-413d0909e45d (Caused by NameResolutionError(\"<urllib3.connection.HTTPSConnection object at 0x19a259dc0>: Failed to resolve 'cds.climate.copernicus.eu' ([Errno 8] nodename nor servname provided, or not known)\"))]. Attempt 1 of 500.\n",
      "2024-03-26 10:21:31,922 WARNING Retrying in 120 seconds\n",
      "2024-03-26 10:21:33,031 WARNING Connection error: [HTTPSConnectionPool(host='cds.climate.copernicus.eu', port=443): Max retries exceeded with url: /api/v2/tasks/a132655e-0c0d-4814-8932-3868d8eabda5 (Caused by NameResolutionError(\"<urllib3.connection.HTTPSConnection object at 0x19a245040>: Failed to resolve 'cds.climate.copernicus.eu' ([Errno 8] nodename nor servname provided, or not known)\"))]. Attempt 1 of 500.\n",
      "2024-03-26 10:21:33,032 WARNING Retrying in 120 seconds\n",
      "2024-03-26 10:21:56,050 INFO Retrying now...\n",
      "2024-03-26 10:21:56,301 INFO Retrying now...\n",
      "2024-03-26 10:21:56,309 WARNING Connection error: [HTTPSConnectionPool(host='download-0007-clone.copernicus-climate.eu', port=443): Max retries exceeded with url: /cache-compute-0007/cache/data4/adaptor.mars.internal-1711410514.707599-4116-5-b3985f03-91d7-4849-8f69-acf812516dc5.nc (Caused by NameResolutionError(\"<urllib3.connection.HTTPSConnection object at 0x19a24c160>: Failed to resolve 'download-0007-clone.copernicus-climate.eu' ([Errno 8] nodename nor servname provided, or not known)\"))]. Attempt 2 of 500.\n",
      "2024-03-26 10:21:56,310 WARNING Retrying in 120 seconds\n",
      "2024-03-26 10:21:59,597 INFO Retrying now...\n",
      "2024-03-26 10:22:03,726 INFO Retrying now...\n",
      "2024-03-26 10:22:14,944 INFO Retrying now...\n",
      "2024-03-26 10:22:27,304 INFO Retrying now...\n",
      "2024-03-26 10:22:35,096 INFO Retrying now...\n",
      "2024-03-26 10:22:35,107 WARNING Connection error: [HTTPSConnectionPool(host='cds.climate.copernicus.eu', port=443): Max retries exceeded with url: /api/v2/tasks/9da630b5-cbd9-47c4-9680-fbb91f9e2d2a (Caused by NameResolutionError(\"<urllib3.connection.HTTPSConnection object at 0x19a24c9a0>: Failed to resolve 'cds.climate.copernicus.eu' ([Errno 8] nodename nor servname provided, or not known)\"))]. Attempt 2 of 500.\n",
      "2024-03-26 10:22:35,108 WARNING Retrying in 120 seconds\n",
      "2024-03-26 10:23:39,464 INFO Retrying now...\n",
      "2024-03-26 10:23:39,530 WARNING Connection error: [HTTPSConnectionPool(host='cds.climate.copernicus.eu', port=443): Max retries exceeded with url: /api/v2/tasks/b589426d-ee4e-41c3-97af-9a6cae0c26c8 (Caused by NameResolutionError(\"<urllib3.connection.HTTPSConnection object at 0x19a245550>: Failed to resolve 'cds.climate.copernicus.eu' ([Errno 8] nodename nor servname provided, or not known)\"))]. Attempt 3 of 500.\n",
      "2024-03-26 10:23:39,532 WARNING Retrying in 120 seconds\n",
      "2024-03-26 10:23:39,536 INFO Retrying now...\n",
      "2024-03-26 10:23:39,546 WARNING Connection error: [HTTPSConnectionPool(host='cds.climate.copernicus.eu', port=443): Max retries exceeded with url: /api/v2/tasks/54fce7f8-e1fa-4ca8-b3b6-0ac6d689a5ba (Caused by NameResolutionError(\"<urllib3.connection.HTTPSConnection object at 0x19a2596d0>: Failed to resolve 'cds.climate.copernicus.eu' ([Errno 8] nodename nor servname provided, or not known)\"))]. Attempt 2 of 500.\n",
      "2024-03-26 10:23:39,547 WARNING Retrying in 120 seconds\n",
      "2024-03-26 10:23:40,494 INFO Retrying now...\n",
      "2024-03-26 10:23:40,504 WARNING Connection error: [HTTPSConnectionPool(host='cds.climate.copernicus.eu', port=443): Max retries exceeded with url: /api/v2/tasks/ca3465b3-d1de-449a-a9b3-7e74b998fc9a (Caused by NameResolutionError(\"<urllib3.connection.HTTPSConnection object at 0x19a24c9a0>: Failed to resolve 'cds.climate.copernicus.eu' ([Errno 8] nodename nor servname provided, or not known)\"))]. Attempt 2 of 500.\n",
      "2024-03-26 10:23:40,506 WARNING Retrying in 120 seconds\n",
      "2024-03-26 10:23:44,620 WARNING Connection error: [('Connection aborted.', ConnectionResetError(54, 'Connection reset by peer'))]. Attempt 2 of 500.\n",
      "2024-03-26 10:23:44,621 WARNING Retrying in 120 seconds\n",
      "2024-03-26 10:23:44,727 WARNING Connection error: [('Connection aborted.', ConnectionResetError(54, 'Connection reset by peer'))]. Attempt 1 of 500.\n",
      "2024-03-26 10:23:44,729 WARNING Retrying in 120 seconds\n",
      "2024-03-26 10:23:45,932 INFO Retrying now...\n",
      "2024-03-26 10:23:48,190 INFO Retrying now...\n",
      "2024-03-26 10:23:48,284 INFO Request is completed\n",
      "2024-03-26 10:23:48,286 INFO Downloading https://download-0005-clone.copernicus-climate.eu/cache-compute-0005/cache/data3/adaptor.mars.internal-1711443321.238966-8751-3-6c6cef0b-ada9-447e-97af-a37ccd898599.nc to .//inputs/climate/PLEV_202009.nc (4.5M)\n",
      "  0%|                                               | 0.00/4.49M [00:00<?, ?B/s]2024-03-26 10:23:48,667 INFO Retrying now...\n",
      "2024-03-26 10:23:50,072 INFO Download rate 2.5M/s                               \n",
      "2024-03-26 10:23:50,176 INFO Welcome to the CDS\n",
      "2024-03-26 10:23:50,178 INFO Sending request to https://cds.climate.copernicus.eu/api/v2/resources/reanalysis-era5-pressure-levels\n"
     ]
    },
    {
     "name": "stdout",
     "output_type": "stream",
     "text": [
      ".//inputs/climate/PLEV_202009.nc complete\n"
     ]
    },
    {
     "name": "stderr",
     "output_type": "stream",
     "text": [
      "2024-03-26 10:23:50,504 INFO Request is queued\n",
      "2024-03-26 10:23:50,856 INFO Request is running\n",
      "2024-03-26 10:23:54,772 INFO Retrying now...\n",
      "2024-03-26 10:24:19,740 WARNING Connection error: [HTTPSConnectionPool(host='cds.climate.copernicus.eu', port=443): Max retries exceeded with url: /api/v2/tasks/e13c2204-484d-4f04-9643-6e1ffdd6ece5 (Caused by NameResolutionError(\"<urllib3.connection.HTTPSConnection object at 0x19a262c10>: Failed to resolve 'cds.climate.copernicus.eu' ([Errno 8] nodename nor servname provided, or not known)\"))]. Attempt 1 of 500.\n",
      "2024-03-26 10:24:19,742 WARNING Retrying in 120 seconds\n",
      "2024-03-26 10:24:25,685 INFO Retrying now...\n",
      "2024-03-26 10:24:25,696 WARNING Connection error: [HTTPSConnectionPool(host='cds.climate.copernicus.eu', port=443): Max retries exceeded with url: /api/v2/tasks/6278604e-75fd-47d6-9e7e-a75b5f9d8c1f (Caused by NameResolutionError(\"<urllib3.connection.HTTPSConnection object at 0x19a2237c0>: Failed to resolve 'cds.climate.copernicus.eu' ([Errno 8] nodename nor servname provided, or not known)\"))]. Attempt 4 of 500.\n",
      "2024-03-26 10:24:25,698 WARNING Retrying in 120 seconds\n",
      "2024-03-26 10:25:59,607 INFO Retrying now...\n",
      "2024-03-26 10:25:59,618 WARNING Connection error: [HTTPSConnectionPool(host='cds.climate.copernicus.eu', port=443): Max retries exceeded with url: /api/v2/tasks/a35b1ed5-880f-418c-b121-7c29629f5328 (Caused by NameResolutionError(\"<urllib3.connection.HTTPSConnection object at 0x19a1f57c0>: Failed to resolve 'cds.climate.copernicus.eu' ([Errno 8] nodename nor servname provided, or not known)\"))]. Attempt 3 of 500.\n",
      "2024-03-26 10:25:59,622 WARNING Retrying in 120 seconds\n",
      "2024-03-26 10:25:59,650 INFO Retrying now...\n",
      "2024-03-26 10:25:59,657 WARNING Connection error: [HTTPSConnectionPool(host='cds.climate.copernicus.eu', port=443): Max retries exceeded with url: /api/v2/tasks/18e1e721-8cf2-4ef2-8384-1c2ba6914b77 (Caused by NameResolutionError(\"<urllib3.connection.HTTPSConnection object at 0x19a1f5e80>: Failed to resolve 'cds.climate.copernicus.eu' ([Errno 8] nodename nor servname provided, or not known)\"))]. Attempt 3 of 500.\n",
      "2024-03-26 10:25:59,659 WARNING Retrying in 120 seconds\n",
      "2024-03-26 10:26:03,253 WARNING Connection error: [('Connection aborted.', ConnectionResetError(54, 'Connection reset by peer'))]. Attempt 1 of 500.\n",
      "2024-03-26 10:26:03,256 WARNING Retrying in 120 seconds\n",
      "2024-03-26 10:26:05,209 INFO Retrying now...\n",
      "2024-03-26 10:26:07,170 INFO Retrying now...\n",
      "2024-03-26 10:26:07,505 INFO Retrying now...\n",
      "2024-03-26 10:26:07,561 INFO Request is completed\n",
      "2024-03-26 10:26:07,564 INFO Downloading https://download-0020.copernicus-climate.eu/cache-compute-0020/cache/data2/adaptor.mars.internal-1711425185.8327994-31204-1-6628d9ea-a25f-49d7-bf0e-bf377b1df5d8.nc to .//inputs/climate/PLEV_202004.nc (4.5M)\n",
      "2024-03-26 10:26:08,679 INFO Download rate 4M/s                                 \n",
      "2024-03-26 10:26:08,813 INFO Welcome to the CDS\n",
      "2024-03-26 10:26:08,815 INFO Sending request to https://cds.climate.copernicus.eu/api/v2/resources/reanalysis-era5-pressure-levels\n",
      "2024-03-26 10:26:08,911 INFO Request is queued\n"
     ]
    },
    {
     "name": "stdout",
     "output_type": "stream",
     "text": [
      ".//inputs/climate/PLEV_202004.nc complete\n"
     ]
    },
    {
     "name": "stderr",
     "output_type": "stream",
     "text": [
      "2024-03-26 10:26:16,155 INFO Retrying now...\n",
      "2024-03-26 10:26:16,663 INFO Retrying now...\n",
      "2024-03-26 10:26:17,391 INFO Download rate 627.6/s                              \n",
      "2024-03-26 10:26:17,543 INFO Welcome to the CDS\n",
      "2024-03-26 10:26:17,543 INFO Sending request to https://cds.climate.copernicus.eu/api/v2/resources/reanalysis-era5-pressure-levels\n",
      "2024-03-26 10:26:17,632 INFO Request is queued\n"
     ]
    },
    {
     "name": "stdout",
     "output_type": "stream",
     "text": [
      ".//inputs/climate/PLEV_201912.nc complete\n"
     ]
    },
    {
     "name": "stderr",
     "output_type": "stream",
     "text": [
      "2024-03-26 10:26:26,474 INFO Retrying now...\n",
      "2024-03-26 10:26:27,576 INFO Retrying now...\n",
      "2024-03-26 10:26:41,189 INFO Retrying now...\n",
      "2024-03-26 10:26:41,816 INFO Download rate 217.6/s                              \n",
      "2024-03-26 10:26:41,928 INFO Welcome to the CDS\n",
      "2024-03-26 10:26:41,931 INFO Sending request to https://cds.climate.copernicus.eu/api/v2/resources/reanalysis-era5-pressure-levels\n",
      "2024-03-26 10:26:42,019 INFO Request is queued\n"
     ]
    },
    {
     "name": "stdout",
     "output_type": "stream",
     "text": [
      ".//inputs/climate/PLEV_202001.nc complete\n"
     ]
    },
    {
     "name": "stderr",
     "output_type": "stream",
     "text": [
      "2024-03-26 10:27:11,612 INFO Retrying now...\n",
      "2024-03-26 10:27:18,509 INFO Retrying now...\n",
      "2024-03-26 10:27:18,526 INFO Retrying now...\n",
      "2024-03-26 10:27:19,485 INFO Retrying now...\n",
      "2024-03-26 10:27:23,597 INFO Retrying now...\n",
      "2024-03-26 10:27:23,648 INFO Request is completed\n",
      "2024-03-26 10:27:23,650 INFO Downloading https://download-0001-clone.copernicus-climate.eu/cache-compute-0001/cache/data2/adaptor.mars.internal-1711439806.8397987-7472-12-040c726f-3cb6-4644-9045-26e3ee4a190a.nc to .//inputs/climate/PLEV_202008.nc (4.6M)\n",
      "2024-03-26 10:27:23,704 INFO Retrying now...\n",
      "2024-03-26 10:27:24,289 INFO Download rate 7.3M/s                               \n",
      "2024-03-26 10:27:24,329 INFO Welcome to the CDS\n",
      "2024-03-26 10:27:24,329 INFO Sending request to https://cds.climate.copernicus.eu/api/v2/resources/reanalysis-era5-pressure-levels\n",
      "2024-03-26 10:27:24,409 INFO Request is queued\n"
     ]
    },
    {
     "name": "stdout",
     "output_type": "stream",
     "text": [
      ".//inputs/climate/PLEV_202008.nc complete\n"
     ]
    },
    {
     "name": "stderr",
     "output_type": "stream",
     "text": [
      "2024-03-26 10:27:50,707 INFO Retrying now...\n",
      "2024-03-26 10:27:56,661 INFO Retrying now...\n",
      "2024-03-26 10:27:56,710 INFO Request is completed\n",
      "2024-03-26 10:27:56,712 INFO Downloading https://download-0011-clone.copernicus-climate.eu/cache-compute-0011/cache/data8/adaptor.mars.internal-1711413851.3674488-24022-11-6278604e-75fd-47d6-9e7e-a75b5f9d8c1f.nc to .//inputs/climate/PLEV_201911.nc (4.5M)\n",
      "2024-03-26 10:27:57,359 INFO Download rate 6.9M/s                               \n",
      "2024-03-26 10:27:57,409 INFO Welcome to the CDS\n",
      "2024-03-26 10:27:57,410 INFO Sending request to https://cds.climate.copernicus.eu/api/v2/resources/reanalysis-era5-pressure-levels\n",
      "2024-03-26 10:27:57,515 INFO Request is queued\n"
     ]
    },
    {
     "name": "stdout",
     "output_type": "stream",
     "text": [
      ".//inputs/climate/PLEV_201911.nc complete\n"
     ]
    },
    {
     "name": "stderr",
     "output_type": "stream",
     "text": [
      "2024-03-26 10:27:59,626 INFO Retrying now...\n",
      "2024-03-26 10:27:59,665 INFO Retrying now...\n",
      "2024-03-26 10:28:03,262 INFO Retrying now...\n",
      "2024-03-26 11:23:31,348 INFO Request is completed\n",
      "2024-03-26 11:23:31,356 INFO Downloading https://download-0020.copernicus-climate.eu/cache-compute-0020/cache/data2/adaptor.mars.internal-1711448357.7119985-16460-10-ebe40fb6-c9a7-45ad-b0ad-2de7e8cad71b.nc to .//inputs/climate/PLEV_202010.nc (4.6M)\n",
      "2024-03-26 11:23:32,118 INFO Download rate 6.1M/s                               \n",
      "2024-03-26 11:23:32,210 INFO Welcome to the CDS\n",
      "2024-03-26 11:23:32,211 INFO Sending request to https://cds.climate.copernicus.eu/api/v2/resources/reanalysis-era5-pressure-levels\n",
      "2024-03-26 11:23:32,332 INFO Request is queued\n"
     ]
    },
    {
     "name": "stdout",
     "output_type": "stream",
     "text": [
      ".//inputs/climate/PLEV_202010.nc complete\n"
     ]
    },
    {
     "name": "stderr",
     "output_type": "stream",
     "text": [
      "2024-03-26 11:24:01,094 INFO Request is running\n",
      "2024-03-26 12:28:02,815 INFO Request is completed\n",
      "2024-03-26 12:28:02,821 INFO Downloading https://download-0015-clone.copernicus-climate.eu/cache-compute-0015/cache/data1/adaptor.mars.internal-1711452311.4396389-4992-14-18e1e721-8cf2-4ef2-8384-1c2ba6914b77.nc to .//inputs/climate/PLEV_202011.nc (4.5M)\n",
      "2024-03-26 12:28:03,519 INFO Download rate 6.5M/s                               \n",
      "2024-03-26 12:28:03,603 INFO Welcome to the CDS\n",
      "2024-03-26 12:28:03,604 INFO Sending request to https://cds.climate.copernicus.eu/api/v2/resources/reanalysis-era5-pressure-levels\n",
      "2024-03-26 12:28:03,704 INFO Request is queued\n"
     ]
    },
    {
     "name": "stdout",
     "output_type": "stream",
     "text": [
      ".//inputs/climate/PLEV_202011.nc complete\n"
     ]
    },
    {
     "name": "stderr",
     "output_type": "stream",
     "text": [
      "2024-03-26 12:28:51,896 INFO Request is running\n",
      "2024-03-26 13:42:53,874 INFO Request is completed\n",
      "2024-03-26 13:42:53,887 INFO Downloading https://download-0006-clone.copernicus-climate.eu/cache-compute-0006/cache/data0/adaptor.mars.internal-1711456779.9424195-7210-13-53ae6c8f-b9b9-42b8-a1bd-c57955ba335e.nc to .//inputs/climate/PLEV_202012.nc (4.6M)\n",
      "2024-03-26 13:43:48,165 WARNING Connection error: [('Connection aborted.', TimeoutError(60, 'Operation timed out'))]. Attempt 1 of 500.\n",
      "2024-03-26 13:43:48,167 WARNING Retrying in 120 seconds\n",
      "2024-03-26 13:44:12,504 INFO Request is running\n",
      "2024-03-26 13:45:48,172 INFO Retrying now...\n",
      "2024-03-26 13:45:48,818 INFO Download rate 27.1K/s                              \n",
      "2024-03-26 13:45:48,860 INFO Welcome to the CDS\n",
      "2024-03-26 13:45:48,861 INFO Sending request to https://cds.climate.copernicus.eu/api/v2/resources/reanalysis-era5-pressure-levels\n",
      "2024-03-26 13:45:48,919 INFO Request is queued\n"
     ]
    },
    {
     "name": "stdout",
     "output_type": "stream",
     "text": [
      ".//inputs/climate/PLEV_202012.nc complete\n"
     ]
    },
    {
     "name": "stderr",
     "output_type": "stream",
     "text": [
      "2024-03-26 14:58:49,812 WARNING Connection error: [('Connection aborted.', TimeoutError(60, 'Operation timed out'))]. Attempt 1 of 500.\n",
      "2024-03-26 14:58:49,840 WARNING Retrying in 120 seconds\n",
      "2024-03-26 15:00:24,092 WARNING Connection error: [('Connection aborted.', ConnectionResetError(54, 'Connection reset by peer'))]. Attempt 1 of 500.\n",
      "2024-03-26 15:00:24,094 WARNING Retrying in 120 seconds\n",
      "2024-03-26 15:02:02,696 INFO Retrying now...\n",
      "2024-03-26 15:02:24,092 INFO Retrying now...\n",
      "2024-03-26 15:19:08,460 WARNING Connection error: [('Connection aborted.', ConnectionResetError(54, 'Connection reset by peer'))]. Attempt 1 of 500.\n",
      "2024-03-26 15:19:08,466 WARNING Retrying in 120 seconds\n",
      "2024-03-26 15:21:08,471 INFO Retrying now...\n",
      "2024-03-26 15:31:00,999 INFO Request is completed\n",
      "2024-03-26 15:31:01,006 INFO Downloading https://download-0002-clone.copernicus-climate.eu/cache-compute-0002/cache/data1/adaptor.mars.internal-1711463283.510786-17095-8-9c9b2ff3-8728-4c4b-bbbc-b5c3f4edb43b.nc to .//inputs/climate/PLEV_202101.nc (4.6M)\n",
      "2024-03-26 15:31:01,709 INFO Download rate 6.6M/s                               \n",
      "2024-03-26 15:31:01,757 INFO Welcome to the CDS\n",
      "2024-03-26 15:31:01,758 INFO Sending request to https://cds.climate.copernicus.eu/api/v2/resources/reanalysis-era5-pressure-levels\n",
      "2024-03-26 15:31:01,828 INFO Request is queued\n"
     ]
    },
    {
     "name": "stdout",
     "output_type": "stream",
     "text": [
      ".//inputs/climate/PLEV_202101.nc complete\n"
     ]
    },
    {
     "name": "stderr",
     "output_type": "stream",
     "text": [
      "2024-03-26 15:31:14,834 INFO Request is running\n",
      "2024-03-26 16:01:06,274 WARNING Connection error: [('Connection aborted.', TimeoutError(60, 'Operation timed out'))]. Attempt 1 of 500.\n",
      "2024-03-26 16:01:06,281 WARNING Retrying in 120 seconds\n",
      "2024-03-26 16:04:33,843 WARNING Connection error: [HTTPSConnectionPool(host='cds.climate.copernicus.eu', port=443): Max retries exceeded with url: /api/v2/tasks/fdb896ce-9ee0-4e10-84d8-344afd1811f7 (Caused by NameResolutionError(\"<urllib3.connection.HTTPSConnection object at 0x19a1d5b50>: Failed to resolve 'cds.climate.copernicus.eu' ([Errno 8] nodename nor servname provided, or not known)\"))]. Attempt 1 of 500.\n",
      "2024-03-26 16:04:33,881 WARNING Retrying in 120 seconds\n",
      "2024-03-26 16:04:34,022 WARNING Connection error: [HTTPSConnectionPool(host='cds.climate.copernicus.eu', port=443): Max retries exceeded with url: /api/v2/tasks/12fd4768-f6e9-4f7d-a405-0f657aa027b6 (Caused by NameResolutionError(\"<urllib3.connection.HTTPSConnection object at 0x19a1d55e0>: Failed to resolve 'cds.climate.copernicus.eu' ([Errno 8] nodename nor servname provided, or not known)\"))]. Attempt 1 of 500.\n",
      "2024-03-26 16:04:34,025 WARNING Retrying in 120 seconds\n"
     ]
    },
    {
     "name": "stdout",
     "output_type": "stream",
     "text": [
      "HTTPSConnectionPool(host='cds.climate.copernicus.eu', port=443): Max retries exceeded with url: /api/v2/tasks/53ae6c8f-b9b9-42b8-a1bd-c57955ba335e (Caused by NameResolutionError(\"<urllib3.connection.HTTPSConnection object at 0x19a245400>: Failed to resolve 'cds.climate.copernicus.eu' ([Errno 8] nodename nor servname provided, or not known)\"))\n",
      "HTTPSConnectionPool(host='cds.climate.copernicus.eu', port=443): Max retries exceeded with url: /api/v2/tasks/9c9b2ff3-8728-4c4b-bbbc-b5c3f4edb43b (Caused by NameResolutionError(\"<urllib3.connection.HTTPSConnection object at 0x19a2455e0>: Failed to resolve 'cds.climate.copernicus.eu' ([Errno 8] nodename nor servname provided, or not known)\"))\n"
     ]
    },
    {
     "name": "stderr",
     "output_type": "stream",
     "text": [
      "2024-03-26 16:06:14,595 WARNING Connection error: [('Connection aborted.', TimeoutError(60, 'Operation timed out'))]. Attempt 1 of 500.\n",
      "2024-03-26 16:06:14,598 WARNING Retrying in 120 seconds\n",
      "2024-03-26 16:10:26,980 WARNING Connection error: [HTTPSConnectionPool(host='cds.climate.copernicus.eu', port=443): Max retries exceeded with url: /api/v2/tasks/e13c2204-484d-4f04-9643-6e1ffdd6ece5 (Caused by NameResolutionError(\"<urllib3.connection.HTTPSConnection object at 0x19a216040>: Failed to resolve 'cds.climate.copernicus.eu' ([Errno 8] nodename nor servname provided, or not known)\"))]. Attempt 1 of 500.\n",
      "2024-03-26 16:10:26,982 WARNING Retrying in 120 seconds\n",
      "2024-03-26 16:10:29,096 WARNING Connection error: [HTTPSConnectionPool(host='cds.climate.copernicus.eu', port=443): Max retries exceeded with url: /api/v2/tasks/a132655e-0c0d-4814-8932-3868d8eabda5 (Caused by NameResolutionError(\"<urllib3.connection.HTTPSConnection object at 0x19a27bbe0>: Failed to resolve 'cds.climate.copernicus.eu' ([Errno 8] nodename nor servname provided, or not known)\"))]. Attempt 1 of 500.\n",
      "2024-03-26 16:10:29,099 WARNING Retrying in 120 seconds\n",
      "2024-03-26 16:10:35,078 WARNING Connection error: [HTTPSConnectionPool(host='cds.climate.copernicus.eu', port=443): Max retries exceeded with url: /api/v2/tasks/a35b1ed5-880f-418c-b121-7c29629f5328 (Caused by NameResolutionError(\"<urllib3.connection.HTTPSConnection object at 0x19a24d6a0>: Failed to resolve 'cds.climate.copernicus.eu' ([Errno 8] nodename nor servname provided, or not known)\"))]. Attempt 1 of 500.\n",
      "2024-03-26 16:10:35,080 WARNING Retrying in 120 seconds\n",
      "2024-03-26 16:10:36,616 WARNING Connection error: [HTTPSConnectionPool(host='cds.climate.copernicus.eu', port=443): Max retries exceeded with url: /api/v2/tasks/b6cca7f9-14fe-47c3-8a7d-fe71fc93146c (Caused by NameResolutionError(\"<urllib3.connection.HTTPSConnection object at 0x19a24d1c0>: Failed to resolve 'cds.climate.copernicus.eu' ([Errno 8] nodename nor servname provided, or not known)\"))]. Attempt 1 of 500.\n",
      "2024-03-26 16:10:36,618 WARNING Retrying in 120 seconds\n",
      "2024-03-26 16:10:40,535 WARNING Connection error: [HTTPSConnectionPool(host='cds.climate.copernicus.eu', port=443): Max retries exceeded with url: /api/v2/tasks/5cdf182f-4015-46f5-8c06-4a47def2057a (Caused by NameResolutionError(\"<urllib3.connection.HTTPSConnection object at 0x19a15d460>: Failed to resolve 'cds.climate.copernicus.eu' ([Errno 8] nodename nor servname provided, or not known)\"))]. Attempt 1 of 500.\n",
      "2024-03-26 16:10:40,537 WARNING Retrying in 120 seconds\n",
      "2024-03-26 16:10:43,325 WARNING Connection error: [('Connection aborted.', TimeoutError(60, 'Operation timed out'))]. Attempt 1 of 500.\n",
      "2024-03-26 16:10:43,328 WARNING Retrying in 120 seconds\n",
      "2024-03-26 16:11:42,683 WARNING Connection error: [HTTPSConnectionPool(host='cds.climate.copernicus.eu', port=443): Max retries exceeded with url: /api/v2/tasks/f241a5c6-36f3-4e41-b893-b28876e4013c (Caused by NameResolutionError(\"<urllib3.connection.HTTPSConnection object at 0x19a171940>: Failed to resolve 'cds.climate.copernicus.eu' ([Errno 8] nodename nor servname provided, or not known)\"))]. Attempt 1 of 500.\n",
      "2024-03-26 16:11:42,685 WARNING Retrying in 120 seconds\n",
      "2024-03-26 16:11:44,476 WARNING Connection error: [('Connection aborted.', TimeoutError(60, 'Operation timed out'))]. Attempt 1 of 500.\n",
      "2024-03-26 16:11:44,478 WARNING Retrying in 120 seconds\n",
      "2024-03-26 16:11:49,486 WARNING Connection error: [HTTPSConnectionPool(host='cds.climate.copernicus.eu', port=443): Max retries exceeded with url: /api/v2/tasks/eb11babb-ad3c-4f9c-b76a-290bc0470572 (Caused by NameResolutionError(\"<urllib3.connection.HTTPSConnection object at 0x19a1fe6a0>: Failed to resolve 'cds.climate.copernicus.eu' ([Errno 8] nodename nor servname provided, or not known)\"))]. Attempt 1 of 500.\n",
      "2024-03-26 16:11:49,492 WARNING Retrying in 120 seconds\n",
      "2024-03-26 16:29:55,478 WARNING Connection error: [HTTPSConnectionPool(host='cds.climate.copernicus.eu', port=443): Max retries exceeded with url: /api/v2/tasks/939aa3e9-d036-47b7-b88e-965866efe1b5 (Caused by NameResolutionError(\"<urllib3.connection.HTTPSConnection object at 0x19a1fe130>: Failed to resolve 'cds.climate.copernicus.eu' ([Errno 8] nodename nor servname provided, or not known)\"))]. Attempt 1 of 500.\n",
      "2024-03-26 16:29:55,480 WARNING Retrying in 120 seconds\n",
      "2024-03-26 16:47:08,716 WARNING Connection error: [HTTPSConnectionPool(host='cds.climate.copernicus.eu', port=443): Max retries exceeded with url: /api/v2/tasks/6dac29c1-f41c-44b4-93dc-fa05d5df5a61 (Caused by NameResolutionError(\"<urllib3.connection.HTTPSConnection object at 0x19a15d460>: Failed to resolve 'cds.climate.copernicus.eu' ([Errno 8] nodename nor servname provided, or not known)\"))]. Attempt 1 of 500.\n",
      "2024-03-26 16:47:08,718 WARNING Retrying in 120 seconds\n",
      "2024-03-26 16:47:09,328 WARNING Connection error: [HTTPSConnectionPool(host='cds.climate.copernicus.eu', port=443): Max retries exceeded with url: /api/v2/tasks/55b22f87-db74-4ca9-b348-eefd2316411a (Caused by NameResolutionError(\"<urllib3.connection.HTTPSConnection object at 0x19a24df10>: Failed to resolve 'cds.climate.copernicus.eu' ([Errno 8] nodename nor servname provided, or not known)\"))]. Attempt 1 of 500.\n",
      "2024-03-26 16:47:09,331 WARNING Retrying in 120 seconds\n",
      "2024-03-26 17:02:30,816 WARNING Connection error: [HTTPSConnectionPool(host='cds.climate.copernicus.eu', port=443): Max retries exceeded with url: /api/v2/tasks/26610b25-b0f3-4c12-8e20-673a5b89a5f3 (Caused by NameResolutionError(\"<urllib3.connection.HTTPSConnection object at 0x19a27b190>: Failed to resolve 'cds.climate.copernicus.eu' ([Errno 8] nodename nor servname provided, or not known)\"))]. Attempt 1 of 500.\n",
      "2024-03-26 17:02:30,820 WARNING Retrying in 120 seconds\n",
      "2024-03-26 17:02:32,880 WARNING Connection error: [HTTPSConnectionPool(host='cds.climate.copernicus.eu', port=443): Max retries exceeded with url: /api/v2/tasks/4eb0db24-9580-42a7-86bf-d07f3bb43f86 (Caused by NameResolutionError(\"<urllib3.connection.HTTPSConnection object at 0x19a27bfd0>: Failed to resolve 'cds.climate.copernicus.eu' ([Errno 8] nodename nor servname provided, or not known)\"))]. Attempt 1 of 500.\n",
      "2024-03-26 17:02:32,883 WARNING Retrying in 120 seconds\n",
      "2024-03-26 17:19:12,843 WARNING Connection error: [('Connection aborted.', TimeoutError(60, 'Operation timed out'))]. Attempt 1 of 500.\n",
      "2024-03-26 17:19:12,844 WARNING Retrying in 120 seconds\n",
      "2024-03-26 17:38:38,210 INFO Retrying now...\n",
      "2024-03-26 17:38:38,216 WARNING Connection error: [HTTPSConnectionPool(host='cds.climate.copernicus.eu', port=443): Max retries exceeded with url: /api/v2/tasks/d67edd0e-16ec-467e-be78-9bf96abec8d5 (Caused by NameResolutionError(\"<urllib3.connection.HTTPSConnection object at 0x19a223f10>: Failed to resolve 'cds.climate.copernicus.eu' ([Errno 8] nodename nor servname provided, or not known)\"))]. Attempt 2 of 500.\n",
      "2024-03-26 17:38:38,217 WARNING Retrying in 120 seconds\n",
      "2024-03-26 17:41:56,623 INFO Retrying now...\n",
      "2024-03-26 17:41:56,759 INFO Retrying now...\n",
      "2024-03-26 18:14:02,328 WARNING Connection error: [('Connection aborted.', TimeoutError(60, 'Operation timed out'))]. Attempt 1 of 500.\n",
      "2024-03-26 18:14:02,331 WARNING Retrying in 120 seconds\n",
      "2024-03-26 18:29:20,179 WARNING Connection error: [('Connection aborted.', TimeoutError(60, 'Operation timed out'))]. Attempt 1 of 500.\n",
      "2024-03-26 18:29:20,182 WARNING Retrying in 120 seconds\n",
      "2024-03-26 18:58:21,811 INFO Retrying now...\n",
      "2024-03-26 18:58:23,360 INFO Request is running\n",
      "2024-03-26 19:14:22,997 WARNING Connection error: [('Connection aborted.', TimeoutError(60, 'Operation timed out'))]. Attempt 1 of 500.\n",
      "2024-03-26 19:14:22,999 WARNING Retrying in 120 seconds\n",
      "2024-03-26 19:14:26,886 WARNING Connection error: [('Connection aborted.', TimeoutError(60, 'Operation timed out'))]. Attempt 1 of 500.\n",
      "2024-03-26 19:14:26,888 WARNING Retrying in 120 seconds\n",
      "2024-03-26 19:31:51,222 INFO Retrying now...\n",
      "2024-03-26 19:43:54,989 INFO Retrying now...\n",
      "2024-03-26 19:44:00,979 INFO Retrying now...\n",
      "2024-03-26 19:44:52,374 INFO Retrying now...\n",
      "2024-03-26 19:44:56,294 INFO Retrying now...\n",
      "2024-03-26 19:44:59,092 INFO Retrying now...\n",
      "2024-03-26 20:02:01,412 INFO Retrying now...\n",
      "2024-03-26 20:02:03,206 INFO Retrying now...\n",
      "2024-03-26 20:19:48,900 INFO Retrying now...\n",
      "2024-03-26 20:35:20,625 WARNING Connection error: [('Connection aborted.', TimeoutError(60, 'Operation timed out'))]. Attempt 2 of 500.\n",
      "2024-03-26 20:35:20,627 WARNING Retrying in 120 seconds\n",
      "2024-03-26 20:35:22,606 WARNING Connection error: [('Connection aborted.', TimeoutError(60, 'Operation timed out'))]. Attempt 1 of 500.\n",
      "2024-03-26 20:35:22,608 WARNING Retrying in 120 seconds\n",
      "2024-03-26 20:44:57,648 WARNING Connection error: [('Connection aborted.', TimeoutError(60, 'Operation timed out'))]. Attempt 1 of 500.\n",
      "2024-03-26 20:44:57,650 WARNING Retrying in 120 seconds\n",
      "2024-03-26 20:45:07,065 INFO Retrying now...\n",
      "2024-03-26 21:01:29,874 INFO Retrying now...\n",
      "2024-03-26 21:01:30,164 INFO Request is completed\n",
      "2024-03-26 21:01:30,166 INFO Downloading https://download-0015-clone.copernicus-climate.eu/cache-compute-0015/cache/data1/adaptor.mars.internal-1711467254.1296628-4323-5-6dac29c1-f41c-44b4-93dc-fa05d5df5a61.nc to .//inputs/climate/PLEV_202102.nc (4.2M)\n",
      "2024-03-26 21:01:30,494 INFO Retrying now...\n",
      "2024-03-26 21:17:41,859 INFO Welcome to the CDS                                 \n",
      "2024-03-26 21:17:41,861 INFO Sending request to https://cds.climate.copernicus.eu/api/v2/resources/reanalysis-era5-pressure-levels\n",
      "2024-03-26 21:17:42,009 INFO Request is queued\n",
      "2024-03-26 21:17:42,040 WARNING Connection error: [('Connection aborted.', TimeoutError(60, 'Operation timed out'))]. Attempt 2 of 500.\n",
      "2024-03-26 21:17:42,041 WARNING Retrying in 120 seconds\n",
      "2024-03-26 21:17:43,812 INFO Retrying now...\n",
      "2024-03-26 21:17:45,881 INFO Retrying now...\n",
      "2024-03-26 21:33:35,789 INFO Retrying now...\n"
     ]
    },
    {
     "name": "stdout",
     "output_type": "stream",
     "text": [
      "('Connection aborted.', TimeoutError(60, 'Operation timed out'))\n"
     ]
    },
    {
     "name": "stderr",
     "output_type": "stream",
     "text": [
      "2024-03-26 21:45:57,002 INFO Retrying now...\n",
      "2024-03-26 21:45:57,370 WARNING Connection error: [('Connection aborted.', TimeoutError(60, 'Operation timed out'))]. Attempt 2 of 500.\n",
      "2024-03-26 21:45:57,371 WARNING Retrying in 120 seconds\n",
      "2024-03-26 21:45:57,375 WARNING Connection error: [('Connection aborted.', TimeoutError(60, 'Operation timed out'))]. Attempt 1 of 500.\n",
      "2024-03-26 21:45:57,376 WARNING Retrying in 120 seconds\n",
      "2024-03-26 21:45:59,457 WARNING Connection error: [('Connection aborted.', TimeoutError(60, 'Operation timed out'))]. Attempt 2 of 500.\n",
      "2024-03-26 21:45:59,460 WARNING Retrying in 120 seconds\n",
      "2024-03-26 22:18:58,452 WARNING Connection error: [('Connection aborted.', TimeoutError(60, 'Operation timed out'))]. Attempt 2 of 500.\n",
      "2024-03-26 22:18:58,454 WARNING Retrying in 120 seconds\n",
      "2024-03-26 22:18:58,691 WARNING Connection error: [('Connection aborted.', TimeoutError(60, 'Operation timed out'))]. Attempt 1 of 500.\n",
      "2024-03-26 22:18:58,699 WARNING Retrying in 120 seconds\n",
      "2024-03-26 22:46:59,309 WARNING Connection error: [('Connection aborted.', TimeoutError(60, 'Operation timed out'))]. Attempt 1 of 500.\n",
      "2024-03-26 22:46:59,311 WARNING Retrying in 120 seconds\n",
      "2024-03-26 22:46:59,985 INFO Retrying now...\n",
      "2024-03-26 22:47:04,200 INFO Retrying now...\n",
      "2024-03-26 23:06:24,198 INFO Retrying now...\n",
      "2024-03-26 23:06:28,079 INFO Retrying now...\n",
      "2024-03-26 23:11:42,574 INFO Request is completed\n",
      "2024-03-26 23:11:42,577 INFO Downloading https://download-0001-clone.copernicus-climate.eu/cache-compute-0001/cache/data9/adaptor.mars.internal-1711485552.7993221-29843-7-5cdf182f-4015-46f5-8c06-4a47def2057a.nc to .//inputs/climate/PLEV_202107.nc (4.6M)\n",
      "2024-03-26 23:11:45,625 INFO Download rate 1.5M/s                               \n",
      "2024-03-26 23:11:45,793 INFO Welcome to the CDS\n",
      "2024-03-26 23:11:45,796 INFO Sending request to https://cds.climate.copernicus.eu/api/v2/resources/reanalysis-era5-pressure-levels\n"
     ]
    },
    {
     "name": "stdout",
     "output_type": "stream",
     "text": [
      ".//inputs/climate/PLEV_202107.nc complete\n"
     ]
    },
    {
     "name": "stderr",
     "output_type": "stream",
     "text": [
      "2024-03-26 23:11:45,940 INFO Request is queued\n",
      "2024-03-26 23:12:51,600 INFO Retrying now...\n",
      "2024-03-26 23:12:53,321 INFO Retrying now...\n",
      "2024-03-26 23:12:56,743 INFO Retrying now...\n",
      "2024-03-26 23:14:04,588 WARNING Connection error: [HTTPSConnectionPool(host='cds.climate.copernicus.eu', port=443): Read timed out. (read timeout=60)]. Attempt 1 of 500.\n",
      "2024-03-26 23:14:04,590 WARNING Retrying in 120 seconds\n",
      "2024-03-26 23:29:29,037 WARNING Connection error: [('Connection aborted.', TimeoutError(60, 'Operation timed out'))]. Attempt 1 of 500.\n",
      "2024-03-26 23:29:29,040 WARNING Retrying in 120 seconds\n",
      "2024-03-26 23:29:29,127 WARNING Connection error: [HTTPSConnectionPool(host='cds.climate.copernicus.eu', port=443): Read timed out. (read timeout=60)]. Attempt 1 of 500.\n",
      "2024-03-26 23:29:29,129 WARNING Retrying in 120 seconds\n",
      "2024-03-26 23:29:32,643 INFO Retrying now...\n",
      "2024-03-26 23:40:09,558 WARNING Connection error: [('Connection aborted.', TimeoutError(60, 'Operation timed out'))]. Attempt 1 of 500.\n",
      "2024-03-26 23:40:09,561 WARNING Retrying in 120 seconds\n",
      "2024-03-26 23:48:00,072 INFO Retrying now...\n",
      "2024-03-26 23:48:00,076 INFO Retrying now...\n",
      "2024-03-26 23:48:02,155 INFO Retrying now...\n",
      "2024-03-26 23:48:02,268 INFO Request is running\n",
      "2024-03-26 23:57:54,934 INFO Retrying now...\n",
      "2024-03-26 23:57:55,160 INFO Retrying now...\n",
      "2024-03-26 23:57:55,790 INFO Request is completed\n",
      "2024-03-26 23:57:55,793 INFO Downloading https://download-0012-clone.copernicus-climate.eu/cache-compute-0012/cache/data2/adaptor.mars.internal-1711481421.5685804-29481-8-12fd4768-f6e9-4f7d-a405-0f657aa027b6.nc to .//inputs/climate/PLEV_202106.nc (4.5M)\n",
      "2024-03-26 23:57:58,713 INFO Download rate 1.5M/s                               \n",
      "2024-03-26 23:57:58,887 INFO Welcome to the CDS\n",
      "2024-03-26 23:57:58,890 INFO Sending request to https://cds.climate.copernicus.eu/api/v2/resources/reanalysis-era5-pressure-levels\n",
      "2024-03-26 23:57:58,990 INFO Request is queued\n"
     ]
    },
    {
     "name": "stdout",
     "output_type": "stream",
     "text": [
      ".//inputs/climate/PLEV_202106.nc complete\n"
     ]
    },
    {
     "name": "stderr",
     "output_type": "stream",
     "text": [
      "2024-03-27 00:15:36,140 WARNING Connection error: [('Connection aborted.', TimeoutError(60, 'Operation timed out'))]. Attempt 1 of 500.\n",
      "2024-03-27 00:15:36,150 WARNING Retrying in 120 seconds\n",
      "2024-03-27 00:15:37,227 INFO Retrying now...\n",
      "2024-03-27 00:15:37,313 INFO Request is completed\n",
      "2024-03-27 00:15:37,314 INFO Downloading https://download-0012-clone.copernicus-climate.eu/cache-compute-0012/cache/data5/adaptor.mars.internal-1711475438.4263337-3578-12-08f8b64e-855f-4a2b-be86-7cf7075316c3.nc to .//inputs/climate/PLEV_202104.nc (4.5M)\n",
      "2024-03-27 00:47:57,181 WARNING Connection error: [('Connection aborted.', TimeoutError(60, 'Operation timed out'))]. Attempt 1 of 500.\n",
      "2024-03-27 00:47:57,183 WARNING Retrying in 120 seconds\n",
      "2024-03-27 00:47:57,658 WARNING Connection error: [('Connection aborted.', TimeoutError(60, 'Operation timed out'))]. Attempt 1 of 500.\n",
      "2024-03-27 00:47:57,660 WARNING Retrying in 120 seconds\n",
      "2024-03-27 00:47:58,199 WARNING Connection error: [('Connection aborted.', TimeoutError(60, 'Operation timed out'))]. Attempt 1 of 500.\n",
      "2024-03-27 00:47:58,200 WARNING Retrying in 120 seconds\n",
      "2024-03-27 01:05:39,231 WARNING Connection error: [('Connection aborted.', TimeoutError(60, 'Operation timed out'))]. Attempt 1 of 500.\n",
      "2024-03-27 01:05:39,234 WARNING Retrying in 120 seconds\n",
      "2024-03-27 01:05:41,941 WARNING Connection error: [('Connection aborted.', TimeoutError(60, 'Operation timed out'))]. Attempt 3 of 500.\n",
      "2024-03-27 01:05:41,943 WARNING Retrying in 120 seconds\n",
      "2024-03-27 01:22:09,946 WARNING Connection error: [('Connection aborted.', TimeoutError(60, 'Operation timed out'))]. Attempt 1 of 500.\n",
      "2024-03-27 01:22:09,947 WARNING Retrying in 120 seconds\n",
      "2024-03-27 02:05:38,703 WARNING Connection error: [('Connection aborted.', TimeoutError(60, 'Operation timed out'))]. Attempt 1 of 500.\n",
      "2024-03-27 02:05:38,704 WARNING Retrying in 120 seconds\n",
      "2024-03-27 02:05:38,802 WARNING Connection error: [('Connection aborted.', TimeoutError(60, 'Operation timed out'))]. Attempt 1 of 500.\n",
      "2024-03-27 02:05:38,806 WARNING Retrying in 120 seconds\n",
      "2024-03-27 02:30:58,231 WARNING Connection error: [('Connection aborted.', TimeoutError(60, 'Operation timed out'))]. Attempt 1 of 500.\n",
      "2024-03-27 02:30:58,233 WARNING Retrying in 120 seconds\n",
      "2024-03-27 03:21:04,280 WARNING Connection error: [('Connection aborted.', TimeoutError(60, 'Operation timed out'))]. Attempt 1 of 500.\n",
      "2024-03-27 03:21:04,282 WARNING Retrying in 120 seconds\n",
      "2024-03-27 03:21:05,051 INFO Retrying now...\n",
      "2024-03-27 03:21:05,167 INFO Retrying now...\n",
      "2024-03-27 03:21:05,252 INFO Retrying now...\n",
      "2024-03-27 03:21:05,579 INFO Request is failed\n",
      "2024-03-27 03:21:05,581 ERROR Message: Request cancelled by admin\n",
      "2024-03-27 03:21:05,582 ERROR Reason:  Request cancelled by admin\n",
      "2024-03-27 03:21:05,663 INFO Welcome to the CDS\n",
      "2024-03-27 03:21:05,665 INFO Sending request to https://cds.climate.copernicus.eu/api/v2/resources/reanalysis-era5-pressure-levels\n",
      "2024-03-27 03:21:05,839 INFO Request is queued\n",
      "2024-03-27 03:21:06,333 INFO Request is completed\n",
      "2024-03-27 03:21:06,335 INFO Downloading https://download-0005-clone.copernicus-climate.eu/cache-compute-0005/cache/data9/adaptor.mars.internal-1711501735.205613-30266-7-55b22f87-db74-4ca9-b348-eefd2316411a.nc to .//inputs/climate/PLEV_202111.nc (4.5M)\n",
      "2024-03-27 03:38:51,704 WARNING Connection error: [('Connection aborted.', TimeoutError(60, 'Operation timed out'))]. Attempt 2 of 500.\n",
      "2024-03-27 03:38:51,706 WARNING Retrying in 120 seconds\n",
      "2024-03-27 03:38:52,425 INFO Retrying now...\n",
      "2024-03-27 04:12:12,803 WARNING Connection error: [('Connection aborted.', TimeoutError(60, 'Operation timed out'))]. Attempt 1 of 500.\n",
      "2024-03-27 04:12:12,804 WARNING Retrying in 120 seconds\n",
      "2024-03-27 04:12:13,078 INFO Request is completed\n",
      "2024-03-27 04:12:13,081 INFO Downloading https://download-0009-clone.copernicus-climate.eu/cache-compute-0009/cache/data5/adaptor.mars.internal-1711493500.6538265-30459-18-4eb0db24-9580-42a7-86bf-d07f3bb43f86.nc to .//inputs/climate/PLEV_202109.nc (4.5M)\n",
      "2024-03-27 04:12:13,247 INFO Sending request to https://cds.climate.copernicus.eu/api/v2/resources/reanalysis-era5-pressure-levels\n",
      "  0%|                                               | 0.00/4.49M [00:00<?, ?B/s]2024-03-27 04:12:13,616 INFO Request is queued\n",
      "2024-03-27 04:12:15,977 INFO Download rate 1.6M/s                               \n"
     ]
    },
    {
     "name": "stdout",
     "output_type": "stream",
     "text": [
      ".//inputs/climate/PLEV_202109.nc complete\n"
     ]
    },
    {
     "name": "stderr",
     "output_type": "stream",
     "text": [
      "2024-03-27 04:28:28,201 WARNING Connection error: [('Connection aborted.', TimeoutError(60, 'Operation timed out'))]. Attempt 2 of 500.\n",
      "2024-03-27 04:28:28,202 WARNING Retrying in 120 seconds\n",
      "2024-03-27 04:28:30,290 WARNING Connection error: [('Connection aborted.', TimeoutError(60, 'Operation timed out'))]. Attempt 1 of 500.\n",
      "2024-03-27 04:28:30,292 WARNING Retrying in 120 seconds\n",
      "2024-03-27 05:18:01,340 INFO Retrying now...\n",
      "2024-03-27 05:18:02,582 WARNING Connection error: [('Connection aborted.', TimeoutError(60, 'Operation timed out'))]. Attempt 1 of 500.\n",
      "2024-03-27 05:18:02,584 WARNING Retrying in 120 seconds\n",
      "2024-03-27 05:35:07,184 INFO Request is completed\n",
      "2024-03-27 05:35:07,187 INFO Downloading https://download-0013-clone.copernicus-climate.eu/cache-compute-0013/cache/data8/adaptor.mars.internal-1711505594.581024-19131-11-9ac4a6f6-0ca8-4a07-9a2b-3869c4c2abb1.nc to .//inputs/climate/PLEV_202112.nc (4.6M)\n",
      "  0%|                                               | 0.00/4.64M [00:00<?, ?B/s]2024-03-27 05:35:07,681 WARNING Connection error: [('Connection aborted.', TimeoutError(60, 'Operation timed out'))]. Attempt 2 of 500.\n",
      "2024-03-27 05:35:07,683 WARNING Retrying in 120 seconds\n",
      "2024-03-27 05:35:10,255 INFO Download rate 1.5M/s                               \n",
      "2024-03-27 05:35:10,700 INFO Retrying now...\n"
     ]
    },
    {
     "name": "stdout",
     "output_type": "stream",
     "text": [
      ".//inputs/climate/PLEV_202112.nc complete\n"
     ]
    },
    {
     "name": "stderr",
     "output_type": "stream",
     "text": [
      "  0%|                                               | 0.00/4.49M [00:00<?, ?B/s]2024-03-27 05:35:11,167 INFO Retrying now...\n",
      "  1%|▎                                      | 34.0k/4.49M [00:00<00:14, 316kB/s]2024-03-27 05:43:08,359 INFO Retrying now...\n",
      "2024-03-27 05:43:11,768 INFO Retrying now...                                    \n",
      "2024-03-27 05:43:14,457 INFO Retrying now...\n",
      "2024-03-27 06:00:22,804 WARNING Connection error: [('Connection aborted.', TimeoutError(60, 'Operation timed out'))]. Attempt 1 of 500.\n",
      "2024-03-27 06:00:22,806 WARNING Retrying in 120 seconds\n",
      "2024-03-27 06:00:22,821 WARNING Connection error: [('Connection aborted.', TimeoutError(60, 'Operation timed out'))]. Attempt 4 of 500.\n",
      "2024-03-27 06:00:22,823 WARNING Retrying in 120 seconds\n",
      "2024-03-27 06:00:23,219 WARNING Connection error: [('Connection aborted.', TimeoutError(60, 'Operation timed out'))]. Attempt 2 of 500.\n",
      "2024-03-27 06:00:23,221 WARNING Retrying in 120 seconds\n",
      "2024-03-27 06:00:24,544 WARNING Connection error: [('Connection aborted.', TimeoutError(60, 'Operation timed out'))]. Attempt 2 of 500.\n",
      "2024-03-27 06:00:24,547 WARNING Retrying in 120 seconds\n"
     ]
    },
    {
     "name": "stdout",
     "output_type": "stream",
     "text": [
      "('Connection aborted.', TimeoutError(60, 'Operation timed out'))\n"
     ]
    },
    {
     "name": "stderr",
     "output_type": "stream",
     "text": [
      "2024-03-27 06:16:00,814 INFO Retrying now...\n",
      "2024-03-27 06:46:57,251 WARNING Connection error: [('Connection aborted.', TimeoutError(60, 'Operation timed out'))]. Attempt 1 of 500.\n",
      "2024-03-27 06:46:57,254 WARNING Retrying in 120 seconds\n",
      "2024-03-27 06:46:57,906 WARNING Connection error: [('Connection aborted.', TimeoutError(60, 'Operation timed out'))]. Attempt 1 of 500.\n",
      "2024-03-27 06:46:57,908 WARNING Retrying in 120 seconds\n",
      "2024-03-27 07:19:47,301 INFO Retrying now...\n",
      "2024-03-27 07:19:47,453 INFO Retrying now...\n",
      "2024-03-27 07:19:48,750 INFO Request is completed\n",
      "2024-03-27 07:19:48,751 INFO Downloading https://download-0010-clone.copernicus-climate.eu/cache-compute-0010/cache/data8/adaptor.mars.internal-1711509614.6288135-19156-4-a132655e-0c0d-4814-8932-3868d8eabda5.nc to .//inputs/climate/PLEV_202202.nc (4.2M)\n",
      "2024-03-27 07:37:29,891 WARNING Connection error: [('Connection aborted.', TimeoutError(60, 'Operation timed out'))]. Attempt 2 of 500.\n",
      "2024-03-27 07:37:29,899 WARNING Retrying in 120 seconds\n",
      "2024-03-27 07:44:11,679 INFO Retrying now...\n",
      "2024-03-27 08:00:16,169 WARNING Connection error: [('Connection aborted.', TimeoutError(60, 'Operation timed out'))]. Attempt 2 of 500.\n",
      "2024-03-27 08:00:16,171 WARNING Retrying in 120 seconds\n"
     ]
    },
    {
     "name": "stdout",
     "output_type": "stream",
     "text": [
      "('Connection aborted.', TimeoutError(60, 'Operation timed out'))\n"
     ]
    },
    {
     "name": "stderr",
     "output_type": "stream",
     "text": [
      "2024-03-27 08:10:55,010 WARNING Connection error: [('Connection aborted.', TimeoutError(60, 'Operation timed out'))]. Attempt 1 of 500.\n",
      "2024-03-27 08:10:55,012 WARNING Retrying in 120 seconds\n",
      "2024-03-27 08:28:35,953 INFO Retrying now...\n",
      "2024-03-27 09:00:45,096 INFO Retrying now...\n",
      "2024-03-27 09:00:46,789 WARNING Connection error: [('Connection aborted.', TimeoutError(60, 'Operation timed out'))]. Attempt 2 of 500.\n",
      "2024-03-27 09:00:46,791 WARNING Retrying in 120 seconds\n",
      "2024-03-27 09:17:27,200 WARNING Connection error: [('Connection aborted.', TimeoutError(60, 'Operation timed out'))]. Attempt 3 of 500.\n",
      "2024-03-27 09:17:27,201 WARNING Retrying in 120 seconds\n",
      "2024-03-27 09:34:19,185 INFO Retrying now...\n",
      "2024-03-27 09:34:24,027 INFO Retrying now...\n",
      "2024-03-27 09:34:24,100 INFO Request is completed\n",
      "2024-03-27 09:34:24,102 INFO Downloading https://download-0006-clone.copernicus-climate.eu/cache-compute-0006/cache/data5/adaptor.mars.internal-1711489573.6779146-24782-4-a35b1ed5-880f-418c-b121-7c29629f5328.nc to .//inputs/climate/PLEV_202108.nc (4.6M)\n",
      "  6%|██▌                                     | 300k/4.64M [00:00<00:06, 661kB/s]2024-03-27 09:45:30,787 INFO Retrying now...\n",
      "2024-03-27 09:45:32,969 INFO Download rate 7.1K/s                               \n"
     ]
    },
    {
     "name": "stdout",
     "output_type": "stream",
     "text": [
      ".//inputs/climate/PLEV_202108.nc complete\n"
     ]
    },
    {
     "name": "stderr",
     "output_type": "stream",
     "text": [
      "2024-03-27 10:02:22,549 WARNING Connection error: [('Connection aborted.', TimeoutError(60, 'Operation timed out'))]. Attempt 2 of 500.\n",
      "2024-03-27 10:02:22,551 WARNING Retrying in 120 seconds\n",
      "2024-03-27 10:18:36,587 WARNING Connection error: [('Connection aborted.', TimeoutError(60, 'Operation timed out'))]. Attempt 1 of 500.\n",
      "2024-03-27 10:18:36,588 WARNING Retrying in 120 seconds\n",
      "2024-03-27 10:18:39,141 INFO Retrying now...\n",
      "2024-03-27 10:34:59,242 INFO Retrying now...\n",
      "2024-03-27 10:46:33,454 WARNING Connection error: [('Connection aborted.', TimeoutError(60, 'Operation timed out'))]. Attempt 1 of 500.\n",
      "2024-03-27 10:46:33,456 WARNING Retrying in 120 seconds\n",
      "2024-03-27 10:52:01,810 INFO Retrying now...\n",
      "2024-03-27 10:52:01,826 INFO Retrying now...\n",
      "2024-03-27 10:52:02,231 INFO Retrying now...\n",
      "2024-03-27 10:52:03,560 INFO Retrying now...\n",
      "2024-03-27 11:05:38,724 WARNING Connection error: [HTTPSConnectionPool(host='cds.climate.copernicus.eu', port=443): Max retries exceeded with url: /api/v2/tasks/9cb6864f-e7a2-4866-82a0-896d7cc17182 (Caused by NewConnectionError('<urllib3.connection.HTTPSConnection object at 0x19a1d5fd0>: Failed to establish a new connection: [Errno 60] Operation timed out'))]. Attempt 1 of 500.\n",
      "2024-03-27 11:05:38,733 WARNING Retrying in 120 seconds\n",
      "2024-03-27 11:05:39,499 WARNING Connection error: [HTTPSConnectionPool(host='cds.climate.copernicus.eu', port=443): Max retries exceeded with url: /api/v2/tasks/67535452-0809-488f-a357-413d0909e45d (Caused by NewConnectionError('<urllib3.connection.HTTPSConnection object at 0x19a24c460>: Failed to establish a new connection: [Errno 60] Operation timed out'))]. Attempt 5 of 500.\n",
      "2024-03-27 11:05:39,500 WARNING Retrying in 120 seconds\n",
      "2024-03-27 11:05:39,738 WARNING Connection error: [('Connection aborted.', TimeoutError(60, 'Operation timed out'))]. Attempt 2 of 500.\n",
      "2024-03-27 11:05:39,740 WARNING Retrying in 120 seconds\n",
      "2024-03-27 11:05:39,905 WARNING Connection error: [HTTPSConnectionPool(host='cds.climate.copernicus.eu', port=443): Max retries exceeded with url: /api/v2/tasks/54fce7f8-e1fa-4ca8-b3b6-0ac6d689a5ba (Caused by NewConnectionError('<urllib3.connection.HTTPSConnection object at 0x19a24ca90>: Failed to establish a new connection: [Errno 60] Operation timed out'))]. Attempt 3 of 500.\n",
      "2024-03-27 11:05:39,907 WARNING Retrying in 120 seconds\n",
      "2024-03-27 11:05:40,995 WARNING Connection error: [HTTPSConnectionPool(host='cds.climate.copernicus.eu', port=443): Max retries exceeded with url: /api/v2/tasks/e2eeb841-f7b3-4f88-bf22-78bee191f357 (Caused by NameResolutionError(\"<urllib3.connection.HTTPSConnection object at 0x19a14b9d0>: Failed to resolve 'cds.climate.copernicus.eu' ([Errno 8] nodename nor servname provided, or not known)\"))]. Attempt 1 of 500.\n",
      "2024-03-27 11:05:40,997 WARNING Retrying in 120 seconds\n",
      "2024-03-27 11:05:41,591 WARNING Connection error: [('Connection aborted.', TimeoutError(60, 'Operation timed out'))]. Attempt 3 of 500.\n",
      "2024-03-27 11:05:41,593 WARNING Retrying in 120 seconds\n",
      "2024-03-27 11:05:47,109 INFO Retrying now...\n",
      "2024-03-27 11:05:47,116 WARNING Connection error: [HTTPSConnectionPool(host='cds.climate.copernicus.eu', port=443): Max retries exceeded with url: /api/v2/tasks/b589426d-ee4e-41c3-97af-9a6cae0c26c8 (Caused by NameResolutionError(\"<urllib3.connection.HTTPSConnection object at 0x19a171df0>: Failed to resolve 'cds.climate.copernicus.eu' ([Errno 8] nodename nor servname provided, or not known)\"))]. Attempt 2 of 500.\n",
      "2024-03-27 11:05:47,118 WARNING Retrying in 120 seconds\n",
      "2024-03-27 11:05:47,703 INFO Retrying now...\n",
      "2024-03-27 11:05:47,711 WARNING Connection error: [HTTPSConnectionPool(host='cds.climate.copernicus.eu', port=443): Max retries exceeded with url: /api/v2/tasks/11528ea3-28b5-4cfe-8440-33d1f9ac7e3b (Caused by NameResolutionError(\"<urllib3.connection.HTTPSConnection object at 0x19a171ee0>: Failed to resolve 'cds.climate.copernicus.eu' ([Errno 8] nodename nor servname provided, or not known)\"))]. Attempt 2 of 500.\n",
      "2024-03-27 11:05:47,713 WARNING Retrying in 120 seconds\n",
      "2024-03-27 11:05:49,337 WARNING Connection error: [('Connection aborted.', TimeoutError(60, 'Operation timed out'))]. Attempt 1 of 500.\n",
      "2024-03-27 11:05:49,341 WARNING Retrying in 120 seconds\n",
      "2024-03-27 11:06:26,163 INFO Retrying now...\n",
      "2024-03-27 11:08:12,646 INFO Retrying now...\n",
      "2024-03-27 11:08:12,657 WARNING Connection error: [HTTPSConnectionPool(host='cds.climate.copernicus.eu', port=443): Max retries exceeded with url: /api/v2/tasks/8a7c29c7-3a1b-4146-80c9-536e29bff6db (Caused by NameResolutionError(\"<urllib3.connection.HTTPSConnection object at 0x19a22c520>: Failed to resolve 'cds.climate.copernicus.eu' ([Errno 8] nodename nor servname provided, or not known)\"))]. Attempt 3 of 500.\n",
      "2024-03-27 11:08:12,658 WARNING Retrying in 120 seconds\n",
      "2024-03-27 11:08:13,411 WARNING Connection error: [HTTPSConnectionPool(host='cds.climate.copernicus.eu', port=443): Max retries exceeded with url: /api/v2/tasks/eb11babb-ad3c-4f9c-b76a-290bc0470572 (Caused by NameResolutionError(\"<urllib3.connection.HTTPSConnection object at 0x19a24dfd0>: Failed to resolve 'cds.climate.copernicus.eu' ([Errno 8] nodename nor servname provided, or not known)\"))]. Attempt 1 of 500.\n",
      "2024-03-27 11:08:13,412 WARNING Retrying in 120 seconds\n",
      "2024-03-27 11:08:14,494 INFO Request is running\n",
      "2024-03-27 11:08:16,319 WARNING Connection error: [('Connection aborted.', ConnectionResetError(54, 'Connection reset by peer'))]. Attempt 1 of 500.\n",
      "2024-03-27 11:08:16,321 WARNING Retrying in 120 seconds\n",
      "2024-03-27 11:08:17,852 INFO Retrying now...\n",
      "2024-03-27 11:08:36,273 WARNING Connection error: [HTTPSConnectionPool(host='cds.climate.copernicus.eu', port=443): Read timed out. (read timeout=60)]. Attempt 3 of 500.\n",
      "2024-03-27 11:08:36,275 WARNING Retrying in 120 seconds\n",
      "2024-03-27 11:08:36,918 INFO Request is completed\n",
      "2024-03-27 11:08:36,920 INFO Downloading https://download-0019.copernicus-climate.eu/cache-compute-0019/cache/data1/adaptor.mars.internal-1711532179.065207-8816-18-9da630b5-cbd9-47c4-9680-fbb91f9e2d2a.nc to .//inputs/climate/PLEV_202206.nc (4.5M)\n",
      "2024-03-27 11:08:41,358 INFO Download rate 1M/s                                 \n"
     ]
    },
    {
     "name": "stdout",
     "output_type": "stream",
     "text": [
      ".//inputs/climate/PLEV_202206.nc complete\n"
     ]
    },
    {
     "name": "stderr",
     "output_type": "stream",
     "text": [
      "2024-03-27 11:10:41,079 INFO Retrying now...\n",
      "2024-03-27 11:10:45,779 WARNING Connection error: [('Connection aborted.', ConnectionResetError(54, 'Connection reset by peer'))]. Attempt 3 of 500.\n",
      "2024-03-27 11:10:45,784 WARNING Retrying in 120 seconds\n",
      "2024-03-27 11:10:45,831 INFO Retrying now...\n",
      "2024-03-27 11:11:36,777 INFO Retrying now...\n",
      "2024-03-27 11:11:42,147 INFO Retrying now...\n",
      "2024-03-27 11:12:11,191 INFO Retrying now...\n",
      "2024-03-27 11:12:56,809 INFO Retrying now...\n",
      "2024-03-27 11:12:57,571 INFO Retrying now...\n",
      "2024-03-27 11:12:57,634 INFO Request is completed\n",
      "2024-03-27 11:12:57,637 INFO Downloading https://download-0013-clone.copernicus-climate.eu/cache-compute-0013/cache/data5/adaptor.mars.internal-1711471432.3259022-29390-15-67535452-0809-488f-a357-413d0909e45d.nc to .//inputs/climate/PLEV_202103.nc (4.6M)\n",
      "2024-03-27 11:12:57,808 INFO Retrying now...\n",
      "2024-03-27 11:12:57,862 INFO Request is completed\n",
      "2024-03-27 11:12:57,865 INFO Downloading https://download-0009-clone.copernicus-climate.eu/cache-compute-0009/cache/data3/adaptor.mars.internal-1711525415.4173458-2336-7-48c921d3-739e-44e1-906d-f4ec7fc7bef9.nc to .//inputs/climate/PLEV_202207.nc (4.6M)\n",
      "2024-03-27 11:12:57,980 INFO Retrying now...\n",
      "2024-03-27 11:12:58,036 INFO Request is completed\n",
      "2024-03-27 11:12:58,039 INFO Downloading https://download-0008-clone.copernicus-climate.eu/cache-compute-0008/cache/data9/adaptor.mars.internal-1711517330.358935-30725-8-54fce7f8-e1fa-4ca8-b3b6-0ac6d689a5ba.nc to .//inputs/climate/PLEV_202204.nc (4.5M)\n",
      "2024-03-27 11:12:58,937 INFO Download rate 5M/s                                 \n",
      "2024-03-27 11:12:59,070 INFO Retrying now...\n",
      "2024-03-27 11:12:59,124 INFO Request is completed\n",
      "2024-03-27 11:12:59,126 INFO Downloading https://download-0017.copernicus-climate.eu/cache-compute-0017/cache/data5/adaptor.mars.internal-1711528553.4399548-6463-14-e2eeb841-f7b3-4f88-bf22-78bee191f357.nc to .//inputs/climate/PLEV_202205.nc (4.6M)\n"
     ]
    },
    {
     "name": "stdout",
     "output_type": "stream",
     "text": [
      ".//inputs/climate/PLEV_202204.nc complete\n"
     ]
    },
    {
     "name": "stderr",
     "output_type": "stream",
     "text": [
      " 13%|█████▏                                 | 630k/4.64M [00:00<00:01, 3.15MB/s]2024-03-27 11:12:59,665 INFO Retrying now...\n",
      "2024-03-27 11:12:59,807 INFO Download rate 6.8M/s                               \n"
     ]
    },
    {
     "name": "stdout",
     "output_type": "stream",
     "text": [
      ".//inputs/climate/PLEV_202205.nc complete\n"
     ]
    },
    {
     "name": "stderr",
     "output_type": "stream",
     "text": [
      "2024-03-27 11:13:05,192 INFO Retrying now...\n",
      "2024-03-27 11:13:05,265 INFO Request is completed\n",
      "2024-03-27 11:13:05,266 INFO Downloading https://download-0000-clone.copernicus-climate.eu/cache-compute-0000/cache/data8/adaptor.mars.internal-1711521582.5599258-5621-6-b589426d-ee4e-41c3-97af-9a6cae0c26c8.nc to .//inputs/climate/PLEV_202201.nc (4.6M)\n",
      " 17%|██████▌                                | 799k/4.64M [00:00<00:00, 4.53MB/s]2024-03-27 11:13:05,787 INFO Retrying now...\n",
      "2024-03-27 11:13:06,239 INFO Download rate 4.8M/s                               \n"
     ]
    },
    {
     "name": "stdout",
     "output_type": "stream",
     "text": [
      ".//inputs/climate/PLEV_202201.nc complete\n"
     ]
    },
    {
     "name": "stderr",
     "output_type": "stream",
     "text": [
      "2024-03-27 11:13:07,417 INFO Retrying now...\n",
      "2024-03-27 11:13:34,585 INFO Retrying now...\n",
      "2024-03-27 11:13:35,339 INFO Retrying now...\n",
      "2024-03-27 11:13:38,245 INFO Retrying now...\n",
      "2024-03-27 11:13:45,753 WARNING Connection error: [('Connection aborted.', TimeoutError(60, 'Operation timed out'))]. Attempt 1 of 500.\n",
      "2024-03-27 11:13:45,757 WARNING Retrying in 120 seconds\n",
      "2024-03-27 11:13:52,295 INFO Retrying now...\n",
      "2024-03-27 11:13:52,363 INFO Request is completed\n",
      "2024-03-27 11:13:52,364 INFO Downloading https://download-0017.copernicus-climate.eu/cache-compute-0017/cache/data7/adaptor.mars.internal-1711513276.2190561-9102-17-10b9b758-4078-49b8-924a-c2d5bcf2cf73.nc to .//inputs/climate/PLEV_202203.nc (4.6M)\n",
      "2024-03-27 11:13:52,896 INFO Download rate 8.7M/s                               \n"
     ]
    },
    {
     "name": "stdout",
     "output_type": "stream",
     "text": [
      ".//inputs/climate/PLEV_202203.nc complete\n"
     ]
    },
    {
     "name": "stderr",
     "output_type": "stream",
     "text": [
      "2024-03-27 11:13:57,938 WARNING Connection error: [HTTPSConnectionPool(host='download-0009-clone.copernicus-climate.eu', port=443): Read timed out. (read timeout=60)]. Attempt 1 of 500.\n",
      "2024-03-27 11:13:57,939 WARNING Retrying in 120 seconds\n",
      "2024-03-27 11:14:03,501 INFO Retrying now...\n",
      "2024-03-27 11:14:03,563 INFO Request is completed\n",
      "2024-03-27 11:14:03,565 INFO Downloading https://download-0015-clone.copernicus-climate.eu/cache-compute-0015/cache/data1/adaptor.mars.internal-1711497745.328684-25307-6-78c9a0f8-4b79-407f-a11f-52ec5781d4a2.nc to .//inputs/climate/PLEV_202110.nc (4.6M)\n",
      "2024-03-27 11:14:04,274 INFO Download rate 6.5M/s                               \n"
     ]
    },
    {
     "name": "stdout",
     "output_type": "stream",
     "text": [
      ".//inputs/climate/PLEV_202110.nc complete\n"
     ]
    },
    {
     "name": "stderr",
     "output_type": "stream",
     "text": [
      "2024-03-27 11:15:45,764 INFO Retrying now...\n",
      "2024-03-27 11:15:46,987 INFO Download rate 28K/s                                \n"
     ]
    },
    {
     "name": "stdout",
     "output_type": "stream",
     "text": [
      ".//inputs/climate/PLEV_202103.nc complete\n"
     ]
    },
    {
     "name": "stderr",
     "output_type": "stream",
     "text": [
      "2024-03-27 11:15:57,946 INFO Retrying now...\n",
      "2024-03-27 11:15:59,092 INFO Download rate 26.2K/s                              \n"
     ]
    },
    {
     "name": "stdout",
     "output_type": "stream",
     "text": [
      ".//inputs/climate/PLEV_202207.nc complete\n"
     ]
    },
    {
     "name": "stderr",
     "output_type": "stream",
     "text": [
      "2024-03-27 11:34:25,837 INFO Request is running\n",
      "2024-03-27 11:35:37,131 INFO Request is completed\n",
      "2024-03-27 11:35:37,133 INFO Downloading https://download-0009-clone.copernicus-climate.eu/cache-compute-0009/cache/data1/adaptor.mars.internal-1711535488.2194319-10460-16-ca3465b3-d1de-449a-a9b3-7e74b998fc9a.nc to .//inputs/climate/PLEV_202208.nc (4.6M)\n",
      "2024-03-27 11:35:37,847 INFO Download rate 6.5M/s                               \n"
     ]
    },
    {
     "name": "stdout",
     "output_type": "stream",
     "text": [
      ".//inputs/climate/PLEV_202208.nc complete\n"
     ]
    },
    {
     "name": "stderr",
     "output_type": "stream",
     "text": [
      "2024-03-27 12:29:24,097 INFO Request is running\n",
      "2024-03-27 12:30:27,356 INFO Request is completed\n",
      "2024-03-27 12:30:27,364 INFO Downloading https://download-0009-clone.copernicus-climate.eu/cache-compute-0009/cache/data2/adaptor.mars.internal-1711538759.1131544-17719-2-f241a5c6-36f3-4e41-b893-b28876e4013c.nc to .//inputs/climate/PLEV_202209.nc (4.5M)\n",
      "2024-03-27 12:30:28,339 INFO Download rate 4.6M/s                               \n"
     ]
    },
    {
     "name": "stdout",
     "output_type": "stream",
     "text": [
      ".//inputs/climate/PLEV_202209.nc complete\n"
     ]
    },
    {
     "name": "stderr",
     "output_type": "stream",
     "text": [
      "2024-03-27 13:34:20,946 INFO Request is running\n",
      "2024-03-27 13:35:25,965 INFO Request is completed\n",
      "2024-03-27 13:35:25,968 INFO Downloading https://download-0019.copernicus-climate.eu/cache-compute-0019/cache/data8/adaptor.mars.internal-1711542674.0798697-6474-2-e13c2204-484d-4f04-9643-6e1ffdd6ece5.nc to .//inputs/climate/PLEV_202210.nc (4.6M)\n",
      "2024-03-27 13:36:00,956 WARNING Connection error: [('Connection aborted.', TimeoutError(60, 'Operation timed out'))]. Attempt 1 of 500.\n",
      "2024-03-27 13:36:00,958 WARNING Retrying in 120 seconds\n",
      "2024-03-27 13:38:00,966 INFO Retrying now...\n",
      "2024-03-27 13:38:02,047 INFO Download rate 30.4K/s                              \n"
     ]
    },
    {
     "name": "stdout",
     "output_type": "stream",
     "text": [
      ".//inputs/climate/PLEV_202210.nc complete\n"
     ]
    },
    {
     "name": "stderr",
     "output_type": "stream",
     "text": [
      "2024-03-27 14:28:01,925 INFO Request is running\n",
      "2024-03-27 14:28:22,911 INFO Request is completed\n",
      "2024-03-27 14:28:22,913 INFO Downloading https://download-0019.copernicus-climate.eu/cache-compute-0019/cache/data8/adaptor.mars.internal-1711545869.3671331-28369-8-d67edd0e-16ec-467e-be78-9bf96abec8d5.nc to .//inputs/climate/PLEV_202211.nc (4.5M)\n",
      "2024-03-27 14:28:23,759 INFO Download rate 5.3M/s                               \n"
     ]
    },
    {
     "name": "stdout",
     "output_type": "stream",
     "text": [
      ".//inputs/climate/PLEV_202211.nc complete\n"
     ]
    },
    {
     "name": "stderr",
     "output_type": "stream",
     "text": [
      "2024-03-27 15:23:14,770 INFO Request is running\n",
      "2024-03-27 15:24:03,704 INFO Request is completed\n",
      "2024-03-27 15:24:03,707 INFO Downloading https://download-0001-clone.copernicus-climate.eu/cache-compute-0001/cache/data9/adaptor.mars.internal-1711549222.2381368-27453-2-939aa3e9-d036-47b7-b88e-965866efe1b5.nc to .//inputs/climate/PLEV_202212.nc (4.6M)\n",
      "2024-03-27 15:24:05,664 INFO Download rate 2.4M/s                               \n"
     ]
    },
    {
     "name": "stdout",
     "output_type": "stream",
     "text": [
      ".//inputs/climate/PLEV_202212.nc complete\n"
     ]
    },
    {
     "name": "stderr",
     "output_type": "stream",
     "text": [
      "2024-03-27 16:11:18,893 WARNING Connection error: [('Connection aborted.', TimeoutError(60, 'Operation timed out'))]. Attempt 1 of 500.\n",
      "2024-03-27 16:11:18,910 WARNING Retrying in 120 seconds\n",
      "2024-03-27 16:23:54,639 WARNING Connection error: [('Connection aborted.', TimeoutError(60, 'Operation timed out'))]. Attempt 1 of 500.\n",
      "2024-03-27 16:23:54,641 WARNING Retrying in 120 seconds\n",
      "2024-03-27 16:23:57,309 WARNING Connection error: [('Connection aborted.', TimeoutError(60, 'Operation timed out'))]. Attempt 1 of 500.\n",
      "2024-03-27 16:23:57,311 WARNING Retrying in 120 seconds\n",
      "2024-03-27 16:37:19,700 WARNING Connection error: [('Connection aborted.', TimeoutError(60, 'Operation timed out'))]. Attempt 1 of 500.\n",
      "2024-03-27 16:37:19,702 WARNING Retrying in 120 seconds\n",
      "2024-03-27 16:38:20,350 WARNING Connection error: [HTTPSConnectionPool(host='cds.climate.copernicus.eu', port=443): Max retries exceeded with url: /api/v2/tasks/9cb6864f-e7a2-4866-82a0-896d7cc17182 (Caused by NameResolutionError(\"<urllib3.connection.HTTPSConnection object at 0x19a262e20>: Failed to resolve 'cds.climate.copernicus.eu' ([Errno 8] nodename nor servname provided, or not known)\"))]. Attempt 1 of 500.\n",
      "2024-03-27 16:38:20,352 WARNING Retrying in 120 seconds\n",
      "2024-03-27 16:38:59,474 INFO Retrying now...\n",
      "2024-03-27 16:39:27,607 INFO Retrying now...\n",
      "2024-03-27 16:40:09,520 INFO Retrying now...\n",
      "2024-03-27 16:40:09,555 WARNING Connection error: [HTTPSConnectionPool(host='cds.climate.copernicus.eu', port=443): Max retries exceeded with url: /api/v2/tasks/8a7c29c7-3a1b-4146-80c9-536e29bff6db (Caused by NameResolutionError(\"<urllib3.connection.HTTPSConnection object at 0x19a24c4c0>: Failed to resolve 'cds.climate.copernicus.eu' ([Errno 8] nodename nor servname provided, or not known)\"))]. Attempt 1 of 500.\n",
      "2024-03-27 16:40:09,557 WARNING Retrying in 120 seconds\n",
      "2024-03-27 16:40:09,896 WARNING Connection error: [HTTPSConnectionPool(host='cds.climate.copernicus.eu', port=443): Max retries exceeded with url: /api/v2/tasks/eb11babb-ad3c-4f9c-b76a-290bc0470572 (Caused by NameResolutionError(\"<urllib3.connection.HTTPSConnection object at 0x19a24cfd0>: Failed to resolve 'cds.climate.copernicus.eu' ([Errno 8] nodename nor servname provided, or not known)\"))]. Attempt 1 of 500.\n",
      "2024-03-27 16:40:09,901 WARNING Retrying in 120 seconds\n",
      "2024-03-27 16:40:12,927 WARNING Connection error: [HTTPSConnectionPool(host='cds.climate.copernicus.eu', port=443): Max retries exceeded with url: /api/v2/tasks/aa167485-4dab-495a-b4bb-7e7dfa988e05 (Caused by NameResolutionError(\"<urllib3.connection.HTTPSConnection object at 0x19a24c490>: Failed to resolve 'cds.climate.copernicus.eu' ([Errno 8] nodename nor servname provided, or not known)\"))]. Attempt 1 of 500.\n",
      "2024-03-27 16:40:12,928 WARNING Retrying in 120 seconds\n",
      "2024-03-27 16:42:47,817 INFO Retrying now...\n",
      "2024-03-27 16:42:47,829 WARNING Connection error: [HTTPSConnectionPool(host='cds.climate.copernicus.eu', port=443): Max retries exceeded with url: /api/v2/tasks/b6cca7f9-14fe-47c3-8a7d-fe71fc93146c (Caused by NameResolutionError(\"<urllib3.connection.HTTPSConnection object at 0x19a262bb0>: Failed to resolve 'cds.climate.copernicus.eu' ([Errno 8] nodename nor servname provided, or not known)\"))]. Attempt 2 of 500.\n",
      "2024-03-27 16:42:47,831 WARNING Retrying in 120 seconds\n",
      "2024-03-27 16:43:08,331 INFO Retrying now...\n",
      "2024-03-27 17:01:43,275 WARNING Connection error: [('Connection aborted.', TimeoutError(60, 'Operation timed out'))]. Attempt 1 of 500.\n",
      "2024-03-27 17:01:43,277 WARNING Retrying in 120 seconds\n",
      "2024-03-27 17:02:50,064 INFO Retrying now...\n",
      "2024-03-27 17:02:50,407 INFO Retrying now...\n",
      "2024-03-27 17:02:53,430 INFO Retrying now...\n",
      "2024-03-27 17:02:53,506 INFO Request is running\n",
      "2024-03-27 17:02:54,963 INFO Request is completed\n",
      "2024-03-27 17:02:54,966 INFO Downloading https://download-0004-clone.copernicus-climate.eu/cache-compute-0004/cache/data4/adaptor.mars.internal-1711552687.1766047-12202-1-fdb896ce-9ee0-4e10-84d8-344afd1811f7.nc to .//inputs/climate/PLEV_202301.nc (4.6M)\n",
      " 38%|██████████████▉                        | 1.78M/4.64M [00:03<00:03, 824kB/s]2024-03-27 17:02:58,825 WARNING Connection error: [('Connection aborted.', TimeoutError(60, 'Operation timed out'))]. Attempt 1 of 500.\n",
      "2024-03-27 17:02:58,828 WARNING Retrying in 120 seconds\n",
      "2024-03-27 17:03:01,315 INFO Download rate 748.1K/s                             \n"
     ]
    },
    {
     "name": "stdout",
     "output_type": "stream",
     "text": [
      ".//inputs/climate/PLEV_202301.nc complete\n"
     ]
    },
    {
     "name": "stderr",
     "output_type": "stream",
     "text": [
      "2024-03-27 17:03:37,709 INFO Retrying now...\n",
      "2024-03-27 17:04:16,458 INFO Retrying now...\n",
      "2024-03-27 17:39:34,649 INFO Request is running\n",
      "2024-03-27 17:39:37,374 INFO Request is completed\n",
      "2024-03-27 17:39:37,376 INFO Downloading https://download-0017.copernicus-climate.eu/cache-compute-0017/cache/data4/adaptor.mars.internal-1711557017.924772-11316-15-aa167485-4dab-495a-b4bb-7e7dfa988e05.nc to .//inputs/climate/PLEV_202302.nc (4.2M)\n",
      "  7%|██▊                                    | 312k/4.19M [00:00<00:03, 1.03MB/s]2024-03-27 17:55:54,357 WARNING Connection error: [('Connection aborted.', TimeoutError(60, 'Operation timed out'))]. Attempt 1 of 500.\n",
      "2024-03-27 17:55:54,359 WARNING Retrying in 120 seconds\n",
      "2024-03-27 17:55:56,237 INFO Retrying now...\n",
      "  9%|███▌                                   | 390k/4.19M [21:50<00:03, 1.03MB/s]2024-03-27 18:01:57,993 WARNING Connection error: [('Connection aborted.', TimeoutError(60, 'Operation timed out'))]. Attempt 1 of 500.\n",
      "2024-03-27 18:01:57,998 WARNING Retrying in 120 seconds\n",
      "2024-03-27 18:02:19,574 ERROR Download interupted: HTTPSConnectionPool(host='download-0017.copernicus-climate.eu', port=443): Read timed out.\n",
      "2024-03-27 18:02:19,578 ERROR Download incomplete, downloaded 399360 byte(s) out of 4392324\n",
      "2024-03-27 18:02:19,580 WARNING Sleeping 10 seconds\n",
      "2024-03-27 18:02:29,584 WARNING Resuming download at byte 399360\n",
      "2024-03-27 18:02:36,459 INFO Download rate 3.1K/s                               \n"
     ]
    },
    {
     "name": "stdout",
     "output_type": "stream",
     "text": [
      ".//inputs/climate/PLEV_202302.nc complete\n"
     ]
    },
    {
     "name": "stderr",
     "output_type": "stream",
     "text": [
      "2024-03-27 18:03:21,762 INFO Retrying now...\n",
      "2024-03-27 18:03:58,003 INFO Retrying now...\n",
      "2024-03-27 18:04:08,490 WARNING Connection error: [('Connection aborted.', TimeoutError(60, 'Operation timed out'))]. Attempt 1 of 500.\n",
      "2024-03-27 18:04:08,493 WARNING Retrying in 120 seconds\n",
      "2024-03-27 18:04:23,751 WARNING Connection error: [HTTPSConnectionPool(host='cds.climate.copernicus.eu', port=443): Read timed out. (read timeout=60)]. Attempt 1 of 500.\n",
      "2024-03-27 18:04:23,753 WARNING Retrying in 120 seconds\n",
      "2024-03-27 18:06:08,497 INFO Retrying now...\n",
      "2024-03-27 18:06:23,754 INFO Retrying now...\n",
      "2024-03-27 18:33:20,251 INFO Request is running\n",
      "2024-03-27 18:33:21,490 INFO Request is completed\n",
      "2024-03-27 18:33:21,493 INFO Downloading https://download-0018.copernicus-climate.eu/cache-compute-0018/cache/data3/adaptor.mars.internal-1711560565.5338995-16314-5-eb11babb-ad3c-4f9c-b76a-290bc0470572.nc to .//inputs/climate/PLEV_202303.nc (4.6M)\n",
      "2024-03-27 18:33:26,459 INFO Download rate 956.4K/s                             \n"
     ]
    },
    {
     "name": "stdout",
     "output_type": "stream",
     "text": [
      ".//inputs/climate/PLEV_202303.nc complete\n"
     ]
    },
    {
     "name": "stderr",
     "output_type": "stream",
     "text": [
      "2024-03-27 19:27:22,416 INFO Request is completed\n",
      "2024-03-27 19:27:22,421 INFO Downloading https://download-0008-clone.copernicus-climate.eu/cache-compute-0008/cache/data1/adaptor.mars.internal-1711563864.2560709-18460-9-8a7c29c7-3a1b-4146-80c9-536e29bff6db.nc to .//inputs/climate/PLEV_202304.nc (4.5M)\n",
      "2024-03-27 19:27:26,190 INFO Download rate 1.2M/s                               \n"
     ]
    },
    {
     "name": "stdout",
     "output_type": "stream",
     "text": [
      ".//inputs/climate/PLEV_202304.nc complete\n"
     ]
    },
    {
     "name": "stderr",
     "output_type": "stream",
     "text": [
      "2024-03-27 19:28:06,378 INFO Request is running\n",
      "2024-03-27 21:00:52,827 WARNING Connection error: [('Connection aborted.', TimeoutError(60, 'Operation timed out'))]. Attempt 1 of 500.\n",
      "2024-03-27 21:00:52,834 WARNING Retrying in 120 seconds\n",
      "2024-03-27 22:34:40,336 WARNING Connection error: [('Connection aborted.', TimeoutError(60, 'Operation timed out'))]. Attempt 1 of 500.\n",
      "2024-03-27 22:34:40,338 WARNING Retrying in 120 seconds\n",
      "2024-03-27 22:34:42,532 INFO Request is running\n",
      "2024-03-28 00:20:03,171 WARNING Connection error: [('Connection aborted.', TimeoutError(60, 'Operation timed out'))]. Attempt 1 of 500.\n",
      "2024-03-28 00:20:03,174 WARNING Retrying in 120 seconds\n",
      "2024-03-28 00:47:13,745 INFO Request is completed\n",
      "2024-03-28 00:47:13,748 INFO Downloading https://download-0001-clone.copernicus-climate.eu/cache-compute-0001/cache/data7/adaptor.mars.internal-1711567188.319044-16450-3-25105fa3-bfcf-4377-8c5f-ab80eb3d1e37.nc to .//inputs/climate/PLEV_202305.nc (4.6M)\n",
      "2024-03-28 01:21:16,103 WARNING Connection error: [('Connection aborted.', TimeoutError(60, 'Operation timed out'))]. Attempt 1 of 500.\n",
      "2024-03-28 01:21:16,105 WARNING Retrying in 120 seconds\n",
      "2024-03-28 01:51:45,474 INFO Retrying now...\n",
      "2024-03-28 01:51:47,798 INFO Request is completed\n",
      "2024-03-28 01:51:47,801 INFO Downloading https://download-0019.copernicus-climate.eu/cache-compute-0019/cache/data5/adaptor.mars.internal-1711580333.9592283-2583-7-126ce14d-6a54-4505-99c4-ec01e16d5594.nc to .//inputs/climate/PLEV_202309.nc (4.5M)\n",
      " 53%|████████████████████▎                 | 2.40M/4.49M [00:01<00:01, 1.92MB/s]2024-03-28 01:51:49,803 INFO Request is completed\n",
      "2024-03-28 01:51:49,805 INFO Downloading https://download-0014-clone.copernicus-climate.eu/cache-compute-0014/cache/data5/adaptor.mars.internal-1711583662.4509163-24889-1-11528ea3-28b5-4cfe-8440-33d1f9ac7e3b.nc to .//inputs/climate/PLEV_202310.nc (4.6M)\n",
      "2024-03-28 01:51:50,213 INFO Request is running\n",
      " 54%|█████████████████████▍                  | 2.40M/4.49M [14:32<56:46, 642B/s]"
     ]
    },
    {
     "name": "stdout",
     "output_type": "stream",
     "text": [
      "('Connection aborted.', TimeoutError(60, 'Operation timed out'))\n"
     ]
    },
    {
     "name": "stderr",
     "output_type": "stream",
     "text": [
      "\n",
      "                                                                                \u001b[A\n",
      "                                                                                \u001b[A2024-03-28 02:52:56,515 INFO Retrying now...\n",
      "2024-03-28 03:26:00,885 WARNING Connection error: [('Connection aborted.', TimeoutError(60, 'Operation timed out'))]. Attempt 1 of 500.\n",
      "2024-03-28 03:26:00,887 WARNING Retrying in 120 seconds\n",
      "2024-03-28 03:26:04,988 WARNING Connection error: [('Connection aborted.', TimeoutError(60, 'Operation timed out'))]. Attempt 2 of 500.\n",
      "2024-03-28 03:26:04,990 WARNING Retrying in 120 seconds\n",
      "2024-03-28 04:59:00,707 INFO Retrying now...\n",
      "2024-03-28 04:59:02,131 INFO Request is completed\n",
      "2024-03-28 04:59:02,134 INFO Downloading https://download-0012-clone.copernicus-climate.eu/cache-compute-0012/cache/data4/adaptor.mars.internal-1711573842.6232164-19603-18-26610b25-b0f3-4c12-8e20-673a5b89a5f3.nc to .//inputs/climate/PLEV_202307.nc (4.6M)\n",
      "                                                                                \r"
     ]
    },
    {
     "name": "stdout",
     "output_type": "stream",
     "text": [
      "('Connection aborted.', TimeoutError(60, 'Operation timed out'))\n"
     ]
    },
    {
     "name": "stderr",
     "output_type": "stream",
     "text": [
      "2024-03-28 06:16:39,873 INFO Retrying now...\n",
      "2024-03-28 06:33:26,171 INFO Request is completed\n",
      "2024-03-28 06:33:26,172 INFO Downloading https://download-0019.copernicus-climate.eu/cache-compute-0019/cache/data1/adaptor.mars.internal-1711570492.6042914-18098-13-b6cca7f9-14fe-47c3-8a7d-fe71fc93146c.nc to .//inputs/climate/PLEV_202306.nc (4.5M)\n",
      "2024-03-28 06:33:29,051 INFO Download rate 1.6M/s                               \n"
     ]
    },
    {
     "name": "stdout",
     "output_type": "stream",
     "text": [
      ".//inputs/climate/PLEV_202306.nc complete\n"
     ]
    },
    {
     "name": "stderr",
     "output_type": "stream",
     "text": [
      "2024-03-28 07:33:21,601 WARNING Connection error: [('Connection aborted.', TimeoutError(60, 'Operation timed out'))]. Attempt 1 of 500.\n",
      "2024-03-28 07:33:21,612 WARNING Retrying in 120 seconds\n",
      "2024-03-28 08:36:47,580 INFO Retrying now...\n",
      "2024-03-28 08:36:48,238 INFO Request is completed\n",
      "2024-03-28 08:36:48,241 INFO Downloading https://download-0000-clone.copernicus-climate.eu/cache-compute-0000/cache/data8/adaptor.mars.internal-1711577155.497533-28055-7-8c4ee2f2-7652-4444-8e11-048e408c7cf3.nc to .//inputs/climate/PLEV_202308.nc (4.6M)\n",
      "  1%|▎                                      | 34.0k/4.64M [00:00<00:17, 274kB/s]2024-03-28 08:45:31,302 INFO Retrying now...\n",
      "  2%|▊                                      | 93.0k/4.64M [08:42<00:17, 274kB/s]2024-03-28 09:22:00,300 WARNING Connection error: [('Connection aborted.', TimeoutError(60, 'Operation timed out'))]. Attempt 3 of 500.\n",
      "2024-03-28 09:22:00,301 WARNING Retrying in 120 seconds\n",
      "2024-03-28 10:24:26,172 ERROR Download interupted: HTTPSConnectionPool(host='download-0000-clone.copernicus-climate.eu', port=443): Read timed out.\n",
      "2024-03-28 10:24:26,177 ERROR Download incomplete, downloaded 95232 byte(s) out of 4862628\n",
      "2024-03-28 10:24:26,178 WARNING Sleeping 10 seconds\n",
      "2024-03-28 10:39:37,706 WARNING Resuming download at byte 95232\n",
      "2024-03-28 10:39:37,714 WARNING Connection error: [HTTPSConnectionPool(host='download-0000-clone.copernicus-climate.eu', port=443): Max retries exceeded with url: /cache-compute-0000/cache/data8/adaptor.mars.internal-1711577155.497533-28055-7-8c4ee2f2-7652-4444-8e11-048e408c7cf3.nc (Caused by NameResolutionError(\"<urllib3.connection.HTTPSConnection object at 0x19a171970>: Failed to resolve 'download-0000-clone.copernicus-climate.eu' ([Errno 8] nodename nor servname provided, or not known)\"))]. Attempt 1 of 500.\n",
      "2024-03-28 10:39:37,716 WARNING Retrying in 120 seconds\n",
      "2024-03-28 10:40:41,298 INFO Retrying now...\n",
      "2024-03-28 10:40:41,310 WARNING Connection error: [HTTPSConnectionPool(host='cds.climate.copernicus.eu', port=443): Max retries exceeded with url: /api/v2/tasks/9cb6864f-e7a2-4866-82a0-896d7cc17182 (Caused by NameResolutionError(\"<urllib3.connection.HTTPSConnection object at 0x19a1ee310>: Failed to resolve 'cds.climate.copernicus.eu' ([Errno 8] nodename nor servname provided, or not known)\"))]. Attempt 2 of 500.\n",
      "2024-03-28 10:40:41,311 WARNING Retrying in 120 seconds\n",
      "2024-03-28 10:42:47,553 INFO Retrying now...\n",
      "2024-03-28 10:42:47,794 INFO Request is completed\n",
      "2024-03-28 10:42:47,796 INFO Downloading https://download-0007-clone.copernicus-climate.eu/cache-compute-0007/cache/data1/adaptor.mars.internal-1711586675.9977028-8479-17-65b0c946-b1fc-4055-86c7-9ca6d5d9ea07.nc to .//inputs/climate/PLEV_202311.nc (4.5M)\n",
      "2024-03-28 10:42:51,974 INFO Download rate 1.1M/s                               \n"
     ]
    },
    {
     "name": "stdout",
     "output_type": "stream",
     "text": [
      ".//inputs/climate/PLEV_202311.nc complete\n"
     ]
    },
    {
     "name": "stderr",
     "output_type": "stream",
     "text": [
      "2024-03-28 10:44:07,869 INFO Retrying now...\n",
      "2024-03-28 10:44:12,190 INFO Download rate 636.1/s                              \n"
     ]
    },
    {
     "name": "stdout",
     "output_type": "stream",
     "text": [
      ".//inputs/climate/PLEV_202308.nc complete\n"
     ]
    },
    {
     "name": "stderr",
     "output_type": "stream",
     "text": [
      "2024-03-28 10:44:30,289 INFO Retrying now...\n",
      "2024-03-28 10:44:30,537 INFO Request is completed\n",
      "2024-03-28 10:44:30,539 INFO Downloading https://download-0018.copernicus-climate.eu/cache-compute-0018/cache/data8/adaptor.mars.internal-1711590098.3444152-22713-2-9cb6864f-e7a2-4866-82a0-896d7cc17182.nc to .//inputs/climate/PLEV_202312.nc (4.6M)\n",
      "2024-03-28 10:44:31,244 INFO Download rate 6.6M/s                               \n"
     ]
    },
    {
     "name": "stdout",
     "output_type": "stream",
     "text": [
      ".//inputs/climate/PLEV_202312.nc complete\n"
     ]
    },
    {
     "ename": "ChunkedEncodingError",
     "evalue": "(\"Connection broken: ConnectionResetError(54, 'Connection reset by peer')\", ConnectionResetError(54, 'Connection reset by peer'))",
     "output_type": "error",
     "traceback": [
      "\u001b[0;31m---------------------------------------------------------------------------\u001b[0m",
      "\u001b[0;31mConnectionResetError\u001b[0m                      Traceback (most recent call last)",
      "File \u001b[0;32m~/opt/anaconda3/envs/downscaling/lib/python3.9/site-packages/urllib3/response.py:737\u001b[0m, in \u001b[0;36mHTTPResponse._error_catcher\u001b[0;34m(self)\u001b[0m\n\u001b[1;32m    736\u001b[0m \u001b[38;5;28;01mtry\u001b[39;00m:\n\u001b[0;32m--> 737\u001b[0m     \u001b[38;5;28;01myield\u001b[39;00m\n\u001b[1;32m    739\u001b[0m \u001b[38;5;28;01mexcept\u001b[39;00m SocketTimeout \u001b[38;5;28;01mas\u001b[39;00m e:\n\u001b[1;32m    740\u001b[0m     \u001b[38;5;66;03m# FIXME: Ideally we'd like to include the url in the ReadTimeoutError but\u001b[39;00m\n\u001b[1;32m    741\u001b[0m     \u001b[38;5;66;03m# there is yet no clean way to get at it from this context.\u001b[39;00m\n",
      "File \u001b[0;32m~/opt/anaconda3/envs/downscaling/lib/python3.9/site-packages/urllib3/response.py:862\u001b[0m, in \u001b[0;36mHTTPResponse._raw_read\u001b[0;34m(self, amt, read1)\u001b[0m\n\u001b[1;32m    861\u001b[0m \u001b[38;5;28;01mwith\u001b[39;00m \u001b[38;5;28mself\u001b[39m\u001b[38;5;241m.\u001b[39m_error_catcher():\n\u001b[0;32m--> 862\u001b[0m     data \u001b[38;5;241m=\u001b[39m \u001b[38;5;28;43mself\u001b[39;49m\u001b[38;5;241;43m.\u001b[39;49m\u001b[43m_fp_read\u001b[49m\u001b[43m(\u001b[49m\u001b[43mamt\u001b[49m\u001b[43m,\u001b[49m\u001b[43m \u001b[49m\u001b[43mread1\u001b[49m\u001b[38;5;241;43m=\u001b[39;49m\u001b[43mread1\u001b[49m\u001b[43m)\u001b[49m \u001b[38;5;28;01mif\u001b[39;00m \u001b[38;5;129;01mnot\u001b[39;00m fp_closed \u001b[38;5;28;01melse\u001b[39;00m \u001b[38;5;124mb\u001b[39m\u001b[38;5;124m\"\u001b[39m\u001b[38;5;124m\"\u001b[39m\n\u001b[1;32m    863\u001b[0m     \u001b[38;5;28;01mif\u001b[39;00m amt \u001b[38;5;129;01mis\u001b[39;00m \u001b[38;5;129;01mnot\u001b[39;00m \u001b[38;5;28;01mNone\u001b[39;00m \u001b[38;5;129;01mand\u001b[39;00m amt \u001b[38;5;241m!=\u001b[39m \u001b[38;5;241m0\u001b[39m \u001b[38;5;129;01mand\u001b[39;00m \u001b[38;5;129;01mnot\u001b[39;00m data:\n\u001b[1;32m    864\u001b[0m         \u001b[38;5;66;03m# Platform-specific: Buggy versions of Python.\u001b[39;00m\n\u001b[1;32m    865\u001b[0m         \u001b[38;5;66;03m# Close the connection when no data is returned\u001b[39;00m\n\u001b[0;32m   (...)\u001b[0m\n\u001b[1;32m    870\u001b[0m         \u001b[38;5;66;03m# not properly close the connection in all cases. There is\u001b[39;00m\n\u001b[1;32m    871\u001b[0m         \u001b[38;5;66;03m# no harm in redundantly calling close.\u001b[39;00m\n",
      "File \u001b[0;32m~/opt/anaconda3/envs/downscaling/lib/python3.9/site-packages/urllib3/response.py:845\u001b[0m, in \u001b[0;36mHTTPResponse._fp_read\u001b[0;34m(self, amt, read1)\u001b[0m\n\u001b[1;32m    843\u001b[0m \u001b[38;5;28;01melse\u001b[39;00m:\n\u001b[1;32m    844\u001b[0m     \u001b[38;5;66;03m# StringIO doesn't like amt=None\u001b[39;00m\n\u001b[0;32m--> 845\u001b[0m     \u001b[38;5;28;01mreturn\u001b[39;00m \u001b[38;5;28;43mself\u001b[39;49m\u001b[38;5;241;43m.\u001b[39;49m\u001b[43m_fp\u001b[49m\u001b[38;5;241;43m.\u001b[39;49m\u001b[43mread\u001b[49m\u001b[43m(\u001b[49m\u001b[43mamt\u001b[49m\u001b[43m)\u001b[49m \u001b[38;5;28;01mif\u001b[39;00m amt \u001b[38;5;129;01mis\u001b[39;00m \u001b[38;5;129;01mnot\u001b[39;00m \u001b[38;5;28;01mNone\u001b[39;00m \u001b[38;5;28;01melse\u001b[39;00m \u001b[38;5;28mself\u001b[39m\u001b[38;5;241m.\u001b[39m_fp\u001b[38;5;241m.\u001b[39mread()\n",
      "File \u001b[0;32m~/opt/anaconda3/envs/downscaling/lib/python3.9/http/client.py:463\u001b[0m, in \u001b[0;36mHTTPResponse.read\u001b[0;34m(self, amt)\u001b[0m\n\u001b[1;32m    462\u001b[0m b \u001b[38;5;241m=\u001b[39m \u001b[38;5;28mbytearray\u001b[39m(amt)\n\u001b[0;32m--> 463\u001b[0m n \u001b[38;5;241m=\u001b[39m \u001b[38;5;28;43mself\u001b[39;49m\u001b[38;5;241;43m.\u001b[39;49m\u001b[43mreadinto\u001b[49m\u001b[43m(\u001b[49m\u001b[43mb\u001b[49m\u001b[43m)\u001b[49m\n\u001b[1;32m    464\u001b[0m \u001b[38;5;28;01mreturn\u001b[39;00m \u001b[38;5;28mmemoryview\u001b[39m(b)[:n]\u001b[38;5;241m.\u001b[39mtobytes()\n",
      "File \u001b[0;32m~/opt/anaconda3/envs/downscaling/lib/python3.9/http/client.py:507\u001b[0m, in \u001b[0;36mHTTPResponse.readinto\u001b[0;34m(self, b)\u001b[0m\n\u001b[1;32m    504\u001b[0m \u001b[38;5;66;03m# we do not use _safe_read() here because this may be a .will_close\u001b[39;00m\n\u001b[1;32m    505\u001b[0m \u001b[38;5;66;03m# connection, and the user is reading more bytes than will be provided\u001b[39;00m\n\u001b[1;32m    506\u001b[0m \u001b[38;5;66;03m# (for example, reading in 1k chunks)\u001b[39;00m\n\u001b[0;32m--> 507\u001b[0m n \u001b[38;5;241m=\u001b[39m \u001b[38;5;28;43mself\u001b[39;49m\u001b[38;5;241;43m.\u001b[39;49m\u001b[43mfp\u001b[49m\u001b[38;5;241;43m.\u001b[39;49m\u001b[43mreadinto\u001b[49m\u001b[43m(\u001b[49m\u001b[43mb\u001b[49m\u001b[43m)\u001b[49m\n\u001b[1;32m    508\u001b[0m \u001b[38;5;28;01mif\u001b[39;00m \u001b[38;5;129;01mnot\u001b[39;00m n \u001b[38;5;129;01mand\u001b[39;00m b:\n\u001b[1;32m    509\u001b[0m     \u001b[38;5;66;03m# Ideally, we would raise IncompleteRead if the content-length\u001b[39;00m\n\u001b[1;32m    510\u001b[0m     \u001b[38;5;66;03m# wasn't satisfied, but it might break compatibility.\u001b[39;00m\n",
      "File \u001b[0;32m~/opt/anaconda3/envs/downscaling/lib/python3.9/socket.py:704\u001b[0m, in \u001b[0;36mSocketIO.readinto\u001b[0;34m(self, b)\u001b[0m\n\u001b[1;32m    703\u001b[0m \u001b[38;5;28;01mtry\u001b[39;00m:\n\u001b[0;32m--> 704\u001b[0m     \u001b[38;5;28;01mreturn\u001b[39;00m \u001b[38;5;28;43mself\u001b[39;49m\u001b[38;5;241;43m.\u001b[39;49m\u001b[43m_sock\u001b[49m\u001b[38;5;241;43m.\u001b[39;49m\u001b[43mrecv_into\u001b[49m\u001b[43m(\u001b[49m\u001b[43mb\u001b[49m\u001b[43m)\u001b[49m\n\u001b[1;32m    705\u001b[0m \u001b[38;5;28;01mexcept\u001b[39;00m timeout:\n",
      "File \u001b[0;32m~/opt/anaconda3/envs/downscaling/lib/python3.9/ssl.py:1242\u001b[0m, in \u001b[0;36mSSLSocket.recv_into\u001b[0;34m(self, buffer, nbytes, flags)\u001b[0m\n\u001b[1;32m   1239\u001b[0m         \u001b[38;5;28;01mraise\u001b[39;00m \u001b[38;5;167;01mValueError\u001b[39;00m(\n\u001b[1;32m   1240\u001b[0m           \u001b[38;5;124m\"\u001b[39m\u001b[38;5;124mnon-zero flags not allowed in calls to recv_into() on \u001b[39m\u001b[38;5;132;01m%s\u001b[39;00m\u001b[38;5;124m\"\u001b[39m \u001b[38;5;241m%\u001b[39m\n\u001b[1;32m   1241\u001b[0m           \u001b[38;5;28mself\u001b[39m\u001b[38;5;241m.\u001b[39m\u001b[38;5;18m__class__\u001b[39m)\n\u001b[0;32m-> 1242\u001b[0m     \u001b[38;5;28;01mreturn\u001b[39;00m \u001b[38;5;28;43mself\u001b[39;49m\u001b[38;5;241;43m.\u001b[39;49m\u001b[43mread\u001b[49m\u001b[43m(\u001b[49m\u001b[43mnbytes\u001b[49m\u001b[43m,\u001b[49m\u001b[43m \u001b[49m\u001b[43mbuffer\u001b[49m\u001b[43m)\u001b[49m\n\u001b[1;32m   1243\u001b[0m \u001b[38;5;28;01melse\u001b[39;00m:\n",
      "File \u001b[0;32m~/opt/anaconda3/envs/downscaling/lib/python3.9/ssl.py:1100\u001b[0m, in \u001b[0;36mSSLSocket.read\u001b[0;34m(self, len, buffer)\u001b[0m\n\u001b[1;32m   1099\u001b[0m \u001b[38;5;28;01mif\u001b[39;00m buffer \u001b[38;5;129;01mis\u001b[39;00m \u001b[38;5;129;01mnot\u001b[39;00m \u001b[38;5;28;01mNone\u001b[39;00m:\n\u001b[0;32m-> 1100\u001b[0m     \u001b[38;5;28;01mreturn\u001b[39;00m \u001b[38;5;28;43mself\u001b[39;49m\u001b[38;5;241;43m.\u001b[39;49m\u001b[43m_sslobj\u001b[49m\u001b[38;5;241;43m.\u001b[39;49m\u001b[43mread\u001b[49m\u001b[43m(\u001b[49m\u001b[38;5;28;43mlen\u001b[39;49m\u001b[43m,\u001b[49m\u001b[43m \u001b[49m\u001b[43mbuffer\u001b[49m\u001b[43m)\u001b[49m\n\u001b[1;32m   1101\u001b[0m \u001b[38;5;28;01melse\u001b[39;00m:\n",
      "\u001b[0;31mConnectionResetError\u001b[0m: [Errno 54] Connection reset by peer",
      "\nThe above exception was the direct cause of the following exception:\n",
      "\u001b[0;31mProtocolError\u001b[0m                             Traceback (most recent call last)",
      "File \u001b[0;32m~/opt/anaconda3/envs/downscaling/lib/python3.9/site-packages/requests/models.py:816\u001b[0m, in \u001b[0;36mResponse.iter_content.<locals>.generate\u001b[0;34m()\u001b[0m\n\u001b[1;32m    815\u001b[0m \u001b[38;5;28;01mtry\u001b[39;00m:\n\u001b[0;32m--> 816\u001b[0m     \u001b[38;5;28;01myield from\u001b[39;00m \u001b[38;5;28mself\u001b[39m\u001b[38;5;241m.\u001b[39mraw\u001b[38;5;241m.\u001b[39mstream(chunk_size, decode_content\u001b[38;5;241m=\u001b[39m\u001b[38;5;28;01mTrue\u001b[39;00m)\n\u001b[1;32m    817\u001b[0m \u001b[38;5;28;01mexcept\u001b[39;00m ProtocolError \u001b[38;5;28;01mas\u001b[39;00m e:\n",
      "File \u001b[0;32m~/opt/anaconda3/envs/downscaling/lib/python3.9/site-packages/urllib3/response.py:1043\u001b[0m, in \u001b[0;36mHTTPResponse.stream\u001b[0;34m(self, amt, decode_content)\u001b[0m\n\u001b[1;32m   1042\u001b[0m \u001b[38;5;28;01mwhile\u001b[39;00m \u001b[38;5;129;01mnot\u001b[39;00m is_fp_closed(\u001b[38;5;28mself\u001b[39m\u001b[38;5;241m.\u001b[39m_fp) \u001b[38;5;129;01mor\u001b[39;00m \u001b[38;5;28mlen\u001b[39m(\u001b[38;5;28mself\u001b[39m\u001b[38;5;241m.\u001b[39m_decoded_buffer) \u001b[38;5;241m>\u001b[39m \u001b[38;5;241m0\u001b[39m:\n\u001b[0;32m-> 1043\u001b[0m     data \u001b[38;5;241m=\u001b[39m \u001b[38;5;28;43mself\u001b[39;49m\u001b[38;5;241;43m.\u001b[39;49m\u001b[43mread\u001b[49m\u001b[43m(\u001b[49m\u001b[43mamt\u001b[49m\u001b[38;5;241;43m=\u001b[39;49m\u001b[43mamt\u001b[49m\u001b[43m,\u001b[49m\u001b[43m \u001b[49m\u001b[43mdecode_content\u001b[49m\u001b[38;5;241;43m=\u001b[39;49m\u001b[43mdecode_content\u001b[49m\u001b[43m)\u001b[49m\n\u001b[1;32m   1045\u001b[0m     \u001b[38;5;28;01mif\u001b[39;00m data:\n",
      "File \u001b[0;32m~/opt/anaconda3/envs/downscaling/lib/python3.9/site-packages/urllib3/response.py:935\u001b[0m, in \u001b[0;36mHTTPResponse.read\u001b[0;34m(self, amt, decode_content, cache_content)\u001b[0m\n\u001b[1;32m    933\u001b[0m         \u001b[38;5;28;01mreturn\u001b[39;00m \u001b[38;5;28mself\u001b[39m\u001b[38;5;241m.\u001b[39m_decoded_buffer\u001b[38;5;241m.\u001b[39mget(amt)\n\u001b[0;32m--> 935\u001b[0m data \u001b[38;5;241m=\u001b[39m \u001b[38;5;28;43mself\u001b[39;49m\u001b[38;5;241;43m.\u001b[39;49m\u001b[43m_raw_read\u001b[49m\u001b[43m(\u001b[49m\u001b[43mamt\u001b[49m\u001b[43m)\u001b[49m\n\u001b[1;32m    937\u001b[0m flush_decoder \u001b[38;5;241m=\u001b[39m amt \u001b[38;5;129;01mis\u001b[39;00m \u001b[38;5;28;01mNone\u001b[39;00m \u001b[38;5;129;01mor\u001b[39;00m (amt \u001b[38;5;241m!=\u001b[39m \u001b[38;5;241m0\u001b[39m \u001b[38;5;129;01mand\u001b[39;00m \u001b[38;5;129;01mnot\u001b[39;00m data)\n",
      "File \u001b[0;32m~/opt/anaconda3/envs/downscaling/lib/python3.9/site-packages/urllib3/response.py:891\u001b[0m, in \u001b[0;36mHTTPResponse._raw_read\u001b[0;34m(self, amt, read1)\u001b[0m\n\u001b[1;32m    884\u001b[0m     \u001b[38;5;28;01melif\u001b[39;00m read1 \u001b[38;5;129;01mand\u001b[39;00m (\n\u001b[1;32m    885\u001b[0m         (amt \u001b[38;5;241m!=\u001b[39m \u001b[38;5;241m0\u001b[39m \u001b[38;5;129;01mand\u001b[39;00m \u001b[38;5;129;01mnot\u001b[39;00m data) \u001b[38;5;129;01mor\u001b[39;00m \u001b[38;5;28mself\u001b[39m\u001b[38;5;241m.\u001b[39mlength_remaining \u001b[38;5;241m==\u001b[39m \u001b[38;5;28mlen\u001b[39m(data)\n\u001b[1;32m    886\u001b[0m     ):\n\u001b[0;32m   (...)\u001b[0m\n\u001b[1;32m    889\u001b[0m         \u001b[38;5;66;03m# `http.client.HTTPResponse`, so we close it here.\u001b[39;00m\n\u001b[1;32m    890\u001b[0m         \u001b[38;5;66;03m# See https://github.com/python/cpython/issues/113199\u001b[39;00m\n\u001b[0;32m--> 891\u001b[0m         \u001b[38;5;28mself\u001b[39m\u001b[38;5;241m.\u001b[39m_fp\u001b[38;5;241m.\u001b[39mclose()\n\u001b[1;32m    893\u001b[0m \u001b[38;5;28;01mif\u001b[39;00m data:\n",
      "File \u001b[0;32m~/opt/anaconda3/envs/downscaling/lib/python3.9/contextlib.py:137\u001b[0m, in \u001b[0;36m_GeneratorContextManager.__exit__\u001b[0;34m(self, typ, value, traceback)\u001b[0m\n\u001b[1;32m    136\u001b[0m \u001b[38;5;28;01mtry\u001b[39;00m:\n\u001b[0;32m--> 137\u001b[0m     \u001b[38;5;28;43mself\u001b[39;49m\u001b[38;5;241;43m.\u001b[39;49m\u001b[43mgen\u001b[49m\u001b[38;5;241;43m.\u001b[39;49m\u001b[43mthrow\u001b[49m\u001b[43m(\u001b[49m\u001b[43mtyp\u001b[49m\u001b[43m,\u001b[49m\u001b[43m \u001b[49m\u001b[43mvalue\u001b[49m\u001b[43m,\u001b[49m\u001b[43m \u001b[49m\u001b[43mtraceback\u001b[49m\u001b[43m)\u001b[49m\n\u001b[1;32m    138\u001b[0m \u001b[38;5;28;01mexcept\u001b[39;00m \u001b[38;5;167;01mStopIteration\u001b[39;00m \u001b[38;5;28;01mas\u001b[39;00m exc:\n\u001b[1;32m    139\u001b[0m     \u001b[38;5;66;03m# Suppress StopIteration *unless* it's the same exception that\u001b[39;00m\n\u001b[1;32m    140\u001b[0m     \u001b[38;5;66;03m# was passed to throw().  This prevents a StopIteration\u001b[39;00m\n\u001b[1;32m    141\u001b[0m     \u001b[38;5;66;03m# raised inside the \"with\" statement from being suppressed.\u001b[39;00m\n",
      "File \u001b[0;32m~/opt/anaconda3/envs/downscaling/lib/python3.9/site-packages/urllib3/response.py:764\u001b[0m, in \u001b[0;36mHTTPResponse._error_catcher\u001b[0;34m(self)\u001b[0m\n\u001b[1;32m    763\u001b[0m \u001b[38;5;28;01mexcept\u001b[39;00m (HTTPException, \u001b[38;5;167;01mOSError\u001b[39;00m) \u001b[38;5;28;01mas\u001b[39;00m e:\n\u001b[0;32m--> 764\u001b[0m     \u001b[38;5;28;01mraise\u001b[39;00m ProtocolError(\u001b[38;5;124mf\u001b[39m\u001b[38;5;124m\"\u001b[39m\u001b[38;5;124mConnection broken: \u001b[39m\u001b[38;5;132;01m{\u001b[39;00me\u001b[38;5;132;01m!r}\u001b[39;00m\u001b[38;5;124m\"\u001b[39m, e) \u001b[38;5;28;01mfrom\u001b[39;00m \u001b[38;5;21;01me\u001b[39;00m\n\u001b[1;32m    766\u001b[0m \u001b[38;5;66;03m# If no exception is thrown, we should avoid cleaning up\u001b[39;00m\n\u001b[1;32m    767\u001b[0m \u001b[38;5;66;03m# unnecessarily.\u001b[39;00m\n",
      "\u001b[0;31mProtocolError\u001b[0m: (\"Connection broken: ConnectionResetError(54, 'Connection reset by peer')\", ConnectionResetError(54, 'Connection reset by peer'))",
      "\nDuring handling of the above exception, another exception occurred:\n",
      "\u001b[0;31mChunkedEncodingError\u001b[0m                      Traceback (most recent call last)",
      "Cell \u001b[0;32mIn[3], line 4\u001b[0m\n\u001b[1;32m      1\u001b[0m \u001b[38;5;66;03m## ========= STEP 1 ==========\u001b[39;00m\n\u001b[1;32m      2\u001b[0m \u001b[38;5;66;03m# Load Configuration\u001b[39;00m\n\u001b[1;32m      3\u001b[0m config_file \u001b[38;5;241m=\u001b[39m \u001b[38;5;124m'\u001b[39m\u001b[38;5;124m./config_spatial.yml\u001b[39m\u001b[38;5;124m'\u001b[39m\n\u001b[0;32m----> 4\u001b[0m mp \u001b[38;5;241m=\u001b[39m \u001b[43mtc\u001b[49m\u001b[38;5;241;43m.\u001b[39;49m\u001b[43mTopoclass\u001b[49m\u001b[43m(\u001b[49m\u001b[43mconfig_file\u001b[49m\u001b[43m)\u001b[49m\n",
      "File \u001b[0;32m~/Desktop/sedcas/varya_project/wsl_stay_10oct2022/downscaling/clone/TopoPyScale/TopoPyScale/topoclass.py:145\u001b[0m, in \u001b[0;36mTopoclass.__init__\u001b[0;34m(self, config_file)\u001b[0m\n\u001b[1;32m    142\u001b[0m \u001b[38;5;28mself\u001b[39m\u001b[38;5;241m.\u001b[39mtoposub\u001b[38;5;241m.\u001b[39mproject_directory \u001b[38;5;241m=\u001b[39m \u001b[38;5;28mself\u001b[39m\u001b[38;5;241m.\u001b[39mconfig\u001b[38;5;241m.\u001b[39mproject\u001b[38;5;241m.\u001b[39mdirectory\n\u001b[1;32m    144\u001b[0m \u001b[38;5;28;01mif\u001b[39;00m \u001b[38;5;28mself\u001b[39m\u001b[38;5;241m.\u001b[39mconfig\u001b[38;5;241m.\u001b[39mproject\u001b[38;5;241m.\u001b[39mclimate\u001b[38;5;241m.\u001b[39mlower() \u001b[38;5;241m==\u001b[39m \u001b[38;5;124m'\u001b[39m\u001b[38;5;124mera5\u001b[39m\u001b[38;5;124m'\u001b[39m:\n\u001b[0;32m--> 145\u001b[0m     \u001b[38;5;28;43mself\u001b[39;49m\u001b[38;5;241;43m.\u001b[39;49m\u001b[43mget_era5\u001b[49m\u001b[43m(\u001b[49m\u001b[43m)\u001b[49m\n\u001b[1;32m    147\u001b[0m \u001b[38;5;28;01mif\u001b[39;00m \u001b[38;5;28mself\u001b[39m\u001b[38;5;241m.\u001b[39mconfig\u001b[38;5;241m.\u001b[39mproject\u001b[38;5;241m.\u001b[39msplit\u001b[38;5;241m.\u001b[39mIO:\n\u001b[1;32m    148\u001b[0m     \u001b[38;5;28mself\u001b[39m\u001b[38;5;241m.\u001b[39mtime_splitter \u001b[38;5;241m=\u001b[39m \u001b[38;5;28mself\u001b[39m\u001b[38;5;241m.\u001b[39mTimeSplitter(\u001b[38;5;28mself\u001b[39m\u001b[38;5;241m.\u001b[39mconfig\u001b[38;5;241m.\u001b[39mproject\u001b[38;5;241m.\u001b[39mstart,\n\u001b[1;32m    149\u001b[0m                                            \u001b[38;5;28mself\u001b[39m\u001b[38;5;241m.\u001b[39mconfig\u001b[38;5;241m.\u001b[39mproject\u001b[38;5;241m.\u001b[39mend,\n\u001b[1;32m    150\u001b[0m                                            \u001b[38;5;28mself\u001b[39m\u001b[38;5;241m.\u001b[39mconfig\u001b[38;5;241m.\u001b[39mproject\u001b[38;5;241m.\u001b[39msplit\u001b[38;5;241m.\u001b[39mtime,\n\u001b[1;32m    151\u001b[0m                                            \u001b[38;5;28mself\u001b[39m\u001b[38;5;241m.\u001b[39mconfig\u001b[38;5;241m.\u001b[39moutputs\u001b[38;5;241m.\u001b[39mfile\u001b[38;5;241m.\u001b[39mds_solar,\n\u001b[1;32m    152\u001b[0m                                            \u001b[38;5;28mself\u001b[39m\u001b[38;5;241m.\u001b[39mconfig\u001b[38;5;241m.\u001b[39moutputs\u001b[38;5;241m.\u001b[39mfile\u001b[38;5;241m.\u001b[39mdownscaled_pt)\n",
      "File \u001b[0;32m~/Desktop/sedcas/varya_project/wsl_stay_10oct2022/downscaling/clone/TopoPyScale/TopoPyScale/topoclass.py:689\u001b[0m, in \u001b[0;36mTopoclass.get_era5\u001b[0;34m(self)\u001b[0m\n\u001b[1;32m    677\u001b[0m fe\u001b[38;5;241m.\u001b[39mretrieve_era5(\n\u001b[1;32m    678\u001b[0m     \u001b[38;5;28mself\u001b[39m\u001b[38;5;241m.\u001b[39mconfig\u001b[38;5;241m.\u001b[39mclimate[\u001b[38;5;28mself\u001b[39m\u001b[38;5;241m.\u001b[39mconfig\u001b[38;5;241m.\u001b[39mproject\u001b[38;5;241m.\u001b[39mclimate]\u001b[38;5;241m.\u001b[39mproduct,\n\u001b[1;32m    679\u001b[0m     \u001b[38;5;28mself\u001b[39m\u001b[38;5;241m.\u001b[39mconfig\u001b[38;5;241m.\u001b[39mproject\u001b[38;5;241m.\u001b[39mstart,\n\u001b[0;32m   (...)\u001b[0m\n\u001b[1;32m    686\u001b[0m     realtime\u001b[38;5;241m=\u001b[39mrealtime\n\u001b[1;32m    687\u001b[0m )\n\u001b[1;32m    688\u001b[0m \u001b[38;5;66;03m# retrieve era5 plevels\u001b[39;00m\n\u001b[0;32m--> 689\u001b[0m \u001b[43mfe\u001b[49m\u001b[38;5;241;43m.\u001b[39;49m\u001b[43mretrieve_era5\u001b[49m\u001b[43m(\u001b[49m\n\u001b[1;32m    690\u001b[0m \u001b[43m    \u001b[49m\u001b[38;5;28;43mself\u001b[39;49m\u001b[38;5;241;43m.\u001b[39;49m\u001b[43mconfig\u001b[49m\u001b[38;5;241;43m.\u001b[39;49m\u001b[43mclimate\u001b[49m\u001b[43m[\u001b[49m\u001b[38;5;28;43mself\u001b[39;49m\u001b[38;5;241;43m.\u001b[39;49m\u001b[43mconfig\u001b[49m\u001b[38;5;241;43m.\u001b[39;49m\u001b[43mproject\u001b[49m\u001b[38;5;241;43m.\u001b[39;49m\u001b[43mclimate\u001b[49m\u001b[43m]\u001b[49m\u001b[38;5;241;43m.\u001b[39;49m\u001b[43mproduct\u001b[49m\u001b[43m,\u001b[49m\n\u001b[1;32m    691\u001b[0m \u001b[43m    \u001b[49m\u001b[38;5;28;43mself\u001b[39;49m\u001b[38;5;241;43m.\u001b[39;49m\u001b[43mconfig\u001b[49m\u001b[38;5;241;43m.\u001b[39;49m\u001b[43mproject\u001b[49m\u001b[38;5;241;43m.\u001b[39;49m\u001b[43mstart\u001b[49m\u001b[43m,\u001b[49m\n\u001b[1;32m    692\u001b[0m \u001b[43m    \u001b[49m\u001b[38;5;28;43mself\u001b[39;49m\u001b[38;5;241;43m.\u001b[39;49m\u001b[43mconfig\u001b[49m\u001b[38;5;241;43m.\u001b[39;49m\u001b[43mproject\u001b[49m\u001b[38;5;241;43m.\u001b[39;49m\u001b[43mend\u001b[49m\u001b[43m,\u001b[49m\n\u001b[1;32m    693\u001b[0m \u001b[43m    \u001b[49m\u001b[38;5;28;43mself\u001b[39;49m\u001b[38;5;241;43m.\u001b[39;49m\u001b[43mconfig\u001b[49m\u001b[38;5;241;43m.\u001b[39;49m\u001b[43mclimate\u001b[49m\u001b[38;5;241;43m.\u001b[39;49m\u001b[43mpath\u001b[49m\u001b[43m,\u001b[49m\n\u001b[1;32m    694\u001b[0m \u001b[43m    \u001b[49m\u001b[43mlatN\u001b[49m\u001b[43m,\u001b[49m\u001b[43m \u001b[49m\u001b[43mlatS\u001b[49m\u001b[43m,\u001b[49m\u001b[43m \u001b[49m\u001b[43mlonE\u001b[49m\u001b[43m,\u001b[49m\u001b[43m \u001b[49m\u001b[43mlonW\u001b[49m\u001b[43m,\u001b[49m\n\u001b[1;32m    695\u001b[0m \u001b[43m    \u001b[49m\u001b[38;5;28;43mself\u001b[39;49m\u001b[38;5;241;43m.\u001b[39;49m\u001b[43mconfig\u001b[49m\u001b[38;5;241;43m.\u001b[39;49m\u001b[43mclimate\u001b[49m\u001b[43m[\u001b[49m\u001b[38;5;28;43mself\u001b[39;49m\u001b[38;5;241;43m.\u001b[39;49m\u001b[43mconfig\u001b[49m\u001b[38;5;241;43m.\u001b[39;49m\u001b[43mproject\u001b[49m\u001b[38;5;241;43m.\u001b[39;49m\u001b[43mclimate\u001b[49m\u001b[43m]\u001b[49m\u001b[38;5;241;43m.\u001b[39;49m\u001b[43mtimestep\u001b[49m\u001b[43m,\u001b[49m\n\u001b[1;32m    696\u001b[0m \u001b[43m    \u001b[49m\u001b[38;5;28;43mself\u001b[39;49m\u001b[38;5;241;43m.\u001b[39;49m\u001b[43mconfig\u001b[49m\u001b[38;5;241;43m.\u001b[39;49m\u001b[43mclimate\u001b[49m\u001b[43m[\u001b[49m\u001b[38;5;28;43mself\u001b[39;49m\u001b[38;5;241;43m.\u001b[39;49m\u001b[43mconfig\u001b[49m\u001b[38;5;241;43m.\u001b[39;49m\u001b[43mproject\u001b[49m\u001b[38;5;241;43m.\u001b[39;49m\u001b[43mclimate\u001b[49m\u001b[43m]\u001b[49m\u001b[38;5;241;43m.\u001b[39;49m\u001b[43mdownload_threads\u001b[49m\u001b[43m,\u001b[49m\n\u001b[1;32m    697\u001b[0m \u001b[43m    \u001b[49m\u001b[43msurf_plev\u001b[49m\u001b[38;5;241;43m=\u001b[39;49m\u001b[38;5;124;43m'\u001b[39;49m\u001b[38;5;124;43mplev\u001b[39;49m\u001b[38;5;124;43m'\u001b[39;49m\u001b[43m,\u001b[49m\n\u001b[1;32m    698\u001b[0m \u001b[43m    \u001b[49m\u001b[43mplevels\u001b[49m\u001b[38;5;241;43m=\u001b[39;49m\u001b[38;5;28;43mself\u001b[39;49m\u001b[38;5;241;43m.\u001b[39;49m\u001b[43mconfig\u001b[49m\u001b[38;5;241;43m.\u001b[39;49m\u001b[43mclimate\u001b[49m\u001b[43m[\u001b[49m\u001b[38;5;28;43mself\u001b[39;49m\u001b[38;5;241;43m.\u001b[39;49m\u001b[43mconfig\u001b[49m\u001b[38;5;241;43m.\u001b[39;49m\u001b[43mproject\u001b[49m\u001b[38;5;241;43m.\u001b[39;49m\u001b[43mclimate\u001b[49m\u001b[43m]\u001b[49m\u001b[38;5;241;43m.\u001b[39;49m\u001b[43mplevels\u001b[49m\u001b[43m,\u001b[49m\n\u001b[1;32m    699\u001b[0m \u001b[43m    \u001b[49m\u001b[43mrealtime\u001b[49m\u001b[38;5;241;43m=\u001b[39;49m\u001b[43mrealtime\u001b[49m\n\u001b[1;32m    700\u001b[0m \u001b[43m\u001b[49m\u001b[43m)\u001b[49m\n",
      "File \u001b[0;32m~/Desktop/sedcas/varya_project/wsl_stay_10oct2022/downscaling/clone/TopoPyScale/TopoPyScale/fetch_era5.py:107\u001b[0m, in \u001b[0;36mretrieve_era5\u001b[0;34m(product, startDate, endDate, eraDir, latN, latS, lonE, lonW, step, num_threads, surf_plev, plevels, realtime)\u001b[0m\n\u001b[1;32m    105\u001b[0m \u001b[38;5;28;01melif\u001b[39;00m surf_plev \u001b[38;5;241m==\u001b[39m \u001b[38;5;124m'\u001b[39m\u001b[38;5;124mplev\u001b[39m\u001b[38;5;124m'\u001b[39m:\n\u001b[1;32m    106\u001b[0m \tpool \u001b[38;5;241m=\u001b[39m ThreadPool(num_threads)\n\u001b[0;32m--> 107\u001b[0m \t\u001b[43mpool\u001b[49m\u001b[38;5;241;43m.\u001b[39;49m\u001b[43mstarmap\u001b[49m\u001b[43m(\u001b[49m\u001b[43mera5_request_plev\u001b[49m\u001b[43m,\u001b[49m\u001b[43m \u001b[49m\u001b[38;5;28;43mzip\u001b[39;49m\u001b[43m(\u001b[49m\u001b[38;5;28;43mlist\u001b[39;49m\u001b[43m(\u001b[49m\u001b[43mdownload\u001b[49m\u001b[38;5;241;43m.\u001b[39;49m\u001b[43mdataset\u001b[49m\u001b[43m)\u001b[49m\u001b[43m,\u001b[49m\n\u001b[1;32m    108\u001b[0m \u001b[43m\t\t\t\t\t\t\t\t\t\t\u001b[49m\u001b[38;5;28;43mlist\u001b[39;49m\u001b[43m(\u001b[49m\u001b[43mdownload\u001b[49m\u001b[38;5;241;43m.\u001b[39;49m\u001b[43myear\u001b[49m\u001b[43m)\u001b[49m\u001b[43m,\u001b[49m\n\u001b[1;32m    109\u001b[0m \u001b[43m\t\t\t\t\t\t\t\t\t\t\u001b[49m\u001b[38;5;28;43mlist\u001b[39;49m\u001b[43m(\u001b[49m\u001b[43mdownload\u001b[49m\u001b[38;5;241;43m.\u001b[39;49m\u001b[43mmonth\u001b[49m\u001b[43m)\u001b[49m\u001b[43m,\u001b[49m\n\u001b[1;32m    110\u001b[0m \u001b[43m\t\t\t\t\t\t\t\t\t\t\u001b[49m\u001b[38;5;28;43mlist\u001b[39;49m\u001b[43m(\u001b[49m\u001b[43mdownload\u001b[49m\u001b[38;5;241;43m.\u001b[39;49m\u001b[43mbbox\u001b[49m\u001b[43m)\u001b[49m\u001b[43m,\u001b[49m\n\u001b[1;32m    111\u001b[0m \u001b[43m\t\t\t\t\t\t\t\t\t\t\u001b[49m\u001b[38;5;28;43mlist\u001b[39;49m\u001b[43m(\u001b[49m\u001b[43mdownload\u001b[49m\u001b[38;5;241;43m.\u001b[39;49m\u001b[43mtarget_file\u001b[49m\u001b[43m)\u001b[49m\u001b[43m,\u001b[49m\n\u001b[1;32m    112\u001b[0m \u001b[43m\t\t\t\t\t\t\t\t\t\t\u001b[49m\u001b[38;5;28;43mlist\u001b[39;49m\u001b[43m(\u001b[49m\u001b[43mdownload\u001b[49m\u001b[38;5;241;43m.\u001b[39;49m\u001b[43mproduct_type\u001b[49m\u001b[43m)\u001b[49m\u001b[43m,\u001b[49m\n\u001b[1;32m    113\u001b[0m \u001b[43m\t\t\t\t\t\t\t\t\t\t\u001b[49m\u001b[38;5;28;43mlist\u001b[39;49m\u001b[43m(\u001b[49m\u001b[43mdownload\u001b[49m\u001b[38;5;241;43m.\u001b[39;49m\u001b[43mtime_steps\u001b[49m\u001b[43m)\u001b[49m\u001b[43m,\u001b[49m\n\u001b[1;32m    114\u001b[0m \u001b[43m\t\t\t\t\t\t\t\t\t\t\u001b[49m\u001b[38;5;28;43mlist\u001b[39;49m\u001b[43m(\u001b[49m\u001b[43mdownload\u001b[49m\u001b[38;5;241;43m.\u001b[39;49m\u001b[43mplevels\u001b[49m\u001b[43m)\u001b[49m\u001b[43m)\u001b[49m\u001b[43m)\u001b[49m\n\u001b[1;32m    115\u001b[0m \tpool\u001b[38;5;241m.\u001b[39mclose()\n\u001b[1;32m    116\u001b[0m \tpool\u001b[38;5;241m.\u001b[39mjoin()\n",
      "File \u001b[0;32m~/opt/anaconda3/envs/downscaling/lib/python3.9/multiprocessing/pool.py:372\u001b[0m, in \u001b[0;36mPool.starmap\u001b[0;34m(self, func, iterable, chunksize)\u001b[0m\n\u001b[1;32m    366\u001b[0m \u001b[38;5;28;01mdef\u001b[39;00m \u001b[38;5;21mstarmap\u001b[39m(\u001b[38;5;28mself\u001b[39m, func, iterable, chunksize\u001b[38;5;241m=\u001b[39m\u001b[38;5;28;01mNone\u001b[39;00m):\n\u001b[1;32m    367\u001b[0m \u001b[38;5;250m    \u001b[39m\u001b[38;5;124;03m'''\u001b[39;00m\n\u001b[1;32m    368\u001b[0m \u001b[38;5;124;03m    Like `map()` method but the elements of the `iterable` are expected to\u001b[39;00m\n\u001b[1;32m    369\u001b[0m \u001b[38;5;124;03m    be iterables as well and will be unpacked as arguments. Hence\u001b[39;00m\n\u001b[1;32m    370\u001b[0m \u001b[38;5;124;03m    `func` and (a, b) becomes func(a, b).\u001b[39;00m\n\u001b[1;32m    371\u001b[0m \u001b[38;5;124;03m    '''\u001b[39;00m\n\u001b[0;32m--> 372\u001b[0m     \u001b[38;5;28;01mreturn\u001b[39;00m \u001b[38;5;28;43mself\u001b[39;49m\u001b[38;5;241;43m.\u001b[39;49m\u001b[43m_map_async\u001b[49m\u001b[43m(\u001b[49m\u001b[43mfunc\u001b[49m\u001b[43m,\u001b[49m\u001b[43m \u001b[49m\u001b[43miterable\u001b[49m\u001b[43m,\u001b[49m\u001b[43m \u001b[49m\u001b[43mstarmapstar\u001b[49m\u001b[43m,\u001b[49m\u001b[43m \u001b[49m\u001b[43mchunksize\u001b[49m\u001b[43m)\u001b[49m\u001b[38;5;241;43m.\u001b[39;49m\u001b[43mget\u001b[49m\u001b[43m(\u001b[49m\u001b[43m)\u001b[49m\n",
      "File \u001b[0;32m~/opt/anaconda3/envs/downscaling/lib/python3.9/multiprocessing/pool.py:771\u001b[0m, in \u001b[0;36mApplyResult.get\u001b[0;34m(self, timeout)\u001b[0m\n\u001b[1;32m    769\u001b[0m     \u001b[38;5;28;01mreturn\u001b[39;00m \u001b[38;5;28mself\u001b[39m\u001b[38;5;241m.\u001b[39m_value\n\u001b[1;32m    770\u001b[0m \u001b[38;5;28;01melse\u001b[39;00m:\n\u001b[0;32m--> 771\u001b[0m     \u001b[38;5;28;01mraise\u001b[39;00m \u001b[38;5;28mself\u001b[39m\u001b[38;5;241m.\u001b[39m_value\n",
      "File \u001b[0;32m~/opt/anaconda3/envs/downscaling/lib/python3.9/multiprocessing/pool.py:125\u001b[0m, in \u001b[0;36mworker\u001b[0;34m(inqueue, outqueue, initializer, initargs, maxtasks, wrap_exception)\u001b[0m\n\u001b[1;32m    123\u001b[0m job, i, func, args, kwds \u001b[38;5;241m=\u001b[39m task\n\u001b[1;32m    124\u001b[0m \u001b[38;5;28;01mtry\u001b[39;00m:\n\u001b[0;32m--> 125\u001b[0m     result \u001b[38;5;241m=\u001b[39m (\u001b[38;5;28;01mTrue\u001b[39;00m, \u001b[43mfunc\u001b[49m\u001b[43m(\u001b[49m\u001b[38;5;241;43m*\u001b[39;49m\u001b[43margs\u001b[49m\u001b[43m,\u001b[49m\u001b[43m \u001b[49m\u001b[38;5;241;43m*\u001b[39;49m\u001b[38;5;241;43m*\u001b[39;49m\u001b[43mkwds\u001b[49m\u001b[43m)\u001b[49m)\n\u001b[1;32m    126\u001b[0m \u001b[38;5;28;01mexcept\u001b[39;00m \u001b[38;5;167;01mException\u001b[39;00m \u001b[38;5;28;01mas\u001b[39;00m e:\n\u001b[1;32m    127\u001b[0m     \u001b[38;5;28;01mif\u001b[39;00m wrap_exception \u001b[38;5;129;01mand\u001b[39;00m func \u001b[38;5;129;01mis\u001b[39;00m \u001b[38;5;129;01mnot\u001b[39;00m _helper_reraises_exception:\n",
      "File \u001b[0;32m~/opt/anaconda3/envs/downscaling/lib/python3.9/multiprocessing/pool.py:51\u001b[0m, in \u001b[0;36mstarmapstar\u001b[0;34m(args)\u001b[0m\n\u001b[1;32m     50\u001b[0m \u001b[38;5;28;01mdef\u001b[39;00m \u001b[38;5;21mstarmapstar\u001b[39m(args):\n\u001b[0;32m---> 51\u001b[0m     \u001b[38;5;28;01mreturn\u001b[39;00m \u001b[38;5;28;43mlist\u001b[39;49m\u001b[43m(\u001b[49m\u001b[43mitertools\u001b[49m\u001b[38;5;241;43m.\u001b[39;49m\u001b[43mstarmap\u001b[49m\u001b[43m(\u001b[49m\u001b[43margs\u001b[49m\u001b[43m[\u001b[49m\u001b[38;5;241;43m0\u001b[39;49m\u001b[43m]\u001b[49m\u001b[43m,\u001b[49m\u001b[43m \u001b[49m\u001b[43margs\u001b[49m\u001b[43m[\u001b[49m\u001b[38;5;241;43m1\u001b[39;49m\u001b[43m]\u001b[49m\u001b[43m)\u001b[49m\u001b[43m)\u001b[49m\n",
      "File \u001b[0;32m~/Desktop/sedcas/varya_project/wsl_stay_10oct2022/downscaling/clone/TopoPyScale/TopoPyScale/fetch_era5.py:196\u001b[0m, in \u001b[0;36mera5_request_plev\u001b[0;34m(dataset, year, month, bbox, target, product, time, plevels)\u001b[0m\n\u001b[1;32m    179\u001b[0m \u001b[38;5;250m\u001b[39m\u001b[38;5;124;03m\"\"\"CDS plevel api call\u001b[39;00m\n\u001b[1;32m    180\u001b[0m \u001b[38;5;124;03m\u001b[39;00m\n\u001b[1;32m    181\u001b[0m \u001b[38;5;124;03mArgs:\u001b[39;00m\n\u001b[0;32m   (...)\u001b[0m\n\u001b[1;32m    193\u001b[0m \n\u001b[1;32m    194\u001b[0m \u001b[38;5;124;03m\"\"\"\u001b[39;00m\n\u001b[1;32m    195\u001b[0m c \u001b[38;5;241m=\u001b[39m cdsapi\u001b[38;5;241m.\u001b[39mClient()\n\u001b[0;32m--> 196\u001b[0m \u001b[43mc\u001b[49m\u001b[38;5;241;43m.\u001b[39;49m\u001b[43mretrieve\u001b[49m\u001b[43m(\u001b[49m\n\u001b[1;32m    197\u001b[0m \u001b[43m\t\u001b[49m\u001b[43mdataset\u001b[49m\u001b[43m,\u001b[49m\n\u001b[1;32m    198\u001b[0m \u001b[43m\t\u001b[49m\u001b[43m{\u001b[49m\n\u001b[1;32m    199\u001b[0m \u001b[43m\t\t\u001b[49m\u001b[38;5;124;43m'\u001b[39;49m\u001b[38;5;124;43mproduct_type\u001b[39;49m\u001b[38;5;124;43m'\u001b[39;49m\u001b[43m:\u001b[49m\u001b[43m \u001b[49m\u001b[43mproduct\u001b[49m\u001b[43m,\u001b[49m\n\u001b[1;32m    200\u001b[0m \u001b[43m\t\t\u001b[49m\u001b[38;5;124;43m'\u001b[39;49m\u001b[38;5;124;43mformat\u001b[39;49m\u001b[38;5;124;43m'\u001b[39;49m\u001b[43m:\u001b[49m\u001b[43m \u001b[49m\u001b[38;5;124;43m'\u001b[39;49m\u001b[38;5;124;43mnetcdf\u001b[39;49m\u001b[38;5;124;43m'\u001b[39;49m\u001b[43m,\u001b[49m\n\u001b[1;32m    201\u001b[0m \u001b[43m\t\t\u001b[49m\u001b[38;5;124;43m\"\u001b[39;49m\u001b[38;5;124;43marea\u001b[39;49m\u001b[38;5;124;43m\"\u001b[39;49m\u001b[43m:\u001b[49m\u001b[43m \u001b[49m\u001b[43mbbox\u001b[49m\u001b[43m,\u001b[49m\n\u001b[1;32m    202\u001b[0m \u001b[43m\t\t\u001b[49m\u001b[38;5;124;43m'\u001b[39;49m\u001b[38;5;124;43mvariable\u001b[39;49m\u001b[38;5;124;43m'\u001b[39;49m\u001b[43m:\u001b[49m\u001b[43m \u001b[49m\u001b[43m[\u001b[49m\n\u001b[1;32m    203\u001b[0m \u001b[43m\t\t\t\u001b[49m\u001b[38;5;124;43m'\u001b[39;49m\u001b[38;5;124;43mgeopotential\u001b[39;49m\u001b[38;5;124;43m'\u001b[39;49m\u001b[43m,\u001b[49m\u001b[43m \u001b[49m\u001b[38;5;124;43m'\u001b[39;49m\u001b[38;5;124;43mtemperature\u001b[39;49m\u001b[38;5;124;43m'\u001b[39;49m\u001b[43m,\u001b[49m\u001b[43m \u001b[49m\u001b[38;5;124;43m'\u001b[39;49m\u001b[38;5;124;43mu_component_of_wind\u001b[39;49m\u001b[38;5;124;43m'\u001b[39;49m\u001b[43m,\u001b[49m\n\u001b[1;32m    204\u001b[0m \u001b[43m\t\t\t\u001b[49m\u001b[38;5;124;43m'\u001b[39;49m\u001b[38;5;124;43mv_component_of_wind\u001b[39;49m\u001b[38;5;124;43m'\u001b[39;49m\u001b[43m,\u001b[49m\u001b[43m \u001b[49m\u001b[38;5;124;43m'\u001b[39;49m\u001b[38;5;124;43mrelative_humidity\u001b[39;49m\u001b[38;5;124;43m'\u001b[39;49m\u001b[43m,\u001b[49m\u001b[43m \u001b[49m\u001b[38;5;124;43m'\u001b[39;49m\u001b[38;5;124;43mspecific_humidity\u001b[39;49m\u001b[38;5;124;43m'\u001b[39;49m\n\u001b[1;32m    205\u001b[0m \u001b[43m\t\t\u001b[49m\u001b[43m]\u001b[49m\u001b[43m,\u001b[49m\n\u001b[1;32m    206\u001b[0m \u001b[43m\t\t\u001b[49m\u001b[38;5;124;43m'\u001b[39;49m\u001b[38;5;124;43mpressure_level\u001b[39;49m\u001b[38;5;124;43m'\u001b[39;49m\u001b[43m:\u001b[49m\u001b[43m \u001b[49m\u001b[43mplevels\u001b[49m\u001b[43m,\u001b[49m\n\u001b[1;32m    207\u001b[0m \u001b[43m\t\t\u001b[49m\u001b[38;5;124;43m'\u001b[39;49m\u001b[38;5;124;43myear\u001b[39;49m\u001b[38;5;124;43m'\u001b[39;49m\u001b[43m:\u001b[49m\u001b[43m \u001b[49m\u001b[43myear\u001b[49m\u001b[43m,\u001b[49m\n\u001b[1;32m    208\u001b[0m \u001b[43m\t\t\u001b[49m\u001b[38;5;124;43m'\u001b[39;49m\u001b[38;5;124;43mmonth\u001b[39;49m\u001b[38;5;124;43m'\u001b[39;49m\u001b[43m:\u001b[49m\u001b[43m \u001b[49m\u001b[38;5;124;43m'\u001b[39;49m\u001b[38;5;132;43;01m%02d\u001b[39;49;00m\u001b[38;5;124;43m'\u001b[39;49m\u001b[38;5;241;43m%\u001b[39;49m\u001b[43m(\u001b[49m\u001b[43mmonth\u001b[49m\u001b[43m)\u001b[49m\u001b[43m,\u001b[49m\n\u001b[1;32m    209\u001b[0m \u001b[43m\t\t\u001b[49m\u001b[38;5;124;43m'\u001b[39;49m\u001b[38;5;124;43mday\u001b[39;49m\u001b[38;5;124;43m'\u001b[39;49m\u001b[43m:\u001b[49m\u001b[43m \u001b[49m\u001b[43m[\u001b[49m\n\u001b[1;32m    210\u001b[0m \u001b[43m\t\t\t\u001b[49m\u001b[38;5;124;43m'\u001b[39;49m\u001b[38;5;124;43m01\u001b[39;49m\u001b[38;5;124;43m'\u001b[39;49m\u001b[43m,\u001b[49m\u001b[43m \u001b[49m\u001b[38;5;124;43m'\u001b[39;49m\u001b[38;5;124;43m02\u001b[39;49m\u001b[38;5;124;43m'\u001b[39;49m\u001b[43m,\u001b[49m\u001b[43m \u001b[49m\u001b[38;5;124;43m'\u001b[39;49m\u001b[38;5;124;43m03\u001b[39;49m\u001b[38;5;124;43m'\u001b[39;49m\u001b[43m,\u001b[49m\n\u001b[1;32m    211\u001b[0m \u001b[43m\t\t\t\u001b[49m\u001b[38;5;124;43m'\u001b[39;49m\u001b[38;5;124;43m04\u001b[39;49m\u001b[38;5;124;43m'\u001b[39;49m\u001b[43m,\u001b[49m\u001b[43m \u001b[49m\u001b[38;5;124;43m'\u001b[39;49m\u001b[38;5;124;43m05\u001b[39;49m\u001b[38;5;124;43m'\u001b[39;49m\u001b[43m,\u001b[49m\u001b[43m \u001b[49m\u001b[38;5;124;43m'\u001b[39;49m\u001b[38;5;124;43m06\u001b[39;49m\u001b[38;5;124;43m'\u001b[39;49m\u001b[43m,\u001b[49m\n\u001b[1;32m    212\u001b[0m \u001b[43m\t\t\t\u001b[49m\u001b[38;5;124;43m'\u001b[39;49m\u001b[38;5;124;43m07\u001b[39;49m\u001b[38;5;124;43m'\u001b[39;49m\u001b[43m,\u001b[49m\u001b[43m \u001b[49m\u001b[38;5;124;43m'\u001b[39;49m\u001b[38;5;124;43m08\u001b[39;49m\u001b[38;5;124;43m'\u001b[39;49m\u001b[43m,\u001b[49m\u001b[43m \u001b[49m\u001b[38;5;124;43m'\u001b[39;49m\u001b[38;5;124;43m09\u001b[39;49m\u001b[38;5;124;43m'\u001b[39;49m\u001b[43m,\u001b[49m\n\u001b[1;32m    213\u001b[0m \u001b[43m\t\t\t\u001b[49m\u001b[38;5;124;43m'\u001b[39;49m\u001b[38;5;124;43m10\u001b[39;49m\u001b[38;5;124;43m'\u001b[39;49m\u001b[43m,\u001b[49m\u001b[43m \u001b[49m\u001b[38;5;124;43m'\u001b[39;49m\u001b[38;5;124;43m11\u001b[39;49m\u001b[38;5;124;43m'\u001b[39;49m\u001b[43m,\u001b[49m\u001b[43m \u001b[49m\u001b[38;5;124;43m'\u001b[39;49m\u001b[38;5;124;43m12\u001b[39;49m\u001b[38;5;124;43m'\u001b[39;49m\u001b[43m,\u001b[49m\n\u001b[1;32m    214\u001b[0m \u001b[43m\t\t\t\u001b[49m\u001b[38;5;124;43m'\u001b[39;49m\u001b[38;5;124;43m13\u001b[39;49m\u001b[38;5;124;43m'\u001b[39;49m\u001b[43m,\u001b[49m\u001b[43m \u001b[49m\u001b[38;5;124;43m'\u001b[39;49m\u001b[38;5;124;43m14\u001b[39;49m\u001b[38;5;124;43m'\u001b[39;49m\u001b[43m,\u001b[49m\u001b[43m \u001b[49m\u001b[38;5;124;43m'\u001b[39;49m\u001b[38;5;124;43m15\u001b[39;49m\u001b[38;5;124;43m'\u001b[39;49m\u001b[43m,\u001b[49m\n\u001b[1;32m    215\u001b[0m \u001b[43m\t\t\t\u001b[49m\u001b[38;5;124;43m'\u001b[39;49m\u001b[38;5;124;43m16\u001b[39;49m\u001b[38;5;124;43m'\u001b[39;49m\u001b[43m,\u001b[49m\u001b[43m \u001b[49m\u001b[38;5;124;43m'\u001b[39;49m\u001b[38;5;124;43m17\u001b[39;49m\u001b[38;5;124;43m'\u001b[39;49m\u001b[43m,\u001b[49m\u001b[43m \u001b[49m\u001b[38;5;124;43m'\u001b[39;49m\u001b[38;5;124;43m18\u001b[39;49m\u001b[38;5;124;43m'\u001b[39;49m\u001b[43m,\u001b[49m\n\u001b[1;32m    216\u001b[0m \u001b[43m\t\t\t\u001b[49m\u001b[38;5;124;43m'\u001b[39;49m\u001b[38;5;124;43m19\u001b[39;49m\u001b[38;5;124;43m'\u001b[39;49m\u001b[43m,\u001b[49m\u001b[43m \u001b[49m\u001b[38;5;124;43m'\u001b[39;49m\u001b[38;5;124;43m20\u001b[39;49m\u001b[38;5;124;43m'\u001b[39;49m\u001b[43m,\u001b[49m\u001b[43m \u001b[49m\u001b[38;5;124;43m'\u001b[39;49m\u001b[38;5;124;43m21\u001b[39;49m\u001b[38;5;124;43m'\u001b[39;49m\u001b[43m,\u001b[49m\n\u001b[1;32m    217\u001b[0m \u001b[43m\t\t\t\u001b[49m\u001b[38;5;124;43m'\u001b[39;49m\u001b[38;5;124;43m22\u001b[39;49m\u001b[38;5;124;43m'\u001b[39;49m\u001b[43m,\u001b[49m\u001b[43m \u001b[49m\u001b[38;5;124;43m'\u001b[39;49m\u001b[38;5;124;43m23\u001b[39;49m\u001b[38;5;124;43m'\u001b[39;49m\u001b[43m,\u001b[49m\u001b[43m \u001b[49m\u001b[38;5;124;43m'\u001b[39;49m\u001b[38;5;124;43m24\u001b[39;49m\u001b[38;5;124;43m'\u001b[39;49m\u001b[43m,\u001b[49m\n\u001b[1;32m    218\u001b[0m \u001b[43m\t\t\t\u001b[49m\u001b[38;5;124;43m'\u001b[39;49m\u001b[38;5;124;43m25\u001b[39;49m\u001b[38;5;124;43m'\u001b[39;49m\u001b[43m,\u001b[49m\u001b[43m \u001b[49m\u001b[38;5;124;43m'\u001b[39;49m\u001b[38;5;124;43m26\u001b[39;49m\u001b[38;5;124;43m'\u001b[39;49m\u001b[43m,\u001b[49m\u001b[43m \u001b[49m\u001b[38;5;124;43m'\u001b[39;49m\u001b[38;5;124;43m27\u001b[39;49m\u001b[38;5;124;43m'\u001b[39;49m\u001b[43m,\u001b[49m\n\u001b[1;32m    219\u001b[0m \u001b[43m\t\t\t\u001b[49m\u001b[38;5;124;43m'\u001b[39;49m\u001b[38;5;124;43m28\u001b[39;49m\u001b[38;5;124;43m'\u001b[39;49m\u001b[43m,\u001b[49m\u001b[43m \u001b[49m\u001b[38;5;124;43m'\u001b[39;49m\u001b[38;5;124;43m29\u001b[39;49m\u001b[38;5;124;43m'\u001b[39;49m\u001b[43m,\u001b[49m\u001b[43m \u001b[49m\u001b[38;5;124;43m'\u001b[39;49m\u001b[38;5;124;43m30\u001b[39;49m\u001b[38;5;124;43m'\u001b[39;49m\u001b[43m,\u001b[49m\n\u001b[1;32m    220\u001b[0m \u001b[43m\t\t\t\u001b[49m\u001b[38;5;124;43m'\u001b[39;49m\u001b[38;5;124;43m31\u001b[39;49m\u001b[38;5;124;43m'\u001b[39;49m\n\u001b[1;32m    221\u001b[0m \u001b[43m\t\t\u001b[49m\u001b[43m]\u001b[49m\u001b[43m,\u001b[49m\n\u001b[1;32m    222\u001b[0m \u001b[43m\t\t\u001b[49m\u001b[38;5;124;43m'\u001b[39;49m\u001b[38;5;124;43mtime\u001b[39;49m\u001b[38;5;124;43m'\u001b[39;49m\u001b[43m:\u001b[49m\u001b[43m \u001b[49m\u001b[43mtime\u001b[49m\u001b[43m,\u001b[49m\n\u001b[1;32m    223\u001b[0m \u001b[43m\t\t\u001b[49m\u001b[38;5;124;43m'\u001b[39;49m\u001b[38;5;124;43mgrid\u001b[39;49m\u001b[38;5;124;43m'\u001b[39;49m\u001b[43m:\u001b[49m\u001b[43m \u001b[49m\u001b[43m[\u001b[49m\u001b[38;5;241;43m0.25\u001b[39;49m\u001b[43m,\u001b[49m\u001b[43m \u001b[49m\u001b[38;5;241;43m0.25\u001b[39;49m\u001b[43m]\u001b[49m\u001b[43m,\u001b[49m\n\u001b[1;32m    224\u001b[0m \u001b[43m\t\u001b[49m\u001b[43m}\u001b[49m\u001b[43m,\u001b[49m\n\u001b[1;32m    225\u001b[0m \u001b[43m\t\u001b[49m\u001b[43mtarget\u001b[49m\u001b[43m)\u001b[49m\n\u001b[1;32m    226\u001b[0m \u001b[38;5;28mprint\u001b[39m(target \u001b[38;5;241m+\u001b[39m \u001b[38;5;124m\"\u001b[39m\u001b[38;5;124m complete\u001b[39m\u001b[38;5;124m\"\u001b[39m)\n",
      "File \u001b[0;32m~/opt/anaconda3/envs/downscaling/lib/python3.9/site-packages/cdsapi/api.py:366\u001b[0m, in \u001b[0;36mClient.retrieve\u001b[0;34m(self, name, request, target)\u001b[0m\n\u001b[1;32m    364\u001b[0m result \u001b[38;5;241m=\u001b[39m \u001b[38;5;28mself\u001b[39m\u001b[38;5;241m.\u001b[39m_api(\u001b[38;5;124m\"\u001b[39m\u001b[38;5;132;01m%s\u001b[39;00m\u001b[38;5;124m/resources/\u001b[39m\u001b[38;5;132;01m%s\u001b[39;00m\u001b[38;5;124m\"\u001b[39m \u001b[38;5;241m%\u001b[39m (\u001b[38;5;28mself\u001b[39m\u001b[38;5;241m.\u001b[39murl, name), request, \u001b[38;5;124m\"\u001b[39m\u001b[38;5;124mPOST\u001b[39m\u001b[38;5;124m\"\u001b[39m)\n\u001b[1;32m    365\u001b[0m \u001b[38;5;28;01mif\u001b[39;00m target \u001b[38;5;129;01mis\u001b[39;00m \u001b[38;5;129;01mnot\u001b[39;00m \u001b[38;5;28;01mNone\u001b[39;00m:\n\u001b[0;32m--> 366\u001b[0m     \u001b[43mresult\u001b[49m\u001b[38;5;241;43m.\u001b[39;49m\u001b[43mdownload\u001b[49m\u001b[43m(\u001b[49m\u001b[43mtarget\u001b[49m\u001b[43m)\u001b[49m\n\u001b[1;32m    367\u001b[0m \u001b[38;5;28;01mreturn\u001b[39;00m result\n",
      "File \u001b[0;32m~/opt/anaconda3/envs/downscaling/lib/python3.9/site-packages/cdsapi/api.py:171\u001b[0m, in \u001b[0;36mResult.download\u001b[0;34m(self, target)\u001b[0m\n\u001b[1;32m    170\u001b[0m \u001b[38;5;28;01mdef\u001b[39;00m \u001b[38;5;21mdownload\u001b[39m(\u001b[38;5;28mself\u001b[39m, target\u001b[38;5;241m=\u001b[39m\u001b[38;5;28;01mNone\u001b[39;00m):\n\u001b[0;32m--> 171\u001b[0m     \u001b[38;5;28;01mreturn\u001b[39;00m \u001b[38;5;28;43mself\u001b[39;49m\u001b[38;5;241;43m.\u001b[39;49m\u001b[43m_download\u001b[49m\u001b[43m(\u001b[49m\u001b[38;5;28;43mself\u001b[39;49m\u001b[38;5;241;43m.\u001b[39;49m\u001b[43mlocation\u001b[49m\u001b[43m,\u001b[49m\u001b[43m \u001b[49m\u001b[38;5;28;43mself\u001b[39;49m\u001b[38;5;241;43m.\u001b[39;49m\u001b[43mcontent_length\u001b[49m\u001b[43m,\u001b[49m\u001b[43m \u001b[49m\u001b[43mtarget\u001b[49m\u001b[43m)\u001b[49m\n",
      "File \u001b[0;32m~/opt/anaconda3/envs/downscaling/lib/python3.9/site-packages/cdsapi/api.py:131\u001b[0m, in \u001b[0;36mResult._download\u001b[0;34m(self, url, size, target)\u001b[0m\n\u001b[1;32m    129\u001b[0m pbar\u001b[38;5;241m.\u001b[39mupdate(total)\n\u001b[1;32m    130\u001b[0m \u001b[38;5;28;01mwith\u001b[39;00m \u001b[38;5;28mopen\u001b[39m(target, mode) \u001b[38;5;28;01mas\u001b[39;00m f:\n\u001b[0;32m--> 131\u001b[0m     \u001b[38;5;28;01mfor\u001b[39;00m chunk \u001b[38;5;129;01min\u001b[39;00m r\u001b[38;5;241m.\u001b[39miter_content(chunk_size\u001b[38;5;241m=\u001b[39m\u001b[38;5;241m1024\u001b[39m):\n\u001b[1;32m    132\u001b[0m         \u001b[38;5;28;01mif\u001b[39;00m chunk:\n\u001b[1;32m    133\u001b[0m             f\u001b[38;5;241m.\u001b[39mwrite(chunk)\n",
      "File \u001b[0;32m~/opt/anaconda3/envs/downscaling/lib/python3.9/site-packages/requests/models.py:818\u001b[0m, in \u001b[0;36mResponse.iter_content.<locals>.generate\u001b[0;34m()\u001b[0m\n\u001b[1;32m    816\u001b[0m     \u001b[38;5;28;01myield from\u001b[39;00m \u001b[38;5;28mself\u001b[39m\u001b[38;5;241m.\u001b[39mraw\u001b[38;5;241m.\u001b[39mstream(chunk_size, decode_content\u001b[38;5;241m=\u001b[39m\u001b[38;5;28;01mTrue\u001b[39;00m)\n\u001b[1;32m    817\u001b[0m \u001b[38;5;28;01mexcept\u001b[39;00m ProtocolError \u001b[38;5;28;01mas\u001b[39;00m e:\n\u001b[0;32m--> 818\u001b[0m     \u001b[38;5;28;01mraise\u001b[39;00m ChunkedEncodingError(e)\n\u001b[1;32m    819\u001b[0m \u001b[38;5;28;01mexcept\u001b[39;00m DecodeError \u001b[38;5;28;01mas\u001b[39;00m e:\n\u001b[1;32m    820\u001b[0m     \u001b[38;5;28;01mraise\u001b[39;00m ContentDecodingError(e)\n",
      "\u001b[0;31mChunkedEncodingError\u001b[0m: (\"Connection broken: ConnectionResetError(54, 'Connection reset by peer')\", ConnectionResetError(54, 'Connection reset by peer'))"
     ]
    }
   ],
   "source": [
    "## ========= STEP 1 ==========\n",
    "# Load Configuration\n",
    "config_file = './config_spatial.yml'\n",
    "mp = tc.Topoclass(config_file)\n"
   ]
  },
  {
   "cell_type": "code",
   "execution_count": null,
   "id": "6faf395e-789d-4338-8970-2ab9872b5512",
   "metadata": {},
   "outputs": [],
   "source": []
  },
  {
   "cell_type": "code",
   "execution_count": null,
   "id": "3145cf44-9fec-4f0b-91a7-fcfbcd924f4c",
   "metadata": {},
   "outputs": [],
   "source": []
  },
  {
   "cell_type": "code",
   "execution_count": null,
   "id": "e00392d4-f8fc-4ab5-bb3b-da11bcaabdfb",
   "metadata": {},
   "outputs": [],
   "source": []
  },
  {
   "cell_type": "code",
   "execution_count": null,
   "id": "65e5c43a-8f4d-4a1f-9241-849fe7724ae2",
   "metadata": {},
   "outputs": [],
   "source": []
  },
  {
   "cell_type": "code",
   "execution_count": null,
   "id": "0c5a94bc-5641-44ea-9ba5-51a702308338",
   "metadata": {},
   "outputs": [],
   "source": []
  }
 ],
 "metadata": {
  "kernelspec": {
   "display_name": "Python [conda env:downscaling] *",
   "language": "python",
   "name": "conda-env-downscaling-py"
  },
  "language_info": {
   "codemirror_mode": {
    "name": "ipython",
    "version": 3
   },
   "file_extension": ".py",
   "mimetype": "text/x-python",
   "name": "python",
   "nbconvert_exporter": "python",
   "pygments_lexer": "ipython3",
   "version": "3.9.16"
  }
 },
 "nbformat": 4,
 "nbformat_minor": 5
}
